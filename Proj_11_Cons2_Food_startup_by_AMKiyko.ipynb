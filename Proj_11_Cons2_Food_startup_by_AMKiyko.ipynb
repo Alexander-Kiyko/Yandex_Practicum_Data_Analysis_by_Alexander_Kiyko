{
 "cells": [
  {
   "cell_type": "markdown",
   "id": "982c18d4",
   "metadata": {},
   "source": [
    "# Сборный Проект 2. Исследование пользовательского поведения:               \n",
    "#                                   анализ воронки событий и A/A/B-тестирования."
   ]
  },
  {
   "cell_type": "markdown",
   "id": "b75d9224",
   "metadata": {},
   "source": [
    " "
   ]
  },
  {
   "cell_type": "markdown",
   "id": "b3395a19",
   "metadata": {},
   "source": [
    "Проект заказан стартапом, продающим продукты питания. \n",
    "\n",
    "##### Задача 1: Необходимо разобраться, как ведут себя пользователи мобильного приложения заказчика.\n",
    "\n",
    "Для этого нужно            \n",
    "• изучить воронку продаж,       \n",
    "• узнать, как пользователи доходят до покупки;     \n",
    "• сколько пользователей доходит до покупки,       \n",
    "• сколько пользователе «застревает» на предыдущих шагах и на каких именно.\n",
    "\n",
    "\n",
    "Кроме того дизайнеры заказчика захотели поменять шрифты во всём приложении, а менеджеры опасаются, что пользователям будет непривычно. Они договорились принять решение по результатам A/A/B-теста.    \n",
    "Пользователей разбили на 3 группы: 2 контрольные со старыми шрифтами и одну экспериментальную — с новыми. \n",
    "\n",
    "##### Задача 2: Необходимо проанализировать результаты проведенного A/A/B-теста и выяснить какой шрифт лучше.\n",
    " \n",
    "В случае общей аналитики и случае A/A/B-эксперимента работать нужно с одними и теми же данными, записанными в логе /datasets/logs_exp.csv . \n",
    "\n",
    "Каждая запись в логе — это действие пользователя, или событие. Датасет содержит следующие характеристики событий:\n",
    "\n",
    "•\tEventName — название события;             \n",
    "•\tDeviceIDHash — уникальный идентификатор пользователя;       \n",
    "•\tEventTimestamp — время события;               \n",
    "•\tExpId — номер эксперимента: 246 и 247 — контрольные группы, а 248 — экспериментальная."
   ]
  },
  {
   "cell_type": "markdown",
   "id": "6c3f9c2b",
   "metadata": {},
   "source": [
    "### Оглавление:\n",
    "\n",
    "#### Шаг 1. Загрузка и общий взгляд на данные\n",
    "\n",
    "#### Шаг 2. Подготовка данных к анализу\n",
    "\n",
    "#### Шаг 3. Исследовательский анализ данных\n",
    "\n",
    "#### Шаг 4. Построение воронки событий\n",
    "\n",
    "#### Шаг 5. Изучение результатов эксперимента\n",
    "\n",
    "#### Шаг 6. Общий вывод по результатам анализа\n",
    "    "
   ]
  },
  {
   "cell_type": "markdown",
   "id": "9439065b",
   "metadata": {},
   "source": [
    " \n",
    "  \n",
    "  "
   ]
  },
  {
   "cell_type": "markdown",
   "id": "1b43e8b6",
   "metadata": {},
   "source": [
    "## Шаг 1. Загрузка и общий взгляд на данные"
   ]
  },
  {
   "cell_type": "markdown",
   "id": "51d5b35a",
   "metadata": {},
   "source": [
    "\n"
   ]
  },
  {
   "cell_type": "markdown",
   "id": "7523fb29",
   "metadata": {},
   "source": [
    "Импортируем библиотеки, которые по всей видимости будут нужны "
   ]
  },
  {
   "cell_type": "code",
   "execution_count": 7,
   "id": "6f85e3c9",
   "metadata": {},
   "outputs": [],
   "source": [
    "import pandas as pd\n",
    "import numpy as np\n",
    "import datetime as dt\n",
    "import matplotlib.pyplot as plt\n",
    "import scipy.stats as st\n",
    "import math as mth"
   ]
  },
  {
   "cell_type": "markdown",
   "id": "74bc271b",
   "metadata": {},
   "source": [
    "В соответствии с описанием проекта весь имеющийся у нас набор данных расположен в одном датасете logs_exp.csv, в котором 4 столбца, названия и суть которых описана выше."
   ]
  },
  {
   "cell_type": "markdown",
   "id": "c828a04e",
   "metadata": {},
   "source": [
    "Прочтем исходный файл с данными     \n",
    "(try...except для того, чтобы можно было читать файл не только локально, но и из общего хранилища). "
   ]
  },
  {
   "cell_type": "code",
   "execution_count": 8,
   "id": "ee055701",
   "metadata": {},
   "outputs": [],
   "source": [
    "try:\n",
    "    logs_exp = pd.read_csv('logs_exp.csv', sep='\\t')\n",
    "        \n",
    "except:\n",
    "    logs_exp = pd.read_csv('/datasets/logs_exp.csv', sep='\\t')"
   ]
  },
  {
   "cell_type": "markdown",
   "id": "b8f4c286",
   "metadata": {},
   "source": [
    "Посмотрим общую информацию о имеющихся в нашем распоряжении датафрейме:           \n",
    "сколько строк в столбцах, много ли пропусков и в каких столбцах, какие у данных типы и насколько это совпадатет с сутью cамих данных.           \n",
    "А так-же взглянем как выглядят \"голова\" и \"хвост\" датафрейма."
   ]
  },
  {
   "cell_type": "code",
   "execution_count": 9,
   "id": "8b90fb59",
   "metadata": {},
   "outputs": [],
   "source": [
    "# задаем формат вывода столбцов полностью\n",
    "pd.set_option('display.max_colwidth', False)"
   ]
  },
  {
   "cell_type": "code",
   "execution_count": 10,
   "id": "614fb3e6",
   "metadata": {},
   "outputs": [
    {
     "data": {
      "text/html": [
       "<div>\n",
       "<style scoped>\n",
       "    .dataframe tbody tr th:only-of-type {\n",
       "        vertical-align: middle;\n",
       "    }\n",
       "\n",
       "    .dataframe tbody tr th {\n",
       "        vertical-align: top;\n",
       "    }\n",
       "\n",
       "    .dataframe thead th {\n",
       "        text-align: right;\n",
       "    }\n",
       "</style>\n",
       "<table border=\"1\" class=\"dataframe\">\n",
       "  <thead>\n",
       "    <tr style=\"text-align: right;\">\n",
       "      <th></th>\n",
       "      <th>EventName</th>\n",
       "      <th>DeviceIDHash</th>\n",
       "      <th>EventTimestamp</th>\n",
       "      <th>ExpId</th>\n",
       "    </tr>\n",
       "  </thead>\n",
       "  <tbody>\n",
       "    <tr>\n",
       "      <th>0</th>\n",
       "      <td>MainScreenAppear</td>\n",
       "      <td>4575588528974610257</td>\n",
       "      <td>1564029816</td>\n",
       "      <td>246</td>\n",
       "    </tr>\n",
       "    <tr>\n",
       "      <th>1</th>\n",
       "      <td>MainScreenAppear</td>\n",
       "      <td>7416695313311560658</td>\n",
       "      <td>1564053102</td>\n",
       "      <td>246</td>\n",
       "    </tr>\n",
       "    <tr>\n",
       "      <th>2</th>\n",
       "      <td>PaymentScreenSuccessful</td>\n",
       "      <td>3518123091307005509</td>\n",
       "      <td>1564054127</td>\n",
       "      <td>248</td>\n",
       "    </tr>\n",
       "    <tr>\n",
       "      <th>3</th>\n",
       "      <td>CartScreenAppear</td>\n",
       "      <td>3518123091307005509</td>\n",
       "      <td>1564054127</td>\n",
       "      <td>248</td>\n",
       "    </tr>\n",
       "    <tr>\n",
       "      <th>4</th>\n",
       "      <td>PaymentScreenSuccessful</td>\n",
       "      <td>6217807653094995999</td>\n",
       "      <td>1564055322</td>\n",
       "      <td>248</td>\n",
       "    </tr>\n",
       "  </tbody>\n",
       "</table>\n",
       "</div>"
      ],
      "text/plain": [
       "                 EventName         DeviceIDHash  EventTimestamp  ExpId\n",
       "0  MainScreenAppear         4575588528974610257  1564029816      246  \n",
       "1  MainScreenAppear         7416695313311560658  1564053102      246  \n",
       "2  PaymentScreenSuccessful  3518123091307005509  1564054127      248  \n",
       "3  CartScreenAppear         3518123091307005509  1564054127      248  \n",
       "4  PaymentScreenSuccessful  6217807653094995999  1564055322      248  "
      ]
     },
     "metadata": {},
     "output_type": "display_data"
    },
    {
     "data": {
      "text/html": [
       "<div>\n",
       "<style scoped>\n",
       "    .dataframe tbody tr th:only-of-type {\n",
       "        vertical-align: middle;\n",
       "    }\n",
       "\n",
       "    .dataframe tbody tr th {\n",
       "        vertical-align: top;\n",
       "    }\n",
       "\n",
       "    .dataframe thead th {\n",
       "        text-align: right;\n",
       "    }\n",
       "</style>\n",
       "<table border=\"1\" class=\"dataframe\">\n",
       "  <thead>\n",
       "    <tr style=\"text-align: right;\">\n",
       "      <th></th>\n",
       "      <th>EventName</th>\n",
       "      <th>DeviceIDHash</th>\n",
       "      <th>EventTimestamp</th>\n",
       "      <th>ExpId</th>\n",
       "    </tr>\n",
       "  </thead>\n",
       "  <tbody>\n",
       "    <tr>\n",
       "      <th>244121</th>\n",
       "      <td>MainScreenAppear</td>\n",
       "      <td>4599628364049201812</td>\n",
       "      <td>1565212345</td>\n",
       "      <td>247</td>\n",
       "    </tr>\n",
       "    <tr>\n",
       "      <th>244122</th>\n",
       "      <td>MainScreenAppear</td>\n",
       "      <td>5849806612437486590</td>\n",
       "      <td>1565212439</td>\n",
       "      <td>246</td>\n",
       "    </tr>\n",
       "    <tr>\n",
       "      <th>244123</th>\n",
       "      <td>MainScreenAppear</td>\n",
       "      <td>5746969938801999050</td>\n",
       "      <td>1565212483</td>\n",
       "      <td>246</td>\n",
       "    </tr>\n",
       "    <tr>\n",
       "      <th>244124</th>\n",
       "      <td>MainScreenAppear</td>\n",
       "      <td>5746969938801999050</td>\n",
       "      <td>1565212498</td>\n",
       "      <td>246</td>\n",
       "    </tr>\n",
       "    <tr>\n",
       "      <th>244125</th>\n",
       "      <td>OffersScreenAppear</td>\n",
       "      <td>5746969938801999050</td>\n",
       "      <td>1565212517</td>\n",
       "      <td>246</td>\n",
       "    </tr>\n",
       "  </tbody>\n",
       "</table>\n",
       "</div>"
      ],
      "text/plain": [
       "                 EventName         DeviceIDHash  EventTimestamp  ExpId\n",
       "244121  MainScreenAppear    4599628364049201812  1565212345      247  \n",
       "244122  MainScreenAppear    5849806612437486590  1565212439      246  \n",
       "244123  MainScreenAppear    5746969938801999050  1565212483      246  \n",
       "244124  MainScreenAppear    5746969938801999050  1565212498      246  \n",
       "244125  OffersScreenAppear  5746969938801999050  1565212517      246  "
      ]
     },
     "metadata": {},
     "output_type": "display_data"
    }
   ],
   "source": [
    "# смотрим как выглядит начало и конец датафрейма\n",
    "display(logs_exp.head())\n",
    "display(logs_exp.tail())"
   ]
  },
  {
   "cell_type": "code",
   "execution_count": 11,
   "id": "e087b35a",
   "metadata": {},
   "outputs": [
    {
     "name": "stdout",
     "output_type": "stream",
     "text": [
      "<class 'pandas.core.frame.DataFrame'>\n",
      "RangeIndex: 244126 entries, 0 to 244125\n",
      "Data columns (total 4 columns):\n",
      " #   Column          Non-Null Count   Dtype \n",
      "---  ------          --------------   ----- \n",
      " 0   EventName       244126 non-null  object\n",
      " 1   DeviceIDHash    244126 non-null  int64 \n",
      " 2   EventTimestamp  244126 non-null  int64 \n",
      " 3   ExpId           244126 non-null  int64 \n",
      "dtypes: int64(3), object(1)\n",
      "memory usage: 7.5+ MB\n"
     ]
    }
   ],
   "source": [
    "# смотрим что из себя представляют данные в датафрейме\n",
    "logs_exp.info()"
   ]
  },
  {
   "cell_type": "code",
   "execution_count": 12,
   "id": "c221d68c",
   "metadata": {},
   "outputs": [
    {
     "data": {
      "text/plain": [
       "EventName         5     \n",
       "DeviceIDHash      7551  \n",
       "EventTimestamp    176654\n",
       "ExpId             3     \n",
       "dtype: int64"
      ]
     },
     "execution_count": 12,
     "metadata": {},
     "output_type": "execute_result"
    }
   ],
   "source": [
    "logs_exp.nunique()"
   ]
  },
  {
   "cell_type": "code",
   "execution_count": 13,
   "id": "6f6d6f0d",
   "metadata": {},
   "outputs": [
    {
     "data": {
      "text/plain": [
       "array([246, 248, 247], dtype=int64)"
      ]
     },
     "execution_count": 13,
     "metadata": {},
     "output_type": "execute_result"
    }
   ],
   "source": [
    "logs_exp['ExpId'].unique()"
   ]
  },
  {
   "cell_type": "code",
   "execution_count": 14,
   "id": "ba1d8d2e",
   "metadata": {},
   "outputs": [
    {
     "data": {
      "text/plain": [
       "array(['MainScreenAppear', 'PaymentScreenSuccessful', 'CartScreenAppear',\n",
       "       'OffersScreenAppear', 'Tutorial'], dtype=object)"
      ]
     },
     "execution_count": 14,
     "metadata": {},
     "output_type": "execute_result"
    }
   ],
   "source": [
    "logs_exp['EventName'].unique()"
   ]
  },
  {
   "cell_type": "markdown",
   "id": "b00da00a",
   "metadata": {},
   "source": [
    "##### Видим:\n",
    "\n",
    "1. В датасете 4 столбца, что совпадает с описанием проекта:                 \n",
    "       • EventName — название события;           \n",
    "       • DeviceIDHash — уникальный идентификатор пользователя;              \n",
    "       • EventTimestamp — время события;                    \n",
    "       • ExpId — номер эксперимента, характеризующий разбиение пользователей по группам.\n",
    "       \n",
    "   Наименования столбцов не очень удобны для понимания и не соответствуют стилю. Хорошо бы поменять названия на следующие:       \n",
    "       • event — название события;           \n",
    "       • user — уникальный идентификатор пользователя;              \n",
    "       • timestamp — время события;                    \n",
    "       • group — номер эксперимента, характеризующий разбиение пользователей по группам.\n",
    "       \n",
    "   Кроме того хорошо было бы добавить еще и отдельный столбец с датой, чтобы не выделять каждый раз при необходимости дату из      столбца timestamp. Столбец с датой - date.\n",
    "\n",
    "2. В датасете столбцы имеют следующие типы:                 \n",
    "       • EventName — object то есть символьная строка. Это соответствует сути данных - названию события;           \n",
    "       • DeviceIDHash — имеет тип целочисленного значения int64, что отражает уникальный идентификатор пользователя;             \n",
    "       • EventTimestamp — тип данных показан как int64, а по сути - время события. Нужно будет поменять на DateTime. Но                  предварительно нужно разобраться в формате записи даты и времени, поскольку навскидку по виду данных, представленных в          начале и конце датафрейма понять что за таймстемпы не получается;             \n",
    "       • ExpId — тип также int64, а по сути - идентификатор группы. По хорошему можно было бы заменить, однако цифровая                  идентификация группы не портит восприятия, она судя по всему привычна заказчику, му проверили - в столбце только три            значения: 246 - что соответствует группе А1, 247 - что соответствует группе А2 и 248 - что соответствует группе В. Так          что менять тип, а так-же переименовывать значения в этом столбце не будем, чтобы разговаривать впоследствии с                    заказчиком на одном языке.\n",
    "        \n",
    "3. Датафрейм содержит 244 тысячи 126 строк - по общему количеству событий. При этом уникальных          \n",
    "       • EventName — названий событий всего 5. Это по всей видимости\n",
    "               - 'MainScreenAppear' - просмотр пользователем основного экрана,\n",
    "               - 'Tutorial' - просмотр пользователем страницы с руководством по использованию приложения,\n",
    "               - 'OffersScreenAppear' - просмотр пользователем предложения конкрентого продукта (или группы продуктов),\n",
    "               - 'CartScreenAppear' - переход пользователя корзине товаров,\n",
    "               - 'PaymentScreenSuccessful' - успешное завершение пользователем оплаты товаров.\n",
    "         Названия событий не соответствуют \"питоновскому\" стилю, однако собственно данных этот по названиям они интуитиыно                понятны, вполне различимы, понятны заказчику: так что это вполне допустимо и преобразовывать их не будем.       \n",
    "       • DeviceIDHash — уникальных пользователей - 7 тысч 551 человек;              \n",
    "       • EventTimestamp — время события. Их всего 176 тысяч 654 (из 244126). По всей видимости былиодновременные  события с              точностью до минуты (или до секунды). Однако однозначно с этим разобраться можно будет только посте перевода этого              столбца в \"временной\" формат;                    \n",
    "       • ExpId — идентификатор группы - как мы уже отмечали имеет три уникальных значения, соответствующие группе в А/А/В тесте.\n",
    "         В процессе предобработки данных нужно будет проверить насколько равномерно/пропорционально распределены данные по                группам.\n",
    "\n",
    "4. В завершение заметим, что смотреть на основные численные параметры этого датафрейма при помощи метода describe() в данном        случае нет смысла, поскольку данные, которые представлены в датафрейме числами по сути являются категориальными и их числовые    параметры, которые вывоит метод describe() (среднее, медиана и т.д.) не имеют смысла."
   ]
  },
  {
   "cell_type": "markdown",
   "id": "443375ad",
   "metadata": {},
   "source": [
    " \n",
    "  \n",
    "  "
   ]
  },
  {
   "cell_type": "markdown",
   "id": "8e686bd8",
   "metadata": {},
   "source": [
    "## Шаг 2. Подготовка данных к анализу"
   ]
  },
  {
   "cell_type": "markdown",
   "id": "547cdceb",
   "metadata": {},
   "source": [
    "\n"
   ]
  },
  {
   "cell_type": "code",
   "execution_count": 15,
   "id": "d4015749",
   "metadata": {},
   "outputs": [
    {
     "data": {
      "text/html": [
       "<div>\n",
       "<style scoped>\n",
       "    .dataframe tbody tr th:only-of-type {\n",
       "        vertical-align: middle;\n",
       "    }\n",
       "\n",
       "    .dataframe tbody tr th {\n",
       "        vertical-align: top;\n",
       "    }\n",
       "\n",
       "    .dataframe thead th {\n",
       "        text-align: right;\n",
       "    }\n",
       "</style>\n",
       "<table border=\"1\" class=\"dataframe\">\n",
       "  <thead>\n",
       "    <tr style=\"text-align: right;\">\n",
       "      <th></th>\n",
       "      <th>EventName</th>\n",
       "      <th>DeviceIDHash</th>\n",
       "      <th>EventTimestamp</th>\n",
       "      <th>ExpId</th>\n",
       "    </tr>\n",
       "  </thead>\n",
       "  <tbody>\n",
       "    <tr>\n",
       "      <th>0</th>\n",
       "      <td>MainScreenAppear</td>\n",
       "      <td>4575588528974610257</td>\n",
       "      <td>1564029816</td>\n",
       "      <td>246</td>\n",
       "    </tr>\n",
       "    <tr>\n",
       "      <th>1</th>\n",
       "      <td>MainScreenAppear</td>\n",
       "      <td>7416695313311560658</td>\n",
       "      <td>1564053102</td>\n",
       "      <td>246</td>\n",
       "    </tr>\n",
       "  </tbody>\n",
       "</table>\n",
       "</div>"
      ],
      "text/plain": [
       "          EventName         DeviceIDHash  EventTimestamp  ExpId\n",
       "0  MainScreenAppear  4575588528974610257  1564029816      246  \n",
       "1  MainScreenAppear  7416695313311560658  1564053102      246  "
      ]
     },
     "metadata": {},
     "output_type": "display_data"
    },
    {
     "data": {
      "text/html": [
       "<div>\n",
       "<style scoped>\n",
       "    .dataframe tbody tr th:only-of-type {\n",
       "        vertical-align: middle;\n",
       "    }\n",
       "\n",
       "    .dataframe tbody tr th {\n",
       "        vertical-align: top;\n",
       "    }\n",
       "\n",
       "    .dataframe thead th {\n",
       "        text-align: right;\n",
       "    }\n",
       "</style>\n",
       "<table border=\"1\" class=\"dataframe\">\n",
       "  <thead>\n",
       "    <tr style=\"text-align: right;\">\n",
       "      <th></th>\n",
       "      <th>EventName</th>\n",
       "      <th>DeviceIDHash</th>\n",
       "      <th>EventTimestamp</th>\n",
       "      <th>ExpId</th>\n",
       "    </tr>\n",
       "  </thead>\n",
       "  <tbody>\n",
       "    <tr>\n",
       "      <th>244124</th>\n",
       "      <td>MainScreenAppear</td>\n",
       "      <td>5746969938801999050</td>\n",
       "      <td>1565212498</td>\n",
       "      <td>246</td>\n",
       "    </tr>\n",
       "    <tr>\n",
       "      <th>244125</th>\n",
       "      <td>OffersScreenAppear</td>\n",
       "      <td>5746969938801999050</td>\n",
       "      <td>1565212517</td>\n",
       "      <td>246</td>\n",
       "    </tr>\n",
       "  </tbody>\n",
       "</table>\n",
       "</div>"
      ],
      "text/plain": [
       "                 EventName         DeviceIDHash  EventTimestamp  ExpId\n",
       "244124  MainScreenAppear    5746969938801999050  1565212498      246  \n",
       "244125  OffersScreenAppear  5746969938801999050  1565212517      246  "
      ]
     },
     "metadata": {},
     "output_type": "display_data"
    }
   ],
   "source": [
    "display(logs_exp.head(2))\n",
    "display(logs_exp.tail(2))"
   ]
  },
  {
   "cell_type": "markdown",
   "id": "d95c1ebf",
   "metadata": {},
   "source": [
    "Сначала переименуем столбцы датафрейма logs_exp"
   ]
  },
  {
   "cell_type": "code",
   "execution_count": 16,
   "id": "8021a153",
   "metadata": {},
   "outputs": [
    {
     "data": {
      "text/plain": [
       "Index(['event', 'user', 'timestamp', 'group'], dtype='object')"
      ]
     },
     "execution_count": 16,
     "metadata": {},
     "output_type": "execute_result"
    }
   ],
   "source": [
    "# присваиваем столбцам новые названия\n",
    "logs_exp.columns = ['event', 'user', 'timestamp', 'group']\n",
    "\n",
    "# смотрим что получилось\n",
    "logs_exp.columns"
   ]
  },
  {
   "cell_type": "markdown",
   "id": "888999ef",
   "metadata": {},
   "source": [
    "Наименования столбцов выглядят как мы задумывали.\n",
    "\n",
    "Теперь изменим тип данных для столбца 'timestamp'.              \n",
    "Судя по тому, что данные в этом столбце имеют тип int и то, что они имеют 10 знаков и лежат в \"достаточно конкретном\" диапазоне (от 15640..... до 15652.....) можно предположить, что перед нами с unix-время ( то есть количество секунд, прошедших с полуночи 1 января 1970 года).        \n",
    "Преобразуем  данные в тип datetime, исходя из этого предположения."
   ]
  },
  {
   "cell_type": "code",
   "execution_count": 17,
   "id": "5e749f57",
   "metadata": {},
   "outputs": [
    {
     "data": {
      "text/plain": [
       "dtype('<M8[ns]')"
      ]
     },
     "metadata": {},
     "output_type": "display_data"
    },
    {
     "data": {
      "text/html": [
       "<div>\n",
       "<style scoped>\n",
       "    .dataframe tbody tr th:only-of-type {\n",
       "        vertical-align: middle;\n",
       "    }\n",
       "\n",
       "    .dataframe tbody tr th {\n",
       "        vertical-align: top;\n",
       "    }\n",
       "\n",
       "    .dataframe thead th {\n",
       "        text-align: right;\n",
       "    }\n",
       "</style>\n",
       "<table border=\"1\" class=\"dataframe\">\n",
       "  <thead>\n",
       "    <tr style=\"text-align: right;\">\n",
       "      <th></th>\n",
       "      <th>event</th>\n",
       "      <th>user</th>\n",
       "      <th>timestamp</th>\n",
       "      <th>group</th>\n",
       "    </tr>\n",
       "  </thead>\n",
       "  <tbody>\n",
       "    <tr>\n",
       "      <th>0</th>\n",
       "      <td>MainScreenAppear</td>\n",
       "      <td>4575588528974610257</td>\n",
       "      <td>2019-07-25 04:43:36</td>\n",
       "      <td>246</td>\n",
       "    </tr>\n",
       "    <tr>\n",
       "      <th>1</th>\n",
       "      <td>MainScreenAppear</td>\n",
       "      <td>7416695313311560658</td>\n",
       "      <td>2019-07-25 11:11:42</td>\n",
       "      <td>246</td>\n",
       "    </tr>\n",
       "  </tbody>\n",
       "</table>\n",
       "</div>"
      ],
      "text/plain": [
       "              event                 user           timestamp  group\n",
       "0  MainScreenAppear  4575588528974610257 2019-07-25 04:43:36  246  \n",
       "1  MainScreenAppear  7416695313311560658 2019-07-25 11:11:42  246  "
      ]
     },
     "metadata": {},
     "output_type": "display_data"
    }
   ],
   "source": [
    "# преобразуем к типу datetime\n",
    "logs_exp['timestamp'] = pd.to_datetime(logs_exp['timestamp'], unit='s')\n",
    "\n",
    "# смотрим что получилось\n",
    "display(logs_exp['timestamp'].dtype)\n",
    "display(logs_exp.head(2))\n",
    "#display(logs_exp.tail(2))"
   ]
  },
  {
   "cell_type": "markdown",
   "id": "54ab2461",
   "metadata": {},
   "source": [
    "Временные метки событий преобразованы похоже в првильный формат.            \n",
    "\n",
    "Добавим сразу в датафрейм еще один столбец с датой события (с типом datetime)"
   ]
  },
  {
   "cell_type": "code",
   "execution_count": 18,
   "id": "b0cff44c",
   "metadata": {},
   "outputs": [
    {
     "data": {
      "text/plain": [
       "dtype('<M8[ns]')"
      ]
     },
     "metadata": {},
     "output_type": "display_data"
    },
    {
     "data": {
      "text/html": [
       "<div>\n",
       "<style scoped>\n",
       "    .dataframe tbody tr th:only-of-type {\n",
       "        vertical-align: middle;\n",
       "    }\n",
       "\n",
       "    .dataframe tbody tr th {\n",
       "        vertical-align: top;\n",
       "    }\n",
       "\n",
       "    .dataframe thead th {\n",
       "        text-align: right;\n",
       "    }\n",
       "</style>\n",
       "<table border=\"1\" class=\"dataframe\">\n",
       "  <thead>\n",
       "    <tr style=\"text-align: right;\">\n",
       "      <th></th>\n",
       "      <th>event</th>\n",
       "      <th>user</th>\n",
       "      <th>timestamp</th>\n",
       "      <th>group</th>\n",
       "      <th>date</th>\n",
       "    </tr>\n",
       "  </thead>\n",
       "  <tbody>\n",
       "    <tr>\n",
       "      <th>0</th>\n",
       "      <td>MainScreenAppear</td>\n",
       "      <td>4575588528974610257</td>\n",
       "      <td>2019-07-25 04:43:36</td>\n",
       "      <td>246</td>\n",
       "      <td>2019-07-25</td>\n",
       "    </tr>\n",
       "  </tbody>\n",
       "</table>\n",
       "</div>"
      ],
      "text/plain": [
       "              event                 user           timestamp  group       date\n",
       "0  MainScreenAppear  4575588528974610257 2019-07-25 04:43:36  246   2019-07-25"
      ]
     },
     "metadata": {},
     "output_type": "display_data"
    }
   ],
   "source": [
    "# добавляем столбец с датой события\n",
    "logs_exp['date'] = logs_exp['timestamp'].dt.normalize()\n",
    "\n",
    "# смотрим что получилось\n",
    "display(logs_exp['date'].dtype)\n",
    "display(logs_exp.head(1))"
   ]
  },
  {
   "cell_type": "markdown",
   "id": "82e607e7",
   "metadata": {},
   "source": [
    "Со столбцами времени и даты все в порядке.           \n",
    "Поскольку ранее мы договорились, что в остальных столбцах типы данных можно не преобразовывать, то считаем, что с типами данных мы разобрались.\n",
    "\n",
    "Проверим теперь есть ли пропуски в данных"
   ]
  },
  {
   "cell_type": "code",
   "execution_count": 19,
   "id": "20083a39",
   "metadata": {},
   "outputs": [
    {
     "data": {
      "text/plain": [
       "event        0\n",
       "user         0\n",
       "timestamp    0\n",
       "group        0\n",
       "date         0\n",
       "dtype: int64"
      ]
     },
     "execution_count": 19,
     "metadata": {},
     "output_type": "execute_result"
    }
   ],
   "source": [
    "logs_exp.isna().sum()"
   ]
  },
  {
   "cell_type": "markdown",
   "id": "610124ae",
   "metadata": {},
   "source": [
    "Пропусков в данных нет.\n",
    "\n",
    "Посмотрим есть ли дубликаты"
   ]
  },
  {
   "cell_type": "code",
   "execution_count": 20,
   "id": "aa12d8c1",
   "metadata": {},
   "outputs": [
    {
     "data": {
      "text/plain": [
       "413"
      ]
     },
     "execution_count": 20,
     "metadata": {},
     "output_type": "execute_result"
    }
   ],
   "source": [
    "logs_exp.duplicated().sum()"
   ]
  },
  {
   "cell_type": "markdown",
   "id": "e6c72f63",
   "metadata": {},
   "source": [
    "Видим, что 413 строк - это дубликаты.           \n",
    "Поскольку всего у нас в датафрейме 244126 - можно считать, что на этом фоне 413 строк - это исчезающе малое количество.   \n",
    "Значит их удаление не должно повлиять на общую репрезентативность выборки.\n",
    "\n",
    "Удалим дубликаты"
   ]
  },
  {
   "cell_type": "code",
   "execution_count": 21,
   "id": "76fb719d",
   "metadata": {},
   "outputs": [
    {
     "name": "stdout",
     "output_type": "stream",
     "text": [
      "0\n",
      "\n",
      "<class 'pandas.core.frame.DataFrame'>\n",
      "RangeIndex: 243713 entries, 0 to 243712\n",
      "Data columns (total 5 columns):\n",
      " #   Column     Non-Null Count   Dtype         \n",
      "---  ------     --------------   -----         \n",
      " 0   event      243713 non-null  object        \n",
      " 1   user       243713 non-null  int64         \n",
      " 2   timestamp  243713 non-null  datetime64[ns]\n",
      " 3   group      243713 non-null  int64         \n",
      " 4   date       243713 non-null  datetime64[ns]\n",
      "dtypes: datetime64[ns](2), int64(2), object(1)\n",
      "memory usage: 9.3+ MB\n"
     ]
    }
   ],
   "source": [
    "# удаляем дубликаты\n",
    "logs_exp = logs_exp.drop_duplicates().reset_index(drop=True)\n",
    "\n",
    "# смотрим что получилось\n",
    "print(logs_exp.duplicated().sum())\n",
    "print()\n",
    "logs_exp.info()"
   ]
  },
  {
   "cell_type": "markdown",
   "id": "ad80c4b5",
   "metadata": {},
   "source": [
    "Дубликатов нет.        \n",
    "В рассмотрении у нас осталось 243 тысячи 713 строк (событий).\n",
    "\n",
    "Посмотрим как распределены данные по группам 246 (А1), 247 (А2) и 248 (В)"
   ]
  },
  {
   "cell_type": "code",
   "execution_count": 22,
   "id": "c3132958",
   "metadata": {},
   "outputs": [
    {
     "name": "stdout",
     "output_type": "stream",
     "text": [
      "группа 246 = А1 - 80181 событий\n",
      "группа 247 = А2 - 77950 событий\n",
      "группа 248 = В  - 85582 событий\n"
     ]
    }
   ],
   "source": [
    "print('группа 246 = А1 -', logs_exp[logs_exp['group'] == 246].value_counts().sum(), 'событий', sep=' ')\n",
    "print('группа 247 = А2 -', logs_exp[logs_exp['group'] == 247].value_counts().sum(), 'событий', sep=' ')\n",
    "print('группа 248 = В  -', logs_exp[logs_exp['group'] == 248].value_counts().sum(), 'событий', sep=' ')"
   ]
  },
  {
   "cell_type": "markdown",
   "id": "f4c8584c",
   "metadata": {},
   "source": [
    "Суммарное количество событий для пользователей из групп А1, А2 и В составляет 80181 + 77950 + 85582 = 243713, что совпадает с полным количеством строк в датафрейме. Значит никаких \"посторонних\" данных нет.       \n",
    "При этом хоть количество событий в группах и отличается, но незначительно: на 7632 масобытия максимум, то есть не более, чем на  9,8%."
   ]
  },
  {
   "cell_type": "markdown",
   "id": "e80ce3de",
   "metadata": {},
   "source": [
    "###### Будем считать, что подготовку данных к анализу мы успешно завершили."
   ]
  },
  {
   "cell_type": "markdown",
   "id": "ed162d9d",
   "metadata": {},
   "source": [
    " \n",
    "  \n",
    "  "
   ]
  },
  {
   "cell_type": "markdown",
   "id": "89b8576f",
   "metadata": {},
   "source": [
    "## Шаг 3. Исследовательский анализ данных"
   ]
  },
  {
   "cell_type": "markdown",
   "id": "0dea4c0b",
   "metadata": {},
   "source": [
    "\n"
   ]
  },
  {
   "cell_type": "markdown",
   "id": "692fb2d9",
   "metadata": {},
   "source": [
    "Данные у нас в датафрейме logs_exp. \n",
    "\n",
    "Посмотрим на его параметры."
   ]
  },
  {
   "cell_type": "code",
   "execution_count": 23,
   "id": "c0432840",
   "metadata": {},
   "outputs": [
    {
     "name": "stdout",
     "output_type": "stream",
     "text": [
      "<class 'pandas.core.frame.DataFrame'>\n",
      "RangeIndex: 243713 entries, 0 to 243712\n",
      "Data columns (total 5 columns):\n",
      " #   Column     Non-Null Count   Dtype         \n",
      "---  ------     --------------   -----         \n",
      " 0   event      243713 non-null  object        \n",
      " 1   user       243713 non-null  int64         \n",
      " 2   timestamp  243713 non-null  datetime64[ns]\n",
      " 3   group      243713 non-null  int64         \n",
      " 4   date       243713 non-null  datetime64[ns]\n",
      "dtypes: datetime64[ns](2), int64(2), object(1)\n",
      "memory usage: 9.3+ MB\n"
     ]
    }
   ],
   "source": [
    "logs_exp.info()"
   ]
  },
  {
   "cell_type": "markdown",
   "id": "2bc241e5",
   "metadata": {},
   "source": [
    "Можно сказать, что всего событий в наших данных 243713 и данные по ним полны (как мы уже выяснили ранее).\n",
    "\n",
    "Посмотрим сколько уникальных значений в датафрейме: типов событий, пользователей, групп и дат проведения эксперимента."
   ]
  },
  {
   "cell_type": "code",
   "execution_count": 24,
   "id": "68553530",
   "metadata": {},
   "outputs": [
    {
     "data": {
      "text/plain": [
       "event        5     \n",
       "user         7551  \n",
       "timestamp    176654\n",
       "group        3     \n",
       "date         14    \n",
       "dtype: int64"
      ]
     },
     "execution_count": 24,
     "metadata": {},
     "output_type": "execute_result"
    }
   ],
   "source": [
    "logs_exp.nunique()"
   ]
  },
  {
   "cell_type": "markdown",
   "id": "91ea2221",
   "metadata": {},
   "source": [
    "Эксперимент длился две недели, в нем участвовали семь с половиной тысяч пользователей, которые были разбиты на три группы.     \n",
    "\n",
    "Типов событий 5. Посмотрим распределено общее количество событий (которое 243713) между различными типами."
   ]
  },
  {
   "cell_type": "code",
   "execution_count": 25,
   "id": "28d8a87d",
   "metadata": {},
   "outputs": [
    {
     "data": {
      "text/plain": [
       "event\n",
       "CartScreenAppear           42668 \n",
       "MainScreenAppear           119101\n",
       "OffersScreenAppear         46808 \n",
       "PaymentScreenSuccessful    34118 \n",
       "Tutorial                   1018  \n",
       "Name: event, dtype: int64"
      ]
     },
     "execution_count": 25,
     "metadata": {},
     "output_type": "execute_result"
    }
   ],
   "source": [
    "logs_exp.groupby('event')['event'].count()"
   ]
  },
  {
   "cell_type": "markdown",
   "id": "8e64e5b7",
   "metadata": {},
   "source": [
    "Посмотрим так-же на количество уникальных пользователей для каждого события ..."
   ]
  },
  {
   "cell_type": "code",
   "execution_count": 26,
   "id": "3d712cb3",
   "metadata": {},
   "outputs": [
    {
     "data": {
      "text/plain": [
       "event\n",
       "CartScreenAppear           3749\n",
       "MainScreenAppear           7439\n",
       "OffersScreenAppear         4613\n",
       "PaymentScreenSuccessful    3547\n",
       "Tutorial                   847 \n",
       "Name: user, dtype: int64"
      ]
     },
     "execution_count": 26,
     "metadata": {},
     "output_type": "execute_result"
    }
   ],
   "source": [
    "logs_exp.groupby('event')['user'].nunique()"
   ]
  },
  {
   "cell_type": "markdown",
   "id": "58448095",
   "metadata": {},
   "source": [
    "... и посчитаем сколько в среднем событий каждого типа приходилось на одного пользователя."
   ]
  },
  {
   "cell_type": "code",
   "execution_count": 27,
   "id": "38315989",
   "metadata": {},
   "outputs": [
    {
     "data": {
      "text/plain": [
       "event\n",
       "CartScreenAppear           11.381168\n",
       "MainScreenAppear           16.010351\n",
       "OffersScreenAppear         10.146976\n",
       "PaymentScreenSuccessful    9.618833 \n",
       "Tutorial                   1.201889 \n",
       "dtype: float64"
      ]
     },
     "execution_count": 27,
     "metadata": {},
     "output_type": "execute_result"
    }
   ],
   "source": [
    "# считаем среднее количество событий на пользователя\n",
    "events_per_user = logs_exp.groupby('event')['event'].count() / logs_exp.groupby('event')['user'].nunique()\n",
    "\n",
    "# смотрим что получилось\n",
    "events_per_user"
   ]
  },
  {
   "cell_type": "markdown",
   "id": "4fd83227",
   "metadata": {},
   "source": [
    "##### Таким образом:\n",
    "\n",
    "1. Датафрейм logs с 4-мя столбцами, корректно отражающими:                  \n",
    "- название события (строка),                \n",
    "- числовой дентификатор пользователя,                   \n",
    "- временную метку события,                 \n",
    "- дату события (и время и дата - в формате datetime),                         \n",
    "- и указатель группы, в которую входит пользователь (246=А1, 247=А2, 28=В).\n",
    "\n",
    "2. В датафрейме 243713 строк без пропусков и повторов. То есть в датафрейме описаны 243 тысячи 713 различных событий/действий всех пяти типов, которые мы описывали в начале:                               \n",
    "- просмотр пользователем страницы с руководством по использованию приложения (1018 событий),      \n",
    "- просмотр пользователем главной страницы приложения (119101 событие),                                \n",
    "- просмотр пользователем предложения конкрентого продукта или группы продуктов (46808 событий),                   \n",
    "- переход пользователя на страницу своей корзины товаров (42668 событий),                   \n",
    "- успешное завершение пользователем оплаты товаров из корзины (34118 событий).\n",
    "\n",
    "3. Уникальных дат в датафрейме всего 14. То есть эксперимент (весь набор наблюдений) проводился 14 дней (кстати необязательно подряд - это нужно будет еще уточнять).          \n",
    "При этом временных отметок только 176654. То есть насыщенность периода тестирования событиями была довольно высока: много (28%) событий совпали по времени до секунды.\n",
    "\n",
    "4. Уникальных пользователей, совершивших действия/события всего 7551 человек. Поскольку общее количество событий за исследуемый период в 14 дней равно 243713, то получается, что на каждого пользователя приходится в среднем 243713 / 7551 = 32.28  события. Это представляется довольно высокой интенсивностью использования \"торгового\" приложения.\n",
    "\n",
    "5. При этом \n",
    "- логично предположить, что вход в приложение начинается с главной страницы. Это дает основание сказать, что за 14 дней каждый пользователь в среднем заходил в приложение 16 раз, то есть 1.14 раза в день, что весьма неплохой показатель использования;\n",
    "- среднее количество просмотров главной страницы каждым уникальным пользователем в полтора раза выше, чем других страниц ( не     считая чтения \"руководства пользователя\" - 16 против 9.5-11.4;\n",
    "- показатели срезнего на пользователя просмотра страниц с продуктами (11.4 просмотра на пользователя), корзины выбранных           продуктов (10.2 просмотра) и успешной оплаты выбранных продуктов (9.6 просмотра) довольно близки друг к другу, что по всей       видимости дает основания говорить о хорошей конверсии по показателю \"от просмотра до оплаты\";\n",
    "- событий чтения руководства по использованию всего чуть больше одной тысячи и среднее количество таких просмотров на             пользователя составляет всего 1.2 раза. То есть по всей видимости люди знакомимлись с инструкцией один раз ( при первом         посещении) и больше к ней не обращались."
   ]
  },
  {
   "cell_type": "markdown",
   "id": "78b23efd",
   "metadata": {},
   "source": [
    "Посмотрим теперь на период, который мы анализируем. Как мы видели он состоит из 14 дней.            \n",
    "Проверим является ли этот набор дат \"единым\". Найдем начало и конец периода."
   ]
  },
  {
   "cell_type": "code",
   "execution_count": 28,
   "id": "99f01125",
   "metadata": {},
   "outputs": [
    {
     "name": "stdout",
     "output_type": "stream",
     "text": [
      "2019-07-25 00:00:00\n",
      "2019-08-07 00:00:00\n",
      "13 days 00:00:00\n"
     ]
    }
   ],
   "source": [
    "print(logs_exp['date'].min())\n",
    "print(logs_exp['date'].max())\n",
    "print(logs_exp['date'].max() - logs_exp['date'].min())"
   ]
  },
  {
   "cell_type": "markdown",
   "id": "0f30f327",
   "metadata": {},
   "source": [
    "Таким образом имеем период проведения эксперимента без перерывов с 25 июля 2019 года по 7 августа того же года."
   ]
  },
  {
   "cell_type": "markdown",
   "id": "f39f5783",
   "metadata": {},
   "source": [
    "Посмотрим насколько равномерно распределены данные по этому периоду: сколько событий приходится на один день."
   ]
  },
  {
   "cell_type": "code",
   "execution_count": 29,
   "id": "cbe42779",
   "metadata": {},
   "outputs": [
    {
     "data": {
      "text/plain": [
       "2019-07-25    9  \n",
       "2019-07-26    31 \n",
       "2019-07-27    55 \n",
       "2019-07-28    105\n",
       "2019-07-29    184\n",
       "Name: event, dtype: int64"
      ]
     },
     "execution_count": 29,
     "metadata": {},
     "output_type": "execute_result"
    }
   ],
   "source": [
    "events_per_date = logs_exp.groupby('date')['event'].count()\n",
    "events_per_date.index = events_per_date.index.date\n",
    "\n",
    "events_per_date.head()"
   ]
  },
  {
   "cell_type": "markdown",
   "id": "ec759bc6",
   "metadata": {},
   "source": [
    "Визуализируем столбчатой диаграммой"
   ]
  },
  {
   "cell_type": "code",
   "execution_count": 30,
   "id": "a84e23d3",
   "metadata": {
    "scrolled": false
   },
   "outputs": [
    {
     "data": {
      "image/png": "[encoded data removed]",
      "text/plain": [
       "<Figure size 1200x500 with 1 Axes>"
      ]
     },
     "metadata": {},
     "output_type": "display_data"
    }
   ],
   "source": [
    "events_per_date.plot.bar(label='all', figsize = (12,5))\n",
    "plt.grid(True)\n",
    "plt.title('Распределение количества событий по датам')\n",
    "plt.legend()\n",
    "plt.xlabel('Дата')\n",
    "plt.ylabel('Количество событий')\n",
    "plt.show()"
   ]
  },
  {
   "cell_type": "markdown",
   "id": "109a12fb",
   "metadata": {},
   "source": [
    "###### Видим,  \n",
    "что данные распределены крайне неравномерно:        \n",
    "•  первая половина срока эксперимента (с 25 по 31 июля включительно) - количество данных практически нулевое,          \n",
    "• а с 1 по 7 августа - по 30-35 тысяч событий в день.                  \n",
    "\n",
    "##### Таким образом по всей видимости приходится констатировать, что первая (из) неделя проведения теста абсолютно неинформативна."
   ]
  },
  {
   "cell_type": "markdown",
   "id": "f2a22288",
   "metadata": {},
   "source": [
    "Посмотрим как распределено количество событий по группам за этот период: сколько событий приходится на каждую группу в день."
   ]
  },
  {
   "cell_type": "code",
   "execution_count": 31,
   "id": "bc1b7ced",
   "metadata": {},
   "outputs": [
    {
     "data": {
      "text/html": [
       "<div>\n",
       "<style scoped>\n",
       "    .dataframe tbody tr th:only-of-type {\n",
       "        vertical-align: middle;\n",
       "    }\n",
       "\n",
       "    .dataframe tbody tr th {\n",
       "        vertical-align: top;\n",
       "    }\n",
       "\n",
       "    .dataframe thead th {\n",
       "        text-align: right;\n",
       "    }\n",
       "</style>\n",
       "<table border=\"1\" class=\"dataframe\">\n",
       "  <thead>\n",
       "    <tr style=\"text-align: right;\">\n",
       "      <th></th>\n",
       "      <th>2019-07-25</th>\n",
       "      <th>2019-07-26</th>\n",
       "      <th>2019-07-27</th>\n",
       "      <th>2019-07-28</th>\n",
       "      <th>2019-07-29</th>\n",
       "      <th>2019-07-30</th>\n",
       "      <th>2019-07-31</th>\n",
       "      <th>2019-08-01</th>\n",
       "      <th>2019-08-02</th>\n",
       "      <th>2019-08-03</th>\n",
       "      <th>2019-08-04</th>\n",
       "      <th>2019-08-05</th>\n",
       "      <th>2019-08-06</th>\n",
       "      <th>2019-08-07</th>\n",
       "    </tr>\n",
       "    <tr>\n",
       "      <th>group</th>\n",
       "      <th></th>\n",
       "      <th></th>\n",
       "      <th></th>\n",
       "      <th></th>\n",
       "      <th></th>\n",
       "      <th></th>\n",
       "      <th></th>\n",
       "      <th></th>\n",
       "      <th></th>\n",
       "      <th></th>\n",
       "      <th></th>\n",
       "      <th></th>\n",
       "      <th></th>\n",
       "      <th></th>\n",
       "    </tr>\n",
       "  </thead>\n",
       "  <tbody>\n",
       "    <tr>\n",
       "      <th>246</th>\n",
       "      <td>4</td>\n",
       "      <td>14</td>\n",
       "      <td>24</td>\n",
       "      <td>33</td>\n",
       "      <td>55</td>\n",
       "      <td>129</td>\n",
       "      <td>620</td>\n",
       "      <td>11561</td>\n",
       "      <td>10946</td>\n",
       "      <td>10575</td>\n",
       "      <td>11514</td>\n",
       "      <td>12368</td>\n",
       "      <td>11726</td>\n",
       "      <td>10612</td>\n",
       "    </tr>\n",
       "    <tr>\n",
       "      <th>247</th>\n",
       "      <td>1</td>\n",
       "      <td>8</td>\n",
       "      <td>23</td>\n",
       "      <td>36</td>\n",
       "      <td>58</td>\n",
       "      <td>138</td>\n",
       "      <td>664</td>\n",
       "      <td>12306</td>\n",
       "      <td>10990</td>\n",
       "      <td>11024</td>\n",
       "      <td>9942</td>\n",
       "      <td>10949</td>\n",
       "      <td>11720</td>\n",
       "      <td>10091</td>\n",
       "    </tr>\n",
       "    <tr>\n",
       "      <th>248</th>\n",
       "      <td>4</td>\n",
       "      <td>9</td>\n",
       "      <td>8</td>\n",
       "      <td>36</td>\n",
       "      <td>71</td>\n",
       "      <td>145</td>\n",
       "      <td>746</td>\n",
       "      <td>12274</td>\n",
       "      <td>13618</td>\n",
       "      <td>11683</td>\n",
       "      <td>11512</td>\n",
       "      <td>12741</td>\n",
       "      <td>12342</td>\n",
       "      <td>10393</td>\n",
       "    </tr>\n",
       "  </tbody>\n",
       "</table>\n",
       "</div>"
      ],
      "text/plain": [
       "       2019-07-25  2019-07-26  2019-07-27  2019-07-28  2019-07-29  2019-07-30  \\\n",
       "group                                                                           \n",
       "246    4           14          24          33          55          129          \n",
       "247    1           8           23          36          58          138          \n",
       "248    4           9           8           36          71          145          \n",
       "\n",
       "       2019-07-31  2019-08-01  2019-08-02  2019-08-03  2019-08-04  2019-08-05  \\\n",
       "group                                                                           \n",
       "246    620         11561       10946       10575       11514       12368        \n",
       "247    664         12306       10990       11024       9942        10949        \n",
       "248    746         12274       13618       11683       11512       12741        \n",
       "\n",
       "       2019-08-06  2019-08-07  \n",
       "group                          \n",
       "246    11726       10612       \n",
       "247    11720       10091       \n",
       "248    12342       10393       "
      ]
     },
     "execution_count": 31,
     "metadata": {},
     "output_type": "execute_result"
    }
   ],
   "source": [
    "# делаем сводную табличку\n",
    "events_per_group_daily = logs_exp.pivot_table(columns='date', index='group', values='event', aggfunc='count').fillna(0)\n",
    "events_per_group_daily.columns = events_per_group_daily.columns.date\n",
    "\n",
    "# смотрим что получилось\n",
    "events_per_group_daily"
   ]
  },
  {
   "cell_type": "markdown",
   "id": "d965884f",
   "metadata": {},
   "source": [
    "Визуализируем столбчатой диаграммой"
   ]
  },
  {
   "cell_type": "code",
   "execution_count": 32,
   "id": "8fe299b9",
   "metadata": {
    "scrolled": false
   },
   "outputs": [
    {
     "data": {
      "image/png": "[encoded data removed]",
      "text/plain": [
       "<Figure size 1200x500 with 1 Axes>"
      ]
     },
     "metadata": {},
     "output_type": "display_data"
    }
   ],
   "source": [
    "events_per_group_daily.T.plot.bar(figsize = (12,5))\n",
    "plt.title('Распределение количества событий в группах по датам ')\n",
    "plt.grid(True)\n",
    "plt.legend()\n",
    "plt.xlabel('Дата')\n",
    "plt.ylabel('Количество событий')\n",
    "plt.show()"
   ]
  },
  {
   "cell_type": "markdown",
   "id": "044d0f62",
   "metadata": {},
   "source": [
    "###### Видим,  \n",
    "что распределение количества событий в группах столь же неравномерно, как и без разбивки на группы:        \n",
    "• с 25 по 31 июля - количество данных практически нулевое,          \n",
    "• с 1 по 7 августа - по 10-12 тысяч событий в день в каждой группе. При этом  распределение по группам достаточно равномерное.   \n",
    "\n",
    "###### Таким образом подтверждается, что первая половина срока неинформативна и ее по всей видимости нужно усключать из рассмотрения."
   ]
  },
  {
   "cell_type": "markdown",
   "id": "1d2d9521",
   "metadata": {},
   "source": [
    "Посмотрим еще распределение по датам событий разных типов и соотношение между ними со временем"
   ]
  },
  {
   "cell_type": "code",
   "execution_count": 33,
   "id": "a304b177",
   "metadata": {},
   "outputs": [
    {
     "data": {
      "text/html": [
       "<div>\n",
       "<style scoped>\n",
       "    .dataframe tbody tr th:only-of-type {\n",
       "        vertical-align: middle;\n",
       "    }\n",
       "\n",
       "    .dataframe tbody tr th {\n",
       "        vertical-align: top;\n",
       "    }\n",
       "\n",
       "    .dataframe thead th {\n",
       "        text-align: right;\n",
       "    }\n",
       "</style>\n",
       "<table border=\"1\" class=\"dataframe\">\n",
       "  <thead>\n",
       "    <tr style=\"text-align: right;\">\n",
       "      <th></th>\n",
       "      <th>2019-07-25</th>\n",
       "      <th>2019-07-26</th>\n",
       "      <th>2019-07-27</th>\n",
       "      <th>2019-07-28</th>\n",
       "      <th>2019-07-29</th>\n",
       "      <th>2019-07-30</th>\n",
       "      <th>2019-07-31</th>\n",
       "      <th>2019-08-01</th>\n",
       "      <th>2019-08-02</th>\n",
       "      <th>2019-08-03</th>\n",
       "      <th>2019-08-04</th>\n",
       "      <th>2019-08-05</th>\n",
       "      <th>2019-08-06</th>\n",
       "      <th>2019-08-07</th>\n",
       "    </tr>\n",
       "    <tr>\n",
       "      <th>event</th>\n",
       "      <th></th>\n",
       "      <th></th>\n",
       "      <th></th>\n",
       "      <th></th>\n",
       "      <th></th>\n",
       "      <th></th>\n",
       "      <th></th>\n",
       "      <th></th>\n",
       "      <th></th>\n",
       "      <th></th>\n",
       "      <th></th>\n",
       "      <th></th>\n",
       "      <th></th>\n",
       "      <th></th>\n",
       "    </tr>\n",
       "  </thead>\n",
       "  <tbody>\n",
       "    <tr>\n",
       "      <th>CartScreenAppear</th>\n",
       "      <td>2.0</td>\n",
       "      <td>6.0</td>\n",
       "      <td>4.0</td>\n",
       "      <td>24.0</td>\n",
       "      <td>23.0</td>\n",
       "      <td>49.0</td>\n",
       "      <td>257.0</td>\n",
       "      <td>6217.0</td>\n",
       "      <td>6522.0</td>\n",
       "      <td>6374.0</td>\n",
       "      <td>6155.0</td>\n",
       "      <td>6248.0</td>\n",
       "      <td>5733.0</td>\n",
       "      <td>5054.0</td>\n",
       "    </tr>\n",
       "    <tr>\n",
       "      <th>MainScreenAppear</th>\n",
       "      <td>4.0</td>\n",
       "      <td>16.0</td>\n",
       "      <td>39.0</td>\n",
       "      <td>53.0</td>\n",
       "      <td>132.0</td>\n",
       "      <td>279.0</td>\n",
       "      <td>1250.0</td>\n",
       "      <td>17945.0</td>\n",
       "      <td>16792.0</td>\n",
       "      <td>14832.0</td>\n",
       "      <td>15203.0</td>\n",
       "      <td>18005.0</td>\n",
       "      <td>18761.0</td>\n",
       "      <td>15790.0</td>\n",
       "    </tr>\n",
       "    <tr>\n",
       "      <th>OffersScreenAppear</th>\n",
       "      <td>1.0</td>\n",
       "      <td>4.0</td>\n",
       "      <td>9.0</td>\n",
       "      <td>16.0</td>\n",
       "      <td>20.0</td>\n",
       "      <td>51.0</td>\n",
       "      <td>374.0</td>\n",
       "      <td>6988.0</td>\n",
       "      <td>6924.0</td>\n",
       "      <td>6795.0</td>\n",
       "      <td>6487.0</td>\n",
       "      <td>6666.0</td>\n",
       "      <td>6533.0</td>\n",
       "      <td>5940.0</td>\n",
       "    </tr>\n",
       "    <tr>\n",
       "      <th>PaymentScreenSuccessful</th>\n",
       "      <td>2.0</td>\n",
       "      <td>3.0</td>\n",
       "      <td>1.0</td>\n",
       "      <td>12.0</td>\n",
       "      <td>9.0</td>\n",
       "      <td>33.0</td>\n",
       "      <td>140.0</td>\n",
       "      <td>4771.0</td>\n",
       "      <td>5148.0</td>\n",
       "      <td>5119.0</td>\n",
       "      <td>4983.0</td>\n",
       "      <td>5024.0</td>\n",
       "      <td>4631.0</td>\n",
       "      <td>4242.0</td>\n",
       "    </tr>\n",
       "    <tr>\n",
       "      <th>Tutorial</th>\n",
       "      <td>0.0</td>\n",
       "      <td>2.0</td>\n",
       "      <td>2.0</td>\n",
       "      <td>0.0</td>\n",
       "      <td>0.0</td>\n",
       "      <td>0.0</td>\n",
       "      <td>9.0</td>\n",
       "      <td>220.0</td>\n",
       "      <td>168.0</td>\n",
       "      <td>162.0</td>\n",
       "      <td>140.0</td>\n",
       "      <td>115.0</td>\n",
       "      <td>130.0</td>\n",
       "      <td>70.0</td>\n",
       "    </tr>\n",
       "  </tbody>\n",
       "</table>\n",
       "</div>"
      ],
      "text/plain": [
       "                         2019-07-25  2019-07-26  2019-07-27  2019-07-28  \\\n",
       "event                                                                     \n",
       "CartScreenAppear         2.0         6.0         4.0         24.0         \n",
       "MainScreenAppear         4.0         16.0        39.0        53.0         \n",
       "OffersScreenAppear       1.0         4.0         9.0         16.0         \n",
       "PaymentScreenSuccessful  2.0         3.0         1.0         12.0         \n",
       "Tutorial                 0.0         2.0         2.0         0.0          \n",
       "\n",
       "                         2019-07-29  2019-07-30  2019-07-31  2019-08-01  \\\n",
       "event                                                                     \n",
       "CartScreenAppear         23.0        49.0        257.0       6217.0       \n",
       "MainScreenAppear         132.0       279.0       1250.0      17945.0      \n",
       "OffersScreenAppear       20.0        51.0        374.0       6988.0       \n",
       "PaymentScreenSuccessful  9.0         33.0        140.0       4771.0       \n",
       "Tutorial                 0.0         0.0         9.0         220.0        \n",
       "\n",
       "                         2019-08-02  2019-08-03  2019-08-04  2019-08-05  \\\n",
       "event                                                                     \n",
       "CartScreenAppear         6522.0      6374.0      6155.0      6248.0       \n",
       "MainScreenAppear         16792.0     14832.0     15203.0     18005.0      \n",
       "OffersScreenAppear       6924.0      6795.0      6487.0      6666.0       \n",
       "PaymentScreenSuccessful  5148.0      5119.0      4983.0      5024.0       \n",
       "Tutorial                 168.0       162.0       140.0       115.0        \n",
       "\n",
       "                         2019-08-06  2019-08-07  \n",
       "event                                            \n",
       "CartScreenAppear         5733.0      5054.0      \n",
       "MainScreenAppear         18761.0     15790.0     \n",
       "OffersScreenAppear       6533.0      5940.0      \n",
       "PaymentScreenSuccessful  4631.0      4242.0      \n",
       "Tutorial                 130.0       70.0        "
      ]
     },
     "execution_count": 33,
     "metadata": {},
     "output_type": "execute_result"
    }
   ],
   "source": [
    "events_per_type_daily = logs_exp.pivot_table(columns='date', index='event', values='timestamp', aggfunc='count').fillna(0)\n",
    "events_per_type_daily.columns = events_per_type_daily.columns.date\n",
    "\n",
    "events_per_type_daily"
   ]
  },
  {
   "cell_type": "markdown",
   "id": "eb3be63b",
   "metadata": {},
   "source": [
    "Визуализируем столбчатой диаграммой"
   ]
  },
  {
   "cell_type": "code",
   "execution_count": 34,
   "id": "e8bfa123",
   "metadata": {
    "scrolled": false
   },
   "outputs": [
    {
     "data": {
      "image/png": "[encoded data removed]",
      "text/plain": [
       "<Figure size 1200x500 with 1 Axes>"
      ]
     },
     "metadata": {},
     "output_type": "display_data"
    }
   ],
   "source": [
    "# формируем график\n",
    "events_per_type_daily.T.plot.bar(figsize = (12,5))\n",
    "\n",
    "# задаем параметры\n",
    "plt.grid(True)\n",
    "plt.legend()\n",
    "plt.xlabel('Дата')\n",
    "plt.ylabel('Количество событий')\n",
    "plt.title('Распределение количества событий разных типов по датам')\n",
    "\n",
    "# выводим результат\n",
    "plt.show()"
   ]
  },
  {
   "cell_type": "markdown",
   "id": "52730c18",
   "metadata": {},
   "source": [
    "Соотношение между событиями разных типов во второй половине эксперимента выглядит вполне логичным: пользователи больше всего смотрят главную страницу, существенно меньше - страницу с предложениями товаров, и если уж они смотрели предложения, то они его покупали, причем преимущественно успешно. Ну а тьюториал смотрели по всей видимости только один раз и то далеко не все. "
   ]
  },
  {
   "cell_type": "markdown",
   "id": "24d33350",
   "metadata": {},
   "source": [
    "На основании того, что мы выяснили в предыдущих пунктах - уберем из рассмотрения данные за первую неделю эксперимента - с 25 по 31 июля 2019 включительно, посмотрим достаточно ли осталось данных и если все в порядке (на что есть все шансы) - будем считать, что эксперимент проходил только неделю с 1 по 7 августа 2019 года."
   ]
  },
  {
   "cell_type": "code",
   "execution_count": 35,
   "id": "b799ad21",
   "metadata": {},
   "outputs": [
    {
     "data": {
      "text/html": [
       "<div>\n",
       "<style scoped>\n",
       "    .dataframe tbody tr th:only-of-type {\n",
       "        vertical-align: middle;\n",
       "    }\n",
       "\n",
       "    .dataframe tbody tr th {\n",
       "        vertical-align: top;\n",
       "    }\n",
       "\n",
       "    .dataframe thead th {\n",
       "        text-align: right;\n",
       "    }\n",
       "</style>\n",
       "<table border=\"1\" class=\"dataframe\">\n",
       "  <thead>\n",
       "    <tr style=\"text-align: right;\">\n",
       "      <th></th>\n",
       "      <th>event</th>\n",
       "      <th>user</th>\n",
       "      <th>timestamp</th>\n",
       "      <th>group</th>\n",
       "      <th>date</th>\n",
       "    </tr>\n",
       "  </thead>\n",
       "  <tbody>\n",
       "    <tr>\n",
       "      <th>2826</th>\n",
       "      <td>Tutorial</td>\n",
       "      <td>3737462046622621720</td>\n",
       "      <td>2019-08-01 00:07:28</td>\n",
       "      <td>246</td>\n",
       "      <td>2019-08-01</td>\n",
       "    </tr>\n",
       "    <tr>\n",
       "      <th>2827</th>\n",
       "      <td>MainScreenAppear</td>\n",
       "      <td>3737462046622621720</td>\n",
       "      <td>2019-08-01 00:08:00</td>\n",
       "      <td>246</td>\n",
       "      <td>2019-08-01</td>\n",
       "    </tr>\n",
       "  </tbody>\n",
       "</table>\n",
       "</div>"
      ],
      "text/plain": [
       "                 event                 user           timestamp  group  \\\n",
       "2826  Tutorial          3737462046622621720 2019-08-01 00:07:28  246     \n",
       "2827  MainScreenAppear  3737462046622621720 2019-08-01 00:08:00  246     \n",
       "\n",
       "           date  \n",
       "2826 2019-08-01  \n",
       "2827 2019-08-01  "
      ]
     },
     "metadata": {},
     "output_type": "display_data"
    },
    {
     "data": {
      "text/html": [
       "<div>\n",
       "<style scoped>\n",
       "    .dataframe tbody tr th:only-of-type {\n",
       "        vertical-align: middle;\n",
       "    }\n",
       "\n",
       "    .dataframe tbody tr th {\n",
       "        vertical-align: top;\n",
       "    }\n",
       "\n",
       "    .dataframe thead th {\n",
       "        text-align: right;\n",
       "    }\n",
       "</style>\n",
       "<table border=\"1\" class=\"dataframe\">\n",
       "  <thead>\n",
       "    <tr style=\"text-align: right;\">\n",
       "      <th></th>\n",
       "      <th>event</th>\n",
       "      <th>user</th>\n",
       "      <th>timestamp</th>\n",
       "      <th>group</th>\n",
       "      <th>date</th>\n",
       "    </tr>\n",
       "  </thead>\n",
       "  <tbody>\n",
       "    <tr>\n",
       "      <th>243711</th>\n",
       "      <td>MainScreenAppear</td>\n",
       "      <td>5746969938801999050</td>\n",
       "      <td>2019-08-07 21:14:58</td>\n",
       "      <td>246</td>\n",
       "      <td>2019-08-07</td>\n",
       "    </tr>\n",
       "    <tr>\n",
       "      <th>243712</th>\n",
       "      <td>OffersScreenAppear</td>\n",
       "      <td>5746969938801999050</td>\n",
       "      <td>2019-08-07 21:15:17</td>\n",
       "      <td>246</td>\n",
       "      <td>2019-08-07</td>\n",
       "    </tr>\n",
       "  </tbody>\n",
       "</table>\n",
       "</div>"
      ],
      "text/plain": [
       "                     event                 user           timestamp  group  \\\n",
       "243711  MainScreenAppear    5746969938801999050 2019-08-07 21:14:58  246     \n",
       "243712  OffersScreenAppear  5746969938801999050 2019-08-07 21:15:17  246     \n",
       "\n",
       "             date  \n",
       "243711 2019-08-07  \n",
       "243712 2019-08-07  "
      ]
     },
     "metadata": {},
     "output_type": "display_data"
    }
   ],
   "source": [
    "# оставляем в рассмотрении данные только за последнюю неделю\n",
    "logs_aug = logs_exp[logs_exp['date'] >= '2019-08-01']\n",
    "\n",
    "# смотрим что получилось\n",
    "display(logs_aug.head(2))\n",
    "display(logs_aug.tail(2))"
   ]
  },
  {
   "cell_type": "markdown",
   "id": "7473753d",
   "metadata": {},
   "source": [
    "Поскольку технически в логи новых дней по некоторым пользователям могут «доезжать» события из прошлого и это может «перекашивать данные» - убедимся явным образом, что все события в полученном датафрейме logs_aug относятся к периоду с 01.08.2019 по 07.08.2019 включиетльно."
   ]
  },
  {
   "cell_type": "code",
   "execution_count": 36,
   "id": "933179ff",
   "metadata": {},
   "outputs": [
    {
     "data": {
      "text/plain": [
       "Timestamp('2019-08-01 00:07:28')"
      ]
     },
     "metadata": {},
     "output_type": "display_data"
    },
    {
     "data": {
      "text/plain": [
       "Timestamp('2019-08-07 21:15:17')"
      ]
     },
     "metadata": {},
     "output_type": "display_data"
    }
   ],
   "source": [
    "display( logs_aug.sort_values(by='timestamp', ascending=False)['timestamp'].min() )\n",
    "display( logs_aug.sort_values(by='timestamp', ascending=False)['timestamp'].max() )"
   ]
  },
  {
   "cell_type": "markdown",
   "id": "3118d80b",
   "metadata": {},
   "source": [
    "Все события находятся в нужном нам промежутке времени, судя по всему искажений быть не должно.\n",
    "\n",
    "Посмотрим теперь на парметры полученного датафрейма."
   ]
  },
  {
   "cell_type": "code",
   "execution_count": 37,
   "id": "23ce5636",
   "metadata": {},
   "outputs": [
    {
     "name": "stdout",
     "output_type": "stream",
     "text": [
      "<class 'pandas.core.frame.DataFrame'>\n",
      "Index: 240887 entries, 2826 to 243712\n",
      "Data columns (total 5 columns):\n",
      " #   Column     Non-Null Count   Dtype         \n",
      "---  ------     --------------   -----         \n",
      " 0   event      240887 non-null  object        \n",
      " 1   user       240887 non-null  int64         \n",
      " 2   timestamp  240887 non-null  datetime64[ns]\n",
      " 3   group      240887 non-null  int64         \n",
      " 4   date       240887 non-null  datetime64[ns]\n",
      "dtypes: datetime64[ns](2), int64(2), object(1)\n",
      "memory usage: 11.0+ MB\n"
     ]
    }
   ],
   "source": [
    "logs_aug.info()"
   ]
  },
  {
   "cell_type": "code",
   "execution_count": 38,
   "id": "86b0169b",
   "metadata": {},
   "outputs": [
    {
     "data": {
      "text/plain": [
       "event        5     \n",
       "user         7534  \n",
       "timestamp    174044\n",
       "group        3     \n",
       "date         7     \n",
       "dtype: int64"
      ]
     },
     "execution_count": 38,
     "metadata": {},
     "output_type": "execute_result"
    }
   ],
   "source": [
    "logs_aug.nunique()"
   ]
  },
  {
   "cell_type": "markdown",
   "id": "bd0f70de",
   "metadata": {},
   "source": [
    "Посмотрим теперь сколько оказалось потерь в событиях."
   ]
  },
  {
   "cell_type": "code",
   "execution_count": 39,
   "id": "604e18ed",
   "metadata": {},
   "outputs": [
    {
     "name": "stdout",
     "output_type": "stream",
     "text": [
      "Абсолютные потери в количестве событий равны 2826 единиц\n",
      "Относительные потери в количестве событий равны 1.2 %\n"
     ]
    }
   ],
   "source": [
    "# считаем количество потерь событий в абсолютных величинах\n",
    "events_dif_abs = logs_exp['event'].count() - logs_aug['event'].count()\n",
    "\n",
    "# считаем количество потерь событий в абсолютных величинах\n",
    "events_dif_rel = round ( (logs_exp['event'].count() - logs_aug['event'].count()) / logs_exp['event'].count() , 3 )                 \n",
    "\n",
    "print( \"Абсолютные потери в количестве событий равны\", events_dif_abs , \"единиц\", sep=\" \" )\n",
    "print( \"Относительные потери в количестве событий равны\", events_dif_rel * 100, \"%\", sep=\" \" )"
   ]
  },
  {
   "cell_type": "markdown",
   "id": "56a6dcf6",
   "metadata": {},
   "source": [
    "Аналогично посчитаем потери в количестве уникальных пользователей."
   ]
  },
  {
   "cell_type": "code",
   "execution_count": 40,
   "id": "dfdb1a1f",
   "metadata": {},
   "outputs": [
    {
     "name": "stdout",
     "output_type": "stream",
     "text": [
      "Абсолютные потери в количестве пользователей равны 17 человек\n",
      "Относительные потери в количестве пользователей равны 0.2 %\n"
     ]
    }
   ],
   "source": [
    "# считаем количество потерь пользователей в абсолютных величинах\n",
    "users_dif_abs = logs_exp['user'].nunique() - logs_aug['user'].nunique()\n",
    "\n",
    "# считаем количество потерь пользователей в абсолютных величинах\n",
    "users_dif_rel = round ( (logs_exp['user'].nunique() - logs_aug['user'].nunique()) / logs_exp['user'].nunique() , 3 )                 \n",
    "\n",
    "print( \"Абсолютные потери в количестве пользователей равны\", users_dif_abs , \"человек\", sep=\" \" )\n",
    "print( \"Относительные потери в количестве пользователей равны\", users_dif_rel * 100, \"%\", sep=\" \" )"
   ]
  },
  {
   "cell_type": "markdown",
   "id": "2a5c7f4b",
   "metadata": {},
   "source": [
    "###### Таким образом\n",
    "\n",
    "После \"отсечения\" первой недели у нас остается 240 тысяч 887 событий. То есть наши потери от такой \"чистки\" составили       \n",
    "243713 - 240887 = 2826 событий или около 1.2%.  Это довольно незначительное количество, которое не должно повлиять на точность результатов анализа. Выборка из 240 тысяч событий вполне репрезетнативна, если нет сильных перекосов по группам как в отношении количества событий, так и в отношении количества пользователей.\n",
    "\n",
    "Что касается количества пользователей, то мы видим 7534 уникальных пользователя. Это количество представляется так-же достаточно репрезентативная выборка (при условии относительно равномерного ее распределения по группам). Потери составляют всего 17 пользователей или 0.2%\n",
    "\n",
    "В отношении количества событий - мы видели на графиках, что распределение количества событий между группами и между типами во выбранной нами части эксперимента вполне равномерное.\n",
    "\n",
    "Убедимся теперь явным образом, что распределение количества клиентов по группам более-менее равномерное ..."
   ]
  },
  {
   "cell_type": "code",
   "execution_count": 41,
   "id": "faffca95",
   "metadata": {},
   "outputs": [
    {
     "data": {
      "text/html": [
       "<div>\n",
       "<style scoped>\n",
       "    .dataframe tbody tr th:only-of-type {\n",
       "        vertical-align: middle;\n",
       "    }\n",
       "\n",
       "    .dataframe tbody tr th {\n",
       "        vertical-align: top;\n",
       "    }\n",
       "\n",
       "    .dataframe thead tr th {\n",
       "        text-align: left;\n",
       "    }\n",
       "\n",
       "    .dataframe thead tr:last-of-type th {\n",
       "        text-align: right;\n",
       "    }\n",
       "</style>\n",
       "<table border=\"1\" class=\"dataframe\">\n",
       "  <thead>\n",
       "    <tr>\n",
       "      <th></th>\n",
       "      <th colspan=\"2\" halign=\"left\">user</th>\n",
       "    </tr>\n",
       "    <tr>\n",
       "      <th></th>\n",
       "      <th>count</th>\n",
       "      <th>nunique</th>\n",
       "    </tr>\n",
       "    <tr>\n",
       "      <th>group</th>\n",
       "      <th></th>\n",
       "      <th></th>\n",
       "    </tr>\n",
       "  </thead>\n",
       "  <tbody>\n",
       "    <tr>\n",
       "      <th>246</th>\n",
       "      <td>79302</td>\n",
       "      <td>2484</td>\n",
       "    </tr>\n",
       "    <tr>\n",
       "      <th>247</th>\n",
       "      <td>77022</td>\n",
       "      <td>2513</td>\n",
       "    </tr>\n",
       "    <tr>\n",
       "      <th>248</th>\n",
       "      <td>84563</td>\n",
       "      <td>2537</td>\n",
       "    </tr>\n",
       "  </tbody>\n",
       "</table>\n",
       "</div>"
      ],
      "text/plain": [
       "        user        \n",
       "       count nunique\n",
       "group               \n",
       "246    79302  2484  \n",
       "247    77022  2513  \n",
       "248    84563  2537  "
      ]
     },
     "execution_count": 41,
     "metadata": {},
     "output_type": "execute_result"
    }
   ],
   "source": [
    "logs_aug.groupby('group').agg({'user': ['count', 'nunique']})"
   ]
  },
  {
   "cell_type": "markdown",
   "id": "ef9f3e55",
   "metadata": {},
   "source": [
    "... и что оно равномерно распределено по дням (нет явных провалов)."
   ]
  },
  {
   "cell_type": "code",
   "execution_count": 42,
   "id": "608369b8",
   "metadata": {},
   "outputs": [
    {
     "data": {
      "text/html": [
       "<div>\n",
       "<style scoped>\n",
       "    .dataframe tbody tr th:only-of-type {\n",
       "        vertical-align: middle;\n",
       "    }\n",
       "\n",
       "    .dataframe tbody tr th {\n",
       "        vertical-align: top;\n",
       "    }\n",
       "\n",
       "    .dataframe thead th {\n",
       "        text-align: right;\n",
       "    }\n",
       "</style>\n",
       "<table border=\"1\" class=\"dataframe\">\n",
       "  <thead>\n",
       "    <tr style=\"text-align: right;\">\n",
       "      <th></th>\n",
       "      <th>2019-08-01</th>\n",
       "      <th>2019-08-02</th>\n",
       "      <th>2019-08-03</th>\n",
       "      <th>2019-08-04</th>\n",
       "      <th>2019-08-05</th>\n",
       "      <th>2019-08-06</th>\n",
       "      <th>2019-08-07</th>\n",
       "    </tr>\n",
       "    <tr>\n",
       "      <th>group</th>\n",
       "      <th></th>\n",
       "      <th></th>\n",
       "      <th></th>\n",
       "      <th></th>\n",
       "      <th></th>\n",
       "      <th></th>\n",
       "      <th></th>\n",
       "    </tr>\n",
       "  </thead>\n",
       "  <tbody>\n",
       "    <tr>\n",
       "      <th>246</th>\n",
       "      <td>1191</td>\n",
       "      <td>1197</td>\n",
       "      <td>1140</td>\n",
       "      <td>1170</td>\n",
       "      <td>1269</td>\n",
       "      <td>1270</td>\n",
       "      <td>1198</td>\n",
       "    </tr>\n",
       "    <tr>\n",
       "      <th>247</th>\n",
       "      <td>1282</td>\n",
       "      <td>1221</td>\n",
       "      <td>1176</td>\n",
       "      <td>1169</td>\n",
       "      <td>1263</td>\n",
       "      <td>1320</td>\n",
       "      <td>1212</td>\n",
       "    </tr>\n",
       "    <tr>\n",
       "      <th>248</th>\n",
       "      <td>1230</td>\n",
       "      <td>1229</td>\n",
       "      <td>1166</td>\n",
       "      <td>1188</td>\n",
       "      <td>1270</td>\n",
       "      <td>1332</td>\n",
       "      <td>1241</td>\n",
       "    </tr>\n",
       "  </tbody>\n",
       "</table>\n",
       "</div>"
      ],
      "text/plain": [
       "       2019-08-01  2019-08-02  2019-08-03  2019-08-04  2019-08-05  2019-08-06  \\\n",
       "group                                                                           \n",
       "246    1191        1197        1140        1170        1269        1270         \n",
       "247    1282        1221        1176        1169        1263        1320         \n",
       "248    1230        1229        1166        1188        1270        1332         \n",
       "\n",
       "       2019-08-07  \n",
       "group              \n",
       "246    1198        \n",
       "247    1212        \n",
       "248    1241        "
      ]
     },
     "execution_count": 42,
     "metadata": {},
     "output_type": "execute_result"
    }
   ],
   "source": [
    "# делаем сводную табличку по группам\n",
    "users_per_group_daily = logs_aug.pivot_table(columns='date', index='group', values='user', aggfunc='nunique').fillna(0)\n",
    "users_per_group_daily.columns = users_per_group_daily.columns.date\n",
    "\n",
    "# смотрим что получилось\n",
    "users_per_group_daily"
   ]
  },
  {
   "cell_type": "markdown",
   "id": "2cde2a29",
   "metadata": {},
   "source": [
    "Визуализируем столбчатой диаграммой"
   ]
  },
  {
   "cell_type": "code",
   "execution_count": 43,
   "id": "37d3159b",
   "metadata": {},
   "outputs": [
    {
     "data": {
      "image/png": "[encoded data removed]",
      "text/plain": [
       "<Figure size 1200x500 with 1 Axes>"
      ]
     },
     "metadata": {},
     "output_type": "display_data"
    }
   ],
   "source": [
    "# формируем график\n",
    "users_per_group_daily.T.plot.bar(figsize = (12,5))\n",
    "\n",
    "# задаем параметры\n",
    "plt.grid(True)\n",
    "plt.legend()\n",
    "plt.xlabel('Дата')\n",
    "plt.ylabel('Количество уникальных пользователей')\n",
    "plt.title('Распределение количества пользователей по группам на даты')\n",
    "\n",
    "# выводим результат\n",
    "plt.show()"
   ]
  },
  {
   "cell_type": "markdown",
   "id": "337211fb",
   "metadata": {},
   "source": [
    "###### Видим\n",
    "\n",
    "В рассматриваемый период с 1 по 7 августа ежедневно в каждой группе представлено около 1200 уникальных пользователей. Это позволяет утверждать, что выборка достаточно репрезентативна.   \n",
    "\n",
    "При этом количество уникальных пользователей колеблется по дням в диапазоне +-100 человек, что позволяет говорить о том, что разпределение клиентов по группам в выборке весьма стабильно."
   ]
  },
  {
   "cell_type": "markdown",
   "id": "3c6a1f11",
   "metadata": {},
   "source": [
    "Для того, чтобы быть уверенными в результатах убедимся соблюдении еще одного условия А/В тестирования: что участники тестирования не переходят из группы в группу по ходу проведения теста.         \n",
    "Для этого разобьем всех учатников по их группам, выберем уникальные сочетания группа-участник (то есть уберем повторы в этих сочетаниях) и затем посмотрим повторяются ли одни и те же участники несколько раз, то есть в разных группах. "
   ]
  },
  {
   "cell_type": "code",
   "execution_count": 44,
   "id": "45e59765",
   "metadata": {},
   "outputs": [
    {
     "data": {
      "text/plain": [
       "0"
      ]
     },
     "execution_count": 44,
     "metadata": {},
     "output_type": "execute_result"
    }
   ],
   "source": [
    "# выделяем столбцы групп и участников и оставляем только уникальные сочетания\n",
    "users_cross = logs_aug[['group', 'user']].drop_duplicates()\n",
    "\n",
    "# смотрим повторения в столбце 'user': если есть - то это количество переходов из группы в группу\n",
    "users_cross['user'].duplicated().sum()"
   ]
  },
  {
   "cell_type": "markdown",
   "id": "a08aa560",
   "metadata": {},
   "source": [
    "Как видим переходов нет - каждый клиент остается в своей группе на протяжении всего выделенного периода эксперимента.       \n",
    "Значит этого влияния можно не опасаться при анализе результатов теста."
   ]
  },
  {
   "cell_type": "markdown",
   "id": "810d3455",
   "metadata": {},
   "source": [
    "###### Будем считать, что мы готовы к дальнейшим шагам по анализу результатов эксперимента. Проводить их планируем на основе данных за вторую половину эксперимента, размещенных в датафрейе logs_aug."
   ]
  },
  {
   "cell_type": "markdown",
   "id": "8e6856ea",
   "metadata": {},
   "source": [
    " \n",
    "  \n",
    "  "
   ]
  },
  {
   "cell_type": "markdown",
   "id": "6d2596de",
   "metadata": {},
   "source": [
    "## Шаг 4. Построение воронки событий"
   ]
  },
  {
   "cell_type": "markdown",
   "id": "beabb45c",
   "metadata": {},
   "source": [
    "\n"
   ]
  },
  {
   "cell_type": "markdown",
   "id": "937e48f4",
   "metadata": {},
   "source": [
    "Прежде всего посмотрим картину соотношения событий разных типов и сделаем предположение о  модели клиентского поведения, то есть последовательности предпринимаемых пользователем действий (они же события в нашей терминологии).\n",
    "\n",
    "Итак посмотрим на сами типы событий."
   ]
  },
  {
   "cell_type": "markdown",
   "id": "b818d124",
   "metadata": {},
   "source": [
    "Как мы уже отмечали ранее различных типов событий, содержащихся в исследуемых данных представлено 5:           \n",
    "    •  'Tutorial' - просмотр пользователем страницы с руководством по использованию приложения,            \n",
    "    •  'MainScreenAppear' - просмотр пользователем главного экрана,               \n",
    "    •  'OffersScreenAppear' - просмотр пользователем предложения конкрентого продукта (или группы продуктов),               \n",
    "    •  'CartScreenAppear' - переход пользователя к корзине товаров,           \n",
    "    •  'PaymentScreenSuccessful' - успешное завершение пользователем оплаты товаров из корзины.    \n",
    "    "
   ]
  },
  {
   "cell_type": "markdown",
   "id": "d98d1136",
   "metadata": {},
   "source": [
    "Посмотрим насколько часто встречается каждое из перечисленных типов событий суммарно за все рассматриваемые дни (данные отсортируем по убыванию частоты встречаемости)."
   ]
  },
  {
   "cell_type": "code",
   "execution_count": 45,
   "id": "2775d492",
   "metadata": {},
   "outputs": [
    {
     "data": {
      "text/html": [
       "<div>\n",
       "<style scoped>\n",
       "    .dataframe tbody tr th:only-of-type {\n",
       "        vertical-align: middle;\n",
       "    }\n",
       "\n",
       "    .dataframe tbody tr th {\n",
       "        vertical-align: top;\n",
       "    }\n",
       "\n",
       "    .dataframe thead th {\n",
       "        text-align: right;\n",
       "    }\n",
       "</style>\n",
       "<table border=\"1\" class=\"dataframe\">\n",
       "  <thead>\n",
       "    <tr style=\"text-align: right;\">\n",
       "      <th></th>\n",
       "      <th>user</th>\n",
       "    </tr>\n",
       "    <tr>\n",
       "      <th>event</th>\n",
       "      <th></th>\n",
       "    </tr>\n",
       "  </thead>\n",
       "  <tbody>\n",
       "    <tr>\n",
       "      <th>MainScreenAppear</th>\n",
       "      <td>117328</td>\n",
       "    </tr>\n",
       "    <tr>\n",
       "      <th>OffersScreenAppear</th>\n",
       "      <td>46333</td>\n",
       "    </tr>\n",
       "    <tr>\n",
       "      <th>CartScreenAppear</th>\n",
       "      <td>42303</td>\n",
       "    </tr>\n",
       "    <tr>\n",
       "      <th>PaymentScreenSuccessful</th>\n",
       "      <td>33918</td>\n",
       "    </tr>\n",
       "    <tr>\n",
       "      <th>Tutorial</th>\n",
       "      <td>1005</td>\n",
       "    </tr>\n",
       "  </tbody>\n",
       "</table>\n",
       "</div>"
      ],
      "text/plain": [
       "                           user\n",
       "event                          \n",
       "MainScreenAppear         117328\n",
       "OffersScreenAppear       46333 \n",
       "CartScreenAppear         42303 \n",
       "PaymentScreenSuccessful  33918 \n",
       "Tutorial                 1005  "
      ]
     },
     "execution_count": 45,
     "metadata": {},
     "output_type": "execute_result"
    }
   ],
   "source": [
    "# делаем сводную табличку по количеству событий разных типов\n",
    "events_per_type_aug = logs_aug.groupby('event').agg({'user': 'count'}).fillna(0).sort_values(by='user', ascending=False)\n",
    "\n",
    "\n",
    "events_per_type_aug"
   ]
  },
  {
   "cell_type": "markdown",
   "id": "c63cf1aa",
   "metadata": {},
   "source": [
    "Визуализируем столбчатой диаграммой"
   ]
  },
  {
   "cell_type": "code",
   "execution_count": 46,
   "id": "14b5f756",
   "metadata": {
    "scrolled": false
   },
   "outputs": [
    {
     "data": {
      "image/png": "[encoded data removed]",
      "text/plain": [
       "<Figure size 1200x400 with 1 Axes>"
      ]
     },
     "metadata": {},
     "output_type": "display_data"
    }
   ],
   "source": [
    "# формируем график\n",
    "events_per_type_aug.plot.bar(figsize = (12,4), legend = False)\n",
    "\n",
    "# задаем параметры\n",
    "plt.grid(True)\n",
    "plt.xlabel('Тип события')\n",
    "plt.ylabel('Общее количество событий')\n",
    "plt.title('Распределение количества событий по типам')\n",
    "\n",
    "# выводим результат\n",
    "plt.show()"
   ]
  },
  {
   "cell_type": "markdown",
   "id": "9aeeccdd",
   "metadata": {},
   "source": [
    "Посмотрим теперь сколько уникальных пользователей проделывают каждое из перечисленных типов действий/событий за все рассматриваемые дни (данные отсортируем по убыванию количества пользователей)"
   ]
  },
  {
   "cell_type": "code",
   "execution_count": 47,
   "id": "974c9ebc",
   "metadata": {},
   "outputs": [
    {
     "data": {
      "text/html": [
       "<div>\n",
       "<style scoped>\n",
       "    .dataframe tbody tr th:only-of-type {\n",
       "        vertical-align: middle;\n",
       "    }\n",
       "\n",
       "    .dataframe tbody tr th {\n",
       "        vertical-align: top;\n",
       "    }\n",
       "\n",
       "    .dataframe thead th {\n",
       "        text-align: right;\n",
       "    }\n",
       "</style>\n",
       "<table border=\"1\" class=\"dataframe\">\n",
       "  <thead>\n",
       "    <tr style=\"text-align: right;\">\n",
       "      <th></th>\n",
       "      <th>user</th>\n",
       "    </tr>\n",
       "    <tr>\n",
       "      <th>event</th>\n",
       "      <th></th>\n",
       "    </tr>\n",
       "  </thead>\n",
       "  <tbody>\n",
       "    <tr>\n",
       "      <th>MainScreenAppear</th>\n",
       "      <td>7419</td>\n",
       "    </tr>\n",
       "    <tr>\n",
       "      <th>OffersScreenAppear</th>\n",
       "      <td>4593</td>\n",
       "    </tr>\n",
       "    <tr>\n",
       "      <th>CartScreenAppear</th>\n",
       "      <td>3734</td>\n",
       "    </tr>\n",
       "    <tr>\n",
       "      <th>PaymentScreenSuccessful</th>\n",
       "      <td>3539</td>\n",
       "    </tr>\n",
       "    <tr>\n",
       "      <th>Tutorial</th>\n",
       "      <td>840</td>\n",
       "    </tr>\n",
       "  </tbody>\n",
       "</table>\n",
       "</div>"
      ],
      "text/plain": [
       "                         user\n",
       "event                        \n",
       "MainScreenAppear         7419\n",
       "OffersScreenAppear       4593\n",
       "CartScreenAppear         3734\n",
       "PaymentScreenSuccessful  3539\n",
       "Tutorial                 840 "
      ]
     },
     "execution_count": 47,
     "metadata": {},
     "output_type": "execute_result"
    }
   ],
   "source": [
    "# делаем табличку по количеству уникальных клиентов для разных групп событий\n",
    "users_per_event_aug = logs_aug.groupby('event').agg({'user': 'nunique'}).sort_values(by='user', ascending=False)\n",
    "\n",
    "# смотрим что получилось\n",
    "users_per_event_aug"
   ]
  },
  {
   "cell_type": "markdown",
   "id": "c7c4bca4",
   "metadata": {},
   "source": [
    "Посчитаем долю пользователей, которые хоть раз совершали каждое действие/событие."
   ]
  },
  {
   "cell_type": "code",
   "execution_count": 48,
   "id": "f8b4b130",
   "metadata": {},
   "outputs": [
    {
     "data": {
      "text/html": [
       "<div>\n",
       "<style scoped>\n",
       "    .dataframe tbody tr th:only-of-type {\n",
       "        vertical-align: middle;\n",
       "    }\n",
       "\n",
       "    .dataframe tbody tr th {\n",
       "        vertical-align: top;\n",
       "    }\n",
       "\n",
       "    .dataframe thead th {\n",
       "        text-align: right;\n",
       "    }\n",
       "</style>\n",
       "<table border=\"1\" class=\"dataframe\">\n",
       "  <thead>\n",
       "    <tr style=\"text-align: right;\">\n",
       "      <th></th>\n",
       "      <th>user</th>\n",
       "    </tr>\n",
       "    <tr>\n",
       "      <th>event</th>\n",
       "      <th></th>\n",
       "    </tr>\n",
       "  </thead>\n",
       "  <tbody>\n",
       "    <tr>\n",
       "      <th>MainScreenAppear</th>\n",
       "      <td>98.473586</td>\n",
       "    </tr>\n",
       "    <tr>\n",
       "      <th>OffersScreenAppear</th>\n",
       "      <td>60.963632</td>\n",
       "    </tr>\n",
       "    <tr>\n",
       "      <th>CartScreenAppear</th>\n",
       "      <td>49.561986</td>\n",
       "    </tr>\n",
       "    <tr>\n",
       "      <th>PaymentScreenSuccessful</th>\n",
       "      <td>46.973719</td>\n",
       "    </tr>\n",
       "    <tr>\n",
       "      <th>Tutorial</th>\n",
       "      <td>11.149456</td>\n",
       "    </tr>\n",
       "  </tbody>\n",
       "</table>\n",
       "</div>"
      ],
      "text/plain": [
       "                              user\n",
       "event                             \n",
       "MainScreenAppear         98.473586\n",
       "OffersScreenAppear       60.963632\n",
       "CartScreenAppear         49.561986\n",
       "PaymentScreenSuccessful  46.973719\n",
       "Tutorial                 11.149456"
      ]
     },
     "execution_count": 48,
     "metadata": {},
     "output_type": "execute_result"
    }
   ],
   "source": [
    "# считаем долю в процентах\n",
    "share_per_event_aug = 100 * users_per_event_aug / logs_aug['user'].nunique()\n",
    "\n",
    "# смотрим что получилось\n",
    "share_per_event_aug"
   ]
  },
  {
   "cell_type": "markdown",
   "id": "988ce739",
   "metadata": {},
   "source": [
    "Для удобства выведем количество пользователей, совершивших каждое действие/событие в отдельную переменную"
   ]
  },
  {
   "cell_type": "code",
   "execution_count": 49,
   "id": "611057c1",
   "metadata": {},
   "outputs": [
    {
     "name": "stdout",
     "output_type": "stream",
     "text": [
      "Находящихся на главной странице =  7419 пользователей\n",
      "Выбирающих конкретные продукты  =  4593 пользователя\n",
      "Перешедших к корзине продуктов  =  3734 пользователея\n",
      "Успешно  завершивших  покупку   =  3539 пользователей\n",
      "Знакомящихся с \"руководством\"   =  840  пользователей\n",
      "\n"
     ]
    }
   ],
   "source": [
    "# считаем количество пользователей для каждого события\n",
    "users_main = users_per_event_aug[users_per_event_aug.index == 'MainScreenAppear']['user'].sum()\n",
    "users_offer = users_per_event_aug[users_per_event_aug.index == 'OffersScreenAppear']['user'].sum()\n",
    "users_cart = users_per_event_aug[users_per_event_aug.index == 'CartScreenAppear']['user'].sum()\n",
    "users_success = users_per_event_aug[users_per_event_aug.index == 'PaymentScreenSuccessful']['user'].sum()\n",
    "users_tutorial = users_per_event_aug[users_per_event_aug.index == 'Tutorial']['user'].sum()\n",
    "\n",
    "# смотрим что получилось\n",
    "print('Находящихся на главной странице = ', users_main, 'пользователей', sep=' ')\n",
    "print('Выбирающих конкретные продукты  = ', users_offer, 'пользователя', sep=' ')\n",
    "print('Перешедших к корзине продуктов  = ', users_cart, 'пользователея', sep=' ')\n",
    "print('Успешно  завершивших  покупку   = ', users_success, 'пользователей', sep=' ')\n",
    "print('Знакомящихся с \"руководством\"   = ', users_tutorial, ' пользователей', sep=' ')\n",
    "print()"
   ]
  },
  {
   "cell_type": "markdown",
   "id": "689efd26",
   "metadata": {},
   "source": [
    "Визуализируем столбчатой диаграммой"
   ]
  },
  {
   "cell_type": "code",
   "execution_count": 50,
   "id": "9de301f2",
   "metadata": {
    "scrolled": false
   },
   "outputs": [
    {
     "data": {
      "image/png": "[encoded data removed]",
      "text/plain": [
       "<Figure size 1200x400 with 1 Axes>"
      ]
     },
     "metadata": {},
     "output_type": "display_data"
    }
   ],
   "source": [
    "# формируем график\n",
    "users_per_event_aug.plot.bar(figsize = (12,4))\n",
    "\n",
    "# задаем параметры\n",
    "plt.grid(True)\n",
    "plt.xlabel('Тип события')\n",
    "plt.ylabel('Количество пользовталей')\n",
    "plt.title('Распределение количества пользователей по событиям разных типов')\n",
    "\n",
    "# выводим результат\n",
    "plt.show()"
   ]
  },
  {
   "cell_type": "markdown",
   "id": "d32dc9ef",
   "metadata": {},
   "source": [
    "##### Выдвинем правдоподобное с нашей точки зрения предположение, что событие \"Ознакомление пользователем с руковдством по использованию приложения\" не входит в воронку исследуемых пользовательских действий/событий,         \n",
    "поскольку по результатам анализа событий за период  с 1 по 7 августа 2019 года: \n",
    "   1. Из графика встречаемости видно, что событие \"Ознакомление пользователем с руковдством по использованию приложения\"  встречается гораздо реже других: только 1005 событий этого типа из суммарно 240887 событий всех типов.\n",
    "   2. Из графика используемости видно, что далеко не каждый пользователь читает \"руководство по использованию приложения\": всего 840 уникальных пользователей из 20125 пользователей, совершивших то или иное действие/событие. Из опыта можно сказать, что потенциальный пользователь если и читает \"руководство...\" - то либо один раз, либо спародически \"подглядывает\" в него, используя как справочник.\n",
    "   \n",
    "То есть, будем строить воронку без учета \"чтения руководства пользователя\"   \n",
    "\n",
    "По остальным типам действий/событий, по всей видимости\n",
    "##### они составляют следующую последовательность или воронку: \n",
    "##### --> Первый шаг - просмотр пользователем основной страницы \n",
    "##### --> Второй шаг - просмотр страницы предложений продуктов \n",
    "##### --> Третий шаг - переход к корзине продуктов \n",
    "##### --> Четвертый шаг - успешное завершение оплаты покупки.\n"
   ]
  },
  {
   "cell_type": "markdown",
   "id": "5f39861e",
   "metadata": {},
   "source": [
    "В этом случае редставляется возможным два вида воронок:\n",
    "\n",
    "1. Переход от первого шага ко второму и дальше без учета реальных временных меток этих шагов.\n",
    "   То есть мы предполагаем, что вход в в приложение возможен только через основную страницу и дальше пользователь имеет только      две опции (как на первом шаге так и далее): выйти или сделать следующий шаг - второй, третий и четвертый последовательно.\n",
    "   В этом случае мы строим воронку просто по количеству пользователей, прошедших соответствующие шаги.\n",
    "\n",
    "2. Переход от первого шага ко второму и дальше с учетом реальных временных меток этих шагов.\n",
    "   То есть мы предполагаем, что пользователь может ходить по шагам не только \"вперед\", но и возвращаться по шагам назад,            выходить из приложения и затем возвращаться наместо с которого вышел и т.д.\n",
    "   В этом случае нам придется строить воронку с учетом реальных сочетаний номера шага и временной отметки его совершения и          смотреть сколько пользователей переходят на следующий шаг после выполнения предыдущего."
   ]
  },
  {
   "cell_type": "markdown",
   "id": "8e5250f8",
   "metadata": {},
   "source": [
    "##### Сначала построим воронку без учета временных меток каждого шага."
   ]
  },
  {
   "cell_type": "markdown",
   "id": "d978c06b",
   "metadata": {},
   "source": [
    "Количество пользователей, совершивших каждое из  событий, мы посчитали чуть выше и сохранили в отдельных переменных: users_main, users_offer, users_cart, users_success. На их основе него и будем считать доли на каждом из шагов. Первым шагом в воронке будем считать просмотр главной страницы, вторым шагом - просмотр страницы с предложением продукта, третьим - переход к корзине и последним четвертым - успешное завершение оплаты покупки."
   ]
  },
  {
   "cell_type": "code",
   "execution_count": 51,
   "id": "06cf08b4",
   "metadata": {},
   "outputs": [
    {
     "name": "stdout",
     "output_type": "stream",
     "text": [
      "Находящихся на главной странице =  100 %\n",
      "Выбирающих конкретные продукты  =  61.9 %  от бывших на главной странице\n",
      "Перешедших к корзине продуктов  =  81.3 %  от бывших на странице предложений\n",
      "Успешно  завершивших  покупку   =  94.8 %  от  бывших на странице корзины\n",
      "\n"
     ]
    }
   ],
   "source": [
    "# считаем долю второго шага воронки к первому\n",
    "share_offer_to_main = round( 100 * users_offer / users_main , 1 ) \n",
    "\n",
    "# считаем долю третьего шага воронки ко второму\n",
    "share_cart_to_offer = round( 100 * users_cart / users_offer , 1 ) \n",
    "\n",
    "# считаем долю четвертого шага воронки к третьему\n",
    "share_success_to_cart = round( 100 * users_success / users_cart , 1 ) \n",
    "\n",
    "# смотрим что получилось\n",
    "print('Находящихся на главной странице = ', 100, '%', sep=' ')\n",
    "print('Выбирающих конкретные продукты  = ', share_offer_to_main, '%  от бывших на главной странице', sep=' ')\n",
    "print('Перешедших к корзине продуктов  = ', share_cart_to_offer, '%  от бывших на странице предложений', sep=' ')\n",
    "print('Успешно  завершивших  покупку   = ', share_success_to_cart, '%  от  бывших на странице корзины', sep=' ')\n",
    "print()"
   ]
  },
  {
   "cell_type": "markdown",
   "id": "6e6f0e90",
   "metadata": {},
   "source": [
    "###### Видим\n",
    "\n",
    "1. При переходе от первого шага воронки ко второму из 100% пользователей просматривавших основной экран приложения только 61.9% перешли к странице с конкретными предложениями товаров/продуктов. Таким образом на этом шаге \"теряется\" 38.1% пользователей.  Это видится вполне допустимым результатом, тем не менее это максимальные \"потери\" в воронке и похоже, что это должно стать основной точко приложения усилий по улучшению решения.\n",
    "\n",
    "2. От второго шага к третьему - от просмотра конкретных продуктов к корзине заказа - переходят 81.3%, то есть потери составляют 18.7%, что представляется вполне хорошим результатом. Поскольку нет предела совершенству - здесь можно пробовать аккуратно вводить какие-нибудь небольшие изменения, но без фанатизма.\n",
    "\n",
    "3. Из пользователей, просмотревших корзину и начавших совершать оплату успешно ее завершают 94.8%, что видится весьма позитивным результатом. В этом случае по всей видимости лучше всего \"не испортить\" - прилагать усилия для поддержания этого позитивного результата."
   ]
  },
  {
   "cell_type": "markdown",
   "id": "21474780",
   "metadata": {},
   "source": [
    "Посмотрим какая доля пользователей проходит всю воронку, то есть доходит от просмотра главной страницы до успешного завершения оплаты покупки."
   ]
  },
  {
   "cell_type": "code",
   "execution_count": 52,
   "id": "238b2b88",
   "metadata": {},
   "outputs": [
    {
     "name": "stdout",
     "output_type": "stream",
     "text": [
      "Процент успешно завершивших оплату окупки к бывшим на главной странице =  47.7 %\n",
      "\n"
     ]
    }
   ],
   "source": [
    "# считаем долю четвертого шага воронки к первому\n",
    "share_success_to_main = round( 100 * users_success / users_main , 1 ) \n",
    "\n",
    "# смотрим что получилось\n",
    "print('Процент успешно завершивших оплату окупки к бывшим на главной странице = ', share_success_to_main, '%', sep=' ')\n",
    "print()"
   ]
  },
  {
   "cell_type": "markdown",
   "id": "3101f543",
   "metadata": {},
   "source": [
    "###### Видим\n",
    "\n",
    "что из всех пользователей, знакомящихся с главной страницей приложения упешно завершают покупку только 47.7%.         \n",
    "Основная причина этого видится в низком проценте конверсии из просмотра основной страницы до выбора конкретных продуктов, который составляет около 62%."
   ]
  },
  {
   "cell_type": "markdown",
   "id": "2504af51",
   "metadata": {},
   "source": [
    "###### В результате воронка выглядит следующим образом:"
   ]
  },
  {
   "cell_type": "code",
   "execution_count": 53,
   "id": "987be422",
   "metadata": {
    "scrolled": false
   },
   "outputs": [
    {
     "name": "stdout",
     "output_type": "stream",
     "text": [
      "\n"
     ]
    },
    {
     "data": {
      "image/png": "[encoded data removed]",
      "text/plain": [
       "<Figure size 1200x400 with 1 Axes>"
      ]
     },
     "metadata": {},
     "output_type": "display_data"
    },
    {
     "name": "stdout",
     "output_type": "stream",
     "text": [
      "\n"
     ]
    }
   ],
   "source": [
    "# задаем посчитанные ранее доли в воронке\n",
    "main = 100\n",
    "offer = round( 0.01 * main * share_offer_to_main , 1 )\n",
    "cart = round( 0.01 * offer * share_cart_to_offer , 1 )\n",
    "success = round( 0.01 * cart * share_success_to_cart, 1 )\n",
    "# задаем значения для графика\n",
    "y = [4,3,2,1]\n",
    "x = [main, offer, cart, success]\n",
    "x_max = 100\n",
    "x_min = 0\n",
    "x_range = x_max - x_min\n",
    "\n",
    "labels = ['просмотр главной страницы','просмотр страницы продуктов', 'переход к корзине', 'успешная оплата покупки']\n",
    "\n",
    "# задаем собственно изображение графика\n",
    "fig, ax = plt.subplots(1, figsize=(12,4))\n",
    "\n",
    "for idx, val in enumerate(x):\n",
    "    # график\n",
    "    left = (x_range - val)/2\n",
    "    plt.barh(y[idx], x[idx], left = left, color='steelblue',\n",
    "             height=.8, edgecolor='royalblue')\n",
    "    # шаги воронки\n",
    "    plt.text(50, y[idx]+0.1, labels[idx], ha='center', fontsize=12, color='#2A2A2A')\n",
    "    # значения долей\n",
    "    plt.text(50, y[idx]-0.3, x[idx], ha='center', fontsize=12, color='#2A2A2A')\n",
    "    \n",
    "# задаем параметры графика\n",
    "plt.xlim(x_min, x_max)\n",
    "plt.axis('off')\n",
    "plt.title('Воронка событий и доли пользователей (%) без учета временных меток', loc='center', fontsize=16, color='#2A2A2A')\n",
    "\n",
    "# выводим результат\n",
    "print()\n",
    "plt.show()\n",
    "print()"
   ]
  },
  {
   "cell_type": "markdown",
   "id": "66db270b",
   "metadata": {},
   "source": [
    "Отчетливо видно, что как мы и отмечали в целом конверсия по шагам довольно высокая, за исключением второго шага - перехода от главной страницы к просмотру продуктов, на котором теряется 38.1% польователей."
   ]
  },
  {
   "cell_type": "markdown",
   "id": "967b6bc2",
   "metadata": {},
   "source": [
    "##### Теперь попробуем построить воронку с учетом временных меток каждого шага."
   ]
  },
  {
   "cell_type": "markdown",
   "id": "130c4b20",
   "metadata": {},
   "source": [
    "Построение этой воронки более сложное дело, поскольку нужно учитывать не только количество пользователей на каждом шаге, но и для каждого конкретного пользователя сопоставлять время первого \"прохождения\" каждого шага и проверять, чтобы каждый следующий шаг был действительно пройден позже предыдущего.\n",
    "\n",
    "В качестве основы для дальнейших расчетов создадим датафрейм, в котором для каждого пользователя будут заданы временные метки каждого события."
   ]
  },
  {
   "cell_type": "code",
   "execution_count": 54,
   "id": "368c7de6",
   "metadata": {},
   "outputs": [
    {
     "data": {
      "text/html": [
       "<div>\n",
       "<style scoped>\n",
       "    .dataframe tbody tr th:only-of-type {\n",
       "        vertical-align: middle;\n",
       "    }\n",
       "\n",
       "    .dataframe tbody tr th {\n",
       "        vertical-align: top;\n",
       "    }\n",
       "\n",
       "    .dataframe thead th {\n",
       "        text-align: right;\n",
       "    }\n",
       "</style>\n",
       "<table border=\"1\" class=\"dataframe\">\n",
       "  <thead>\n",
       "    <tr style=\"text-align: right;\">\n",
       "      <th>event</th>\n",
       "      <th>CartScreenAppear</th>\n",
       "      <th>MainScreenAppear</th>\n",
       "      <th>OffersScreenAppear</th>\n",
       "      <th>PaymentScreenSuccessful</th>\n",
       "      <th>Tutorial</th>\n",
       "    </tr>\n",
       "    <tr>\n",
       "      <th>user</th>\n",
       "      <th></th>\n",
       "      <th></th>\n",
       "      <th></th>\n",
       "      <th></th>\n",
       "      <th></th>\n",
       "    </tr>\n",
       "  </thead>\n",
       "  <tbody>\n",
       "    <tr>\n",
       "      <th>3737462046622621720</th>\n",
       "      <td>2019-08-01 13:30:20</td>\n",
       "      <td>2019-08-01 00:08:00</td>\n",
       "      <td>2019-08-01 00:08:58</td>\n",
       "      <td>2019-08-01 13:30:37</td>\n",
       "      <td>2019-08-01 00:07:28</td>\n",
       "    </tr>\n",
       "    <tr>\n",
       "      <th>1433840883824088890</th>\n",
       "      <td>NaT</td>\n",
       "      <td>2019-08-01 00:08:59</td>\n",
       "      <td>NaT</td>\n",
       "      <td>NaT</td>\n",
       "      <td>NaT</td>\n",
       "    </tr>\n",
       "    <tr>\n",
       "      <th>4899590676214355127</th>\n",
       "      <td>2019-08-01 10:04:00</td>\n",
       "      <td>2019-08-01 00:10:15</td>\n",
       "      <td>2019-08-01 00:11:30</td>\n",
       "      <td>2019-08-01 10:04:00</td>\n",
       "      <td>NaT</td>\n",
       "    </tr>\n",
       "    <tr>\n",
       "      <th>1182179323890311443</th>\n",
       "      <td>NaT</td>\n",
       "      <td>2019-08-01 00:11:57</td>\n",
       "      <td>NaT</td>\n",
       "      <td>NaT</td>\n",
       "      <td>NaT</td>\n",
       "    </tr>\n",
       "    <tr>\n",
       "      <th>4613461174774205834</th>\n",
       "      <td>2019-08-01 00:14:34</td>\n",
       "      <td>2019-08-01 00:14:31</td>\n",
       "      <td>2019-08-01 00:14:51</td>\n",
       "      <td>2019-08-01 00:14:43</td>\n",
       "      <td>NaT</td>\n",
       "    </tr>\n",
       "    <tr>\n",
       "      <th>...</th>\n",
       "      <td>...</td>\n",
       "      <td>...</td>\n",
       "      <td>...</td>\n",
       "      <td>...</td>\n",
       "      <td>...</td>\n",
       "    </tr>\n",
       "    <tr>\n",
       "      <th>8586953157808767383</th>\n",
       "      <td>2019-08-03 11:19:23</td>\n",
       "      <td>NaT</td>\n",
       "      <td>2019-08-03 11:18:46</td>\n",
       "      <td>2019-08-03 11:19:23</td>\n",
       "      <td>NaT</td>\n",
       "    </tr>\n",
       "    <tr>\n",
       "      <th>8804319115517716344</th>\n",
       "      <td>2019-08-02 08:50:05</td>\n",
       "      <td>NaT</td>\n",
       "      <td>2019-08-02 08:50:15</td>\n",
       "      <td>2019-08-02 08:50:04</td>\n",
       "      <td>NaT</td>\n",
       "    </tr>\n",
       "    <tr>\n",
       "      <th>8821171531680573201</th>\n",
       "      <td>2019-08-02 08:42:42</td>\n",
       "      <td>NaT</td>\n",
       "      <td>2019-08-02 08:42:33</td>\n",
       "      <td>2019-08-02 08:42:41</td>\n",
       "      <td>NaT</td>\n",
       "    </tr>\n",
       "    <tr>\n",
       "      <th>9124766629178994679</th>\n",
       "      <td>2019-08-02 18:35:42</td>\n",
       "      <td>NaT</td>\n",
       "      <td>2019-08-01 13:23:52</td>\n",
       "      <td>2019-08-02 18:35:41</td>\n",
       "      <td>NaT</td>\n",
       "    </tr>\n",
       "    <tr>\n",
       "      <th>9217594193087726423</th>\n",
       "      <td>2019-08-02 09:00:58</td>\n",
       "      <td>NaT</td>\n",
       "      <td>2019-08-02 09:01:08</td>\n",
       "      <td>2019-08-02 09:00:57</td>\n",
       "      <td>NaT</td>\n",
       "    </tr>\n",
       "  </tbody>\n",
       "</table>\n",
       "<p>7534 rows × 5 columns</p>\n",
       "</div>"
      ],
      "text/plain": [
       "event                  CartScreenAppear    MainScreenAppear  \\\n",
       "user                                                          \n",
       "3737462046622621720 2019-08-01 13:30:20 2019-08-01 00:08:00   \n",
       "1433840883824088890 NaT                 2019-08-01 00:08:59   \n",
       "4899590676214355127 2019-08-01 10:04:00 2019-08-01 00:10:15   \n",
       "1182179323890311443 NaT                 2019-08-01 00:11:57   \n",
       "4613461174774205834 2019-08-01 00:14:34 2019-08-01 00:14:31   \n",
       "...                  ..                                 ...   \n",
       "8586953157808767383 2019-08-03 11:19:23 NaT                   \n",
       "8804319115517716344 2019-08-02 08:50:05 NaT                   \n",
       "8821171531680573201 2019-08-02 08:42:42 NaT                   \n",
       "9124766629178994679 2019-08-02 18:35:42 NaT                   \n",
       "9217594193087726423 2019-08-02 09:00:58 NaT                   \n",
       "\n",
       "event                OffersScreenAppear PaymentScreenSuccessful  \\\n",
       "user                                                              \n",
       "3737462046622621720 2019-08-01 00:08:58 2019-08-01 13:30:37       \n",
       "1433840883824088890 NaT                 NaT                       \n",
       "4899590676214355127 2019-08-01 00:11:30 2019-08-01 10:04:00       \n",
       "1182179323890311443 NaT                 NaT                       \n",
       "4613461174774205834 2019-08-01 00:14:51 2019-08-01 00:14:43       \n",
       "...                  ..                  ..                       \n",
       "8586953157808767383 2019-08-03 11:18:46 2019-08-03 11:19:23       \n",
       "8804319115517716344 2019-08-02 08:50:15 2019-08-02 08:50:04       \n",
       "8821171531680573201 2019-08-02 08:42:33 2019-08-02 08:42:41       \n",
       "9124766629178994679 2019-08-01 13:23:52 2019-08-02 18:35:41       \n",
       "9217594193087726423 2019-08-02 09:01:08 2019-08-02 09:00:57       \n",
       "\n",
       "event                          Tutorial  \n",
       "user                                     \n",
       "3737462046622621720 2019-08-01 00:07:28  \n",
       "1433840883824088890 NaT                  \n",
       "4899590676214355127 NaT                  \n",
       "1182179323890311443 NaT                  \n",
       "4613461174774205834 NaT                  \n",
       "...                  ..                  \n",
       "8586953157808767383 NaT                  \n",
       "8804319115517716344 NaT                  \n",
       "8821171531680573201 NaT                  \n",
       "9124766629178994679 NaT                  \n",
       "9217594193087726423 NaT                  \n",
       "\n",
       "[7534 rows x 5 columns]"
      ]
     },
     "execution_count": 54,
     "metadata": {},
     "output_type": "execute_result"
    }
   ],
   "source": [
    "# # делаем сводную табличку по пользователям с временными метками событий\n",
    "consist_steps_per_user = logs_aug.pivot_table(index='user', columns='event', values='timestamp', aggfunc='min') \\\n",
    "                                                           .sort_values(by='MainScreenAppear', ascending=True )\n",
    "# смотрим что получилось\n",
    "consist_steps_per_user"
   ]
  },
  {
   "cell_type": "markdown",
   "id": "fb538ca8",
   "metadata": {},
   "source": [
    "Количество уникальных пользователей будем определять соответствующим количеством строк, удовлетворяющим условию последовательности шагов.\n",
    "\n",
    "Проверим количество пользователей на первом шаге - просмортре основной страницы приложения. Поскольку это шаг первый - то количество должно быть одинаковым для обоих типов воронок и соответственно здесь должно быть равно 7419 (как мы считали ранее)"
   ]
  },
  {
   "cell_type": "code",
   "execution_count": 55,
   "id": "b9e2f51e",
   "metadata": {},
   "outputs": [
    {
     "data": {
      "text/plain": [
       "7419"
      ]
     },
     "execution_count": 55,
     "metadata": {},
     "output_type": "execute_result"
    }
   ],
   "source": [
    "# считаем количество пользователей на первом шаге\n",
    "consist_users_main = consist_steps_per_user[~consist_steps_per_user['MainScreenAppear'].isna()].shape[0]\n",
    "\n",
    "\n",
    "# смотрим что получилось\n",
    "consist_users_main"
   ]
  },
  {
   "cell_type": "markdown",
   "id": "7de44d3c",
   "metadata": {},
   "source": [
    "Количество уникальных пользователей на первом шаге совпадает с нашими ожиданиями. Значит по всей видимости созданная нами основа  для расчетов надежна и методика работает.\n",
    "\n",
    "Аналогичным образом (через shape[0]) посчитаем количество пользователей на каждом шаге, так чтобы временные метки каждого следующего шага были позже (больше) меток предыдущего шага."
   ]
  },
  {
   "cell_type": "code",
   "execution_count": 56,
   "id": "0be74ae5",
   "metadata": {},
   "outputs": [
    {
     "name": "stdout",
     "output_type": "stream",
     "text": [
      "Находящихся на главной странице =  7419 пользователей\n",
      "Выбирающих конкретные продукты  =  4201 пользователь\n",
      "Перешедших к корзине продуктов  =  1767 пользователей\n",
      "Успешно  завершивших  покупку   =  454 пользователя\n",
      "\n"
     ]
    }
   ],
   "source": [
    "# считаем количество пользователей на каждом шаге\n",
    "\n",
    "consist_users_offer = consist_steps_per_user[\n",
    "                    (~consist_steps_per_user['MainScreenAppear'].isna()) &\n",
    "                    ( consist_steps_per_user['OffersScreenAppear'] > consist_steps_per_user['MainScreenAppear'])\n",
    "                                            ].shape[0] \n",
    "\n",
    "consist_users_cart = consist_steps_per_user[\n",
    "                    (~consist_steps_per_user['MainScreenAppear'].isna()) &\n",
    "                    ( consist_steps_per_user['OffersScreenAppear'] > consist_steps_per_user['MainScreenAppear']) &\n",
    "                    ( consist_steps_per_user['CartScreenAppear'] > consist_steps_per_user['OffersScreenAppear'])\n",
    "                                            ].shape[0]\n",
    "\n",
    "consist_users_success = consist_steps_per_user[\n",
    "                    (~consist_steps_per_user['MainScreenAppear'].isna()) &\n",
    "                    ( consist_steps_per_user['OffersScreenAppear'] > consist_steps_per_user['MainScreenAppear']) &\n",
    "                    ( consist_steps_per_user['CartScreenAppear'] > consist_steps_per_user['OffersScreenAppear']) &\n",
    "                    ( consist_steps_per_user['PaymentScreenSuccessful'] > consist_steps_per_user['CartScreenAppear'])\n",
    "                                            ].shape[0]\n",
    "\n",
    "# смотрим что получилось\n",
    "print('Находящихся на главной странице = ', consist_users_main, 'пользователей', sep=' ')\n",
    "print('Выбирающих конкретные продукты  = ', consist_users_offer, 'пользователь', sep=' ')\n",
    "print('Перешедших к корзине продуктов  = ', consist_users_cart, 'пользователей', sep=' ')\n",
    "print('Успешно  завершивших  покупку   = ', consist_users_success, 'пользователя', sep=' ')\n",
    "print()"
   ]
  },
  {
   "cell_type": "markdown",
   "id": "47587cf2",
   "metadata": {},
   "source": [
    "###### Видим\n",
    "\n",
    "что с учетом временных меток событий соотношения количества клиентов на каждом из шагов выглядит совершенно иначе."
   ]
  },
  {
   "cell_type": "markdown",
   "id": "b092dc3d",
   "metadata": {},
   "source": [
    "Посчитаем теперь доли пользователей, перешедших на каждый следующий шаг."
   ]
  },
  {
   "cell_type": "code",
   "execution_count": 57,
   "id": "221481c2",
   "metadata": {},
   "outputs": [
    {
     "name": "stdout",
     "output_type": "stream",
     "text": [
      "Находящихся на главной странице =  100 %\n",
      "Выбирающих конкретные продукты  =  56.6 %  от бывших на главной странице\n",
      "Перешедших к корзине продуктов  =  42.1 %  от бывших на странице предложений\n",
      "Успешно  завершивших  покупку   =  25.7 %  от  бывших на странице корзины\n",
      "\n"
     ]
    }
   ],
   "source": [
    "# считаем долю второго шага воронки к первому\n",
    "consist_share_offer_to_main = round( 100 * consist_users_offer / consist_users_main , 1 ) \n",
    "\n",
    "# считаем долю третьего шага воронки ко второму\n",
    "consist_share_cart_to_offer = round( 100 * consist_users_cart / consist_users_offer , 1 ) \n",
    "\n",
    "# считаем долю четвертого шага воронки к третьему\n",
    "consist_share_success_to_cart = round( 100 * consist_users_success / consist_users_cart , 1 ) \n",
    "\n",
    "# смотрим что получилось\n",
    "print('Находящихся на главной странице = ', 100, '%', sep=' ')\n",
    "print('Выбирающих конкретные продукты  = ', consist_share_offer_to_main, '%  от бывших на главной странице', sep=' ')\n",
    "print('Перешедших к корзине продуктов  = ', consist_share_cart_to_offer, '%  от бывших на странице предложений', sep=' ')\n",
    "print('Успешно  завершивших  покупку   = ', consist_share_success_to_cart, '%  от  бывших на странице корзины', sep=' ')\n",
    "print()"
   ]
  },
  {
   "cell_type": "markdown",
   "id": "5c4a95fe",
   "metadata": {},
   "source": [
    "###### Видим с учетом временных отметок последовательности событий\n",
    "\n",
    "В общем с учетом временных отметок и последовательности шагов воронка выглядит \"более проблемной\", нежели так, которую мы смотрели ранее.\n",
    "\n",
    "1. При переходе от первого шага воронки ко второму из 100% пользователей просматривавших основной экран приложения только 56.6% перешли к странице с конкретными предложениями товаров/продуктов. Таким образом на этом шаге \"теряется\" 43.4% пользователей. Хотя на фоне остальных этот шаг выглядит относительно \"здоровым\", тем не менее хорошо было бы подробнее изучить поведение клиентов в этом месте: почему просмотрев главную страницу они не знакомятся с конкретными предложениями, что является барьером. По всей видимости здесь вопрос скорее психилогический и можно придумать довольно простые методы простимулировать человека \"двигаться дальше\". \n",
    "\n",
    "2. От второго шага к третьему - от просмотра конкретных продуктов к корзине заказа - переходят 42.1%, то есть потери даже выше, чем на предыдущем шаге  и составляют 57.9%. Это значит, что чуть меньше 60% пользователей либо не находят нужный продукт, либо не уверены в его качестве или цене. Здесь есть над чем поработать продуктовикам: повнимательнее изучить соответствие ассортимента запросам клиентов, потестировать какие-то ценовые гипотезы и т.д.\n",
    "\n",
    "3. Из пользователей, просмотревших корзину и начавших совершать оплату успешно ее завершают 25.7%, что очень мало, хотя и нейдивительно, при условии сложности и многогранности самого процесса (взаимодействие с банком и платежной системой, состояние счета пользователя в банке, различные лимиты на карте и т.д.) - сбой может произойти в массе мест. Тем не менее здесь \"потери\" самые высокие в воронке и по всей видимости именно на этом \"тонком месте\" необходимо сосредоточить максимум усилий по бесшовному и гладкому прохождению цепочки оплаты."
   ]
  },
  {
   "cell_type": "markdown",
   "id": "a4adcc07",
   "metadata": {},
   "source": [
    "Посмотрим какая доля пользователей проходит всю воронку, то есть доходит от просмотра главной страницы до успешного завершения оплаты покупки."
   ]
  },
  {
   "cell_type": "code",
   "execution_count": 58,
   "id": "89dde01f",
   "metadata": {},
   "outputs": [
    {
     "name": "stdout",
     "output_type": "stream",
     "text": [
      "Процент успешно завершивших оплату окупки к бывшим на главной странице =  6.1 %\n",
      "\n"
     ]
    }
   ],
   "source": [
    "# считаем долю четвертого шага воронки к первому\n",
    "consist_share_success_to_main = round( 100 * consist_users_success / consist_users_main , 1 ) \n",
    "\n",
    "# смотрим что получилось\n",
    "print('Процент успешно завершивших оплату окупки к бывшим на главной странице = ', consist_share_success_to_main, '%', sep=' ')\n",
    "print()"
   ]
  },
  {
   "cell_type": "markdown",
   "id": "dc74ee3c",
   "metadata": {},
   "source": [
    "###### Видим\n",
    "\n",
    "что из всех пользователей, знакомящихся с главной страницей приложения упешно завершают покупку только чуть более 6%.         \n",
    "Причина столь незначительного результата - существенные потери на каждом шаге воронки."
   ]
  },
  {
   "cell_type": "markdown",
   "id": "1c071142",
   "metadata": {},
   "source": [
    "###### В результате воронка выглядит следующим образом:"
   ]
  },
  {
   "cell_type": "code",
   "execution_count": 59,
   "id": "12c5a6b0",
   "metadata": {
    "scrolled": false
   },
   "outputs": [
    {
     "name": "stdout",
     "output_type": "stream",
     "text": [
      "\n"
     ]
    },
    {
     "data": {
      "image/png": "[encoded data removed]",
      "text/plain": [
       "<Figure size 1200x400 with 1 Axes>"
      ]
     },
     "metadata": {},
     "output_type": "display_data"
    },
    {
     "name": "stdout",
     "output_type": "stream",
     "text": [
      "\n"
     ]
    }
   ],
   "source": [
    "# задаем посчитанные ранее доли в воронке\n",
    "main = 100\n",
    "offer = round( 0.01 * main * consist_share_offer_to_main , 1 )\n",
    "cart = round( 0.01 * offer * consist_share_cart_to_offer , 1 )\n",
    "success = round( 0.01 * cart * consist_share_success_to_cart, 1 )\n",
    "# задаем значения для графика\n",
    "y = [4,3,2,1]\n",
    "x = [main, offer, cart, success]\n",
    "x_max = 100\n",
    "x_min = 0\n",
    "x_range = x_max - x_min\n",
    "\n",
    "labels = ['просмотр главной страницы','просмотр страницы продуктов', 'переход к корзине', 'успешная оплата покупки']\n",
    "\n",
    "# задаем собственно изображение графика\n",
    "fig, ax = plt.subplots(1, figsize=(12,4))\n",
    "\n",
    "for idx, val in enumerate(x):\n",
    "    # график\n",
    "    left = (x_range - val)/2\n",
    "    plt.barh(y[idx], x[idx], left = left, color='steelblue',\n",
    "             height=.8, edgecolor='royalblue')\n",
    "    # шаги воронки\n",
    "    plt.text(50, y[idx]+0.1, labels[idx], ha='center', fontsize=12, color='#2A2A2A')\n",
    "    # значения долей\n",
    "    plt.text(50, y[idx]-0.3, x[idx], ha='center', fontsize=12, color='#2A2A2A')\n",
    "    \n",
    "# задаем параметры графика\n",
    "plt.xlim(x_min, x_max)\n",
    "plt.axis('off')\n",
    "plt.title('Воронка событий и доли пользователей (%) с учетом временных меток', loc='center', fontsize=16, color='#2A2A2A')\n",
    "\n",
    "# выводим результат\n",
    "print()\n",
    "plt.show()\n",
    "print()"
   ]
  },
  {
   "cell_type": "markdown",
   "id": "dc3d9539",
   "metadata": {},
   "source": [
    "##### Отчетливо видно, \n",
    "что если строго учитывать последовательность шагов по временным отметкам - воронка действительно получается другой,      \n",
    "причем с существенно большими потерями на каждом шаге.            \n",
    "Причины этих потерь имеют по всей видимости разную природу и требудт различных усилий для их устранения."
   ]
  },
  {
   "cell_type": "markdown",
   "id": "e563ac5e",
   "metadata": {},
   "source": [
    " \n",
    "  \n",
    "  "
   ]
  },
  {
   "cell_type": "markdown",
   "id": "7eeacf7e",
   "metadata": {},
   "source": [
    "## Шаг 5. Изучение результатов эксперимента"
   ]
  },
  {
   "cell_type": "markdown",
   "id": "a62755ac",
   "metadata": {},
   "source": [
    "\n"
   ]
  },
  {
   "cell_type": "markdown",
   "id": "77b3fed7",
   "metadata": {},
   "source": [
    "В проводимом эксперименте пользователи были распределены по трем группам: две контрольные - 246 (А1) и 247 (А2) и одна экспериментальная 248 (В). При этом ранее мы убедились, что участники тестирования не переходят из группы в группу по ходу эксперимента.\n",
    "\n",
    "Посмотрим (вспомним) сколько пользователей (уникальных) попадает в каждую группу."
   ]
  },
  {
   "cell_type": "code",
   "execution_count": 60,
   "id": "3c3b0990",
   "metadata": {
    "scrolled": true
   },
   "outputs": [
    {
     "data": {
      "text/html": [
       "<div>\n",
       "<style scoped>\n",
       "    .dataframe tbody tr th:only-of-type {\n",
       "        vertical-align: middle;\n",
       "    }\n",
       "\n",
       "    .dataframe tbody tr th {\n",
       "        vertical-align: top;\n",
       "    }\n",
       "\n",
       "    .dataframe thead th {\n",
       "        text-align: right;\n",
       "    }\n",
       "</style>\n",
       "<table border=\"1\" class=\"dataframe\">\n",
       "  <thead>\n",
       "    <tr style=\"text-align: right;\">\n",
       "      <th></th>\n",
       "      <th>group</th>\n",
       "      <th>users_in_group</th>\n",
       "    </tr>\n",
       "  </thead>\n",
       "  <tbody>\n",
       "    <tr>\n",
       "      <th>0</th>\n",
       "      <td>246</td>\n",
       "      <td>2484</td>\n",
       "    </tr>\n",
       "    <tr>\n",
       "      <th>1</th>\n",
       "      <td>247</td>\n",
       "      <td>2513</td>\n",
       "    </tr>\n",
       "    <tr>\n",
       "      <th>2</th>\n",
       "      <td>248</td>\n",
       "      <td>2537</td>\n",
       "    </tr>\n",
       "  </tbody>\n",
       "</table>\n",
       "</div>"
      ],
      "text/plain": [
       "   group  users_in_group\n",
       "0  246    2484          \n",
       "1  247    2513          \n",
       "2  248    2537          "
      ]
     },
     "execution_count": 60,
     "metadata": {},
     "output_type": "execute_result"
    }
   ],
   "source": [
    "users_per_group = logs_aug.groupby('group', as_index=False).agg({'user': 'nunique'})\n",
    "users_per_group.columns = ['group', 'users_in_group']\n",
    "\n",
    "users_per_group"
   ]
  },
  {
   "cell_type": "markdown",
   "id": "f29e111c",
   "metadata": {},
   "source": [
    "В каждой группе примерно одинаковое количество пользователей - около 2.5 тысяч."
   ]
  },
  {
   "cell_type": "markdown",
   "id": "5ec4df1a",
   "metadata": {},
   "source": [
    "Проверим не числятся ли одни и те же пользователи более чем в одной группе. Если таковые есть - их наверное лучше убрать из рассмотрения (если их относительно немного), чтобы не искажали картину.              \n",
    "\n",
    "Для проверки сгруппируем датафрейм logs_aug столбцу \"user\" и посмотрим сколько уникальных групп приходится на каждого пользователя."
   ]
  },
  {
   "cell_type": "code",
   "execution_count": 61,
   "id": "378d04f9",
   "metadata": {},
   "outputs": [
    {
     "data": {
      "text/plain": [
       "1"
      ]
     },
     "metadata": {},
     "output_type": "display_data"
    },
    {
     "data": {
      "text/plain": [
       "1"
      ]
     },
     "metadata": {},
     "output_type": "display_data"
    },
    {
     "data": {
      "text/html": [
       "<div>\n",
       "<style scoped>\n",
       "    .dataframe tbody tr th:only-of-type {\n",
       "        vertical-align: middle;\n",
       "    }\n",
       "\n",
       "    .dataframe tbody tr th {\n",
       "        vertical-align: top;\n",
       "    }\n",
       "\n",
       "    .dataframe thead th {\n",
       "        text-align: right;\n",
       "    }\n",
       "</style>\n",
       "<table border=\"1\" class=\"dataframe\">\n",
       "  <thead>\n",
       "    <tr style=\"text-align: right;\">\n",
       "      <th></th>\n",
       "      <th>user</th>\n",
       "      <th>group</th>\n",
       "    </tr>\n",
       "  </thead>\n",
       "  <tbody>\n",
       "    <tr>\n",
       "      <th>0</th>\n",
       "      <td>6888746892508752</td>\n",
       "      <td>1</td>\n",
       "    </tr>\n",
       "    <tr>\n",
       "      <th>1</th>\n",
       "      <td>6909561520679493</td>\n",
       "      <td>1</td>\n",
       "    </tr>\n",
       "  </tbody>\n",
       "</table>\n",
       "</div>"
      ],
      "text/plain": [
       "               user  group\n",
       "0  6888746892508752  1    \n",
       "1  6909561520679493  1    "
      ]
     },
     "execution_count": 61,
     "metadata": {},
     "output_type": "execute_result"
    }
   ],
   "source": [
    "groups_per_user = logs_aug.groupby('user', as_index=False).agg({'group': 'nunique'})\n",
    "groups_per_user.sort_values(by='group', ascending=False)\n",
    "\n",
    "display(groups_per_user['group'].max())\n",
    "display(groups_per_user['group'].min())\n",
    "groups_per_user.head(2)"
   ]
  },
  {
   "cell_type": "markdown",
   "id": "ecbb11d3",
   "metadata": {},
   "source": [
    "Видим,    \n",
    "что количество уникальных групп для всех пользователей равно одной.              \n",
    "То есть все пользователи распределены по группам без дубликатов и пересечений: каждый пользователь принадлежит только одной группе."
   ]
  },
  {
   "cell_type": "markdown",
   "id": "d20f9ab1",
   "metadata": {},
   "source": [
    "Поскольку суть проводимого эксперимента в том, чтобы протестировать влияние новых шрифтов, которые поменялись во всем приложении, то никакого влияния на собственно вид воронки это нововведение оказать по идее не должно.        \n",
    "Возьмем за исходные данные за период с 1 по 7 августа 2019 года (из датасета logs_aug), которые мы брали для построения воронки бе привязки событий друг к другу по времени.  \n",
    "\n",
    "Вначале посмотрим (вспомним) сколько событий каждого типа было в этот период ... "
   ]
  },
  {
   "cell_type": "code",
   "execution_count": 62,
   "id": "631fe910",
   "metadata": {},
   "outputs": [
    {
     "data": {
      "text/html": [
       "<div>\n",
       "<style scoped>\n",
       "    .dataframe tbody tr th:only-of-type {\n",
       "        vertical-align: middle;\n",
       "    }\n",
       "\n",
       "    .dataframe tbody tr th {\n",
       "        vertical-align: top;\n",
       "    }\n",
       "\n",
       "    .dataframe thead th {\n",
       "        text-align: right;\n",
       "    }\n",
       "</style>\n",
       "<table border=\"1\" class=\"dataframe\">\n",
       "  <thead>\n",
       "    <tr style=\"text-align: right;\">\n",
       "      <th></th>\n",
       "      <th>user</th>\n",
       "    </tr>\n",
       "    <tr>\n",
       "      <th>event</th>\n",
       "      <th></th>\n",
       "    </tr>\n",
       "  </thead>\n",
       "  <tbody>\n",
       "    <tr>\n",
       "      <th>MainScreenAppear</th>\n",
       "      <td>117328</td>\n",
       "    </tr>\n",
       "    <tr>\n",
       "      <th>OffersScreenAppear</th>\n",
       "      <td>46333</td>\n",
       "    </tr>\n",
       "    <tr>\n",
       "      <th>CartScreenAppear</th>\n",
       "      <td>42303</td>\n",
       "    </tr>\n",
       "    <tr>\n",
       "      <th>PaymentScreenSuccessful</th>\n",
       "      <td>33918</td>\n",
       "    </tr>\n",
       "    <tr>\n",
       "      <th>Tutorial</th>\n",
       "      <td>1005</td>\n",
       "    </tr>\n",
       "  </tbody>\n",
       "</table>\n",
       "</div>"
      ],
      "text/plain": [
       "                           user\n",
       "event                          \n",
       "MainScreenAppear         117328\n",
       "OffersScreenAppear       46333 \n",
       "CartScreenAppear         42303 \n",
       "PaymentScreenSuccessful  33918 \n",
       "Tutorial                 1005  "
      ]
     },
     "execution_count": 62,
     "metadata": {},
     "output_type": "execute_result"
    }
   ],
   "source": [
    "events_per_type_aug"
   ]
  },
  {
   "cell_type": "markdown",
   "id": "000a37b6",
   "metadata": {},
   "source": [
    "... и сколько пользователей (уникальных) совершает каждое действие/событие."
   ]
  },
  {
   "cell_type": "code",
   "execution_count": 63,
   "id": "4ec0f80a",
   "metadata": {},
   "outputs": [
    {
     "data": {
      "text/html": [
       "<div>\n",
       "<style scoped>\n",
       "    .dataframe tbody tr th:only-of-type {\n",
       "        vertical-align: middle;\n",
       "    }\n",
       "\n",
       "    .dataframe tbody tr th {\n",
       "        vertical-align: top;\n",
       "    }\n",
       "\n",
       "    .dataframe thead th {\n",
       "        text-align: right;\n",
       "    }\n",
       "</style>\n",
       "<table border=\"1\" class=\"dataframe\">\n",
       "  <thead>\n",
       "    <tr style=\"text-align: right;\">\n",
       "      <th></th>\n",
       "      <th>user</th>\n",
       "    </tr>\n",
       "    <tr>\n",
       "      <th>event</th>\n",
       "      <th></th>\n",
       "    </tr>\n",
       "  </thead>\n",
       "  <tbody>\n",
       "    <tr>\n",
       "      <th>MainScreenAppear</th>\n",
       "      <td>7419</td>\n",
       "    </tr>\n",
       "    <tr>\n",
       "      <th>OffersScreenAppear</th>\n",
       "      <td>4593</td>\n",
       "    </tr>\n",
       "    <tr>\n",
       "      <th>CartScreenAppear</th>\n",
       "      <td>3734</td>\n",
       "    </tr>\n",
       "    <tr>\n",
       "      <th>PaymentScreenSuccessful</th>\n",
       "      <td>3539</td>\n",
       "    </tr>\n",
       "    <tr>\n",
       "      <th>Tutorial</th>\n",
       "      <td>840</td>\n",
       "    </tr>\n",
       "  </tbody>\n",
       "</table>\n",
       "</div>"
      ],
      "text/plain": [
       "                         user\n",
       "event                        \n",
       "MainScreenAppear         7419\n",
       "OffersScreenAppear       4593\n",
       "CartScreenAppear         3734\n",
       "PaymentScreenSuccessful  3539\n",
       "Tutorial                 840 "
      ]
     },
     "execution_count": 63,
     "metadata": {},
     "output_type": "execute_result"
    }
   ],
   "source": [
    "users_per_event_aug"
   ]
  },
  {
   "cell_type": "markdown",
   "id": "92df2063",
   "metadata": {},
   "source": [
    "Заметим, что самое популярное событие - это просмотр основной страницы приложения. Его посмотрели 7419 пользователей 117328 раз за неделю.   \n",
    "Наименее популярное событие - это просмотр руководства пользователя приложения. Его посмотрели только 840 пользователей 1005 раз. Как мы уже заключали раньше - это событие не только самое редкое, но и не входит в воронки. Поэтому исключим его из дальнейшего рассмотрения.\n",
    "\n",
    "\n",
    "На основе logs_aug сформируем новый фрейм, который для каждого типа события (кроме 'Tutorial') будет содержать количество пользователей из каждой группы, совершивших это событие и долю таких пользователей среди всех пользователей в группе."
   ]
  },
  {
   "cell_type": "code",
   "execution_count": 64,
   "id": "ddbff417",
   "metadata": {},
   "outputs": [
    {
     "data": {
      "text/html": [
       "<div>\n",
       "<style scoped>\n",
       "    .dataframe tbody tr th:only-of-type {\n",
       "        vertical-align: middle;\n",
       "    }\n",
       "\n",
       "    .dataframe tbody tr th {\n",
       "        vertical-align: top;\n",
       "    }\n",
       "\n",
       "    .dataframe thead th {\n",
       "        text-align: right;\n",
       "    }\n",
       "</style>\n",
       "<table border=\"1\" class=\"dataframe\">\n",
       "  <thead>\n",
       "    <tr style=\"text-align: right;\">\n",
       "      <th></th>\n",
       "      <th>event</th>\n",
       "      <th>group</th>\n",
       "      <th>users_per_event</th>\n",
       "      <th>users_in_group</th>\n",
       "      <th>event_group_share</th>\n",
       "    </tr>\n",
       "  </thead>\n",
       "  <tbody>\n",
       "    <tr>\n",
       "      <th>0</th>\n",
       "      <td>CartScreenAppear</td>\n",
       "      <td>246</td>\n",
       "      <td>1266</td>\n",
       "      <td>2484</td>\n",
       "      <td>0.509662</td>\n",
       "    </tr>\n",
       "    <tr>\n",
       "      <th>1</th>\n",
       "      <td>CartScreenAppear</td>\n",
       "      <td>247</td>\n",
       "      <td>1238</td>\n",
       "      <td>2513</td>\n",
       "      <td>0.492638</td>\n",
       "    </tr>\n",
       "    <tr>\n",
       "      <th>2</th>\n",
       "      <td>CartScreenAppear</td>\n",
       "      <td>248</td>\n",
       "      <td>1230</td>\n",
       "      <td>2537</td>\n",
       "      <td>0.484825</td>\n",
       "    </tr>\n",
       "    <tr>\n",
       "      <th>3</th>\n",
       "      <td>MainScreenAppear</td>\n",
       "      <td>246</td>\n",
       "      <td>2450</td>\n",
       "      <td>2484</td>\n",
       "      <td>0.986312</td>\n",
       "    </tr>\n",
       "    <tr>\n",
       "      <th>4</th>\n",
       "      <td>MainScreenAppear</td>\n",
       "      <td>247</td>\n",
       "      <td>2476</td>\n",
       "      <td>2513</td>\n",
       "      <td>0.985277</td>\n",
       "    </tr>\n",
       "    <tr>\n",
       "      <th>5</th>\n",
       "      <td>MainScreenAppear</td>\n",
       "      <td>248</td>\n",
       "      <td>2493</td>\n",
       "      <td>2537</td>\n",
       "      <td>0.982657</td>\n",
       "    </tr>\n",
       "    <tr>\n",
       "      <th>6</th>\n",
       "      <td>OffersScreenAppear</td>\n",
       "      <td>246</td>\n",
       "      <td>1542</td>\n",
       "      <td>2484</td>\n",
       "      <td>0.620773</td>\n",
       "    </tr>\n",
       "    <tr>\n",
       "      <th>7</th>\n",
       "      <td>OffersScreenAppear</td>\n",
       "      <td>247</td>\n",
       "      <td>1520</td>\n",
       "      <td>2513</td>\n",
       "      <td>0.604855</td>\n",
       "    </tr>\n",
       "    <tr>\n",
       "      <th>8</th>\n",
       "      <td>OffersScreenAppear</td>\n",
       "      <td>248</td>\n",
       "      <td>1531</td>\n",
       "      <td>2537</td>\n",
       "      <td>0.603469</td>\n",
       "    </tr>\n",
       "    <tr>\n",
       "      <th>9</th>\n",
       "      <td>PaymentScreenSuccessful</td>\n",
       "      <td>246</td>\n",
       "      <td>1200</td>\n",
       "      <td>2484</td>\n",
       "      <td>0.483092</td>\n",
       "    </tr>\n",
       "    <tr>\n",
       "      <th>10</th>\n",
       "      <td>PaymentScreenSuccessful</td>\n",
       "      <td>247</td>\n",
       "      <td>1158</td>\n",
       "      <td>2513</td>\n",
       "      <td>0.460804</td>\n",
       "    </tr>\n",
       "    <tr>\n",
       "      <th>11</th>\n",
       "      <td>PaymentScreenSuccessful</td>\n",
       "      <td>248</td>\n",
       "      <td>1181</td>\n",
       "      <td>2537</td>\n",
       "      <td>0.465510</td>\n",
       "    </tr>\n",
       "  </tbody>\n",
       "</table>\n",
       "</div>"
      ],
      "text/plain": [
       "                      event  group  users_per_event  users_in_group  \\\n",
       "0   CartScreenAppear         246    1266             2484             \n",
       "1   CartScreenAppear         247    1238             2513             \n",
       "2   CartScreenAppear         248    1230             2537             \n",
       "3   MainScreenAppear         246    2450             2484             \n",
       "4   MainScreenAppear         247    2476             2513             \n",
       "5   MainScreenAppear         248    2493             2537             \n",
       "6   OffersScreenAppear       246    1542             2484             \n",
       "7   OffersScreenAppear       247    1520             2513             \n",
       "8   OffersScreenAppear       248    1531             2537             \n",
       "9   PaymentScreenSuccessful  246    1200             2484             \n",
       "10  PaymentScreenSuccessful  247    1158             2513             \n",
       "11  PaymentScreenSuccessful  248    1181             2537             \n",
       "\n",
       "    event_group_share  \n",
       "0   0.509662           \n",
       "1   0.492638           \n",
       "2   0.484825           \n",
       "3   0.986312           \n",
       "4   0.985277           \n",
       "5   0.982657           \n",
       "6   0.620773           \n",
       "7   0.604855           \n",
       "8   0.603469           \n",
       "9   0.483092           \n",
       "10  0.460804           \n",
       "11  0.465510           "
      ]
     },
     "execution_count": 64,
     "metadata": {},
     "output_type": "execute_result"
    }
   ],
   "source": [
    "# формируем датафрейм с типами событий,группами и количеством пользователей, совершивших событие\n",
    "logs_aug_exp = logs_aug.groupby(['event', 'group'], as_index=False).agg({'user': 'nunique'})\n",
    "logs_aug_exp.columns = ['event','group', 'users_per_event']\n",
    "\n",
    "# убираем 'Tutorial'\n",
    "logs_aug_exp = logs_aug_exp[logs_aug_exp['event'] != 'Tutorial']\n",
    "\n",
    "# добавляем столбец с общим количеством пользователей в группах\n",
    "logs_aug_exp = logs_aug_exp.merge(users_per_group,how='left', on='group')\n",
    "\n",
    "# добавляем столбец с долей в группах пользователей, совершивших событие\n",
    "logs_aug_exp['event_group_share'] = logs_aug_exp['users_per_event'] / logs_aug_exp['users_in_group']\n",
    "\n",
    "# для удобства сортируем данные\n",
    "logs_aug_exp.sort_values(by=['event','group'], ascending=True, inplace=True)\n",
    "\n",
    "# смотрим что получилось\n",
    "logs_aug_exp"
   ]
  },
  {
   "cell_type": "markdown",
   "id": "bb4af34d",
   "metadata": {},
   "source": [
    "Визуализируем долю столбчатой диаграммой"
   ]
  },
  {
   "cell_type": "code",
   "execution_count": 65,
   "id": "2ca0c95c",
   "metadata": {},
   "outputs": [
    {
     "data": {
      "image/png": "[encoded data removed]",
      "text/plain": [
       "<Figure size 1200x500 with 1 Axes>"
      ]
     },
     "metadata": {},
     "output_type": "display_data"
    }
   ],
   "source": [
    "# формируем график\n",
    "logs_aug_exp.pivot_table( index='event', columns= 'group', values = 'event_group_share').plot.bar(figsize = (12,5))\n",
    "\n",
    "# задаем параметры\n",
    "plt.grid(True)\n",
    "plt.legend()\n",
    "plt.xlabel('Тип события')\n",
    "plt.ylabel('Доля пользователей в группе')\n",
    "plt.title('Доля пользователей, совершивших событие в группе')\n",
    "\n",
    "# выводим результат\n",
    "plt.show()"
   ]
  },
  {
   "cell_type": "markdown",
   "id": "15c65649",
   "metadata": {},
   "source": [
    "###### Видим\n",
    "\n",
    "1. Самое популярное событие действительно\"просмотр основной страницы\" - более 98% пользователей в каждой группе его совершают. Далее идут \"просмотр страницы предоложений\" - около 60% , \"переход к корзине) - около 49% и \"успешное завершение оплаты\" - около 47% в группах.\n",
    "\n",
    "2. Доли пользователей, совершивших то или иное действие отличаются по группам плюс минус 1%, что видится очень небольшим разбросом, однако нуждается в строгой проверке на статистическую значимость.\n",
    "\n",
    "3. Для двух контрольных групп 246 и 247 критерии успешности А/А теста в общем соблюдаются:\n",
    "    - для всех групп фиксируются одни и те же показатели,\n",
    "    - количество пользователей в группах на этапе начала воронки, то есть события \"просмотр основной страницы\" различается на 1%\n",
    "    - как мы выясняли ранее попавший в одну из групп посетитель остаётся в ней до конца теста. "
   ]
  },
  {
   "cell_type": "markdown",
   "id": "f82d5dac",
   "metadata": {},
   "source": [
    "Подготовим объединенную контрольную группу (А1+А2), то есть объединим данные по группам 246 и 247 в одну, чтобы можно было рассматривать ее как единую группу. Обозначим эту группу как 245"
   ]
  },
  {
   "cell_type": "code",
   "execution_count": 66,
   "id": "ff666b61",
   "metadata": {},
   "outputs": [
    {
     "data": {
      "text/html": [
       "<div>\n",
       "<style scoped>\n",
       "    .dataframe tbody tr th:only-of-type {\n",
       "        vertical-align: middle;\n",
       "    }\n",
       "\n",
       "    .dataframe tbody tr th {\n",
       "        vertical-align: top;\n",
       "    }\n",
       "\n",
       "    .dataframe thead th {\n",
       "        text-align: right;\n",
       "    }\n",
       "</style>\n",
       "<table border=\"1\" class=\"dataframe\">\n",
       "  <thead>\n",
       "    <tr style=\"text-align: right;\">\n",
       "      <th></th>\n",
       "      <th>event</th>\n",
       "      <th>group</th>\n",
       "      <th>users_per_event</th>\n",
       "      <th>users_in_group</th>\n",
       "      <th>event_group_share</th>\n",
       "    </tr>\n",
       "  </thead>\n",
       "  <tbody>\n",
       "    <tr>\n",
       "      <th>12</th>\n",
       "      <td>CartScreenAppear</td>\n",
       "      <td>245</td>\n",
       "      <td>2504</td>\n",
       "      <td>4997</td>\n",
       "      <td>0.501101</td>\n",
       "    </tr>\n",
       "    <tr>\n",
       "      <th>0</th>\n",
       "      <td>CartScreenAppear</td>\n",
       "      <td>246</td>\n",
       "      <td>1266</td>\n",
       "      <td>2484</td>\n",
       "      <td>0.509662</td>\n",
       "    </tr>\n",
       "    <tr>\n",
       "      <th>1</th>\n",
       "      <td>CartScreenAppear</td>\n",
       "      <td>247</td>\n",
       "      <td>1238</td>\n",
       "      <td>2513</td>\n",
       "      <td>0.492638</td>\n",
       "    </tr>\n",
       "    <tr>\n",
       "      <th>2</th>\n",
       "      <td>CartScreenAppear</td>\n",
       "      <td>248</td>\n",
       "      <td>1230</td>\n",
       "      <td>2537</td>\n",
       "      <td>0.484825</td>\n",
       "    </tr>\n",
       "    <tr>\n",
       "      <th>13</th>\n",
       "      <td>MainScreenAppear</td>\n",
       "      <td>245</td>\n",
       "      <td>4926</td>\n",
       "      <td>4997</td>\n",
       "      <td>0.985791</td>\n",
       "    </tr>\n",
       "    <tr>\n",
       "      <th>3</th>\n",
       "      <td>MainScreenAppear</td>\n",
       "      <td>246</td>\n",
       "      <td>2450</td>\n",
       "      <td>2484</td>\n",
       "      <td>0.986312</td>\n",
       "    </tr>\n",
       "    <tr>\n",
       "      <th>4</th>\n",
       "      <td>MainScreenAppear</td>\n",
       "      <td>247</td>\n",
       "      <td>2476</td>\n",
       "      <td>2513</td>\n",
       "      <td>0.985277</td>\n",
       "    </tr>\n",
       "    <tr>\n",
       "      <th>5</th>\n",
       "      <td>MainScreenAppear</td>\n",
       "      <td>248</td>\n",
       "      <td>2493</td>\n",
       "      <td>2537</td>\n",
       "      <td>0.982657</td>\n",
       "    </tr>\n",
       "    <tr>\n",
       "      <th>14</th>\n",
       "      <td>OffersScreenAppear</td>\n",
       "      <td>245</td>\n",
       "      <td>3062</td>\n",
       "      <td>4997</td>\n",
       "      <td>0.612768</td>\n",
       "    </tr>\n",
       "    <tr>\n",
       "      <th>6</th>\n",
       "      <td>OffersScreenAppear</td>\n",
       "      <td>246</td>\n",
       "      <td>1542</td>\n",
       "      <td>2484</td>\n",
       "      <td>0.620773</td>\n",
       "    </tr>\n",
       "    <tr>\n",
       "      <th>7</th>\n",
       "      <td>OffersScreenAppear</td>\n",
       "      <td>247</td>\n",
       "      <td>1520</td>\n",
       "      <td>2513</td>\n",
       "      <td>0.604855</td>\n",
       "    </tr>\n",
       "    <tr>\n",
       "      <th>8</th>\n",
       "      <td>OffersScreenAppear</td>\n",
       "      <td>248</td>\n",
       "      <td>1531</td>\n",
       "      <td>2537</td>\n",
       "      <td>0.603469</td>\n",
       "    </tr>\n",
       "    <tr>\n",
       "      <th>15</th>\n",
       "      <td>PaymentScreenSuccessful</td>\n",
       "      <td>245</td>\n",
       "      <td>2358</td>\n",
       "      <td>4997</td>\n",
       "      <td>0.471883</td>\n",
       "    </tr>\n",
       "    <tr>\n",
       "      <th>9</th>\n",
       "      <td>PaymentScreenSuccessful</td>\n",
       "      <td>246</td>\n",
       "      <td>1200</td>\n",
       "      <td>2484</td>\n",
       "      <td>0.483092</td>\n",
       "    </tr>\n",
       "    <tr>\n",
       "      <th>10</th>\n",
       "      <td>PaymentScreenSuccessful</td>\n",
       "      <td>247</td>\n",
       "      <td>1158</td>\n",
       "      <td>2513</td>\n",
       "      <td>0.460804</td>\n",
       "    </tr>\n",
       "    <tr>\n",
       "      <th>11</th>\n",
       "      <td>PaymentScreenSuccessful</td>\n",
       "      <td>248</td>\n",
       "      <td>1181</td>\n",
       "      <td>2537</td>\n",
       "      <td>0.465510</td>\n",
       "    </tr>\n",
       "  </tbody>\n",
       "</table>\n",
       "</div>"
      ],
      "text/plain": [
       "                      event  group  users_per_event  users_in_group  \\\n",
       "12  CartScreenAppear         245    2504             4997             \n",
       "0   CartScreenAppear         246    1266             2484             \n",
       "1   CartScreenAppear         247    1238             2513             \n",
       "2   CartScreenAppear         248    1230             2537             \n",
       "13  MainScreenAppear         245    4926             4997             \n",
       "3   MainScreenAppear         246    2450             2484             \n",
       "4   MainScreenAppear         247    2476             2513             \n",
       "5   MainScreenAppear         248    2493             2537             \n",
       "14  OffersScreenAppear       245    3062             4997             \n",
       "6   OffersScreenAppear       246    1542             2484             \n",
       "7   OffersScreenAppear       247    1520             2513             \n",
       "8   OffersScreenAppear       248    1531             2537             \n",
       "15  PaymentScreenSuccessful  245    2358             4997             \n",
       "9   PaymentScreenSuccessful  246    1200             2484             \n",
       "10  PaymentScreenSuccessful  247    1158             2513             \n",
       "11  PaymentScreenSuccessful  248    1181             2537             \n",
       "\n",
       "    event_group_share  \n",
       "12  0.501101           \n",
       "0   0.509662           \n",
       "1   0.492638           \n",
       "2   0.484825           \n",
       "13  0.985791           \n",
       "3   0.986312           \n",
       "4   0.985277           \n",
       "5   0.982657           \n",
       "14  0.612768           \n",
       "6   0.620773           \n",
       "7   0.604855           \n",
       "8   0.603469           \n",
       "15  0.471883           \n",
       "9   0.483092           \n",
       "10  0.460804           \n",
       "11  0.465510           "
      ]
     },
     "execution_count": 66,
     "metadata": {},
     "output_type": "execute_result"
    }
   ],
   "source": [
    "# вырезаем из logs_aug_exp группы 246 и 247\n",
    "logs_aug_exp_246 = logs_aug_exp[logs_aug_exp['group'].isin([246])].reset_index(drop=True)\n",
    "logs_aug_exp_247 = logs_aug_exp[logs_aug_exp['group'].isin([247])].reset_index(drop=True)\n",
    "\n",
    "# формируем новую группу 245\n",
    "logs_aug_exp_245 = logs_aug_exp_246\n",
    "logs_aug_exp_245.loc[:,'group'] = 245\n",
    "logs_aug_exp_245.loc[:,['users_per_event', 'users_in_group']] = logs_aug_exp_246.loc[:,['users_per_event', 'users_in_group']] + \\\n",
    "                     logs_aug_exp_247.loc[:,['users_per_event', 'users_in_group']]\n",
    "logs_aug_exp_245['event_group_share'] = logs_aug_exp_245['users_per_event'] / logs_aug_exp_245['users_in_group']\n",
    "\n",
    "# добавляем в датафрейм logs_aug_exp\n",
    "logs_aug_exp = pd.concat([logs_aug_exp, logs_aug_exp_245], ignore_index= True )\n",
    "\n",
    "# для удобства сортируем данные \n",
    "logs_aug_exp.sort_values(by=['event','group'], ascending=True, inplace=True)\n",
    "\n",
    "# смотрим что получилось\n",
    "logs_aug_exp"
   ]
  },
  {
   "cell_type": "markdown",
   "id": "fd8e766a",
   "metadata": {},
   "source": [
    "Создадим функцию проверки статистической значимости или не значимости отличий в группах."
   ]
  },
  {
   "cell_type": "code",
   "execution_count": 67,
   "id": "147df1bb",
   "metadata": {
    "scrolled": false
   },
   "outputs": [
    {
     "name": "stdout",
     "output_type": "stream",
     "text": [
      "\n"
     ]
    }
   ],
   "source": [
    "# определяем функцию для статистической проверки различий\n",
    "\n",
    "# Перед вызовом функции нужно задать требуемый критический уровень статистической значимости\n",
    "\n",
    "def stat_validity_check (step_b, step_a, total_b, total_a):\n",
    "    \n",
    "    # успехи в группах\n",
    "    successes = np.array([step_b, step_a])\n",
    "    # попытки в группах:\n",
    "    trials = np.array([total_b, total_a])\n",
    "    \n",
    "    # пропорция успехов в 'эксперниментальной' группе\n",
    "    p_b = successes[0]/trials[0]\n",
    "    \n",
    "    # пропорция успехов в 'контрольной' группе\n",
    "    p_a = successes[1]/trials[1]\n",
    "\n",
    "    # пропорция успехов в комбинированном датасете\n",
    "    p_combined = (successes[0] + successes[1]) / (trials[0] + trials[1])\n",
    "\n",
    "    # разница пропорций в датасетах\n",
    "    difference = p_b - p_a\n",
    "    \n",
    "    # считаем статистику в ст.отклонениях стандартного нормального распределения\n",
    "    z_value = difference / mth.sqrt(p_combined * (1 - p_combined) * (1/trials[0] + 1/trials[1]))\n",
    "\n",
    "    # задаем стандартное нормальное распределение (среднее 0, ст.отклонение 1)\n",
    "    distr = st.norm(0, 1)\n",
    "\n",
    "    # так как распределение статистики нормальное, применим метод cdf(); тест двухсторонний, поэтому саму статистику возьмём \n",
    "    # по модулю чтобы  не зависеть от её знака, по этой же причине удвоим результат\n",
    "    p_value = (1 - distr.cdf(abs(z_value))) * 2\n",
    "    \n",
    "    # выводим значение p-value\n",
    "    print('p-значение: ', p_value)\n",
    "\n",
    "    # выводим результирующее утверждение\n",
    "    if (p_value < alpha):\n",
    "        print(\"Отвергаем нулевую гипотезу: между группами есть значимые различия\")\n",
    "    else:\n",
    "        print(\"Не получилось отвергнуть нулевую гипотезу, нет оснований считать различия значимыми\")\n",
    "        \n",
    "print()"
   ]
  },
  {
   "cell_type": "markdown",
   "id": "dfd68ec2",
   "metadata": {},
   "source": [
    "При помощи созданной нами выше функции выполним для выбранного уровня значимости и последовательно для каждого из событий в цепочке проверку есть ли статистически значимые различия между долями пользователей, совершивших событие от общего числа пользователей в группе для контрольных групп 247 и 246, а так-же для следующих пар экспериметальной и контрольной группы: 248 и 245, 248 и 246, 248 и 247. Суммарно проверок будет 16 для выбранного уровня значимости."
   ]
  },
  {
   "cell_type": "markdown",
   "id": "cb5b8246",
   "metadata": {},
   "source": [
    "Проясним ситуацию с пороговым уровнем значимости для проверки статистических различий в группах.           \n",
    "Поскольку по факту попарных сравнений экспериментальной группы 248 с тестовыми группами 245, 246 и 247 будет всего 16, то вероятность того, что хотя бы в одном из трёх попарных сравнений будет зафиксирован ложнопозитивный результат равна        \n",
    "1 - (1 - alpha) ** 16 .            \n",
    "То есть если мы хотим получить результирующий пороговый уровень значимости равным например 5% ( одному из \"общепринятых\" ), то alpha нужно взять равным не выше 0.32%"
   ]
  },
  {
   "cell_type": "markdown",
   "id": "1e3985e0",
   "metadata": {},
   "source": [
    "Возьмем критический уровень значимости alpha равным 0.32% и проведем проверки для каждого события."
   ]
  },
  {
   "cell_type": "code",
   "execution_count": 68,
   "id": "54409d8a",
   "metadata": {},
   "outputs": [
    {
     "data": {
      "text/plain": [
       "0.0032006977101884937"
      ]
     },
     "execution_count": 68,
     "metadata": {},
     "output_type": "execute_result"
    }
   ],
   "source": [
    "alpha = 1 - (1 - 0.05) ** (1 / 16)\n",
    "\n",
    "alpha"
   ]
  },
  {
   "cell_type": "markdown",
   "id": "a740fe3a",
   "metadata": {},
   "source": [
    "Проведем проверку на статистическую значимость различия для события \"Просмотр основной страницы\":"
   ]
  },
  {
   "cell_type": "code",
   "execution_count": 69,
   "id": "db59b617",
   "metadata": {},
   "outputs": [
    {
     "name": "stdout",
     "output_type": "stream",
     "text": [
      "\n"
     ]
    },
    {
     "data": {
      "text/plain": [
       "'Проверка различий в долях пользователей между группами для события \"Просмотр основной страницы\"'"
      ]
     },
     "metadata": {},
     "output_type": "display_data"
    },
    {
     "name": "stdout",
     "output_type": "stream",
     "text": [
      "\n"
     ]
    },
    {
     "data": {
      "text/plain": [
       "'Сравнение групп 246 и 247'"
      ]
     },
     "metadata": {},
     "output_type": "display_data"
    },
    {
     "name": "stdout",
     "output_type": "stream",
     "text": [
      "p-значение:  [0.75705972]\n",
      "Не получилось отвергнуть нулевую гипотезу, нет оснований считать различия значимыми\n",
      "\n"
     ]
    },
    {
     "data": {
      "text/plain": [
       "'Сравнение групп 248 и 245'"
      ]
     },
     "metadata": {},
     "output_type": "display_data"
    },
    {
     "name": "stdout",
     "output_type": "stream",
     "text": [
      "p-значение:  [0.29424527]\n",
      "Не получилось отвергнуть нулевую гипотезу, нет оснований считать различия значимыми\n",
      "\n"
     ]
    },
    {
     "data": {
      "text/plain": [
       "'Сравнение групп 248 и 246'"
      ]
     },
     "metadata": {},
     "output_type": "display_data"
    },
    {
     "name": "stdout",
     "output_type": "stream",
     "text": [
      "p-значение:  [0.29497219]\n",
      "Не получилось отвергнуть нулевую гипотезу, нет оснований считать различия значимыми\n",
      "\n"
     ]
    },
    {
     "data": {
      "text/plain": [
       "'Сравнение групп 248 и 247'"
      ]
     },
     "metadata": {},
     "output_type": "display_data"
    },
    {
     "name": "stdout",
     "output_type": "stream",
     "text": [
      "p-значение:  [0.45870536]\n",
      "Не получилось отвергнуть нулевую гипотезу, нет оснований считать различия значимыми\n",
      "\n"
     ]
    }
   ],
   "source": [
    "print()\n",
    "display('Проверка различий в долях пользователей между группами для события \"Просмотр основной страницы\"')\n",
    "print()\n",
    "\n",
    "# проверяем группы 246 и 247\n",
    "display( 'Сравнение групп 246 и 247')\n",
    "stat_validity_check (\n",
    "    logs_aug_exp.loc[(logs_aug_exp['event'] == 'MainScreenAppear') & (logs_aug_exp['group'] == 246)]['users_per_event'], \n",
    "    logs_aug_exp.loc[(logs_aug_exp['event'] == 'MainScreenAppear') & (logs_aug_exp['group'] == 247)]['users_per_event'], \n",
    "    logs_aug_exp.loc[(logs_aug_exp['event'] == 'MainScreenAppear') & (logs_aug_exp['group'] == 246)]['users_in_group'], \n",
    "    logs_aug_exp.loc[(logs_aug_exp['event'] == 'MainScreenAppear') & (logs_aug_exp['group'] == 247)]['users_in_group']\n",
    "                    )\n",
    "print() \n",
    "\n",
    "# проверяем группы 248 и 245\n",
    "display( 'Сравнение групп 248 и 245')\n",
    "stat_validity_check (\n",
    "    logs_aug_exp.loc[(logs_aug_exp['event'] == 'MainScreenAppear') & (logs_aug_exp['group'] == 248)]['users_per_event'], \n",
    "    logs_aug_exp.loc[(logs_aug_exp['event'] == 'MainScreenAppear') & (logs_aug_exp['group'] == 245)]['users_per_event'], \n",
    "    logs_aug_exp.loc[(logs_aug_exp['event'] == 'MainScreenAppear') & (logs_aug_exp['group'] == 248)]['users_in_group'], \n",
    "    logs_aug_exp.loc[(logs_aug_exp['event'] == 'MainScreenAppear') & (logs_aug_exp['group'] == 245)]['users_in_group']\n",
    "                    )\n",
    "print() \n",
    "\n",
    "# проверяем группы 248 и 246\n",
    "display( 'Сравнение групп 248 и 246')\n",
    "stat_validity_check (\n",
    "    logs_aug_exp.loc[(logs_aug_exp['event'] == 'MainScreenAppear') & (logs_aug_exp['group'] == 248)]['users_per_event'], \n",
    "    logs_aug_exp.loc[(logs_aug_exp['event'] == 'MainScreenAppear') & (logs_aug_exp['group'] == 246)]['users_per_event'], \n",
    "    logs_aug_exp.loc[(logs_aug_exp['event'] == 'MainScreenAppear') & (logs_aug_exp['group'] == 248)]['users_in_group'], \n",
    "    logs_aug_exp.loc[(logs_aug_exp['event'] == 'MainScreenAppear') & (logs_aug_exp['group'] == 246)]['users_in_group']\n",
    "                    )\n",
    "print() \n",
    "\n",
    "# проверяем группы 248 и 247\n",
    "display( 'Сравнение групп 248 и 247')\n",
    "stat_validity_check (\n",
    "    logs_aug_exp.loc[(logs_aug_exp['event'] == 'MainScreenAppear') & (logs_aug_exp['group'] == 248)]['users_per_event'], \n",
    "    logs_aug_exp.loc[(logs_aug_exp['event'] == 'MainScreenAppear') & (logs_aug_exp['group'] == 247)]['users_per_event'], \n",
    "    logs_aug_exp.loc[(logs_aug_exp['event'] == 'MainScreenAppear') & (logs_aug_exp['group'] == 248)]['users_in_group'], \n",
    "    logs_aug_exp.loc[(logs_aug_exp['event'] == 'MainScreenAppear') & (logs_aug_exp['group'] == 247)]['users_in_group']\n",
    "                    )\n",
    "print() "
   ]
  },
  {
   "cell_type": "markdown",
   "id": "4439831e",
   "metadata": {},
   "source": [
    "###### Видим для события \"Просмотр основной страницы\"        \n",
    "\n",
    "статистическая оценка показывает, что каких-либо оснований полагать, что введение новых шрифтов повлияло на долю пользователей, совершающих это событие, нет.\n",
    "          \n",
    "          \n"
   ]
  },
  {
   "cell_type": "markdown",
   "id": "a4ca27fa",
   "metadata": {},
   "source": [
    " "
   ]
  },
  {
   "cell_type": "markdown",
   "id": "6132b76e",
   "metadata": {},
   "source": [
    "Проведем проверку на статистическую значимость различия для события \"Просмотр страницы предоложений\":"
   ]
  },
  {
   "cell_type": "code",
   "execution_count": 70,
   "id": "47949939",
   "metadata": {},
   "outputs": [
    {
     "name": "stdout",
     "output_type": "stream",
     "text": [
      "\n"
     ]
    },
    {
     "data": {
      "text/plain": [
       "'Проверка различий в долях пользователей между группами для события \"Просмотр страницы предоложений\"'"
      ]
     },
     "metadata": {},
     "output_type": "display_data"
    },
    {
     "name": "stdout",
     "output_type": "stream",
     "text": [
      "\n"
     ]
    },
    {
     "data": {
      "text/plain": [
       "'Сравнение групп 246 и 247'"
      ]
     },
     "metadata": {},
     "output_type": "display_data"
    },
    {
     "name": "stdout",
     "output_type": "stream",
     "text": [
      "p-значение:  [0.24809546]\n",
      "Не получилось отвергнуть нулевую гипотезу, нет оснований считать различия значимыми\n",
      "\n"
     ]
    },
    {
     "data": {
      "text/plain": [
       "'Сравнение групп 248 и 245'"
      ]
     },
     "metadata": {},
     "output_type": "display_data"
    },
    {
     "name": "stdout",
     "output_type": "stream",
     "text": [
      "p-значение:  [0.4342555]\n",
      "Не получилось отвергнуть нулевую гипотезу, нет оснований считать различия значимыми\n",
      "\n"
     ]
    },
    {
     "data": {
      "text/plain": [
       "'Сравнение групп 248 и 246'"
      ]
     },
     "metadata": {},
     "output_type": "display_data"
    },
    {
     "name": "stdout",
     "output_type": "stream",
     "text": [
      "p-значение:  [0.20836205]\n",
      "Не получилось отвергнуть нулевую гипотезу, нет оснований считать различия значимыми\n",
      "\n"
     ]
    },
    {
     "data": {
      "text/plain": [
       "'Сравнение групп 248 и 247'"
      ]
     },
     "metadata": {},
     "output_type": "display_data"
    },
    {
     "name": "stdout",
     "output_type": "stream",
     "text": [
      "p-значение:  [0.91978178]\n",
      "Не получилось отвергнуть нулевую гипотезу, нет оснований считать различия значимыми\n",
      "\n"
     ]
    }
   ],
   "source": [
    "print()\n",
    "display('Проверка различий в долях пользователей между группами для события \"Просмотр страницы предоложений\"')\n",
    "print()\n",
    "\n",
    "# проверяем группы 246 и 247\n",
    "display( 'Сравнение групп 246 и 247')\n",
    "stat_validity_check (\n",
    "    logs_aug_exp.loc[(logs_aug_exp['event'] == 'OffersScreenAppear') & (logs_aug_exp['group'] == 246)]['users_per_event'], \n",
    "    logs_aug_exp.loc[(logs_aug_exp['event'] == 'OffersScreenAppear') & (logs_aug_exp['group'] == 247)]['users_per_event'], \n",
    "    logs_aug_exp.loc[(logs_aug_exp['event'] == 'OffersScreenAppear') & (logs_aug_exp['group'] == 246)]['users_in_group'], \n",
    "    logs_aug_exp.loc[(logs_aug_exp['event'] == 'OffersScreenAppear') & (logs_aug_exp['group'] == 247)]['users_in_group']\n",
    "                    )\n",
    "print() \n",
    "\n",
    "# проверяем группы 248 и 245\n",
    "display( 'Сравнение групп 248 и 245')\n",
    "stat_validity_check (\n",
    "    logs_aug_exp.loc[(logs_aug_exp['event'] == 'OffersScreenAppear') & (logs_aug_exp['group'] == 248)]['users_per_event'], \n",
    "    logs_aug_exp.loc[(logs_aug_exp['event'] == 'OffersScreenAppear') & (logs_aug_exp['group'] == 245)]['users_per_event'], \n",
    "    logs_aug_exp.loc[(logs_aug_exp['event'] == 'OffersScreenAppear') & (logs_aug_exp['group'] == 248)]['users_in_group'], \n",
    "    logs_aug_exp.loc[(logs_aug_exp['event'] == 'OffersScreenAppear') & (logs_aug_exp['group'] == 245)]['users_in_group']\n",
    "                    )\n",
    "print() \n",
    "\n",
    "# проверяем группы 248 и 246\n",
    "display( 'Сравнение групп 248 и 246')\n",
    "stat_validity_check (\n",
    "    logs_aug_exp.loc[(logs_aug_exp['event'] == 'OffersScreenAppear') & (logs_aug_exp['group'] == 248)]['users_per_event'], \n",
    "    logs_aug_exp.loc[(logs_aug_exp['event'] == 'OffersScreenAppear') & (logs_aug_exp['group'] == 246)]['users_per_event'], \n",
    "    logs_aug_exp.loc[(logs_aug_exp['event'] == 'OffersScreenAppear') & (logs_aug_exp['group'] == 248)]['users_in_group'], \n",
    "    logs_aug_exp.loc[(logs_aug_exp['event'] == 'OffersScreenAppear') & (logs_aug_exp['group'] == 246)]['users_in_group']\n",
    "                    )\n",
    "print() \n",
    "\n",
    "# проверяем группы 248 и 247\n",
    "display( 'Сравнение групп 248 и 247')\n",
    "stat_validity_check (\n",
    "    logs_aug_exp.loc[(logs_aug_exp['event'] == 'OffersScreenAppear') & (logs_aug_exp['group'] == 248)]['users_per_event'], \n",
    "    logs_aug_exp.loc[(logs_aug_exp['event'] == 'OffersScreenAppear') & (logs_aug_exp['group'] == 247)]['users_per_event'], \n",
    "    logs_aug_exp.loc[(logs_aug_exp['event'] == 'OffersScreenAppear') & (logs_aug_exp['group'] == 248)]['users_in_group'], \n",
    "    logs_aug_exp.loc[(logs_aug_exp['event'] == 'OffersScreenAppear') & (logs_aug_exp['group'] == 247)]['users_in_group']\n",
    "                    )\n",
    "print() "
   ]
  },
  {
   "cell_type": "markdown",
   "id": "af45f8e5",
   "metadata": {},
   "source": [
    "###### Видим для события \"Просмотр страницы предоложений\"        \n",
    "\n",
    "статистическая оценка показывает, что каких-либо оснований полагать, что введение новых шрифтов повлияло на долю пользователей, совершающих это событие, нет.\n"
   ]
  },
  {
   "cell_type": "markdown",
   "id": "2be405ca",
   "metadata": {},
   "source": [
    " "
   ]
  },
  {
   "cell_type": "markdown",
   "id": "1d50e442",
   "metadata": {},
   "source": [
    "Проведем проверку на статистическую значимость различия для события \"Переход к корзине продуктов\":"
   ]
  },
  {
   "cell_type": "code",
   "execution_count": 71,
   "id": "e132c0af",
   "metadata": {},
   "outputs": [
    {
     "name": "stdout",
     "output_type": "stream",
     "text": [
      "\n"
     ]
    },
    {
     "data": {
      "text/plain": [
       "'Проверка различий в долях пользователей между группами для события \"Переход к корзине продуктов\"'"
      ]
     },
     "metadata": {},
     "output_type": "display_data"
    },
    {
     "name": "stdout",
     "output_type": "stream",
     "text": [
      "\n"
     ]
    },
    {
     "data": {
      "text/plain": [
       "'Сравнение групп 246 и 247'"
      ]
     },
     "metadata": {},
     "output_type": "display_data"
    },
    {
     "name": "stdout",
     "output_type": "stream",
     "text": [
      "p-значение:  [0.22883372]\n",
      "Не получилось отвергнуть нулевую гипотезу, нет оснований считать различия значимыми\n",
      "\n"
     ]
    },
    {
     "data": {
      "text/plain": [
       "'Сравнение групп 248 и 245'"
      ]
     },
     "metadata": {},
     "output_type": "display_data"
    },
    {
     "name": "stdout",
     "output_type": "stream",
     "text": [
      "p-значение:  [0.18175875]\n",
      "Не получилось отвергнуть нулевую гипотезу, нет оснований считать различия значимыми\n",
      "\n"
     ]
    },
    {
     "data": {
      "text/plain": [
       "'Сравнение групп 248 и 246'"
      ]
     },
     "metadata": {},
     "output_type": "display_data"
    },
    {
     "name": "stdout",
     "output_type": "stream",
     "text": [
      "p-значение:  [0.07842923]\n",
      "Не получилось отвергнуть нулевую гипотезу, нет оснований считать различия значимыми\n",
      "\n"
     ]
    },
    {
     "data": {
      "text/plain": [
       "'Сравнение групп 248 и 247'"
      ]
     },
     "metadata": {},
     "output_type": "display_data"
    },
    {
     "name": "stdout",
     "output_type": "stream",
     "text": [
      "p-значение:  [0.57861979]\n",
      "Не получилось отвергнуть нулевую гипотезу, нет оснований считать различия значимыми\n",
      "\n"
     ]
    }
   ],
   "source": [
    "print()\n",
    "display('Проверка различий в долях пользователей между группами для события \"Переход к корзине продуктов\"')\n",
    "print()\n",
    "\n",
    "# проверяем группы 246 и 247\n",
    "display( 'Сравнение групп 246 и 247')\n",
    "stat_validity_check (\n",
    "    logs_aug_exp.loc[(logs_aug_exp['event'] == 'CartScreenAppear') & (logs_aug_exp['group'] == 246)]['users_per_event'], \n",
    "    logs_aug_exp.loc[(logs_aug_exp['event'] == 'CartScreenAppear') & (logs_aug_exp['group'] == 247)]['users_per_event'], \n",
    "    logs_aug_exp.loc[(logs_aug_exp['event'] == 'CartScreenAppear') & (logs_aug_exp['group'] == 246)]['users_in_group'], \n",
    "    logs_aug_exp.loc[(logs_aug_exp['event'] == 'CartScreenAppear') & (logs_aug_exp['group'] == 247)]['users_in_group']\n",
    "                    )\n",
    "print() \n",
    "\n",
    "# проверяем группы 248 и 245\n",
    "display( 'Сравнение групп 248 и 245')\n",
    "stat_validity_check (\n",
    "    logs_aug_exp.loc[(logs_aug_exp['event'] == 'CartScreenAppear') & (logs_aug_exp['group'] == 248)]['users_per_event'], \n",
    "    logs_aug_exp.loc[(logs_aug_exp['event'] == 'CartScreenAppear') & (logs_aug_exp['group'] == 245)]['users_per_event'], \n",
    "    logs_aug_exp.loc[(logs_aug_exp['event'] == 'CartScreenAppear') & (logs_aug_exp['group'] == 248)]['users_in_group'], \n",
    "    logs_aug_exp.loc[(logs_aug_exp['event'] == 'CartScreenAppear') & (logs_aug_exp['group'] == 245)]['users_in_group']\n",
    "                    )\n",
    "print() \n",
    "\n",
    "# проверяем группы 248 и 246\n",
    "display( 'Сравнение групп 248 и 246')\n",
    "stat_validity_check (\n",
    "    logs_aug_exp.loc[(logs_aug_exp['event'] == 'CartScreenAppear') & (logs_aug_exp['group'] == 248)]['users_per_event'], \n",
    "    logs_aug_exp.loc[(logs_aug_exp['event'] == 'CartScreenAppear') & (logs_aug_exp['group'] == 246)]['users_per_event'], \n",
    "    logs_aug_exp.loc[(logs_aug_exp['event'] == 'CartScreenAppear') & (logs_aug_exp['group'] == 248)]['users_in_group'], \n",
    "    logs_aug_exp.loc[(logs_aug_exp['event'] == 'CartScreenAppear') & (logs_aug_exp['group'] == 246)]['users_in_group']\n",
    "                    )\n",
    "print() \n",
    "\n",
    "# проверяем группы 248 и 247\n",
    "display( 'Сравнение групп 248 и 247')\n",
    "stat_validity_check (\n",
    "    logs_aug_exp.loc[(logs_aug_exp['event'] == 'CartScreenAppear') & (logs_aug_exp['group'] == 248)]['users_per_event'], \n",
    "    logs_aug_exp.loc[(logs_aug_exp['event'] == 'CartScreenAppear') & (logs_aug_exp['group'] == 247)]['users_per_event'], \n",
    "    logs_aug_exp.loc[(logs_aug_exp['event'] == 'CartScreenAppear') & (logs_aug_exp['group'] == 248)]['users_in_group'], \n",
    "    logs_aug_exp.loc[(logs_aug_exp['event'] == 'CartScreenAppear') & (logs_aug_exp['group'] == 247)]['users_in_group']\n",
    "                    )\n",
    "print() "
   ]
  },
  {
   "cell_type": "markdown",
   "id": "a831484b",
   "metadata": {},
   "source": [
    "###### Видим для события \"Переход к корзине продуктов\"        \n",
    "\n",
    "статистическая оценка показывает, что каких-либо оснований полагать, что введение новых шрифтов повлияло на долю пользователей, совершающих это событие, нет.\n"
   ]
  },
  {
   "cell_type": "markdown",
   "id": "4df99812",
   "metadata": {},
   "source": [
    " "
   ]
  },
  {
   "cell_type": "markdown",
   "id": "818f897c",
   "metadata": {},
   "source": [
    "Проведем проверку на статистическую значимость различия для события \"Успешное завершение оплаты покупки\":"
   ]
  },
  {
   "cell_type": "code",
   "execution_count": 72,
   "id": "80644b14",
   "metadata": {},
   "outputs": [
    {
     "name": "stdout",
     "output_type": "stream",
     "text": [
      "\n"
     ]
    },
    {
     "data": {
      "text/plain": [
       "'Проверка различий в долях пользователей между группами для события \"Успешное завершение оплаты покупки\"'"
      ]
     },
     "metadata": {},
     "output_type": "display_data"
    },
    {
     "name": "stdout",
     "output_type": "stream",
     "text": [
      "\n"
     ]
    },
    {
     "data": {
      "text/plain": [
       "'Сравнение групп 246 и 247'"
      ]
     },
     "metadata": {},
     "output_type": "display_data"
    },
    {
     "name": "stdout",
     "output_type": "stream",
     "text": [
      "p-значение:  [0.11456679]\n",
      "Не получилось отвергнуть нулевую гипотезу, нет оснований считать различия значимыми\n",
      "\n"
     ]
    },
    {
     "data": {
      "text/plain": [
       "'Сравнение групп 248 и 245'"
      ]
     },
     "metadata": {},
     "output_type": "display_data"
    },
    {
     "name": "stdout",
     "output_type": "stream",
     "text": [
      "p-значение:  [0.60042943]\n",
      "Не получилось отвергнуть нулевую гипотезу, нет оснований считать различия значимыми\n",
      "\n"
     ]
    },
    {
     "data": {
      "text/plain": [
       "'Сравнение групп 248 и 246'"
      ]
     },
     "metadata": {},
     "output_type": "display_data"
    },
    {
     "name": "stdout",
     "output_type": "stream",
     "text": [
      "p-значение:  [0.21225533]\n",
      "Не получилось отвергнуть нулевую гипотезу, нет оснований считать различия значимыми\n",
      "\n"
     ]
    },
    {
     "data": {
      "text/plain": [
       "'Сравнение групп 248 и 247'"
      ]
     },
     "metadata": {},
     "output_type": "display_data"
    },
    {
     "name": "stdout",
     "output_type": "stream",
     "text": [
      "p-значение:  [0.73734151]\n",
      "Не получилось отвергнуть нулевую гипотезу, нет оснований считать различия значимыми\n",
      "\n"
     ]
    }
   ],
   "source": [
    "print()\n",
    "display('Проверка различий в долях пользователей между группами для события \"Успешное завершение оплаты покупки\"')\n",
    "print()\n",
    "\n",
    "# проверяем группы 246 и 247\n",
    "display( 'Сравнение групп 246 и 247')\n",
    "stat_validity_check (\n",
    "    logs_aug_exp.loc[(logs_aug_exp['event'] == 'PaymentScreenSuccessful') & (logs_aug_exp['group'] == 246)]['users_per_event'], \n",
    "    logs_aug_exp.loc[(logs_aug_exp['event'] == 'PaymentScreenSuccessful') & (logs_aug_exp['group'] == 247)]['users_per_event'], \n",
    "    logs_aug_exp.loc[(logs_aug_exp['event'] == 'PaymentScreenSuccessful') & (logs_aug_exp['group'] == 246)]['users_in_group'], \n",
    "    logs_aug_exp.loc[(logs_aug_exp['event'] == 'PaymentScreenSuccessful') & (logs_aug_exp['group'] == 247)]['users_in_group']\n",
    "                    )\n",
    "print() \n",
    "\n",
    "# проверяем группы 248 и 245\n",
    "display( 'Сравнение групп 248 и 245')\n",
    "stat_validity_check (\n",
    "    logs_aug_exp.loc[(logs_aug_exp['event'] == 'PaymentScreenSuccessful') & (logs_aug_exp['group'] == 248)]['users_per_event'], \n",
    "    logs_aug_exp.loc[(logs_aug_exp['event'] == 'PaymentScreenSuccessful') & (logs_aug_exp['group'] == 245)]['users_per_event'], \n",
    "    logs_aug_exp.loc[(logs_aug_exp['event'] == 'PaymentScreenSuccessful') & (logs_aug_exp['group'] == 248)]['users_in_group'], \n",
    "    logs_aug_exp.loc[(logs_aug_exp['event'] == 'PaymentScreenSuccessful') & (logs_aug_exp['group'] == 245)]['users_in_group']\n",
    "                    )\n",
    "print() \n",
    "\n",
    "# проверяем группы 248 и 246\n",
    "display( 'Сравнение групп 248 и 246')\n",
    "stat_validity_check (\n",
    "    logs_aug_exp.loc[(logs_aug_exp['event'] == 'PaymentScreenSuccessful') & (logs_aug_exp['group'] == 248)]['users_per_event'], \n",
    "    logs_aug_exp.loc[(logs_aug_exp['event'] == 'PaymentScreenSuccessful') & (logs_aug_exp['group'] == 246)]['users_per_event'], \n",
    "    logs_aug_exp.loc[(logs_aug_exp['event'] == 'PaymentScreenSuccessful') & (logs_aug_exp['group'] == 248)]['users_in_group'], \n",
    "    logs_aug_exp.loc[(logs_aug_exp['event'] == 'PaymentScreenSuccessful') & (logs_aug_exp['group'] == 246)]['users_in_group']\n",
    "                    )\n",
    "print() \n",
    "\n",
    "# проверяем группы 248 и 247\n",
    "display( 'Сравнение групп 248 и 247')\n",
    "stat_validity_check (\n",
    "    logs_aug_exp.loc[(logs_aug_exp['event'] == 'PaymentScreenSuccessful') & (logs_aug_exp['group'] == 248)]['users_per_event'], \n",
    "    logs_aug_exp.loc[(logs_aug_exp['event'] == 'PaymentScreenSuccessful') & (logs_aug_exp['group'] == 247)]['users_per_event'], \n",
    "    logs_aug_exp.loc[(logs_aug_exp['event'] == 'PaymentScreenSuccessful') & (logs_aug_exp['group'] == 248)]['users_in_group'], \n",
    "    logs_aug_exp.loc[(logs_aug_exp['event'] == 'PaymentScreenSuccessful') & (logs_aug_exp['group'] == 247)]['users_in_group']\n",
    "                    )\n",
    "print() "
   ]
  },
  {
   "cell_type": "markdown",
   "id": "93ede6fb",
   "metadata": {},
   "source": [
    "###### Видим для события \"Успешное завершение оплаты покупки\"        \n",
    "\n",
    "статистическая оценка показывает, что каких-либо оснований полагать, что введение новых шрифтов повлияло на долю пользователей, совершающих это событие, нет.\n"
   ]
  },
  {
   "cell_type": "markdown",
   "id": "324724b4",
   "metadata": {},
   "source": [
    "\n",
    "###### Таким образом\n",
    "\n",
    "Проверка статистической значимости отличий по группам в доле пользователей, совершающих то или иное событие в воронке, среди всех пользователей в группе показала, что ни для одного события в воронке при пороговом уровне значимости каждого сопоставления alpha равном 1.5% (то есть суммарном пороговом урорвне значимости равном 4.5%) стастически значимых отличий в такой доле между экпериментальной группой 248 и контрольными группами 245, 246 и 247 нет.\n",
    "\n",
    "Это означает, что введение новых шрифтов никак не влияет на долю пользователей совершающих то или иное событие."
   ]
  },
  {
   "cell_type": "markdown",
   "id": "c921ea86",
   "metadata": {},
   "source": [
    " \n",
    " \n",
    " \n",
    " "
   ]
  },
  {
   "cell_type": "markdown",
   "id": "1c8602e7",
   "metadata": {},
   "source": [
    "## Общие выводы:\n",
    "\n",
    "Проект заказан стартапом, продающим продукты питания.\n",
    "\n",
    "Перед проектом были поставлены две следующие задачи:\n",
    "\n",
    "#### Задача 1: Рразобраться, как ведут себя пользователи мобильного приложения заказчика.\n",
    "Для этого нужно\n",
    "• изучить воронку продаж,\n",
    "• узнать, как пользователи доходят до покупки;\n",
    "• сколько пользователей доходит до покупки,\n",
    "• сколько пользователе «застревает» на предыдущих шагах и на каких именно.\n",
    "\n",
    "\n",
    "#### Задача 2: Проанализировать результаты проведенного A/A/B-теста и выяснить какой шрифт лучше.\n",
    "Дело в том, что дизайнеры заказчика захотели поменять шрифты во всём приложении, а менеджеры опасаются, что пользователям будет непривычно. Они договорились принять решение по результатам A/A/B-теста.\n",
    "Пользователей разбили на 3 группы: 2 контрольные со старыми шрифтами и одну экспериментальную — с новыми.\n",
    "Поэтому необходимо было провести тестирование, проанализировать его результаты и по результатам сделать заключение.\n",
    "\n",
    "\n",
    "#### Компанией был предоставлен лог действий пользователяй в приложении за период с 25 июля по 7 августа 2019 года:\n",
    "С этими данными нужно было работать и в случае общей аналитики и случае A/A/B-эксперимента.            \n",
    "Каждая запись в логе — это действие пользователя, или событие.       \n",
    "\n",
    "#### 1. Была проанализированы предоставленные данные:\n",
    "Датасет /datasets/logs_exp.csv с данными логирования содержит следующие характеристики событий:            \n",
    "• EventName — название события;               \n",
    "• DeviceIDHash — уникальный идентификатор пользователя;                  \n",
    "• EventTimestamp — время события;               \n",
    "• ExpId — номер эксперимента: 246 и 247 — контрольные группы, а 248 — экспериментальная. \n",
    "\n",
    "Представленный датасет содержит информацию о 244126-и событиях/действиях, совершенных 7551-м пользователем приложения.                \n",
    "В целом представленная выборка была полна и репрезентетивна. Пропусков, нестыковок и возможных ошибок не выявлено. \n",
    "\n",
    "#### 2. Была проведена необходимая предобработка данных для проведения анализа:\n",
    "Были             \n",
    "•\tприведены в порядок наименовния столбцов;           \n",
    "•\tпреобразованы типы данных в столбцах с временными метками; \n",
    "•\tдобывлен столбец с датами событий, рассчитанными по временным меткам;    \n",
    "•\tпроверены и обработаны пропуски и удалены дубликаты.         \n",
    "\n",
    "\n",
    "#### 3. Был проведен исследовательский анализ данных . \n",
    "\n",
    "###### Выявлено следующее:   \n",
    "\n",
    "3.1 После удаления дубликатов в датафрейме осталось 243713 строк без пропусков и повторов, что остается достаточно репрезентативной выборкой. \n",
    "\n",
    "3.2 В датафрейме описаны события/действий всех пяти типов:\n",
    " - просмотр пользователем страницы с руководством по использованию приложения (1018 событий),\n",
    " - просмотр пользователем главной страницы приложения (119101 событие),\n",
    " - просмотр пользователем предложения конкрентого продукта или группы продуктов (46808 событий),\n",
    " - переход пользователя на страницу своей корзины товаров (42668 событий),\n",
    " - успешное завершение пользователем оплаты товаров из корзины (34118 событий).\n",
    " \n",
    "3.3 Уникальных дат в датафрейме всего 14. То есть эксперимент (весь набор наблюдений) проводился 14 дней подряд (отдельно проверено).\n",
    "При этом временных отметок только 176654. То есть насыщенность периода тестирования событиями была довольно высока: много (28%) событий совпали по времени до секунды.\n",
    "\n",
    "3.4 Уникальных пользователей, совершивших действия/события 7551 человек. Поскольку общее количество событий за исследуемый период в 14 дней равно 243713, то получается, что на каждого пользователя приходится в среднем 243713 / 7551 = 32.28 события. Это представляется довольно высокой интенсивностью использования \"торгового\" приложения.\n",
    "\n",
    "3.5 За время эксперимента каждый пользователь в среднем \"общался\" с приложением следующим образом:            \n",
    " - главную страницу приложения пользователь в среднем просматривал 16 раз, то есть 1.14 раза в день, что весьма неплохой            показатель использования;\n",
    " - среднее количество просмотров главной страницы каждым уникальным пользователем в полтора раза выше, чем других страниц ( не      считая чтения \"руководства пользователя\" - 16 против 9.5-11.4;\n",
    " - событий чтения руководства по использованию всего чуть больше одной тысячи и среднее количество таких просмотров на              пользователя составляет всего 1.2 раза. То есть по всей видимости люди знакомимлись с инструкцией один раз ( при первом          посещении) и больше к ней не обращались;\n",
    "  - показатели среднего на пользователя просмотра остальных страниц довольно близки друг к другу:\n",
    "      - страница с продуктовыми предложениями -  11.4 просмотра, \n",
    "      - корзина выбранных продуктов - 10.2 просмотра,\n",
    "      - и успешной оплаты выбранных продуктов - 9.6 просмотра на пользователя.\n",
    "\n",
    "3.6 По датам данные распределены крайне неравномерно:                \n",
    " - первая половина срока эксперимента (с 25 по 31 июля включительно) - количество данных практически нулевое,\n",
    " - а с 1 по 7 августа - по 30-35 тысяч событий в день.    \n",
    "На основании этого мы убрали из рассмотрения данные за первую неделю эксперимента - с 25 по 31 июля 2019 включительно, и посчитали, что фактически эксперимент проходил только неделю с 1 по 7 августа 2019 года.          \n",
    "После \"отсечения\" первой недели у нас остается 240 тысяч 887 событий. То есть потери от такой \"чистки\" составили\n",
    "около 1.2%. Это довольно незначительное количество, которое не должно повлиять на точность результатов анализа.\n",
    "\n",
    "\n",
    "3.7 После сокращения периода до одной  недели количество уникальных пользователей, оставшихся в рассмотрении составило 7534, то есть \"ушло\" из рассмотрения всего 17 человек или 0.2%. То есть по пользователям выборка осталась вполне репрезентативной. \n",
    "\n",
    "3.8 Пользователи распределены по трем группам: две контрольные - 246 и 247 и одна экспериментальная (те, которые пользуются новыми шрифтами) - 248-я.        \n",
    "В рассматриваемый период с 1 по 7 августа ежедневно в каждой группе представлено около 1200 уникальных пользователей. Это позволяет утверждать, что выборка достаточно репрезентативна.             \n",
    "При этом количество уникальных пользователей колеблется по дням в диапазоне +-100 человек, что позволяет говорить о том, что разпределение клиентов по группам в выборке весьма стабильно.            \n",
    "Кроме того мы убедились, что участники тестирования не переходят из группы в группу по ходу проведения теста.\n",
    "\n",
    "\n",
    "    \n",
    "#### 4. Были построены две воронки событий: с учетом и без учета последовательности шагов.\n",
    "\n",
    "4.1 Ввиду низкой популярности события \"Ознакомление пользователем с руководством по использованию приложения\" было выдвинуто предположение, что оно не входит в воронку исследуемых пользовательских действий/событий. Соответствеено данные об этом событии были исключены из воронки событий.\n",
    "\n",
    "4.2 Таким образом были определены следующие события, составляющие воронку:                  \n",
    " - Первый шаг - просмотр пользователем основной страницы,              \n",
    " - Второй шаг - просмотр страницы предложений продуктов,             \n",
    " - Третий шаг - переход к корзине продуктов,                 \n",
    " - Четвертый шаг - успешное завершение оплаты покупки.                \n",
    "\n",
    "4.3 Было предположено, что в этом случае возможны два вида воронок:                  \n",
    " - воронка первого типа - переход от первого шага ко второму и дальше без учета реальной последовательности шагов (то есть без      учета временных меток шагов воронки),              \n",
    " - воронка второго типа - переход от первого шага ко второму и дальше с учетом реальных временных меток этих шагов (частный случай воронки первого типа, становящийся актуальным в случе, если приложение сконфигурировано так, что шаги могут выполняться пользователями только последовательно).     \n",
    "\n",
    "4.4 Была построена воронка первого типа - без учета последовательности временных меток событий. Распределение количества пользователей по шагам воронки получилось следущее:                    \n",
    " - находящихся на главной странице =  100 % (7419 человек),                \n",
    " - выбирающих конкретные продукты  =  61.9 %  от бывших на главной странице. То есть на этом шаге теряется 38.1%;         \n",
    " - перешедших к корзине продуктов  =  81.3 %  от бывших на странице предложений. Потери на этом шаге 18.7%;              \n",
    " - успешно  завершивших  покупку   =  94.8 %  от  бывших на странице корзин. Потери здесь всего 5.2%.\n",
    "\n",
    "Таким образом по данной воронке получается, что суммарно из всех пользователей, знакомящихся с главной страницей приложения упешно завершают покупку только 47.7%.         \n",
    "При этом самые значительные потери (38.1%) происходят на шаге при переходе от первого шага воронки ко второму и имеено этот переход должен стать основной точкой приложения усилий продуктовой и маркетинговой команд по улучшению приложения.            \n",
    "По остальным двум шагам нужны фактически только усилия по для поддержания текущего позитивного результата.\n",
    "\n",
    "4.6 Была построена воронка второго типа - с учетом последовательности временных меток событий. Распределение количества пользователей по шагам воронки получилось следущее:                       \n",
    " - находящихся на главной странице =  100 % (7419 человек),                \n",
    " - выбирающих конкретные продукты  =  56.6 %  от бывших на главной странице. То есть на этом шаге теряется 43.4%;         \n",
    " - перешедших к корзине продуктов  =  42.1 %  от бывших на странице предложений. Потери на этом шаге 57.9%;              \n",
    " - успешно  завершивших  покупку   =  25.7 %  от  бывших на странице корзин. Потери здесь 74.3%.\n",
    " \n",
    "С учетом временных отметок и последовательности шагов воронка выглядит \"более проблемной\", нежели воронка первого типа. В этой воронке второго типа от первого события до последнего \"доходят\" только 6.1% пользователей. При этом \"проблемы\" каждого шага в этом случае имеют свою природу и требуют разных действий по испавлению ситуации.      \n",
    "\n",
    "\n",
    "    \n",
    "#### 5. Были изучены результаты эксперимента по А/А/В тестирования введения новых шрифтов в приложении.\n",
    "\n",
    "5.1 Пользователи были разбиты на три группы: две контрольные (группы 246 и 247) и экспериментальную группу 248. В процессе изучения мы сформировали искусственную \"объединенную\" контрольную группу 245, состоящую из пользователей групп 246 и 247.\n",
    "\n",
    "5.2 Самое популярное событие в группах - \"просмотр основной страницы\" - более 98% пользователей в каждой группе его совершают. Далее идут \"просмотр страницы предоложений\" - около 60% , \"переход к корзине) - около 49% и \"успешное завершение оплаты\" - около 47% в группах.\n",
    "\n",
    "5.3 Для контрольных групп критерии успешности А/А теста в соблюдаются:           \n",
    " - для всех групп фиксируются одни и те же показатели;                \n",
    " - количество пользователей в группах на этапе начала воронки, то есть события \"просмотр основной страницы\" различается на 1%;   \n",
    " - как мы специально проверили попавший в одну из групп посетитель остаётся в ней до конца теста;              \n",
    " - серия расчетов статистической значимости с пороговым уровнем значимости в 1.5% покзала, что значимых отличий в доле              конверсии по всем шагам воронки между контрольными группами нет. \n",
    " \n",
    "Таким образом мы подтвердили, что что результаты А/А теста убедительны, группы сформированы правильно, эксперимент организован корректно и результаты А/В тестирования будут валидны. \n",
    "\n",
    "5.4 Была проведена серия оценок результатов А/В тестирования эксперимента введения новых шрифтов в приложении.      \n",
    "Результаты эксперимента тестировались отдельно       \n",
    "- для каждого шага воронки первого типа,                   \n",
    "- для кадой пары экспериментальная (248) группа - тестовая группа (246, 247 и \"объединенная\" 245).\n",
    "Серия сравнений проводилась для порогового уровня статистической значимости каждого сопоставления результатов по груупам alpha равном 1.5% (то есть суммарного порогового урорвня значимости всей серии сравнений равного 4.5%).\n",
    "\n",
    "5.5 По результатам проведенной серии сравнений можно констатировать, что что ни для одного события в воронке стастически значимых отличий между экпериментальной группой 248 и контрольными группами 245, 246 и 247 в доле пользователей, совершающих событие в воронке, среди всех пользователей в группе  нет.\n",
    "\n",
    "##### Таким образом\n",
    "Результаты тестировани показывают, что введение новых шрифтов никак не влияет на долю пользователей совершающих то или иное событие.                       \n",
    "              \n",
    "\n",
    "##### Поэтому  в качестве рекомендации можно предложить отказаться от введения в приложение новых шрифтов как  не оказывающих никакого влияния на увеличение доли пользователей, совершающих события в воронке ."
   ]
  },
  {
   "cell_type": "markdown",
   "id": "2b23580d",
   "metadata": {},
   "source": [
    " "
   ]
  },
  {
   "cell_type": "markdown",
   "id": "afbac62a",
   "metadata": {},
   "source": [
    "#### Проект выполнил Александр Кийко.\n",
    "##### a.m.kiyko@yandex.ru"
   ]
  },
  {
   "cell_type": "markdown",
   "id": "62b15415",
   "metadata": {},
   "source": [
    " "
   ]
  },
  {
   "cell_type": "markdown",
   "id": "6b85bc4d",
   "metadata": {},
   "source": [
    "<div class=\"alert alert-success\">\n",
    "\n",
    "**✔️ Комментарий ревьюера ✔️**\n",
    "   \n",
    "   Александр, проведен основательный и подробный анализ. Все наглядно - графики и гистограммы подтверждают обоснованные выводы 👍. Успехов в обучении! 😉\n",
    "\n",
    "</div>\n"
   ]
  },
  {
   "cell_type": "code",
   "execution_count": null,
   "id": "ac3de28d",
   "metadata": {},
   "outputs": [],
   "source": []
  }
 ],
 "metadata": {
  "kernelspec": {
   "display_name": "Python 3 (ipykernel)",
   "language": "python",
   "name": "python3"
  },
  "language_info": {
   "codemirror_mode": {
    "name": "ipython",
    "version": 3
   },
   "file_extension": ".py",
   "mimetype": "text/x-python",
   "name": "python",
   "nbconvert_exporter": "python",
   "pygments_lexer": "ipython3",
   "version": "3.11.5"
  },
  "toc": {
   "base_numbering": 1,
   "nav_menu": {},
   "number_sections": true,
   "sideBar": true,
   "skip_h1_title": true,
   "title_cell": "Table of Contents",
   "title_sidebar": "Contents",
   "toc_cell": false,
   "toc_position": {},
   "toc_section_display": true,
   "toc_window_display": true
  }
 },
 "nbformat": 4,
 "nbformat_minor": 5
}
