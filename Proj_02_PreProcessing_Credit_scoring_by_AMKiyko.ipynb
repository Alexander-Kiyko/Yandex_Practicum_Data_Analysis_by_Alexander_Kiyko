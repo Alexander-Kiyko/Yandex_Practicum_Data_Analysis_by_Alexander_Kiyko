{
 "cells": [
  {
   "cell_type": "markdown",
   "id": "982c18d4",
   "metadata": {},
   "source": [
    "# Проект 02. Проверка кредитоспособности клиентов банка."
   ]
  },
  {
   "cell_type": "markdown",
   "id": "e36ee8b8",
   "metadata": {},
   "source": [
    "# Первая часть"
   ]
  },
  {
   "cell_type": "markdown",
   "id": "acea5d13",
   "metadata": {},
   "source": [
    "\n"
   ]
  },
  {
   "cell_type": "markdown",
   "id": "e3ba0df9",
   "metadata": {},
   "source": [
    "# Шаг 1. Откройте таблицу и изучите общую информацию о данных"
   ]
  },
  {
   "cell_type": "markdown",
   "id": "8c2598b2",
   "metadata": {},
   "source": [
    "\n"
   ]
  },
  {
   "cell_type": "markdown",
   "id": "e8f174ee",
   "metadata": {},
   "source": [
    "Задание 1. Импортируйте библиотеку pandas. Считайте данные из csv-файла в датафрейм и сохраните в переменную data. Путь к файлу: /datasets/data.csv."
   ]
  },
  {
   "cell_type": "code",
   "execution_count": 1,
   "id": "7afc69f5",
   "metadata": {},
   "outputs": [],
   "source": [
    "import pandas as pd\n",
    "\n",
    "data = pd.read_csv('data.csv')"
   ]
  },
  {
   "cell_type": "markdown",
   "id": "35c19845",
   "metadata": {},
   "source": [
    "Задание 2. Выведите первые 20 строчек датафрейма data на экран."
   ]
  },
  {
   "cell_type": "code",
   "execution_count": 3,
   "id": "c3bc420e",
   "metadata": {},
   "outputs": [
    {
     "data": {
      "text/html": [
       "<div>\n",
       "<style scoped>\n",
       "    .dataframe tbody tr th:only-of-type {\n",
       "        vertical-align: middle;\n",
       "    }\n",
       "\n",
       "    .dataframe tbody tr th {\n",
       "        vertical-align: top;\n",
       "    }\n",
       "\n",
       "    .dataframe thead th {\n",
       "        text-align: right;\n",
       "    }\n",
       "</style>\n",
       "<table border=\"1\" class=\"dataframe\">\n",
       "  <thead>\n",
       "    <tr style=\"text-align: right;\">\n",
       "      <th></th>\n",
       "      <th>children</th>\n",
       "      <th>days_employed</th>\n",
       "      <th>dob_years</th>\n",
       "      <th>education</th>\n",
       "      <th>education_id</th>\n",
       "      <th>family_status</th>\n",
       "      <th>family_status_id</th>\n",
       "      <th>gender</th>\n",
       "      <th>income_type</th>\n",
       "      <th>debt</th>\n",
       "      <th>total_income</th>\n",
       "      <th>purpose</th>\n",
       "    </tr>\n",
       "  </thead>\n",
       "  <tbody>\n",
       "    <tr>\n",
       "      <th>0</th>\n",
       "      <td>1</td>\n",
       "      <td>-8437.673028</td>\n",
       "      <td>42</td>\n",
       "      <td>высшее</td>\n",
       "      <td>0</td>\n",
       "      <td>женат / замужем</td>\n",
       "      <td>0</td>\n",
       "      <td>F</td>\n",
       "      <td>сотрудник</td>\n",
       "      <td>0</td>\n",
       "      <td>253875.639453</td>\n",
       "      <td>покупка жилья</td>\n",
       "    </tr>\n",
       "    <tr>\n",
       "      <th>1</th>\n",
       "      <td>1</td>\n",
       "      <td>-4024.803754</td>\n",
       "      <td>36</td>\n",
       "      <td>среднее</td>\n",
       "      <td>1</td>\n",
       "      <td>женат / замужем</td>\n",
       "      <td>0</td>\n",
       "      <td>F</td>\n",
       "      <td>сотрудник</td>\n",
       "      <td>0</td>\n",
       "      <td>112080.014102</td>\n",
       "      <td>приобретение автомобиля</td>\n",
       "    </tr>\n",
       "    <tr>\n",
       "      <th>2</th>\n",
       "      <td>0</td>\n",
       "      <td>-5623.422610</td>\n",
       "      <td>33</td>\n",
       "      <td>Среднее</td>\n",
       "      <td>1</td>\n",
       "      <td>женат / замужем</td>\n",
       "      <td>0</td>\n",
       "      <td>M</td>\n",
       "      <td>сотрудник</td>\n",
       "      <td>0</td>\n",
       "      <td>145885.952297</td>\n",
       "      <td>покупка жилья</td>\n",
       "    </tr>\n",
       "    <tr>\n",
       "      <th>3</th>\n",
       "      <td>3</td>\n",
       "      <td>-4124.747207</td>\n",
       "      <td>32</td>\n",
       "      <td>среднее</td>\n",
       "      <td>1</td>\n",
       "      <td>женат / замужем</td>\n",
       "      <td>0</td>\n",
       "      <td>M</td>\n",
       "      <td>сотрудник</td>\n",
       "      <td>0</td>\n",
       "      <td>267628.550329</td>\n",
       "      <td>дополнительное образование</td>\n",
       "    </tr>\n",
       "    <tr>\n",
       "      <th>4</th>\n",
       "      <td>0</td>\n",
       "      <td>340266.072047</td>\n",
       "      <td>53</td>\n",
       "      <td>среднее</td>\n",
       "      <td>1</td>\n",
       "      <td>гражданский брак</td>\n",
       "      <td>1</td>\n",
       "      <td>F</td>\n",
       "      <td>пенсионер</td>\n",
       "      <td>0</td>\n",
       "      <td>158616.077870</td>\n",
       "      <td>сыграть свадьбу</td>\n",
       "    </tr>\n",
       "    <tr>\n",
       "      <th>5</th>\n",
       "      <td>0</td>\n",
       "      <td>-926.185831</td>\n",
       "      <td>27</td>\n",
       "      <td>высшее</td>\n",
       "      <td>0</td>\n",
       "      <td>гражданский брак</td>\n",
       "      <td>1</td>\n",
       "      <td>M</td>\n",
       "      <td>компаньон</td>\n",
       "      <td>0</td>\n",
       "      <td>255763.565419</td>\n",
       "      <td>покупка жилья</td>\n",
       "    </tr>\n",
       "    <tr>\n",
       "      <th>6</th>\n",
       "      <td>0</td>\n",
       "      <td>-2879.202052</td>\n",
       "      <td>43</td>\n",
       "      <td>высшее</td>\n",
       "      <td>0</td>\n",
       "      <td>женат / замужем</td>\n",
       "      <td>0</td>\n",
       "      <td>F</td>\n",
       "      <td>компаньон</td>\n",
       "      <td>0</td>\n",
       "      <td>240525.971920</td>\n",
       "      <td>операции с жильем</td>\n",
       "    </tr>\n",
       "    <tr>\n",
       "      <th>7</th>\n",
       "      <td>0</td>\n",
       "      <td>-152.779569</td>\n",
       "      <td>50</td>\n",
       "      <td>СРЕДНЕЕ</td>\n",
       "      <td>1</td>\n",
       "      <td>женат / замужем</td>\n",
       "      <td>0</td>\n",
       "      <td>M</td>\n",
       "      <td>сотрудник</td>\n",
       "      <td>0</td>\n",
       "      <td>135823.934197</td>\n",
       "      <td>образование</td>\n",
       "    </tr>\n",
       "    <tr>\n",
       "      <th>8</th>\n",
       "      <td>2</td>\n",
       "      <td>-6929.865299</td>\n",
       "      <td>35</td>\n",
       "      <td>ВЫСШЕЕ</td>\n",
       "      <td>0</td>\n",
       "      <td>гражданский брак</td>\n",
       "      <td>1</td>\n",
       "      <td>F</td>\n",
       "      <td>сотрудник</td>\n",
       "      <td>0</td>\n",
       "      <td>95856.832424</td>\n",
       "      <td>на проведение свадьбы</td>\n",
       "    </tr>\n",
       "    <tr>\n",
       "      <th>9</th>\n",
       "      <td>0</td>\n",
       "      <td>-2188.756445</td>\n",
       "      <td>41</td>\n",
       "      <td>среднее</td>\n",
       "      <td>1</td>\n",
       "      <td>женат / замужем</td>\n",
       "      <td>0</td>\n",
       "      <td>M</td>\n",
       "      <td>сотрудник</td>\n",
       "      <td>0</td>\n",
       "      <td>144425.938277</td>\n",
       "      <td>покупка жилья для семьи</td>\n",
       "    </tr>\n",
       "    <tr>\n",
       "      <th>10</th>\n",
       "      <td>2</td>\n",
       "      <td>-4171.483647</td>\n",
       "      <td>36</td>\n",
       "      <td>высшее</td>\n",
       "      <td>0</td>\n",
       "      <td>женат / замужем</td>\n",
       "      <td>0</td>\n",
       "      <td>M</td>\n",
       "      <td>компаньон</td>\n",
       "      <td>0</td>\n",
       "      <td>113943.491460</td>\n",
       "      <td>покупка недвижимости</td>\n",
       "    </tr>\n",
       "    <tr>\n",
       "      <th>11</th>\n",
       "      <td>0</td>\n",
       "      <td>-792.701887</td>\n",
       "      <td>40</td>\n",
       "      <td>среднее</td>\n",
       "      <td>1</td>\n",
       "      <td>женат / замужем</td>\n",
       "      <td>0</td>\n",
       "      <td>F</td>\n",
       "      <td>сотрудник</td>\n",
       "      <td>0</td>\n",
       "      <td>77069.234271</td>\n",
       "      <td>покупка коммерческой недвижимости</td>\n",
       "    </tr>\n",
       "    <tr>\n",
       "      <th>12</th>\n",
       "      <td>0</td>\n",
       "      <td>NaN</td>\n",
       "      <td>65</td>\n",
       "      <td>среднее</td>\n",
       "      <td>1</td>\n",
       "      <td>гражданский брак</td>\n",
       "      <td>1</td>\n",
       "      <td>M</td>\n",
       "      <td>пенсионер</td>\n",
       "      <td>0</td>\n",
       "      <td>NaN</td>\n",
       "      <td>сыграть свадьбу</td>\n",
       "    </tr>\n",
       "    <tr>\n",
       "      <th>13</th>\n",
       "      <td>0</td>\n",
       "      <td>-1846.641941</td>\n",
       "      <td>54</td>\n",
       "      <td>неоконченное высшее</td>\n",
       "      <td>2</td>\n",
       "      <td>женат / замужем</td>\n",
       "      <td>0</td>\n",
       "      <td>F</td>\n",
       "      <td>сотрудник</td>\n",
       "      <td>0</td>\n",
       "      <td>130458.228857</td>\n",
       "      <td>приобретение автомобиля</td>\n",
       "    </tr>\n",
       "    <tr>\n",
       "      <th>14</th>\n",
       "      <td>0</td>\n",
       "      <td>-1844.956182</td>\n",
       "      <td>56</td>\n",
       "      <td>высшее</td>\n",
       "      <td>0</td>\n",
       "      <td>гражданский брак</td>\n",
       "      <td>1</td>\n",
       "      <td>F</td>\n",
       "      <td>компаньон</td>\n",
       "      <td>1</td>\n",
       "      <td>165127.911772</td>\n",
       "      <td>покупка жилой недвижимости</td>\n",
       "    </tr>\n",
       "    <tr>\n",
       "      <th>15</th>\n",
       "      <td>1</td>\n",
       "      <td>-972.364419</td>\n",
       "      <td>26</td>\n",
       "      <td>среднее</td>\n",
       "      <td>1</td>\n",
       "      <td>женат / замужем</td>\n",
       "      <td>0</td>\n",
       "      <td>F</td>\n",
       "      <td>сотрудник</td>\n",
       "      <td>0</td>\n",
       "      <td>116820.904450</td>\n",
       "      <td>строительство собственной недвижимости</td>\n",
       "    </tr>\n",
       "    <tr>\n",
       "      <th>16</th>\n",
       "      <td>0</td>\n",
       "      <td>-1719.934226</td>\n",
       "      <td>35</td>\n",
       "      <td>среднее</td>\n",
       "      <td>1</td>\n",
       "      <td>женат / замужем</td>\n",
       "      <td>0</td>\n",
       "      <td>F</td>\n",
       "      <td>сотрудник</td>\n",
       "      <td>0</td>\n",
       "      <td>289202.704229</td>\n",
       "      <td>недвижимость</td>\n",
       "    </tr>\n",
       "    <tr>\n",
       "      <th>17</th>\n",
       "      <td>0</td>\n",
       "      <td>-2369.999720</td>\n",
       "      <td>33</td>\n",
       "      <td>высшее</td>\n",
       "      <td>0</td>\n",
       "      <td>гражданский брак</td>\n",
       "      <td>1</td>\n",
       "      <td>M</td>\n",
       "      <td>сотрудник</td>\n",
       "      <td>0</td>\n",
       "      <td>90410.586745</td>\n",
       "      <td>строительство недвижимости</td>\n",
       "    </tr>\n",
       "    <tr>\n",
       "      <th>18</th>\n",
       "      <td>0</td>\n",
       "      <td>400281.136913</td>\n",
       "      <td>53</td>\n",
       "      <td>среднее</td>\n",
       "      <td>1</td>\n",
       "      <td>вдовец / вдова</td>\n",
       "      <td>2</td>\n",
       "      <td>F</td>\n",
       "      <td>пенсионер</td>\n",
       "      <td>0</td>\n",
       "      <td>56823.777243</td>\n",
       "      <td>на покупку подержанного автомобиля</td>\n",
       "    </tr>\n",
       "    <tr>\n",
       "      <th>19</th>\n",
       "      <td>0</td>\n",
       "      <td>-10038.818549</td>\n",
       "      <td>48</td>\n",
       "      <td>СРЕДНЕЕ</td>\n",
       "      <td>1</td>\n",
       "      <td>в разводе</td>\n",
       "      <td>3</td>\n",
       "      <td>F</td>\n",
       "      <td>сотрудник</td>\n",
       "      <td>0</td>\n",
       "      <td>242831.107982</td>\n",
       "      <td>на покупку своего автомобиля</td>\n",
       "    </tr>\n",
       "  </tbody>\n",
       "</table>\n",
       "</div>"
      ],
      "text/plain": [
       "    children  days_employed  dob_years            education  education_id  \\\n",
       "0          1   -8437.673028         42               высшее             0   \n",
       "1          1   -4024.803754         36              среднее             1   \n",
       "2          0   -5623.422610         33              Среднее             1   \n",
       "3          3   -4124.747207         32              среднее             1   \n",
       "4          0  340266.072047         53              среднее             1   \n",
       "5          0    -926.185831         27               высшее             0   \n",
       "6          0   -2879.202052         43               высшее             0   \n",
       "7          0    -152.779569         50              СРЕДНЕЕ             1   \n",
       "8          2   -6929.865299         35               ВЫСШЕЕ             0   \n",
       "9          0   -2188.756445         41              среднее             1   \n",
       "10         2   -4171.483647         36               высшее             0   \n",
       "11         0    -792.701887         40              среднее             1   \n",
       "12         0            NaN         65              среднее             1   \n",
       "13         0   -1846.641941         54  неоконченное высшее             2   \n",
       "14         0   -1844.956182         56               высшее             0   \n",
       "15         1    -972.364419         26              среднее             1   \n",
       "16         0   -1719.934226         35              среднее             1   \n",
       "17         0   -2369.999720         33               высшее             0   \n",
       "18         0  400281.136913         53              среднее             1   \n",
       "19         0  -10038.818549         48              СРЕДНЕЕ             1   \n",
       "\n",
       "       family_status  family_status_id gender income_type  debt  \\\n",
       "0    женат / замужем                 0      F   сотрудник     0   \n",
       "1    женат / замужем                 0      F   сотрудник     0   \n",
       "2    женат / замужем                 0      M   сотрудник     0   \n",
       "3    женат / замужем                 0      M   сотрудник     0   \n",
       "4   гражданский брак                 1      F   пенсионер     0   \n",
       "5   гражданский брак                 1      M   компаньон     0   \n",
       "6    женат / замужем                 0      F   компаньон     0   \n",
       "7    женат / замужем                 0      M   сотрудник     0   \n",
       "8   гражданский брак                 1      F   сотрудник     0   \n",
       "9    женат / замужем                 0      M   сотрудник     0   \n",
       "10   женат / замужем                 0      M   компаньон     0   \n",
       "11   женат / замужем                 0      F   сотрудник     0   \n",
       "12  гражданский брак                 1      M   пенсионер     0   \n",
       "13   женат / замужем                 0      F   сотрудник     0   \n",
       "14  гражданский брак                 1      F   компаньон     1   \n",
       "15   женат / замужем                 0      F   сотрудник     0   \n",
       "16   женат / замужем                 0      F   сотрудник     0   \n",
       "17  гражданский брак                 1      M   сотрудник     0   \n",
       "18    вдовец / вдова                 2      F   пенсионер     0   \n",
       "19         в разводе                 3      F   сотрудник     0   \n",
       "\n",
       "     total_income                                 purpose  \n",
       "0   253875.639453                           покупка жилья  \n",
       "1   112080.014102                 приобретение автомобиля  \n",
       "2   145885.952297                           покупка жилья  \n",
       "3   267628.550329              дополнительное образование  \n",
       "4   158616.077870                         сыграть свадьбу  \n",
       "5   255763.565419                           покупка жилья  \n",
       "6   240525.971920                       операции с жильем  \n",
       "7   135823.934197                             образование  \n",
       "8    95856.832424                   на проведение свадьбы  \n",
       "9   144425.938277                 покупка жилья для семьи  \n",
       "10  113943.491460                    покупка недвижимости  \n",
       "11   77069.234271       покупка коммерческой недвижимости  \n",
       "12            NaN                         сыграть свадьбу  \n",
       "13  130458.228857                 приобретение автомобиля  \n",
       "14  165127.911772              покупка жилой недвижимости  \n",
       "15  116820.904450  строительство собственной недвижимости  \n",
       "16  289202.704229                            недвижимость  \n",
       "17   90410.586745              строительство недвижимости  \n",
       "18   56823.777243      на покупку подержанного автомобиля  \n",
       "19  242831.107982            на покупку своего автомобиля  "
      ]
     },
     "metadata": {},
     "output_type": "display_data"
    }
   ],
   "source": [
    "display(data.head(20))"
   ]
  },
  {
   "cell_type": "markdown",
   "id": "aa46b8e0",
   "metadata": {},
   "source": [
    "Задание 3. Выведите основную информацию о датафрейме с помощью метода info()."
   ]
  },
  {
   "cell_type": "code",
   "execution_count": 4,
   "id": "9b81a2bc",
   "metadata": {},
   "outputs": [
    {
     "name": "stdout",
     "output_type": "stream",
     "text": [
      "<class 'pandas.core.frame.DataFrame'>\n",
      "RangeIndex: 21525 entries, 0 to 21524\n",
      "Data columns (total 12 columns):\n",
      " #   Column            Non-Null Count  Dtype  \n",
      "---  ------            --------------  -----  \n",
      " 0   children          21525 non-null  int64  \n",
      " 1   days_employed     19351 non-null  float64\n",
      " 2   dob_years         21525 non-null  int64  \n",
      " 3   education         21525 non-null  object \n",
      " 4   education_id      21525 non-null  int64  \n",
      " 5   family_status     21525 non-null  object \n",
      " 6   family_status_id  21525 non-null  int64  \n",
      " 7   gender            21525 non-null  object \n",
      " 8   income_type       21525 non-null  object \n",
      " 9   debt              21525 non-null  int64  \n",
      " 10  total_income      19351 non-null  float64\n",
      " 11  purpose           21525 non-null  object \n",
      "dtypes: float64(2), int64(5), object(5)\n",
      "memory usage: 2.0+ MB\n"
     ]
    }
   ],
   "source": [
    "data.info()"
   ]
  },
  {
   "cell_type": "markdown",
   "id": "3771de2a",
   "metadata": {},
   "source": [
    "# Шаг 2. Предобработка данных"
   ]
  },
  {
   "cell_type": "markdown",
   "id": "724d05c0",
   "metadata": {},
   "source": [
    "Задание 4. Выведите количество пропущенных значений для каждого столбца. Используйте комбинацию двух методов."
   ]
  },
  {
   "cell_type": "code",
   "execution_count": 5,
   "id": "2ed43ddf",
   "metadata": {},
   "outputs": [
    {
     "name": "stdout",
     "output_type": "stream",
     "text": [
      "children               0\n",
      "days_employed       2174\n",
      "dob_years              0\n",
      "education              0\n",
      "education_id           0\n",
      "family_status          0\n",
      "family_status_id       0\n",
      "gender                 0\n",
      "income_type            0\n",
      "debt                   0\n",
      "total_income        2174\n",
      "purpose                0\n",
      "dtype: int64\n"
     ]
    }
   ],
   "source": [
    "print(data.isna().sum())"
   ]
  },
  {
   "cell_type": "markdown",
   "id": "656b47fb",
   "metadata": {},
   "source": [
    "Задание 5. В двух столбцах есть пропущенные значения. \n",
    "Один из них — days_employed. Пропуски в этом столбце вы обработаете на следующем этапе. \n",
    "Другой столбец с пропущенными значениями — total_income — хранит данные о доходах. \n",
    "На сумму дохода сильнее всего влияет тип занятости, поэтому заполнить пропуски в этом столбце нужно медианным значением по каждому типу из столбца income_type. \n",
    "Например, у человека с типом занятости сотрудник пропуск в столбце total_income должен быть заполнен медианным доходом среди всех записей с тем же типом."
   ]
  },
  {
   "cell_type": "markdown",
   "id": "97a3cd80",
   "metadata": {},
   "source": [
    "Предварительный просмотр"
   ]
  },
  {
   "cell_type": "code",
   "execution_count": 6,
   "id": "c178b26e",
   "metadata": {},
   "outputs": [
    {
     "name": "stdout",
     "output_type": "stream",
     "text": [
      "                  total_income               \n",
      "                          mean         median\n",
      "income_type                                  \n",
      "безработный      131339.751676  131339.751676\n",
      "в декрете         53829.130729   53829.130729\n",
      "госслужащий      170898.309923  150447.935283\n",
      "компаньон        202417.461462  172357.950966\n",
      "пенсионер        137127.465690  118514.486412\n",
      "предприниматель  499163.144947  499163.144947\n",
      "сотрудник        161380.260488  142594.396847\n",
      "студент           98201.625314   98201.625314\n",
      "\n",
      "nan\n"
     ]
    }
   ],
   "source": [
    "print(data.groupby('income_type').agg({'total_income':['mean','median']}))\n",
    "print('')\n",
    "print(data.loc[12,'total_income'])    # здесь в изначальном датасете стоял nan - хорошо бы убедится что это так, \n",
    "                                      # а потом проверить после подстановки медианы"
   ]
  },
  {
   "cell_type": "markdown",
   "id": "5f20cb62",
   "metadata": {},
   "source": [
    "Основное решение и проверка вариант 1"
   ]
  },
  {
   "cell_type": "code",
   "execution_count": 7,
   "id": "c0928653",
   "metadata": {},
   "outputs": [
    {
     "name": "stdout",
     "output_type": "stream",
     "text": [
      "children               0\n",
      "days_employed       2174\n",
      "dob_years              0\n",
      "education              0\n",
      "education_id           0\n",
      "family_status          0\n",
      "family_status_id       0\n",
      "gender                 0\n",
      "income_type            0\n",
      "debt                   0\n",
      "total_income           0\n",
      "purpose                0\n",
      "dtype: int64\n",
      "\n",
      "118514.48641164352\n"
     ]
    }
   ],
   "source": [
    "for inc_type in data['income_type'].unique():\n",
    "    tot_inc_median = data[data['income_type'] == inc_type]['total_income'].median()\n",
    "    data.loc[(data['income_type'] == inc_type)&(data['total_income'].isna()),'total_income'] = tot_inc_median\n",
    "    \n",
    "print(data.isna().sum())              # Проверка: в строке total_income должен быть 0\n",
    "print()\n",
    "print(data.loc[12,'total_income'])    # Проверка: строке 12 в столбце 'total_income' стояло NaN, теперь должно быть \n",
    "                                      # 118514.486412 - медиана для пенсионеров"
   ]
  },
  {
   "cell_type": "markdown",
   "id": "f0c7b7f0",
   "metadata": {},
   "source": [
    "Основное решение и проверка вариант 2"
   ]
  },
  {
   "cell_type": "code",
   "execution_count": 8,
   "id": "d1938b77",
   "metadata": {},
   "outputs": [
    {
     "name": "stdout",
     "output_type": "stream",
     "text": [
      "118514.48641164352\n"
     ]
    }
   ],
   "source": [
    "for inc_type in data['income_type'].unique():\n",
    "    data.loc[(data['income_type'] == inc_type)&(data['total_income'].isna()),'total_income'] = \\\n",
    "    data.loc[(data['income_type'] == inc_type, 'total_income')].median()\n",
    "\n",
    "print(data.loc[12,'total_income'])    # та же проверка с пенсионером"
   ]
  },
  {
   "cell_type": "markdown",
   "id": "38c95007",
   "metadata": {},
   "source": [
    "Задание 6. В данных могут встречаться артефакты (аномалии) — значения, которые не отражают действительность и появились по какой-то ошибке. Таким артефактом будет отрицательное количество дней трудового стажа в столбце days_employed. Для реальных данных это нормально. Обработайте значения в этом столбце: замените все отрицательные значения положительными с помощью метода abs()."
   ]
  },
  {
   "cell_type": "code",
   "execution_count": 9,
   "id": "8b9300d6",
   "metadata": {},
   "outputs": [
    {
     "name": "stdout",
     "output_type": "stream",
     "text": [
      "                  total_income\n",
      "                        median\n",
      "income_type                   \n",
      "безработный      131339.751676\n",
      "в декрете         53829.130729\n",
      "госслужащий      150447.935283\n",
      "компаньон        172357.950966\n",
      "пенсионер        118514.486412\n",
      "предприниматель  499163.144947\n",
      "сотрудник        142594.396847\n",
      "студент           98201.625314\n"
     ]
    }
   ],
   "source": [
    "tot_inc_median = data.groupby('income_type').agg({'total_income':['median']})\n",
    "print(tot_inc_median)\n",
    "     \n",
    "#print(data.loc[12,'total_income'])"
   ]
  },
  {
   "cell_type": "code",
   "execution_count": 10,
   "id": "8eb4a3b7",
   "metadata": {},
   "outputs": [
    {
     "name": "stdout",
     "output_type": "stream",
     "text": [
      "0      8437.673028\n",
      "1      4024.803754\n",
      "2      5623.422610\n",
      "3      4124.747207\n",
      "4    340266.072047\n",
      "5       926.185831\n",
      "6      2879.202052\n",
      "Name: days_employed, dtype: float64\n"
     ]
    }
   ],
   "source": [
    "for day in data['days_employed'].unique():\n",
    "    if day <0:\n",
    "        data['days_employed'] = data['days_employed'].abs()\n",
    "print(data.loc[:6,'days_employed'])"
   ]
  },
  {
   "cell_type": "markdown",
   "id": "4623b07b",
   "metadata": {},
   "source": [
    "Задание 7. Для каждого типа занятости выведите медианное значение трудового стажа в днях из столбца days_employed. У двух типов (безработные и пенсионеры) получатся аномально большие значения. Исправить такие значения сложно, поэтому оставьте их как есть."
   ]
  },
  {
   "cell_type": "code",
   "execution_count": 11,
   "id": "7768ce5e",
   "metadata": {},
   "outputs": [
    {
     "name": "stdout",
     "output_type": "stream",
     "text": [
      "income_type\n",
      "безработный        366413.652744\n",
      "в декрете            3296.759962\n",
      "госслужащий          2689.368353\n",
      "компаньон            1547.382223\n",
      "пенсионер          365213.306266\n",
      "предприниматель       520.848083\n",
      "сотрудник            1574.202821\n",
      "студент               578.751554\n",
      "Name: days_employed, dtype: float64\n"
     ]
    }
   ],
   "source": [
    "print(data.groupby('income_type')['days_employed'].median())"
   ]
  },
  {
   "cell_type": "markdown",
   "id": "92fbdeb6",
   "metadata": {},
   "source": [
    "Задание 8. Выведите перечень уникальных значений столбца children."
   ]
  },
  {
   "cell_type": "code",
   "execution_count": 12,
   "id": "6d6f6382",
   "metadata": {},
   "outputs": [
    {
     "name": "stdout",
     "output_type": "stream",
     "text": [
      "[ 1  0  3  2 -1  4 20  5]\n"
     ]
    }
   ],
   "source": [
    "print(data['children'].unique())"
   ]
  },
  {
   "cell_type": "markdown",
   "id": "bf443f25",
   "metadata": {},
   "source": [
    "Задание 9. В столбце children есть два аномальных значения. Удалите строки, в которых встречаются такие аномальные значения из датафрейма data."
   ]
  },
  {
   "cell_type": "code",
   "execution_count": 13,
   "id": "af292e6e",
   "metadata": {},
   "outputs": [
    {
     "name": "stdout",
     "output_type": "stream",
     "text": [
      "[1 0 3 2 4 5]\n"
     ]
    }
   ],
   "source": [
    "data = data[(data['children'] !=-1)&(data['children'] !=20)]\n",
    "\n",
    "print(data['children'].unique())    # Проверка: распечатываем тот же перечень уникальных значений столбца children\n",
    "                                    # и убеждаемся, что артефактов (\"-1\" и \"+20\") - нет.     "
   ]
  },
  {
   "cell_type": "markdown",
   "id": "d3b1c347",
   "metadata": {},
   "source": [
    "Задание 10. Ещё раз выведите перечень уникальных значений столбца children, чтобы убедиться, что артефакты удалены."
   ]
  },
  {
   "cell_type": "markdown",
   "id": "c0165e72",
   "metadata": {},
   "source": [
    "вспомогательная"
   ]
  },
  {
   "cell_type": "code",
   "execution_count": 14,
   "id": "d2d15d9d",
   "metadata": {},
   "outputs": [
    {
     "name": "stdout",
     "output_type": "stream",
     "text": [
      "                 days_employed               \n",
      "                          mean         median\n",
      "income_type                                  \n",
      "безработный      366413.652744  366413.652744\n",
      "в декрете          3296.759962    3296.759962\n",
      "госслужащий        3403.534603    2689.137274\n",
      "компаньон          2118.257358    1555.947387\n",
      "пенсионер        365025.091981  365286.622650\n",
      "предприниматель     520.848083     520.848083\n",
      "сотрудник          2323.653522    1572.328285\n",
      "студент             578.751554     578.751554\n",
      "\n",
      "nan\n"
     ]
    }
   ],
   "source": [
    "print( data.groupby('income_type').agg({'days_employed':['mean','median']}) )\n",
    "print()\n",
    "print( data.loc[12,'days_employed'] ) # здесь в изначальном датасете стоял nan - хорошо бы убедится что это так, \n",
    "                                    # а потом проверить после подстановки медианы"
   ]
  },
  {
   "cell_type": "markdown",
   "id": "abb0072d",
   "metadata": {},
   "source": [
    "основная"
   ]
  },
  {
   "cell_type": "code",
   "execution_count": 15,
   "id": "335b34e6",
   "metadata": {},
   "outputs": [
    {
     "name": "stdout",
     "output_type": "stream",
     "text": [
      "children            0\n",
      "days_employed       0\n",
      "dob_years           0\n",
      "education           0\n",
      "education_id        0\n",
      "family_status       0\n",
      "family_status_id    0\n",
      "gender              0\n",
      "income_type         0\n",
      "debt                0\n",
      "total_income        0\n",
      "purpose             0\n",
      "dtype: int64\n",
      "\n",
      "365286.6226495429\n"
     ]
    }
   ],
   "source": [
    "for inc_type in data['income_type'].unique():\n",
    "    days_median = data[(data['income_type'] == inc_type)]['days_employed'].median()\n",
    "    data.loc[(data['income_type'] == inc_type)&(data['days_employed'].isna()),'days_employed'] = days_median\n",
    "    \n",
    "print( data.isna().sum() )              # Проверка: в строке days_employed должен быть 0\n",
    "print()                                 # Просто пустая строка для разделения\n",
    "print( data.loc[12,'days_employed'] )   # Проверка: в изначальных данных в этом месте был NaN, должно быть 365286.6226495429"
   ]
  },
  {
   "cell_type": "markdown",
   "id": "64693c78",
   "metadata": {},
   "source": [
    "Задание 12. Убедитесь, что все пропуски заполнены. Проверьте себя и ещё раз выведите количество пропущенных значений для каждого столбца с помощью двух методов."
   ]
  },
  {
   "cell_type": "code",
   "execution_count": 16,
   "id": "cbaa4c60",
   "metadata": {},
   "outputs": [
    {
     "name": "stdout",
     "output_type": "stream",
     "text": [
      "children            0\n",
      "days_employed       0\n",
      "dob_years           0\n",
      "education           0\n",
      "education_id        0\n",
      "family_status       0\n",
      "family_status_id    0\n",
      "gender              0\n",
      "income_type         0\n",
      "debt                0\n",
      "total_income        0\n",
      "purpose             0\n",
      "dtype: int64\n"
     ]
    }
   ],
   "source": [
    "print( data.isna().sum() )              # во всех строках должен быть 0"
   ]
  },
  {
   "cell_type": "markdown",
   "id": "f72756ac",
   "metadata": {},
   "source": [
    "Задание 13. Замените вещественный тип данных в столбце total_income на целочисленный с помощью метода astype()."
   ]
  },
  {
   "cell_type": "code",
   "execution_count": 17,
   "id": "84c55547",
   "metadata": {},
   "outputs": [
    {
     "name": "stdout",
     "output_type": "stream",
     "text": [
      "<class 'numpy.int32'>\n"
     ]
    }
   ],
   "source": [
    "data['total_income'] = data['total_income'].astype('int')\n",
    "\n",
    "print( type(data.loc[0,'total_income']) )  # Проверка: тип должен быть int или 32 или 64"
   ]
  },
  {
   "cell_type": "markdown",
   "id": "0bb1b6a6",
   "metadata": {},
   "source": [
    "Задание 14. Обработайте неявные дубликаты в столбце education. В этом столбце есть одни и те же значения, но записанные по-разному: с использованием заглавных и строчных букв. Приведите их к нижнему регистру."
   ]
  },
  {
   "cell_type": "code",
   "execution_count": 18,
   "id": "21d6d19a",
   "metadata": {},
   "outputs": [
    {
     "name": "stdout",
     "output_type": "stream",
     "text": [
      "0      высшее\n",
      "1     среднее\n",
      "2     среднее\n",
      "3     среднее\n",
      "4     среднее\n",
      "5      высшее\n",
      "6      высшее\n",
      "7     среднее\n",
      "8      высшее\n",
      "9     среднее\n",
      "10     высшее\n",
      "Name: education, dtype: object\n"
     ]
    }
   ],
   "source": [
    "data['education'] = data['education'].str.lower()\n",
    "\n",
    "print( data.loc[:10,'education'] )    # Проверка: в исходном датафрейме в первой десятке этого столбца \n",
    "                                      # были слова в разных регистрах. Сейчас должны быть тольо в нижнем"
   ]
  },
  {
   "cell_type": "markdown",
   "id": "fd46bb1f",
   "metadata": {},
   "source": [
    "Задание 15. Выведите на экран количество строк-дубликатов в данных. Если такие строки присутствуют, удалите их. Сбрасывать индексы после удаления строк дубликатов с помощью reset_index(drop=True) здесь не требуется"
   ]
  },
  {
   "cell_type": "code",
   "execution_count": 19,
   "id": "222f812b",
   "metadata": {},
   "outputs": [
    {
     "name": "stdout",
     "output_type": "stream",
     "text": [
      "71\n"
     ]
    }
   ],
   "source": [
    "print( data.duplicated().sum() )"
   ]
  },
  {
   "cell_type": "code",
   "execution_count": 20,
   "id": "980eb659",
   "metadata": {},
   "outputs": [
    {
     "name": "stdout",
     "output_type": "stream",
     "text": [
      "0\n"
     ]
    }
   ],
   "source": [
    "data = data.drop_duplicates()\n",
    "\n",
    "print( data.duplicated().sum() )      # Проверка: в результате удаления должно стать 0 дубликатов"
   ]
  },
  {
   "cell_type": "markdown",
   "id": "c58b66fb",
   "metadata": {},
   "source": [
    "Задание 16. На основании диапазонов, указанных ниже, создайте в датафрейме data столбец total_income_category с категориями:\n",
    "•\t0–30000 — 'E';\n",
    "•\t30001–50000 — 'D';\n",
    "•\t50001–200000 — 'C';\n",
    "•\t200001–1000000 — 'B';\n",
    "•\t1000001 и выше — 'A'.\n",
    "Например, кредитополучателю с доходом 25000 нужно назначить категорию 'E', а клиенту, получающему 235000, — 'B'."
   ]
  },
  {
   "cell_type": "markdown",
   "id": "ba76c92c",
   "metadata": {},
   "source": [
    "Сначала сделаем категоризирующую функцию"
   ]
  },
  {
   "cell_type": "code",
   "execution_count": 21,
   "id": "fa75f654",
   "metadata": {},
   "outputs": [
    {
     "name": "stdout",
     "output_type": "stream",
     "text": [
      "E\n",
      "D\n",
      "C\n",
      "B\n",
      "A\n"
     ]
    }
   ],
   "source": [
    "def categorize_income (income):\n",
    "    if income > 1000000:\n",
    "        return 'A'\n",
    "    if 200000 < income <= 1000000:\n",
    "        return 'B'\n",
    "    if 50000 < income <= 200000:\n",
    "        return 'C'\n",
    "    if 30000 < income <= 50000:\n",
    "        return 'D'\n",
    "    return 'E'\n",
    "\n",
    "print( categorize_income(17000) )        # Проверка: для каждого диапазона функция должна возвращать \n",
    "print( categorize_income(50000) )        # правильное название категории\n",
    "print( categorize_income(123000) )\n",
    "print( categorize_income(777000) )\n",
    "print( categorize_income(1230000) )"
   ]
  },
  {
   "cell_type": "markdown",
   "id": "c7c11fb4",
   "metadata": {},
   "source": [
    "Теперь применим функцию к столбцу 'total_income' и создадим столбец 'total_income_category'"
   ]
  },
  {
   "cell_type": "code",
   "execution_count": 22,
   "id": "7bb7adf9",
   "metadata": {},
   "outputs": [
    {
     "name": "stdout",
     "output_type": "stream",
     "text": [
      "    total_income total_income_category\n",
      "0         253875                     B\n",
      "1         112080                     C\n",
      "2         145885                     C\n",
      "3         267628                     B\n",
      "4         158616                     C\n",
      "5         255763                     B\n",
      "6         240525                     B\n",
      "7         135823                     C\n",
      "8          95856                     C\n",
      "9         144425                     C\n",
      "10        113943                     C\n"
     ]
    }
   ],
   "source": [
    "data['total_income_category'] = data['total_income'].apply(categorize_income)\n",
    "\n",
    "print( data.loc[:10, ['total_income','total_income_category']] )  # Проверка: для первых 10 строк посмотреть глазами \n",
    "                                                                  # на соответствие категории и суммы в \"живом\" датафрейме"
   ]
  },
  {
   "cell_type": "markdown",
   "id": "a94ff743",
   "metadata": {},
   "source": [
    "Задание 17. Выведите на экран перечень уникальных целей взятия кредита из столбца purpose"
   ]
  },
  {
   "cell_type": "code",
   "execution_count": 23,
   "id": "651f0f12",
   "metadata": {},
   "outputs": [
    {
     "name": "stdout",
     "output_type": "stream",
     "text": [
      "purpose\n",
      "свадьба                                   790\n",
      "на проведение свадьбы                     763\n",
      "сыграть свадьбу                           760\n",
      "операции с недвижимостью                  672\n",
      "покупка коммерческой недвижимости         658\n",
      "покупка жилья для сдачи                   649\n",
      "операции с жильем                         647\n",
      "операции с коммерческой недвижимостью     645\n",
      "жилье                                     641\n",
      "покупка жилья                             640\n",
      "покупка жилья для семьи                   637\n",
      "недвижимость                              631\n",
      "строительство собственной недвижимости    628\n",
      "операции со своей недвижимостью           623\n",
      "строительство жилой недвижимости          620\n",
      "строительство недвижимости                619\n",
      "покупка своего жилья                      619\n",
      "покупка недвижимости                      616\n",
      "ремонт жилью                              604\n",
      "покупка жилой недвижимости                602\n",
      "на покупку своего автомобиля              504\n",
      "заняться высшим образованием              496\n",
      "автомобиль                                491\n",
      "сделка с подержанным автомобилем          481\n",
      "автомобили                                476\n",
      "свой автомобиль                           473\n",
      "на покупку подержанного автомобиля        471\n",
      "на покупку автомобиля                     469\n",
      "приобретение автомобиля                   459\n",
      "сделка с автомобилем                      455\n",
      "дополнительное образование                455\n",
      "высшее образование                        446\n",
      "получение дополнительного образования     444\n",
      "образование                               442\n",
      "получение образования                     440\n",
      "профильное образование                    432\n",
      "получение высшего образования             425\n",
      "заняться образованием                     408\n",
      "Name: count, dtype: int64\n"
     ]
    }
   ],
   "source": [
    "print( data['purpose'].value_counts() )"
   ]
  },
  {
   "cell_type": "markdown",
   "id": "b7c5cde4",
   "metadata": {},
   "source": [
    "Задание 18. Создайте функцию, которая на основании данных из столбца purpose сформирует новый столбец purpose_category, куда войдут следующие категории:\n",
    "•\t'операции с автомобилем',\n",
    "•\t'операции с недвижимостью',\n",
    "•\t'проведение свадьбы',\n",
    "•\t'получение образования'.\n",
    "Например, если в столбце purpose находится подстрока 'на покупку автомобиля', то в столбце purpose_category должна появиться строка 'операции с автомобилем'.\n",
    "Используйте собственную функцию с именем categorize_purpose() и метод apply(). Изучите данные в столбце purpose и определите, какие подстроки помогут вам правильно определить категорию.\n"
   ]
  },
  {
   "cell_type": "markdown",
   "id": "d7a84bba",
   "metadata": {},
   "source": [
    "Сначала сделаем функцию"
   ]
  },
  {
   "cell_type": "code",
   "execution_count": 24,
   "id": "83dbee85",
   "metadata": {},
   "outputs": [],
   "source": [
    "def categorize_purpose(purp):\n",
    "    if 'автомоб'in purp :\n",
    "        return 'операции с автомобилем'\n",
    "    if ('недвижимост'in purp)|('жиль' in purp):\n",
    "        return 'операции с недвижимостью'\n",
    "    if 'свадьб' in purp:\n",
    "        return 'проведение свадьбы'\n",
    "    return 'получение образования'"
   ]
  },
  {
   "cell_type": "markdown",
   "id": "e2d2b153",
   "metadata": {},
   "source": [
    "Теперь применим функцию к столбцу 'purpose' и  создадим столбец 'purpose_category'"
   ]
  },
  {
   "cell_type": "code",
   "execution_count": 25,
   "id": "b5375399",
   "metadata": {},
   "outputs": [
    {
     "name": "stdout",
     "output_type": "stream",
     "text": [
      "                       purpose          purpose_category\n",
      "0                покупка жилья  операции с недвижимостью\n",
      "1      приобретение автомобиля    операции с автомобилем\n",
      "2                покупка жилья  операции с недвижимостью\n",
      "3   дополнительное образование     получение образования\n",
      "4              сыграть свадьбу        проведение свадьбы\n",
      "5                покупка жилья  операции с недвижимостью\n",
      "6            операции с жильем  операции с недвижимостью\n",
      "7                  образование     получение образования\n",
      "8        на проведение свадьбы        проведение свадьбы\n",
      "9      покупка жилья для семьи  операции с недвижимостью\n",
      "10        покупка недвижимости  операции с недвижимостью\n"
     ]
    }
   ],
   "source": [
    "data['purpose_category'] = data['purpose'].apply(categorize_purpose)\n",
    "\n",
    "print( data.loc[:10, ['purpose','purpose_category']] )  # Проверка: для первых 10 строк посмотреть глазами \n",
    "                                                        # на соответствие категории и собственно цели в \"живом\" датафрейме"
   ]
  },
  {
   "cell_type": "markdown",
   "id": "938dce2a",
   "metadata": {},
   "source": [
    "\n"
   ]
  },
  {
   "cell_type": "markdown",
   "id": "25c20c2e",
   "metadata": {},
   "source": [
    " \n",
    "  \n",
    "   \n",
    "   "
   ]
  },
  {
   "cell_type": "markdown",
   "id": "6e7a6870",
   "metadata": {},
   "source": [
    "# Вторая часть"
   ]
  },
  {
   "cell_type": "markdown",
   "id": "ae913cce",
   "metadata": {},
   "source": [
    "# Шаг 3. Исследуйте данные и ответьте на вопросы"
   ]
  },
  {
   "cell_type": "markdown",
   "id": "cca945e0",
   "metadata": {},
   "source": [
    "Дисклеймер: Записывал свои соображения довольно подробно, чтобы было понятно что откуда и почему. \n",
    "            Заранее прошу прощения за возможное многословие."
   ]
  },
  {
   "cell_type": "markdown",
   "id": "d185504a",
   "metadata": {},
   "source": [
    "Задание 19. Есть ли зависимость между количеством детей и возвратом кредита в срок?"
   ]
  },
  {
   "cell_type": "code",
   "execution_count": 26,
   "id": "e7c38bb6",
   "metadata": {},
   "outputs": [],
   "source": [
    "import pandas as pd\n",
    "\n",
    "data = pd.read_csv('data.csv')"
   ]
  },
  {
   "cell_type": "code",
   "execution_count": 27,
   "id": "ae7d8717",
   "metadata": {
    "scrolled": true
   },
   "outputs": [
    {
     "name": "stdout",
     "output_type": "stream",
     "text": [
      "<class 'pandas.core.frame.DataFrame'>\n",
      "RangeIndex: 21525 entries, 0 to 21524\n",
      "Data columns (total 12 columns):\n",
      " #   Column            Non-Null Count  Dtype  \n",
      "---  ------            --------------  -----  \n",
      " 0   children          21525 non-null  int64  \n",
      " 1   days_employed     19351 non-null  float64\n",
      " 2   dob_years         21525 non-null  int64  \n",
      " 3   education         21525 non-null  object \n",
      " 4   education_id      21525 non-null  int64  \n",
      " 5   family_status     21525 non-null  object \n",
      " 6   family_status_id  21525 non-null  int64  \n",
      " 7   gender            21525 non-null  object \n",
      " 8   income_type       21525 non-null  object \n",
      " 9   debt              21525 non-null  int64  \n",
      " 10  total_income      19351 non-null  float64\n",
      " 11  purpose           21525 non-null  object \n",
      "dtypes: float64(2), int64(5), object(5)\n",
      "memory usage: 2.0+ MB\n"
     ]
    }
   ],
   "source": [
    "data.info()"
   ]
  },
  {
   "cell_type": "code",
   "execution_count": 28,
   "id": "ea75a138",
   "metadata": {
    "scrolled": false
   },
   "outputs": [
    {
     "data": {
      "text/html": [
       "<div>\n",
       "<style scoped>\n",
       "    .dataframe tbody tr th:only-of-type {\n",
       "        vertical-align: middle;\n",
       "    }\n",
       "\n",
       "    .dataframe tbody tr th {\n",
       "        vertical-align: top;\n",
       "    }\n",
       "\n",
       "    .dataframe thead th {\n",
       "        text-align: right;\n",
       "    }\n",
       "</style>\n",
       "<table border=\"1\" class=\"dataframe\">\n",
       "  <thead>\n",
       "    <tr style=\"text-align: right;\">\n",
       "      <th></th>\n",
       "      <th>children</th>\n",
       "      <th>days_employed</th>\n",
       "      <th>dob_years</th>\n",
       "      <th>education</th>\n",
       "      <th>education_id</th>\n",
       "      <th>family_status</th>\n",
       "      <th>family_status_id</th>\n",
       "      <th>gender</th>\n",
       "      <th>income_type</th>\n",
       "      <th>debt</th>\n",
       "      <th>total_income</th>\n",
       "      <th>purpose</th>\n",
       "    </tr>\n",
       "  </thead>\n",
       "  <tbody>\n",
       "    <tr>\n",
       "      <th>0</th>\n",
       "      <td>1</td>\n",
       "      <td>-8437.673028</td>\n",
       "      <td>42</td>\n",
       "      <td>высшее</td>\n",
       "      <td>0</td>\n",
       "      <td>женат / замужем</td>\n",
       "      <td>0</td>\n",
       "      <td>F</td>\n",
       "      <td>сотрудник</td>\n",
       "      <td>0</td>\n",
       "      <td>253875.639453</td>\n",
       "      <td>покупка жилья</td>\n",
       "    </tr>\n",
       "    <tr>\n",
       "      <th>1</th>\n",
       "      <td>1</td>\n",
       "      <td>-4024.803754</td>\n",
       "      <td>36</td>\n",
       "      <td>среднее</td>\n",
       "      <td>1</td>\n",
       "      <td>женат / замужем</td>\n",
       "      <td>0</td>\n",
       "      <td>F</td>\n",
       "      <td>сотрудник</td>\n",
       "      <td>0</td>\n",
       "      <td>112080.014102</td>\n",
       "      <td>приобретение автомобиля</td>\n",
       "    </tr>\n",
       "    <tr>\n",
       "      <th>2</th>\n",
       "      <td>0</td>\n",
       "      <td>-5623.422610</td>\n",
       "      <td>33</td>\n",
       "      <td>Среднее</td>\n",
       "      <td>1</td>\n",
       "      <td>женат / замужем</td>\n",
       "      <td>0</td>\n",
       "      <td>M</td>\n",
       "      <td>сотрудник</td>\n",
       "      <td>0</td>\n",
       "      <td>145885.952297</td>\n",
       "      <td>покупка жилья</td>\n",
       "    </tr>\n",
       "    <tr>\n",
       "      <th>3</th>\n",
       "      <td>3</td>\n",
       "      <td>-4124.747207</td>\n",
       "      <td>32</td>\n",
       "      <td>среднее</td>\n",
       "      <td>1</td>\n",
       "      <td>женат / замужем</td>\n",
       "      <td>0</td>\n",
       "      <td>M</td>\n",
       "      <td>сотрудник</td>\n",
       "      <td>0</td>\n",
       "      <td>267628.550329</td>\n",
       "      <td>дополнительное образование</td>\n",
       "    </tr>\n",
       "    <tr>\n",
       "      <th>4</th>\n",
       "      <td>0</td>\n",
       "      <td>340266.072047</td>\n",
       "      <td>53</td>\n",
       "      <td>среднее</td>\n",
       "      <td>1</td>\n",
       "      <td>гражданский брак</td>\n",
       "      <td>1</td>\n",
       "      <td>F</td>\n",
       "      <td>пенсионер</td>\n",
       "      <td>0</td>\n",
       "      <td>158616.077870</td>\n",
       "      <td>сыграть свадьбу</td>\n",
       "    </tr>\n",
       "    <tr>\n",
       "      <th>5</th>\n",
       "      <td>0</td>\n",
       "      <td>-926.185831</td>\n",
       "      <td>27</td>\n",
       "      <td>высшее</td>\n",
       "      <td>0</td>\n",
       "      <td>гражданский брак</td>\n",
       "      <td>1</td>\n",
       "      <td>M</td>\n",
       "      <td>компаньон</td>\n",
       "      <td>0</td>\n",
       "      <td>255763.565419</td>\n",
       "      <td>покупка жилья</td>\n",
       "    </tr>\n",
       "    <tr>\n",
       "      <th>6</th>\n",
       "      <td>0</td>\n",
       "      <td>-2879.202052</td>\n",
       "      <td>43</td>\n",
       "      <td>высшее</td>\n",
       "      <td>0</td>\n",
       "      <td>женат / замужем</td>\n",
       "      <td>0</td>\n",
       "      <td>F</td>\n",
       "      <td>компаньон</td>\n",
       "      <td>0</td>\n",
       "      <td>240525.971920</td>\n",
       "      <td>операции с жильем</td>\n",
       "    </tr>\n",
       "    <tr>\n",
       "      <th>7</th>\n",
       "      <td>0</td>\n",
       "      <td>-152.779569</td>\n",
       "      <td>50</td>\n",
       "      <td>СРЕДНЕЕ</td>\n",
       "      <td>1</td>\n",
       "      <td>женат / замужем</td>\n",
       "      <td>0</td>\n",
       "      <td>M</td>\n",
       "      <td>сотрудник</td>\n",
       "      <td>0</td>\n",
       "      <td>135823.934197</td>\n",
       "      <td>образование</td>\n",
       "    </tr>\n",
       "    <tr>\n",
       "      <th>8</th>\n",
       "      <td>2</td>\n",
       "      <td>-6929.865299</td>\n",
       "      <td>35</td>\n",
       "      <td>ВЫСШЕЕ</td>\n",
       "      <td>0</td>\n",
       "      <td>гражданский брак</td>\n",
       "      <td>1</td>\n",
       "      <td>F</td>\n",
       "      <td>сотрудник</td>\n",
       "      <td>0</td>\n",
       "      <td>95856.832424</td>\n",
       "      <td>на проведение свадьбы</td>\n",
       "    </tr>\n",
       "    <tr>\n",
       "      <th>9</th>\n",
       "      <td>0</td>\n",
       "      <td>-2188.756445</td>\n",
       "      <td>41</td>\n",
       "      <td>среднее</td>\n",
       "      <td>1</td>\n",
       "      <td>женат / замужем</td>\n",
       "      <td>0</td>\n",
       "      <td>M</td>\n",
       "      <td>сотрудник</td>\n",
       "      <td>0</td>\n",
       "      <td>144425.938277</td>\n",
       "      <td>покупка жилья для семьи</td>\n",
       "    </tr>\n",
       "    <tr>\n",
       "      <th>10</th>\n",
       "      <td>2</td>\n",
       "      <td>-4171.483647</td>\n",
       "      <td>36</td>\n",
       "      <td>высшее</td>\n",
       "      <td>0</td>\n",
       "      <td>женат / замужем</td>\n",
       "      <td>0</td>\n",
       "      <td>M</td>\n",
       "      <td>компаньон</td>\n",
       "      <td>0</td>\n",
       "      <td>113943.491460</td>\n",
       "      <td>покупка недвижимости</td>\n",
       "    </tr>\n",
       "    <tr>\n",
       "      <th>11</th>\n",
       "      <td>0</td>\n",
       "      <td>-792.701887</td>\n",
       "      <td>40</td>\n",
       "      <td>среднее</td>\n",
       "      <td>1</td>\n",
       "      <td>женат / замужем</td>\n",
       "      <td>0</td>\n",
       "      <td>F</td>\n",
       "      <td>сотрудник</td>\n",
       "      <td>0</td>\n",
       "      <td>77069.234271</td>\n",
       "      <td>покупка коммерческой недвижимости</td>\n",
       "    </tr>\n",
       "    <tr>\n",
       "      <th>12</th>\n",
       "      <td>0</td>\n",
       "      <td>NaN</td>\n",
       "      <td>65</td>\n",
       "      <td>среднее</td>\n",
       "      <td>1</td>\n",
       "      <td>гражданский брак</td>\n",
       "      <td>1</td>\n",
       "      <td>M</td>\n",
       "      <td>пенсионер</td>\n",
       "      <td>0</td>\n",
       "      <td>NaN</td>\n",
       "      <td>сыграть свадьбу</td>\n",
       "    </tr>\n",
       "    <tr>\n",
       "      <th>13</th>\n",
       "      <td>0</td>\n",
       "      <td>-1846.641941</td>\n",
       "      <td>54</td>\n",
       "      <td>неоконченное высшее</td>\n",
       "      <td>2</td>\n",
       "      <td>женат / замужем</td>\n",
       "      <td>0</td>\n",
       "      <td>F</td>\n",
       "      <td>сотрудник</td>\n",
       "      <td>0</td>\n",
       "      <td>130458.228857</td>\n",
       "      <td>приобретение автомобиля</td>\n",
       "    </tr>\n",
       "    <tr>\n",
       "      <th>14</th>\n",
       "      <td>0</td>\n",
       "      <td>-1844.956182</td>\n",
       "      <td>56</td>\n",
       "      <td>высшее</td>\n",
       "      <td>0</td>\n",
       "      <td>гражданский брак</td>\n",
       "      <td>1</td>\n",
       "      <td>F</td>\n",
       "      <td>компаньон</td>\n",
       "      <td>1</td>\n",
       "      <td>165127.911772</td>\n",
       "      <td>покупка жилой недвижимости</td>\n",
       "    </tr>\n",
       "    <tr>\n",
       "      <th>15</th>\n",
       "      <td>1</td>\n",
       "      <td>-972.364419</td>\n",
       "      <td>26</td>\n",
       "      <td>среднее</td>\n",
       "      <td>1</td>\n",
       "      <td>женат / замужем</td>\n",
       "      <td>0</td>\n",
       "      <td>F</td>\n",
       "      <td>сотрудник</td>\n",
       "      <td>0</td>\n",
       "      <td>116820.904450</td>\n",
       "      <td>строительство собственной недвижимости</td>\n",
       "    </tr>\n",
       "    <tr>\n",
       "      <th>16</th>\n",
       "      <td>0</td>\n",
       "      <td>-1719.934226</td>\n",
       "      <td>35</td>\n",
       "      <td>среднее</td>\n",
       "      <td>1</td>\n",
       "      <td>женат / замужем</td>\n",
       "      <td>0</td>\n",
       "      <td>F</td>\n",
       "      <td>сотрудник</td>\n",
       "      <td>0</td>\n",
       "      <td>289202.704229</td>\n",
       "      <td>недвижимость</td>\n",
       "    </tr>\n",
       "    <tr>\n",
       "      <th>17</th>\n",
       "      <td>0</td>\n",
       "      <td>-2369.999720</td>\n",
       "      <td>33</td>\n",
       "      <td>высшее</td>\n",
       "      <td>0</td>\n",
       "      <td>гражданский брак</td>\n",
       "      <td>1</td>\n",
       "      <td>M</td>\n",
       "      <td>сотрудник</td>\n",
       "      <td>0</td>\n",
       "      <td>90410.586745</td>\n",
       "      <td>строительство недвижимости</td>\n",
       "    </tr>\n",
       "    <tr>\n",
       "      <th>18</th>\n",
       "      <td>0</td>\n",
       "      <td>400281.136913</td>\n",
       "      <td>53</td>\n",
       "      <td>среднее</td>\n",
       "      <td>1</td>\n",
       "      <td>вдовец / вдова</td>\n",
       "      <td>2</td>\n",
       "      <td>F</td>\n",
       "      <td>пенсионер</td>\n",
       "      <td>0</td>\n",
       "      <td>56823.777243</td>\n",
       "      <td>на покупку подержанного автомобиля</td>\n",
       "    </tr>\n",
       "    <tr>\n",
       "      <th>19</th>\n",
       "      <td>0</td>\n",
       "      <td>-10038.818549</td>\n",
       "      <td>48</td>\n",
       "      <td>СРЕДНЕЕ</td>\n",
       "      <td>1</td>\n",
       "      <td>в разводе</td>\n",
       "      <td>3</td>\n",
       "      <td>F</td>\n",
       "      <td>сотрудник</td>\n",
       "      <td>0</td>\n",
       "      <td>242831.107982</td>\n",
       "      <td>на покупку своего автомобиля</td>\n",
       "    </tr>\n",
       "  </tbody>\n",
       "</table>\n",
       "</div>"
      ],
      "text/plain": [
       "    children  days_employed  dob_years            education  education_id  \\\n",
       "0          1   -8437.673028         42               высшее             0   \n",
       "1          1   -4024.803754         36              среднее             1   \n",
       "2          0   -5623.422610         33              Среднее             1   \n",
       "3          3   -4124.747207         32              среднее             1   \n",
       "4          0  340266.072047         53              среднее             1   \n",
       "5          0    -926.185831         27               высшее             0   \n",
       "6          0   -2879.202052         43               высшее             0   \n",
       "7          0    -152.779569         50              СРЕДНЕЕ             1   \n",
       "8          2   -6929.865299         35               ВЫСШЕЕ             0   \n",
       "9          0   -2188.756445         41              среднее             1   \n",
       "10         2   -4171.483647         36               высшее             0   \n",
       "11         0    -792.701887         40              среднее             1   \n",
       "12         0            NaN         65              среднее             1   \n",
       "13         0   -1846.641941         54  неоконченное высшее             2   \n",
       "14         0   -1844.956182         56               высшее             0   \n",
       "15         1    -972.364419         26              среднее             1   \n",
       "16         0   -1719.934226         35              среднее             1   \n",
       "17         0   -2369.999720         33               высшее             0   \n",
       "18         0  400281.136913         53              среднее             1   \n",
       "19         0  -10038.818549         48              СРЕДНЕЕ             1   \n",
       "\n",
       "       family_status  family_status_id gender income_type  debt  \\\n",
       "0    женат / замужем                 0      F   сотрудник     0   \n",
       "1    женат / замужем                 0      F   сотрудник     0   \n",
       "2    женат / замужем                 0      M   сотрудник     0   \n",
       "3    женат / замужем                 0      M   сотрудник     0   \n",
       "4   гражданский брак                 1      F   пенсионер     0   \n",
       "5   гражданский брак                 1      M   компаньон     0   \n",
       "6    женат / замужем                 0      F   компаньон     0   \n",
       "7    женат / замужем                 0      M   сотрудник     0   \n",
       "8   гражданский брак                 1      F   сотрудник     0   \n",
       "9    женат / замужем                 0      M   сотрудник     0   \n",
       "10   женат / замужем                 0      M   компаньон     0   \n",
       "11   женат / замужем                 0      F   сотрудник     0   \n",
       "12  гражданский брак                 1      M   пенсионер     0   \n",
       "13   женат / замужем                 0      F   сотрудник     0   \n",
       "14  гражданский брак                 1      F   компаньон     1   \n",
       "15   женат / замужем                 0      F   сотрудник     0   \n",
       "16   женат / замужем                 0      F   сотрудник     0   \n",
       "17  гражданский брак                 1      M   сотрудник     0   \n",
       "18    вдовец / вдова                 2      F   пенсионер     0   \n",
       "19         в разводе                 3      F   сотрудник     0   \n",
       "\n",
       "     total_income                                 purpose  \n",
       "0   253875.639453                           покупка жилья  \n",
       "1   112080.014102                 приобретение автомобиля  \n",
       "2   145885.952297                           покупка жилья  \n",
       "3   267628.550329              дополнительное образование  \n",
       "4   158616.077870                         сыграть свадьбу  \n",
       "5   255763.565419                           покупка жилья  \n",
       "6   240525.971920                       операции с жильем  \n",
       "7   135823.934197                             образование  \n",
       "8    95856.832424                   на проведение свадьбы  \n",
       "9   144425.938277                 покупка жилья для семьи  \n",
       "10  113943.491460                    покупка недвижимости  \n",
       "11   77069.234271       покупка коммерческой недвижимости  \n",
       "12            NaN                         сыграть свадьбу  \n",
       "13  130458.228857                 приобретение автомобиля  \n",
       "14  165127.911772              покупка жилой недвижимости  \n",
       "15  116820.904450  строительство собственной недвижимости  \n",
       "16  289202.704229                            недвижимость  \n",
       "17   90410.586745              строительство недвижимости  \n",
       "18   56823.777243      на покупку подержанного автомобиля  \n",
       "19  242831.107982            на покупку своего автомобиля  "
      ]
     },
     "metadata": {},
     "output_type": "display_data"
    }
   ],
   "source": [
    "display(data.head(20))"
   ]
  },
  {
   "cell_type": "code",
   "execution_count": 29,
   "id": "3bd0ab67",
   "metadata": {},
   "outputs": [
    {
     "data": {
      "text/html": [
       "<div>\n",
       "<style scoped>\n",
       "    .dataframe tbody tr th:only-of-type {\n",
       "        vertical-align: middle;\n",
       "    }\n",
       "\n",
       "    .dataframe tbody tr th {\n",
       "        vertical-align: top;\n",
       "    }\n",
       "\n",
       "    .dataframe thead th {\n",
       "        text-align: right;\n",
       "    }\n",
       "</style>\n",
       "<table border=\"1\" class=\"dataframe\">\n",
       "  <thead>\n",
       "    <tr style=\"text-align: right;\">\n",
       "      <th></th>\n",
       "      <th>children</th>\n",
       "      <th>days_employed</th>\n",
       "      <th>dob_years</th>\n",
       "      <th>education</th>\n",
       "      <th>education_id</th>\n",
       "      <th>family_status</th>\n",
       "      <th>family_status_id</th>\n",
       "      <th>gender</th>\n",
       "      <th>income_type</th>\n",
       "      <th>debt</th>\n",
       "      <th>total_income</th>\n",
       "      <th>purpose</th>\n",
       "    </tr>\n",
       "  </thead>\n",
       "  <tbody>\n",
       "    <tr>\n",
       "      <th>21505</th>\n",
       "      <td>0</td>\n",
       "      <td>338904.866406</td>\n",
       "      <td>53</td>\n",
       "      <td>среднее</td>\n",
       "      <td>1</td>\n",
       "      <td>гражданский брак</td>\n",
       "      <td>1</td>\n",
       "      <td>M</td>\n",
       "      <td>пенсионер</td>\n",
       "      <td>0</td>\n",
       "      <td>75439.993167</td>\n",
       "      <td>сыграть свадьбу</td>\n",
       "    </tr>\n",
       "    <tr>\n",
       "      <th>21506</th>\n",
       "      <td>1</td>\n",
       "      <td>-1556.249906</td>\n",
       "      <td>33</td>\n",
       "      <td>ВЫСШЕЕ</td>\n",
       "      <td>0</td>\n",
       "      <td>гражданский брак</td>\n",
       "      <td>1</td>\n",
       "      <td>F</td>\n",
       "      <td>сотрудник</td>\n",
       "      <td>0</td>\n",
       "      <td>145541.993320</td>\n",
       "      <td>свадьба</td>\n",
       "    </tr>\n",
       "    <tr>\n",
       "      <th>21507</th>\n",
       "      <td>1</td>\n",
       "      <td>-79.832064</td>\n",
       "      <td>32</td>\n",
       "      <td>среднее</td>\n",
       "      <td>1</td>\n",
       "      <td>гражданский брак</td>\n",
       "      <td>1</td>\n",
       "      <td>F</td>\n",
       "      <td>госслужащий</td>\n",
       "      <td>0</td>\n",
       "      <td>98180.279152</td>\n",
       "      <td>сделка с подержанным автомобилем</td>\n",
       "    </tr>\n",
       "    <tr>\n",
       "      <th>21508</th>\n",
       "      <td>0</td>\n",
       "      <td>386497.714078</td>\n",
       "      <td>62</td>\n",
       "      <td>среднее</td>\n",
       "      <td>1</td>\n",
       "      <td>женат / замужем</td>\n",
       "      <td>0</td>\n",
       "      <td>M</td>\n",
       "      <td>пенсионер</td>\n",
       "      <td>0</td>\n",
       "      <td>72638.590915</td>\n",
       "      <td>недвижимость</td>\n",
       "    </tr>\n",
       "    <tr>\n",
       "      <th>21509</th>\n",
       "      <td>0</td>\n",
       "      <td>362161.054124</td>\n",
       "      <td>59</td>\n",
       "      <td>высшее</td>\n",
       "      <td>0</td>\n",
       "      <td>женат / замужем</td>\n",
       "      <td>0</td>\n",
       "      <td>M</td>\n",
       "      <td>пенсионер</td>\n",
       "      <td>0</td>\n",
       "      <td>73029.059379</td>\n",
       "      <td>операции с недвижимостью</td>\n",
       "    </tr>\n",
       "    <tr>\n",
       "      <th>21510</th>\n",
       "      <td>2</td>\n",
       "      <td>NaN</td>\n",
       "      <td>28</td>\n",
       "      <td>среднее</td>\n",
       "      <td>1</td>\n",
       "      <td>женат / замужем</td>\n",
       "      <td>0</td>\n",
       "      <td>F</td>\n",
       "      <td>сотрудник</td>\n",
       "      <td>0</td>\n",
       "      <td>NaN</td>\n",
       "      <td>приобретение автомобиля</td>\n",
       "    </tr>\n",
       "    <tr>\n",
       "      <th>21511</th>\n",
       "      <td>0</td>\n",
       "      <td>-612.569129</td>\n",
       "      <td>29</td>\n",
       "      <td>высшее</td>\n",
       "      <td>0</td>\n",
       "      <td>гражданский брак</td>\n",
       "      <td>1</td>\n",
       "      <td>F</td>\n",
       "      <td>сотрудник</td>\n",
       "      <td>1</td>\n",
       "      <td>140068.472941</td>\n",
       "      <td>покупка жилья для сдачи</td>\n",
       "    </tr>\n",
       "    <tr>\n",
       "      <th>21512</th>\n",
       "      <td>0</td>\n",
       "      <td>-165.377752</td>\n",
       "      <td>26</td>\n",
       "      <td>высшее</td>\n",
       "      <td>0</td>\n",
       "      <td>Не женат / не замужем</td>\n",
       "      <td>4</td>\n",
       "      <td>M</td>\n",
       "      <td>компаньон</td>\n",
       "      <td>0</td>\n",
       "      <td>147301.457769</td>\n",
       "      <td>получение дополнительного образования</td>\n",
       "    </tr>\n",
       "    <tr>\n",
       "      <th>21513</th>\n",
       "      <td>0</td>\n",
       "      <td>-1166.216789</td>\n",
       "      <td>35</td>\n",
       "      <td>среднее</td>\n",
       "      <td>1</td>\n",
       "      <td>женат / замужем</td>\n",
       "      <td>0</td>\n",
       "      <td>F</td>\n",
       "      <td>сотрудник</td>\n",
       "      <td>0</td>\n",
       "      <td>250986.142309</td>\n",
       "      <td>покупка жилья</td>\n",
       "    </tr>\n",
       "    <tr>\n",
       "      <th>21514</th>\n",
       "      <td>0</td>\n",
       "      <td>-280.469996</td>\n",
       "      <td>27</td>\n",
       "      <td>неоконченное высшее</td>\n",
       "      <td>2</td>\n",
       "      <td>Не женат / не замужем</td>\n",
       "      <td>4</td>\n",
       "      <td>M</td>\n",
       "      <td>компаньон</td>\n",
       "      <td>0</td>\n",
       "      <td>355988.407188</td>\n",
       "      <td>строительство недвижимости</td>\n",
       "    </tr>\n",
       "    <tr>\n",
       "      <th>21515</th>\n",
       "      <td>1</td>\n",
       "      <td>-467.685130</td>\n",
       "      <td>28</td>\n",
       "      <td>среднее</td>\n",
       "      <td>1</td>\n",
       "      <td>женат / замужем</td>\n",
       "      <td>0</td>\n",
       "      <td>F</td>\n",
       "      <td>сотрудник</td>\n",
       "      <td>1</td>\n",
       "      <td>109486.327999</td>\n",
       "      <td>заняться образованием</td>\n",
       "    </tr>\n",
       "    <tr>\n",
       "      <th>21516</th>\n",
       "      <td>0</td>\n",
       "      <td>-914.391429</td>\n",
       "      <td>42</td>\n",
       "      <td>высшее</td>\n",
       "      <td>0</td>\n",
       "      <td>женат / замужем</td>\n",
       "      <td>0</td>\n",
       "      <td>F</td>\n",
       "      <td>компаньон</td>\n",
       "      <td>0</td>\n",
       "      <td>322807.776603</td>\n",
       "      <td>покупка своего жилья</td>\n",
       "    </tr>\n",
       "    <tr>\n",
       "      <th>21517</th>\n",
       "      <td>0</td>\n",
       "      <td>-404.679034</td>\n",
       "      <td>42</td>\n",
       "      <td>высшее</td>\n",
       "      <td>0</td>\n",
       "      <td>гражданский брак</td>\n",
       "      <td>1</td>\n",
       "      <td>F</td>\n",
       "      <td>компаньон</td>\n",
       "      <td>0</td>\n",
       "      <td>178059.553491</td>\n",
       "      <td>на покупку своего автомобиля</td>\n",
       "    </tr>\n",
       "    <tr>\n",
       "      <th>21518</th>\n",
       "      <td>0</td>\n",
       "      <td>373995.710838</td>\n",
       "      <td>59</td>\n",
       "      <td>СРЕДНЕЕ</td>\n",
       "      <td>1</td>\n",
       "      <td>женат / замужем</td>\n",
       "      <td>0</td>\n",
       "      <td>F</td>\n",
       "      <td>пенсионер</td>\n",
       "      <td>0</td>\n",
       "      <td>153864.650328</td>\n",
       "      <td>сделка с автомобилем</td>\n",
       "    </tr>\n",
       "    <tr>\n",
       "      <th>21519</th>\n",
       "      <td>1</td>\n",
       "      <td>-2351.431934</td>\n",
       "      <td>37</td>\n",
       "      <td>ученая степень</td>\n",
       "      <td>4</td>\n",
       "      <td>в разводе</td>\n",
       "      <td>3</td>\n",
       "      <td>M</td>\n",
       "      <td>сотрудник</td>\n",
       "      <td>0</td>\n",
       "      <td>115949.039788</td>\n",
       "      <td>покупка коммерческой недвижимости</td>\n",
       "    </tr>\n",
       "    <tr>\n",
       "      <th>21520</th>\n",
       "      <td>1</td>\n",
       "      <td>-4529.316663</td>\n",
       "      <td>43</td>\n",
       "      <td>среднее</td>\n",
       "      <td>1</td>\n",
       "      <td>гражданский брак</td>\n",
       "      <td>1</td>\n",
       "      <td>F</td>\n",
       "      <td>компаньон</td>\n",
       "      <td>0</td>\n",
       "      <td>224791.862382</td>\n",
       "      <td>операции с жильем</td>\n",
       "    </tr>\n",
       "    <tr>\n",
       "      <th>21521</th>\n",
       "      <td>0</td>\n",
       "      <td>343937.404131</td>\n",
       "      <td>67</td>\n",
       "      <td>среднее</td>\n",
       "      <td>1</td>\n",
       "      <td>женат / замужем</td>\n",
       "      <td>0</td>\n",
       "      <td>F</td>\n",
       "      <td>пенсионер</td>\n",
       "      <td>0</td>\n",
       "      <td>155999.806512</td>\n",
       "      <td>сделка с автомобилем</td>\n",
       "    </tr>\n",
       "    <tr>\n",
       "      <th>21522</th>\n",
       "      <td>1</td>\n",
       "      <td>-2113.346888</td>\n",
       "      <td>38</td>\n",
       "      <td>среднее</td>\n",
       "      <td>1</td>\n",
       "      <td>гражданский брак</td>\n",
       "      <td>1</td>\n",
       "      <td>M</td>\n",
       "      <td>сотрудник</td>\n",
       "      <td>1</td>\n",
       "      <td>89672.561153</td>\n",
       "      <td>недвижимость</td>\n",
       "    </tr>\n",
       "    <tr>\n",
       "      <th>21523</th>\n",
       "      <td>3</td>\n",
       "      <td>-3112.481705</td>\n",
       "      <td>38</td>\n",
       "      <td>среднее</td>\n",
       "      <td>1</td>\n",
       "      <td>женат / замужем</td>\n",
       "      <td>0</td>\n",
       "      <td>M</td>\n",
       "      <td>сотрудник</td>\n",
       "      <td>1</td>\n",
       "      <td>244093.050500</td>\n",
       "      <td>на покупку своего автомобиля</td>\n",
       "    </tr>\n",
       "    <tr>\n",
       "      <th>21524</th>\n",
       "      <td>2</td>\n",
       "      <td>-1984.507589</td>\n",
       "      <td>40</td>\n",
       "      <td>среднее</td>\n",
       "      <td>1</td>\n",
       "      <td>женат / замужем</td>\n",
       "      <td>0</td>\n",
       "      <td>F</td>\n",
       "      <td>сотрудник</td>\n",
       "      <td>0</td>\n",
       "      <td>82047.418899</td>\n",
       "      <td>на покупку автомобиля</td>\n",
       "    </tr>\n",
       "  </tbody>\n",
       "</table>\n",
       "</div>"
      ],
      "text/plain": [
       "       children  days_employed  dob_years            education  education_id  \\\n",
       "21505         0  338904.866406         53              среднее             1   \n",
       "21506         1   -1556.249906         33               ВЫСШЕЕ             0   \n",
       "21507         1     -79.832064         32              среднее             1   \n",
       "21508         0  386497.714078         62              среднее             1   \n",
       "21509         0  362161.054124         59               высшее             0   \n",
       "21510         2            NaN         28              среднее             1   \n",
       "21511         0    -612.569129         29               высшее             0   \n",
       "21512         0    -165.377752         26               высшее             0   \n",
       "21513         0   -1166.216789         35              среднее             1   \n",
       "21514         0    -280.469996         27  неоконченное высшее             2   \n",
       "21515         1    -467.685130         28              среднее             1   \n",
       "21516         0    -914.391429         42               высшее             0   \n",
       "21517         0    -404.679034         42               высшее             0   \n",
       "21518         0  373995.710838         59              СРЕДНЕЕ             1   \n",
       "21519         1   -2351.431934         37       ученая степень             4   \n",
       "21520         1   -4529.316663         43              среднее             1   \n",
       "21521         0  343937.404131         67              среднее             1   \n",
       "21522         1   -2113.346888         38              среднее             1   \n",
       "21523         3   -3112.481705         38              среднее             1   \n",
       "21524         2   -1984.507589         40              среднее             1   \n",
       "\n",
       "               family_status  family_status_id gender  income_type  debt  \\\n",
       "21505       гражданский брак                 1      M    пенсионер     0   \n",
       "21506       гражданский брак                 1      F    сотрудник     0   \n",
       "21507       гражданский брак                 1      F  госслужащий     0   \n",
       "21508        женат / замужем                 0      M    пенсионер     0   \n",
       "21509        женат / замужем                 0      M    пенсионер     0   \n",
       "21510        женат / замужем                 0      F    сотрудник     0   \n",
       "21511       гражданский брак                 1      F    сотрудник     1   \n",
       "21512  Не женат / не замужем                 4      M    компаньон     0   \n",
       "21513        женат / замужем                 0      F    сотрудник     0   \n",
       "21514  Не женат / не замужем                 4      M    компаньон     0   \n",
       "21515        женат / замужем                 0      F    сотрудник     1   \n",
       "21516        женат / замужем                 0      F    компаньон     0   \n",
       "21517       гражданский брак                 1      F    компаньон     0   \n",
       "21518        женат / замужем                 0      F    пенсионер     0   \n",
       "21519              в разводе                 3      M    сотрудник     0   \n",
       "21520       гражданский брак                 1      F    компаньон     0   \n",
       "21521        женат / замужем                 0      F    пенсионер     0   \n",
       "21522       гражданский брак                 1      M    сотрудник     1   \n",
       "21523        женат / замужем                 0      M    сотрудник     1   \n",
       "21524        женат / замужем                 0      F    сотрудник     0   \n",
       "\n",
       "        total_income                                purpose  \n",
       "21505   75439.993167                        сыграть свадьбу  \n",
       "21506  145541.993320                                свадьба  \n",
       "21507   98180.279152       сделка с подержанным автомобилем  \n",
       "21508   72638.590915                           недвижимость  \n",
       "21509   73029.059379               операции с недвижимостью  \n",
       "21510            NaN                приобретение автомобиля  \n",
       "21511  140068.472941                покупка жилья для сдачи  \n",
       "21512  147301.457769  получение дополнительного образования  \n",
       "21513  250986.142309                          покупка жилья  \n",
       "21514  355988.407188             строительство недвижимости  \n",
       "21515  109486.327999                  заняться образованием  \n",
       "21516  322807.776603                   покупка своего жилья  \n",
       "21517  178059.553491           на покупку своего автомобиля  \n",
       "21518  153864.650328                   сделка с автомобилем  \n",
       "21519  115949.039788      покупка коммерческой недвижимости  \n",
       "21520  224791.862382                      операции с жильем  \n",
       "21521  155999.806512                   сделка с автомобилем  \n",
       "21522   89672.561153                           недвижимость  \n",
       "21523  244093.050500           на покупку своего автомобиля  \n",
       "21524   82047.418899                  на покупку автомобиля  "
      ]
     },
     "metadata": {},
     "output_type": "display_data"
    }
   ],
   "source": [
    "display(data.tail(20))"
   ]
  },
  {
   "cell_type": "markdown",
   "id": "ded06e3a",
   "metadata": {},
   "source": [
    "В начале первой части делали взгляд на столбец \"children\": \n",
    "по нему есть четкое разъяснение в описании, что это именно количество детей,\n",
    "по data.info() видно, что что пропусков данных нет (значимых строк 21525 как и в большинстве остальных столбцов), \n",
    "тип данных int64 (значит, что похоже действительно там количество),\n",
    "по data.head видим, что в первой двадцатке есть не только нули, но и 1 , 2 и даже 3, что похоже на правду.   "
   ]
  },
  {
   "cell_type": "markdown",
   "id": "4fb881ee",
   "metadata": {},
   "source": [
    "В задании №9 первой части сделал очистку от артефактов (удаление строчек, где фигурировали -1 и 20 детей)"
   ]
  },
  {
   "cell_type": "code",
   "execution_count": 30,
   "id": "539ebc1b",
   "metadata": {},
   "outputs": [
    {
     "name": "stdout",
     "output_type": "stream",
     "text": [
      "[1 0 3 2 4 5]\n"
     ]
    }
   ],
   "source": [
    "data = data[(data['children'] !=-1)&(data['children'] !=20)]\n",
    "print(data['children'].unique())"
   ]
  },
  {
   "cell_type": "markdown",
   "id": "a1f913a6",
   "metadata": {},
   "source": [
    "получили на входе корректный датасет data (без нескольких заведомо некорректных строк) и \n",
    "6 категорий клиентов (по количеству детей 0,1,2,3,4 и 5) по которым можно попробовать проанализировать."
   ]
  },
  {
   "cell_type": "markdown",
   "id": "317463c6",
   "metadata": {},
   "source": [
    "Аналогичный взгляд сделаем на столбец \"debt\" в котором судя по описанию содержатся данные о том, имел ли клиент задолженность по возврату кредитов.\n",
    "В связи с отсутствием прямого пазъяснения - предложим гипотезу, что значение 0 если задолженности не было и 1 - если была.\n",
    "По data.head видим, что данные представлены в бинарном виде . \n",
    "По data.info() видим, что пропусков данных нет, тип данных int64 что нормально - можно считать.\n",
    "Для начала есть смысл посмотреть сколько вообще клиентов имело/не имело задолженности. \n",
    "Заодно проверим \n",
    "правильно ли понимание, что 0 - отсутствие задолженности, 1- ее наличие: единиц должно быть в разы меньше (иначе банк странный со странной клиентурой),\n",
    "проверим достаточно ли много людей в категории 0 и 1, чтобы можно было \"растащить\" их на 6 подкатегорий"
   ]
  },
  {
   "cell_type": "code",
   "execution_count": 31,
   "id": "5bcca543",
   "metadata": {},
   "outputs": [
    {
     "data": {
      "text/plain": [
       "debt\n",
       "0    19670\n",
       "1     1732\n",
       "Name: count, dtype: int64"
      ]
     },
     "execution_count": 31,
     "metadata": {},
     "output_type": "execute_result"
    }
   ],
   "source": [
    "data['debt'].value_counts()"
   ]
  },
  {
   "cell_type": "code",
   "execution_count": 32,
   "id": "ddb2c4de",
   "metadata": {},
   "outputs": [
    {
     "data": {
      "text/plain": [
       "debt\n",
       "0    0.919073\n",
       "1    0.080927\n",
       "Name: proportion, dtype: float64"
      ]
     },
     "execution_count": 32,
     "metadata": {},
     "output_type": "execute_result"
    }
   ],
   "source": [
    "data['debt'].value_counts(normalize = True)"
   ]
  },
  {
   "cell_type": "markdown",
   "id": "06825b69",
   "metadata": {},
   "source": [
    "Ремарка: считаем очевидным, что функция \"mean\" для бинарного столбца дает именно долю единиц т.е. результат тот же, что и при применении \"value_counts(normalize = True)\" для 1  =  0.080927. Далее будем применять именно ее. "
   ]
  },
  {
   "cell_type": "code",
   "execution_count": 33,
   "id": "7f3e7012",
   "metadata": {},
   "outputs": [
    {
     "data": {
      "text/plain": [
       "0.0809270161667134"
      ]
     },
     "execution_count": 33,
     "metadata": {},
     "output_type": "execute_result"
    }
   ],
   "source": [
    "data['debt'].mean()"
   ]
  },
  {
   "cell_type": "markdown",
   "id": "05c5ac5a",
   "metadata": {},
   "source": [
    "Получается, что:\n",
    "1. Действительно 0 - отсутствие задолженности, 1- ее наличие, клиентов с задолженностью только 8%, что похоже на правду,\n",
    "2. При этом количество клиентов с задолженностью все-таки 1741, что в общем довольно много, чтобы считать выборку репрезентативной и пробовать заполнить ею 6 категорий по количеству детей.\n",
    "\n",
    "Значит в основном и будем анализировать эту часть.(если в последствии увидим, что в какой-то группе окажется совсем мало людей - нужно будет объединять)"
   ]
  },
  {
   "cell_type": "code",
   "execution_count": 34,
   "id": "2d160f06",
   "metadata": {},
   "outputs": [
    {
     "data": {
      "text/html": [
       "<div>\n",
       "<style scoped>\n",
       "    .dataframe tbody tr th:only-of-type {\n",
       "        vertical-align: middle;\n",
       "    }\n",
       "\n",
       "    .dataframe tbody tr th {\n",
       "        vertical-align: top;\n",
       "    }\n",
       "\n",
       "    .dataframe thead th {\n",
       "        text-align: right;\n",
       "    }\n",
       "</style>\n",
       "<table border=\"1\" class=\"dataframe\">\n",
       "  <thead>\n",
       "    <tr style=\"text-align: right;\">\n",
       "      <th></th>\n",
       "      <th>count</th>\n",
       "      <th>mean</th>\n",
       "    </tr>\n",
       "    <tr>\n",
       "      <th>children</th>\n",
       "      <th></th>\n",
       "      <th></th>\n",
       "    </tr>\n",
       "  </thead>\n",
       "  <tbody>\n",
       "    <tr>\n",
       "      <th>0</th>\n",
       "      <td>14149</td>\n",
       "      <td>0.075129</td>\n",
       "    </tr>\n",
       "    <tr>\n",
       "      <th>1</th>\n",
       "      <td>4818</td>\n",
       "      <td>0.092154</td>\n",
       "    </tr>\n",
       "    <tr>\n",
       "      <th>2</th>\n",
       "      <td>2055</td>\n",
       "      <td>0.094404</td>\n",
       "    </tr>\n",
       "    <tr>\n",
       "      <th>3</th>\n",
       "      <td>330</td>\n",
       "      <td>0.081818</td>\n",
       "    </tr>\n",
       "    <tr>\n",
       "      <th>4</th>\n",
       "      <td>41</td>\n",
       "      <td>0.097561</td>\n",
       "    </tr>\n",
       "    <tr>\n",
       "      <th>5</th>\n",
       "      <td>9</td>\n",
       "      <td>0.000000</td>\n",
       "    </tr>\n",
       "  </tbody>\n",
       "</table>\n",
       "</div>"
      ],
      "text/plain": [
       "          count      mean\n",
       "children                 \n",
       "0         14149  0.075129\n",
       "1          4818  0.092154\n",
       "2          2055  0.094404\n",
       "3           330  0.081818\n",
       "4            41  0.097561\n",
       "5             9  0.000000"
      ]
     },
     "execution_count": 34,
     "metadata": {},
     "output_type": "execute_result"
    }
   ],
   "source": [
    "data.groupby('children')['debt'].agg(['count','mean'])"
   ]
  },
  {
   "cell_type": "markdown",
   "id": "a2886c01",
   "metadata": {},
   "source": [
    "Получается, что: \n",
    "1) Как мы и предполагали в группах с 4 и 5 детьми количество людей моло и значит нерепрезентативно: меньше 2% и 0.5% соответственно (что на уровне и меньше обычной статистической погрешности. Значит вероятность сделать неверный вывод по этим данным высока и данные отдельно рассматривать нельзя. Есть смысл объединить эти группы с группой с 3 детьми - получится вполне репрезентативная объединенная группа.\n",
    "2) Данные по доле задолженности для групп с 1 и 2 детьми очень близки по значению - это значит, что поведение таких клиентов очень похоже и группы можно объединять.\n",
    "\n",
    "Объединим (как и думали) в три группы: 0 детей, 1-2 ребенка, 3 и более детей.\n",
    "Для этого сделаем функцию группировки \"children_groupping\" по количеству детей, применим ее к столбцу \"children\" и создадим новый столбец 'children_group' с группами."
   ]
  },
  {
   "cell_type": "code",
   "execution_count": 35,
   "id": "2a181774",
   "metadata": {},
   "outputs": [],
   "source": [
    "def categorize_children (ch_num):\n",
    "    if ch_num == 0:\n",
    "        return 'нет детей'\n",
    "    if ch_num >= 3:\n",
    "        return 'много детей'\n",
    "    return '1-2 ребенка'"
   ]
  },
  {
   "cell_type": "code",
   "execution_count": 36,
   "id": "78df808e",
   "metadata": {},
   "outputs": [],
   "source": [
    "data['children_group'] = data['children'].apply(categorize_children)"
   ]
  },
  {
   "cell_type": "code",
   "execution_count": 37,
   "id": "4793ad0a",
   "metadata": {},
   "outputs": [
    {
     "name": "stdout",
     "output_type": "stream",
     "text": [
      "       children children_group\n",
      "0             1    1-2 ребенка\n",
      "1             1    1-2 ребенка\n",
      "2             0      нет детей\n",
      "3             3    много детей\n",
      "4             0      нет детей\n",
      "...         ...            ...\n",
      "21520         1    1-2 ребенка\n",
      "21521         0      нет детей\n",
      "21522         1    1-2 ребенка\n",
      "21523         3    много детей\n",
      "21524         2    1-2 ребенка\n",
      "\n",
      "[21402 rows x 2 columns]\n"
     ]
    }
   ],
   "source": [
    "print(data[['children','children_group']])"
   ]
  },
  {
   "cell_type": "markdown",
   "id": "f8577ee6",
   "metadata": {},
   "source": [
    "Колонка создана, данные в ней выглядят корректно. \n",
    "\n",
    "Теперь есть смысл вывести распределение по группам, посмотреть есть ли зависимости."
   ]
  },
  {
   "cell_type": "code",
   "execution_count": 46,
   "id": "381cb4df",
   "metadata": {},
   "outputs": [
    {
     "name": "stdout",
     "output_type": "stream",
     "text": [
      "                count      mean\n",
      "children_group                 \n",
      "0 детей         14149  0.075129\n",
      "1 ребенок        4818  0.092154\n",
      "2 ребенка        2055  0.094404\n",
      "3+ детей          380  0.081579\n"
     ]
    }
   ],
   "source": [
    "sorted_debt = data.groupby('children_group')['debt'].agg(['count','mean']).sort_values(by='count', ascending=False)\n",
    "print(sorted_debt)"
   ]
  },
  {
   "cell_type": "markdown",
   "id": "c5142629",
   "metadata": {},
   "source": [
    "Объединим в 4 группы: 0 детей, 1 ребенок, 2 ребенка, 3 и более детей. \n",
    "Для этого переделаем функцию \"children_groupping\" под новое разбиение, применим ее к столбцу \"children\" и  создадим новый столбец 'children_group' с группами. Сделаем в одной ячейке."
   ]
  },
  {
   "cell_type": "code",
   "execution_count": 47,
   "id": "792904a5",
   "metadata": {},
   "outputs": [
    {
     "name": "stdout",
     "output_type": "stream",
     "text": [
      "       children children_group\n",
      "0             1      1 ребенок\n",
      "1             1      1 ребенок\n",
      "2             0        0 детей\n",
      "3             3       3+ детей\n",
      "4             0        0 детей\n",
      "...         ...            ...\n",
      "21520         1      1 ребенок\n",
      "21521         0        0 детей\n",
      "21522         1      1 ребенок\n",
      "21523         3       3+ детей\n",
      "21524         2      2 ребенка\n",
      "\n",
      "[21402 rows x 2 columns]\n"
     ]
    }
   ],
   "source": [
    "def categorize_children (ch_num):\n",
    "    if ch_num == 0:\n",
    "        return '0 детей'\n",
    "    if ch_num == 1:\n",
    "        return '1 ребенок'\n",
    "    if ch_num == 2:\n",
    "        return '2 ребенка'\n",
    "    return '3+ детей'\n",
    "\n",
    "data['children_group'] = data['children'].apply(categorize_children)\n",
    "\n",
    "print(data[['children','children_group']])  # Проверка: посмотреть глазами на созданный столбец в \"живом\" датафрейме"
   ]
  },
  {
   "cell_type": "markdown",
   "id": "655ebf28",
   "metadata": {},
   "source": [
    "Колонка создана, данные в ней выглядят корректно. \n",
    "\n",
    "Теперь посмотрим есть ли зависимости при новом разбиениии по группам."
   ]
  },
  {
   "cell_type": "code",
   "execution_count": 48,
   "id": "b92c07cf",
   "metadata": {},
   "outputs": [
    {
     "name": "stdout",
     "output_type": "stream",
     "text": [
      "                count      mean\n",
      "children_group                 \n",
      "0 детей         14149  0.075129\n",
      "1 ребенок        4818  0.092154\n",
      "2 ребенка        2055  0.094404\n",
      "3+ детей          380  0.081579\n"
     ]
    }
   ],
   "source": [
    "sorted_debt = data.groupby('children_group')['debt'].agg(['count','mean']).sort_values(by='count', ascending=False)\n",
    "print(sorted_debt)"
   ]
  },
  {
   "cell_type": "markdown",
   "id": "221c4235",
   "metadata": {},
   "source": [
    "Для наглядности представим данные по доле клиентов с задолженностью в графическом виде."
   ]
  },
  {
   "cell_type": "code",
   "execution_count": 49,
   "id": "b9106bd7",
   "metadata": {},
   "outputs": [
    {
     "data": {
      "text/plain": [
       "<Axes: title={'center': 'Зависимость долга от количества детей '}, xlabel='children_group'>"
      ]
     },
     "execution_count": 49,
     "metadata": {},
     "output_type": "execute_result"
    },
    {
     "data": {
      "image/png": "[encoded data removed]",
      "text/plain": [
       "<Figure size 640x480 with 1 Axes>"
      ]
     },
     "metadata": {},
     "output_type": "display_data"
    }
   ],
   "source": [
    "sorted_debt['mean'].plot(kind='bar', title='Зависимость долга от количества детей ')"
   ]
  },
  {
   "cell_type": "markdown",
   "id": "5523adc9",
   "metadata": {},
   "source": [
    "В результате нового разбиения (разделения групп с 1 и 2 детьми на отдельные группы) никаких новых закономерностей не просматривается: \n",
    "группа с 2 детьми демонстрирует незначительно большую (9.45% против 9.24%) долю клиентов с задолженностью, \n",
    "но в целом группы с 1 и с 2 детьми ведут себя примерно одинаково, отличаясь от других групп куда более значительно, нежели между собой."
   ]
  },
  {
   "cell_type": "markdown",
   "id": "07cb73b9",
   "metadata": {},
   "source": [
    "Выводы:\n",
    "    \n",
    "    Средняя доля клиентов с кредитной задолженностью в выборке равна 8.1%.\n",
    "    Выявлена крайне слабая зависимость этой доли клиентов от количества детей в семье:\n",
    "        наибольший процент клиентов с задолженностью - у клиентов с 1 или 2 детьми (9.3%) , \n",
    "        наименьший - у бездетных клиентов (7.5%)\n",
    "    Эта разница вполне объяснима на бытовом уровне: финансовая нагрузка на бюджет бездетной семьи существенно меньше, чем нагрузка на семью с детьми.\n",
    "    Однако группа клиентов с 3 и более детьми в данной выборке выбивается из этой логики: процент задолженности в ней = 8.2%, что меньше, чем для клиентов с 1-2 детьми.\n",
    "        По всей видимости объясняется это общей малочисленностью данной группы (ок. 1.7%) и более ответственным подходом этих немногих к подаче заявки на кредит.\n",
    "    \n",
    "    Следует учитывать, что разброс значений по категориям составляет около +-1%, что уже на уровне статистической погрешности для такого рода исследований.\n",
    "    Поэтому учитывать найденную слабую зависимость при принятии решений и выработке шагов на ее основе нет смысла.\n",
    "   \n",
    "        "
   ]
  },
  {
   "cell_type": "markdown",
   "id": "b4d4c925",
   "metadata": {},
   "source": [
    "Взглянем на всякий случай еще на один параметр: на разбивку по полу (может что интересное найдем)"
   ]
  },
  {
   "cell_type": "code",
   "execution_count": 50,
   "id": "3d5d6fe2",
   "metadata": {},
   "outputs": [
    {
     "data": {
      "text/html": [
       "<div>\n",
       "<style scoped>\n",
       "    .dataframe tbody tr th:only-of-type {\n",
       "        vertical-align: middle;\n",
       "    }\n",
       "\n",
       "    .dataframe tbody tr th {\n",
       "        vertical-align: top;\n",
       "    }\n",
       "\n",
       "    .dataframe thead tr th {\n",
       "        text-align: left;\n",
       "    }\n",
       "\n",
       "    .dataframe thead tr:last-of-type th {\n",
       "        text-align: right;\n",
       "    }\n",
       "</style>\n",
       "<table border=\"1\" class=\"dataframe\">\n",
       "  <thead>\n",
       "    <tr>\n",
       "      <th></th>\n",
       "      <th colspan=\"3\" halign=\"left\">count</th>\n",
       "      <th colspan=\"3\" halign=\"left\">mean</th>\n",
       "    </tr>\n",
       "    <tr>\n",
       "      <th>gender</th>\n",
       "      <th>F</th>\n",
       "      <th>M</th>\n",
       "      <th>XNA</th>\n",
       "      <th>F</th>\n",
       "      <th>M</th>\n",
       "      <th>XNA</th>\n",
       "    </tr>\n",
       "    <tr>\n",
       "      <th>children_group</th>\n",
       "      <th></th>\n",
       "      <th></th>\n",
       "      <th></th>\n",
       "      <th></th>\n",
       "      <th></th>\n",
       "      <th></th>\n",
       "    </tr>\n",
       "  </thead>\n",
       "  <tbody>\n",
       "    <tr>\n",
       "      <th>0 детей</th>\n",
       "      <td>9570.0</td>\n",
       "      <td>4578.0</td>\n",
       "      <td>1.0</td>\n",
       "      <td>0.061860</td>\n",
       "      <td>0.102883</td>\n",
       "      <td>0.0</td>\n",
       "    </tr>\n",
       "    <tr>\n",
       "      <th>1 ребенок</th>\n",
       "      <td>3094.0</td>\n",
       "      <td>1724.0</td>\n",
       "      <td>NaN</td>\n",
       "      <td>0.079186</td>\n",
       "      <td>0.115429</td>\n",
       "      <td>NaN</td>\n",
       "    </tr>\n",
       "    <tr>\n",
       "      <th>2 ребенка</th>\n",
       "      <td>1259.0</td>\n",
       "      <td>796.0</td>\n",
       "      <td>NaN</td>\n",
       "      <td>0.106434</td>\n",
       "      <td>0.075377</td>\n",
       "      <td>NaN</td>\n",
       "    </tr>\n",
       "    <tr>\n",
       "      <th>3+ детей</th>\n",
       "      <td>231.0</td>\n",
       "      <td>149.0</td>\n",
       "      <td>NaN</td>\n",
       "      <td>0.077922</td>\n",
       "      <td>0.087248</td>\n",
       "      <td>NaN</td>\n",
       "    </tr>\n",
       "  </tbody>\n",
       "</table>\n",
       "</div>"
      ],
      "text/plain": [
       "                 count                   mean               \n",
       "gender               F       M  XNA         F         M  XNA\n",
       "children_group                                              \n",
       "0 детей         9570.0  4578.0  1.0  0.061860  0.102883  0.0\n",
       "1 ребенок       3094.0  1724.0  NaN  0.079186  0.115429  NaN\n",
       "2 ребенка       1259.0   796.0  NaN  0.106434  0.075377  NaN\n",
       "3+ детей         231.0   149.0  NaN  0.077922  0.087248  NaN"
      ]
     },
     "execution_count": 50,
     "metadata": {},
     "output_type": "execute_result"
    }
   ],
   "source": [
    "data.pivot_table(index='children_group', columns='gender', values='debt',aggfunc=['count','mean'])"
   ]
  },
  {
   "cell_type": "markdown",
   "id": "d56b060c",
   "metadata": {},
   "source": [
    "В данных похоже есть какой-то мусор: у кого-то наверное пол указан с ошибкой. Но удалять сейчас смысла нет - на картину это не влияет.\n",
    "\n",
    "Возможно стоит иметь ввиду в дальнейшем при принятии решений следующие моменты:  \n",
    "1. Женщины берут кредит гораздо чаще (почти в 2 раза), чем мужчины, а задолженность допускают гораздо реже.  \n",
    "2. При этому с появлением 1-2 детей у мужчин показатель задолженности меняется не сильно, а у женщин существенно растет (с 6.2% при отсутствии детей до 8.7% при 1-2 детях)"
   ]
  },
  {
   "cell_type": "markdown",
   "id": "66297520",
   "metadata": {},
   "source": [
    "\n",
    "\n",
    "\n"
   ]
  },
  {
   "cell_type": "markdown",
   "id": "2a24985c",
   "metadata": {},
   "source": [
    "\n",
    "\n",
    "\n"
   ]
  },
  {
   "cell_type": "markdown",
   "id": "c0fd452e",
   "metadata": {},
   "source": [
    "Задание 20. Есть ли зависимость между семейным положением и возвратом кредита в срок?"
   ]
  },
  {
   "cell_type": "markdown",
   "id": "da594715",
   "metadata": {},
   "source": [
    "Импортировать pandas и выводить датафрейм data нет смысла: в предыдущей задаче мы это проделывали и по ходу выполнения анализа датафрейм не меняли.\n",
    "Поэтому предполагаем (пока и если не увидим вдруг обратное), что имеем на входе корректный датафрейм"
   ]
  },
  {
   "cell_type": "markdown",
   "id": "4aef8ca0",
   "metadata": {},
   "source": [
    "Смотрим столбец \"debt\""
   ]
  },
  {
   "cell_type": "code",
   "execution_count": 51,
   "id": "b5f50e59",
   "metadata": {},
   "outputs": [
    {
     "name": "stdout",
     "output_type": "stream",
     "text": [
      "debt\n",
      "0    19670\n",
      "1     1732\n",
      "Name: count, dtype: int64\n",
      "\n",
      "0.0809270161667134\n"
     ]
    }
   ],
   "source": [
    "print(data['debt'].value_counts())\n",
    "print()\n",
    "print(data['debt'].mean())"
   ]
  },
  {
   "cell_type": "markdown",
   "id": "1a8b4400",
   "metadata": {},
   "source": [
    "В столбце \"debt\" все то же: \n",
    "0 - отсутствие задолженности, 1- ее наличие,  \n",
    "пропусков данных нет, тип данных int64 - можно считать,  \n",
    "количество людей с задолженностью 1732, что достаточно для репрезентативного анализа,  \n",
    "доля клиентов с задолженностью 8%"
   ]
  },
  {
   "cell_type": "markdown",
   "id": "2a9b0108",
   "metadata": {},
   "source": [
    "Относительно столбцов, соответствующих семейному положению:  \n",
    "По data.info() видим, что столбцов, отражающих семейное положение два - \"family_status\" и \"family_status_id\",  оба они полны, с одинаковым количеством значений ( по всей видимости \"family_status_id\" просто создан как классификатор из \"family_status\").  \n",
    "По data.head  и data.tail видим, что данные представлены единообразно, ошибок нигде не видно.  \n",
    "Будем ориентироваться на столбец \"family_status\" как более информативный (если что-то не будет соответствовать - будем \"подключать\"  \"family_status_id\")."
   ]
  },
  {
   "cell_type": "markdown",
   "id": "45b8e547",
   "metadata": {},
   "source": [
    "Посмотрим какое разбиение по семейному положению (сколько групп) и как по ним распределено количество клиентов с задолженностью (если увидим, что в какой-то группе окажется совсем мало людей - нужно будет объединять)."
   ]
  },
  {
   "cell_type": "code",
   "execution_count": 52,
   "id": "833ccb38",
   "metadata": {},
   "outputs": [
    {
     "data": {
      "text/html": [
       "<div>\n",
       "<style scoped>\n",
       "    .dataframe tbody tr th:only-of-type {\n",
       "        vertical-align: middle;\n",
       "    }\n",
       "\n",
       "    .dataframe tbody tr th {\n",
       "        vertical-align: top;\n",
       "    }\n",
       "\n",
       "    .dataframe thead th {\n",
       "        text-align: right;\n",
       "    }\n",
       "</style>\n",
       "<table border=\"1\" class=\"dataframe\">\n",
       "  <thead>\n",
       "    <tr style=\"text-align: right;\">\n",
       "      <th></th>\n",
       "      <th>count</th>\n",
       "      <th>mean</th>\n",
       "    </tr>\n",
       "    <tr>\n",
       "      <th>family_status</th>\n",
       "      <th></th>\n",
       "      <th></th>\n",
       "    </tr>\n",
       "  </thead>\n",
       "  <tbody>\n",
       "    <tr>\n",
       "      <th>Не женат / не замужем</th>\n",
       "      <td>2799</td>\n",
       "      <td>0.097535</td>\n",
       "    </tr>\n",
       "    <tr>\n",
       "      <th>в разводе</th>\n",
       "      <td>1189</td>\n",
       "      <td>0.070648</td>\n",
       "    </tr>\n",
       "    <tr>\n",
       "      <th>вдовец / вдова</th>\n",
       "      <td>952</td>\n",
       "      <td>0.066176</td>\n",
       "    </tr>\n",
       "    <tr>\n",
       "      <th>гражданский брак</th>\n",
       "      <td>4160</td>\n",
       "      <td>0.092548</td>\n",
       "    </tr>\n",
       "    <tr>\n",
       "      <th>женат / замужем</th>\n",
       "      <td>12302</td>\n",
       "      <td>0.075354</td>\n",
       "    </tr>\n",
       "  </tbody>\n",
       "</table>\n",
       "</div>"
      ],
      "text/plain": [
       "                       count      mean\n",
       "family_status                         \n",
       "Не женат / не замужем   2799  0.097535\n",
       "в разводе               1189  0.070648\n",
       "вдовец / вдова           952  0.066176\n",
       "гражданский брак        4160  0.092548\n",
       "женат / замужем        12302  0.075354"
      ]
     },
     "execution_count": 52,
     "metadata": {},
     "output_type": "execute_result"
    }
   ],
   "source": [
    "data.groupby('family_status')['debt'].agg(['count','mean'])"
   ]
  },
  {
   "cell_type": "markdown",
   "id": "c441cec2",
   "metadata": {},
   "source": [
    "Видим что:   \n",
    "    Групп 5, распределение по группам на взгляд соответствует реальности, количество человек в каждой из групп репрезентативно. \n",
    "    Возможно был бы смысл объединить группы \"в разводе\" и \"вдовец / вдова\" в связи с их немногочисленностью относительно остальных, но можно этого и не делать - получается все равно достаточно репрезентативно.   "
   ]
  },
  {
   "cell_type": "markdown",
   "id": "ec20abc3",
   "metadata": {},
   "source": [
    "Для удобства отсортируем данные по доле клиентов с задолженностью и представим их в графическом виде."
   ]
  },
  {
   "cell_type": "code",
   "execution_count": 53,
   "id": "bcb85e0e",
   "metadata": {},
   "outputs": [
    {
     "name": "stdout",
     "output_type": "stream",
     "text": [
      "                       count      mean\n",
      "family_status                         \n",
      "женат / замужем        12302  0.075354\n",
      "гражданский брак        4160  0.092548\n",
      "Не женат / не замужем   2799  0.097535\n",
      "в разводе               1189  0.070648\n",
      "вдовец / вдова           952  0.066176\n"
     ]
    }
   ],
   "source": [
    "sorted_debt_fam = data.groupby('family_status')['debt'].agg(['count','mean']).sort_values(by='count', ascending=False)\n",
    "print(sorted_debt_fam)"
   ]
  },
  {
   "cell_type": "code",
   "execution_count": 54,
   "id": "84076e79",
   "metadata": {},
   "outputs": [
    {
     "data": {
      "text/plain": [
       "<Axes: title={'center': 'Зависимость от семейного положения'}, xlabel='family_status', ylabel='mean'>"
      ]
     },
     "execution_count": 54,
     "metadata": {},
     "output_type": "execute_result"
    },
    {
     "data": {
      "image/png": "[encoded data removed]",
      "text/plain": [
       "<Figure size 1000x500 with 1 Axes>"
      ]
     },
     "metadata": {},
     "output_type": "display_data"
    }
   ],
   "source": [
    "sorted_debt_fam['mean'].plot(kind='bar', title= 'Зависимость от семейного положения', xlabel='family_status', ylabel= 'mean', figsize=(10,5))"
   ]
  },
  {
   "cell_type": "code",
   "execution_count": 56,
   "id": "41dce656",
   "metadata": {
    "scrolled": false
   },
   "outputs": [
    {
     "data": {
      "text/plain": [
       "<Axes: title={'center': 'Зависимость от семейного положения'}, xlabel='family_status', ylabel='mean'>"
      ]
     },
     "execution_count": 56,
     "metadata": {},
     "output_type": "execute_result"
    },
    {
     "data": {
      "image/png": "[encoded data removed]",
      "text/plain": [
       "<Figure size 1000x500 with 1 Axes>"
      ]
     },
     "metadata": {},
     "output_type": "display_data"
    }
   ],
   "source": [
    "sorted_debt_fam['mean'].plot(kind='bar', title= 'Зависимость от семейного положения', \\\n",
    "                             xlabel='family_status', ylabel= 'mean', figsize=(10,5))"
   ]
  },
  {
   "cell_type": "markdown",
   "id": "f7b27dfa",
   "metadata": {},
   "source": [
    "Выводы:\n",
    "\n",
    "Средняя доля клиентов с кредитной задолженностью в выборке равна 8.1%.\n",
    "\n",
    "Выявлены следующие зависимости этой доли от семейного положения клиента:\n",
    "\n",
    "наибольший процент клиентов с задолженностью - у неженатых/незамужних клиентов  - 9.8% , \n",
    "\n",
    "наименьший - у клиентов, находящихся в разводе и вдовых - 7.0% и 6.6% соответственно,\n",
    "женатые/замужние клиенты представляют серединное большинство - процент задолженности в этой категории - 7.5%, что гораздо ближе к категории \"разведенных\", чем к категории \"неженатых\".\n",
    "    \n",
    "Эта разница может быть объяснена тем, что женатые люди, проходя через разные жизненные ситуации приучаются нести ответственность за свои поступки (что в еще большей степени должно быть свойственно разведенным и вдовцам), нежели люди неженатые. \n",
    "\n",
    "Наиболее интересная группа - клиенты, состоящие вгражданском браке: в данной выборке их в 1.5 раза болше, чем неженатых и с точки зрения задолженности их поведение гораздо ближе к неженатым, чем к женатым: процент клиентов с задолженностью в этой группе - 9.3%, то есть всего на 0.5% меньше чем у неженатых и аж на 1.8% больше, чем у официально семейных. \n",
    "    По всей видимости объясняется это тем, что люди вступая в гражданский брак не меняют свою психологию и их чуство ответственности за свои поступки остается на уровне неженатых. Возможно здесь потребуется более детальное исследование данной категории.\n",
    "    \n",
    "Однако общий вывод таков, что разброс доли клиентов с кредитной задолженностью по разным категориям в зависимости от семейного положения (от 6.6% до 9.8%) хоть и является заметным, но не выходит за рамки, которые могут существенно повлиять на решение о предоставлении кредита или заставить банк поменять условия предоставления кредита для какой-либо из категорий.\n"
   ]
  },
  {
   "cell_type": "markdown",
   "id": "4d8c1c41",
   "metadata": {},
   "source": [
    "Взглянем на всякий случай еще на то, как будет вести себя доля клиентов с кредитной задолженностью в разбивке не только по семейному положению, но и по количеству детей (может что интересное увидим)"
   ]
  },
  {
   "cell_type": "code",
   "execution_count": 57,
   "id": "fe980d9f",
   "metadata": {},
   "outputs": [
    {
     "data": {
      "text/html": [
       "<div>\n",
       "<style scoped>\n",
       "    .dataframe tbody tr th:only-of-type {\n",
       "        vertical-align: middle;\n",
       "    }\n",
       "\n",
       "    .dataframe tbody tr th {\n",
       "        vertical-align: top;\n",
       "    }\n",
       "\n",
       "    .dataframe thead tr th {\n",
       "        text-align: left;\n",
       "    }\n",
       "\n",
       "    .dataframe thead tr:last-of-type th {\n",
       "        text-align: right;\n",
       "    }\n",
       "</style>\n",
       "<table border=\"1\" class=\"dataframe\">\n",
       "  <thead>\n",
       "    <tr>\n",
       "      <th></th>\n",
       "      <th colspan=\"4\" halign=\"left\">count</th>\n",
       "      <th colspan=\"4\" halign=\"left\">mean</th>\n",
       "    </tr>\n",
       "    <tr>\n",
       "      <th>children_group</th>\n",
       "      <th>0 детей</th>\n",
       "      <th>1 ребенок</th>\n",
       "      <th>2 ребенка</th>\n",
       "      <th>3+ детей</th>\n",
       "      <th>0 детей</th>\n",
       "      <th>1 ребенок</th>\n",
       "      <th>2 ребенка</th>\n",
       "      <th>3+ детей</th>\n",
       "    </tr>\n",
       "    <tr>\n",
       "      <th>family_status</th>\n",
       "      <th></th>\n",
       "      <th></th>\n",
       "      <th></th>\n",
       "      <th></th>\n",
       "      <th></th>\n",
       "      <th></th>\n",
       "      <th></th>\n",
       "      <th></th>\n",
       "    </tr>\n",
       "  </thead>\n",
       "  <tbody>\n",
       "    <tr>\n",
       "      <th>Не женат / не замужем</th>\n",
       "      <td>2265</td>\n",
       "      <td>449</td>\n",
       "      <td>75</td>\n",
       "      <td>10</td>\n",
       "      <td>0.092715</td>\n",
       "      <td>0.115813</td>\n",
       "      <td>0.120000</td>\n",
       "      <td>0.200000</td>\n",
       "    </tr>\n",
       "    <tr>\n",
       "      <th>в разводе</th>\n",
       "      <td>784</td>\n",
       "      <td>312</td>\n",
       "      <td>81</td>\n",
       "      <td>12</td>\n",
       "      <td>0.070153</td>\n",
       "      <td>0.067308</td>\n",
       "      <td>0.086420</td>\n",
       "      <td>0.083333</td>\n",
       "    </tr>\n",
       "    <tr>\n",
       "      <th>вдовец / вдова</th>\n",
       "      <td>848</td>\n",
       "      <td>77</td>\n",
       "      <td>20</td>\n",
       "      <td>7</td>\n",
       "      <td>0.062500</td>\n",
       "      <td>0.090909</td>\n",
       "      <td>0.150000</td>\n",
       "      <td>0.000000</td>\n",
       "    </tr>\n",
       "    <tr>\n",
       "      <th>гражданский брак</th>\n",
       "      <td>2752</td>\n",
       "      <td>998</td>\n",
       "      <td>344</td>\n",
       "      <td>66</td>\n",
       "      <td>0.083212</td>\n",
       "      <td>0.118236</td>\n",
       "      <td>0.087209</td>\n",
       "      <td>0.121212</td>\n",
       "    </tr>\n",
       "    <tr>\n",
       "      <th>женат / замужем</th>\n",
       "      <td>7500</td>\n",
       "      <td>2982</td>\n",
       "      <td>1535</td>\n",
       "      <td>285</td>\n",
       "      <td>0.068800</td>\n",
       "      <td>0.082495</td>\n",
       "      <td>0.094463</td>\n",
       "      <td>0.070175</td>\n",
       "    </tr>\n",
       "  </tbody>\n",
       "</table>\n",
       "</div>"
      ],
      "text/plain": [
       "                        count                                   mean  \\\n",
       "children_group        0 детей 1 ребенок 2 ребенка 3+ детей   0 детей   \n",
       "family_status                                                          \n",
       "Не женат / не замужем    2265       449        75       10  0.092715   \n",
       "в разводе                 784       312        81       12  0.070153   \n",
       "вдовец / вдова            848        77        20        7  0.062500   \n",
       "гражданский брак         2752       998       344       66  0.083212   \n",
       "женат / замужем          7500      2982      1535      285  0.068800   \n",
       "\n",
       "                                                     \n",
       "children_group        1 ребенок 2 ребенка  3+ детей  \n",
       "family_status                                        \n",
       "Не женат / не замужем  0.115813  0.120000  0.200000  \n",
       "в разводе              0.067308  0.086420  0.083333  \n",
       "вдовец / вдова         0.090909  0.150000  0.000000  \n",
       "гражданский брак       0.118236  0.087209  0.121212  \n",
       "женат / замужем        0.082495  0.094463  0.070175  "
      ]
     },
     "execution_count": 57,
     "metadata": {},
     "output_type": "execute_result"
    }
   ],
   "source": [
    "data.pivot_table(index= 'family_status', columns= 'children_group', values= 'debt',aggfunc=[ 'count', 'mean'])"
   ]
  },
  {
   "cell_type": "markdown",
   "id": "f0236b58",
   "metadata": {},
   "source": [
    "Нужно отметить два момента:  \n",
    "    1. С появлением детей разница в доле людей с задолженностью среди неженатых людей растет сильнее, чем среди женатых/замужних - 3.0% разницы при 1-2 детях и 2.4% у бездетных. Это логично, поскольку очевидно, что финансовая нагрузка на бюджет семьи с двумя родителями все же меньше, чем нагрузка на одинокого родителя с детьми.  \n",
    "    2. С появлением детей финансовое поведение людей, состоящих в гражданском браке все больше становится похоже на поведение неженатых (разница в задолженности 0.6% при 1-2 детях против 1.0% при отсутствии детей) и все дальше от женатых (разница в 2.3% при 1-2 детях  против 1.5% при отсутствии детей)."
   ]
  },
  {
   "cell_type": "markdown",
   "id": "42e31881",
   "metadata": {},
   "source": [
    "\n",
    "\n",
    "\n"
   ]
  },
  {
   "cell_type": "markdown",
   "id": "ff011394",
   "metadata": {},
   "source": [
    "\n",
    "\n",
    "\n"
   ]
  },
  {
   "cell_type": "markdown",
   "id": "46ad43ea",
   "metadata": {},
   "source": [
    "Задание 21. Есть ли зависимость между уровнем дохода и возвратом кредита в срок?"
   ]
  },
  {
   "cell_type": "markdown",
   "id": "4c1faad0",
   "metadata": {},
   "source": [
    "Импортировать pandas и выводить датафрейм data снова не будем.\n",
    "\n",
    "В нашем основном столбце \"debt\" все по прежнему:\n",
    "0 - отсутствие задолженности, 1- ее наличие,\n",
    "пропусков данных нет, тип данных int64 - можно считать,\n",
    "количество людей с задолженностью 1732, что достаточно для репрезентативного анализа,\n",
    "доля клиентов с задолженностью 8%    "
   ]
  },
  {
   "cell_type": "markdown",
   "id": "63e8b4ad",
   "metadata": {},
   "source": [
    "Относительно уровня ежемесячного дохода ( по результатам просмотра data.head и data.tail и data.info ):\n",
    "Данные об уровне дохода находятся в столбце \"total_income\", однако  \n",
    "в изначальном датафрейме эти данные имеют значительное количество пропусков (2174 строки или 10% от всех во фрейме)  \n",
    "и эти данные в датафрейме никак не структурированы ( доход в столбце \"total_income\" показан как есть, а столбца с диапазонами во фрейме нет)   \n",
    "В задачах №5 и №16 из первой части мы как раз заполняли пропуски в этом столбце медианными значениями по категориям занятости и создали 5 диапазонов уровня дохода:\t0–30000; 30001–50000; 50001–200000; 200001–1000000 и свыше 1000000.\n",
    "Повторим эти действия сейчас и заодно повторим задание 13 - преобразуем тип данных в столбце из float в int чтобы не смотреть на длинные \"хвосты\", которые не нужны для анализа."
   ]
  },
  {
   "cell_type": "markdown",
   "id": "98998416",
   "metadata": {},
   "source": [
    "Заполняем пробелы медианными значениями по типам занятости"
   ]
  },
  {
   "cell_type": "code",
   "execution_count": 58,
   "id": "ba8d53d6",
   "metadata": {},
   "outputs": [
    {
     "name": "stdout",
     "output_type": "stream",
     "text": [
      "118480.8374078531\n"
     ]
    }
   ],
   "source": [
    "for inc_type in data['income_type'].unique():\n",
    "    data.loc[(data['income_type'] == inc_type)&(data['total_income'].isna()),'total_income'] = \\\n",
    "    data.loc[(data['income_type'] == inc_type, 'total_income')].median()\n",
    "    \n",
    "print(data.loc[12,'total_income']) # Проверка: строке 12 в столбце 'total_income' стояло NaN, теперь должно быть \n",
    "                                      # 118514.486412 - медиана для пенсионеров"
   ]
  },
  {
   "cell_type": "markdown",
   "id": "b8670373",
   "metadata": {},
   "source": [
    "Преобразуем тип данных в столбце из float в int "
   ]
  },
  {
   "cell_type": "code",
   "execution_count": 59,
   "id": "de8a4f3f",
   "metadata": {},
   "outputs": [
    {
     "name": "stdout",
     "output_type": "stream",
     "text": [
      "<class 'numpy.int32'>\n"
     ]
    }
   ],
   "source": [
    "data['total_income'] = data['total_income'].astype('int')\n",
    "\n",
    "print( type(data.loc[0,'total_income']) )  # Проверка: тип должен быть int или 32 или 64"
   ]
  },
  {
   "cell_type": "markdown",
   "id": "d97380da",
   "metadata": {},
   "source": [
    "Создаём  диапазоны уровня дохода:(0–30000; 30001–50000; 50001–200000; 200001–1000000 и свыше 1000000)"
   ]
  },
  {
   "cell_type": "markdown",
   "id": "40c79e68",
   "metadata": {},
   "source": [
    "Сначала создаем функцию с диапазонами "
   ]
  },
  {
   "cell_type": "code",
   "execution_count": 60,
   "id": "038fb5d3",
   "metadata": {},
   "outputs": [
    {
     "name": "stdout",
     "output_type": "stream",
     "text": [
      "1. меньше 30К\n",
      "2. от 30К до 50К\n",
      "3. от 50К до 200К\n",
      "4. от 200К до 1М\n",
      "5. больше 1М\n"
     ]
    }
   ],
   "source": [
    "def categorize_income (income):\n",
    "    if income > 1000000:\n",
    "        return '5. больше 1М'\n",
    "    if 200000 < income <= 1000000:\n",
    "        return '4. от 200К до 1М'\n",
    "    if 50000 < income <= 200000:\n",
    "        return '3. от 50К до 200К'\n",
    "    if 30000 < income <= 50000:\n",
    "        return '2. от 30К до 50К'\n",
    "    return '1. меньше 30К'\n",
    "\n",
    "print( categorize_income(17000) )        # Проверка: для каждого диапазона функция должна возвращать \n",
    "print( categorize_income(50000) )        # правильное название категории\n",
    "print( categorize_income(123000) )\n",
    "print( categorize_income(777000) )\n",
    "print( categorize_income(1230000) )"
   ]
  },
  {
   "cell_type": "markdown",
   "id": "ba7882d6",
   "metadata": {},
   "source": [
    "Теперь применяем функцию к столбцу \"total_income\" "
   ]
  },
  {
   "cell_type": "code",
   "execution_count": 61,
   "id": "67b25ef7",
   "metadata": {},
   "outputs": [
    {
     "name": "stdout",
     "output_type": "stream",
     "text": [
      "   total_income         income_bin\n",
      "0        253875   4. от 200К до 1М\n",
      "1        112080  3. от 50К до 200К\n",
      "2        145885  3. от 50К до 200К\n",
      "3        267628   4. от 200К до 1М\n",
      "4        158616  3. от 50К до 200К\n",
      "5        255763   4. от 200К до 1М\n"
     ]
    }
   ],
   "source": [
    "data['income_bin'] = data['total_income'].apply(categorize_income)\n",
    "\n",
    "print( data.loc[:5, ['total_income','income_bin']] )      # Проверка: для первых 5 строк посмотреть глазами \n",
    "                                                          # на соответствие категории и суммы в \"живом\" датафрейме"
   ]
  },
  {
   "cell_type": "markdown",
   "id": "c65220da",
   "metadata": {},
   "source": [
    "В результате столбец создали, данные в нем выглядят корректно.\n",
    "То есть имеем референтный столбец с 5-ю диапазонами по доходу, к которому будем \"прикладывать\" наш основной столбец \"debt\" и смотреть есть ли зависимости"
   ]
  },
  {
   "cell_type": "markdown",
   "id": "fbb6fa54",
   "metadata": {},
   "source": [
    "Для удобства отсортируем данные по группам клиентов."
   ]
  },
  {
   "cell_type": "code",
   "execution_count": 62,
   "id": "8aa49b54",
   "metadata": {},
   "outputs": [
    {
     "name": "stdout",
     "output_type": "stream",
     "text": [
      "                   count      mean\n",
      "income_bin                        \n",
      "1. меньше 30К         22  0.090909\n",
      "2. от 30К до 50К     349  0.060172\n",
      "3. от 50К до 200К  15992  0.084605\n",
      "4. от 200К до 1М    5014  0.070602\n",
      "5. больше 1М          25  0.080000\n"
     ]
    }
   ],
   "source": [
    "sorted_debt_inc = data.groupby('income_bin')['debt'].agg(['count','mean']).sort_values(by='income_bin', ascending=True)\n",
    "print(sorted_debt_inc)"
   ]
  },
  {
   "cell_type": "markdown",
   "id": "44b32879",
   "metadata": {},
   "source": [
    "Видно, что диапазоны, на которые мы делали разбивку в первой части - не подходят по эту задачу потому что:\n",
    "в крайних группах 1 и 5 слишком мало представителей для того, чтобы делать более-менее уверенные выводы по этим группам,\n",
    "в центральой группе 3 - наоборот слишком много народа и мы рискуем слишком \"усреднить\" наше суждение о ней и не заметить какие-нибудь закономерности."
   ]
  },
  {
   "cell_type": "markdown",
   "id": "50b6a1d2",
   "metadata": {},
   "source": [
    "Выводы:\n",
    "\n",
    "Средняя доля клиентов с кредитной задолженностью в выборке равна 8.1%. \n",
    "\n",
    "Выявлены следующие зависимости этой доли от доходов клиента: \n",
    "\n",
    "1. Наибольший процент клиентов с задолженностью - у клиентов с доходом до 30 тысяч рублей в месяц - 9.0% что на 0.9% выше среднего и на целых 3% выше \"соседней\" категории.\n",
    "Это может свидетельствовать о том, что при таком низком уровне доходов денег часто не хватает даже на самое необходимое (еду и одежду) и в бюджете (включая статью возврат кредита) возникают \"дыры\"\n",
    "\n",
    "2. Наибольший процент клиентов с задолженностью - у клиентов с доходом от 30 до 50 тысяч рублей в месяц - 6.0%, резко снижаясь по отношению к категории \"меньше 30 тысяч\". \n",
    "На мой взгляд такое резкое \"улучшение\" укладывается в следующую логику: людт живут небогато и привыкли тщательно считать деньги и планировать расходы ( в том числе и на статью \"возврат кредита\"), однако \"дыр\" в критических статьях бюджета не возникает и средвтва на погашение кредита находятся. Также весьма вероятно, что эта категория людей более ответственно и рассчетливо подходит к самому решению взять кредит (предварительно все хорошенько рассчитав). Кроме того, вполне возможно, что люди из этой категории - это представители профессий и специальностей не высоко оплачиваемых, но стабильных, а это позволяет жестко придерживаться намеченного финансового плана (здесь при наличии заинтересованности потребуется дополнительное исследование)\n",
    "\n",
    "3. Две следующие самые многочисленные категории - с доходами от 50 до 200 тысяч рублей в месяц и от 200 тысяч до 1 миллиона имеют процент клиентов с задолженностью существенно выше, чем для категории с доходом от 30 до 50 тысяч рублей  (8.4% и 7.0% соответственно против 6.0%). Все же эти показатели заметно ниже ( на 0.6% и 2% соответственно), чем для категории от до 30 тысяч рублей ежемесячного дохода. При этом максимум задолженности приходится на группу \"от 50 до 200 тысяч рублей\" (до упомянутых уже 8.4%) и далее серьезно спадает при превышении дохода в 200 тысяч до 7.0%. \n",
    "Вполне возможно, что объяснение того факта, что максимум здесь приходится на группу 50-200 тысяч рублей и резко отличается от соседних групп лежит в плоскости перехода людей к другому стилю жизни: по всей видимости представители этой категории уже не считают каждую копейку, начинает преобладать ощущение \"могу себе позволить\" и начинают увеличиваться масштабы желаний. Это приводит к нежеланию планировать финансовую перспективу и неспособности ее соблюдать, что в сочетании с возможной нестабильностью с доходами (это гипотеза и здесь возможно нужна будет дополнительная проверка) приводит к росту задолженности.\n",
    "Снижение же задолженности в категории 200 тысяч - 1 миллион рублей может говорить о том, что при таком уровне дохода представители этой группы уже действительно \"могут себе позволить\" и выплата кредита занимает менее существенную долю в их бюджете.\n",
    "\n",
    "3. В категории с доходами более 1 миллиона рублей в месяц уровень задолженности возрастает до 8.0%, то есть на 1% по отношению к группе 200 тысяч - 1М.\n",
    "По всей видимости это свидетельствует о том, что для представителей этой группы наличие кредита (и соответственно - необходимости выплат по нему) не является приоритетом. В связи с чрезмерной занятостью людей более важными для них делами о выплате кредита похоже банально забывают.\n",
    "\n",
    "Следует также обратить внимание на тот факт, что количество представителей клиентов в двух крайних категориях (\"меньше 30К\" и \"больше 1М\") слишком мало, чтобы рассматривать результаты как надежные. При необходимости есть смысл посмотреть на эти категории более внимательно на больших по численности выборках. \n"
   ]
  },
  {
   "cell_type": "markdown",
   "id": "d112283c",
   "metadata": {},
   "source": [
    "Сделаем пересортировку на другие диапазоны: \n",
    "    •\t0–50000; \n",
    "    •\t50001–100000; \n",
    "    •\t100001–150000; \n",
    "    •\t150001–200000; \n",
    "    •\t200001–300000; \n",
    "    •\t300001–500000 \n",
    "    •\tи свыше 500000."
   ]
  },
  {
   "cell_type": "markdown",
   "id": "dbb5218c",
   "metadata": {},
   "source": [
    "Снова функцию с диапазонами и применяем ее к столбцу \"total_income\""
   ]
  },
  {
   "cell_type": "code",
   "execution_count": 63,
   "id": "ceea59e9",
   "metadata": {},
   "outputs": [],
   "source": [
    "def categorize_income (income):\n",
    "    if income > 500000:\n",
    "        return '7. больше 500К'\n",
    "    if 300000 < income <= 500000:\n",
    "        return '6. от 300К до 500К'\n",
    "    if 200000 < income <= 300000:\n",
    "        return '4. от 200К до 300К'\n",
    "    if 150000 < income <= 200000:\n",
    "        return '4. от 150К до 200К'\n",
    "    if 100000 < income <= 150000:\n",
    "        return '3. от 100К до 150К'\n",
    "    if 50000 < income <= 100000:\n",
    "        return '2. от 50К до 100К'\n",
    "    return '1. меньше 50К'\n",
    "\n",
    "\n",
    "data['income_bin'] = data['total_income'].apply(categorize_income)"
   ]
  },
  {
   "cell_type": "markdown",
   "id": "2e154865",
   "metadata": {},
   "source": [
    "Отсортируем данные по группам клиентов и выведем для анализа задолженности (т.е столбца \"debt\")."
   ]
  },
  {
   "cell_type": "code",
   "execution_count": 64,
   "id": "d10a486e",
   "metadata": {},
   "outputs": [
    {
     "name": "stdout",
     "output_type": "stream",
     "text": [
      "                          count      mean\n",
      "income_bin_q                             \n",
      "(20666.999, 87411.857]     3058  0.076521\n",
      "(87411.857, 113721.143]    3057  0.086032\n",
      "(113721.143, 137469.714]   3057  0.085378\n",
      "(137469.714, 155008.429]   3058  0.086004\n",
      "(155008.429, 184187.714]   3057  0.082761\n",
      "(184187.714, 241749.143]   3057  0.079817\n",
      "(241749.143, 2265604.0]    3058  0.069980\n"
     ]
    }
   ],
   "source": [
    "data['income_bin_q'] = pd.qcut(data['total_income'],7)\n",
    "sorted_debt_inc = data.groupby('income_bin_q')['debt'].agg(['count','mean']).sort_values(by='income_bin_q', ascending=True)\n",
    "print(sorted_debt_inc)"
   ]
  },
  {
   "cell_type": "markdown",
   "id": "b5b1479b",
   "metadata": {},
   "source": [
    "Для удобства представим эти же результаты в графическом виде."
   ]
  },
  {
   "cell_type": "code",
   "execution_count": 65,
   "id": "b9fec463",
   "metadata": {},
   "outputs": [
    {
     "data": {
      "text/plain": [
       "<Axes: title={'center': 'Зависимость от уровня дохода'}, xlabel='income_bin_q', ylabel='mean'>"
      ]
     },
     "execution_count": 65,
     "metadata": {},
     "output_type": "execute_result"
    },
    {
     "data": {
      "image/png": "[encoded data removed]",
      "text/plain": [
       "<Figure size 1000x500 with 1 Axes>"
      ]
     },
     "metadata": {},
     "output_type": "display_data"
    }
   ],
   "source": [
    "sorted_debt_inc['mean'].plot(kind='bar', title= 'Зависимость от уровня дохода', xlabel='income_bin_q', ylabel= 'mean', figsize=(10,5))"
   ]
  },
  {
   "cell_type": "markdown",
   "id": "6ce72c87",
   "metadata": {},
   "source": [
    "Выводы:\n",
    "\n",
    "Средняя доля клиентов с кредитной задолженностью в выборке равна 8.1%. \n",
    "\n",
    "Выявлены следующие зависимости этой доли от доходов клиента: \n",
    "\n",
    "1. Наименьший процент клиентов с задолженностью - у клиентов с доходом до 50 тысяч рублей в месяц - 6.2%. \n",
    "Это с одной стороны может быть и неожиданно (все таки доходы достаточно низкие и приходится \"сводить концы с концами\"), но с другой - укладывается в следующую логику: людт живут небогато и привыкли тщательно считать деньги и планировать расходы ( в том числе и на статью \"возврат кредита\"). Также весьма вероятно, что эта категория людей более ответственно и рассчетливо подходит к самому решению взять кредит (предварительно все хорошенько рассчитав). Кроме того, вполне возможно, что люди из этой категории - это представители профессий и специальностей не высоко оплачиваемых, но стабильных, а это позволяет жестко придерживаться намеченного финансового плана (здесь при наличии заинтересованности потребуется дополнительное исследование). \n",
    "\n",
    "2. Наибольший процент клиентов с задолженностью - у клиентов с доходом от 50 до 200 тысяч рублей в месяц, резко возрастая по отношению к кактегории \"меньше 50 тысяч\" - на 2 и более %. Максимума показатель задолженности достигает для группы с доходом от 50 до 200 тысяч рублей в месяц - 8.6% (на 2.3% выше, чем в категории \"меньше 50 тысяч\") и затем несколько снижается (для группы 150-200 тысяч), оставаясь при этом выше среднего - 8.4%.\n",
    "Вполне возможно, что объяснение этому лежит в плоскости перехода людей к другому стилю жизни: по всей видимости представители этой категории уже не считают каждую копейку, начинает преобладать ощущение \"могу себе позволить\" и начинают увеличиваться масштабы желаний. Это приводит к нежеланию планировать финансовую перспективу и неспособности ее соблюдать, что в сочетании с возможной нестабильностью с доходами (это гипотеза и здесь возможно нужна будет дополнительная проверка) приводит к росту задолженности.\n",
    "\n",
    "3. Три следующие три категории - с доходами 200 тысяч рублей в месяц и более имеют процент клиентов с задолженностью несколько выше, чем для категории с доходом до 50 тысяч рублей  (7.3% в максимуме против 6.2%). Все же эти показатели существенно ниже, чем для категорий от 50 до 200 тысяч рублей ежемесячного дохода (7.0-7.3% против 8.1-8.6%). При этом максимум в задолженности приходится на группу \"от 300 до 500 тысяч рублей\" (до упомянутых уже 7.3%) и далее спадает при превышении дохода в 500 тысяч до 6.3%. В общем - эти группы демонстрируют уровень задолженности ниже среднего по выборке.\n",
    "Вполне возможно, что такое поведение показателей задолженности свидетельствует о том, что эти группы уже действительно \"могут себе позволить\" и выплата кредита занимает менее существенную долю в их бюджете. Наличие локального максимума не на стыке с предыдущей категорией, на \"в середине\" - для группы 300-500 тысяч может свидетельствовать о наличии на этом уровне доходов еще одного \"фазового перехода\" с ростом потребностей и желаний, либо же чрезмерной занятостью людей из этой группы (когда о выплате кредита банально забываешь в суматохе важных дел).\n",
    "\n"
   ]
  },
  {
   "cell_type": "markdown",
   "id": "946bf187",
   "metadata": {},
   "source": [
    "Возможно есть смысл посмотреть как доля задолженности зависит от дохода в сочетании например с типом занятости: есть подозрение, что наемные работники будут иметь большую задолженность по сравнению с остальными (пенсионерами например)"
   ]
  },
  {
   "cell_type": "code",
   "execution_count": 66,
   "id": "1ee9a487",
   "metadata": {},
   "outputs": [
    {
     "data": {
      "text/html": [
       "<div>\n",
       "<style scoped>\n",
       "    .dataframe tbody tr th:only-of-type {\n",
       "        vertical-align: middle;\n",
       "    }\n",
       "\n",
       "    .dataframe tbody tr th {\n",
       "        vertical-align: top;\n",
       "    }\n",
       "\n",
       "    .dataframe thead tr th {\n",
       "        text-align: left;\n",
       "    }\n",
       "\n",
       "    .dataframe thead tr:last-of-type th {\n",
       "        text-align: right;\n",
       "    }\n",
       "</style>\n",
       "<table border=\"1\" class=\"dataframe\">\n",
       "  <thead>\n",
       "    <tr>\n",
       "      <th></th>\n",
       "      <th colspan=\"7\" halign=\"left\">count</th>\n",
       "      <th colspan=\"7\" halign=\"left\">mean</th>\n",
       "    </tr>\n",
       "    <tr>\n",
       "      <th>income_bin</th>\n",
       "      <th>1. меньше 50К</th>\n",
       "      <th>2. от 50К до 100К</th>\n",
       "      <th>3. от 100К до 150К</th>\n",
       "      <th>4. от 150К до 200К</th>\n",
       "      <th>4. от 200К до 300К</th>\n",
       "      <th>6. от 300К до 500К</th>\n",
       "      <th>7. больше 500К</th>\n",
       "      <th>1. меньше 50К</th>\n",
       "      <th>2. от 50К до 100К</th>\n",
       "      <th>3. от 100К до 150К</th>\n",
       "      <th>4. от 150К до 200К</th>\n",
       "      <th>4. от 200К до 300К</th>\n",
       "      <th>6. от 300К до 500К</th>\n",
       "      <th>7. больше 500К</th>\n",
       "    </tr>\n",
       "    <tr>\n",
       "      <th>income_type</th>\n",
       "      <th></th>\n",
       "      <th></th>\n",
       "      <th></th>\n",
       "      <th></th>\n",
       "      <th></th>\n",
       "      <th></th>\n",
       "      <th></th>\n",
       "      <th></th>\n",
       "      <th></th>\n",
       "      <th></th>\n",
       "      <th></th>\n",
       "      <th></th>\n",
       "      <th></th>\n",
       "      <th></th>\n",
       "    </tr>\n",
       "  </thead>\n",
       "  <tbody>\n",
       "    <tr>\n",
       "      <th>безработный</th>\n",
       "      <td>NaN</td>\n",
       "      <td>1.0</td>\n",
       "      <td>NaN</td>\n",
       "      <td>NaN</td>\n",
       "      <td>1.0</td>\n",
       "      <td>NaN</td>\n",
       "      <td>NaN</td>\n",
       "      <td>NaN</td>\n",
       "      <td>1.000000</td>\n",
       "      <td>NaN</td>\n",
       "      <td>NaN</td>\n",
       "      <td>0.000000</td>\n",
       "      <td>NaN</td>\n",
       "      <td>NaN</td>\n",
       "    </tr>\n",
       "    <tr>\n",
       "      <th>в декрете</th>\n",
       "      <td>NaN</td>\n",
       "      <td>1.0</td>\n",
       "      <td>NaN</td>\n",
       "      <td>NaN</td>\n",
       "      <td>NaN</td>\n",
       "      <td>NaN</td>\n",
       "      <td>NaN</td>\n",
       "      <td>NaN</td>\n",
       "      <td>1.000000</td>\n",
       "      <td>NaN</td>\n",
       "      <td>NaN</td>\n",
       "      <td>NaN</td>\n",
       "      <td>NaN</td>\n",
       "      <td>NaN</td>\n",
       "    </tr>\n",
       "    <tr>\n",
       "      <th>госслужащий</th>\n",
       "      <td>25.0</td>\n",
       "      <td>264.0</td>\n",
       "      <td>364.0</td>\n",
       "      <td>434.0</td>\n",
       "      <td>251.0</td>\n",
       "      <td>101.0</td>\n",
       "      <td>14.0</td>\n",
       "      <td>0.040000</td>\n",
       "      <td>0.075758</td>\n",
       "      <td>0.068681</td>\n",
       "      <td>0.050691</td>\n",
       "      <td>0.063745</td>\n",
       "      <td>0.019802</td>\n",
       "      <td>0.000000</td>\n",
       "    </tr>\n",
       "    <tr>\n",
       "      <th>компаньон</th>\n",
       "      <td>26.0</td>\n",
       "      <td>553.0</td>\n",
       "      <td>1161.0</td>\n",
       "      <td>1566.0</td>\n",
       "      <td>1124.0</td>\n",
       "      <td>508.0</td>\n",
       "      <td>116.0</td>\n",
       "      <td>0.038462</td>\n",
       "      <td>0.083183</td>\n",
       "      <td>0.080103</td>\n",
       "      <td>0.078544</td>\n",
       "      <td>0.062278</td>\n",
       "      <td>0.064961</td>\n",
       "      <td>0.068966</td>\n",
       "    </tr>\n",
       "    <tr>\n",
       "      <th>пенсионер</th>\n",
       "      <td>179.0</td>\n",
       "      <td>1102.0</td>\n",
       "      <td>1424.0</td>\n",
       "      <td>582.0</td>\n",
       "      <td>424.0</td>\n",
       "      <td>109.0</td>\n",
       "      <td>19.0</td>\n",
       "      <td>0.050279</td>\n",
       "      <td>0.047187</td>\n",
       "      <td>0.062500</td>\n",
       "      <td>0.060137</td>\n",
       "      <td>0.061321</td>\n",
       "      <td>0.045872</td>\n",
       "      <td>0.000000</td>\n",
       "    </tr>\n",
       "    <tr>\n",
       "      <th>предприниматель</th>\n",
       "      <td>NaN</td>\n",
       "      <td>NaN</td>\n",
       "      <td>NaN</td>\n",
       "      <td>NaN</td>\n",
       "      <td>NaN</td>\n",
       "      <td>2.0</td>\n",
       "      <td>NaN</td>\n",
       "      <td>NaN</td>\n",
       "      <td>NaN</td>\n",
       "      <td>NaN</td>\n",
       "      <td>NaN</td>\n",
       "      <td>NaN</td>\n",
       "      <td>0.000000</td>\n",
       "      <td>NaN</td>\n",
       "    </tr>\n",
       "    <tr>\n",
       "      <th>сотрудник</th>\n",
       "      <td>141.0</td>\n",
       "      <td>2151.0</td>\n",
       "      <td>4223.0</td>\n",
       "      <td>2165.0</td>\n",
       "      <td>1765.0</td>\n",
       "      <td>532.0</td>\n",
       "      <td>73.0</td>\n",
       "      <td>0.085106</td>\n",
       "      <td>0.098094</td>\n",
       "      <td>0.097561</td>\n",
       "      <td>0.103002</td>\n",
       "      <td>0.078187</td>\n",
       "      <td>0.097744</td>\n",
       "      <td>0.082192</td>\n",
       "    </tr>\n",
       "    <tr>\n",
       "      <th>студент</th>\n",
       "      <td>NaN</td>\n",
       "      <td>1.0</td>\n",
       "      <td>NaN</td>\n",
       "      <td>NaN</td>\n",
       "      <td>NaN</td>\n",
       "      <td>NaN</td>\n",
       "      <td>NaN</td>\n",
       "      <td>NaN</td>\n",
       "      <td>0.000000</td>\n",
       "      <td>NaN</td>\n",
       "      <td>NaN</td>\n",
       "      <td>NaN</td>\n",
       "      <td>NaN</td>\n",
       "      <td>NaN</td>\n",
       "    </tr>\n",
       "  </tbody>\n",
       "</table>\n",
       "</div>"
      ],
      "text/plain": [
       "                        count                                       \\\n",
       "income_bin      1. меньше 50К 2. от 50К до 100К 3. от 100К до 150К   \n",
       "income_type                                                          \n",
       "безработный               NaN               1.0                NaN   \n",
       "в декрете                 NaN               1.0                NaN   \n",
       "госслужащий              25.0             264.0              364.0   \n",
       "компаньон                26.0             553.0             1161.0   \n",
       "пенсионер               179.0            1102.0             1424.0   \n",
       "предприниматель           NaN               NaN                NaN   \n",
       "сотрудник               141.0            2151.0             4223.0   \n",
       "студент                   NaN               1.0                NaN   \n",
       "\n",
       "                                                                          \\\n",
       "income_bin      4. от 150К до 200К 4. от 200К до 300К 6. от 300К до 500К   \n",
       "income_type                                                                \n",
       "безработный                    NaN                1.0                NaN   \n",
       "в декрете                      NaN                NaN                NaN   \n",
       "госслужащий                  434.0              251.0              101.0   \n",
       "компаньон                   1566.0             1124.0              508.0   \n",
       "пенсионер                    582.0              424.0              109.0   \n",
       "предприниматель                NaN                NaN                2.0   \n",
       "сотрудник                   2165.0             1765.0              532.0   \n",
       "студент                        NaN                NaN                NaN   \n",
       "\n",
       "                                        mean                    \\\n",
       "income_bin      7. больше 500К 1. меньше 50К 2. от 50К до 100К   \n",
       "income_type                                                      \n",
       "безработный                NaN           NaN          1.000000   \n",
       "в декрете                  NaN           NaN          1.000000   \n",
       "госслужащий               14.0      0.040000          0.075758   \n",
       "компаньон                116.0      0.038462          0.083183   \n",
       "пенсионер                 19.0      0.050279          0.047187   \n",
       "предприниматель            NaN           NaN               NaN   \n",
       "сотрудник                 73.0      0.085106          0.098094   \n",
       "студент                    NaN           NaN          0.000000   \n",
       "\n",
       "                                                                          \\\n",
       "income_bin      3. от 100К до 150К 4. от 150К до 200К 4. от 200К до 300К   \n",
       "income_type                                                                \n",
       "безработный                    NaN                NaN           0.000000   \n",
       "в декрете                      NaN                NaN                NaN   \n",
       "госслужащий               0.068681           0.050691           0.063745   \n",
       "компаньон                 0.080103           0.078544           0.062278   \n",
       "пенсионер                 0.062500           0.060137           0.061321   \n",
       "предприниматель                NaN                NaN                NaN   \n",
       "сотрудник                 0.097561           0.103002           0.078187   \n",
       "студент                        NaN                NaN                NaN   \n",
       "\n",
       "                                                   \n",
       "income_bin      6. от 300К до 500К 7. больше 500К  \n",
       "income_type                                        \n",
       "безработный                    NaN            NaN  \n",
       "в декрете                      NaN            NaN  \n",
       "госслужащий               0.019802       0.000000  \n",
       "компаньон                 0.064961       0.068966  \n",
       "пенсионер                 0.045872       0.000000  \n",
       "предприниматель           0.000000            NaN  \n",
       "сотрудник                 0.097744       0.082192  \n",
       "студент                        NaN            NaN  "
      ]
     },
     "execution_count": 66,
     "metadata": {},
     "output_type": "execute_result"
    }
   ],
   "source": [
    "data.pivot_table(index= 'income_type', columns= 'income_bin', values= 'debt',aggfunc=[ 'count', 'mean'])"
   ]
  },
  {
   "cell_type": "markdown",
   "id": "17a05814",
   "metadata": {},
   "source": [
    "Навскидку видно, что основной вклад по задолженности (особенно в том самом диапазоне 50-200 тысяч) вносят сотрудники (т.е. наемные работники негосударственного сектора) и т.н. компаньоны (т.е. как я понимаю люди, работающие с индивидуальными предпринимателями, в мелких фирмешках или стартапах и которым \"обещали долю если все это взлетит\"). Уровень задолженности у госслужащих и пенсионеров (остальные категории не существенны) - заметно ниже.\n",
    "На мой взгляд становится понятно, что стабильность работы и предсказуемость доходов является одним из основных факторов в прогнозировании своей способности выплачивать кредит."
   ]
  },
  {
   "cell_type": "markdown",
   "id": "c4406c08",
   "metadata": {},
   "source": [
    "\n",
    "\n",
    "\n"
   ]
  },
  {
   "cell_type": "markdown",
   "id": "be62bba1",
   "metadata": {},
   "source": [
    "\n",
    "\n",
    "\n"
   ]
  },
  {
   "cell_type": "markdown",
   "id": "865af767",
   "metadata": {},
   "source": [
    "Задание 22. Как разные цели кредита влияют на его возврат в срок?"
   ]
  },
  {
   "cell_type": "markdown",
   "id": "51859552",
   "metadata": {},
   "source": [
    "Импортировать pandas и выводить датафрейм data по прежнему не будем.\n",
    "\n",
    "В нашем основном столбце \"debt\" все по прежнему:\n",
    "0 - отсутствие задолженности, 1- ее наличие,\n",
    "пропусков данных нет, тип данных int64 - можно считать,\n",
    "количество людей с задолженностью 1732, что достаточно для репрезентативного анализа,\n",
    "доля клиентов с задолженностью 8%    "
   ]
  },
  {
   "cell_type": "markdown",
   "id": "b1884de2",
   "metadata": {},
   "source": [
    "Относительно целей кредита ( по результатам просмотра data.head и data.tail и data.info ):\n",
    "Данные об уровне дохода находятся в столбце \"purpose\", \n",
    "пропусков данных нет (значимых строк 21525 как и в большинстве остальных столбцов), тип данных object, что нормально \n",
    "\n",
    "В задаче №18 из первой части мы создавали функцию categorize_purpose():, которая разбивала заявленные цели кредита на 4 категории, и создавали столбец в датафрейме с этими категориями - \"purpose_category\".\n",
    "\n",
    "Повторим это здесь"
   ]
  },
  {
   "cell_type": "code",
   "execution_count": 67,
   "id": "f38dc1ed",
   "metadata": {},
   "outputs": [
    {
     "name": "stdout",
     "output_type": "stream",
     "text": [
      "                      purpose purpose_category\n",
      "0               покупка жилья  на недвижимость\n",
      "1     приобретение автомобиля    на автомобиль\n",
      "2               покупка жилья  на недвижимость\n",
      "3  дополнительное образование   на образование\n",
      "4             сыграть свадьбу       на свадьбу\n",
      "5               покупка жилья  на недвижимость\n"
     ]
    }
   ],
   "source": [
    "def categorize_purpose(purpose):\n",
    "    if 'автомоб'in purpose :\n",
    "        return 'на автомобиль'\n",
    "    if ('недвижимост'in purpose)|('жиль' in purpose):\n",
    "        return 'на недвижимость'\n",
    "    if 'свадьб' in purpose:\n",
    "        return 'на свадьбу'\n",
    "    return 'на образование'\n",
    "\n",
    "\n",
    "data['purpose_category'] = data['purpose'].apply(categorize_purpose)\n",
    "print( data.loc[:5, ['purpose','purpose_category']] )      # Проверка: для первых 5 строк посмотреть глазами \n",
    "                                                           # на соответствие категории и собственно цели в \"живом\" датафрейме"
   ]
  },
  {
   "cell_type": "markdown",
   "id": "248c8b04",
   "metadata": {},
   "source": [
    "Получили столбец \"purpose_category\" с четырьмя группами, пригодными для анализа.\n",
    "Далее будем анализировать параметр задолженности из столбца \"debt\" в разбивке по категориям из этого столбца "
   ]
  },
  {
   "cell_type": "code",
   "execution_count": 68,
   "id": "2a917156",
   "metadata": {},
   "outputs": [
    {
     "name": "stdout",
     "output_type": "stream",
     "text": [
      "                  count      mean\n",
      "purpose_category                 \n",
      "на недвижимость   10780  0.072356\n",
      "на автомобиль      4288  0.093284\n",
      "на образование     3997  0.092319\n",
      "на свадьбу         2337  0.078306\n"
     ]
    }
   ],
   "source": [
    "sorted_debt_purp = data.groupby('purpose_category')['debt'].agg(['count','mean']).sort_values(by='count', ascending=False)\n",
    "print(sorted_debt_purp)"
   ]
  },
  {
   "cell_type": "markdown",
   "id": "22b1b4c1",
   "metadata": {},
   "source": [
    "И в графическом виде..."
   ]
  },
  {
   "cell_type": "code",
   "execution_count": 69,
   "id": "a450e023",
   "metadata": {},
   "outputs": [
    {
     "data": {
      "text/plain": [
       "<Axes: title={'center': 'Зависимость от цели кредита'}, xlabel='purpose_category', ylabel='mean'>"
      ]
     },
     "execution_count": 69,
     "metadata": {},
     "output_type": "execute_result"
    },
    {
     "data": {
      "image/png": "[encoded data removed]",
      "text/plain": [
       "<Figure size 1000x500 with 1 Axes>"
      ]
     },
     "metadata": {},
     "output_type": "display_data"
    }
   ],
   "source": [
    "sorted_debt_purp['mean'].plot(kind='bar', title= 'Зависимость от цели кредита', xlabel='purpose_category', ylabel= 'mean', figsize=(10,5))"
   ]
  },
  {
   "cell_type": "markdown",
   "id": "479af30a",
   "metadata": {},
   "source": [
    "Выводы:\n",
    "\n",
    "Средняя доля клиентов с кредитной задолженностью в выборке равна 8.1%. \n",
    "\n",
    "Выявлены следующие зависимости этой доли от цели заявки на кредит: \n",
    "\n",
    "1. Наименьший процент клиентов с задолженностью - среди клиентов, берущих кредит на недвижимость (прежде всего конечно на квартиру) - 7.2%, что ниже среднего на 0.9%.\n",
    "По всей видимости это связано с высокой значимостью такого кредита для человека/семьи: кватриру покупают нечасто, такие значительные кредиты (как по сумме так и по сроку) тоже берут не часто, соответственно это особое событие (и особое решение) прежде чем принять решение все тщательно обдумывают, советуются и планируют. Как следствие - меньше непредусмотренных фактороров, негативно влияющих на возврат кредита.\n",
    " \n",
    "2. Чуть больший, но вполне сравнимый и достаточно низкий процент задолженности имеют кредиты на свадьбу - 7.8% (на 0.6% выше, чем для операций с недвижимостью).\n",
    "Вполне вероятно, что причины в этом случае те же: событие значимое, в планировании как правило принимают участие несколько человек, решение все тщательно обдумывают, советуются и планируют. Результат примерно тот же - меньше непредусмотренных фактороров, негативно влияющих на возврат кредита. Отличие доли в большую сторону по ставнению с недвижимостью может быть следствием все-же большего процента спонтанности в случае свадьбы (\"молодым очень хотелось уже пожениться поскорее - это же самое главное... вот и не рассчитали свои силы\") \n",
    "\n",
    "3. Проценты задолженности по кредитам на покупку автомобиля и по кредитам на образование примерно одинаково высоки - 9.3% и 9.2% соответственно (разница с категорией недвижимости составляет аж 2%).\n",
    "Предположительно это можно объяснить так:\n",
    "В случае с покупкой автомобиля на мой взгляд играют роль два фактора: автомобили чаще покупают все-таки мужчины (это предположение, возможно потребуется уточнение), а как мы попутно выяснили в процессе решения задания 19 мужчины допускают задолженность гораздо чаще, чем женщины. Кроме того автомобиль сам по себе требует затрат на содержание (заправка, ТО, ремонт, страховки ит.д.), что возможно не в достаточной степени учитывается при принятии решения о кредите.\n",
    "В случае кредита на образование - возможно играет роль фактор молодости: определенное количество кредитов берется самими молодыми людьми на свое же образование в предположении, что можно будет легко совмещать учебу и работу. На практике совмещение получается гораздо сложнее, в результате трудности (смена или перебои) с работой и задолженность.\n"
   ]
  },
  {
   "cell_type": "markdown",
   "id": "29bbb664",
   "metadata": {},
   "source": [
    "Все-таки хочется здесь посмтреть дополнительную разбивку по полу и по возрастным категориям (чтобы подтвердить предположение про молодежь с кредитами на образование и по поводу того, что мужчины берут кредит на авто чаще женщин)"
   ]
  },
  {
   "cell_type": "markdown",
   "id": "2080c98d",
   "metadata": {},
   "source": [
    "Начнем с пола - это проще."
   ]
  },
  {
   "cell_type": "code",
   "execution_count": 70,
   "id": "07fcbf0c",
   "metadata": {},
   "outputs": [
    {
     "data": {
      "text/html": [
       "<div>\n",
       "<style scoped>\n",
       "    .dataframe tbody tr th:only-of-type {\n",
       "        vertical-align: middle;\n",
       "    }\n",
       "\n",
       "    .dataframe tbody tr th {\n",
       "        vertical-align: top;\n",
       "    }\n",
       "\n",
       "    .dataframe thead tr th {\n",
       "        text-align: left;\n",
       "    }\n",
       "\n",
       "    .dataframe thead tr:last-of-type th {\n",
       "        text-align: right;\n",
       "    }\n",
       "</style>\n",
       "<table border=\"1\" class=\"dataframe\">\n",
       "  <thead>\n",
       "    <tr>\n",
       "      <th></th>\n",
       "      <th colspan=\"3\" halign=\"left\">count</th>\n",
       "      <th colspan=\"3\" halign=\"left\">mean</th>\n",
       "    </tr>\n",
       "    <tr>\n",
       "      <th>gender</th>\n",
       "      <th>F</th>\n",
       "      <th>M</th>\n",
       "      <th>XNA</th>\n",
       "      <th>F</th>\n",
       "      <th>M</th>\n",
       "      <th>XNA</th>\n",
       "    </tr>\n",
       "    <tr>\n",
       "      <th>purpose_category</th>\n",
       "      <th></th>\n",
       "      <th></th>\n",
       "      <th></th>\n",
       "      <th></th>\n",
       "      <th></th>\n",
       "      <th></th>\n",
       "    </tr>\n",
       "  </thead>\n",
       "  <tbody>\n",
       "    <tr>\n",
       "      <th>на автомобиль</th>\n",
       "      <td>2852.0</td>\n",
       "      <td>1436.0</td>\n",
       "      <td>NaN</td>\n",
       "      <td>0.081346</td>\n",
       "      <td>0.116992</td>\n",
       "      <td>NaN</td>\n",
       "    </tr>\n",
       "    <tr>\n",
       "      <th>на недвижимость</th>\n",
       "      <td>7070.0</td>\n",
       "      <td>3709.0</td>\n",
       "      <td>1.0</td>\n",
       "      <td>0.062801</td>\n",
       "      <td>0.090590</td>\n",
       "      <td>0.0</td>\n",
       "    </tr>\n",
       "    <tr>\n",
       "      <th>на образование</th>\n",
       "      <td>2657.0</td>\n",
       "      <td>1340.0</td>\n",
       "      <td>NaN</td>\n",
       "      <td>0.077531</td>\n",
       "      <td>0.121642</td>\n",
       "      <td>NaN</td>\n",
       "    </tr>\n",
       "    <tr>\n",
       "      <th>на свадьбу</th>\n",
       "      <td>1575.0</td>\n",
       "      <td>762.0</td>\n",
       "      <td>NaN</td>\n",
       "      <td>0.067937</td>\n",
       "      <td>0.099738</td>\n",
       "      <td>NaN</td>\n",
       "    </tr>\n",
       "  </tbody>\n",
       "</table>\n",
       "</div>"
      ],
      "text/plain": [
       "                   count                   mean               \n",
       "gender                 F       M  XNA         F         M  XNA\n",
       "purpose_category                                              \n",
       "на автомобиль     2852.0  1436.0  NaN  0.081346  0.116992  NaN\n",
       "на недвижимость   7070.0  3709.0  1.0  0.062801  0.090590  0.0\n",
       "на образование    2657.0  1340.0  NaN  0.077531  0.121642  NaN\n",
       "на свадьбу        1575.0   762.0  NaN  0.067937  0.099738  NaN"
      ]
     },
     "execution_count": 70,
     "metadata": {},
     "output_type": "execute_result"
    }
   ],
   "source": [
    "data.pivot_table(index= 'purpose_category', columns= 'gender', values= 'debt',aggfunc=[ 'count', 'mean'])"
   ]
  },
  {
   "cell_type": "markdown",
   "id": "a3d80405",
   "metadata": {},
   "source": [
    "Дополнение/исправление к выводу: на автомобиль женщины берут кредит в два раза чаще мужчин, так что предположение, что автомобили чаще покупают мужчины неверно. Однако доля задолженности по автокредитам среди мужчин аж на 2.5% выше, чем у женщин. Так что в какой-то степени довод все-таки работает\n",
    "Аналогичную ситуацию мы видим и с кредитами на образование: процент задолженности у мужчин аж на 4.3% выше, чем у женщин.\n",
    "Так что с точки зрения финансовой дисциплины мужчины - слабый пол."
   ]
  },
  {
   "cell_type": "markdown",
   "id": "1e967bae",
   "metadata": {},
   "source": [
    "Теперь по возрасту: сделаем функцию, разбивающую на группы, применим к столбцу \"dob_years\" а потом посмотрим какой процент задолженности для каждого типа кредита по возрастным категориям. Разбиение сделаем следующее:\n",
    "молодёжь - младше 30, взрослые 30-45, опытные 45-60 и пожилые 60+."
   ]
  },
  {
   "cell_type": "code",
   "execution_count": 71,
   "id": "3f430b52",
   "metadata": {},
   "outputs": [
    {
     "name": "stdout",
     "output_type": "stream",
     "text": [
      "   dob_years         age_bin\n",
      "0         42  2. от 30 до 45\n",
      "1         36  2. от 30 до 45\n",
      "2         33  2. от 30 до 45\n",
      "3         32  2. от 30 до 45\n",
      "4         53  3. от 45 до 60\n",
      "5         27    1. младше 30\n"
     ]
    }
   ],
   "source": [
    "def categorize_age(years):\n",
    "    if years <= 30:\n",
    "        return '1. младше 30'\n",
    "    if 30 < years <= 45:\n",
    "        return '2. от 30 до 45'\n",
    "    if 45 < years <= 60:\n",
    "        return '3. от 45 до 60'\n",
    "    return '4. старше 60'\n",
    "\n",
    "\n",
    "data['age_bin'] = data['dob_years'].apply(categorize_age)\n",
    "print( data.loc[:5, ['dob_years','age_bin']] )      # Проверка: для первых 5 строк посмотреть глазами \n",
    "                                                    # на соответствие разбивки в собственно \"живом\" датафрейме"
   ]
  },
  {
   "cell_type": "markdown",
   "id": "81325770",
   "metadata": {},
   "source": [
    "Теперь смотрим что получается с задолженностями по возрастам"
   ]
  },
  {
   "cell_type": "code",
   "execution_count": 72,
   "id": "1865fd26",
   "metadata": {},
   "outputs": [
    {
     "data": {
      "text/html": [
       "<div>\n",
       "<style scoped>\n",
       "    .dataframe tbody tr th:only-of-type {\n",
       "        vertical-align: middle;\n",
       "    }\n",
       "\n",
       "    .dataframe tbody tr th {\n",
       "        vertical-align: top;\n",
       "    }\n",
       "\n",
       "    .dataframe thead tr th {\n",
       "        text-align: left;\n",
       "    }\n",
       "\n",
       "    .dataframe thead tr:last-of-type th {\n",
       "        text-align: right;\n",
       "    }\n",
       "</style>\n",
       "<table border=\"1\" class=\"dataframe\">\n",
       "  <thead>\n",
       "    <tr>\n",
       "      <th></th>\n",
       "      <th colspan=\"4\" halign=\"left\">count</th>\n",
       "      <th colspan=\"4\" halign=\"left\">mean</th>\n",
       "    </tr>\n",
       "    <tr>\n",
       "      <th>age_bin</th>\n",
       "      <th>1. младше 30</th>\n",
       "      <th>2. от 30 до 45</th>\n",
       "      <th>3. от 45 до 60</th>\n",
       "      <th>4. старше 60</th>\n",
       "      <th>1. младше 30</th>\n",
       "      <th>2. от 30 до 45</th>\n",
       "      <th>3. от 45 до 60</th>\n",
       "      <th>4. старше 60</th>\n",
       "    </tr>\n",
       "    <tr>\n",
       "      <th>purpose_category</th>\n",
       "      <th></th>\n",
       "      <th></th>\n",
       "      <th></th>\n",
       "      <th></th>\n",
       "      <th></th>\n",
       "      <th></th>\n",
       "      <th></th>\n",
       "      <th></th>\n",
       "    </tr>\n",
       "  </thead>\n",
       "  <tbody>\n",
       "    <tr>\n",
       "      <th>на автомобиль</th>\n",
       "      <td>704</td>\n",
       "      <td>1724</td>\n",
       "      <td>1420</td>\n",
       "      <td>440</td>\n",
       "      <td>0.123580</td>\n",
       "      <td>0.109049</td>\n",
       "      <td>0.070423</td>\n",
       "      <td>0.056818</td>\n",
       "    </tr>\n",
       "    <tr>\n",
       "      <th>на недвижимость</th>\n",
       "      <td>1963</td>\n",
       "      <td>4236</td>\n",
       "      <td>3537</td>\n",
       "      <td>1044</td>\n",
       "      <td>0.097300</td>\n",
       "      <td>0.078376</td>\n",
       "      <td>0.059938</td>\n",
       "      <td>0.043103</td>\n",
       "    </tr>\n",
       "    <tr>\n",
       "      <th>на образование</th>\n",
       "      <td>733</td>\n",
       "      <td>1543</td>\n",
       "      <td>1303</td>\n",
       "      <td>418</td>\n",
       "      <td>0.126876</td>\n",
       "      <td>0.099157</td>\n",
       "      <td>0.078281</td>\n",
       "      <td>0.050239</td>\n",
       "    </tr>\n",
       "    <tr>\n",
       "      <th>на свадьбу</th>\n",
       "      <td>405</td>\n",
       "      <td>943</td>\n",
       "      <td>759</td>\n",
       "      <td>230</td>\n",
       "      <td>0.098765</td>\n",
       "      <td>0.088017</td>\n",
       "      <td>0.065876</td>\n",
       "      <td>0.043478</td>\n",
       "    </tr>\n",
       "  </tbody>\n",
       "</table>\n",
       "</div>"
      ],
      "text/plain": [
       "                        count                                             \\\n",
       "age_bin          1. младше 30 2. от 30 до 45 3. от 45 до 60 4. старше 60   \n",
       "purpose_category                                                           \n",
       "на автомобиль             704           1724           1420          440   \n",
       "на недвижимость          1963           4236           3537         1044   \n",
       "на образование            733           1543           1303          418   \n",
       "на свадьбу                405            943            759          230   \n",
       "\n",
       "                         mean                                             \n",
       "age_bin          1. младше 30 2. от 30 до 45 3. от 45 до 60 4. старше 60  \n",
       "purpose_category                                                          \n",
       "на автомобиль        0.123580       0.109049       0.070423     0.056818  \n",
       "на недвижимость      0.097300       0.078376       0.059938     0.043103  \n",
       "на образование       0.126876       0.099157       0.078281     0.050239  \n",
       "на свадьбу           0.098765       0.088017       0.065876     0.043478  "
      ]
     },
     "execution_count": 72,
     "metadata": {},
     "output_type": "execute_result"
    }
   ],
   "source": [
    "data.pivot_table(index= 'purpose_category', columns= 'age_bin', values= 'debt',aggfunc=[ 'count', 'mean'])"
   ]
  },
  {
   "cell_type": "markdown",
   "id": "23d8fadb",
   "metadata": {},
   "source": [
    "Здесь в основном предположения и выводы подтверждаются: у молодежи изменений в жизни в единицу времени больше, молодежь рискует больше, принимает спонтанные и необдуманные решения чаще. Соответственно ее вклад в процент задолженности выше, чем у других возрастных категорий. С возрастом процент задолженности неуклонно снижается (прежде всего из-за большей стабильности жизни и большего опыта в обдумывании решений)."
   ]
  },
  {
   "cell_type": "markdown",
   "id": "3bb2d4af",
   "metadata": {},
   "source": [
    "\n",
    "\n",
    "\n"
   ]
  },
  {
   "cell_type": "markdown",
   "id": "0199dec8",
   "metadata": {},
   "source": [
    "Задание 23. Приведите возможные причины появления пропусков в исходных данных."
   ]
  },
  {
   "cell_type": "markdown",
   "id": "87397eed",
   "metadata": {},
   "source": [
    "В исследуемом датасете пропусков данных относительно немного и сосредоточены они только в двух столбцах: с указанием трудового стажа и совокупного дохода.\n",
    "На удивление пропусков в обоих столбцах одиноковое количество, что наверное объясняется тем, что задача учебная.\n",
    "На мой взгляд источник пропусков в этих данных - собственно клиенты, которые подавали заявку на кредит и соответственно заполняли положенную в таких случаях анкету (на основании этих анкет и формировался датасет).\n",
    "В случае трудового стажа пропуски обусловлены тем, что указать его более-менее точно очень непросто, поскольку эти цифры никтов голове не держит, если человек работает - то трудовой книжки у него под рукой нет, если он менял работу - то вспомнить когда точно менял и сколько проработал на прошлой - сложно и т.д. А писать совсем отпотолочные цифры человек опасается: все таки банк и т.д. В результате не пишут ничего.\n",
    "В случае совокупного дохода - мне думается, что источник тот же, а соображения могут быть трех типов:\n",
    "    \"попробую без этого - может предварительно одобрят - вот тогда и расскажу им. А то я им все карты открою, а они кредит не дадут, а обо мне всю информацию всю будут знать: им она не нужна - может еще отдадут кому... Не буду ставить\"\n",
    "    \" а сколько надо указать чтобы дали кредит? А то мне кажется у меня маловато... Не буду пока ставить - пусть посмотрят так, может потом скажут сколько нужно и тогда подумаю... Не буду ставить\"\n",
    "    Ну или вообще \"сколько я зарабатываю - мое личное дело. Это конфиденциальная информация. Пусть скажут сколько им надо будет платить, а я подумаю достаточно у меня денег или нет... Точно не буду писать\""
   ]
  },
  {
   "cell_type": "markdown",
   "id": "2e336865",
   "metadata": {},
   "source": [
    "Ну а в принципе пропуски бывают трех типов:\n",
    "    Абсолютно случайные - когда невозможно понять точно причину (может человек, который заполнял таблицу или анкету именно в этот момент отвлекся и пропустил, может алгоритм заполнения не смог разобрать данные, может кнал передачи информации засбоил и т.д.) и понять из других данных какое значение здесь может быть\n",
    "    Просто случайные - это когда причины пропуска может быть в принципе разные, но наиболее вероятная звучит так \"а что тут заполнять - и так все понятно\". То есть данные в ячейке с пропуском могут быть восстановлены с высокой достоверностью по значениям в других (заполненных) ячейках. Например в нашем датасете если бы отсутствовали значения  в колонке \"income_type\" для людей, возраст которых 65+, то ничего удивительного в этом не было бы: с вероятностью ок. 100% это пенсионер (еслибы человек ущу работал или имел какой-то еще источник дохода - он бы написал, а так - очевидно)\n",
    "    Неслучайные пропуски - это пропуски, которые имеют довольно четкое объяснение ( мне кажется как правило оно звучит так: если это про людей - то \"человек предпочел честно на этот вопрос не отвечать\", а если про технику - то \"404 - получить эти данные или изменить этот параметр в данной ситуации невозможно\"). На мой взгляд пропуски в нашем датасете в столбце \"total_income\" именно из этой серии: люди практически всегда предпочитают не распространяться о своих деньгах без крайней необходимости. С их обработкой, как мне кажется, сложнее всего: если просто удалить - можно исказить исследуемую картину, нужно заполнять чем-то характерным именно для данной группы, а чем заполнять - еще нужно думать. "
   ]
  },
  {
   "cell_type": "markdown",
   "id": "bef2d50c",
   "metadata": {},
   "source": [
    "\n",
    "\n",
    "\n"
   ]
  },
  {
   "cell_type": "markdown",
   "id": "c7367661",
   "metadata": {},
   "source": [
    "\n",
    "\n",
    "\n"
   ]
  },
  {
   "cell_type": "markdown",
   "id": "01889d32",
   "metadata": {},
   "source": [
    "Задание 24. Объясните, почему заполнить пропуски медианным значением — лучшее решение для количественных переменных."
   ]
  },
  {
   "cell_type": "markdown",
   "id": "2b34ca7b",
   "metadata": {},
   "source": [
    "Среднее значение - это сумма значений в выборке, деленная на их количество.\n",
    "\n",
    "Медиана - это серединное значание в отсортированной (например по возрастанию) выборке. Ровно половина значений больше медианы и ровно половина - меньше.\n",
    "\n",
    "Для выборок, в которых нет выбросов (то есть малого количества сильно отличающихся от остальных значений) среднее и медиана совпадают или очень близки.\n",
    "например если есть отсортированный по возрастанию список [0,1,2,3,4,5,6,7,8,9,10], то   \n",
    "    среднее для него равно sum()/count() = 55/11 = 5   \n",
    "    медиана для этого списка тоже равна 5 (слева 5 элементов и справа 5)   \n",
    "то есть значения совпадают.   \n",
    "\n",
    "Соответственно для выборки без выбросов использовать медиану для заполнения пропусков можно.\n",
    "\n",
    "А если есть выборка с выбросами - то среднее и медиана отличаются, при этом вы бросы искажают именно среднее, а медиана по прежнему остается более \"характерным параметром\" для выборки (в том смысле, что подавляющее большинство элементов выборки ближе к медиане, чем к среднему).   \n",
    "Например добавим в наш список два \"нехарактерных\" значения - 102 и 103   \n",
    "    среднее значение станет равно 260/13 = 20 (количество элементов изменилось только на 15%, а среднее изменлось в 4 раза),   \n",
    "    а медиана в этом случае буде равно 6 (то есть количество изменилось на 15% и медиана - на те же 15%)\n",
    "     \n",
    "Поэтому для выборки, в которой есть выбросы медиану как более характерный параметр для заполнения пропусков использовать нужно."
   ]
  },
  {
   "cell_type": "markdown",
   "id": "e968baa6",
   "metadata": {},
   "source": [
    "\n",
    "\n",
    "\n"
   ]
  },
  {
   "cell_type": "markdown",
   "id": "a84d9424",
   "metadata": {},
   "source": [
    "\n",
    "\n",
    "\n"
   ]
  },
  {
   "cell_type": "markdown",
   "id": "9c56c755",
   "metadata": {},
   "source": [
    "# Общий вывод:"
   ]
  },
  {
   "cell_type": "markdown",
   "id": "cf19c68f",
   "metadata": {},
   "source": [
    "По запросу кредитного отдела банка анализировались статистика о платёжеспособности клиентов \n",
    "с целью определить влияет ли семейное положение и количество детей клиента на факт погашения кредита в срок.\n",
    "\n",
    "Данные о клиентах были представлены в датасете \"data\". \n",
    "Общее количество записей о клиентах, представленных в датасете равно 21525;\n",
    "качество данных по клиента в основном удовлетворительное:\n",
    "    пропуски данных обнаружены в показателях общего дохода и трудового стажа - по 2174 в каждом - были замещены медианными показателями для конкретного типа занятости; \n",
    "    данные по двум клиентам были удалены по причине заведомо некорректных данных о количестве детей и невозможности их восстановления. На общем качестве выборки это не сказалось;\n",
    "Таким образом размер выборки и качество данных позволяли провести анализ и получить достоверные результаты.\n",
    "\n",
    "По результатам анализа выявлены следующие зависимости:\n",
    "\n",
    "1. Средняя доля клиентов с кредитной задолженностью в выборке равна 8.1%.\n",
    "\n",
    "2. Выявлена слабая зависимость доля клиентов с кредитной задолженностью от количества детей в семье:\n",
    "     - наибольший процент клиентов с задолженностью - у клиентов с 1 или 2 детьми (9.3%) , \n",
    "     - наименьший - у бездетных клиентов (7.5%).\n",
    "        Эта разница может быть объяснена тем, что финансовая нагрузка на бюджет бездетной семьи существенно меньше, чем нагрузка на семью с детьми.\n",
    "     - группа клиентов с 3 и более детьми в данной выборке выбивается из этой логики: процент задолженности в ней = 8.2%, что меньше, чем для клиентов с 1-2 детьми. В случае заинтересованности возможно понадобится дополнительное исследование по этой группе.\n",
    "      \n",
    "Следует учитывать, что разброс значений по категориям составляет около +-1%, что соответствует уровню статистической погрешности для такого рода исследований.\n",
    "\n",
    "3. Выявлены следующие зависимости доли клиентов с кредитной задолженностью от семейного положения клиента:\n",
    "     - наибольший процент клиентов с задолженностью - у неженатых/незамужних клиентов  - 9.8% , \n",
    "     - наименьший - у клиентов, находящихся в разводе и вдовых - 7.0% и 6.6% соответственно,\n",
    "     - женатые/замужние клиенты представляют серединное большинство - процент задолженности в этой категории - 7.5%, что гораздо ближе к категории \"разведенных\", чем к категории \"неженатых\".\n",
    "     - определенного внимания может заслуживать группа клиентов, состоящие в гражданском браке: в данной выборке их в 1.5 раза болше, чем неженатых и с точки зрения задолженности их поведение гораздо ближе к неженатым, чем к женатым: процент клиентов с задолженностью в этой группе - 9.3%, то есть всего на 0.5% меньше чем у неженатых и аж на 1.8% больше, чем у официально семейных.\n",
    "      \n",
    "Однако общий разброс доли клиентов с кредитной задолженностью по разным категориям в зависимости от семейного положения - от 6.6% до 9.8%, хоть и является заметным, но не выходит за рамки, которые могут существенно повлиять на условия предоставления кредита.\n",
    "\n",
    "Нужно отметить два момента:\n",
    "    - С появлением детей разница в доле людей с задолженностью среди неженатых людей растет сильнее, чем среди женатых/замужних - 3.0% разницы при 1-2 детях и 2.4% у бездетных. Это логично, поскольку очевидно, что финансовая нагрузка на бюджет семьи с двумя родителями все же меньше, чем нагрузка на одинокого родителя с детьми.\n",
    "    - С появлением детей финансовое поведение людей, состоящих в гражданском браке все больше становится похоже на поведение неженатых (разница в задолженности 0.6% при 1-2 детях против 1.0% при отсутствии детей) и все дальше от женатых (разница в 2.3% при 1-2 детях против 1.5% при отсутствии детей).\n",
    "\n",
    "Кроме того были проанализирована зависимость доли клиентов с кредитной задолженностью от доходов клиента и от цели подачи заявки на кредит.\n",
    "\n",
    "4. Выявлены следующие зависимости доли клиентов с кредитной задолженностью от доходов клиента:\n",
    "    - наименьший процент клиентов с задолженностью - у клиентов с доходом до 50 тысяч рублей в месяц - 6.2%;\n",
    "    - наибольший процент клиентов с задолженностью - у клиентов с доходом от 100 до 150 тысяч рублей в месяц - 8.6% (на 2.3% выше, чем в категории \"меньше 50 тысяч\");\n",
    "    - клиенты с доходами более 200 тысяч рублей в месяц имеют процент клиентов с задолженностью несколько выше, чем для категории с доходом до 50 тысяч рублей  (7.3% в максимуме против 6.2%) и существенно ниже, чем для категорий от 50 до 200 тысяч рублей ежемесячного дохода (7.0-7.3% против 8.1-8.6%).\n",
    "    \n",
    "Объясняется такое поведение показателей по всей видимости следующей логикой: \n",
    "    - люди с доходами до 50 тысяч привыкли тщательно считать деньги и планировать расходы,\n",
    "    - у людей с доходами от 50 до 200 тысяч начинает преобладать ощущение \"могу себе позволить\", а на возросшие потребности средств хватает не всегда,\n",
    "    - люди с доходами более 200 тысяч действительно \"могут себе позволить\"\n",
    "\n",
    "Также было выяснено, что основной вклад по задолженности вносят наемные сотрудники (негосударственного сектора) - особенно в  диапазоне доходов от 50 до 200 тысяч рублей в месяц. При этом уровень задолженности у госслужащих и пенсионеров заметно ниже.\n",
    "\n",
    "5. Выявлены следующие зависимости этой доли от цели заявки на кредит:\n",
    "    - наименьший процент клиентов с задолженностью - среди клиентов, берущих кредит на недвижимость - 7.2%, что ниже среднего на 0.9%;\n",
    "    - чуть больший, но вполне сравнимый и достаточно низкий процент задолженности имеют кредиты на свадьбу - 7.8% (на 0.6% выше, чем для операций с недвижимостью);\n",
    "    - проценты задолженности по кредитам на покупку автомобиля и по кредитам на образование примерно одинаково высоки - 9.3% и 9.2% соответственно (разница с категорией недвижимости составляет аж 2%).\n",
    "    \n",
    "Такое распределение по всей видимости связано с тем, что значительные и нечастые события (такие как покупка жилья и свадьба) продумывают и планируют более тщательно, чем менее значимые события (такие как покупка автомобиля или получение образования).\n",
    "\n",
    "Кроме того было выяснено, что по всем видам кредитов наблюдаются две закономерности\n",
    "    - мужчины допускают задолженность примерно на 3 процентных пункта чаще, чем женщины;\n",
    "    - клиенты до 30 лет допускают задолженность на 1-2 процентных пункта чаще, чем более старшие клиенты.\n"
   ]
  },
  {
   "cell_type": "markdown",
   "id": "afbac62a",
   "metadata": {},
   "source": [
    "#### Проект выполнил Александр Кийко.\n",
    "##### a.m.kiyko@yandex.ru"
   ]
  },
  {
   "cell_type": "markdown",
   "id": "c4e516de",
   "metadata": {},
   "source": [
    "<div style=\"border:solid steelblue 3px; padding: 20px; border-radius: 10px\">\n",
    "\n",
    "<h5><b>🏁 Общий комментарий ревьюера:</b></h5>\n",
    "\n",
    "Александр, ты очень хорошо справился с заданием! 👍\n",
    "\n",
    "Критических замечаний нет.\n",
    "\n",
    "</div>"
   ]
  }
 ],
 "metadata": {
  "ExecuteTimeLog": [
   {
    "duration": 600,
    "start_time": "2023-10-19T14:05:12.737Z"
   },
   {
    "duration": 16,
    "start_time": "2023-10-19T14:05:13.339Z"
   },
   {
    "duration": 36,
    "start_time": "2023-10-19T14:05:13.357Z"
   },
   {
    "duration": 27,
    "start_time": "2023-10-19T14:05:13.395Z"
   },
   {
    "duration": 50,
    "start_time": "2023-10-19T14:05:13.424Z"
   },
   {
    "duration": 37,
    "start_time": "2023-10-19T14:05:13.476Z"
   },
   {
    "duration": 28,
    "start_time": "2023-10-19T14:05:13.515Z"
   },
   {
    "duration": 37,
    "start_time": "2023-10-19T14:05:13.545Z"
   },
   {
    "duration": 45,
    "start_time": "2023-10-19T14:05:13.584Z"
   },
   {
    "duration": 28,
    "start_time": "2023-10-19T14:05:13.633Z"
   },
   {
    "duration": 38,
    "start_time": "2023-10-19T14:05:13.663Z"
   },
   {
    "duration": 41,
    "start_time": "2023-10-19T14:05:13.702Z"
   },
   {
    "duration": 22,
    "start_time": "2023-10-19T14:05:13.745Z"
   },
   {
    "duration": 525,
    "start_time": "2023-10-19T14:05:13.769Z"
   },
   {
    "duration": 47,
    "start_time": "2023-10-19T14:05:14.296Z"
   },
   {
    "duration": 6,
    "start_time": "2023-10-19T14:05:14.344Z"
   },
   {
    "duration": 45,
    "start_time": "2023-10-19T14:05:14.352Z"
   },
   {
    "duration": 33,
    "start_time": "2023-10-19T14:05:14.399Z"
   },
   {
    "duration": 147,
    "start_time": "2023-10-19T14:05:14.434Z"
   },
   {
    "duration": 42,
    "start_time": "2023-10-19T14:05:14.583Z"
   },
   {
    "duration": 39,
    "start_time": "2023-10-19T14:05:14.626Z"
   },
   {
    "duration": 5,
    "start_time": "2023-10-19T14:05:14.667Z"
   },
   {
    "duration": 50,
    "start_time": "2023-10-19T14:05:14.674Z"
   },
   {
    "duration": 40,
    "start_time": "2023-10-19T14:05:14.725Z"
   },
   {
    "duration": 28,
    "start_time": "2023-10-19T14:05:14.766Z"
   },
   {
    "duration": 37,
    "start_time": "2023-10-19T14:05:14.796Z"
   },
   {
    "duration": 29,
    "start_time": "2023-10-19T14:05:14.835Z"
   },
   {
    "duration": 170,
    "start_time": "2023-10-19T14:05:14.867Z"
   },
   {
    "duration": 56,
    "start_time": "2023-10-19T14:05:15.039Z"
   },
   {
    "duration": 36,
    "start_time": "2023-10-19T14:05:15.097Z"
   },
   {
    "duration": 34,
    "start_time": "2023-10-19T14:05:15.135Z"
   },
   {
    "duration": 161,
    "start_time": "2023-10-19T14:05:15.171Z"
   },
   {
    "duration": 41,
    "start_time": "2023-10-19T14:05:15.334Z"
   },
   {
    "duration": 13,
    "start_time": "2023-10-19T14:05:15.378Z"
   },
   {
    "duration": 81,
    "start_time": "2023-10-19T14:05:15.392Z"
   }
  ],
  "kernelspec": {
   "display_name": "Python 3 (ipykernel)",
   "language": "python",
   "name": "python3"
  },
  "language_info": {
   "codemirror_mode": {
    "name": "ipython",
    "version": 3
   },
   "file_extension": ".py",
   "mimetype": "text/x-python",
   "name": "python",
   "nbconvert_exporter": "python",
   "pygments_lexer": "ipython3",
   "version": "3.11.5"
  },
  "toc": {
   "base_numbering": 1,
   "nav_menu": {},
   "number_sections": true,
   "sideBar": true,
   "skip_h1_title": true,
   "title_cell": "Table of Contents",
   "title_sidebar": "Contents",
   "toc_cell": false,
   "toc_position": {},
   "toc_section_display": true,
   "toc_window_display": true
  }
 },
 "nbformat": 4,
 "nbformat_minor": 5
}
