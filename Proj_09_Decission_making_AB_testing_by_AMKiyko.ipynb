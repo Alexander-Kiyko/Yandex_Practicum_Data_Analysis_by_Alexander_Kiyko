{
 "cells": [
  {
   "cell_type": "markdown",
   "id": "982c18d4",
   "metadata": {},
   "source": [
    "# Проект 09. Проведение А/В тестирования и анализ его результатов ."
   ]
  },
  {
   "cell_type": "markdown",
   "id": "b3395a19",
   "metadata": {},
   "source": [
    "Проект заказан крупным интернет-магазином. Вместе с отделом маркетинга был подготовлен список гипотез для увеличения выручки. \n",
    "\n",
    "##### Необходимо приоритизировать гипотезы, провести A/B-тест и проанализировать его результаты.\n",
    " \n",
    "В файле hypothesis.csv записаны данные о 9 гипотезах по увеличению выручки интернет-магазина.       \n",
    "Датасет содержит следующие поля:       \n",
    "    • Hypothesis — краткое описание гипотезы;        \n",
    "    • Reach — охват пользователей по 10-балльной шкале;       \n",
    "    • Impact — влияние на пользователей по 10-балльной шкале;        \n",
    "    • Confidence — уверенность в гипотезе по 10-балльной шкале;         \n",
    "    • Efforts — затраты ресурсов на проверку гипотезы по 10-балльной шкале. \n",
    "\n",
    "Результатаы, полученные при проведении A/B-теста описаны в файлах orders.csv и visitors.csv.     \n",
    "Датасет orders.csv с информацией о заказах содержит следующие поля:       \n",
    "    • transactionId — идентификатор заказа;       \n",
    "    • visitorId — идентификатор пользователя, совершившего заказ;       \n",
    "    • date — дата, когда был совершён заказ;       \n",
    "    • revenue — выручка заказа;\n",
    "    • group — группа A/B-теста, в которую попал заказ.       \n",
    "Датасет visitors.csv с информацией о количестве пользователей сайта содержит следующие поля:        \n",
    "    • date — дата;     \n",
    "    • group — группа A/B-теста;      \n",
    "    • visitors — количество пользователей в указанную дату в указанной группе A/B-теста.\n"
   ]
  },
  {
   "cell_type": "markdown",
   "id": "6c3f9c2b",
   "metadata": {},
   "source": [
    "### Оглавление:\n",
    "\n",
    "#### Шаг 1. Загрузка и предобработка данных для анализа\n",
    "\n",
    "#### Шаг 2. Приоритизация гипотез:\n",
    "#####            •\tПрименить фреймворк ICE для приоритизации\n",
    "#####            •\tПрименить фреймворк RICE  \n",
    "#####            •\tПроанализировать различия  \n",
    "\n",
    "#### Шаг 3. Анализ A/B-теста:\n",
    "#####            •  Анализ выручки по группам\n",
    "#####            •  Анализ среднего чека\n",
    "#####            •  Анализ среднего количества заказов \n",
    "#####            •  Анализ стоимости заказов \n",
    "#####            •  Расчет статистической значимости различий\n",
    "\n",
    "#### Шаг 4. Обоснование решения по результатам теста\n",
    "    "
   ]
  },
  {
   "cell_type": "markdown",
   "id": "9439065b",
   "metadata": {},
   "source": [
    " \n",
    "  \n",
    "  "
   ]
  },
  {
   "cell_type": "markdown",
   "id": "1b43e8b6",
   "metadata": {},
   "source": [
    "## Шаг 1. Загрузка и предобработка данных для анализа"
   ]
  },
  {
   "cell_type": "markdown",
   "id": "51d5b35a",
   "metadata": {},
   "source": [
    "\n"
   ]
  },
  {
   "cell_type": "markdown",
   "id": "7523fb29",
   "metadata": {},
   "source": [
    "Импортируем библиотеки, которые по всей видимости будут нужны "
   ]
  },
  {
   "cell_type": "code",
   "execution_count": 11,
   "id": "6f85e3c9",
   "metadata": {},
   "outputs": [],
   "source": [
    "import pandas as pd\n",
    "import numpy as np\n",
    "import matplotlib.pyplot as plt\n",
    "import scipy.stats as stats\n",
    "import datetime as dt"
   ]
  },
  {
   "cell_type": "markdown",
   "id": "74bc271b",
   "metadata": {},
   "source": [
    "В соответствии с описанием проекта весь имеющийся у нас набор данных распределен по трем датасетам:       \n",
    "hypothesis.csv хранит данные о 9 гипотезах по увеличению выручки интернет-магазина        \n",
    "orders.csv — информацию о заказах,          \n",
    "visitors.csv  — информацию с количеством пользователей сайта по дням."
   ]
  },
  {
   "cell_type": "markdown",
   "id": "c828a04e",
   "metadata": {},
   "source": [
    "Прочтем последовательно все три исходных файла с данными     \n",
    "(try...except для того, чтобы можно было читать файл не только локально, но и из общего хранилища). "
   ]
  },
  {
   "cell_type": "code",
   "execution_count": 12,
   "id": "ee055701",
   "metadata": {},
   "outputs": [],
   "source": [
    "try:\n",
    "    hypothesis = pd.read_csv('hypothesis.csv')\n",
    "    orders = pd.read_csv('orders.csv')\n",
    "    visitors = pd.read_csv('visitors.csv')\n",
    "    \n",
    "except:\n",
    "    hypothesis = pd.read_csv('/datasets/hypothesis.csv')\n",
    "    orders_ini = pd.read_csv('/datasets/orders.csv')\n",
    "    visitors = pd.read_csv('/datasets/visitors.csv')"
   ]
  },
  {
   "cell_type": "markdown",
   "id": "b8f4c286",
   "metadata": {},
   "source": [
    "Посмотрим общую информацию о имеющихся в нашем распоряжении датафреймах:           \n",
    "сколько строк в столбцах, много ли пропусков и в каких столбцах, какие у данных типы и насколько это совпадатет с сутью cамих данных.           \n",
    "А так-же взглянем как выглядят \"голова\" и \"хвост\" датафреймов."
   ]
  },
  {
   "cell_type": "markdown",
   "id": "793a8d71",
   "metadata": {},
   "source": [
    "Сначала посмотрим на датафрейм с данными о гипотезах - hypothesis:"
   ]
  },
  {
   "cell_type": "code",
   "execution_count": 13,
   "id": "614fb3e6",
   "metadata": {},
   "outputs": [
    {
     "name": "stdout",
     "output_type": "stream",
     "text": [
      "<class 'pandas.core.frame.DataFrame'>\n",
      "RangeIndex: 9 entries, 0 to 8\n",
      "Data columns (total 5 columns):\n",
      " #   Column      Non-Null Count  Dtype \n",
      "---  ------      --------------  ----- \n",
      " 0   Hypothesis  9 non-null      object\n",
      " 1   Reach       9 non-null      int64 \n",
      " 2   Impact      9 non-null      int64 \n",
      " 3   Confidence  9 non-null      int64 \n",
      " 4   Efforts     9 non-null      int64 \n",
      "dtypes: int64(4), object(1)\n",
      "memory usage: 492.0+ bytes\n"
     ]
    },
    {
     "data": {
      "text/html": [
       "<div>\n",
       "<style scoped>\n",
       "    .dataframe tbody tr th:only-of-type {\n",
       "        vertical-align: middle;\n",
       "    }\n",
       "\n",
       "    .dataframe tbody tr th {\n",
       "        vertical-align: top;\n",
       "    }\n",
       "\n",
       "    .dataframe thead th {\n",
       "        text-align: right;\n",
       "    }\n",
       "</style>\n",
       "<table border=\"1\" class=\"dataframe\">\n",
       "  <thead>\n",
       "    <tr style=\"text-align: right;\">\n",
       "      <th></th>\n",
       "      <th>Hypothesis</th>\n",
       "      <th>Reach</th>\n",
       "      <th>Impact</th>\n",
       "      <th>Confidence</th>\n",
       "      <th>Efforts</th>\n",
       "    </tr>\n",
       "  </thead>\n",
       "  <tbody>\n",
       "    <tr>\n",
       "      <th>0</th>\n",
       "      <td>Добавить два новых канала привлечения трафика, что позволит привлекать на 30% больше пользователей</td>\n",
       "      <td>3</td>\n",
       "      <td>10</td>\n",
       "      <td>8</td>\n",
       "      <td>6</td>\n",
       "    </tr>\n",
       "    <tr>\n",
       "      <th>1</th>\n",
       "      <td>Запустить собственную службу доставки, что сократит срок доставки заказов</td>\n",
       "      <td>2</td>\n",
       "      <td>5</td>\n",
       "      <td>4</td>\n",
       "      <td>10</td>\n",
       "    </tr>\n",
       "    <tr>\n",
       "      <th>2</th>\n",
       "      <td>Добавить блоки рекомендаций товаров на сайт интернет магазина, чтобы повысить конверсию и средний чек заказа</td>\n",
       "      <td>8</td>\n",
       "      <td>3</td>\n",
       "      <td>7</td>\n",
       "      <td>3</td>\n",
       "    </tr>\n",
       "    <tr>\n",
       "      <th>3</th>\n",
       "      <td>Изменить структура категорий, что увеличит конверсию, т.к. пользователи быстрее найдут нужный товар</td>\n",
       "      <td>8</td>\n",
       "      <td>3</td>\n",
       "      <td>3</td>\n",
       "      <td>8</td>\n",
       "    </tr>\n",
       "    <tr>\n",
       "      <th>4</th>\n",
       "      <td>Изменить цвет фона главной страницы, чтобы увеличить вовлеченность пользователей</td>\n",
       "      <td>3</td>\n",
       "      <td>1</td>\n",
       "      <td>1</td>\n",
       "      <td>1</td>\n",
       "    </tr>\n",
       "    <tr>\n",
       "      <th>5</th>\n",
       "      <td>Добавить страницу отзывов клиентов о магазине, что позволит увеличить количество заказов</td>\n",
       "      <td>3</td>\n",
       "      <td>2</td>\n",
       "      <td>2</td>\n",
       "      <td>3</td>\n",
       "    </tr>\n",
       "    <tr>\n",
       "      <th>6</th>\n",
       "      <td>Показать на главной странице баннеры с актуальными акциями и распродажами, чтобы увеличить конверсию</td>\n",
       "      <td>5</td>\n",
       "      <td>3</td>\n",
       "      <td>8</td>\n",
       "      <td>3</td>\n",
       "    </tr>\n",
       "    <tr>\n",
       "      <th>7</th>\n",
       "      <td>Добавить форму подписки на все основные страницы, чтобы собрать базу клиентов для email-рассылок</td>\n",
       "      <td>10</td>\n",
       "      <td>7</td>\n",
       "      <td>8</td>\n",
       "      <td>5</td>\n",
       "    </tr>\n",
       "    <tr>\n",
       "      <th>8</th>\n",
       "      <td>Запустить акцию, дающую скидку на товар в день рождения</td>\n",
       "      <td>1</td>\n",
       "      <td>9</td>\n",
       "      <td>9</td>\n",
       "      <td>5</td>\n",
       "    </tr>\n",
       "  </tbody>\n",
       "</table>\n",
       "</div>"
      ],
      "text/plain": [
       "                                                                                                     Hypothesis  \\\n",
       "0  Добавить два новых канала привлечения трафика, что позволит привлекать на 30% больше пользователей             \n",
       "1  Запустить собственную службу доставки, что сократит срок доставки заказов                                      \n",
       "2  Добавить блоки рекомендаций товаров на сайт интернет магазина, чтобы повысить конверсию и средний чек заказа   \n",
       "3  Изменить структура категорий, что увеличит конверсию, т.к. пользователи быстрее найдут нужный товар            \n",
       "4  Изменить цвет фона главной страницы, чтобы увеличить вовлеченность пользователей                               \n",
       "5  Добавить страницу отзывов клиентов о магазине, что позволит увеличить количество заказов                       \n",
       "6  Показать на главной странице баннеры с актуальными акциями и распродажами, чтобы увеличить конверсию           \n",
       "7  Добавить форму подписки на все основные страницы, чтобы собрать базу клиентов для email-рассылок               \n",
       "8  Запустить акцию, дающую скидку на товар в день рождения                                                        \n",
       "\n",
       "   Reach  Impact  Confidence  Efforts  \n",
       "0  3      10      8           6        \n",
       "1  2      5       4           10       \n",
       "2  8      3       7           3        \n",
       "3  8      3       3           8        \n",
       "4  3      1       1           1        \n",
       "5  3      2       2           3        \n",
       "6  5      3       8           3        \n",
       "7  10     7       8           5        \n",
       "8  1      9       9           5        "
      ]
     },
     "execution_count": 13,
     "metadata": {},
     "output_type": "execute_result"
    }
   ],
   "source": [
    "hypothesis.info()\n",
    "hypothesis"
   ]
  },
  {
   "cell_type": "code",
   "execution_count": 14,
   "id": "819eb483",
   "metadata": {},
   "outputs": [
    {
     "data": {
      "text/html": [
       "<div>\n",
       "<style scoped>\n",
       "    .dataframe tbody tr th:only-of-type {\n",
       "        vertical-align: middle;\n",
       "    }\n",
       "\n",
       "    .dataframe tbody tr th {\n",
       "        vertical-align: top;\n",
       "    }\n",
       "\n",
       "    .dataframe thead th {\n",
       "        text-align: right;\n",
       "    }\n",
       "</style>\n",
       "<table border=\"1\" class=\"dataframe\">\n",
       "  <thead>\n",
       "    <tr style=\"text-align: right;\">\n",
       "      <th></th>\n",
       "      <th>Hypothesis</th>\n",
       "      <th>Reach</th>\n",
       "      <th>Impact</th>\n",
       "      <th>Confidence</th>\n",
       "      <th>Efforts</th>\n",
       "    </tr>\n",
       "  </thead>\n",
       "  <tbody>\n",
       "    <tr>\n",
       "      <th>0</th>\n",
       "      <td>Добавить два новых канала привлечения трафика, что позволит привлекать на 30% больше пользователей</td>\n",
       "      <td>3</td>\n",
       "      <td>10</td>\n",
       "      <td>8</td>\n",
       "      <td>6</td>\n",
       "    </tr>\n",
       "    <tr>\n",
       "      <th>1</th>\n",
       "      <td>Запустить собственную службу доставки, что сократит срок доставки заказов</td>\n",
       "      <td>2</td>\n",
       "      <td>5</td>\n",
       "      <td>4</td>\n",
       "      <td>10</td>\n",
       "    </tr>\n",
       "    <tr>\n",
       "      <th>2</th>\n",
       "      <td>Добавить блоки рекомендаций товаров на сайт интернет магазина, чтобы повысить конверсию и средний чек заказа</td>\n",
       "      <td>8</td>\n",
       "      <td>3</td>\n",
       "      <td>7</td>\n",
       "      <td>3</td>\n",
       "    </tr>\n",
       "    <tr>\n",
       "      <th>3</th>\n",
       "      <td>Изменить структура категорий, что увеличит конверсию, т.к. пользователи быстрее найдут нужный товар</td>\n",
       "      <td>8</td>\n",
       "      <td>3</td>\n",
       "      <td>3</td>\n",
       "      <td>8</td>\n",
       "    </tr>\n",
       "    <tr>\n",
       "      <th>4</th>\n",
       "      <td>Изменить цвет фона главной страницы, чтобы увеличить вовлеченность пользователей</td>\n",
       "      <td>3</td>\n",
       "      <td>1</td>\n",
       "      <td>1</td>\n",
       "      <td>1</td>\n",
       "    </tr>\n",
       "    <tr>\n",
       "      <th>5</th>\n",
       "      <td>Добавить страницу отзывов клиентов о магазине, что позволит увеличить количество заказов</td>\n",
       "      <td>3</td>\n",
       "      <td>2</td>\n",
       "      <td>2</td>\n",
       "      <td>3</td>\n",
       "    </tr>\n",
       "    <tr>\n",
       "      <th>6</th>\n",
       "      <td>Показать на главной странице баннеры с актуальными акциями и распродажами, чтобы увеличить конверсию</td>\n",
       "      <td>5</td>\n",
       "      <td>3</td>\n",
       "      <td>8</td>\n",
       "      <td>3</td>\n",
       "    </tr>\n",
       "    <tr>\n",
       "      <th>7</th>\n",
       "      <td>Добавить форму подписки на все основные страницы, чтобы собрать базу клиентов для email-рассылок</td>\n",
       "      <td>10</td>\n",
       "      <td>7</td>\n",
       "      <td>8</td>\n",
       "      <td>5</td>\n",
       "    </tr>\n",
       "    <tr>\n",
       "      <th>8</th>\n",
       "      <td>Запустить акцию, дающую скидку на товар в день рождения</td>\n",
       "      <td>1</td>\n",
       "      <td>9</td>\n",
       "      <td>9</td>\n",
       "      <td>5</td>\n",
       "    </tr>\n",
       "  </tbody>\n",
       "</table>\n",
       "</div>"
      ],
      "text/plain": [
       "                                                                                                     Hypothesis  \\\n",
       "0  Добавить два новых канала привлечения трафика, что позволит привлекать на 30% больше пользователей             \n",
       "1  Запустить собственную службу доставки, что сократит срок доставки заказов                                      \n",
       "2  Добавить блоки рекомендаций товаров на сайт интернет магазина, чтобы повысить конверсию и средний чек заказа   \n",
       "3  Изменить структура категорий, что увеличит конверсию, т.к. пользователи быстрее найдут нужный товар            \n",
       "4  Изменить цвет фона главной страницы, чтобы увеличить вовлеченность пользователей                               \n",
       "5  Добавить страницу отзывов клиентов о магазине, что позволит увеличить количество заказов                       \n",
       "6  Показать на главной странице баннеры с актуальными акциями и распродажами, чтобы увеличить конверсию           \n",
       "7  Добавить форму подписки на все основные страницы, чтобы собрать базу клиентов для email-рассылок               \n",
       "8  Запустить акцию, дающую скидку на товар в день рождения                                                        \n",
       "\n",
       "   Reach  Impact  Confidence  Efforts  \n",
       "0  3      10      8           6        \n",
       "1  2      5       4           10       \n",
       "2  8      3       7           3        \n",
       "3  8      3       3           8        \n",
       "4  3      1       1           1        \n",
       "5  3      2       2           3        \n",
       "6  5      3       8           3        \n",
       "7  10     7       8           5        \n",
       "8  1      9       9           5        "
      ]
     },
     "execution_count": 14,
     "metadata": {},
     "output_type": "execute_result"
    }
   ],
   "source": [
    "pd.set_option('display.max_colwidth', False)\n",
    "\n",
    "hypothesis"
   ]
  },
  {
   "cell_type": "markdown",
   "id": "b00da00a",
   "metadata": {},
   "source": [
    "##### Видим:\n",
    "\n",
    "В принципе этот пункт делается для \"методологического порядка\" поскольку по условиям проекта гипотезы формировались (и записывалисть в датасет) при нашем учатстии и значит \"неожиданностей\" юыть не должно.\n",
    "\n",
    "##### Итак:\n",
    "1. В датасете 5 столбцов, что совпадает с описанием проекта:                 \n",
    "    • Hypothesis — краткое описание гипотезы;\n",
    "    • Reach — охват пользователей по 10-балльной шкале;\n",
    "    • Impact — влияние на пользователей по 10-балльной шкале;\n",
    "    • Confidence — уверенность в гипотезе по 10-балльной шкале;\n",
    "    • Efforts — затраты ресурсов на проверку гипотезы по 10-балльной шкале. \n",
    "      Чем больше значение Efforts, тем дороже проверка гипотезы. \n",
    "      \n",
    "2. Типы столбцов соответствуют их природе: формулировка гипотезы - это символьная строка (тип object, остальные столбцы        имеют тип int64, поскольку в них записаны оценки по 10-ти бальной шкале соответствующих параметров гипотезы для            фреймфорков ICE и RICE.\n",
    "\n",
    "3. Датафрейм содержит 9 строк - по количеству сформулированных гипотез в соответстсвии с описанием.            \n",
    "              \n",
    "4. Поскольку и строк и столбцов немного - сразу видно, что пропусков и дубликатов в датасете нет (даже если забыть, что мы его сами же и формировали).\n",
    "\n",
    "5. Единственное, что наверное есть смысл сделать в этом датафрейме с точки зрения предобработки - это привести названия столбцов к нижнему регистру."
   ]
  },
  {
   "cell_type": "code",
   "execution_count": 15,
   "id": "76fb719d",
   "metadata": {},
   "outputs": [
    {
     "data": {
      "text/plain": [
       "Index(['hypothesis', 'reach', 'impact', 'confidence', 'efforts'], dtype='object')"
      ]
     },
     "execution_count": 15,
     "metadata": {},
     "output_type": "execute_result"
    }
   ],
   "source": [
    "# преобразуем столбцы\n",
    "hypothesis.columns = hypothesis.columns.str.lower()\n",
    "\n",
    "# смотрим что получилось\n",
    "hypothesis.columns"
   ]
  },
  {
   "cell_type": "markdown",
   "id": "ec759bc6",
   "metadata": {},
   "source": [
    "Наименования столбцов этого датасета теперь в нижнем регистре"
   ]
  },
  {
   "cell_type": "markdown",
   "id": "6693f0c1",
   "metadata": {},
   "source": [
    "Теперь посмотрим на датасет с данными о покупках - orders_ini:"
   ]
  },
  {
   "cell_type": "code",
   "execution_count": 16,
   "id": "c3132958",
   "metadata": {},
   "outputs": [
    {
     "name": "stdout",
     "output_type": "stream",
     "text": [
      "<class 'pandas.core.frame.DataFrame'>\n",
      "RangeIndex: 1197 entries, 0 to 1196\n",
      "Data columns (total 5 columns):\n",
      " #   Column         Non-Null Count  Dtype \n",
      "---  ------         --------------  ----- \n",
      " 0   transactionId  1197 non-null   int64 \n",
      " 1   visitorId      1197 non-null   int64 \n",
      " 2   date           1197 non-null   object\n",
      " 3   revenue        1197 non-null   int64 \n",
      " 4   group          1197 non-null   object\n",
      "dtypes: int64(3), object(2)\n",
      "memory usage: 46.9+ KB\n"
     ]
    },
    {
     "data": {
      "text/html": [
       "<div>\n",
       "<style scoped>\n",
       "    .dataframe tbody tr th:only-of-type {\n",
       "        vertical-align: middle;\n",
       "    }\n",
       "\n",
       "    .dataframe tbody tr th {\n",
       "        vertical-align: top;\n",
       "    }\n",
       "\n",
       "    .dataframe thead th {\n",
       "        text-align: right;\n",
       "    }\n",
       "</style>\n",
       "<table border=\"1\" class=\"dataframe\">\n",
       "  <thead>\n",
       "    <tr style=\"text-align: right;\">\n",
       "      <th></th>\n",
       "      <th>transactionId</th>\n",
       "      <th>visitorId</th>\n",
       "      <th>date</th>\n",
       "      <th>revenue</th>\n",
       "      <th>group</th>\n",
       "    </tr>\n",
       "  </thead>\n",
       "  <tbody>\n",
       "    <tr>\n",
       "      <th>0</th>\n",
       "      <td>3667963787</td>\n",
       "      <td>3312258926</td>\n",
       "      <td>2019-08-15</td>\n",
       "      <td>1650</td>\n",
       "      <td>B</td>\n",
       "    </tr>\n",
       "    <tr>\n",
       "      <th>1</th>\n",
       "      <td>2804400009</td>\n",
       "      <td>3642806036</td>\n",
       "      <td>2019-08-15</td>\n",
       "      <td>730</td>\n",
       "      <td>B</td>\n",
       "    </tr>\n",
       "    <tr>\n",
       "      <th>2</th>\n",
       "      <td>2961555356</td>\n",
       "      <td>4069496402</td>\n",
       "      <td>2019-08-15</td>\n",
       "      <td>400</td>\n",
       "      <td>A</td>\n",
       "    </tr>\n",
       "    <tr>\n",
       "      <th>3</th>\n",
       "      <td>3797467345</td>\n",
       "      <td>1196621759</td>\n",
       "      <td>2019-08-15</td>\n",
       "      <td>9759</td>\n",
       "      <td>B</td>\n",
       "    </tr>\n",
       "    <tr>\n",
       "      <th>4</th>\n",
       "      <td>2282983706</td>\n",
       "      <td>2322279887</td>\n",
       "      <td>2019-08-15</td>\n",
       "      <td>2308</td>\n",
       "      <td>B</td>\n",
       "    </tr>\n",
       "    <tr>\n",
       "      <th>...</th>\n",
       "      <td>...</td>\n",
       "      <td>...</td>\n",
       "      <td>...</td>\n",
       "      <td>...</td>\n",
       "      <td>...</td>\n",
       "    </tr>\n",
       "    <tr>\n",
       "      <th>1192</th>\n",
       "      <td>2662137336</td>\n",
       "      <td>3733762160</td>\n",
       "      <td>2019-08-14</td>\n",
       "      <td>6490</td>\n",
       "      <td>B</td>\n",
       "    </tr>\n",
       "    <tr>\n",
       "      <th>1193</th>\n",
       "      <td>2203539145</td>\n",
       "      <td>370388673</td>\n",
       "      <td>2019-08-14</td>\n",
       "      <td>3190</td>\n",
       "      <td>A</td>\n",
       "    </tr>\n",
       "    <tr>\n",
       "      <th>1194</th>\n",
       "      <td>1807773912</td>\n",
       "      <td>573423106</td>\n",
       "      <td>2019-08-14</td>\n",
       "      <td>10550</td>\n",
       "      <td>A</td>\n",
       "    </tr>\n",
       "    <tr>\n",
       "      <th>1195</th>\n",
       "      <td>1947021204</td>\n",
       "      <td>1614305549</td>\n",
       "      <td>2019-08-14</td>\n",
       "      <td>100</td>\n",
       "      <td>A</td>\n",
       "    </tr>\n",
       "    <tr>\n",
       "      <th>1196</th>\n",
       "      <td>3936777065</td>\n",
       "      <td>2108080724</td>\n",
       "      <td>2019-08-15</td>\n",
       "      <td>202740</td>\n",
       "      <td>B</td>\n",
       "    </tr>\n",
       "  </tbody>\n",
       "</table>\n",
       "<p>1197 rows × 5 columns</p>\n",
       "</div>"
      ],
      "text/plain": [
       "      transactionId   visitorId        date  revenue group\n",
       "0     3667963787     3312258926  2019-08-15  1650     B   \n",
       "1     2804400009     3642806036  2019-08-15  730      B   \n",
       "2     2961555356     4069496402  2019-08-15  400      A   \n",
       "3     3797467345     1196621759  2019-08-15  9759     B   \n",
       "4     2282983706     2322279887  2019-08-15  2308     B   \n",
       "...          ...            ...         ...   ...    ..   \n",
       "1192  2662137336     3733762160  2019-08-14  6490     B   \n",
       "1193  2203539145     370388673   2019-08-14  3190     A   \n",
       "1194  1807773912     573423106   2019-08-14  10550    A   \n",
       "1195  1947021204     1614305549  2019-08-14  100      A   \n",
       "1196  3936777065     2108080724  2019-08-15  202740   B   \n",
       "\n",
       "[1197 rows x 5 columns]"
      ]
     },
     "execution_count": 16,
     "metadata": {},
     "output_type": "execute_result"
    }
   ],
   "source": [
    "orders.info()\n",
    "orders"
   ]
  },
  {
   "cell_type": "markdown",
   "id": "c3910908",
   "metadata": {},
   "source": [
    "##### Видим:\n",
    "\n",
    "1. В полном соответствии с описанием в датасете 5 столбцов:                 \n",
    "    • transactionId — идентификатор заказа;       \n",
    "    • visitorId — идентификатор пользователя, совершившего заказ;        \n",
    "    • date — дата, когда был совершён заказ;        \n",
    "    • revenue — выручка заказа;       \n",
    "    • group — группа A/B-теста, в которую попал заказ.\n",
    "    \n",
    "2. В типах столбцов есть два столбца, которые вызывают вопросы:    \n",
    "    • столбец date имеет тип object, то есть строчное \"описание словами\" даты заказа. По всей видимости нужно перевести в         тип datetime;       \n",
    "    • столбец revenue имеет тип int64. Оставим этот столбец как есть - будем предполагать, что ценовая политика интернет-         магазина такова, что все цены выражены целым количеством рублей. Это предположение видится достаточно правдоподобным,       хотя в реальной практике не лишне было бы убедится в этом впрямую.\n",
    "\n",
    "3. Датафрейм содержит 1197 строк (нечетное количество и цифра не очень \"ровная\"). Хорошо бы сразу убедиться, что разделены они примерно поровну между группами А и В.            \n",
    "              \n",
    "4. На взгляд пропусков и убликатов нет, но нужно бы убедиться в этом непосредственно.\n",
    "\n",
    "5. Хорошо бы привести названия столбцов к \"питоновскому стилю\"."
   ]
  },
  {
   "cell_type": "markdown",
   "id": "1e7ab7d2",
   "metadata": {},
   "source": [
    "Начнем с конца - переименуем столбцы:"
   ]
  },
  {
   "cell_type": "code",
   "execution_count": 17,
   "id": "68553530",
   "metadata": {},
   "outputs": [
    {
     "data": {
      "text/plain": [
       "Index(['transaction_id', 'visitor_id', 'date', 'revenue', 'group'], dtype='object')"
      ]
     },
     "execution_count": 17,
     "metadata": {},
     "output_type": "execute_result"
    }
   ],
   "source": [
    "# переименовуем столбцы\n",
    "orders.rename(columns= {'transactionId': 'transaction_id', 'visitorId': 'visitor_id'}, inplace=True )\n",
    "\n",
    "# смотрим что получилось\n",
    "orders.columns"
   ]
  },
  {
   "cell_type": "markdown",
   "id": "888999ef",
   "metadata": {},
   "source": [
    "Наименования столбцов выглядят правильно.\n",
    "\n",
    "Теперь изменим тип данных для столбца 'date'"
   ]
  },
  {
   "cell_type": "code",
   "execution_count": 18,
   "id": "d83d1319",
   "metadata": {},
   "outputs": [
    {
     "data": {
      "text/plain": [
       "dtype('<M8[ns]')"
      ]
     },
     "metadata": {},
     "output_type": "display_data"
    },
    {
     "data": {
      "text/html": [
       "<div>\n",
       "<style scoped>\n",
       "    .dataframe tbody tr th:only-of-type {\n",
       "        vertical-align: middle;\n",
       "    }\n",
       "\n",
       "    .dataframe tbody tr th {\n",
       "        vertical-align: top;\n",
       "    }\n",
       "\n",
       "    .dataframe thead th {\n",
       "        text-align: right;\n",
       "    }\n",
       "</style>\n",
       "<table border=\"1\" class=\"dataframe\">\n",
       "  <thead>\n",
       "    <tr style=\"text-align: right;\">\n",
       "      <th></th>\n",
       "      <th>transaction_id</th>\n",
       "      <th>visitor_id</th>\n",
       "      <th>date</th>\n",
       "      <th>revenue</th>\n",
       "      <th>group</th>\n",
       "    </tr>\n",
       "  </thead>\n",
       "  <tbody>\n",
       "    <tr>\n",
       "      <th>0</th>\n",
       "      <td>3667963787</td>\n",
       "      <td>3312258926</td>\n",
       "      <td>2019-08-15</td>\n",
       "      <td>1650</td>\n",
       "      <td>B</td>\n",
       "    </tr>\n",
       "  </tbody>\n",
       "</table>\n",
       "</div>"
      ],
      "text/plain": [
       "   transaction_id  visitor_id       date  revenue group\n",
       "0  3667963787      3312258926 2019-08-15  1650     B   "
      ]
     },
     "execution_count": 18,
     "metadata": {},
     "output_type": "execute_result"
    }
   ],
   "source": [
    "# преобразуем к типу datetime и оставим только дату\n",
    "orders['date'] = pd.to_datetime(orders['date']).dt.normalize()\n",
    "\n",
    "# смотрим что получилось\n",
    "display(orders['date'].dtype)\n",
    "orders.head(1)"
   ]
  },
  {
   "cell_type": "markdown",
   "id": "54ab2461",
   "metadata": {},
   "source": [
    "Типы данных в порядке.\n",
    "\n",
    "Посмотрим есть ли пропуски в данных"
   ]
  },
  {
   "cell_type": "code",
   "execution_count": 19,
   "id": "20083a39",
   "metadata": {},
   "outputs": [
    {
     "data": {
      "text/plain": [
       "transaction_id    0\n",
       "visitor_id        0\n",
       "date              0\n",
       "revenue           0\n",
       "group             0\n",
       "dtype: int64"
      ]
     },
     "execution_count": 19,
     "metadata": {},
     "output_type": "execute_result"
    }
   ],
   "source": [
    "orders.isna().sum()"
   ]
  },
  {
   "cell_type": "markdown",
   "id": "610124ae",
   "metadata": {},
   "source": [
    "Пропусков нет.\n",
    "\n",
    "Посмотрим есть ли дубликаты"
   ]
  },
  {
   "cell_type": "code",
   "execution_count": 20,
   "id": "aa12d8c1",
   "metadata": {},
   "outputs": [
    {
     "data": {
      "text/plain": [
       "0"
      ]
     },
     "execution_count": 20,
     "metadata": {},
     "output_type": "execute_result"
    }
   ],
   "source": [
    "orders.duplicated().sum()"
   ]
  },
  {
   "cell_type": "markdown",
   "id": "ad80c4b5",
   "metadata": {},
   "source": [
    "Дубликатов тоже нет.\n",
    "\n",
    "Посмотрим как распределены данные по группам А и В"
   ]
  },
  {
   "cell_type": "code",
   "execution_count": 21,
   "id": "cbe42779",
   "metadata": {},
   "outputs": [
    {
     "name": "stdout",
     "output_type": "stream",
     "text": [
      "A  557\n",
      "B  640\n"
     ]
    }
   ],
   "source": [
    "print('A ', orders[orders['group'] == 'A'].value_counts().sum(), sep=' ')\n",
    "print('B ', orders[orders['group'] == 'B'].value_counts().sum(), sep=' ')"
   ]
  },
  {
   "cell_type": "markdown",
   "id": "f4c8584c",
   "metadata": {},
   "source": [
    "Суммарное количество заказов групп А и В 557+640=1197, что совпадает с полным количеством строк в датафрейме. Значит никаких \"посторонних\" данных нет. При этом заказов в группе В ориентировочно на 15% больше, чем в группе А.\n",
    "\n",
    "В завершение посмотрим на основные численные парметры этого датафрейма (фактически применительно только к датам и к колонке revenue."
   ]
  },
  {
   "cell_type": "code",
   "execution_count": 22,
   "id": "5e749f57",
   "metadata": {},
   "outputs": [
    {
     "data": {
      "text/html": [
       "<div>\n",
       "<style scoped>\n",
       "    .dataframe tbody tr th:only-of-type {\n",
       "        vertical-align: middle;\n",
       "    }\n",
       "\n",
       "    .dataframe tbody tr th {\n",
       "        vertical-align: top;\n",
       "    }\n",
       "\n",
       "    .dataframe thead th {\n",
       "        text-align: right;\n",
       "    }\n",
       "</style>\n",
       "<table border=\"1\" class=\"dataframe\">\n",
       "  <thead>\n",
       "    <tr style=\"text-align: right;\">\n",
       "      <th></th>\n",
       "      <th>transaction_id</th>\n",
       "      <th>visitor_id</th>\n",
       "      <th>date</th>\n",
       "      <th>revenue</th>\n",
       "    </tr>\n",
       "  </thead>\n",
       "  <tbody>\n",
       "    <tr>\n",
       "      <th>count</th>\n",
       "      <td>1.197000e+03</td>\n",
       "      <td>1.197000e+03</td>\n",
       "      <td>1197</td>\n",
       "      <td>1.197000e+03</td>\n",
       "    </tr>\n",
       "    <tr>\n",
       "      <th>mean</th>\n",
       "      <td>2.155621e+09</td>\n",
       "      <td>2.165960e+09</td>\n",
       "      <td>2019-08-15 13:06:46.015037696</td>\n",
       "      <td>8.348006e+03</td>\n",
       "    </tr>\n",
       "    <tr>\n",
       "      <th>min</th>\n",
       "      <td>1.062393e+06</td>\n",
       "      <td>5.114589e+06</td>\n",
       "      <td>2019-08-01 00:00:00</td>\n",
       "      <td>5.000000e+01</td>\n",
       "    </tr>\n",
       "    <tr>\n",
       "      <th>25%</th>\n",
       "      <td>1.166776e+09</td>\n",
       "      <td>1.111826e+09</td>\n",
       "      <td>2019-08-08 00:00:00</td>\n",
       "      <td>1.220000e+03</td>\n",
       "    </tr>\n",
       "    <tr>\n",
       "      <th>50%</th>\n",
       "      <td>2.145194e+09</td>\n",
       "      <td>2.217985e+09</td>\n",
       "      <td>2019-08-15 00:00:00</td>\n",
       "      <td>2.978000e+03</td>\n",
       "    </tr>\n",
       "    <tr>\n",
       "      <th>75%</th>\n",
       "      <td>3.237740e+09</td>\n",
       "      <td>3.177606e+09</td>\n",
       "      <td>2019-08-23 00:00:00</td>\n",
       "      <td>8.290000e+03</td>\n",
       "    </tr>\n",
       "    <tr>\n",
       "      <th>max</th>\n",
       "      <td>4.293856e+09</td>\n",
       "      <td>4.283872e+09</td>\n",
       "      <td>2019-08-31 00:00:00</td>\n",
       "      <td>1.294500e+06</td>\n",
       "    </tr>\n",
       "    <tr>\n",
       "      <th>std</th>\n",
       "      <td>1.229085e+09</td>\n",
       "      <td>1.236014e+09</td>\n",
       "      <td>NaN</td>\n",
       "      <td>3.919113e+04</td>\n",
       "    </tr>\n",
       "  </tbody>\n",
       "</table>\n",
       "</div>"
      ],
      "text/plain": [
       "       transaction_id    visitor_id                           date  \\\n",
       "count  1.197000e+03    1.197000e+03  1197                            \n",
       "mean   2.155621e+09    2.165960e+09  2019-08-15 13:06:46.015037696   \n",
       "min    1.062393e+06    5.114589e+06  2019-08-01 00:00:00             \n",
       "25%    1.166776e+09    1.111826e+09  2019-08-08 00:00:00             \n",
       "50%    2.145194e+09    2.217985e+09  2019-08-15 00:00:00             \n",
       "75%    3.237740e+09    3.177606e+09  2019-08-23 00:00:00             \n",
       "max    4.293856e+09    4.283872e+09  2019-08-31 00:00:00             \n",
       "std    1.229085e+09    1.236014e+09  NaN                             \n",
       "\n",
       "            revenue  \n",
       "count  1.197000e+03  \n",
       "mean   8.348006e+03  \n",
       "min    5.000000e+01  \n",
       "25%    1.220000e+03  \n",
       "50%    2.978000e+03  \n",
       "75%    8.290000e+03  \n",
       "max    1.294500e+06  \n",
       "std    3.919113e+04  "
      ]
     },
     "execution_count": 22,
     "metadata": {},
     "output_type": "execute_result"
    }
   ],
   "source": [
    "orders.describe()"
   ]
  },
  {
   "cell_type": "markdown",
   "id": "4fd83227",
   "metadata": {},
   "source": [
    "##### Можно отметить, два момента:\n",
    "\n",
    "1. В соответствии с данными этого датасета тестирование проводилось в период с 1-го по 31-е августа 2019 года. Нужно будет сопоставить эти даты с датами из датасета visitors.\n",
    "\n",
    "2. В колонке revenue видно, что:\n",
    "   • данные есть за каждую покупку,\n",
    "   • среднее в 2.5 раза больше медианы. Возможно есть выбросы в сторонц больших сумм,\n",
    "   • минимальное значение сильно отличается и от медианы и даже от первого квартиля. По всей видимости есть выбросы так-же      в нижней части (маленькие, возможно тестовые суммы).\n",
    "\n",
    "На всякий случай проверим количество дней теста, отраженных в этом датасете."
   ]
  },
  {
   "cell_type": "code",
   "execution_count": 23,
   "id": "b799ad21",
   "metadata": {},
   "outputs": [
    {
     "data": {
      "text/plain": [
       "31"
      ]
     },
     "execution_count": 23,
     "metadata": {},
     "output_type": "execute_result"
    }
   ],
   "source": [
    "orders['date'].nunique()"
   ]
  },
  {
   "cell_type": "markdown",
   "id": "692fb2d9",
   "metadata": {},
   "source": [
    "Данные о покупках есть за все 31 день тестирования в Августе 2019 года.\n",
    "\n",
    "Таким образом с датасетом orders всё в порядке.\n",
    "\n",
    "Теперь посмотрим на датасет с данными о количестве пользователей - visitors"
   ]
  },
  {
   "cell_type": "code",
   "execution_count": 24,
   "id": "23ce5636",
   "metadata": {},
   "outputs": [
    {
     "name": "stdout",
     "output_type": "stream",
     "text": [
      "<class 'pandas.core.frame.DataFrame'>\n",
      "RangeIndex: 62 entries, 0 to 61\n",
      "Data columns (total 3 columns):\n",
      " #   Column    Non-Null Count  Dtype \n",
      "---  ------    --------------  ----- \n",
      " 0   date      62 non-null     object\n",
      " 1   group     62 non-null     object\n",
      " 2   visitors  62 non-null     int64 \n",
      "dtypes: int64(1), object(2)\n",
      "memory usage: 1.6+ KB\n"
     ]
    },
    {
     "data": {
      "text/html": [
       "<div>\n",
       "<style scoped>\n",
       "    .dataframe tbody tr th:only-of-type {\n",
       "        vertical-align: middle;\n",
       "    }\n",
       "\n",
       "    .dataframe tbody tr th {\n",
       "        vertical-align: top;\n",
       "    }\n",
       "\n",
       "    .dataframe thead th {\n",
       "        text-align: right;\n",
       "    }\n",
       "</style>\n",
       "<table border=\"1\" class=\"dataframe\">\n",
       "  <thead>\n",
       "    <tr style=\"text-align: right;\">\n",
       "      <th></th>\n",
       "      <th>date</th>\n",
       "      <th>group</th>\n",
       "      <th>visitors</th>\n",
       "    </tr>\n",
       "  </thead>\n",
       "  <tbody>\n",
       "    <tr>\n",
       "      <th>0</th>\n",
       "      <td>2019-08-01</td>\n",
       "      <td>A</td>\n",
       "      <td>719</td>\n",
       "    </tr>\n",
       "    <tr>\n",
       "      <th>1</th>\n",
       "      <td>2019-08-02</td>\n",
       "      <td>A</td>\n",
       "      <td>619</td>\n",
       "    </tr>\n",
       "    <tr>\n",
       "      <th>2</th>\n",
       "      <td>2019-08-03</td>\n",
       "      <td>A</td>\n",
       "      <td>507</td>\n",
       "    </tr>\n",
       "    <tr>\n",
       "      <th>3</th>\n",
       "      <td>2019-08-04</td>\n",
       "      <td>A</td>\n",
       "      <td>717</td>\n",
       "    </tr>\n",
       "    <tr>\n",
       "      <th>4</th>\n",
       "      <td>2019-08-05</td>\n",
       "      <td>A</td>\n",
       "      <td>756</td>\n",
       "    </tr>\n",
       "    <tr>\n",
       "      <th>...</th>\n",
       "      <td>...</td>\n",
       "      <td>...</td>\n",
       "      <td>...</td>\n",
       "    </tr>\n",
       "    <tr>\n",
       "      <th>57</th>\n",
       "      <td>2019-08-27</td>\n",
       "      <td>B</td>\n",
       "      <td>720</td>\n",
       "    </tr>\n",
       "    <tr>\n",
       "      <th>58</th>\n",
       "      <td>2019-08-28</td>\n",
       "      <td>B</td>\n",
       "      <td>654</td>\n",
       "    </tr>\n",
       "    <tr>\n",
       "      <th>59</th>\n",
       "      <td>2019-08-29</td>\n",
       "      <td>B</td>\n",
       "      <td>531</td>\n",
       "    </tr>\n",
       "    <tr>\n",
       "      <th>60</th>\n",
       "      <td>2019-08-30</td>\n",
       "      <td>B</td>\n",
       "      <td>490</td>\n",
       "    </tr>\n",
       "    <tr>\n",
       "      <th>61</th>\n",
       "      <td>2019-08-31</td>\n",
       "      <td>B</td>\n",
       "      <td>718</td>\n",
       "    </tr>\n",
       "  </tbody>\n",
       "</table>\n",
       "<p>62 rows × 3 columns</p>\n",
       "</div>"
      ],
      "text/plain": [
       "          date group  visitors\n",
       "0   2019-08-01  A     719     \n",
       "1   2019-08-02  A     619     \n",
       "2   2019-08-03  A     507     \n",
       "3   2019-08-04  A     717     \n",
       "4   2019-08-05  A     756     \n",
       "..         ... ..     ...     \n",
       "57  2019-08-27  B     720     \n",
       "58  2019-08-28  B     654     \n",
       "59  2019-08-29  B     531     \n",
       "60  2019-08-30  B     490     \n",
       "61  2019-08-31  B     718     \n",
       "\n",
       "[62 rows x 3 columns]"
      ]
     },
     "execution_count": 24,
     "metadata": {},
     "output_type": "execute_result"
    }
   ],
   "source": [
    "visitors.info()\n",
    "visitors"
   ]
  },
  {
   "cell_type": "markdown",
   "id": "917f49bc",
   "metadata": {},
   "source": [
    "##### Видим:\n",
    "\n",
    "1. Как и дано в описании датафрейм visitors имеет 3 столбца:                 \n",
    "    • date — дата теста;       \n",
    "    • group — группа теста;        \n",
    "    • visitors — количество пользователей в указанную дату в указанной группе.\n",
    "    \n",
    "2. По типам столбцов только столбец date имеет тип object, то есть по всей видимости нужно перевести его в тип datetime.\n",
    "\n",
    "3. Датафрейм содержит 62 строки. На взгляд такое количество дней для проведения А/В теста видится репрезентативным.  \n",
    "   В этом случае так-же неплохо было бы убедиться, что пользователи разделены примерно поровну между группами А и В.          Кроме того хорошо бы убедиться, что за каждую дату есть данные и по группе А и по группе В          \n",
    "              \n",
    "4. На взгляд пропусков и убликатов нет, но нужно бы убедиться в этом непосредственно.\n",
    "\n",
    "5. И хорошо бы проверить, что диапазон дат проведения тестов в датафрейме visitors совпадает с диапазоном в датафрейме orders."
   ]
  },
  {
   "cell_type": "markdown",
   "id": "c86e5960",
   "metadata": {},
   "source": [
    "##### Можно отметить, что:\n",
    "\n",
    "1. В соответствии с данными и этого датасета тестирование так-же проводилось в период с 1-го по 31-е августа 2019 года. Эти даты совпадают с датами из датасета orders.\n",
    "\n",
    "2. В колонке visitors видно, что:     \n",
    "   • данные о количестве посетителей есть за каждую дату тестов,       \n",
    "   • среднее количество посетителей ниже медианы. Кроме того минимально значение сильно отличается и от медианы и даже от первого квартиля. Вполне возможно причина этому выбросы в сторону дней с относительно небольшой посещаемостью."
   ]
  },
  {
   "cell_type": "markdown",
   "id": "1aa1fa82",
   "metadata": {},
   "source": [
    "##### Итак:\n",
    "\n",
    "Провели предобработку датафреймов, которые в дальнейшем будем исследовать, \n",
    "проверили соответствие данных в различных датафреймах друг другу,    \n",
    "отметили основные особенности данных, которые заметны на данном этапе,    \n",
    "критических проблем или несоответствий не выявлено.\n",
    "\n",
    "В результате считаем, что предобработка успешно завершена и можно переходить  к приоритезации гипотез и анализу результатов А/В тестирования."
   ]
  },
  {
   "cell_type": "markdown",
   "id": "7d02b7a5",
   "metadata": {},
   "source": [
    "Изменим тип данных для столбца 'date' на datetime"
   ]
  },
  {
   "cell_type": "code",
   "execution_count": 25,
   "id": "96751d0c",
   "metadata": {},
   "outputs": [
    {
     "data": {
      "text/plain": [
       "dtype('<M8[ns]')"
      ]
     },
     "metadata": {},
     "output_type": "display_data"
    },
    {
     "data": {
      "text/html": [
       "<div>\n",
       "<style scoped>\n",
       "    .dataframe tbody tr th:only-of-type {\n",
       "        vertical-align: middle;\n",
       "    }\n",
       "\n",
       "    .dataframe tbody tr th {\n",
       "        vertical-align: top;\n",
       "    }\n",
       "\n",
       "    .dataframe thead th {\n",
       "        text-align: right;\n",
       "    }\n",
       "</style>\n",
       "<table border=\"1\" class=\"dataframe\">\n",
       "  <thead>\n",
       "    <tr style=\"text-align: right;\">\n",
       "      <th></th>\n",
       "      <th>date</th>\n",
       "      <th>group</th>\n",
       "      <th>visitors</th>\n",
       "    </tr>\n",
       "  </thead>\n",
       "  <tbody>\n",
       "    <tr>\n",
       "      <th>0</th>\n",
       "      <td>2019-08-01</td>\n",
       "      <td>A</td>\n",
       "      <td>719</td>\n",
       "    </tr>\n",
       "  </tbody>\n",
       "</table>\n",
       "</div>"
      ],
      "text/plain": [
       "        date group  visitors\n",
       "0 2019-08-01  A     719     "
      ]
     },
     "execution_count": 25,
     "metadata": {},
     "output_type": "execute_result"
    }
   ],
   "source": [
    "# преобразуем к типу datetime и оставим только дату\n",
    "visitors['date'] = pd.to_datetime(visitors['date']).dt.normalize()\n",
    "\n",
    "# смотрим что получилось\n",
    "display(visitors['date'].dtype)\n",
    "visitors.head(1)"
   ]
  },
  {
   "cell_type": "markdown",
   "id": "2a5c7f4b",
   "metadata": {},
   "source": [
    "Типы данных в порядке.\n",
    "\n",
    "Посмотрим есть ли пропуски в данных"
   ]
  },
  {
   "cell_type": "code",
   "execution_count": 26,
   "id": "a9b33c6f",
   "metadata": {},
   "outputs": [
    {
     "data": {
      "text/plain": [
       "date        0\n",
       "group       0\n",
       "visitors    0\n",
       "dtype: int64"
      ]
     },
     "execution_count": 26,
     "metadata": {},
     "output_type": "execute_result"
    }
   ],
   "source": [
    "visitors.isna().sum()"
   ]
  },
  {
   "cell_type": "markdown",
   "id": "961c888d",
   "metadata": {},
   "source": [
    "Пропусков нет.\n",
    "\n",
    "Посмотрим есть ли дубликаты"
   ]
  },
  {
   "cell_type": "markdown",
   "id": "ed34a899",
   "metadata": {},
   "source": [
    "\n"
   ]
  },
  {
   "cell_type": "markdown",
   "id": "09b7c6d1",
   "metadata": {},
   "source": [
    "## Шаг 2. Приоритизация гипотез."
   ]
  },
  {
   "cell_type": "markdown",
   "id": "554aecf0",
   "metadata": {},
   "source": [
    "Работать будем с датафреймом hypothesis."
   ]
  },
  {
   "cell_type": "code",
   "execution_count": 30,
   "id": "53f7fb3c",
   "metadata": {},
   "outputs": [
    {
     "data": {
      "text/html": [
       "<div>\n",
       "<style scoped>\n",
       "    .dataframe tbody tr th:only-of-type {\n",
       "        vertical-align: middle;\n",
       "    }\n",
       "\n",
       "    .dataframe tbody tr th {\n",
       "        vertical-align: top;\n",
       "    }\n",
       "\n",
       "    .dataframe thead th {\n",
       "        text-align: right;\n",
       "    }\n",
       "</style>\n",
       "<table border=\"1\" class=\"dataframe\">\n",
       "  <thead>\n",
       "    <tr style=\"text-align: right;\">\n",
       "      <th></th>\n",
       "      <th>hypothesis</th>\n",
       "      <th>reach</th>\n",
       "      <th>impact</th>\n",
       "      <th>confidence</th>\n",
       "      <th>efforts</th>\n",
       "    </tr>\n",
       "  </thead>\n",
       "  <tbody>\n",
       "    <tr>\n",
       "      <th>0</th>\n",
       "      <td>Добавить два новых канала привлечения трафика, что позволит привлекать на 30% больше пользователей</td>\n",
       "      <td>3</td>\n",
       "      <td>10</td>\n",
       "      <td>8</td>\n",
       "      <td>6</td>\n",
       "    </tr>\n",
       "    <tr>\n",
       "      <th>1</th>\n",
       "      <td>Запустить собственную службу доставки, что сократит срок доставки заказов</td>\n",
       "      <td>2</td>\n",
       "      <td>5</td>\n",
       "      <td>4</td>\n",
       "      <td>10</td>\n",
       "    </tr>\n",
       "    <tr>\n",
       "      <th>2</th>\n",
       "      <td>Добавить блоки рекомендаций товаров на сайт интернет магазина, чтобы повысить конверсию и средний чек заказа</td>\n",
       "      <td>8</td>\n",
       "      <td>3</td>\n",
       "      <td>7</td>\n",
       "      <td>3</td>\n",
       "    </tr>\n",
       "    <tr>\n",
       "      <th>3</th>\n",
       "      <td>Изменить структура категорий, что увеличит конверсию, т.к. пользователи быстрее найдут нужный товар</td>\n",
       "      <td>8</td>\n",
       "      <td>3</td>\n",
       "      <td>3</td>\n",
       "      <td>8</td>\n",
       "    </tr>\n",
       "    <tr>\n",
       "      <th>4</th>\n",
       "      <td>Изменить цвет фона главной страницы, чтобы увеличить вовлеченность пользователей</td>\n",
       "      <td>3</td>\n",
       "      <td>1</td>\n",
       "      <td>1</td>\n",
       "      <td>1</td>\n",
       "    </tr>\n",
       "    <tr>\n",
       "      <th>5</th>\n",
       "      <td>Добавить страницу отзывов клиентов о магазине, что позволит увеличить количество заказов</td>\n",
       "      <td>3</td>\n",
       "      <td>2</td>\n",
       "      <td>2</td>\n",
       "      <td>3</td>\n",
       "    </tr>\n",
       "    <tr>\n",
       "      <th>6</th>\n",
       "      <td>Показать на главной странице баннеры с актуальными акциями и распродажами, чтобы увеличить конверсию</td>\n",
       "      <td>5</td>\n",
       "      <td>3</td>\n",
       "      <td>8</td>\n",
       "      <td>3</td>\n",
       "    </tr>\n",
       "    <tr>\n",
       "      <th>7</th>\n",
       "      <td>Добавить форму подписки на все основные страницы, чтобы собрать базу клиентов для email-рассылок</td>\n",
       "      <td>10</td>\n",
       "      <td>7</td>\n",
       "      <td>8</td>\n",
       "      <td>5</td>\n",
       "    </tr>\n",
       "    <tr>\n",
       "      <th>8</th>\n",
       "      <td>Запустить акцию, дающую скидку на товар в день рождения</td>\n",
       "      <td>1</td>\n",
       "      <td>9</td>\n",
       "      <td>9</td>\n",
       "      <td>5</td>\n",
       "    </tr>\n",
       "  </tbody>\n",
       "</table>\n",
       "</div>"
      ],
      "text/plain": [
       "                                                                                                     hypothesis  \\\n",
       "0  Добавить два новых канала привлечения трафика, что позволит привлекать на 30% больше пользователей             \n",
       "1  Запустить собственную службу доставки, что сократит срок доставки заказов                                      \n",
       "2  Добавить блоки рекомендаций товаров на сайт интернет магазина, чтобы повысить конверсию и средний чек заказа   \n",
       "3  Изменить структура категорий, что увеличит конверсию, т.к. пользователи быстрее найдут нужный товар            \n",
       "4  Изменить цвет фона главной страницы, чтобы увеличить вовлеченность пользователей                               \n",
       "5  Добавить страницу отзывов клиентов о магазине, что позволит увеличить количество заказов                       \n",
       "6  Показать на главной странице баннеры с актуальными акциями и распродажами, чтобы увеличить конверсию           \n",
       "7  Добавить форму подписки на все основные страницы, чтобы собрать базу клиентов для email-рассылок               \n",
       "8  Запустить акцию, дающую скидку на товар в день рождения                                                        \n",
       "\n",
       "   reach  impact  confidence  efforts  \n",
       "0  3      10      8           6        \n",
       "1  2      5       4           10       \n",
       "2  8      3       7           3        \n",
       "3  8      3       3           8        \n",
       "4  3      1       1           1        \n",
       "5  3      2       2           3        \n",
       "6  5      3       8           3        \n",
       "7  10     7       8           5        \n",
       "8  1      9       9           5        "
      ]
     },
     "execution_count": 30,
     "metadata": {},
     "output_type": "execute_result"
    }
   ],
   "source": [
    "hypothesis"
   ]
  },
  {
   "cell_type": "markdown",
   "id": "cad23e39",
   "metadata": {},
   "source": [
    "## Шаг 3. Анализ A/B-теста."
   ]
  },
  {
   "cell_type": "markdown",
   "id": "f5551c08",
   "metadata": {},
   "source": [
    "Предполагается, что мы провели A/B-тест и получили результаты, которые описаны в файлах orders.csv и visitors.csv.         \n",
    "Необходимо проанализировать результаты проведеного A/B-теста.\n",
    "\n",
    "Поскольку большая часть анализа будет основываться накумулятивных данных сделаем предварительную их подготовку"
   ]
  },
  {
   "cell_type": "markdown",
   "id": "70ceb58f",
   "metadata": {},
   "source": [
    "### Подготовка кумулятивных данных."
   ]
  },
  {
   "cell_type": "markdown",
   "id": "bff29d90",
   "metadata": {},
   "source": [
    "Для начала вспомним датафреймы orders и visitors."
   ]
  },
  {
   "cell_type": "code",
   "execution_count": 35,
   "id": "f7ba424b",
   "metadata": {},
   "outputs": [
    {
     "data": {
      "text/html": [
       "<div>\n",
       "<style scoped>\n",
       "    .dataframe tbody tr th:only-of-type {\n",
       "        vertical-align: middle;\n",
       "    }\n",
       "\n",
       "    .dataframe tbody tr th {\n",
       "        vertical-align: top;\n",
       "    }\n",
       "\n",
       "    .dataframe thead th {\n",
       "        text-align: right;\n",
       "    }\n",
       "</style>\n",
       "<table border=\"1\" class=\"dataframe\">\n",
       "  <thead>\n",
       "    <tr style=\"text-align: right;\">\n",
       "      <th></th>\n",
       "      <th>transaction_id</th>\n",
       "      <th>visitor_id</th>\n",
       "      <th>date</th>\n",
       "      <th>revenue</th>\n",
       "      <th>group</th>\n",
       "    </tr>\n",
       "  </thead>\n",
       "  <tbody>\n",
       "    <tr>\n",
       "      <th>0</th>\n",
       "      <td>3667963787</td>\n",
       "      <td>3312258926</td>\n",
       "      <td>2019-08-15</td>\n",
       "      <td>1650</td>\n",
       "      <td>B</td>\n",
       "    </tr>\n",
       "    <tr>\n",
       "      <th>1</th>\n",
       "      <td>2804400009</td>\n",
       "      <td>3642806036</td>\n",
       "      <td>2019-08-15</td>\n",
       "      <td>730</td>\n",
       "      <td>B</td>\n",
       "    </tr>\n",
       "    <tr>\n",
       "      <th>2</th>\n",
       "      <td>2961555356</td>\n",
       "      <td>4069496402</td>\n",
       "      <td>2019-08-15</td>\n",
       "      <td>400</td>\n",
       "      <td>A</td>\n",
       "    </tr>\n",
       "    <tr>\n",
       "      <th>3</th>\n",
       "      <td>3797467345</td>\n",
       "      <td>1196621759</td>\n",
       "      <td>2019-08-15</td>\n",
       "      <td>9759</td>\n",
       "      <td>B</td>\n",
       "    </tr>\n",
       "    <tr>\n",
       "      <th>4</th>\n",
       "      <td>2282983706</td>\n",
       "      <td>2322279887</td>\n",
       "      <td>2019-08-15</td>\n",
       "      <td>2308</td>\n",
       "      <td>B</td>\n",
       "    </tr>\n",
       "  </tbody>\n",
       "</table>\n",
       "</div>"
      ],
      "text/plain": [
       "   transaction_id  visitor_id       date  revenue group\n",
       "0  3667963787      3312258926 2019-08-15  1650     B   \n",
       "1  2804400009      3642806036 2019-08-15  730      B   \n",
       "2  2961555356      4069496402 2019-08-15  400      A   \n",
       "3  3797467345      1196621759 2019-08-15  9759     B   \n",
       "4  2282983706      2322279887 2019-08-15  2308     B   "
      ]
     },
     "metadata": {},
     "output_type": "display_data"
    },
    {
     "data": {
      "text/html": [
       "<div>\n",
       "<style scoped>\n",
       "    .dataframe tbody tr th:only-of-type {\n",
       "        vertical-align: middle;\n",
       "    }\n",
       "\n",
       "    .dataframe tbody tr th {\n",
       "        vertical-align: top;\n",
       "    }\n",
       "\n",
       "    .dataframe thead th {\n",
       "        text-align: right;\n",
       "    }\n",
       "</style>\n",
       "<table border=\"1\" class=\"dataframe\">\n",
       "  <thead>\n",
       "    <tr style=\"text-align: right;\">\n",
       "      <th></th>\n",
       "      <th>date</th>\n",
       "      <th>group</th>\n",
       "      <th>visitors</th>\n",
       "    </tr>\n",
       "  </thead>\n",
       "  <tbody>\n",
       "    <tr>\n",
       "      <th>0</th>\n",
       "      <td>2019-08-01</td>\n",
       "      <td>A</td>\n",
       "      <td>719</td>\n",
       "    </tr>\n",
       "    <tr>\n",
       "      <th>1</th>\n",
       "      <td>2019-08-02</td>\n",
       "      <td>A</td>\n",
       "      <td>619</td>\n",
       "    </tr>\n",
       "    <tr>\n",
       "      <th>2</th>\n",
       "      <td>2019-08-03</td>\n",
       "      <td>A</td>\n",
       "      <td>507</td>\n",
       "    </tr>\n",
       "    <tr>\n",
       "      <th>3</th>\n",
       "      <td>2019-08-04</td>\n",
       "      <td>A</td>\n",
       "      <td>717</td>\n",
       "    </tr>\n",
       "    <tr>\n",
       "      <th>4</th>\n",
       "      <td>2019-08-05</td>\n",
       "      <td>A</td>\n",
       "      <td>756</td>\n",
       "    </tr>\n",
       "  </tbody>\n",
       "</table>\n",
       "</div>"
      ],
      "text/plain": [
       "        date group  visitors\n",
       "0 2019-08-01  A     719     \n",
       "1 2019-08-02  A     619     \n",
       "2 2019-08-03  A     507     \n",
       "3 2019-08-04  A     717     \n",
       "4 2019-08-05  A     756     "
      ]
     },
     "metadata": {},
     "output_type": "display_data"
    }
   ],
   "source": [
    "display(orders.head())\n",
    "display(visitors.head())"
   ]
  },
  {
   "cell_type": "markdown",
   "id": "31957a24",
   "metadata": {},
   "source": [
    "Создадим новый датафрейм cumulative_data, в который включим следующие столбцы:        \n",
    "•\tdate — дата;              \n",
    "•\tgroup — группа A/B-теста (A или B);                     \n",
    "•\torders — кумулятивное количество заказов на указанную дату в указанной группе;                       \n",
    "•\tbuyers — кумулятивное количество пользователей, совершивших хотя бы один заказ, на указанную дату в указанной группе;   \n",
    "•\trevenue — кумулятивная выручка на указанную дату в указанной группе (средний чек);         \n",
    "•\tvisitors — кумулятивное количество посетителей интернет-магазина на указанную дату в определённой группе."
   ]
  },
  {
   "cell_type": "markdown",
   "id": "0e2a9c86",
   "metadata": {},
   "source": [
    "В качестве основы создаем массив уникальных пар значений дат и групп."
   ]
  },
  {
   "cell_type": "code",
   "execution_count": 36,
   "id": "cc5c2cc1",
   "metadata": {},
   "outputs": [
    {
     "data": {
      "text/html": [
       "<div>\n",
       "<style scoped>\n",
       "    .dataframe tbody tr th:only-of-type {\n",
       "        vertical-align: middle;\n",
       "    }\n",
       "\n",
       "    .dataframe tbody tr th {\n",
       "        vertical-align: top;\n",
       "    }\n",
       "\n",
       "    .dataframe thead th {\n",
       "        text-align: right;\n",
       "    }\n",
       "</style>\n",
       "<table border=\"1\" class=\"dataframe\">\n",
       "  <thead>\n",
       "    <tr style=\"text-align: right;\">\n",
       "      <th></th>\n",
       "      <th>date</th>\n",
       "      <th>group</th>\n",
       "    </tr>\n",
       "  </thead>\n",
       "  <tbody>\n",
       "    <tr>\n",
       "      <th>0</th>\n",
       "      <td>2019-08-15</td>\n",
       "      <td>B</td>\n",
       "    </tr>\n",
       "    <tr>\n",
       "      <th>2</th>\n",
       "      <td>2019-08-15</td>\n",
       "      <td>A</td>\n",
       "    </tr>\n",
       "    <tr>\n",
       "      <th>45</th>\n",
       "      <td>2019-08-16</td>\n",
       "      <td>A</td>\n",
       "    </tr>\n",
       "    <tr>\n",
       "      <th>47</th>\n",
       "      <td>2019-08-16</td>\n",
       "      <td>B</td>\n",
       "    </tr>\n",
       "    <tr>\n",
       "      <th>55</th>\n",
       "      <td>2019-08-01</td>\n",
       "      <td>A</td>\n",
       "    </tr>\n",
       "  </tbody>\n",
       "</table>\n",
       "</div>"
      ],
      "text/plain": [
       "         date group\n",
       "0  2019-08-15  B   \n",
       "2  2019-08-15  A   \n",
       "45 2019-08-16  A   \n",
       "47 2019-08-16  B   \n",
       "55 2019-08-01  A   "
      ]
     },
     "execution_count": 36,
     "metadata": {},
     "output_type": "execute_result"
    }
   ],
   "source": [
    "# создаем датафрейм\n",
    "dates_groups = orders[['date','group']].drop_duplicates()\n",
    "\n",
    "# смотрим что получилось\n",
    "dates_groups.head()"
   ]
  },
  {
   "cell_type": "markdown",
   "id": "3cb5f520",
   "metadata": {},
   "source": [
    "Получим агрегированные кумулятивные данные о заказах и посетителях по дням"
   ]
  },
  {
   "cell_type": "code",
   "execution_count": 37,
   "id": "2a0f07a2",
   "metadata": {},
   "outputs": [
    {
     "data": {
      "text/html": [
       "<div>\n",
       "<style scoped>\n",
       "    .dataframe tbody tr th:only-of-type {\n",
       "        vertical-align: middle;\n",
       "    }\n",
       "\n",
       "    .dataframe tbody tr th {\n",
       "        vertical-align: top;\n",
       "    }\n",
       "\n",
       "    .dataframe thead th {\n",
       "        text-align: right;\n",
       "    }\n",
       "</style>\n",
       "<table border=\"1\" class=\"dataframe\">\n",
       "  <thead>\n",
       "    <tr style=\"text-align: right;\">\n",
       "      <th></th>\n",
       "      <th>date</th>\n",
       "      <th>group</th>\n",
       "      <th>transaction_id</th>\n",
       "      <th>visitor_id</th>\n",
       "      <th>revenue</th>\n",
       "    </tr>\n",
       "  </thead>\n",
       "  <tbody>\n",
       "    <tr>\n",
       "      <th>55</th>\n",
       "      <td>2019-08-01</td>\n",
       "      <td>A</td>\n",
       "      <td>24</td>\n",
       "      <td>20</td>\n",
       "      <td>148579</td>\n",
       "    </tr>\n",
       "    <tr>\n",
       "      <th>66</th>\n",
       "      <td>2019-08-01</td>\n",
       "      <td>B</td>\n",
       "      <td>21</td>\n",
       "      <td>20</td>\n",
       "      <td>101217</td>\n",
       "    </tr>\n",
       "    <tr>\n",
       "      <th>175</th>\n",
       "      <td>2019-08-02</td>\n",
       "      <td>A</td>\n",
       "      <td>44</td>\n",
       "      <td>38</td>\n",
       "      <td>242401</td>\n",
       "    </tr>\n",
       "    <tr>\n",
       "      <th>173</th>\n",
       "      <td>2019-08-02</td>\n",
       "      <td>B</td>\n",
       "      <td>45</td>\n",
       "      <td>43</td>\n",
       "      <td>266748</td>\n",
       "    </tr>\n",
       "    <tr>\n",
       "      <th>291</th>\n",
       "      <td>2019-08-03</td>\n",
       "      <td>A</td>\n",
       "      <td>68</td>\n",
       "      <td>62</td>\n",
       "      <td>354874</td>\n",
       "    </tr>\n",
       "  </tbody>\n",
       "</table>\n",
       "</div>"
      ],
      "text/plain": [
       "          date group  transaction_id  visitor_id  revenue\n",
       "55  2019-08-01  A     24              20          148579 \n",
       "66  2019-08-01  B     21              20          101217 \n",
       "175 2019-08-02  A     44              38          242401 \n",
       "173 2019-08-02  B     45              43          266748 \n",
       "291 2019-08-03  A     68              62          354874 "
      ]
     },
     "metadata": {},
     "output_type": "display_data"
    },
    {
     "data": {
      "text/html": [
       "<div>\n",
       "<style scoped>\n",
       "    .dataframe tbody tr th:only-of-type {\n",
       "        vertical-align: middle;\n",
       "    }\n",
       "\n",
       "    .dataframe tbody tr th {\n",
       "        vertical-align: top;\n",
       "    }\n",
       "\n",
       "    .dataframe thead th {\n",
       "        text-align: right;\n",
       "    }\n",
       "</style>\n",
       "<table border=\"1\" class=\"dataframe\">\n",
       "  <thead>\n",
       "    <tr style=\"text-align: right;\">\n",
       "      <th></th>\n",
       "      <th>date</th>\n",
       "      <th>group</th>\n",
       "      <th>visitors</th>\n",
       "    </tr>\n",
       "  </thead>\n",
       "  <tbody>\n",
       "    <tr>\n",
       "      <th>55</th>\n",
       "      <td>2019-08-01</td>\n",
       "      <td>A</td>\n",
       "      <td>719</td>\n",
       "    </tr>\n",
       "    <tr>\n",
       "      <th>66</th>\n",
       "      <td>2019-08-01</td>\n",
       "      <td>B</td>\n",
       "      <td>713</td>\n",
       "    </tr>\n",
       "    <tr>\n",
       "      <th>175</th>\n",
       "      <td>2019-08-02</td>\n",
       "      <td>A</td>\n",
       "      <td>1338</td>\n",
       "    </tr>\n",
       "    <tr>\n",
       "      <th>173</th>\n",
       "      <td>2019-08-02</td>\n",
       "      <td>B</td>\n",
       "      <td>1294</td>\n",
       "    </tr>\n",
       "    <tr>\n",
       "      <th>291</th>\n",
       "      <td>2019-08-03</td>\n",
       "      <td>A</td>\n",
       "      <td>1845</td>\n",
       "    </tr>\n",
       "  </tbody>\n",
       "</table>\n",
       "</div>"
      ],
      "text/plain": [
       "          date group  visitors\n",
       "55  2019-08-01  A     719     \n",
       "66  2019-08-01  B     713     \n",
       "175 2019-08-02  A     1338    \n",
       "173 2019-08-02  B     1294    \n",
       "291 2019-08-03  A     1845    "
      ]
     },
     "metadata": {},
     "output_type": "display_data"
    }
   ],
   "source": [
    "# получаем агрегированные кумулятивные данные о заказах\n",
    "orders_aggregated = dates_groups \\\n",
    "                    .apply(lambda x: orders[np.logical_and(orders['date'] <= x['date'], orders['group'] == x['group'])] \\\n",
    "                    .agg({'date' : 'max', 'group' : 'max', 'transaction_id' : 'nunique', 'visitor_id' : 'nunique', 'revenue' : 'sum'}), axis=1) \\\n",
    "                    .sort_values(by=['date','group'])\n",
    "\n",
    "# аналогично получаем агрегированные кумулятивные данные о посетителях \n",
    "visitors_aggregated = dates_groups \\\n",
    "                    .apply(lambda x: visitors[np.logical_and(visitors['date'] <= x['date'], visitors['group'] == x['group'])] \\\n",
    "                    .agg({'date' : 'max', 'group' : 'max', 'visitors' : 'sum'}), axis=1) \\\n",
    "                    .sort_values(by=['date','group'])\n",
    "\n",
    "# смотрим что получилось\n",
    "display(orders_aggregated.head())\n",
    "display(visitors_aggregated.head())"
   ]
  },
  {
   "cell_type": "markdown",
   "id": "e41be52e",
   "metadata": {},
   "source": [
    "Объединим полученные агрегированные кумулятивные данные о заказах и посетителях и сформируем наш результирующий датафрейм"
   ]
  },
  {
   "cell_type": "code",
   "execution_count": 38,
   "id": "083867be",
   "metadata": {},
   "outputs": [
    {
     "data": {
      "text/html": [
       "<div>\n",
       "<style scoped>\n",
       "    .dataframe tbody tr th:only-of-type {\n",
       "        vertical-align: middle;\n",
       "    }\n",
       "\n",
       "    .dataframe tbody tr th {\n",
       "        vertical-align: top;\n",
       "    }\n",
       "\n",
       "    .dataframe thead th {\n",
       "        text-align: right;\n",
       "    }\n",
       "</style>\n",
       "<table border=\"1\" class=\"dataframe\">\n",
       "  <thead>\n",
       "    <tr style=\"text-align: right;\">\n",
       "      <th></th>\n",
       "      <th>date</th>\n",
       "      <th>group</th>\n",
       "      <th>orders</th>\n",
       "      <th>buyers</th>\n",
       "      <th>revenue</th>\n",
       "      <th>visitors</th>\n",
       "    </tr>\n",
       "  </thead>\n",
       "  <tbody>\n",
       "    <tr>\n",
       "      <th>0</th>\n",
       "      <td>2019-08-01</td>\n",
       "      <td>A</td>\n",
       "      <td>24</td>\n",
       "      <td>20</td>\n",
       "      <td>148579</td>\n",
       "      <td>719</td>\n",
       "    </tr>\n",
       "    <tr>\n",
       "      <th>1</th>\n",
       "      <td>2019-08-01</td>\n",
       "      <td>B</td>\n",
       "      <td>21</td>\n",
       "      <td>20</td>\n",
       "      <td>101217</td>\n",
       "      <td>713</td>\n",
       "    </tr>\n",
       "    <tr>\n",
       "      <th>2</th>\n",
       "      <td>2019-08-02</td>\n",
       "      <td>A</td>\n",
       "      <td>44</td>\n",
       "      <td>38</td>\n",
       "      <td>242401</td>\n",
       "      <td>1338</td>\n",
       "    </tr>\n",
       "    <tr>\n",
       "      <th>3</th>\n",
       "      <td>2019-08-02</td>\n",
       "      <td>B</td>\n",
       "      <td>45</td>\n",
       "      <td>43</td>\n",
       "      <td>266748</td>\n",
       "      <td>1294</td>\n",
       "    </tr>\n",
       "    <tr>\n",
       "      <th>4</th>\n",
       "      <td>2019-08-03</td>\n",
       "      <td>A</td>\n",
       "      <td>68</td>\n",
       "      <td>62</td>\n",
       "      <td>354874</td>\n",
       "      <td>1845</td>\n",
       "    </tr>\n",
       "  </tbody>\n",
       "</table>\n",
       "</div>"
      ],
      "text/plain": [
       "        date group  orders  buyers  revenue  visitors\n",
       "0 2019-08-01  A     24      20      148579   719     \n",
       "1 2019-08-01  B     21      20      101217   713     \n",
       "2 2019-08-02  A     44      38      242401   1338    \n",
       "3 2019-08-02  B     45      43      266748   1294    \n",
       "4 2019-08-03  A     68      62      354874   1845    "
      ]
     },
     "metadata": {},
     "output_type": "display_data"
    }
   ],
   "source": [
    "# объединяем данные\n",
    "cumulative_data = orders_aggregated.merge(visitors_aggregated, left_on=['date', 'group'], right_on=['date', 'group'])\n",
    "\n",
    "# присваиваем ее столбцам понятные названия\n",
    "cumulative_data.columns = ['date', 'group', 'orders', 'buyers', 'revenue', 'visitors']\n",
    "\n",
    "# выводим результат\n",
    "display(cumulative_data.head())"
   ]
  },
  {
   "cell_type": "markdown",
   "id": "48da876f",
   "metadata": {},
   "source": [
    "##### Датафрейм с кумулятивными данными создан.          \n",
    "На его основе можно формировать отдельные срезы данных для определенных метрик, строить графики и проводить анализ."
   ]
  },
  {
   "cell_type": "markdown",
   "id": "13bb9a33",
   "metadata": {},
   "source": [
    " "
   ]
  },
  {
   "cell_type": "markdown",
   "id": "969fc049",
   "metadata": {},
   "source": [
    " "
   ]
  },
  {
   "cell_type": "markdown",
   "id": "5fb1f5db",
   "metadata": {},
   "source": [
    "### 2.\tАнализ кумулятивного среднего чека по группам А и В."
   ]
  },
  {
   "cell_type": "markdown",
   "id": "e113416f",
   "metadata": {},
   "source": [
    "Чтобы получить кумулятивный средний чек нужно разделить кумулятивную выручку на кумулятивное число заказов."
   ]
  },
  {
   "cell_type": "code",
   "execution_count": 45,
   "id": "29851c51",
   "metadata": {},
   "outputs": [
    {
     "data": {
      "text/plain": [
       "0    6190.791667\n",
       "2    5509.113636\n",
       "4    5218.735294\n",
       "6    5067.845238\n",
       "8    5045.110092\n",
       "dtype: float64"
      ]
     },
     "metadata": {},
     "output_type": "display_data"
    }
   ],
   "source": [
    "# вычисляем кумулятивный средний чек для групп А и В\n",
    "cum_rev_per_order_a = cumulative_revenue_a['revenue'] / cumulative_revenue_a['orders']\n",
    "cum_rev_per_order_b = cumulative_revenue_b['revenue'] / cumulative_revenue_b['orders']\n",
    "\n",
    "# смотрим что получилось\n",
    "display(cum_rev_per_order_a.head())\n",
    "#display(cum_rev_per_order_b.head())"
   ]
  },
  {
   "cell_type": "markdown",
   "id": "e1cc0ac2",
   "metadata": {},
   "source": [
    "Построим графики кумулятивного среднего чека по дням для групп A и B."
   ]
  },
  {
   "cell_type": "code",
   "execution_count": 47,
   "id": "368124a1",
   "metadata": {},
   "outputs": [
    {
     "data": {
      "image/png": "[encoded data removed]",
      "text/plain": [
       "<Figure size 1200x400 with 1 Axes>"
      ]
     },
     "metadata": {},
     "output_type": "display_data"
    }
   ],
   "source": [
    "# задаем рамку графика\n",
    "plt.figure(figsize=(12,4))\n",
    "\n",
    "# строим график для группы А\n",
    "plt.plot(cumulative_revenue_a['date'], cum_rev_per_order_a, label='A')\n",
    "\n",
    "# строим график для группы B\n",
    "plt.plot(cumulative_revenue_b['date'], cum_rev_per_order_b, label='B')\n",
    "\n",
    "# задаем параметры графика\n",
    "plt.grid(True)\n",
    "plt.xlim(dt.datetime.strptime(\"2019-08-01\", '%Y-%m-%d'), dt.datetime.strptime(\"2019-08-31\", '%Y-%m-%d'))\n",
    "plt.xlabel('Дата')\n",
    "plt.ylabel('Средний чек')\n",
    "plt.legend() \n",
    "plt.title('График кумулятивного среднего чека по дням для групп A и B')\n",
    "\n",
    "# выводим результат\n",
    "plt.show()"
   ]
  },
  {
   "cell_type": "markdown",
   "id": "32bcd472",
   "metadata": {},
   "source": [
    "##### Видим:\n",
    "\n",
    "В целом поведение среднего чека несколко более волатильно, нежели поведение кумулятивной выручки:  \n",
    "\n",
    "    • с 1.08 по 5-6.08 средние чеки в группах ведут себя противофазно: средний чек в группе А падает с примерно 6200 до 4700, в то время как в группе В средний чек растет с тех же 4800 до 6200,          \n",
    "    • с 6.08 по 9.08 средний чек синхронно растет в обеих группах примерно одинаковыми темпами,         \n",
    "    • с 9.08 по 13.08 средний чек в группе В начинает стагнировать и даже снижается, в то время как в группе А он продолжает рост,      \n",
    "    • с 13.08 по 18.08 графики в общем выравниваются и стабилизируются (выходят на плато),        \n",
    "    • 18-19 августа, как мы уже отмечали анализируя график кумулятивной выручки, в группе В наблюдается большой всплеск как по выручке, так и по среднему чеку,               \n",
    "    • с 20.08 и до завершения теста 31.08 средняя выручка в целом продолжает стагнировать в обеих группах, в группе А слегка возрастая, а в группе В несколько снижаясь. При этом существенная разница значений среднего чека, образовавшаяся 18-19 числа сохраняется до конца теста.\n",
    "\n",
    "Таким образом наше предположение о крупных покупках в группе В в период 18-19 августа по всей видимости подтверждается.    \n",
    "А с учетом куда более \"синхронного\" поведения графиков для групп А и В на других временных учатсках - можно рассматривать эти крупные покупки как нехарактерное поведение (выбросы) и для корректной формулировки выводов исключить их из рассмотрения."
   ]
  },
  {
   "cell_type": "markdown",
   "id": "4a382971",
   "metadata": {},
   "source": [
    " "
   ]
  },
  {
   "cell_type": "markdown",
   "id": "263a1d6f",
   "metadata": {},
   "source": [
    "### 3.\tАнализ относительного изменения кумулятивного среднего чека группы B к группе A."
   ]
  },
  {
   "cell_type": "markdown",
   "id": "2e29e4de",
   "metadata": {},
   "source": [
    "Чтобы получить значение относительного изменения кумулятивного среднего чека для группы B к группе A нужно разделить один средний чек на другой и вычесть из полученного частного единицу.\n",
    "\n",
    "Перед тем как строить график объединим данные из cumulative_revenue_a и cumulative_revenue_b по дате чтобы иметь единый массив с датами и значениями для графика."
   ]
  },
  {
   "cell_type": "code",
   "execution_count": 48,
   "id": "c36208a0",
   "metadata": {},
   "outputs": [
    {
     "data": {
      "text/html": [
       "<div>\n",
       "<style scoped>\n",
       "    .dataframe tbody tr th:only-of-type {\n",
       "        vertical-align: middle;\n",
       "    }\n",
       "\n",
       "    .dataframe tbody tr th {\n",
       "        vertical-align: top;\n",
       "    }\n",
       "\n",
       "    .dataframe thead th {\n",
       "        text-align: right;\n",
       "    }\n",
       "</style>\n",
       "<table border=\"1\" class=\"dataframe\">\n",
       "  <thead>\n",
       "    <tr style=\"text-align: right;\">\n",
       "      <th></th>\n",
       "      <th>date</th>\n",
       "      <th>revenueA</th>\n",
       "      <th>ordersA</th>\n",
       "      <th>revenueB</th>\n",
       "      <th>ordersB</th>\n",
       "    </tr>\n",
       "  </thead>\n",
       "  <tbody>\n",
       "    <tr>\n",
       "      <th>0</th>\n",
       "      <td>2019-08-01</td>\n",
       "      <td>148579</td>\n",
       "      <td>24</td>\n",
       "      <td>101217</td>\n",
       "      <td>21</td>\n",
       "    </tr>\n",
       "    <tr>\n",
       "      <th>1</th>\n",
       "      <td>2019-08-02</td>\n",
       "      <td>242401</td>\n",
       "      <td>44</td>\n",
       "      <td>266748</td>\n",
       "      <td>45</td>\n",
       "    </tr>\n",
       "    <tr>\n",
       "      <th>2</th>\n",
       "      <td>2019-08-03</td>\n",
       "      <td>354874</td>\n",
       "      <td>68</td>\n",
       "      <td>380996</td>\n",
       "      <td>61</td>\n",
       "    </tr>\n",
       "    <tr>\n",
       "      <th>3</th>\n",
       "      <td>2019-08-04</td>\n",
       "      <td>425699</td>\n",
       "      <td>84</td>\n",
       "      <td>489567</td>\n",
       "      <td>78</td>\n",
       "    </tr>\n",
       "    <tr>\n",
       "      <th>4</th>\n",
       "      <td>2019-08-05</td>\n",
       "      <td>549917</td>\n",
       "      <td>109</td>\n",
       "      <td>581995</td>\n",
       "      <td>101</td>\n",
       "    </tr>\n",
       "  </tbody>\n",
       "</table>\n",
       "</div>"
      ],
      "text/plain": [
       "        date  revenueA  ordersA  revenueB  ordersB\n",
       "0 2019-08-01  148579    24       101217    21     \n",
       "1 2019-08-02  242401    44       266748    45     \n",
       "2 2019-08-03  354874    68       380996    61     \n",
       "3 2019-08-04  425699    84       489567    78     \n",
       "4 2019-08-05  549917    109      581995    101    "
      ]
     },
     "execution_count": 48,
     "metadata": {},
     "output_type": "execute_result"
    }
   ],
   "source": [
    "# объединяем данные по дате\n",
    "merged_cumulative_revenues = cumulative_revenue_a.merge(cumulative_revenue_b, left_on='date', right_on='date', \\\n",
    "                                                       how='left', suffixes=['A', 'B'])\n",
    "\n",
    "# смотрим что получилось\n",
    "merged_cumulative_revenues.head()"
   ]
  },
  {
   "cell_type": "markdown",
   "id": "fb21f1f2",
   "metadata": {},
   "source": [
    "Теперь построим график относительного изменения кумулятивного среднего чека группы B к группе A.   \n",
    "И для наглядности добавим на график горизонтальные оси на уровне y = 0 и y = 0.25."
   ]
  },
  {
   "cell_type": "code",
   "execution_count": 51,
   "id": "b9c54b28",
   "metadata": {},
   "outputs": [
    {
     "data": {
      "image/png": "[encoded data removed]",
      "text/plain": [
       "<Figure size 1200x400 with 1 Axes>"
      ]
     },
     "metadata": {},
     "output_type": "display_data"
    }
   ],
   "source": [
    "# задаем рамку графика\n",
    "plt.figure(figsize=(12,4))\n",
    "\n",
    "# вычисляем отношение средних чеков и наносим на график\n",
    "plt.plot(merged_cumulative_revenues['date'], \\\n",
    "         (merged_cumulative_revenues['revenueB']/merged_cumulative_revenues['ordersB'])/ \\\n",
    "         (merged_cumulative_revenues['revenueA']/merged_cumulative_revenues['ordersA'])-1)\n",
    "\n",
    "# добавляем ось y = 0\n",
    "plt.axhline(y=0, color='black', linestyle='--')\n",
    "plt.axhline(y=0.25, color='grey', linestyle='-.')\n",
    "\n",
    "# задаем параметры графика\n",
    "plt.xlim(dt.datetime.strptime(\"2019-08-01\", '%Y-%m-%d'), dt.datetime.strptime(\"2019-08-31\", '%Y-%m-%d'))\n",
    "plt.xlabel('Дата')\n",
    "plt.ylabel('Отношение ср. чека в группе В к А')\n",
    "plt.title('График относительного изменения кумулятивного среднего чека группы B к группе A')\n",
    "\n",
    "# выводим результат\n",
    "plt.show()\n"
   ]
  },
  {
   "cell_type": "markdown",
   "id": "a8472740",
   "metadata": {},
   "source": [
    "##### Видим:\n",
    "\n",
    "В целом график относительного изменения кумулятивного среднего чека группы B к группе A повторяет поведение среднего чека в части волатильности и разбивки на периоды:  \n",
    "    • с 1.08 по 5.08 график растет от -0.2 до +0.25,\n",
    "    • 5-6.08 слегка падает,\n",
    "    • с 6.08 по 9.08 вновь растет до 0.35,\n",
    "    • с 9.08 по 13.08 довольно существенно снижается до -0.15,      \n",
    "    • с 13.08 по 18.08 вновь растет до +0.05,        \n",
    "    • 18-19 августа, здесь (как и на предыдущих графиках) наблюдается резкий всплеск с 0.05 до аж 0.5,               \n",
    "    • с 20.08 и до завершения теста 31.08 наблюдается снижение с 0.5 до 0.25 в последние дни \"прижимаясь\" к этому уровню и по         всей видимости начиная стагнировать.           \n",
    "По всей видимости такие резкие скачки графика (как минимум 18-19 августа) - это еще одно свидетельство каких-то аномально крупных заказов. Нужно будет учитывать их в дальнейшем анализе.          \n",
    "Поведение графика на финальном отрезке позволяет надеяться, что средний чек в группе В может оказаться на 20-25% выше, чем в группе А. Однако уверенности в этом нет, нужно будет смотреть, что покажут тесты на статистическую значимость.    \n",
    "Поскольку тренд все-таки к снижению  - вполне возможно, что для четкого подтверждения этого понадобится продолжение тестирования и после окончания августа 2019 года."
   ]
  },
  {
   "cell_type": "markdown",
   "id": "4ba07ce8",
   "metadata": {},
   "source": [
    " "
   ]
  },
  {
   "cell_type": "markdown",
   "id": "a3da2e76",
   "metadata": {},
   "source": [
    "### 4.\tАнализ кумулятивного среднего количества заказов на одного посетителя по группам А и В."
   ]
  },
  {
   "cell_type": "markdown",
   "id": "74e94125",
   "metadata": {},
   "source": [
    "Чтобы получить значение кумулятивного среднего количества заказов на посетителя нужно кумулятивное количество заказов (столбец orders в нашем датафрейме cumulative_data) разделить на кумулятивное количество посетителей (столбец visitors в этом же датафрейме).\n",
    "\n",
    "Перед тем как строить график посчитаем этот параметр и разделим его по группам А и В."
   ]
  },
  {
   "cell_type": "code",
   "execution_count": 52,
   "id": "6896a9a4",
   "metadata": {},
   "outputs": [
    {
     "data": {
      "text/html": [
       "<div>\n",
       "<style scoped>\n",
       "    .dataframe tbody tr th:only-of-type {\n",
       "        vertical-align: middle;\n",
       "    }\n",
       "\n",
       "    .dataframe tbody tr th {\n",
       "        vertical-align: top;\n",
       "    }\n",
       "\n",
       "    .dataframe thead th {\n",
       "        text-align: right;\n",
       "    }\n",
       "</style>\n",
       "<table border=\"1\" class=\"dataframe\">\n",
       "  <thead>\n",
       "    <tr style=\"text-align: right;\">\n",
       "      <th></th>\n",
       "      <th>date</th>\n",
       "      <th>group</th>\n",
       "      <th>orders</th>\n",
       "      <th>buyers</th>\n",
       "      <th>revenue</th>\n",
       "      <th>visitors</th>\n",
       "      <th>conversion</th>\n",
       "    </tr>\n",
       "  </thead>\n",
       "  <tbody>\n",
       "    <tr>\n",
       "      <th>0</th>\n",
       "      <td>2019-08-01</td>\n",
       "      <td>A</td>\n",
       "      <td>24</td>\n",
       "      <td>20</td>\n",
       "      <td>148579</td>\n",
       "      <td>719</td>\n",
       "      <td>0.033380</td>\n",
       "    </tr>\n",
       "    <tr>\n",
       "      <th>2</th>\n",
       "      <td>2019-08-02</td>\n",
       "      <td>A</td>\n",
       "      <td>44</td>\n",
       "      <td>38</td>\n",
       "      <td>242401</td>\n",
       "      <td>1338</td>\n",
       "      <td>0.032885</td>\n",
       "    </tr>\n",
       "    <tr>\n",
       "      <th>4</th>\n",
       "      <td>2019-08-03</td>\n",
       "      <td>A</td>\n",
       "      <td>68</td>\n",
       "      <td>62</td>\n",
       "      <td>354874</td>\n",
       "      <td>1845</td>\n",
       "      <td>0.036856</td>\n",
       "    </tr>\n",
       "    <tr>\n",
       "      <th>6</th>\n",
       "      <td>2019-08-04</td>\n",
       "      <td>A</td>\n",
       "      <td>84</td>\n",
       "      <td>77</td>\n",
       "      <td>425699</td>\n",
       "      <td>2562</td>\n",
       "      <td>0.032787</td>\n",
       "    </tr>\n",
       "    <tr>\n",
       "      <th>8</th>\n",
       "      <td>2019-08-05</td>\n",
       "      <td>A</td>\n",
       "      <td>109</td>\n",
       "      <td>100</td>\n",
       "      <td>549917</td>\n",
       "      <td>3318</td>\n",
       "      <td>0.032851</td>\n",
       "    </tr>\n",
       "  </tbody>\n",
       "</table>\n",
       "</div>"
      ],
      "text/plain": [
       "        date group  orders  buyers  revenue  visitors  conversion\n",
       "0 2019-08-01  A     24      20      148579   719       0.033380  \n",
       "2 2019-08-02  A     44      38      242401   1338      0.032885  \n",
       "4 2019-08-03  A     68      62      354874   1845      0.036856  \n",
       "6 2019-08-04  A     84      77      425699   2562      0.032787  \n",
       "8 2019-08-05  A     109     100     549917   3318      0.032851  "
      ]
     },
     "metadata": {},
     "output_type": "display_data"
    }
   ],
   "source": [
    "# считаем среднее количество заказов на посетителя и добавляем отдельным столбцом в тот же фрейм\n",
    "cumulative_data['conversion'] = cumulative_data['orders'] / cumulative_data['visitors']\n",
    "\n",
    "# отделяем данные по группе A\n",
    "cumulative_data_a = cumulative_data[cumulative_data['group']=='A']\n",
    "\n",
    "# отделяем данные по группе B\n",
    "cumulative_data_b = cumulative_data[cumulative_data['group']=='B']\n",
    "\n",
    "# смотрим что получилось\n",
    "display(cumulative_data_a.head())\n",
    "#display(cumulative_data_b.head())"
   ]
  },
  {
   "cell_type": "markdown",
   "id": "8685c24a",
   "metadata": {},
   "source": [
    "Теперь построим график среднего количества заказов на посетителя по группам А и В."
   ]
  },
  {
   "cell_type": "code",
   "execution_count": 54,
   "id": "46e84fdf",
   "metadata": {},
   "outputs": [
    {
     "data": {
      "image/png": "[encoded data removed]",
      "text/plain": [
       "<Figure size 1200x400 with 1 Axes>"
      ]
     },
     "metadata": {},
     "output_type": "display_data"
    }
   ],
   "source": [
    "# задаем рамку графика\n",
    "plt.figure(figsize=(12,4))\n",
    "\n",
    "# строим график для группы А\n",
    "plt.plot(cumulative_data_a['date'], cumulative_data_a['conversion'], label='A')\n",
    "\n",
    "# строим график для группы B\n",
    "plt.plot(cumulative_data_b['date'], cumulative_data_b['conversion'], label='B')\n",
    "\n",
    "# задаем параметры графика\n",
    "plt.grid(True)\n",
    "plt.xlim(dt.datetime.strptime(\"2019-08-01\", '%Y-%m-%d'), dt.datetime.strptime(\"2019-08-31\", '%Y-%m-%d'))\n",
    "plt.xlabel('Дата')\n",
    "plt.ylabel('Ср. кол-во заказов на посетителя')\n",
    "plt.legend() \n",
    "plt.title('График среднего количества заказов на посетителя по группам А и В')\n",
    "\n",
    "# выводим результат\n",
    "plt.show()"
   ]
  },
  {
   "cell_type": "markdown",
   "id": "7152ade6",
   "metadata": {},
   "source": [
    "##### Видим:\n",
    "\n",
    "График довольно четко бьется на три периода:\n",
    "\n",
    "После начального довольно короткого периода (с 01.08 по 05.08) волатильности (с размахом значений от 0.030 до 0.037 заказов на посетителя),          \n",
    "наступает (с 05.08 по 10.08) период роста в группе В (с 0.031 до 0.036) и одновременно симметричного падения в группе А (с 0.033 до 0.030)        \n",
    "и затем наступает период относительной стабильности (с 10.08 до окончания теста 31.08), когда       \n",
    "    в группе В среднее количество покупок на пользователя колеблется в пределах значений от 0.033 до 0.035 (с буквально одним превышением до 0.036 16-го августа),         \n",
    "    а в группе А этот показатель колеблется 0.030 +- менее 0.001.\n",
    "    \n",
    "Таким образом         \n",
    "• по всей видимости, в стабилизировавшемся\" состоянии среднее количество покупок на одного пользователя где-то на 13-15% больше.                \n",
    "• по всей видимости выбросы, которые мы наблюдали на графиках выручки в районе 18-19 августа не связаны с количеством покупок на клиента и полностью объясняются величиной этих самых \"нетипичных\" покупок."
   ]
  },
  {
   "cell_type": "markdown",
   "id": "c70675b1",
   "metadata": {},
   "source": [
    " "
   ]
  },
  {
   "cell_type": "markdown",
   "id": "27eea329",
   "metadata": {},
   "source": [
    "### 5.\tАнализ относительного изменения кумулятивного среднего количества заказов на посетителя группы B к группе A."
   ]
  },
  {
   "cell_type": "markdown",
   "id": "23e8c4fe",
   "metadata": {},
   "source": [
    "Чтобы получить значение относительного изменения кумулятивного среднего количества заказов на посетителя для группы B к группе A нужно разделить значение среднего количества заказов на посетителя для группы В на аналогичное значение для группы А и вычесть из полученного частного единицу.\n",
    "\n",
    "Перед тем как строить график объединим данные из cumulative_data_a и cumulative_data_b по дате чтобы иметь единый массив с датами и значениями для графика."
   ]
  },
  {
   "cell_type": "code",
   "execution_count": 55,
   "id": "59114a56",
   "metadata": {},
   "outputs": [
    {
     "data": {
      "text/html": [
       "<div>\n",
       "<style scoped>\n",
       "    .dataframe tbody tr th:only-of-type {\n",
       "        vertical-align: middle;\n",
       "    }\n",
       "\n",
       "    .dataframe tbody tr th {\n",
       "        vertical-align: top;\n",
       "    }\n",
       "\n",
       "    .dataframe thead th {\n",
       "        text-align: right;\n",
       "    }\n",
       "</style>\n",
       "<table border=\"1\" class=\"dataframe\">\n",
       "  <thead>\n",
       "    <tr style=\"text-align: right;\">\n",
       "      <th></th>\n",
       "      <th>date</th>\n",
       "      <th>conversionA</th>\n",
       "      <th>conversionB</th>\n",
       "    </tr>\n",
       "  </thead>\n",
       "  <tbody>\n",
       "    <tr>\n",
       "      <th>0</th>\n",
       "      <td>2019-08-01</td>\n",
       "      <td>0.033380</td>\n",
       "      <td>0.029453</td>\n",
       "    </tr>\n",
       "    <tr>\n",
       "      <th>1</th>\n",
       "      <td>2019-08-02</td>\n",
       "      <td>0.032885</td>\n",
       "      <td>0.034776</td>\n",
       "    </tr>\n",
       "    <tr>\n",
       "      <th>2</th>\n",
       "      <td>2019-08-03</td>\n",
       "      <td>0.036856</td>\n",
       "      <td>0.033833</td>\n",
       "    </tr>\n",
       "    <tr>\n",
       "      <th>3</th>\n",
       "      <td>2019-08-04</td>\n",
       "      <td>0.032787</td>\n",
       "      <td>0.030315</td>\n",
       "    </tr>\n",
       "    <tr>\n",
       "      <th>4</th>\n",
       "      <td>2019-08-05</td>\n",
       "      <td>0.032851</td>\n",
       "      <td>0.030793</td>\n",
       "    </tr>\n",
       "  </tbody>\n",
       "</table>\n",
       "</div>"
      ],
      "text/plain": [
       "        date  conversionA  conversionB\n",
       "0 2019-08-01  0.033380     0.029453   \n",
       "1 2019-08-02  0.032885     0.034776   \n",
       "2 2019-08-03  0.036856     0.033833   \n",
       "3 2019-08-04  0.032787     0.030315   \n",
       "4 2019-08-05  0.032851     0.030793   "
      ]
     },
     "execution_count": 55,
     "metadata": {},
     "output_type": "execute_result"
    }
   ],
   "source": [
    "# объединяем данные по дате\n",
    "merged_cumulative_conversions = cumulative_data_a[['date','conversion']] \\\n",
    "                                .merge(cumulative_data_b[['date','conversion']], left_on='date', right_on='date', \\\n",
    "                                                         how='left', suffixes=['A', 'B'])\n",
    "\n",
    "# смотрим что получилось\n",
    "merged_cumulative_conversions.head()"
   ]
  },
  {
   "cell_type": "markdown",
   "id": "dc3d6ea2",
   "metadata": {},
   "source": [
    "Теперь построим график относительного изменения кумулятивного среднего количества заказов на посетителя группы B к группе A.   \n",
    "И для наглядности добавим на график горизонтальные оси на уровне y = 0 и y = 0.15."
   ]
  },
  {
   "cell_type": "code",
   "execution_count": 56,
   "id": "74c94d63",
   "metadata": {},
   "outputs": [
    {
     "data": {
      "image/png": "[encoded data removed]",
      "text/plain": [
       "<Figure size 1200x400 with 1 Axes>"
      ]
     },
     "metadata": {},
     "output_type": "display_data"
    }
   ],
   "source": [
    "# задаем рамку графика\n",
    "plt.figure(figsize=(12,4))\n",
    "\n",
    "# вычисляем отношение средних чеков и наносим на график\n",
    "plt.plot(merged_cumulative_conversions['date'], \\\n",
    "         (merged_cumulative_conversions['conversionB']/ \\\n",
    "         merged_cumulative_conversions['conversionA'] - 1)\n",
    "        )\n",
    "\n",
    "# добавляем ось y = 0\n",
    "plt.axhline(y=0, color='black', linestyle='--')\n",
    "plt.axhline(y=0.15, color='grey', linestyle='-.')\n",
    "\n",
    "# задаем параметры графика\n",
    "plt.grid(True)\n",
    "plt.xlim(dt.datetime.strptime(\"2019-08-01\", '%Y-%m-%d'), dt.datetime.strptime(\"2019-08-31\", '%Y-%m-%d'))\n",
    "plt.xlabel('Дата')\n",
    "plt.ylabel('Отношение ср. кол-ва заказов В к А')\n",
    "plt.title('График отношения среднего количества заказов на посетителя группы B к группе A')\n",
    "\n",
    "# выводим результат\n",
    "plt.show()\n"
   ]
  },
  {
   "cell_type": "markdown",
   "id": "13955cb2",
   "metadata": {},
   "source": [
    "##### Видим:\n",
    "\n",
    "После начального периода (с 01.08 по 05.08) волатильности когда группа В в основном \"проигрывала\" группе А,          \n",
    "наступает (с 05.08 по 10.08) период роста относительного среднего количества заказов на пользователя в группе В (с -0.07 до +0.17),        \n",
    "после чего (с 10.08 до окончания теста 31.08) показатель стабилизируется на уровне +0.15 +-0.05.\n",
    "    \n",
    "Таким образом         \n",
    "• судя по всему отношение среднего количества заказов на посетителя ещё окончательно не установилось, поскольку в финальном периоде (последние 4-5 дней теста) мы все-таки наблюдаем рост показателя. Поскольку  на финальном участке наблюдается рост, вполне возможно, что для его оценки понадобится продолжить тестирование (если такая возможность есть);     \n",
    "• однако по всей видимости, мы все-таки можем подтвердить наши выводы из предыдущего пункта: похоже, что среднее количеств заказов на посетителя в группе В на 13-15% больше, чем в группе А.      \n",
    "При этом разница не опускалась ниже уровня +10% с 08.08.2019 и тенденции к уменьшению указанной разницы в последнюю неделю тестирования не наблюдается."
   ]
  },
  {
   "cell_type": "markdown",
   "id": "8c3e7c5b",
   "metadata": {},
   "source": [
    " "
   ]
  },
  {
   "cell_type": "markdown",
   "id": "6b1bad7b",
   "metadata": {},
   "source": [
    "### 6.\tАнализ с использованием точечной диаграммы количества заказов по пользователям, совершившим заказ."
   ]
  },
  {
   "cell_type": "markdown",
   "id": "dfd68ec2",
   "metadata": {},
   "source": [
    "Выделять заказы и рассчитывать их количество по пользователям будем на основании датафрейма orders.      \n",
    "Для начала вспомним как он выглядит."
   ]
  },
  {
   "cell_type": "code",
   "execution_count": 57,
   "id": "28879039",
   "metadata": {},
   "outputs": [
    {
     "data": {
      "text/html": [
       "<div>\n",
       "<style scoped>\n",
       "    .dataframe tbody tr th:only-of-type {\n",
       "        vertical-align: middle;\n",
       "    }\n",
       "\n",
       "    .dataframe tbody tr th {\n",
       "        vertical-align: top;\n",
       "    }\n",
       "\n",
       "    .dataframe thead th {\n",
       "        text-align: right;\n",
       "    }\n",
       "</style>\n",
       "<table border=\"1\" class=\"dataframe\">\n",
       "  <thead>\n",
       "    <tr style=\"text-align: right;\">\n",
       "      <th></th>\n",
       "      <th>transaction_id</th>\n",
       "      <th>visitor_id</th>\n",
       "      <th>date</th>\n",
       "      <th>revenue</th>\n",
       "      <th>group</th>\n",
       "    </tr>\n",
       "  </thead>\n",
       "  <tbody>\n",
       "    <tr>\n",
       "      <th>0</th>\n",
       "      <td>3667963787</td>\n",
       "      <td>3312258926</td>\n",
       "      <td>2019-08-15</td>\n",
       "      <td>1650</td>\n",
       "      <td>B</td>\n",
       "    </tr>\n",
       "    <tr>\n",
       "      <th>1</th>\n",
       "      <td>2804400009</td>\n",
       "      <td>3642806036</td>\n",
       "      <td>2019-08-15</td>\n",
       "      <td>730</td>\n",
       "      <td>B</td>\n",
       "    </tr>\n",
       "    <tr>\n",
       "      <th>2</th>\n",
       "      <td>2961555356</td>\n",
       "      <td>4069496402</td>\n",
       "      <td>2019-08-15</td>\n",
       "      <td>400</td>\n",
       "      <td>A</td>\n",
       "    </tr>\n",
       "    <tr>\n",
       "      <th>3</th>\n",
       "      <td>3797467345</td>\n",
       "      <td>1196621759</td>\n",
       "      <td>2019-08-15</td>\n",
       "      <td>9759</td>\n",
       "      <td>B</td>\n",
       "    </tr>\n",
       "    <tr>\n",
       "      <th>4</th>\n",
       "      <td>2282983706</td>\n",
       "      <td>2322279887</td>\n",
       "      <td>2019-08-15</td>\n",
       "      <td>2308</td>\n",
       "      <td>B</td>\n",
       "    </tr>\n",
       "  </tbody>\n",
       "</table>\n",
       "</div>"
      ],
      "text/plain": [
       "   transaction_id  visitor_id       date  revenue group\n",
       "0  3667963787      3312258926 2019-08-15  1650     B   \n",
       "1  2804400009      3642806036 2019-08-15  730      B   \n",
       "2  2961555356      4069496402 2019-08-15  400      A   \n",
       "3  3797467345      1196621759 2019-08-15  9759     B   \n",
       "4  2282983706      2322279887 2019-08-15  2308     B   "
      ]
     },
     "execution_count": 57,
     "metadata": {},
     "output_type": "execute_result"
    }
   ],
   "source": [
    "orders.head()"
   ]
  },
  {
   "cell_type": "markdown",
   "id": "f269f421",
   "metadata": {},
   "source": [
    "Чтобы рассчитать количество заказов по пользователям нам нужно будет сгруппировать датафрейм по столбцу visitor_id и для каждого такого visitor_id посчитать количество уникальных значений в столбце transaction_id."
   ]
  },
  {
   "cell_type": "code",
   "execution_count": 58,
   "id": "c1bc96da",
   "metadata": {},
   "outputs": [
    {
     "name": "stdout",
     "output_type": "stream",
     "text": [
      "         user_id  orders\n",
      "1023  4256040402  11    \n",
      "591   2458001652  11    \n",
      "569   2378935119  9     \n",
      "487   2038680547  8     \n",
      "44    199603092   5     \n",
      "744   3062433592  5     \n",
      "55    237748145   5     \n",
      "917   3803269165  5     \n",
      "299   1230306981  5     \n",
      "897   3717692402  5     \n",
      "393   1614305549  4     \n",
      "114   457167155   4     \n",
      "619   2587333274  4     \n",
      "340   1404934699  3     \n",
      "937   3908431265  3     \n"
     ]
    }
   ],
   "source": [
    "# группируем датафрейм по visitor_id и берем количество уникальных transaction_id \n",
    "orders_by_users = (\n",
    "    orders.groupby('visitor_id', as_index=False).agg({'transaction_id': 'nunique'})\n",
    "                  )\n",
    "\n",
    "orders_by_users.columns = ['user_id', 'orders']\n",
    "\n",
    "print(orders_by_users.sort_values(by='orders', ascending=False).head(15))"
   ]
  },
  {
   "cell_type": "markdown",
   "id": "f41f0a6f",
   "metadata": {},
   "source": [
    "##### Видим:\n",
    "\n",
    "Если \"нижнюю\" часть вывода, где фигурируют пользователи с тремя заказами можно считать вполне нормальной и обычной с точки зрения логики \"среднестатистического\" потребителя,       \n",
    "то верхняя часть, где фигурируют 8, 9 и даже 11 заказов - это явно нетипично и не массово (больше, чем обычный пользователь совершает в неделю не может быть нормой).     \n",
    "Случаев такого большого количества заказов дейтсвительно немного, но они есть и по всей видимости влияют на статистические параметры и могут искажать резуьтаты тестов."
   ]
  },
  {
   "cell_type": "markdown",
   "id": "d933027f",
   "metadata": {},
   "source": [
    "Чтобы лучше увидеть распределение количества заказов на одного пользователя построим точечную диаграмму этого распределения."
   ]
  },
  {
   "cell_type": "code",
   "execution_count": 60,
   "id": "28aa3875",
   "metadata": {},
   "outputs": [
    {
     "data": {
      "image/png": "[encoded data removed]",
      "text/plain": [
       "<Figure size 1200x400 with 1 Axes>"
      ]
     },
     "metadata": {},
     "output_type": "display_data"
    }
   ],
   "source": [
    "# задаем параметр для оси х по количеству пользователей в orders_by_users\n",
    "x_values = pd.Series(range(0,len(orders_by_users)))\n",
    "\n",
    "# задаем рамку графика\n",
    "plt.figure(figsize=(12,4))\n",
    "\n",
    "# задаем точечную диаграмму\n",
    "plt.scatter(x_values, orders_by_users['orders']) \n",
    "\n",
    "# задаем параметры графика\n",
    "plt.xlabel('Количество пользователей')\n",
    "plt.ylabel('Ср. кол-во заказов на пользователя')\n",
    "plt.title('Распределение количества заказов на одного пользователя')\n",
    "\n",
    "# выводим результат\n",
    "plt.show()"
   ]
  },
  {
   "cell_type": "markdown",
   "id": "2af79ed0",
   "metadata": {},
   "source": [
    "##### Видим:\n",
    "\n",
    "• подавляющее большинство выборки составляют пользователи, сделавшие 1 или 2 заказа;             \n",
    "• три заказа на пользователя так-же можно считать достаточно распространенным ( их 17 в выборке);       \n",
    "• пользователей, сделавших 4 и 5 заказов уже существенно меньше ( 3 и 6 случаев), однако относить их к случайностям или нет - не ясно (все-таки суммарно их всего в 2 раза меньше, чем пользователей с тремя заказами);          \n",
    "• случаи с 6-ю и более заказов на одного пользователя - это случаи единичные и их общее количество минимально ( 4 на выборку). Думается, что такие случаи точно можно отнести к \"выбросам\"."
   ]
  },
  {
   "cell_type": "markdown",
   "id": "ab71c3fb",
   "metadata": {},
   "source": [
    " "
   ]
  },
  {
   "cell_type": "markdown",
   "id": "cb83342a",
   "metadata": {},
   "source": [
    "### 7.\tРасчет 95-й и 99-й перцентили количества заказов на пользователя и выбор границы аномальных пользователей."
   ]
  },
  {
   "cell_type": "markdown",
   "id": "735b5269",
   "metadata": {},
   "source": [
    "Посчитаем выборочные перцентили количества заказов на одного пользователя при помощи функции np.percentile():"
   ]
  },
  {
   "cell_type": "code",
   "execution_count": 61,
   "id": "5e7abaf6",
   "metadata": {},
   "outputs": [
    {
     "name": "stdout",
     "output_type": "stream",
     "text": [
      "[2. 3. 4.]\n"
     ]
    }
   ],
   "source": [
    "print(np.percentile(orders_by_users['orders'], [95, 97.5, 99])) "
   ]
  },
  {
   "cell_type": "markdown",
   "id": "bb59471d",
   "metadata": {},
   "source": [
    "##### Получается, что:          \n",
    "• не более 5% пользователей оформили более 2-х заказов;    \n",
    "• только 1% пользователей оформил более 4-х заказов (5 и более).   \n",
    "\n",
    "В принципе можно было бы определить 3 заказа как верхнюю границу,        \n",
    "однако более резонным все-таки видится принять в качестве верхней границы количество заказов раное 4.      \n",
    "Это даст перцентиль на уровне 97.5% то есть отсеет 2.5% пользователей, что будет хорошим компромисом между полнотой картины и точностью оценок. "
   ]
  },
  {
   "cell_type": "markdown",
   "id": "b1e16a50",
   "metadata": {},
   "source": [
    " "
   ]
  },
  {
   "cell_type": "markdown",
   "id": "d58ccf86",
   "metadata": {},
   "source": [
    "### 8.\tАнализ стоимостей заказов при помощи точечной диаграммы ."
   ]
  },
  {
   "cell_type": "markdown",
   "id": "84876a84",
   "metadata": {},
   "source": [
    "Стоимости заказов находятся в колонке revenue датафрейма orders.      \n",
    "Отсортируем датафрейм orders по убяванию значений в столбце revenue и посмотрим"
   ]
  },
  {
   "cell_type": "code",
   "execution_count": 62,
   "id": "260f24fb",
   "metadata": {},
   "outputs": [
    {
     "data": {
      "text/html": [
       "<div>\n",
       "<style scoped>\n",
       "    .dataframe tbody tr th:only-of-type {\n",
       "        vertical-align: middle;\n",
       "    }\n",
       "\n",
       "    .dataframe tbody tr th {\n",
       "        vertical-align: top;\n",
       "    }\n",
       "\n",
       "    .dataframe thead th {\n",
       "        text-align: right;\n",
       "    }\n",
       "</style>\n",
       "<table border=\"1\" class=\"dataframe\">\n",
       "  <thead>\n",
       "    <tr style=\"text-align: right;\">\n",
       "      <th></th>\n",
       "      <th>transaction_id</th>\n",
       "      <th>visitor_id</th>\n",
       "      <th>date</th>\n",
       "      <th>revenue</th>\n",
       "      <th>group</th>\n",
       "    </tr>\n",
       "  </thead>\n",
       "  <tbody>\n",
       "    <tr>\n",
       "      <th>425</th>\n",
       "      <td>590470918</td>\n",
       "      <td>1920142716</td>\n",
       "      <td>2019-08-19</td>\n",
       "      <td>1294500</td>\n",
       "      <td>B</td>\n",
       "    </tr>\n",
       "    <tr>\n",
       "      <th>1196</th>\n",
       "      <td>3936777065</td>\n",
       "      <td>2108080724</td>\n",
       "      <td>2019-08-15</td>\n",
       "      <td>202740</td>\n",
       "      <td>B</td>\n",
       "    </tr>\n",
       "    <tr>\n",
       "      <th>858</th>\n",
       "      <td>192721366</td>\n",
       "      <td>1316129916</td>\n",
       "      <td>2019-08-27</td>\n",
       "      <td>93940</td>\n",
       "      <td>A</td>\n",
       "    </tr>\n",
       "    <tr>\n",
       "      <th>1136</th>\n",
       "      <td>666610489</td>\n",
       "      <td>1307669133</td>\n",
       "      <td>2019-08-13</td>\n",
       "      <td>92550</td>\n",
       "      <td>A</td>\n",
       "    </tr>\n",
       "    <tr>\n",
       "      <th>744</th>\n",
       "      <td>3668308183</td>\n",
       "      <td>888512513</td>\n",
       "      <td>2019-08-27</td>\n",
       "      <td>86620</td>\n",
       "      <td>B</td>\n",
       "    </tr>\n",
       "    <tr>\n",
       "      <th>682</th>\n",
       "      <td>1216533772</td>\n",
       "      <td>4266935830</td>\n",
       "      <td>2019-08-29</td>\n",
       "      <td>78990</td>\n",
       "      <td>B</td>\n",
       "    </tr>\n",
       "    <tr>\n",
       "      <th>662</th>\n",
       "      <td>1811671147</td>\n",
       "      <td>4266935830</td>\n",
       "      <td>2019-08-29</td>\n",
       "      <td>78990</td>\n",
       "      <td>A</td>\n",
       "    </tr>\n",
       "    <tr>\n",
       "      <th>743</th>\n",
       "      <td>3603576309</td>\n",
       "      <td>4133034833</td>\n",
       "      <td>2019-08-09</td>\n",
       "      <td>67990</td>\n",
       "      <td>A</td>\n",
       "    </tr>\n",
       "    <tr>\n",
       "      <th>1103</th>\n",
       "      <td>1348774318</td>\n",
       "      <td>1164614297</td>\n",
       "      <td>2019-08-12</td>\n",
       "      <td>66350</td>\n",
       "      <td>A</td>\n",
       "    </tr>\n",
       "    <tr>\n",
       "      <th>1099</th>\n",
       "      <td>316924019</td>\n",
       "      <td>148427295</td>\n",
       "      <td>2019-08-12</td>\n",
       "      <td>65710</td>\n",
       "      <td>A</td>\n",
       "    </tr>\n",
       "    <tr>\n",
       "      <th>949</th>\n",
       "      <td>1347999392</td>\n",
       "      <td>887908475</td>\n",
       "      <td>2019-08-21</td>\n",
       "      <td>60450</td>\n",
       "      <td>A</td>\n",
       "    </tr>\n",
       "    <tr>\n",
       "      <th>940</th>\n",
       "      <td>2420050534</td>\n",
       "      <td>4003628586</td>\n",
       "      <td>2019-08-08</td>\n",
       "      <td>58550</td>\n",
       "      <td>B</td>\n",
       "    </tr>\n",
       "    <tr>\n",
       "      <th>1029</th>\n",
       "      <td>469609643</td>\n",
       "      <td>2378935119</td>\n",
       "      <td>2019-08-10</td>\n",
       "      <td>58220</td>\n",
       "      <td>A</td>\n",
       "    </tr>\n",
       "    <tr>\n",
       "      <th>873</th>\n",
       "      <td>2519737434</td>\n",
       "      <td>4256040402</td>\n",
       "      <td>2019-08-08</td>\n",
       "      <td>58220</td>\n",
       "      <td>B</td>\n",
       "    </tr>\n",
       "    <tr>\n",
       "      <th>60</th>\n",
       "      <td>1421016313</td>\n",
       "      <td>4256040402</td>\n",
       "      <td>2019-08-16</td>\n",
       "      <td>56650</td>\n",
       "      <td>B</td>\n",
       "    </tr>\n",
       "  </tbody>\n",
       "</table>\n",
       "</div>"
      ],
      "text/plain": [
       "      transaction_id  visitor_id       date  revenue group\n",
       "425   590470918       1920142716 2019-08-19  1294500  B   \n",
       "1196  3936777065      2108080724 2019-08-15  202740   B   \n",
       "858   192721366       1316129916 2019-08-27  93940    A   \n",
       "1136  666610489       1307669133 2019-08-13  92550    A   \n",
       "744   3668308183      888512513  2019-08-27  86620    B   \n",
       "682   1216533772      4266935830 2019-08-29  78990    B   \n",
       "662   1811671147      4266935830 2019-08-29  78990    A   \n",
       "743   3603576309      4133034833 2019-08-09  67990    A   \n",
       "1103  1348774318      1164614297 2019-08-12  66350    A   \n",
       "1099  316924019       148427295  2019-08-12  65710    A   \n",
       "949   1347999392      887908475  2019-08-21  60450    A   \n",
       "940   2420050534      4003628586 2019-08-08  58550    B   \n",
       "1029  469609643       2378935119 2019-08-10  58220    A   \n",
       "873   2519737434      4256040402 2019-08-08  58220    B   \n",
       "60    1421016313      4256040402 2019-08-16  56650    B   "
      ]
     },
     "execution_count": 62,
     "metadata": {},
     "output_type": "execute_result"
    }
   ],
   "source": [
    "orders.sort_values('revenue', ascending=False).head(15)"
   ]
  },
  {
   "cell_type": "markdown",
   "id": "ef475e35",
   "metadata": {},
   "source": [
    "##### Видим:\n",
    "\n",
    "Как и в случае с количеством заказов \"нижняя\" часть вывода по всей видимости представляет собой \"типичную массу\": величина чека здесь распределена довольно ровно и отлиичя соседник позиций незначительны (2-5%).      \n",
    "Однако как минимум первые две строки кратно (в разы) отличаются даже от \"ближайших преследователей\", которые и сами по себе являются величинами большими и в свою очередь почти вдвое превосходят представителей 10-15 мест. Такие величины стоимоти заказов никак не могут рассматриваться как типичные и наверняка являются выбросами.\n",
    "\n",
    "Чтобы лучше увидеть распределение стоимости заказов построим точечную диаграмму этого распределения."
   ]
  },
  {
   "cell_type": "code",
   "execution_count": 63,
   "id": "634da97a",
   "metadata": {},
   "outputs": [
    {
     "data": {
      "image/png": "[encoded data removed]",
      "text/plain": [
       "<Figure size 1200x400 with 1 Axes>"
      ]
     },
     "metadata": {},
     "output_type": "display_data"
    }
   ],
   "source": [
    "# задаем параметр для оси х по количеству пользователей в orders\n",
    "x_values = pd.Series(range(0,len(orders['revenue'])))\n",
    "\n",
    "# задаем рамку графика\n",
    "plt.figure(figsize=(12,4))\n",
    "\n",
    "# задаем точечную диаграмму\n",
    "plt.scatter(x_values, orders['revenue']) \n",
    "\n",
    "# задаем параметры графика\n",
    "plt.xlabel('Количество заказов')\n",
    "plt.ylabel('Стоимость заказа (M)')\n",
    "plt.title('Распределение стоимости заказов')\n",
    "\n",
    "# выводим результат\n",
    "plt.show()"
   ]
  },
  {
   "cell_type": "markdown",
   "id": "9f3dcccb",
   "metadata": {},
   "source": [
    "Пока видно только то, что за счет одногонеобычайно большого выброса в стоимости заказа весь масштаб диаграммы \"сдвинулся вверх\" и более-менее детально увидеть распределение в \"околонулевой\" области, где и находятся практически все точки распределения - практически невозможно.      \n",
    "Видно только, что основная масса точек в области меньше 100 тысяч, есть возможно несколько выбросов больше 100 тысяч и буквально один выброс около 200 тысяч.\n",
    "\n",
    "Попробуем ввести ограничение сверху на масштаб по оси y в 100-120 тысяч и рассмотреть повнимательнее \"нижнюю\" часть."
   ]
  },
  {
   "cell_type": "code",
   "execution_count": 64,
   "id": "aab31805",
   "metadata": {},
   "outputs": [
    {
     "data": {
      "image/png": "[encoded data removed]",
      "text/plain": [
       "<Figure size 1200x400 with 1 Axes>"
      ]
     },
     "metadata": {},
     "output_type": "display_data"
    }
   ],
   "source": [
    "# задаем параметр для оси х по количеству пользователей в orders\n",
    "x_values = pd.Series(range(0,len(orders['revenue'])))\n",
    "\n",
    "# задаем рамку графика\n",
    "plt.figure(figsize=(12,4))\n",
    "\n",
    "# задаем точечную диаграмму\n",
    "plt.scatter(x_values, orders['revenue']) \n",
    "\n",
    "# задаем параметры графика\n",
    "plt.ylim(0,100000)\n",
    "plt.xlabel('Количество заказов')\n",
    "plt.ylabel('Стоимость заказа (M)')\n",
    "plt.title('Распределение стоимости заказов')\n",
    "\n",
    "# выводим результат\n",
    "plt.show()"
   ]
  },
  {
   "cell_type": "markdown",
   "id": "f7102df0",
   "metadata": {},
   "source": [
    "##### Видим:\n",
    "\n",
    "• подавляющее большинство выборки составляют суммы, меньше 25 тысяч рублей;             \n",
    "• суммы от 25 до 40 тысяч составляют хоть и меньшую, но значимую часть выборки;       \n",
    "• суммы от 40 до 60 тысяч видятся редкими, но наверное не единичными случаями;          \n",
    "• и наконец суммы выше 60 тысяч являются явно единичными. Общее их количество по всей видимости составляет 12-15 штук.     \n",
    "Думается, что такие случаи точно можно отнести к \"выбросам\"."
   ]
  },
  {
   "cell_type": "markdown",
   "id": "9ee7f1c1",
   "metadata": {},
   "source": [
    " "
   ]
  },
  {
   "cell_type": "markdown",
   "id": "f8ae6e9b",
   "metadata": {},
   "source": [
    "### 9.\tРасчет 95-й и 99-й перцентили стоимости заказов и выбор границы аномальных сумм заказов ."
   ]
  },
  {
   "cell_type": "markdown",
   "id": "ab461a6f",
   "metadata": {},
   "source": [
    "Посчитаем выборочные перцентили стоимости заказов при помощи функции np.percentile():"
   ]
  },
  {
   "cell_type": "code",
   "execution_count": 65,
   "id": "fd45cc8f",
   "metadata": {},
   "outputs": [
    {
     "name": "stdout",
     "output_type": "stream",
     "text": [
      "[28000.  39530.  58233.2]\n"
     ]
    }
   ],
   "source": [
    "print(np.percentile(orders['revenue'], [95, 97.5, 99])) "
   ]
  },
  {
   "cell_type": "markdown",
   "id": "ade4cf5a",
   "metadata": {},
   "source": [
    "##### Получается, что:          \n",
    "• не более 5% заказов имеют чек выше 28 тысяч рублей;    \n",
    "• только 1% заказов дороже 58 с четвертью тысяч.   \n",
    "\n",
    "Исходя из тех же соображений, которые мы высказывали при определении границы по количеству заказов (брать некую среднюю границу между  95% и 99% - где-то на уровне около 97.5%) наиболее взвешенным видится  выбор суммы в 40 тысяч рублей за заказ."
   ]
  },
  {
   "cell_type": "markdown",
   "id": "d9e63632",
   "metadata": {},
   "source": [
    " "
   ]
  },
  {
   "cell_type": "markdown",
   "id": "591c64ae",
   "metadata": {},
   "source": [
    "### 10.\tРасчет статистической значимости различий в среднем количестве заказов на посетителя между группами по «сырым» данным."
   ]
  },
  {
   "cell_type": "markdown",
   "id": "306847f8",
   "metadata": {},
   "source": [
    "Попробуем простроить логику действий:\n",
    "1. Чтобы посчитать статистическу значимость нужно по одному из статистических методов найти p-value предположения, что среднее количество заказов по группам равны.               \n",
    "2. Поскольку как мы выяснили ранее в наших тестах есть довольно много выбросов с точки зрения количества заказов на пользователя и мы такие выбросы пока не отсекаем - то будем пользоваться методом mannwhitneyu().           \n",
    "3. Чтобы получить корректный результат нам нужно предъявить в качестве аргументов метода массивы по группам А и В со значениями количества заказов на каждого посетителя сайта (не только не пользователя).          \n",
    "4. Чтобы получить такие массивы нужно разбить датафрейм orders на группы А и В, по каждой группе посчитать количество заказов на пользователя и затем дополнить каждый из этих массивов нулями до полного количества посетителей по каждой группе.\n",
    "\n",
    "Проделаем эти действия в обратном порядке."
   ]
  },
  {
   "cell_type": "markdown",
   "id": "741e54bd",
   "metadata": {},
   "source": [
    "На основе датафрейма orders создадим два отдельных датафрейма orders_by_users_a и orders_by_users_b со столбцами user_id и  user_id, аналогично тому, как мы делали чуть выше без разбивки на группы для построения точечной диаграммы."
   ]
  },
  {
   "cell_type": "code",
   "execution_count": 66,
   "id": "96c2f1ee",
   "metadata": {},
   "outputs": [
    {
     "data": {
      "text/html": [
       "<div>\n",
       "<style scoped>\n",
       "    .dataframe tbody tr th:only-of-type {\n",
       "        vertical-align: middle;\n",
       "    }\n",
       "\n",
       "    .dataframe tbody tr th {\n",
       "        vertical-align: top;\n",
       "    }\n",
       "\n",
       "    .dataframe thead th {\n",
       "        text-align: right;\n",
       "    }\n",
       "</style>\n",
       "<table border=\"1\" class=\"dataframe\">\n",
       "  <thead>\n",
       "    <tr style=\"text-align: right;\">\n",
       "      <th></th>\n",
       "      <th>user_id</th>\n",
       "      <th>orders</th>\n",
       "    </tr>\n",
       "  </thead>\n",
       "  <tbody>\n",
       "    <tr>\n",
       "      <th>499</th>\n",
       "      <td>4256040402</td>\n",
       "      <td>7</td>\n",
       "    </tr>\n",
       "    <tr>\n",
       "      <th>227</th>\n",
       "      <td>2038680547</td>\n",
       "      <td>5</td>\n",
       "    </tr>\n",
       "    <tr>\n",
       "      <th>278</th>\n",
       "      <td>2458001652</td>\n",
       "      <td>5</td>\n",
       "    </tr>\n",
       "  </tbody>\n",
       "</table>\n",
       "</div>"
      ],
      "text/plain": [
       "        user_id  orders\n",
       "499  4256040402  7     \n",
       "227  2038680547  5     \n",
       "278  2458001652  5     "
      ]
     },
     "metadata": {},
     "output_type": "display_data"
    },
    {
     "data": {
      "text/html": [
       "<div>\n",
       "<style scoped>\n",
       "    .dataframe tbody tr th:only-of-type {\n",
       "        vertical-align: middle;\n",
       "    }\n",
       "\n",
       "    .dataframe tbody tr th {\n",
       "        vertical-align: top;\n",
       "    }\n",
       "\n",
       "    .dataframe thead th {\n",
       "        text-align: right;\n",
       "    }\n",
       "</style>\n",
       "<table border=\"1\" class=\"dataframe\">\n",
       "  <thead>\n",
       "    <tr style=\"text-align: right;\">\n",
       "      <th></th>\n",
       "      <th>user_id</th>\n",
       "      <th>orders</th>\n",
       "    </tr>\n",
       "  </thead>\n",
       "  <tbody>\n",
       "    <tr>\n",
       "      <th>0</th>\n",
       "      <td>5114589</td>\n",
       "      <td>1</td>\n",
       "    </tr>\n",
       "    <tr>\n",
       "      <th>1</th>\n",
       "      <td>6958315</td>\n",
       "      <td>1</td>\n",
       "    </tr>\n",
       "    <tr>\n",
       "      <th>2</th>\n",
       "      <td>8300375</td>\n",
       "      <td>1</td>\n",
       "    </tr>\n",
       "  </tbody>\n",
       "</table>\n",
       "</div>"
      ],
      "text/plain": [
       "   user_id  orders\n",
       "0  5114589  1     \n",
       "1  6958315  1     \n",
       "2  8300375  1     "
      ]
     },
     "metadata": {},
     "output_type": "display_data"
    }
   ],
   "source": [
    "# разбиваем датафрейм по группам, группируем по visitor_id и берем количество уникальных transaction_id \n",
    "orders_by_users_a = (\n",
    "    orders[orders['group'] == 'A'].groupby('visitor_id', as_index=False).agg({'transaction_id': 'nunique'})\n",
    "                  )\n",
    "orders_by_users_a.columns = ['user_id', 'orders']\n",
    "\n",
    "orders_by_users_b = (\n",
    "    orders[orders['group'] == 'B'].groupby('visitor_id', as_index=False).agg({'transaction_id': 'nunique'})\n",
    "                  )\n",
    "orders_by_users_b.columns = ['user_id', 'orders']\n",
    "\n",
    "# смотрим что получилось\n",
    "display(orders_by_users_a.sort_values(by='orders', ascending=False).head(3))\n",
    "display(orders_by_users_b.head(3))"
   ]
  },
  {
   "cell_type": "markdown",
   "id": "9dd24f41",
   "metadata": {},
   "source": [
    "Для дальнейших действий из полученных датафреймов нам понадобятся столбцы orders.      \n",
    "Однако их нужно дополнить нулями таким образом, чтобы суммарное количесво записей в столбцах было равно общему количеству посетителей для каждой группы."
   ]
  },
  {
   "cell_type": "markdown",
   "id": "160f9bf8",
   "metadata": {},
   "source": [
    "Общее количество посетителей в каждой группе можно узнать разделив датафрейм visitors на группы А и В и просуммировав столбец visitors по дням.       \n",
    "Для удобства пока не будем агрегировать по дням. "
   ]
  },
  {
   "cell_type": "code",
   "execution_count": 67,
   "id": "4876cb7b",
   "metadata": {},
   "outputs": [
    {
     "data": {
      "text/html": [
       "<div>\n",
       "<style scoped>\n",
       "    .dataframe tbody tr th:only-of-type {\n",
       "        vertical-align: middle;\n",
       "    }\n",
       "\n",
       "    .dataframe tbody tr th {\n",
       "        vertical-align: top;\n",
       "    }\n",
       "\n",
       "    .dataframe thead th {\n",
       "        text-align: right;\n",
       "    }\n",
       "</style>\n",
       "<table border=\"1\" class=\"dataframe\">\n",
       "  <thead>\n",
       "    <tr style=\"text-align: right;\">\n",
       "      <th></th>\n",
       "      <th>date</th>\n",
       "      <th>visitors</th>\n",
       "    </tr>\n",
       "  </thead>\n",
       "  <tbody>\n",
       "    <tr>\n",
       "      <th>0</th>\n",
       "      <td>2019-08-01</td>\n",
       "      <td>719</td>\n",
       "    </tr>\n",
       "    <tr>\n",
       "      <th>1</th>\n",
       "      <td>2019-08-02</td>\n",
       "      <td>619</td>\n",
       "    </tr>\n",
       "    <tr>\n",
       "      <th>2</th>\n",
       "      <td>2019-08-03</td>\n",
       "      <td>507</td>\n",
       "    </tr>\n",
       "    <tr>\n",
       "      <th>3</th>\n",
       "      <td>2019-08-04</td>\n",
       "      <td>717</td>\n",
       "    </tr>\n",
       "    <tr>\n",
       "      <th>4</th>\n",
       "      <td>2019-08-05</td>\n",
       "      <td>756</td>\n",
       "    </tr>\n",
       "  </tbody>\n",
       "</table>\n",
       "</div>"
      ],
      "text/plain": [
       "        date  visitors\n",
       "0 2019-08-01  719     \n",
       "1 2019-08-02  619     \n",
       "2 2019-08-03  507     \n",
       "3 2019-08-04  717     \n",
       "4 2019-08-05  756     "
      ]
     },
     "metadata": {},
     "output_type": "display_data"
    },
    {
     "data": {
      "text/html": [
       "<div>\n",
       "<style scoped>\n",
       "    .dataframe tbody tr th:only-of-type {\n",
       "        vertical-align: middle;\n",
       "    }\n",
       "\n",
       "    .dataframe tbody tr th {\n",
       "        vertical-align: top;\n",
       "    }\n",
       "\n",
       "    .dataframe thead th {\n",
       "        text-align: right;\n",
       "    }\n",
       "</style>\n",
       "<table border=\"1\" class=\"dataframe\">\n",
       "  <thead>\n",
       "    <tr style=\"text-align: right;\">\n",
       "      <th></th>\n",
       "      <th>date</th>\n",
       "      <th>visitors</th>\n",
       "    </tr>\n",
       "  </thead>\n",
       "  <tbody>\n",
       "    <tr>\n",
       "      <th>31</th>\n",
       "      <td>2019-08-01</td>\n",
       "      <td>713</td>\n",
       "    </tr>\n",
       "    <tr>\n",
       "      <th>32</th>\n",
       "      <td>2019-08-02</td>\n",
       "      <td>581</td>\n",
       "    </tr>\n",
       "    <tr>\n",
       "      <th>33</th>\n",
       "      <td>2019-08-03</td>\n",
       "      <td>509</td>\n",
       "    </tr>\n",
       "    <tr>\n",
       "      <th>34</th>\n",
       "      <td>2019-08-04</td>\n",
       "      <td>770</td>\n",
       "    </tr>\n",
       "    <tr>\n",
       "      <th>35</th>\n",
       "      <td>2019-08-05</td>\n",
       "      <td>707</td>\n",
       "    </tr>\n",
       "  </tbody>\n",
       "</table>\n",
       "</div>"
      ],
      "text/plain": [
       "         date  visitors\n",
       "31 2019-08-01  713     \n",
       "32 2019-08-02  581     \n",
       "33 2019-08-03  509     \n",
       "34 2019-08-04  770     \n",
       "35 2019-08-05  707     "
      ]
     },
     "metadata": {},
     "output_type": "display_data"
    }
   ],
   "source": [
    "# выделяем посетителей из группы А\n",
    "visitors_daily_a = visitors[visitors['group'] == 'A'][['date', 'visitors']]\n",
    "\n",
    "# выделяем посетителей из группы В\n",
    "visitors_daily_b = visitors[visitors['group'] == 'B'][['date', 'visitors']]\n",
    "\n",
    "# смотрим что получилось\n",
    "display(visitors_daily_a.head())\n",
    "display(visitors_daily_b.head())"
   ]
  },
  {
   "cell_type": "markdown",
   "id": "caca80b4",
   "metadata": {},
   "source": [
    "Создадим объект pd.Series для \"дополнения\" нулями. Его длина например для группы А должна составлять: сумма по колонке visitors датафрейма visitors_daily_a минус длина столбца order датафрейма orders_by_users_a, который мы сформировали чуть выше. Длину зададим методом np.arange()"
   ]
  },
  {
   "cell_type": "code",
   "execution_count": 68,
   "id": "a00a4606",
   "metadata": {},
   "outputs": [
    {
     "data": {
      "text/plain": [
       "0    0\n",
       "1    0\n",
       "2    0\n",
       "3    0\n",
       "4    0\n",
       "Name: orders, dtype: int64"
      ]
     },
     "metadata": {},
     "output_type": "display_data"
    },
    {
     "data": {
      "text/plain": [
       "18325    0\n",
       "18326    0\n",
       "18327    0\n",
       "18328    0\n",
       "18329    0\n",
       "Name: orders, dtype: int64"
      ]
     },
     "metadata": {},
     "output_type": "display_data"
    }
   ],
   "source": [
    "# формируем серию для группы А\n",
    "zero_add_a = pd.Series(0, index=np.arange(visitors_daily_a['visitors'].sum() \\\n",
    "                                          - len(orders_by_users_a['orders'])), name='orders')\n",
    "\n",
    "# формируем серию для группы B\n",
    "zero_add_b = pd.Series(0, index=np.arange(visitors_daily_b['visitors'].sum() \\\n",
    "                                          - len(orders_by_users_b['orders'])), name='orders')\n",
    "                       \n",
    "\n",
    "# смотрим что получилось\n",
    "display(zero_add_a.head())\n",
    "display(zero_add_b.tail())"
   ]
  },
  {
   "cell_type": "markdown",
   "id": "89cacdd7",
   "metadata": {},
   "source": [
    "Теперь последовательно \"склеим\" столбец order датафрейма orders_by_users_* с созданной серией zero_add_* при помощи функции pd.concat() и получим выборки групп А и В для предъявления в качестве аргументов для статистического метода Манна-Уитни"
   ]
  },
  {
   "cell_type": "code",
   "execution_count": 69,
   "id": "a764d4ee",
   "metadata": {
    "scrolled": true
   },
   "outputs": [
    {
     "data": {
      "text/plain": [
       "0    1\n",
       "1    1\n",
       "2    1\n",
       "Name: orders, dtype: int64"
      ]
     },
     "metadata": {},
     "output_type": "display_data"
    },
    {
     "data": {
      "text/plain": [
       "18327    0\n",
       "18328    0\n",
       "18329    0\n",
       "Name: orders, dtype: int64"
      ]
     },
     "metadata": {},
     "output_type": "display_data"
    }
   ],
   "source": [
    "# формируем выборку из \"сырых\" данных для группы А\n",
    "sample_orders_a = pd.concat([orders_by_users_a['orders'], zero_add_a], axis=0) \n",
    "\n",
    "# формируем выборку из \"сырых\" данных для группы В\n",
    "sample_orders_b = pd.concat([orders_by_users_b['orders'], zero_add_b], axis=0)\n",
    "\n",
    "# смотрим что получилось\n",
    "display(sample_orders_a.head(3))\n",
    "display(sample_orders_b.tail(3))"
   ]
  },
  {
   "cell_type": "markdown",
   "id": "93f1a0a7",
   "metadata": {},
   "source": [
    "Ну и наконец применим статистический метод Манна-Уитни (mannwhitneyu()).    \n",
    "Нулевая гипотеза - среднее количество заказов на посетителя, посчитанное на основе «сырых» данных для групп А и В равны;    \n",
    "Альтернативная гипотеза - что они не равны.      \n",
    "Уровень статистической значимости alpha возьмем равным 5%.      \n",
    "Получим p-value и сравним с alpha:    \n",
    "если p-value меньше или равна alpha - нулевую гипотезу о равенстве отвергнем в пользу альтернативной гипотезы,      \n",
    "если же p-value больше alpha - нулевую гипотезу о равенстве не станем отвергать."
   ]
  },
  {
   "cell_type": "code",
   "execution_count": 70,
   "id": "0844576b",
   "metadata": {},
   "outputs": [
    {
     "name": "stdout",
     "output_type": "stream",
     "text": [
      "p-значение: 0.016792355056752608\n",
      "Отвергаем нулевую гипотезу: различия между группами есть\n"
     ]
    }
   ],
   "source": [
    "alpha = 0.05\n",
    "\n",
    "results = stats.mannwhitneyu(sample_orders_a, sample_orders_b)\n",
    "\n",
    "print('p-значение:', results.pvalue)\n",
    "\n",
    "if results.pvalue < alpha:\n",
    "    print('Отвергаем нулевую гипотезу: различия между группами есть')\n",
    "else:\n",
    "    print('Не получилось отвергнуть нулевую гипотезу')"
   ]
  },
  {
   "cell_type": "markdown",
   "id": "387c8006",
   "metadata": {},
   "source": [
    "##### Таким образом:\n",
    "\n",
    "По результатам оценки статистиеской значимости различий в среднем количестве заказов на посетителя между группами по «сырым» данным можем утверждать, \n",
    "• что различия в среднем количестве заказов между группами есть    \n",
    "• и эти различия статистически значимы (причем не только для уровня 5% но и для уровня например 2%).\n",
    "\n",
    "По всей видимости можно (пока с опасениями относительно влияния выбросов) подтвердить сделанное нами ранее предположение, что в группе В (вероятно экспериментальной) среднее количество заказов на посетителя на 13-15% больше, чем в контрольной группе А."
   ]
  },
  {
   "cell_type": "markdown",
   "id": "463f9b4d",
   "metadata": {},
   "source": [
    " "
   ]
  },
  {
   "cell_type": "markdown",
   "id": "c73ea436",
   "metadata": {},
   "source": [
    "### 11.\tРасчет статистической значимости различий в среднем чеке заказа между группами по «сырым» данным."
   ]
  },
  {
   "cell_type": "markdown",
   "id": "f60329db",
   "metadata": {},
   "source": [
    "Рассчитать статистическую значимость для среднего чека несколько проще, чем для количества заказов на посетителя.   \n",
    "Данные для подстановки в качестве аргументов в метод mannwhitneyu() в этом случае - это просто части столбца revenue датафрейма orders, отделенные по группам А и В. "
   ]
  },
  {
   "cell_type": "code",
   "execution_count": 71,
   "id": "675dd637",
   "metadata": {},
   "outputs": [
    {
     "data": {
      "text/plain": [
       "2    400  \n",
       "7    1044 \n",
       "8    13710\n",
       "Name: revenue, dtype: int64"
      ]
     },
     "metadata": {},
     "output_type": "display_data"
    },
    {
     "data": {
      "text/plain": [
       "1191    16490 \n",
       "1192    6490  \n",
       "1196    202740\n",
       "Name: revenue, dtype: int64"
      ]
     },
     "metadata": {},
     "output_type": "display_data"
    }
   ],
   "source": [
    "# формируем выборку из \"сырых\" данных для группы А\n",
    "sample_revenue_a = orders[orders['group'] == 'A']['revenue'] \n",
    "\n",
    "# формируем выборку из \"сырых\" данных для группы В\n",
    "sample_revenue_b = orders[orders['group'] == 'B']['revenue']\n",
    "\n",
    "# смотрим что получилось\n",
    "display(sample_revenue_a.head(3))\n",
    "display(sample_revenue_b.tail(3))"
   ]
  },
  {
   "cell_type": "markdown",
   "id": "69bde439",
   "metadata": {},
   "source": [
    "На основе полученных выборок по группам А и В применим метод mannwhitneyu() определения статистической значимости.    \n",
    "Нулевая гипотеза - средние чеки заказов, посчитанное на основе «сырых» данных, для групп А и В равны;    \n",
    "Альтернативная гипотеза - средний чек заказа в группе А отличается о среднего чека в группе В.      \n",
    "Уровень статистической значимости alpha возьмем равным 5%.      \n",
    "Получим p-value и сравним с alpha:    \n",
    "если p-value меньше или равна alpha - нулевую гипотезу о равенстве отвергнем в пользу альтернативной гипотезы,      \n",
    "если же p-value больше alpha - нулевую гипотезу о равенстве не станем отвергать."
   ]
  },
  {
   "cell_type": "code",
   "execution_count": 72,
   "id": "e5c95097",
   "metadata": {},
   "outputs": [
    {
     "name": "stdout",
     "output_type": "stream",
     "text": [
      "p-значение: 0.7292909855432458\n",
      "Не получилось отвергнуть нулевую гипотезу: различия между группами незначимы\n"
     ]
    }
   ],
   "source": [
    "alpha = 0.05\n",
    "\n",
    "results = stats.mannwhitneyu(sample_revenue_a, sample_revenue_b)\n",
    "\n",
    "print('p-значение:', results.pvalue)\n",
    "\n",
    "if results.pvalue < alpha:\n",
    "    print('Отвергаем нулевую гипотезу: значимые различия между группами есть')\n",
    "else:\n",
    "    print('Не получилось отвергнуть нулевую гипотезу: различия между группами незначимы')"
   ]
  },
  {
   "cell_type": "markdown",
   "id": "667ed2bd",
   "metadata": {},
   "source": [
    "##### Таким образом:\n",
    "\n",
    "По результатам оценки статистиеской значимости различий в среднем чеке заказа между группами А и В по «сырым» данным можем утверждать, что причин отвергать нулевую гипотезу и считать, что в среднем чеке есть различия, нет.    \n",
    "\n",
    "То есть по результатам теста наличие статистически значимых различий в среднем чеке между группами не подтвердилось. "
   ]
  },
  {
   "cell_type": "markdown",
   "id": "9a4ee79a",
   "metadata": {},
   "source": [
    " "
   ]
  },
  {
   "cell_type": "markdown",
   "id": "fdbf251d",
   "metadata": {},
   "source": [
    "### 12.\tРасчет статистической значимости различий в среднем количестве заказов на посетителя между группами по «очищенным» данным."
   ]
  },
  {
   "cell_type": "markdown",
   "id": "14be54aa",
   "metadata": {},
   "source": [
    "Для расчета статистической значимости различий в среднем количестве заказов на посетителя между группами по «очищенным» данным нужно:       \n",
    "• сначала очистить данные от выбросов,     \n",
    "• а затем повторить те же шаги, которые мы проделали в пункте 10, рассчитывая статистическую значимость по сырам данным. "
   ]
  },
  {
   "cell_type": "markdown",
   "id": "e5af61e6",
   "metadata": {},
   "source": [
    "##### формирование списка \"аномалий\""
   ]
  },
  {
   "cell_type": "markdown",
   "id": "5d43bd5b",
   "metadata": {},
   "source": [
    "В пункте 7 мы рассчитывали 95 и 99 перцентили для количества заказов на клиента и выяснили, что 3 и более заказов оформили не более 5% пользователей, а 5 и более заказов - 1 %.     \n",
    "Там же мы предположили, что оптимальным было бы принять в качестве верхней границы количество заказов раное 3 (то есть отсекать 4 и более заказов), что соответствует перцентили 97.5%. То есть мы уберем из рассмотрения 2.5% пользователей с аномально большим количеством заказов.    \n",
    "На основе датафреймов orders_by_users_* сделаем срезы id пользователей с числом заказов больше 4 для групп А и В и объединим их в один объект pd.Series функцией pd.concat()"
   ]
  },
  {
   "cell_type": "code",
   "execution_count": 73,
   "id": "8e38cac3",
   "metadata": {},
   "outputs": [
    {
     "data": {
      "text/plain": [
       "18     199603092 \n",
       "23     237748145 \n",
       "227    2038680547\n",
       "269    2378935119\n",
       "278    2458001652\n",
       "Name: user_id, dtype: int64"
      ]
     },
     "execution_count": 73,
     "metadata": {},
     "output_type": "execute_result"
    }
   ],
   "source": [
    "# формируем срез по количеству заказов\n",
    "users_with_many_orders = pd.concat( \n",
    "    [\n",
    "    orders_by_users_a[orders_by_users_a['orders'] > 3]['user_id'], \\\n",
    "    orders_by_users_b[orders_by_users_b['orders'] > 3]['user_id']\n",
    "    ],\n",
    "    axis=0 )\n",
    "\n",
    "# смотрим что получилось\n",
    "users_with_many_orders.head()"
   ]
  },
  {
   "cell_type": "markdown",
   "id": "e9eb15c0",
   "metadata": {},
   "source": [
    "Для фактической очистки данных от выбросов есть смысл здесь же провести очистку так же от пользователей, совершивших аномально большие по размеру чека заказы.   \n",
    "\n",
    "В пункте 9 мы отмечали, что не более 5% заказов имеют чек выше 28 тысяч рублей и 1% заказов дороже 58 с четвертью тысяч.       \n",
    "Там же мы выдвинули предложение принять в качестве верхней границы сумму чека равную 40 тысячам рублей, что примерно соответствует то же перцентили 97.5%. \n",
    "\n",
    "На основе датафрейма orders сделаем срезы id пользователей с заказами больше 40000 рублей для групп А и В"
   ]
  },
  {
   "cell_type": "code",
   "execution_count": 74,
   "id": "381f8f40",
   "metadata": {
    "scrolled": true
   },
   "outputs": [
    {
     "data": {
      "text/plain": [
       "60     4256040402\n",
       "78     3288820196\n",
       "131    2254586615\n",
       "287    2254456485\n",
       "339    834731816 \n",
       "Name: visitor_id, dtype: int64"
      ]
     },
     "execution_count": 74,
     "metadata": {},
     "output_type": "execute_result"
    }
   ],
   "source": [
    "# формируем срез по размеру чека заказов\n",
    "users_with_expensive_orders = orders[orders['revenue'] > 40000]['visitor_id']\n",
    "\n",
    "# смотрим что получилось\n",
    "users_with_expensive_orders.head()"
   ]
  },
  {
   "cell_type": "code",
   "execution_count": 83,
   "id": "8b0d4aa3",
   "metadata": {},
   "outputs": [
    {
     "data": {
      "text/plain": [
       "60     4256040402\n",
       "78     3288820196\n",
       "131    2254586615\n",
       "287    2254456485\n",
       "339    834731816 \n",
       "Name: visitor_id, dtype: int64"
      ]
     },
     "execution_count": 83,
     "metadata": {},
     "output_type": "execute_result"
    }
   ],
   "source": [
    "# формируем срез по размеру чека заказов\n",
    "users_with_expensive_orders = orders[orders['revenue'] > np.percentile(orders['revenue'], 97.5)]['visitor_id']\n",
    "\n",
    "# смотрим что получилось\n",
    "users_with_expensive_orders.head()"
   ]
  },
  {
   "cell_type": "markdown",
   "id": "0833c234",
   "metadata": {},
   "source": [
    "Объединим оба среза в один функцией pd.concat()"
   ]
  },
  {
   "cell_type": "code",
   "execution_count": 84,
   "id": "f333cf88",
   "metadata": {},
   "outputs": [
    {
     "data": {
      "text/plain": [
       "18     199603092 \n",
       "23     237748145 \n",
       "227    2038680547\n",
       "269    2378935119\n",
       "278    2458001652\n",
       "dtype: int64"
      ]
     },
     "metadata": {},
     "output_type": "display_data"
    },
    {
     "data": {
      "text/plain": [
       "42"
      ]
     },
     "execution_count": 84,
     "metadata": {},
     "output_type": "execute_result"
    }
   ],
   "source": [
    "# объединяем два критерия и получаем список \"аномалий\"\n",
    "abnormal_users = pd.concat( [ users_with_many_orders, users_with_expensive_orders ], axis=0)\n",
    "\n",
    "# смотрим что получилось и смотрим сколько всего таких \"аномалий\"\n",
    "display(abnormal_users.head())\n",
    "abnormal_users.shape[0]"
   ]
  },
  {
   "cell_type": "markdown",
   "id": "e311f8d8",
   "metadata": {},
   "source": [
    "Итак, мы удалили из рассмотрения 41 пользователя, что составляет крайне малую долю от более чем тысячи участников теста."
   ]
  },
  {
   "cell_type": "markdown",
   "id": "17f510f8",
   "metadata": {},
   "source": [
    "##### «очистка» данных"
   ]
  },
  {
   "cell_type": "markdown",
   "id": "7431ae91",
   "metadata": {},
   "source": [
    "Теперь на основе \"сырых\" данных и списка аномалий формируем \"очищенные\" данные для формирования выборок."
   ]
  },
  {
   "cell_type": "code",
   "execution_count": 85,
   "id": "9de1cc94",
   "metadata": {},
   "outputs": [
    {
     "data": {
      "text/html": [
       "<div>\n",
       "<style scoped>\n",
       "    .dataframe tbody tr th:only-of-type {\n",
       "        vertical-align: middle;\n",
       "    }\n",
       "\n",
       "    .dataframe tbody tr th {\n",
       "        vertical-align: top;\n",
       "    }\n",
       "\n",
       "    .dataframe thead th {\n",
       "        text-align: right;\n",
       "    }\n",
       "</style>\n",
       "<table border=\"1\" class=\"dataframe\">\n",
       "  <thead>\n",
       "    <tr style=\"text-align: right;\">\n",
       "      <th></th>\n",
       "      <th>user_id</th>\n",
       "      <th>orders</th>\n",
       "    </tr>\n",
       "  </thead>\n",
       "  <tbody>\n",
       "    <tr>\n",
       "      <th>0</th>\n",
       "      <td>8300375</td>\n",
       "      <td>1</td>\n",
       "    </tr>\n",
       "    <tr>\n",
       "      <th>1</th>\n",
       "      <td>11685486</td>\n",
       "      <td>1</td>\n",
       "    </tr>\n",
       "    <tr>\n",
       "      <th>2</th>\n",
       "      <td>54447517</td>\n",
       "      <td>1</td>\n",
       "    </tr>\n",
       "    <tr>\n",
       "      <th>3</th>\n",
       "      <td>66685450</td>\n",
       "      <td>1</td>\n",
       "    </tr>\n",
       "    <tr>\n",
       "      <th>4</th>\n",
       "      <td>78758296</td>\n",
       "      <td>1</td>\n",
       "    </tr>\n",
       "  </tbody>\n",
       "</table>\n",
       "</div>"
      ],
      "text/plain": [
       "    user_id  orders\n",
       "0  8300375   1     \n",
       "1  11685486  1     \n",
       "2  54447517  1     \n",
       "3  66685450  1     \n",
       "4  78758296  1     "
      ]
     },
     "metadata": {},
     "output_type": "display_data"
    },
    {
     "data": {
      "text/html": [
       "<div>\n",
       "<style scoped>\n",
       "    .dataframe tbody tr th:only-of-type {\n",
       "        vertical-align: middle;\n",
       "    }\n",
       "\n",
       "    .dataframe tbody tr th {\n",
       "        vertical-align: top;\n",
       "    }\n",
       "\n",
       "    .dataframe thead th {\n",
       "        text-align: right;\n",
       "    }\n",
       "</style>\n",
       "<table border=\"1\" class=\"dataframe\">\n",
       "  <thead>\n",
       "    <tr style=\"text-align: right;\">\n",
       "      <th></th>\n",
       "      <th>user_id</th>\n",
       "      <th>orders</th>\n",
       "    </tr>\n",
       "  </thead>\n",
       "  <tbody>\n",
       "    <tr>\n",
       "      <th>0</th>\n",
       "      <td>5114589</td>\n",
       "      <td>1</td>\n",
       "    </tr>\n",
       "    <tr>\n",
       "      <th>1</th>\n",
       "      <td>6958315</td>\n",
       "      <td>1</td>\n",
       "    </tr>\n",
       "    <tr>\n",
       "      <th>2</th>\n",
       "      <td>8300375</td>\n",
       "      <td>1</td>\n",
       "    </tr>\n",
       "    <tr>\n",
       "      <th>3</th>\n",
       "      <td>39475350</td>\n",
       "      <td>1</td>\n",
       "    </tr>\n",
       "    <tr>\n",
       "      <th>4</th>\n",
       "      <td>47206413</td>\n",
       "      <td>1</td>\n",
       "    </tr>\n",
       "  </tbody>\n",
       "</table>\n",
       "</div>"
      ],
      "text/plain": [
       "    user_id  orders\n",
       "0  5114589   1     \n",
       "1  6958315   1     \n",
       "2  8300375   1     \n",
       "3  39475350  1     \n",
       "4  47206413  1     "
      ]
     },
     "metadata": {},
     "output_type": "display_data"
    }
   ],
   "source": [
    "# убираем \"лишнее\" из orders_by_users_a\n",
    "filtered_orders_by_users_a = orders_by_users_a[np.logical_not(orders_by_users_a['user_id'].isin(abnormal_users))]\n",
    "\n",
    "# аналогично убираем \"лишнее\" из orders_by_users_b\n",
    "filtered_orders_by_users_b = orders_by_users_b[np.logical_not(orders_by_users_b['user_id'].isin(abnormal_users))]\n",
    "\n",
    "# смотрим что получилось\n",
    "display(filtered_orders_by_users_a.head())\n",
    "display(filtered_orders_by_users_b.head())"
   ]
  },
  {
   "cell_type": "markdown",
   "id": "50aeecb1",
   "metadata": {},
   "source": [
    "##### работа с «очищенными» данными"
   ]
  },
  {
   "cell_type": "markdown",
   "id": "8406d5da",
   "metadata": {},
   "source": [
    "Теперь формируем выборки для статистического теста ровно так-же, как делали это в пункте 10, используя тот же массив zero_add_*, только теперь для очищенных данных."
   ]
  },
  {
   "cell_type": "code",
   "execution_count": 86,
   "id": "dad13e32",
   "metadata": {},
   "outputs": [
    {
     "data": {
      "text/plain": [
       "0    1\n",
       "1    1\n",
       "2    1\n",
       "Name: orders, dtype: int64"
      ]
     },
     "metadata": {},
     "output_type": "display_data"
    },
    {
     "data": {
      "text/plain": [
       "18327    0\n",
       "18328    0\n",
       "18329    0\n",
       "Name: orders, dtype: int64"
      ]
     },
     "metadata": {},
     "output_type": "display_data"
    }
   ],
   "source": [
    "# формируем выборку из \"очищенных\" данных для группы А\n",
    "sample_filtered_orders_a = pd.concat([filtered_orders_by_users_a['orders'], zero_add_a], axis=0) \n",
    "\n",
    "# формируем выборку из \"очищенных\" данных для группы В\n",
    "sample_filtered_orders_b = pd.concat([filtered_orders_by_users_b['orders'], zero_add_b], axis=0)\n",
    "\n",
    "# смотрим что получилось\n",
    "display(sample_filtered_orders_a.head(3))\n",
    "display(sample_filtered_orders_b.tail(3))"
   ]
  },
  {
   "cell_type": "markdown",
   "id": "5453dfd0",
   "metadata": {},
   "source": [
    "Ну и теперь применим тот же статистический метод Манна-Уитни (mannwhitneyu()).    \n",
    "Нулевая гипотеза - среднее количество заказов на посетителя, посчитанное на основе теперь уже «очищенных» данных для групп А и В равны;    \n",
    "Альтернативная гипотеза - что они не равны.      \n",
    "Уровень статистической значимости alpha возьмем равным 5%.      \n",
    "Получим p-value и сравним с alpha:    \n",
    "если p-value меньше или равна alpha - нулевую гипотезу о равенстве отвергнем в пользу альтернативной гипотезы,      \n",
    "если же p-value больше alpha - нулевую гипотезу о равенстве не станем отвергать."
   ]
  },
  {
   "cell_type": "code",
   "execution_count": 87,
   "id": "47928003",
   "metadata": {},
   "outputs": [
    {
     "name": "stdout",
     "output_type": "stream",
     "text": [
      "p-значение: 0.009234216200791628\n",
      "Отвергаем нулевую гипотезу: значимые различия между группами есть\n"
     ]
    }
   ],
   "source": [
    "alpha = 0.05\n",
    "\n",
    "results = stats.mannwhitneyu(sample_filtered_orders_a, sample_filtered_orders_b)\n",
    "\n",
    "print('p-значение:', results.pvalue)\n",
    "\n",
    "if results.pvalue < alpha:\n",
    "    print('Отвергаем нулевую гипотезу: значимые различия между группами есть')\n",
    "else:\n",
    "    print('Не получилось отвергнуть нулевую гипотезу: различия между группами незначимы')"
   ]
  },
  {
   "cell_type": "markdown",
   "id": "06f802a2",
   "metadata": {},
   "source": [
    "##### Таким образом:\n",
    "\n",
    "По результатам оценки статистиеской значимости различий в среднем количестве заказов на посетителя между группами по «очищенным» данным можем утверждать, что     \n",
    "• различия в среднем количестве заказов между группами есть,       \n",
    "• эти различия статистически значимы,          \n",
    "• \"очистка\" данных незначительно увеличила \"уверенность\" в значимости различий: p-value снизилось с 0.0168 до 0.0139.\n",
    "\n",
    "Как следствие мы можем более-менее уверенно подтвердить предположение, сделанное в пункте 10 о том,     \n",
    "что в группе В среднее количество заказов на посетителя на 13-15% больше, чем в контрольной группе А."
   ]
  },
  {
   "cell_type": "markdown",
   "id": "5c455261",
   "metadata": {},
   "source": [
    " "
   ]
  },
  {
   "cell_type": "markdown",
   "id": "f541a794",
   "metadata": {},
   "source": [
    "### 13.\tРасчет статистической значимости различий в среднем чеке заказа между группами по «очищенным» данным."
   ]
  },
  {
   "cell_type": "markdown",
   "id": "e1544dde",
   "metadata": {},
   "source": [
    "Поскольку аномально большие покупки мы уже убрали из анализируемых данных на предыдущем пункте, то нам остается только сформировать выборки по группам для подстановки в статистический метод.     \n",
    "Чтобы сформировать выборки нам нужно взять значения столбца revenue из датафрейма orders для тех пользователей, которые входят в группу (А или В соответственно) и visitor_id которых не входит в abnormal_users.         \n",
    "\n",
    "Сформируем эти выборки."
   ]
  },
  {
   "cell_type": "code",
   "execution_count": 88,
   "id": "4a3d98d8",
   "metadata": {},
   "outputs": [
    {
     "data": {
      "text/plain": [
       "2     400  \n",
       "7     1044 \n",
       "8     13710\n",
       "10    4008 \n",
       "12    7370 \n",
       "Name: revenue, dtype: int64"
      ]
     },
     "metadata": {},
     "output_type": "display_data"
    },
    {
     "data": {
      "text/plain": [
       "1186    15380\n",
       "1189    31550\n",
       "1190    8600 \n",
       "1191    16490\n",
       "1192    6490 \n",
       "Name: revenue, dtype: int64"
      ]
     },
     "metadata": {},
     "output_type": "display_data"
    }
   ],
   "source": [
    "# формируем выборку из \"очищенных\" данных для группы А\n",
    "sample_filtered_revenue_a = orders[np.logical_and(orders['group'] == 'A',\n",
    "                                                  np.logical_not( orders['visitor_id'].isin(abnormal_users)\n",
    "                                                                )\n",
    "                                                 )\n",
    "                                  ]['revenue'] \n",
    "\n",
    "# формируем выборку из \"очищенных\" данных для группы В\n",
    "sample_filtered_revenue_b = orders[np.logical_and(orders['group'] == 'B',\n",
    "                                                  np.logical_not( orders['visitor_id'].isin(abnormal_users)\n",
    "                                                                )\n",
    "                                                 )\n",
    "                                  ]['revenue'] \n",
    "\n",
    "# смотрим что получилось\n",
    "display(sample_filtered_revenue_a.head())\n",
    "display(sample_filtered_revenue_b.tail())"
   ]
  },
  {
   "cell_type": "markdown",
   "id": "2e85d29a",
   "metadata": {},
   "source": [
    "Теперь применим к полученным выборкам по группам А и В метод mannwhitneyu() и определим статистическую значимость.    \n",
    "Нулевая гипотеза - средние чеки заказов, посчитанное на основе «очищенных» данных, для групп А и В равны;    \n",
    "Альтернативная гипотеза - средний чек заказа в группе А отличается о среднего чека в группе В.      \n",
    "Уровень статистической значимости alpha возьмем равным 5%.      "
   ]
  },
  {
   "cell_type": "code",
   "execution_count": 89,
   "id": "196a0c3a",
   "metadata": {},
   "outputs": [
    {
     "name": "stdout",
     "output_type": "stream",
     "text": [
      "p-значение: 0.6967159565325746\n",
      "Не получилось отвергнуть нулевую гипотезу: различия между группами незначимы\n"
     ]
    }
   ],
   "source": [
    "alpha = 0.05\n",
    "\n",
    "results = stats.mannwhitneyu(sample_filtered_revenue_a, sample_filtered_revenue_b)\n",
    "\n",
    "print('p-значение:', results.pvalue)\n",
    "\n",
    "if results.pvalue < alpha:\n",
    "    print('Отвергаем нулевую гипотезу: значимые различия между группами есть')\n",
    "else:\n",
    "    print('Не получилось отвергнуть нулевую гипотезу: различия между группами незначимы')"
   ]
  },
  {
   "cell_type": "markdown",
   "id": "659f6354",
   "metadata": {},
   "source": [
    "##### Таким образом:\n",
    "\n",
    "В это раз по результатам оценки статистиеской значимости различий в среднем чеке заказов между группами по «очищенным» данным можем утверждать, что     \n",
    "• различия в среднем чеке между группами есть,       \n",
    "• эти различия статистически значимы,          \n",
    "• \"очистка\" данных как и в случае с количеством заказов увеличила \"уверенность\" в значимости различий: p-value увеличилось с 0.729 до 0.959.\n",
    "\n",
    "Как следствие мы можем более-менее уверенно утверждать, что статистически значимых различий в среднем чеке между группами А и В нет."
   ]
  },
  {
   "cell_type": "markdown",
   "id": "cdf8a7f8",
   "metadata": {},
   "source": [
    " "
   ]
  },
  {
   "cell_type": "markdown",
   "id": "4b9689bb",
   "metadata": {},
   "source": [
    "## Шаг 4. Рекомендации по принятию решения по результатам теста."
   ]
  },
  {
   "cell_type": "markdown",
   "id": "234f3581",
   "metadata": {},
   "source": [
    "###### Допущения\n",
    "\n",
    "В вопросе принятития решения по результатм А/В тестов нужно иметь ввиду, что в описании проекта совершенно отсутствует описание контекст тестирования:              \n",
    "• какие ситуация и приоритеты у компании на момент проведения тестов (что важнее: заработать меньше, но прямо сейчас или заработать завтра но потенциально больше),                    \n",
    "• какие изменения/усовершенствования тестировались, какие задачи предполагалось решить внедрением этих изменений/усовершенстсвований,       \n",
    "• на изменение/улучшение какого параметра они были преимущественно направлены,\n",
    "• насколько эти изменения затратны и их реализация существенна для компании,                       \n",
    "• насколько существенны затраты на продолжение тестирования ...            \n",
    "\n",
    "Нужно понимать, что от такого описания и прежде всего от приоритетов по параметрам улучшений и от затарт на проведение тестов в большой степени зависит решение о завершении или продолжении тестирования.\n",
    "\n",
    "Будем предполагать, что данный проект - один из многих проектов компании, ситуация стабильна, затраты на реализацию не выбиваются из понятия \"рядовые затраты\", эффект от внедрения изменения (при \"положительном\" результате теста) даст прирост одного из многих продуктов компании и т.д.      \n",
    "То будем предполагать, что это один из многих \"рядовых\" проектов компании.\n",
    "\n",
    "Возможные опции решений в отношении А/В теста, которые имеет компания по окончанию Августа 2019:                \n",
    "1. Остановить тест, зафиксировать победу одной из групп;\n",
    "2. Остановить тест, зафиксировать отсутствие различий между группами;\n",
    "3. Продолжить тест.\n",
    "\n",
    "\n",
    "###### Резюме анализа\n",
    "\n",
    "Тестирование по сути разбивается на две категории:\n",
    "1. определение различий в количестве заказов на одного посетителя между группами;\n",
    "2. определение различий в среднем чеке заказов между группами.\n",
    "\n",
    "\n",
    "По первой категории (количество заказов на посетителя) А/В тестирование показало, что по состоянию на конец августа 2019 года:       \n",
    "1. Наблюдается статистически значимые различия в среднем количестве заказов на посетителя между группами.\n",
    "\n",
    "2. \"Очистка\" данных от выбросов не влияет кардинально на поведение показателя количестве заказов а лишь меняет уровень \"нашей уверенности\".               \n",
    "\n",
    "3. Судя по графикам  среднее количество заказов на посетителя в группе В на 13-15% больше, чем в группе А.          \n",
    "При этом разница не опускалась ниже уровня +10% с 08.08.2019 и тенденции к уменьшению указанной разницы в последнюю неделю тестирования не наблюдается.\n",
    "\n",
    "Если бы в данном проекте время играло бы приоритетную роль (заработать сейчас даже меньшие деньги для компании важнее, чем получить боле точные данные, скорректировать гипотезу и заработать больше впоследствии) - можно было бы рекомендовать прекратить тестирование с утверждением: \"давайте внедрять - прибавка в доходах будет не менее чем 10%\". Меньше этого уровня показатель не опускался с 8 августа и до конца месяца.        \n",
    "Однако, поскольку мы предполагаем, что компания большая и этот проект - рядовой и один из многих - то мы согласимся, что в этой ситуации такое решение может оказаться поспешным и неоптимальным.\n",
    "\n",
    "4. Опять же как показывают графики на финальном периоде тестирования (с 27 по 31 августа включительно) мы все-таки наблюдаем рост показателя отношения количества заказов на посетителя в группе В по отношению к группе А.     \n",
    "При этом рост показателя составляет +4%, что довольно существенно на фоне общего превышения в 10-15%. \n",
    "\n",
    "Поэтому если компания может позволить себе продолжить тестирование (что мы предполагаем по нашим \"домыслам по проекту\") - в отношении этого параметра было бы резонно предложить компании продолжить тестирование до стабилизации показателей по соотношению количества заказов на посетителя между группами.\n",
    "\n",
    "\n",
    "По второй категории (средний чек заказов) А/В тестирование показало:\n",
    "\n",
    "1. Статистически значимых различий в среднем чеке заказов между группами не наблюдается.           \n",
    "\n",
    "2. Как и в случае с количеством заказов \"очистка\" данных от выбросов не влияет на вывод предыдущего пункта, а лишь меняет уровень \"нашей уверенности\" в этом выводе.              \n",
    "\n",
    "3. Поведение графика относительного изменения куммулятивного среднего чека в группе В по отношению к группе А на финальном периоде тестирования (с 29 по 31 августа 2019 года включительно) демонстрирует признаки стабилизации на уровне +20-25% выше, чем в группе А. Да, статистической значимости в этом нет даже на \"очищенных данных\", но это только прибавляет аргументов в пользу того, чтобы немного подождать и не прерывать тест.\n",
    "\n",
    "Таким образом в отношении этого аргумента так-же было бы логично предложить компании продолжить тестирование до стабилизации показателей по соотношению среднего чека между группами.\n",
    "\n",
    "\n",
    "###### Вывод\n",
    "\n",
    "Поскольку наши выводы по обеим анализируемым блокам совпали, то в рамках допущений, принятых нами в начале ( о том, что компания большая, проект обычный, время не столь критично) можно рекомендовать компании      \n",
    "###### продолжить тестирование как минимум на неделю до относительной стабилизации как параметра среднего чека заказа, так и параметра количества заказов на посетителя.\n",
    "\n",
    "Это позволит уточнить показатели и тенденции их изменения, дать более точные рекомендации по проверяемой гипотезе и позволит как минимум более осознанно вводить предлагаемые изменения. "
   ]
  },
  {
   "cell_type": "markdown",
   "id": "afbac62a",
   "metadata": {},
   "source": [
    "#### Проект выполнил Александр Кийко.\n",
    "##### a.m.kiyko@yandex.ru"
   ]
  },
  {
   "cell_type": "markdown",
   "id": "feb7a77f",
   "metadata": {},
   "source": [
    "<div style=\"border:solid Chocolate 2px; padding: 40px\">\n",
    "\n",
    "# Общий вывод ревьюера\n",
    "\n",
    "<div class=\"alert alert-success\">\n",
    "\n",
    "Проделана хорошая аналитическая работа. Код написан чисто, соблюдена структура проекта, графики оформлены корректно и написаны логичные и обоснованные выводы. Проект выполнен на хорошем аналитическом уровне.\n",
    "\n",
    "</div>"
   ]
  },
  {
   "cell_type": "code",
   "execution_count": null,
   "id": "3f3014b7",
   "metadata": {},
   "outputs": [],
   "source": []
  }
 ],
 "metadata": {
  "kernelspec": {
   "display_name": "Python 3 (ipykernel)",
   "language": "python",
   "name": "python3"
  },
  "language_info": {
   "codemirror_mode": {
    "name": "ipython",
    "version": 3
   },
   "file_extension": ".py",
   "mimetype": "text/x-python",
   "name": "python",
   "nbconvert_exporter": "python",
   "pygments_lexer": "ipython3",
   "version": "3.11.5"
  },
  "toc": {
   "base_numbering": 1,
   "nav_menu": {},
   "number_sections": true,
   "sideBar": true,
   "skip_h1_title": true,
   "title_cell": "Table of Contents",
   "title_sidebar": "Contents",
   "toc_cell": false,
   "toc_position": {},
   "toc_section_display": true,
   "toc_window_display": true
  }
 },
 "nbformat": 4,
 "nbformat_minor": 5
}
