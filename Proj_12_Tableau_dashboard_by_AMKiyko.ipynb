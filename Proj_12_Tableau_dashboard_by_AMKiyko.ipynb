{
 "cells": [
  {
   "cell_type": "markdown",
   "id": "982c18d4",
   "metadata": {},
   "source": [
    "# Проект 12. Tableau."
   ]
  },
  {
   "cell_type": "markdown",
   "id": "b75d9224",
   "metadata": {},
   "source": [
    " "
   ]
  },
  {
   "cell_type": "markdown",
   "id": "b0f95dfd",
   "metadata": {},
   "source": [
    "Ссылка на проект на Tableau Public:\n",
    "\n",
    "https://public.tableau.com/app/profile/alexander.kiyko/viz/Project_16_TED_Conferences_V5/TED2008-2021?publish=yes\n"
   ]
  },
  {
   "cell_type": "markdown",
   "id": "afbac62a",
   "metadata": {},
   "source": [
    "#### Проект выполнил Александр Кийко.\n",
    "##### a.m.kiyko@yandex.ru"
   ]
  },
  {
   "cell_type": "markdown",
   "id": "408e2ea2",
   "metadata": {},
   "source": [
    "<div style=\"border:solid Chocolate 2px; padding: 40px\">\n",
    "\n",
    "**Общий вывод по проекту**\n",
    "\n",
    "Спасибо за твой проект! Ты отлично справился с данной работой! Видно, как ты успешно осваиваешь материал, применяешь полученные знания на практике. Мне было очень приятно проверять твою работу, надеюсь, мои советы были для тебя полезными.\n",
    "\n",
    "**Желаю удачи в последующем обучении и исследованиях!**😉"
   ]
  },
  {
   "cell_type": "code",
   "execution_count": null,
   "id": "5a215db3",
   "metadata": {},
   "outputs": [],
   "source": []
  }
 ],
 "metadata": {
  "ExecuteTimeLog": [
   {
    "duration": 69,
    "start_time": "2024-03-28T15:17:11.713Z"
   }
  ],
  "kernelspec": {
   "display_name": "Python 3 (ipykernel)",
   "language": "python",
   "name": "python3"
  },
  "language_info": {
   "codemirror_mode": {
    "name": "ipython",
    "version": 3
   },
   "file_extension": ".py",
   "mimetype": "text/x-python",
   "name": "python",
   "nbconvert_exporter": "python",
   "pygments_lexer": "ipython3",
   "version": "3.11.5"
  },
  "toc": {
   "base_numbering": 1,
   "nav_menu": {},
   "number_sections": true,
   "sideBar": true,
   "skip_h1_title": true,
   "title_cell": "Table of Contents",
   "title_sidebar": "Contents",
   "toc_cell": false,
   "toc_position": {},
   "toc_section_display": true,
   "toc_window_display": false
  }
 },
 "nbformat": 4,
 "nbformat_minor": 5
}
