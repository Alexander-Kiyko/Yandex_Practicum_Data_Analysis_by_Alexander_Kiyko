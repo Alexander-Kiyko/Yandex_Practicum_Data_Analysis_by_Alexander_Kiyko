{
 "cells": [
  {
   "cell_type": "markdown",
   "id": "139f3702",
   "metadata": {},
   "source": [
    "  "
   ]
  },
  {
   "cell_type": "markdown",
   "id": "e998f298",
   "metadata": {},
   "source": [
    "# Проект 04. Исследование данных о поведении пользователей сервиса аренды самокатов GoFast."
   ]
  },
  {
   "cell_type": "markdown",
   "id": "351cb167",
   "metadata": {},
   "source": [
    "   "
   ]
  },
  {
   "cell_type": "markdown",
   "id": "3edd1b3d",
   "metadata": {},
   "source": [
    "В вашем распоряжении данные сервиса аренды самокатов GoFast о некоторых пользователях из нескольких городов, а также об их поездках. \n",
    "необходимо проанализировать данные и проверить некоторые гипотезы, которые могут помочь бизнесу вырасти.\n",
    "\n",
    "Чтобы совершать поездки по городу, пользователи сервиса GoFast пользуются мобильным приложением. Сервисом можно пользоваться:   \n",
    "    •\tбез подписки          \n",
    "           •\tабонентская плата отсутствует;        \n",
    "           •\tстоимость одной минуты поездки — 8 рублей;         \n",
    "           •\tстоимость старта (начала поездки) — 50 рублей;        \n",
    "    •\tс подпиской Ultra          \n",
    "           •\tабонентская плата — 199 рублей в месяц;         \n",
    "           •\tстоимость одной минуты поездки — 6 рублей;         \n",
    "           •\tстоимость старта — бесплатно.\n"
   ]
  },
  {
   "cell_type": "markdown",
   "id": "3c08a0ad",
   "metadata": {},
   "source": [
    "### Оглавление:\n",
    "\n",
    "Шаг 1. Загрузка данных        \n",
    "\n",
    "Шаг 2. Предобработка данных       \n",
    "\n",
    "Шаг 3. Исследовательский анализ данных      \n",
    "\n",
    "Шаг 4. Объединение данных       \n",
    "\n",
    "Шаг 5. Подсчёт выручки       \n",
    "\n",
    "Шаг 6. Проверка гипотез       \n",
    "\n",
    "Общий вывод\n",
    "\n",
    "Шаг 7 (необязательное задание). Распределения       "
   ]
  },
  {
   "cell_type": "markdown",
   "id": "8369d109",
   "metadata": {},
   "source": [
    " "
   ]
  },
  {
   "cell_type": "markdown",
   "id": "8507dbe3",
   "metadata": {},
   "source": [
    "## Шаг 1. Загрузка данных"
   ]
  },
  {
   "cell_type": "markdown",
   "id": "7406d815",
   "metadata": {},
   "source": [
    "\n"
   ]
  },
  {
   "cell_type": "code",
   "execution_count": 1,
   "id": "e991c3d9",
   "metadata": {},
   "outputs": [],
   "source": [
    "import matplotlib.pyplot as plt\n",
    "from scipy import stats as st\n",
    "from math import sqrt\n",
    "import pandas as pd\n",
    "import numpy as np"
   ]
  },
  {
   "cell_type": "markdown",
   "id": "1ad6094c",
   "metadata": {},
   "source": [
    "### 1.1 Считать CSV-файлы с данными с помощью библиотеки pandas и сохранить их в датафреймы."
   ]
  },
  {
   "cell_type": "code",
   "execution_count": 2,
   "id": "52efdf16",
   "metadata": {},
   "outputs": [],
   "source": [
    "try:\n",
    "    go_users = pd.read_csv('users_go.csv')\n",
    "    go_subscriptions = pd.read_csv('subscriptions_go.csv')\n",
    "    go_rides = pd.read_csv('rides_go.csv')\n",
    "\n",
    "except:\n",
    "    go_users = pd.read_csv('/datasets/users_go.csv')\n",
    "    go_subscriptions = pd.read_csv('/datasets/subscriptions_go.csv')\n",
    "    go_rides = pd.read_csv('/datasets/rides_go.csv')"
   ]
  },
  {
   "cell_type": "markdown",
   "id": "acadfb64",
   "metadata": {},
   "source": [
    "\n"
   ]
  },
  {
   "cell_type": "markdown",
   "id": "25af0ada",
   "metadata": {},
   "source": [
    "### 1.2 Вывести первые строки каждого набора данных. Изучить общую информацию о каждом датафрейме."
   ]
  },
  {
   "cell_type": "markdown",
   "id": "7523fb29",
   "metadata": {},
   "source": [
    "Посмотрим на датафрейм с данными о пользователях "
   ]
  },
  {
   "cell_type": "code",
   "execution_count": 3,
   "id": "e8a1b7c2",
   "metadata": {},
   "outputs": [
    {
     "data": {
      "text/html": [
       "<div>\n",
       "<style scoped>\n",
       "    .dataframe tbody tr th:only-of-type {\n",
       "        vertical-align: middle;\n",
       "    }\n",
       "\n",
       "    .dataframe tbody tr th {\n",
       "        vertical-align: top;\n",
       "    }\n",
       "\n",
       "    .dataframe thead th {\n",
       "        text-align: right;\n",
       "    }\n",
       "</style>\n",
       "<table border=\"1\" class=\"dataframe\">\n",
       "  <thead>\n",
       "    <tr style=\"text-align: right;\">\n",
       "      <th></th>\n",
       "      <th>user_id</th>\n",
       "      <th>name</th>\n",
       "      <th>age</th>\n",
       "      <th>city</th>\n",
       "      <th>subscription_type</th>\n",
       "    </tr>\n",
       "  </thead>\n",
       "  <tbody>\n",
       "    <tr>\n",
       "      <th>0</th>\n",
       "      <td>1</td>\n",
       "      <td>Кира</td>\n",
       "      <td>22</td>\n",
       "      <td>Тюмень</td>\n",
       "      <td>ultra</td>\n",
       "    </tr>\n",
       "    <tr>\n",
       "      <th>1</th>\n",
       "      <td>2</td>\n",
       "      <td>Станислав</td>\n",
       "      <td>31</td>\n",
       "      <td>Омск</td>\n",
       "      <td>ultra</td>\n",
       "    </tr>\n",
       "    <tr>\n",
       "      <th>2</th>\n",
       "      <td>3</td>\n",
       "      <td>Алексей</td>\n",
       "      <td>20</td>\n",
       "      <td>Москва</td>\n",
       "      <td>ultra</td>\n",
       "    </tr>\n",
       "    <tr>\n",
       "      <th>3</th>\n",
       "      <td>4</td>\n",
       "      <td>Константин</td>\n",
       "      <td>26</td>\n",
       "      <td>Ростов-на-Дону</td>\n",
       "      <td>ultra</td>\n",
       "    </tr>\n",
       "    <tr>\n",
       "      <th>4</th>\n",
       "      <td>5</td>\n",
       "      <td>Адель</td>\n",
       "      <td>28</td>\n",
       "      <td>Омск</td>\n",
       "      <td>ultra</td>\n",
       "    </tr>\n",
       "    <tr>\n",
       "      <th>5</th>\n",
       "      <td>6</td>\n",
       "      <td>Регина</td>\n",
       "      <td>25</td>\n",
       "      <td>Краснодар</td>\n",
       "      <td>ultra</td>\n",
       "    </tr>\n",
       "    <tr>\n",
       "      <th>6</th>\n",
       "      <td>7</td>\n",
       "      <td>Игорь</td>\n",
       "      <td>23</td>\n",
       "      <td>Омск</td>\n",
       "      <td>ultra</td>\n",
       "    </tr>\n",
       "    <tr>\n",
       "      <th>7</th>\n",
       "      <td>8</td>\n",
       "      <td>Юрий</td>\n",
       "      <td>23</td>\n",
       "      <td>Краснодар</td>\n",
       "      <td>ultra</td>\n",
       "    </tr>\n",
       "    <tr>\n",
       "      <th>8</th>\n",
       "      <td>9</td>\n",
       "      <td>Ян</td>\n",
       "      <td>21</td>\n",
       "      <td>Пятигорск</td>\n",
       "      <td>ultra</td>\n",
       "    </tr>\n",
       "    <tr>\n",
       "      <th>9</th>\n",
       "      <td>10</td>\n",
       "      <td>Валерий</td>\n",
       "      <td>18</td>\n",
       "      <td>Екатеринбург</td>\n",
       "      <td>ultra</td>\n",
       "    </tr>\n",
       "  </tbody>\n",
       "</table>\n",
       "</div>"
      ],
      "text/plain": [
       "   user_id        name  age            city subscription_type\n",
       "0        1        Кира   22          Тюмень             ultra\n",
       "1        2   Станислав   31            Омск             ultra\n",
       "2        3     Алексей   20          Москва             ultra\n",
       "3        4  Константин   26  Ростов-на-Дону             ultra\n",
       "4        5       Адель   28            Омск             ultra\n",
       "5        6      Регина   25       Краснодар             ultra\n",
       "6        7       Игорь   23            Омск             ultra\n",
       "7        8        Юрий   23       Краснодар             ultra\n",
       "8        9          Ян   21       Пятигорск             ultra\n",
       "9       10     Валерий   18    Екатеринбург             ultra"
      ]
     },
     "execution_count": 3,
     "metadata": {},
     "output_type": "execute_result"
    }
   ],
   "source": [
    "go_users.head(10)"
   ]
  },
  {
   "cell_type": "code",
   "execution_count": 4,
   "id": "11f363b3",
   "metadata": {},
   "outputs": [
    {
     "name": "stdout",
     "output_type": "stream",
     "text": [
      "<class 'pandas.core.frame.DataFrame'>\n",
      "RangeIndex: 1565 entries, 0 to 1564\n",
      "Data columns (total 5 columns):\n",
      " #   Column             Non-Null Count  Dtype \n",
      "---  ------             --------------  ----- \n",
      " 0   user_id            1565 non-null   int64 \n",
      " 1   name               1565 non-null   object\n",
      " 2   age                1565 non-null   int64 \n",
      " 3   city               1565 non-null   object\n",
      " 4   subscription_type  1565 non-null   object\n",
      "dtypes: int64(2), object(3)\n",
      "memory usage: 61.3+ KB\n"
     ]
    }
   ],
   "source": [
    "go_users.info()"
   ]
  },
  {
   "cell_type": "markdown",
   "id": "b00da00a",
   "metadata": {},
   "source": [
    "Видим:\n",
    "1. Датафрейм содержит 1565 строк (клиентов), по каждому - 5 столбцов (параметров).     \n",
    "2. Данные в столбцах, как и говорилось в описании: 'user_id', 'name', 'age', 'city' и 'subscription_type'.      \n",
    "user_id - единственный параметр, по которому теоретически можно проверить дубликаты (если они есть), поскольку остальные столбцы принципиально непроверяемы. Параметр в столбце идет по возрастанию без пропусков, что по всей видимости значит, что дубликатов здесь нет. Но проверить стоит.\n",
    "Из этого датафрейма нам в дальнейшем точно понадобятся данные о типе подписки и о городе.         \n",
    "3. Количество строк во всех стлбцах одинаково, по всей видимости пропусков нет.            \n",
    "4. Типы данных, продекларированные в dtype соответствуют сути данных, здесь менять ничего не нужно; если в процессе для удобства анализа потребуется поменять гдн-то тип - будем смотреть по месту."
   ]
  },
  {
   "cell_type": "markdown",
   "id": "02ee944b",
   "metadata": {},
   "source": [
    "Посмотрим основную информацию о численных столбцах. С пожалуй единственной целью - посмотреть нет ли каких-то нереальных возрастов"
   ]
  },
  {
   "cell_type": "code",
   "execution_count": 5,
   "id": "9ec33c45",
   "metadata": {},
   "outputs": [
    {
     "data": {
      "text/html": [
       "<div>\n",
       "<style scoped>\n",
       "    .dataframe tbody tr th:only-of-type {\n",
       "        vertical-align: middle;\n",
       "    }\n",
       "\n",
       "    .dataframe tbody tr th {\n",
       "        vertical-align: top;\n",
       "    }\n",
       "\n",
       "    .dataframe thead th {\n",
       "        text-align: right;\n",
       "    }\n",
       "</style>\n",
       "<table border=\"1\" class=\"dataframe\">\n",
       "  <thead>\n",
       "    <tr style=\"text-align: right;\">\n",
       "      <th></th>\n",
       "      <th>user_id</th>\n",
       "      <th>age</th>\n",
       "    </tr>\n",
       "  </thead>\n",
       "  <tbody>\n",
       "    <tr>\n",
       "      <th>count</th>\n",
       "      <td>1565.000000</td>\n",
       "      <td>1565.000000</td>\n",
       "    </tr>\n",
       "    <tr>\n",
       "      <th>mean</th>\n",
       "      <td>762.633866</td>\n",
       "      <td>24.922045</td>\n",
       "    </tr>\n",
       "    <tr>\n",
       "      <th>std</th>\n",
       "      <td>443.260155</td>\n",
       "      <td>4.553496</td>\n",
       "    </tr>\n",
       "    <tr>\n",
       "      <th>min</th>\n",
       "      <td>1.000000</td>\n",
       "      <td>12.000000</td>\n",
       "    </tr>\n",
       "    <tr>\n",
       "      <th>25%</th>\n",
       "      <td>378.000000</td>\n",
       "      <td>22.000000</td>\n",
       "    </tr>\n",
       "    <tr>\n",
       "      <th>50%</th>\n",
       "      <td>762.000000</td>\n",
       "      <td>25.000000</td>\n",
       "    </tr>\n",
       "    <tr>\n",
       "      <th>75%</th>\n",
       "      <td>1146.000000</td>\n",
       "      <td>28.000000</td>\n",
       "    </tr>\n",
       "    <tr>\n",
       "      <th>max</th>\n",
       "      <td>1534.000000</td>\n",
       "      <td>43.000000</td>\n",
       "    </tr>\n",
       "  </tbody>\n",
       "</table>\n",
       "</div>"
      ],
      "text/plain": [
       "           user_id          age\n",
       "count  1565.000000  1565.000000\n",
       "mean    762.633866    24.922045\n",
       "std     443.260155     4.553496\n",
       "min       1.000000    12.000000\n",
       "25%     378.000000    22.000000\n",
       "50%     762.000000    25.000000\n",
       "75%    1146.000000    28.000000\n",
       "max    1534.000000    43.000000"
      ]
     },
     "execution_count": 5,
     "metadata": {},
     "output_type": "execute_result"
    }
   ],
   "source": [
    "go_users.describe()"
   ]
  },
  {
   "cell_type": "markdown",
   "id": "bdb027df",
   "metadata": {},
   "source": [
    "Старшее поколение не очень то катается на самокатах."
   ]
  },
  {
   "cell_type": "markdown",
   "id": "4331c0c3",
   "metadata": {},
   "source": [
    "Посмотрим на еще один справочник - датафрейм с данными о подписках"
   ]
  },
  {
   "cell_type": "code",
   "execution_count": 6,
   "id": "294fff31",
   "metadata": {},
   "outputs": [
    {
     "data": {
      "text/html": [
       "<div>\n",
       "<style scoped>\n",
       "    .dataframe tbody tr th:only-of-type {\n",
       "        vertical-align: middle;\n",
       "    }\n",
       "\n",
       "    .dataframe tbody tr th {\n",
       "        vertical-align: top;\n",
       "    }\n",
       "\n",
       "    .dataframe thead th {\n",
       "        text-align: right;\n",
       "    }\n",
       "</style>\n",
       "<table border=\"1\" class=\"dataframe\">\n",
       "  <thead>\n",
       "    <tr style=\"text-align: right;\">\n",
       "      <th></th>\n",
       "      <th>subscription_type</th>\n",
       "      <th>minute_price</th>\n",
       "      <th>start_ride_price</th>\n",
       "      <th>subscription_fee</th>\n",
       "    </tr>\n",
       "  </thead>\n",
       "  <tbody>\n",
       "    <tr>\n",
       "      <th>0</th>\n",
       "      <td>free</td>\n",
       "      <td>8</td>\n",
       "      <td>50</td>\n",
       "      <td>0</td>\n",
       "    </tr>\n",
       "    <tr>\n",
       "      <th>1</th>\n",
       "      <td>ultra</td>\n",
       "      <td>6</td>\n",
       "      <td>0</td>\n",
       "      <td>199</td>\n",
       "    </tr>\n",
       "  </tbody>\n",
       "</table>\n",
       "</div>"
      ],
      "text/plain": [
       "  subscription_type  minute_price  start_ride_price  subscription_fee\n",
       "0              free             8                50                 0\n",
       "1             ultra             6                 0               199"
      ]
     },
     "execution_count": 6,
     "metadata": {},
     "output_type": "execute_result"
    }
   ],
   "source": [
    "go_subscriptions"
   ]
  },
  {
   "cell_type": "code",
   "execution_count": 7,
   "id": "5c286473",
   "metadata": {},
   "outputs": [
    {
     "name": "stdout",
     "output_type": "stream",
     "text": [
      "<class 'pandas.core.frame.DataFrame'>\n",
      "RangeIndex: 2 entries, 0 to 1\n",
      "Data columns (total 4 columns):\n",
      " #   Column             Non-Null Count  Dtype \n",
      "---  ------             --------------  ----- \n",
      " 0   subscription_type  2 non-null      object\n",
      " 1   minute_price       2 non-null      int64 \n",
      " 2   start_ride_price   2 non-null      int64 \n",
      " 3   subscription_fee   2 non-null      int64 \n",
      "dtypes: int64(3), object(1)\n",
      "memory usage: 192.0+ bytes\n"
     ]
    }
   ],
   "source": [
    "go_subscriptions.info()"
   ]
  },
  {
   "cell_type": "markdown",
   "id": "8ddf7c1c",
   "metadata": {},
   "source": [
    "Видим:\n",
    "1. В этом справочнике все совсем просто: датафрейм содержит всего 2 строки, по каждой - 4 столбца.     \n",
    "2. Данные в столбцах, как и говорилось в описании: ‘subscription_type’ - тип подписки, ‘minute_price’ - стоимость одной минуты поездки по данной подписке, ‘start_ride_price’ - стоимость начала поездки, ‘subscription_fee’ - стоимость ежемесячного платежа. Значения в трех последним столбцах приведены в рублях, без копеек, что соответствует отписанию. Все цифры тоже соответствуют тем, которые заявлялись в описании проекта.        \n",
    "3. Количество строк во всех стлбцах по две, значит пропусков нет.            \n",
    "4. Типы данных, продекларированные в dtype соответствуют сути данных, здесь менять ничего не нужно.\n",
    "5. Пересечение с датасетом 'users' - по столбцу 'subscription_type'."
   ]
  },
  {
   "cell_type": "markdown",
   "id": "f5a471fe",
   "metadata": {},
   "source": [
    "Здесь отдельно смотреть describe() совсем нет смысла - все видно сразу по самому датафрейму"
   ]
  },
  {
   "cell_type": "markdown",
   "id": "2d73e988",
   "metadata": {},
   "source": [
    "Посмотрим наш \"основной\" датафрейм с данными о поездках"
   ]
  },
  {
   "cell_type": "code",
   "execution_count": 8,
   "id": "2704f87c",
   "metadata": {},
   "outputs": [
    {
     "data": {
      "text/html": [
       "<div>\n",
       "<style scoped>\n",
       "    .dataframe tbody tr th:only-of-type {\n",
       "        vertical-align: middle;\n",
       "    }\n",
       "\n",
       "    .dataframe tbody tr th {\n",
       "        vertical-align: top;\n",
       "    }\n",
       "\n",
       "    .dataframe thead th {\n",
       "        text-align: right;\n",
       "    }\n",
       "</style>\n",
       "<table border=\"1\" class=\"dataframe\">\n",
       "  <thead>\n",
       "    <tr style=\"text-align: right;\">\n",
       "      <th></th>\n",
       "      <th>user_id</th>\n",
       "      <th>distance</th>\n",
       "      <th>duration</th>\n",
       "      <th>date</th>\n",
       "    </tr>\n",
       "  </thead>\n",
       "  <tbody>\n",
       "    <tr>\n",
       "      <th>0</th>\n",
       "      <td>1</td>\n",
       "      <td>4409.919140</td>\n",
       "      <td>25.599769</td>\n",
       "      <td>2021-01-01</td>\n",
       "    </tr>\n",
       "    <tr>\n",
       "      <th>1</th>\n",
       "      <td>1</td>\n",
       "      <td>2617.592153</td>\n",
       "      <td>15.816871</td>\n",
       "      <td>2021-01-18</td>\n",
       "    </tr>\n",
       "    <tr>\n",
       "      <th>2</th>\n",
       "      <td>1</td>\n",
       "      <td>754.159807</td>\n",
       "      <td>6.232113</td>\n",
       "      <td>2021-04-20</td>\n",
       "    </tr>\n",
       "    <tr>\n",
       "      <th>3</th>\n",
       "      <td>1</td>\n",
       "      <td>2694.783254</td>\n",
       "      <td>18.511000</td>\n",
       "      <td>2021-08-11</td>\n",
       "    </tr>\n",
       "    <tr>\n",
       "      <th>4</th>\n",
       "      <td>1</td>\n",
       "      <td>4028.687306</td>\n",
       "      <td>26.265803</td>\n",
       "      <td>2021-08-28</td>\n",
       "    </tr>\n",
       "    <tr>\n",
       "      <th>5</th>\n",
       "      <td>1</td>\n",
       "      <td>2770.890808</td>\n",
       "      <td>16.650138</td>\n",
       "      <td>2021-10-09</td>\n",
       "    </tr>\n",
       "    <tr>\n",
       "      <th>6</th>\n",
       "      <td>1</td>\n",
       "      <td>3039.020292</td>\n",
       "      <td>14.927879</td>\n",
       "      <td>2021-10-19</td>\n",
       "    </tr>\n",
       "    <tr>\n",
       "      <th>7</th>\n",
       "      <td>1</td>\n",
       "      <td>2842.118050</td>\n",
       "      <td>23.117468</td>\n",
       "      <td>2021-11-06</td>\n",
       "    </tr>\n",
       "    <tr>\n",
       "      <th>8</th>\n",
       "      <td>1</td>\n",
       "      <td>3412.690668</td>\n",
       "      <td>15.238072</td>\n",
       "      <td>2021-11-14</td>\n",
       "    </tr>\n",
       "    <tr>\n",
       "      <th>9</th>\n",
       "      <td>1</td>\n",
       "      <td>748.690645</td>\n",
       "      <td>15.041884</td>\n",
       "      <td>2021-11-22</td>\n",
       "    </tr>\n",
       "  </tbody>\n",
       "</table>\n",
       "</div>"
      ],
      "text/plain": [
       "   user_id     distance   duration        date\n",
       "0        1  4409.919140  25.599769  2021-01-01\n",
       "1        1  2617.592153  15.816871  2021-01-18\n",
       "2        1   754.159807   6.232113  2021-04-20\n",
       "3        1  2694.783254  18.511000  2021-08-11\n",
       "4        1  4028.687306  26.265803  2021-08-28\n",
       "5        1  2770.890808  16.650138  2021-10-09\n",
       "6        1  3039.020292  14.927879  2021-10-19\n",
       "7        1  2842.118050  23.117468  2021-11-06\n",
       "8        1  3412.690668  15.238072  2021-11-14\n",
       "9        1   748.690645  15.041884  2021-11-22"
      ]
     },
     "execution_count": 8,
     "metadata": {},
     "output_type": "execute_result"
    }
   ],
   "source": [
    "go_rides.head(10)"
   ]
  },
  {
   "cell_type": "code",
   "execution_count": 9,
   "id": "2911cd29",
   "metadata": {},
   "outputs": [
    {
     "name": "stdout",
     "output_type": "stream",
     "text": [
      "<class 'pandas.core.frame.DataFrame'>\n",
      "RangeIndex: 18068 entries, 0 to 18067\n",
      "Data columns (total 4 columns):\n",
      " #   Column    Non-Null Count  Dtype  \n",
      "---  ------    --------------  -----  \n",
      " 0   user_id   18068 non-null  int64  \n",
      " 1   distance  18068 non-null  float64\n",
      " 2   duration  18068 non-null  float64\n",
      " 3   date      18068 non-null  object \n",
      "dtypes: float64(2), int64(1), object(1)\n",
      "memory usage: 564.8+ KB\n"
     ]
    }
   ],
   "source": [
    "go_rides.info()"
   ]
  },
  {
   "cell_type": "markdown",
   "id": "416c6865",
   "metadata": {},
   "source": [
    "Видим:\n",
    "1. Датафрейм содержит 18068 строк (поездок), по каждой - 4 столбца (параметры поездки).     \n",
    "2. Данные в столбцах соответствуют описанию: 'user_id', 'distance' - расстояние, которое пользователь проехал в текущей сессии (в метрах), 'duration' - продолжительность сессии (в минутах) и 'date' - дата совершения поездки.             \n",
    "3. Количество строк во всех стлбцах одинаково, по всей видимости пропусков нет.            \n",
    "4. По типам данных: столбец 'date' необходимо перевести из типа 'object' в 'DateTime', остальные столбцы содержат типы данных, которые соответствуют сути самих данных, в них менять ничего не нужно.\n",
    "5. Пересечение с датафреймом 'users' - по столбцу 'user_id'."
   ]
  },
  {
   "cell_type": "markdown",
   "id": "108dc5d9",
   "metadata": {},
   "source": [
    "Посмотрим основную информацию о численных столбцах на предмет их распределения и соответствия здравому смыслу."
   ]
  },
  {
   "cell_type": "code",
   "execution_count": 10,
   "id": "bc4052a2",
   "metadata": {},
   "outputs": [
    {
     "data": {
      "text/html": [
       "<div>\n",
       "<style scoped>\n",
       "    .dataframe tbody tr th:only-of-type {\n",
       "        vertical-align: middle;\n",
       "    }\n",
       "\n",
       "    .dataframe tbody tr th {\n",
       "        vertical-align: top;\n",
       "    }\n",
       "\n",
       "    .dataframe thead th {\n",
       "        text-align: right;\n",
       "    }\n",
       "</style>\n",
       "<table border=\"1\" class=\"dataframe\">\n",
       "  <thead>\n",
       "    <tr style=\"text-align: right;\">\n",
       "      <th></th>\n",
       "      <th>user_id</th>\n",
       "      <th>distance</th>\n",
       "      <th>duration</th>\n",
       "    </tr>\n",
       "  </thead>\n",
       "  <tbody>\n",
       "    <tr>\n",
       "      <th>count</th>\n",
       "      <td>18068.000000</td>\n",
       "      <td>18068.000000</td>\n",
       "      <td>18068.000000</td>\n",
       "    </tr>\n",
       "    <tr>\n",
       "      <th>mean</th>\n",
       "      <td>842.869936</td>\n",
       "      <td>3070.659976</td>\n",
       "      <td>17.805011</td>\n",
       "    </tr>\n",
       "    <tr>\n",
       "      <th>std</th>\n",
       "      <td>434.734317</td>\n",
       "      <td>1116.831209</td>\n",
       "      <td>6.091051</td>\n",
       "    </tr>\n",
       "    <tr>\n",
       "      <th>min</th>\n",
       "      <td>1.000000</td>\n",
       "      <td>0.855683</td>\n",
       "      <td>0.500000</td>\n",
       "    </tr>\n",
       "    <tr>\n",
       "      <th>25%</th>\n",
       "      <td>487.000000</td>\n",
       "      <td>2543.226360</td>\n",
       "      <td>13.597563</td>\n",
       "    </tr>\n",
       "    <tr>\n",
       "      <th>50%</th>\n",
       "      <td>889.000000</td>\n",
       "      <td>3133.609994</td>\n",
       "      <td>17.678395</td>\n",
       "    </tr>\n",
       "    <tr>\n",
       "      <th>75%</th>\n",
       "      <td>1213.250000</td>\n",
       "      <td>3776.222735</td>\n",
       "      <td>21.724800</td>\n",
       "    </tr>\n",
       "    <tr>\n",
       "      <th>max</th>\n",
       "      <td>1534.000000</td>\n",
       "      <td>7211.007745</td>\n",
       "      <td>40.823963</td>\n",
       "    </tr>\n",
       "  </tbody>\n",
       "</table>\n",
       "</div>"
      ],
      "text/plain": [
       "            user_id      distance      duration\n",
       "count  18068.000000  18068.000000  18068.000000\n",
       "mean     842.869936   3070.659976     17.805011\n",
       "std      434.734317   1116.831209      6.091051\n",
       "min        1.000000      0.855683      0.500000\n",
       "25%      487.000000   2543.226360     13.597563\n",
       "50%      889.000000   3133.609994     17.678395\n",
       "75%     1213.250000   3776.222735     21.724800\n",
       "max     1534.000000   7211.007745     40.823963"
      ]
     },
     "execution_count": 10,
     "metadata": {},
     "output_type": "execute_result"
    }
   ],
   "source": [
    "go_rides.describe()"
   ]
  },
  {
   "cell_type": "markdown",
   "id": "da674df9",
   "metadata": {},
   "source": [
    "Видим:\n",
    "\n",
    "1. Максимальное значение 'user_id' равно 1534, что значит, что количество уникальных клиентов у нас 1534, то есть в датафрейме 'users' по всей видимости есть 31 дубликат; удалим их далее в упражнении 2.2.       \n",
    "2. Данные о поездках видятся вполне адекватными: средняя дальность поездки в 3 километра - вполне нормальна, кроме того она близка к оптимальной с точки зрения износа самоката; средняя длительность поездки 18 минут соответствует скорости в 10.4 км./ч., что вполне нормально для самоката.       \n",
    "3. Стандартное отклонение для дальности поездки интуитивно видится довольно большим. Кроме того медианное знаяение выше среднего. Чем это обусловлено пока непонятно, но стоит обратить внимание: а нет ли \"выбросов\", особенно с нижней стороны.\n",
    "4. В остальном цифры достаточно ровные и по всей видимости без заметных выбросов: скорости по всей линейке от нижнего квартиля и до максимума отличаются всего максимум на 0.2 км/ч."
   ]
  },
  {
   "cell_type": "markdown",
   "id": "39c05b59",
   "metadata": {},
   "source": [
    "## Шаг 2. Предобработка данных"
   ]
  },
  {
   "cell_type": "markdown",
   "id": "c4a478d9",
   "metadata": {},
   "source": [
    "\n"
   ]
  },
  {
   "cell_type": "markdown",
   "id": "62b417c8",
   "metadata": {},
   "source": [
    "### 2.1 Привести столбец date к типу даты pandas."
   ]
  },
  {
   "cell_type": "markdown",
   "id": "9854aa93",
   "metadata": {},
   "source": [
    "\n"
   ]
  },
  {
   "cell_type": "markdown",
   "id": "b2bda8cc",
   "metadata": {},
   "source": [
    "Посмотрим на столбец 'date' в датафрейме 'rides': тип данных в нем object, формат даты %Y-%m-%d.    \n",
    "Преобразуем его в datetime"
   ]
  },
  {
   "cell_type": "code",
   "execution_count": 11,
   "id": "76d782ac",
   "metadata": {},
   "outputs": [
    {
     "data": {
      "text/plain": [
       "user_id              int64\n",
       "distance           float64\n",
       "duration           float64\n",
       "date        datetime64[ns]\n",
       "dtype: object"
      ]
     },
     "execution_count": 11,
     "metadata": {},
     "output_type": "execute_result"
    }
   ],
   "source": [
    "go_rides['date'] = pd.to_datetime(go_rides['date'], format= '%Y-%m-%d')\n",
    "\n",
    "go_rides.dtypes  # Проверка: тип данных в столбце \"date\" должен быть datetime64"
   ]
  },
  {
   "cell_type": "markdown",
   "id": "9343d65c",
   "metadata": {},
   "source": [
    "Тип данных в столбце 'date' теперь datetime"
   ]
  },
  {
   "cell_type": "markdown",
   "id": "3c70eff5",
   "metadata": {},
   "source": [
    "### 2.2 Создать новый столбец с номером месяца на основе столбца date."
   ]
  },
  {
   "cell_type": "markdown",
   "id": "bb3619d1",
   "metadata": {},
   "source": [
    "\n"
   ]
  },
  {
   "cell_type": "code",
   "execution_count": 12,
   "id": "68dea455",
   "metadata": {},
   "outputs": [
    {
     "data": {
      "text/html": [
       "<div>\n",
       "<style scoped>\n",
       "    .dataframe tbody tr th:only-of-type {\n",
       "        vertical-align: middle;\n",
       "    }\n",
       "\n",
       "    .dataframe tbody tr th {\n",
       "        vertical-align: top;\n",
       "    }\n",
       "\n",
       "    .dataframe thead th {\n",
       "        text-align: right;\n",
       "    }\n",
       "</style>\n",
       "<table border=\"1\" class=\"dataframe\">\n",
       "  <thead>\n",
       "    <tr style=\"text-align: right;\">\n",
       "      <th></th>\n",
       "      <th>user_id</th>\n",
       "      <th>distance</th>\n",
       "      <th>duration</th>\n",
       "      <th>date</th>\n",
       "      <th>month</th>\n",
       "    </tr>\n",
       "  </thead>\n",
       "  <tbody>\n",
       "    <tr>\n",
       "      <th>0</th>\n",
       "      <td>1</td>\n",
       "      <td>4409.919140</td>\n",
       "      <td>25.599769</td>\n",
       "      <td>2021-01-01</td>\n",
       "      <td>1</td>\n",
       "    </tr>\n",
       "    <tr>\n",
       "      <th>1</th>\n",
       "      <td>1</td>\n",
       "      <td>2617.592153</td>\n",
       "      <td>15.816871</td>\n",
       "      <td>2021-01-18</td>\n",
       "      <td>1</td>\n",
       "    </tr>\n",
       "    <tr>\n",
       "      <th>2</th>\n",
       "      <td>1</td>\n",
       "      <td>754.159807</td>\n",
       "      <td>6.232113</td>\n",
       "      <td>2021-04-20</td>\n",
       "      <td>4</td>\n",
       "    </tr>\n",
       "    <tr>\n",
       "      <th>3</th>\n",
       "      <td>1</td>\n",
       "      <td>2694.783254</td>\n",
       "      <td>18.511000</td>\n",
       "      <td>2021-08-11</td>\n",
       "      <td>8</td>\n",
       "    </tr>\n",
       "    <tr>\n",
       "      <th>4</th>\n",
       "      <td>1</td>\n",
       "      <td>4028.687306</td>\n",
       "      <td>26.265803</td>\n",
       "      <td>2021-08-28</td>\n",
       "      <td>8</td>\n",
       "    </tr>\n",
       "  </tbody>\n",
       "</table>\n",
       "</div>"
      ],
      "text/plain": [
       "   user_id     distance   duration       date  month\n",
       "0        1  4409.919140  25.599769 2021-01-01      1\n",
       "1        1  2617.592153  15.816871 2021-01-18      1\n",
       "2        1   754.159807   6.232113 2021-04-20      4\n",
       "3        1  2694.783254  18.511000 2021-08-11      8\n",
       "4        1  4028.687306  26.265803 2021-08-28      8"
      ]
     },
     "metadata": {},
     "output_type": "display_data"
    },
    {
     "data": {
      "text/plain": [
       "dtype('int64')"
      ]
     },
     "execution_count": 12,
     "metadata": {},
     "output_type": "execute_result"
    }
   ],
   "source": [
    "go_rides['month'] = go_rides['date'].dt.month\n",
    "\n",
    "display(go_rides.head(5))  # Проверка: посмотреть визуально появился ли нужный столбец и что в нем за значения\n",
    "go_rides['month'].dtype  # Проверка: у столбца должен быть формат int64 или int32"
   ]
  },
  {
   "cell_type": "markdown",
   "id": "838d07cf",
   "metadata": {},
   "source": [
    "Новый столбец 'month' создался, данные в нем соответствуют номеру месяца, который фигурирует в той же строке в столбце 'date'"
   ]
  },
  {
   "cell_type": "markdown",
   "id": "f26cdf5b",
   "metadata": {},
   "source": [
    "Удостоверимся, что данные за один и тот же год, чтобы данные за разные годы не склеились в одни и те же месяцы"
   ]
  },
  {
   "cell_type": "code",
   "execution_count": 13,
   "id": "f3c15d35",
   "metadata": {},
   "outputs": [
    {
     "data": {
      "text/plain": [
       "2021    18068\n",
       "Name: date, dtype: int64"
      ]
     },
     "execution_count": 13,
     "metadata": {},
     "output_type": "execute_result"
    }
   ],
   "source": [
    "go_rides_year = go_rides['date'].dt.year\n",
    "\n",
    "go_rides_year.value_counts()  # Проверка: посмотреть визуально появился ли нужный столбец и что в нем за значения"
   ]
  },
  {
   "cell_type": "markdown",
   "id": "a35390b3",
   "metadata": {},
   "source": [
    "Можно еще так"
   ]
  },
  {
   "cell_type": "code",
   "execution_count": 109,
   "id": "6c0ec99d",
   "metadata": {},
   "outputs": [
    {
     "data": {
      "text/plain": [
       "array([2021])"
      ]
     },
     "execution_count": 109,
     "metadata": {},
     "output_type": "execute_result"
    }
   ],
   "source": [
    "# Код ревьюера\n",
    "go_rides['date'].dt.year.unique()"
   ]
  },
  {
   "cell_type": "markdown",
   "id": "dfe5c526",
   "metadata": {},
   "source": [
    "Итак, все данные у нас за один 2021 год, поэтому объединение их по месяцам можно считать корректным"
   ]
  },
  {
   "cell_type": "markdown",
   "id": "aa435e51",
   "metadata": {},
   "source": [
    "### 2.3 Проверить наличие пропущенных значений и дубликатов в датафреймах и обработать их, если такие значения присутствуют"
   ]
  },
  {
   "cell_type": "markdown",
   "id": "5c694f86",
   "metadata": {},
   "source": [
    "Проверим наличие пропусков и дубликатов в датафрейме 'users'"
   ]
  },
  {
   "cell_type": "code",
   "execution_count": 14,
   "id": "076ba0f4",
   "metadata": {},
   "outputs": [
    {
     "data": {
      "text/plain": [
       "user_id              0\n",
       "name                 0\n",
       "age                  0\n",
       "city                 0\n",
       "subscription_type    0\n",
       "dtype: int64"
      ]
     },
     "execution_count": 14,
     "metadata": {},
     "output_type": "execute_result"
    }
   ],
   "source": [
    "go_users.isna().sum()"
   ]
  },
  {
   "cell_type": "markdown",
   "id": "9f0b9152",
   "metadata": {},
   "source": [
    "Оказывается info() не врет: пропусков нет"
   ]
  },
  {
   "cell_type": "code",
   "execution_count": 15,
   "id": "284d4bd6",
   "metadata": {},
   "outputs": [
    {
     "data": {
      "text/plain": [
       "31"
      ]
     },
     "execution_count": 15,
     "metadata": {},
     "output_type": "execute_result"
    }
   ],
   "source": [
    "go_users.duplicated().sum()"
   ]
  },
  {
   "cell_type": "markdown",
   "id": "89f3cb48",
   "metadata": {},
   "source": [
    "Как мы и предполагали глядя на максимальный \"user_id\" в датафрейме 'rides' - дубликаты есть и их ровно 31. То есть уникальных клиентов у нас должно быть 1534. \n",
    "\n",
    "От дубликатов нужно будет избавиться, удалим их "
   ]
  },
  {
   "cell_type": "code",
   "execution_count": 16,
   "id": "df045e07",
   "metadata": {},
   "outputs": [
    {
     "name": "stdout",
     "output_type": "stream",
     "text": [
      "<class 'pandas.core.frame.DataFrame'>\n",
      "RangeIndex: 1534 entries, 0 to 1533\n",
      "Data columns (total 5 columns):\n",
      " #   Column             Non-Null Count  Dtype \n",
      "---  ------             --------------  ----- \n",
      " 0   user_id            1534 non-null   int64 \n",
      " 1   name               1534 non-null   object\n",
      " 2   age                1534 non-null   int64 \n",
      " 3   city               1534 non-null   object\n",
      " 4   subscription_type  1534 non-null   object\n",
      "dtypes: int64(2), object(3)\n",
      "memory usage: 60.0+ KB\n"
     ]
    }
   ],
   "source": [
    "go_users = go_users.drop_duplicates().reset_index(drop=True)\n",
    "\n",
    "go_users.info()  # Проверка: количество строк должно быть одинаково во всех столбцах и равно 1534"
   ]
  },
  {
   "cell_type": "markdown",
   "id": "3f5fa0e0",
   "metadata": {},
   "source": [
    "Проверим наличие пропусков и дубликатов в датафрейме 'subscriptions'"
   ]
  },
  {
   "cell_type": "code",
   "execution_count": 17,
   "id": "297aa0e5",
   "metadata": {},
   "outputs": [
    {
     "data": {
      "text/plain": [
       "subscription_type    0\n",
       "minute_price         0\n",
       "start_ride_price     0\n",
       "subscription_fee     0\n",
       "dtype: int64"
      ]
     },
     "execution_count": 17,
     "metadata": {},
     "output_type": "execute_result"
    }
   ],
   "source": [
    "go_subscriptions.isna().sum()"
   ]
  },
  {
   "cell_type": "code",
   "execution_count": 18,
   "id": "b0b7d851",
   "metadata": {},
   "outputs": [
    {
     "data": {
      "text/plain": [
       "0"
      ]
     },
     "execution_count": 18,
     "metadata": {},
     "output_type": "execute_result"
    }
   ],
   "source": [
    "go_subscriptions.duplicated().sum()"
   ]
  },
  {
   "cell_type": "markdown",
   "id": "18187351",
   "metadata": {},
   "source": [
    "В этом датафрейме дубликатов как и пропусков - нет"
   ]
  },
  {
   "cell_type": "markdown",
   "id": "f2f70618",
   "metadata": {},
   "source": [
    "Проверим наличие пропусков и дубликатов в датафрейме 'rides'"
   ]
  },
  {
   "cell_type": "code",
   "execution_count": 19,
   "id": "426fa6ce",
   "metadata": {},
   "outputs": [
    {
     "data": {
      "text/plain": [
       "user_id     0\n",
       "distance    0\n",
       "duration    0\n",
       "date        0\n",
       "month       0\n",
       "dtype: int64"
      ]
     },
     "execution_count": 19,
     "metadata": {},
     "output_type": "execute_result"
    }
   ],
   "source": [
    "go_rides.isna().sum()"
   ]
  },
  {
   "cell_type": "code",
   "execution_count": 20,
   "id": "3c63f49c",
   "metadata": {},
   "outputs": [
    {
     "data": {
      "text/plain": [
       "0"
      ]
     },
     "execution_count": 20,
     "metadata": {},
     "output_type": "execute_result"
    }
   ],
   "source": [
    "go_rides.duplicated().sum()"
   ]
  },
  {
   "cell_type": "markdown",
   "id": "e1e45e6d",
   "metadata": {},
   "source": [
    "И в этом датафрейме дубликатов и пропусков тоже нет."
   ]
  },
  {
   "cell_type": "markdown",
   "id": "316b77a6",
   "metadata": {},
   "source": [
    "Таким образом пропусков и явных дубликатов ни в одном из трех датафреймов нет.     \n",
    "\n",
    "Относительно неявных дубликатов:       \n",
    "в принципе они могли бы быть в связи с неправильным написанием строк в столбце 'subscription_type' датафрейма 'subscriptions' и столбцов 'name' и 'city' датафрейма 'users'.    \n",
    "Но по виду датафрейма 'subscriptions' выше видно, что проблем со значениями типов подписок нет: значения два - free (отсутствие подписки) и ultra (наличие подписки ультра).     \n",
    "По датафрейму 'users':     \n",
    "явные дубликаты мы здесь удалили;      \n",
    "проверять столбец с именем клиента бесполезно - имена могут быть сколько угодно одинаковыми или разными, а реально клиенты идентифицируются по 'user_id';\n",
    "то, что разных user_id нет - понятно из users.info() чуть выше: их 1534 (столько же, сколько и в датафрейме с поездками), можно еще раз явным образом вывести список уникальных значений user_id, но там будет то же самое;      \n",
    "а если кто-то зарегистрирован несколько раз под разными user_id - мы сделать ничего не можем и вынуждены считать его разными клиентами"
   ]
  },
  {
   "cell_type": "code",
   "execution_count": 21,
   "id": "3c26e4c7",
   "metadata": {},
   "outputs": [
    {
     "data": {
      "text/plain": [
       "array([   1,    2,    3, ..., 1532, 1533, 1534])"
      ]
     },
     "execution_count": 21,
     "metadata": {},
     "output_type": "execute_result"
    }
   ],
   "source": [
    "go_users['user_id'].unique()"
   ]
  },
  {
   "cell_type": "markdown",
   "id": "1cbb60f8",
   "metadata": {},
   "source": [
    "Поэтому единственным местом, где могут \"скрываться\" неявные дубликаты и которое мы еще не смотрели - это столбец 'city' датафрейма 'users'.             \n",
    "Посмотрим уникальные значения этого столбца"
   ]
  },
  {
   "cell_type": "code",
   "execution_count": 22,
   "id": "83c19fad",
   "metadata": {
    "scrolled": true
   },
   "outputs": [
    {
     "data": {
      "text/plain": [
       "Пятигорск         219\n",
       "Екатеринбург      204\n",
       "Ростов-на-Дону    198\n",
       "Краснодар         193\n",
       "Сочи              189\n",
       "Омск              183\n",
       "Тюмень            180\n",
       "Москва            168\n",
       "Name: city, dtype: int64"
      ]
     },
     "execution_count": 22,
     "metadata": {},
     "output_type": "execute_result"
    }
   ],
   "source": [
    "go_users['city'].value_counts()"
   ]
  },
  {
   "cell_type": "markdown",
   "id": "032208c8",
   "metadata": {},
   "source": [
    "Наименования городов все прописаны нормально.      \n",
    "Если сложить количества упоминаний всех городов, то получим все то же значение 1534, то есть нигде ничего \"не затерялось\"."
   ]
  },
  {
   "cell_type": "markdown",
   "id": "ecd15dc4",
   "metadata": {},
   "source": [
    "Таким образом скрытых и неявных дубликатов ни в одном из трех датафреймов тоже нет.     "
   ]
  },
  {
   "cell_type": "markdown",
   "id": "3f25bc5a",
   "metadata": {},
   "source": [
    "\n"
   ]
  },
  {
   "cell_type": "markdown",
   "id": "12ee7f2e",
   "metadata": {},
   "source": [
    "## Шаг 3. Исследовательский анализ данных\n",
    "\n",
    "### Описать и визуализировать общую информацию о пользователях и поездках:"
   ]
  },
  {
   "cell_type": "markdown",
   "id": "a39214d7",
   "metadata": {},
   "source": [
    "### 3.1 частота встречаемости городов."
   ]
  },
  {
   "cell_type": "markdown",
   "id": "5416fa2d",
   "metadata": {},
   "source": [
    "\n"
   ]
  },
  {
   "cell_type": "markdown",
   "id": "9f208879",
   "metadata": {},
   "source": [
    "Города у нас упоминаются в датафрейме 'users'.     \n",
    "Частоту их встречаемости среди клиентов мы видели только что, в процессе поиска скрытых дубликатов.      \n",
    "Повторим еще раз."
   ]
  },
  {
   "cell_type": "code",
   "execution_count": 23,
   "id": "aeebc8d8",
   "metadata": {},
   "outputs": [
    {
     "data": {
      "text/plain": [
       "Пятигорск         219\n",
       "Екатеринбург      204\n",
       "Ростов-на-Дону    198\n",
       "Краснодар         193\n",
       "Сочи              189\n",
       "Омск              183\n",
       "Тюмень            180\n",
       "Москва            168\n",
       "Name: city, dtype: int64"
      ]
     },
     "execution_count": 23,
     "metadata": {},
     "output_type": "execute_result"
    }
   ],
   "source": [
    "city_occurrence = go_users['city'].value_counts()\n",
    "\n",
    "city_occurrence"
   ]
  },
  {
   "cell_type": "markdown",
   "id": "4851b326",
   "metadata": {},
   "source": [
    "Выведем основные статистические параметры встречаемости."
   ]
  },
  {
   "cell_type": "code",
   "execution_count": 24,
   "id": "0d03c059",
   "metadata": {
    "scrolled": true
   },
   "outputs": [
    {
     "data": {
      "text/plain": [
       "count      8.000000\n",
       "mean     191.750000\n",
       "std       15.672998\n",
       "min      168.000000\n",
       "25%      182.250000\n",
       "50%      191.000000\n",
       "75%      199.500000\n",
       "max      219.000000\n",
       "Name: city, dtype: float64"
      ]
     },
     "execution_count": 24,
     "metadata": {},
     "output_type": "execute_result"
    }
   ],
   "source": [
    "city_occurrence.describe()"
   ]
  },
  {
   "cell_type": "markdown",
   "id": "553fd54f",
   "metadata": {},
   "source": [
    "И визуализируем столбчатой диаграммой."
   ]
  },
  {
   "cell_type": "code",
   "execution_count": 25,
   "id": "d0925090",
   "metadata": {},
   "outputs": [
    {
     "data": {
      "image/png": "[encoded data removed]",
      "text/plain": [
       "<Figure size 720x360 with 1 Axes>"
      ]
     },
     "metadata": {
      "needs_background": "light"
     },
     "output_type": "display_data"
    }
   ],
   "source": [
    "city_occurrence.plot.bar( figsize = (10,5))\n",
    "plt.title('Распределение пользователей по городам')\n",
    "plt.xlabel('Город')\n",
    "plt.ylabel('Количество пользователей')\n",
    "plt.show()"
   ]
  },
  {
   "cell_type": "code",
   "execution_count": 115,
   "id": "c90b62d1",
   "metadata": {},
   "outputs": [
    {
     "data": {
      "image/png": "[encoded data removed]",
      "text/plain": [
       "<Figure size 864x360 with 1 Axes>"
      ]
     },
     "metadata": {
      "needs_background": "light"
     },
     "output_type": "display_data"
    }
   ],
   "source": [
    "go_users['city'].value_counts(ascending = True).plot(kind = 'barh', figsize = (12, 5))\n",
    "plt.title('Распределение пользователей по городам')\n",
    "plt.xlabel('Количество пользователей')\n",
    "plt.ylabel('Город')\n",
    "plt.show()"
   ]
  },
  {
   "cell_type": "markdown",
   "id": "c9565521",
   "metadata": {},
   "source": [
    "Видим:\n",
    "\n",
    "1. Нам переданы данные о клиентах компании в восьми городах.\n",
    "2. Клиенты распределены по городам довольно ровно: в среднем по 191-192 человека в каждом.     \n",
    "3. Максимальное количество клиентов в Пятигорске - 219, минимальное как ни удивительно - в Москве - 168 человек.       \n",
    "4. Стандартный разброс количества клиентов по городам в пределах 10% от среднего количества, что вполне нормально. "
   ]
  },
  {
   "cell_type": "markdown",
   "id": "5ad43c1a",
   "metadata": {},
   "source": [
    "### 3.2 соотношение пользователей с подпиской и без подписки."
   ]
  },
  {
   "cell_type": "markdown",
   "id": "cecdc212",
   "metadata": {},
   "source": [
    "\n"
   ]
  },
  {
   "cell_type": "markdown",
   "id": "6f5f67a8",
   "metadata": {},
   "source": [
    "Данные о подписки упоминаются в том же датафрейме 'users': если подписка есть - то в столбце \"subscription_type\" этого датафрейма стоит \"ultra\", а если подписки нет - \"free\".       \n",
    "Посмотрим популярность подписки среди клиентов."
   ]
  },
  {
   "cell_type": "code",
   "execution_count": 26,
   "id": "19020741",
   "metadata": {},
   "outputs": [
    {
     "data": {
      "text/plain": [
       "free     835\n",
       "ultra    699\n",
       "Name: subscription_type, dtype: int64"
      ]
     },
     "execution_count": 26,
     "metadata": {},
     "output_type": "execute_result"
    }
   ],
   "source": [
    "subscription_occurrence = go_users['subscription_type'].value_counts()\n",
    "\n",
    "subscription_occurrence"
   ]
  },
  {
   "cell_type": "markdown",
   "id": "c7b2c193",
   "metadata": {},
   "source": [
    "Cтатистические параметры в этом случае выводить нет смысла."
   ]
  },
  {
   "cell_type": "markdown",
   "id": "67bc51e5",
   "metadata": {},
   "source": [
    "Визуализируем столбчатой диаграммой."
   ]
  },
  {
   "cell_type": "code",
   "execution_count": 27,
   "id": "0b9ebc55",
   "metadata": {},
   "outputs": [
    {
     "data": {
      "image/png": "[encoded data removed]",
      "text/plain": [
       "<Figure size 504x504 with 1 Axes>"
      ]
     },
     "metadata": {},
     "output_type": "display_data"
    }
   ],
   "source": [
    "subscription_occurrence.plot( kind='pie', figsize = (7,7))\n",
    "plt.title('Распределение пользователей по подписке')\n",
    "plt.ylabel('Доля пользователей')\n",
    "plt.show()"
   ]
  },
  {
   "cell_type": "code",
   "execution_count": 120,
   "id": "2d35068d",
   "metadata": {},
   "outputs": [
    {
     "data": {
      "image/png": "[encoded data removed]",
      "text/plain": [
       "<Figure size 504x504 with 1 Axes>"
      ]
     },
     "metadata": {},
     "output_type": "display_data"
    }
   ],
   "source": [
    "go_users['subscription_type'].value_counts().plot( kind='pie', figsize = (7,7), \n",
    "                                                 autopct = '%.2f%%')\n",
    "plt.title('Распределение пользователей по подписке')\n",
    "plt.ylabel('Доля пользователей')\n",
    "plt.show()"
   ]
  },
  {
   "cell_type": "markdown",
   "id": "d4e748bb",
   "metadata": {},
   "source": [
    "Видим:\n",
    "\n",
    "1. Из 1534 клиентов компании в восьми городах 699 имеют подписку \"ультра\" и 835 - не имеют подписки.\n",
    "2. Соотношение на мой взгляд свидетельствует о том, что у компании достаточно высокий процент постоянных клиентов, однако сервисами так-же пользуются и клиенты по разовым тарифам.     \n",
    "3. Данные о поездках по обеим категориям клиентов мы будем смотреть более подробно чуть позже - в ходе шага №4. "
   ]
  },
  {
   "cell_type": "markdown",
   "id": "f5354c96",
   "metadata": {},
   "source": [
    "### 3.3 возраст пользователей."
   ]
  },
  {
   "cell_type": "markdown",
   "id": "6cea3380",
   "metadata": {},
   "source": [
    "\n"
   ]
  },
  {
   "cell_type": "markdown",
   "id": "450181fd",
   "metadata": {},
   "source": [
    "Данные о возрасте клиентов находятся в датафрейме 'users' в столбце 'age'.      \n",
    "Этот столбец - единственный числовой в этом датафрейме, поэтому параметры распределения клиентов по возрастам можно было бы посмотреть просто выведя users.describe(), что мы и делали, когда проводили общий обзор этого датафрейма.\n",
    "В этот раз взглянем на то, как клиенты распределены по возрастам немного по другому а заодно посмотрим основные статистические характеристики встречаемости возрастов и подготовим вывод диаграммы."
   ]
  },
  {
   "cell_type": "code",
   "execution_count": 28,
   "id": "ae41b2d3",
   "metadata": {},
   "outputs": [
    {
     "data": {
      "text/html": [
       "<div>\n",
       "<style scoped>\n",
       "    .dataframe tbody tr th:only-of-type {\n",
       "        vertical-align: middle;\n",
       "    }\n",
       "\n",
       "    .dataframe tbody tr th {\n",
       "        vertical-align: top;\n",
       "    }\n",
       "\n",
       "    .dataframe thead th {\n",
       "        text-align: right;\n",
       "    }\n",
       "</style>\n",
       "<table border=\"1\" class=\"dataframe\">\n",
       "  <thead>\n",
       "    <tr style=\"text-align: right;\">\n",
       "      <th></th>\n",
       "      <th>age</th>\n",
       "      <th>occurrence</th>\n",
       "    </tr>\n",
       "  </thead>\n",
       "  <tbody>\n",
       "    <tr>\n",
       "      <th>count</th>\n",
       "      <td>29.000000</td>\n",
       "      <td>29.000000</td>\n",
       "    </tr>\n",
       "    <tr>\n",
       "      <th>mean</th>\n",
       "      <td>26.103448</td>\n",
       "      <td>52.896552</td>\n",
       "    </tr>\n",
       "    <tr>\n",
       "      <th>std</th>\n",
       "      <td>8.706914</td>\n",
       "      <td>48.824280</td>\n",
       "    </tr>\n",
       "    <tr>\n",
       "      <th>min</th>\n",
       "      <td>12.000000</td>\n",
       "      <td>1.000000</td>\n",
       "    </tr>\n",
       "    <tr>\n",
       "      <th>25%</th>\n",
       "      <td>19.000000</td>\n",
       "      <td>9.000000</td>\n",
       "    </tr>\n",
       "    <tr>\n",
       "      <th>50%</th>\n",
       "      <td>26.000000</td>\n",
       "      <td>41.000000</td>\n",
       "    </tr>\n",
       "    <tr>\n",
       "      <th>75%</th>\n",
       "      <td>33.000000</td>\n",
       "      <td>93.000000</td>\n",
       "    </tr>\n",
       "    <tr>\n",
       "      <th>max</th>\n",
       "      <td>43.000000</td>\n",
       "      <td>145.000000</td>\n",
       "    </tr>\n",
       "  </tbody>\n",
       "</table>\n",
       "</div>"
      ],
      "text/plain": [
       "             age  occurrence\n",
       "count  29.000000   29.000000\n",
       "mean   26.103448   52.896552\n",
       "std     8.706914   48.824280\n",
       "min    12.000000    1.000000\n",
       "25%    19.000000    9.000000\n",
       "50%    26.000000   41.000000\n",
       "75%    33.000000   93.000000\n",
       "max    43.000000  145.000000"
      ]
     },
     "execution_count": 28,
     "metadata": {},
     "output_type": "execute_result"
    }
   ],
   "source": [
    "age_occurrence = go_users['age'].value_counts()\n",
    "\n",
    "age_occurrence = age_occurrence.reset_index()\n",
    "age_occurrence.columns = ['age','occurrence']\n",
    "\n",
    "age_occurrence.describe()"
   ]
  },
  {
   "cell_type": "markdown",
   "id": "9e9dcf46",
   "metadata": {},
   "source": [
    "Поскольку возраста колеблются от 12 до 43 и суммарно их не так много (всего 29) - то объединять их в группы наверное нет смысла.\n",
    "\n",
    "Посмотрим на них всех."
   ]
  },
  {
   "cell_type": "code",
   "execution_count": 29,
   "id": "0e5a160a",
   "metadata": {},
   "outputs": [
    {
     "data": {
      "text/html": [
       "<div>\n",
       "<style scoped>\n",
       "    .dataframe tbody tr th:only-of-type {\n",
       "        vertical-align: middle;\n",
       "    }\n",
       "\n",
       "    .dataframe tbody tr th {\n",
       "        vertical-align: top;\n",
       "    }\n",
       "\n",
       "    .dataframe thead th {\n",
       "        text-align: right;\n",
       "    }\n",
       "</style>\n",
       "<table border=\"1\" class=\"dataframe\">\n",
       "  <thead>\n",
       "    <tr style=\"text-align: right;\">\n",
       "      <th></th>\n",
       "      <th>age</th>\n",
       "      <th>occurrence</th>\n",
       "    </tr>\n",
       "  </thead>\n",
       "  <tbody>\n",
       "    <tr>\n",
       "      <th>24</th>\n",
       "      <td>12</td>\n",
       "      <td>4</td>\n",
       "    </tr>\n",
       "    <tr>\n",
       "      <th>22</th>\n",
       "      <td>13</td>\n",
       "      <td>8</td>\n",
       "    </tr>\n",
       "    <tr>\n",
       "      <th>21</th>\n",
       "      <td>14</td>\n",
       "      <td>9</td>\n",
       "    </tr>\n",
       "    <tr>\n",
       "      <th>20</th>\n",
       "      <td>15</td>\n",
       "      <td>13</td>\n",
       "    </tr>\n",
       "    <tr>\n",
       "      <th>18</th>\n",
       "      <td>16</td>\n",
       "      <td>19</td>\n",
       "    </tr>\n",
       "    <tr>\n",
       "      <th>16</th>\n",
       "      <td>17</td>\n",
       "      <td>26</td>\n",
       "    </tr>\n",
       "    <tr>\n",
       "      <th>13</th>\n",
       "      <td>18</td>\n",
       "      <td>46</td>\n",
       "    </tr>\n",
       "    <tr>\n",
       "      <th>12</th>\n",
       "      <td>19</td>\n",
       "      <td>47</td>\n",
       "    </tr>\n",
       "    <tr>\n",
       "      <th>8</th>\n",
       "      <td>20</td>\n",
       "      <td>71</td>\n",
       "    </tr>\n",
       "    <tr>\n",
       "      <th>7</th>\n",
       "      <td>21</td>\n",
       "      <td>93</td>\n",
       "    </tr>\n",
       "    <tr>\n",
       "      <th>5</th>\n",
       "      <td>22</td>\n",
       "      <td>119</td>\n",
       "    </tr>\n",
       "    <tr>\n",
       "      <th>3</th>\n",
       "      <td>23</td>\n",
       "      <td>129</td>\n",
       "    </tr>\n",
       "    <tr>\n",
       "      <th>1</th>\n",
       "      <td>24</td>\n",
       "      <td>132</td>\n",
       "    </tr>\n",
       "    <tr>\n",
       "      <th>0</th>\n",
       "      <td>25</td>\n",
       "      <td>145</td>\n",
       "    </tr>\n",
       "    <tr>\n",
       "      <th>2</th>\n",
       "      <td>26</td>\n",
       "      <td>131</td>\n",
       "    </tr>\n",
       "    <tr>\n",
       "      <th>4</th>\n",
       "      <td>27</td>\n",
       "      <td>119</td>\n",
       "    </tr>\n",
       "    <tr>\n",
       "      <th>6</th>\n",
       "      <td>28</td>\n",
       "      <td>112</td>\n",
       "    </tr>\n",
       "    <tr>\n",
       "      <th>10</th>\n",
       "      <td>29</td>\n",
       "      <td>68</td>\n",
       "    </tr>\n",
       "    <tr>\n",
       "      <th>9</th>\n",
       "      <td>30</td>\n",
       "      <td>68</td>\n",
       "    </tr>\n",
       "    <tr>\n",
       "      <th>11</th>\n",
       "      <td>31</td>\n",
       "      <td>48</td>\n",
       "    </tr>\n",
       "    <tr>\n",
       "      <th>14</th>\n",
       "      <td>32</td>\n",
       "      <td>41</td>\n",
       "    </tr>\n",
       "    <tr>\n",
       "      <th>15</th>\n",
       "      <td>33</td>\n",
       "      <td>39</td>\n",
       "    </tr>\n",
       "    <tr>\n",
       "      <th>17</th>\n",
       "      <td>34</td>\n",
       "      <td>19</td>\n",
       "    </tr>\n",
       "    <tr>\n",
       "      <th>19</th>\n",
       "      <td>35</td>\n",
       "      <td>15</td>\n",
       "    </tr>\n",
       "    <tr>\n",
       "      <th>23</th>\n",
       "      <td>36</td>\n",
       "      <td>6</td>\n",
       "    </tr>\n",
       "    <tr>\n",
       "      <th>26</th>\n",
       "      <td>37</td>\n",
       "      <td>2</td>\n",
       "    </tr>\n",
       "    <tr>\n",
       "      <th>25</th>\n",
       "      <td>38</td>\n",
       "      <td>3</td>\n",
       "    </tr>\n",
       "    <tr>\n",
       "      <th>27</th>\n",
       "      <td>39</td>\n",
       "      <td>1</td>\n",
       "    </tr>\n",
       "    <tr>\n",
       "      <th>28</th>\n",
       "      <td>43</td>\n",
       "      <td>1</td>\n",
       "    </tr>\n",
       "  </tbody>\n",
       "</table>\n",
       "</div>"
      ],
      "text/plain": [
       "    age  occurrence\n",
       "24   12           4\n",
       "22   13           8\n",
       "21   14           9\n",
       "20   15          13\n",
       "18   16          19\n",
       "16   17          26\n",
       "13   18          46\n",
       "12   19          47\n",
       "8    20          71\n",
       "7    21          93\n",
       "5    22         119\n",
       "3    23         129\n",
       "1    24         132\n",
       "0    25         145\n",
       "2    26         131\n",
       "4    27         119\n",
       "6    28         112\n",
       "10   29          68\n",
       "9    30          68\n",
       "11   31          48\n",
       "14   32          41\n",
       "15   33          39\n",
       "17   34          19\n",
       "19   35          15\n",
       "23   36           6\n",
       "26   37           2\n",
       "25   38           3\n",
       "27   39           1\n",
       "28   43           1"
      ]
     },
     "execution_count": 29,
     "metadata": {},
     "output_type": "execute_result"
    }
   ],
   "source": [
    "age_occurrence= age_occurrence.sort_values('age')\n",
    "\n",
    "age_occurrence"
   ]
  },
  {
   "cell_type": "markdown",
   "id": "4ac12d62",
   "metadata": {},
   "source": [
    "И визуализируем столбчатой диаграммой."
   ]
  },
  {
   "cell_type": "code",
   "execution_count": 30,
   "id": "d1b602c7",
   "metadata": {},
   "outputs": [
    {
     "data": {
      "image/png": "[encoded data removed]",
      "text/plain": [
       "<Figure size 720x360 with 1 Axes>"
      ]
     },
     "metadata": {
      "needs_background": "light"
     },
     "output_type": "display_data"
    }
   ],
   "source": [
    "age_occurrence.sort_values(by='age').plot.bar( x='age', y='occurrence', legend=False, figsize = (10,5))\n",
    "plt.title('Распределение пользователей по возростам')\n",
    "plt.xlabel('Возраст')\n",
    "plt.ylabel('Количество пользователей')\n",
    "plt.show()"
   ]
  },
  {
   "cell_type": "markdown",
   "id": "a6758ffe",
   "metadata": {},
   "source": [
    "... или гистограммой"
   ]
  },
  {
   "cell_type": "code",
   "execution_count": 31,
   "id": "6a9f5d26",
   "metadata": {},
   "outputs": [
    {
     "data": {
      "image/png": "[encoded data removed]",
      "text/plain": [
       "<Figure size 720x360 with 1 Axes>"
      ]
     },
     "metadata": {
      "needs_background": "light"
     },
     "output_type": "display_data"
    }
   ],
   "source": [
    "go_users.hist('age', bins=32, grid=False, figsize=(10,5))\n",
    "plt.title('Распределение пользователей по возростам')\n",
    "plt.xlabel('Возраст')\n",
    "plt.ylabel('Количество пользователей')\n",
    "plt.show()"
   ]
  },
  {
   "cell_type": "markdown",
   "id": "c33e4db5",
   "metadata": {},
   "source": [
    "Видим:\n",
    "\n",
    "1. Возраст клиентов компании колеблется от 12 до 43 лет. Средний возраст практически совпадает с медианным и составляет 26 лет. \n",
    "2. Распределение клиентов по возрастам очень напоминает нормальное распределение. Подавляющаяя масса клиентов сосредоточены в возрастных пределах от 19 (Q1) до 33 (Q3) лет.      \n",
    "3. Максимальное количество клиентов представляют 25-летние - их 145 человек. Минимальное количество - по одному человеку 39-ти и 43-х лет.      \n",
    "4. Вообще клиентов старше 35 лет считанные единицы ( 36 - 6, 37 - 2, 38 - 3, 39 и 43 - по 1). Возможно чуть более старшее поколение ( > 35 лет ) может считаться перспективой для компании. "
   ]
  },
  {
   "cell_type": "markdown",
   "id": "127d9693",
   "metadata": {},
   "source": [
    "### 3.4 расстояние, которое пользователь преодолел за одну поездку."
   ]
  },
  {
   "cell_type": "markdown",
   "id": "17fb349c",
   "metadata": {},
   "source": [
    " "
   ]
  },
  {
   "cell_type": "markdown",
   "id": "164de94f",
   "metadata": {},
   "source": [
    "Данные о поездках находятся в датафрейме 'rides'; расстояние, которое клиент проехал за конкретную поездку отражена в столбце \"distance\" в метрах. \n",
    "\n",
    "Посмотрим основные статистические параметры дальности поездок ..."
   ]
  },
  {
   "cell_type": "code",
   "execution_count": 32,
   "id": "dcb5f55c",
   "metadata": {},
   "outputs": [
    {
     "data": {
      "text/plain": [
       "count    18068.000000\n",
       "mean      3070.659976\n",
       "std       1116.831209\n",
       "min          0.855683\n",
       "25%       2543.226360\n",
       "50%       3133.609994\n",
       "75%       3776.222735\n",
       "max       7211.007745\n",
       "Name: distance, dtype: float64"
      ]
     },
     "execution_count": 32,
     "metadata": {},
     "output_type": "execute_result"
    }
   ],
   "source": [
    "go_rides['distance'].describe()"
   ]
  },
  {
   "cell_type": "markdown",
   "id": "62708e17",
   "metadata": {},
   "source": [
    "... и встречаемости разных дальностей (то есть количество поездок на конкретное расстояние)       \n",
    "Поскольку расстояние, пройденное в каждой поездке, отражено в датафрейме с очень высокой точностью (тип float64), то для того, чтобы статистические параметры имели како-то смысл, понизим точность дальности поездок до какой-то разумной (например до 100 метров).  "
   ]
  },
  {
   "cell_type": "code",
   "execution_count": 33,
   "id": "88325c5c",
   "metadata": {},
   "outputs": [
    {
     "data": {
      "text/plain": [
       "count     72.000000\n",
       "mean     250.944444\n",
       "std      265.018728\n",
       "min        1.000000\n",
       "25%       48.500000\n",
       "50%      138.000000\n",
       "75%      450.000000\n",
       "max      858.000000\n",
       "Name: occurrence, dtype: float64"
      ]
     },
     "execution_count": 33,
     "metadata": {},
     "output_type": "execute_result"
    }
   ],
   "source": [
    "distance_occurrence = round(go_rides['distance'].astype(int), -2).value_counts()\n",
    "\n",
    "distance_occurrence = distance_occurrence.reset_index()\n",
    "distance_occurrence.columns = ['distance','occurrence']\n",
    "\n",
    "distance_occurrence['occurrence'].describe()"
   ]
  },
  {
   "cell_type": "code",
   "execution_count": 34,
   "id": "f82fa1e8",
   "metadata": {},
   "outputs": [
    {
     "data": {
      "text/html": [
       "<div>\n",
       "<style scoped>\n",
       "    .dataframe tbody tr th:only-of-type {\n",
       "        vertical-align: middle;\n",
       "    }\n",
       "\n",
       "    .dataframe tbody tr th {\n",
       "        vertical-align: top;\n",
       "    }\n",
       "\n",
       "    .dataframe thead th {\n",
       "        text-align: right;\n",
       "    }\n",
       "</style>\n",
       "<table border=\"1\" class=\"dataframe\">\n",
       "  <thead>\n",
       "    <tr style=\"text-align: right;\">\n",
       "      <th></th>\n",
       "      <th>distance</th>\n",
       "      <th>occurrence</th>\n",
       "    </tr>\n",
       "  </thead>\n",
       "  <tbody>\n",
       "    <tr>\n",
       "      <th>0</th>\n",
       "      <td>3000</td>\n",
       "      <td>858</td>\n",
       "    </tr>\n",
       "    <tr>\n",
       "      <th>1</th>\n",
       "      <td>3100</td>\n",
       "      <td>851</td>\n",
       "    </tr>\n",
       "    <tr>\n",
       "      <th>2</th>\n",
       "      <td>3200</td>\n",
       "      <td>835</td>\n",
       "    </tr>\n",
       "    <tr>\n",
       "      <th>3</th>\n",
       "      <td>3300</td>\n",
       "      <td>818</td>\n",
       "    </tr>\n",
       "    <tr>\n",
       "      <th>4</th>\n",
       "      <td>2800</td>\n",
       "      <td>793</td>\n",
       "    </tr>\n",
       "    <tr>\n",
       "      <th>...</th>\n",
       "      <td>...</td>\n",
       "      <td>...</td>\n",
       "    </tr>\n",
       "    <tr>\n",
       "      <th>67</th>\n",
       "      <td>6900</td>\n",
       "      <td>1</td>\n",
       "    </tr>\n",
       "    <tr>\n",
       "      <th>68</th>\n",
       "      <td>6600</td>\n",
       "      <td>1</td>\n",
       "    </tr>\n",
       "    <tr>\n",
       "      <th>69</th>\n",
       "      <td>7200</td>\n",
       "      <td>1</td>\n",
       "    </tr>\n",
       "    <tr>\n",
       "      <th>70</th>\n",
       "      <td>6800</td>\n",
       "      <td>1</td>\n",
       "    </tr>\n",
       "    <tr>\n",
       "      <th>71</th>\n",
       "      <td>7100</td>\n",
       "      <td>1</td>\n",
       "    </tr>\n",
       "  </tbody>\n",
       "</table>\n",
       "<p>72 rows × 2 columns</p>\n",
       "</div>"
      ],
      "text/plain": [
       "    distance  occurrence\n",
       "0       3000         858\n",
       "1       3100         851\n",
       "2       3200         835\n",
       "3       3300         818\n",
       "4       2800         793\n",
       "..       ...         ...\n",
       "67      6900           1\n",
       "68      6600           1\n",
       "69      7200           1\n",
       "70      6800           1\n",
       "71      7100           1\n",
       "\n",
       "[72 rows x 2 columns]"
      ]
     },
     "execution_count": 34,
     "metadata": {},
     "output_type": "execute_result"
    }
   ],
   "source": [
    "distance_occurrence"
   ]
  },
  {
   "cell_type": "markdown",
   "id": "6e7503bd",
   "metadata": {},
   "source": [
    "И визуализируем \n",
    "\n",
    "столбчатой диаграммой..."
   ]
  },
  {
   "cell_type": "code",
   "execution_count": 35,
   "id": "88acd30f",
   "metadata": {},
   "outputs": [
    {
     "data": {
      "image/png": "[encoded data removed]",
      "text/plain": [
       "<Figure size 720x360 with 1 Axes>"
      ]
     },
     "metadata": {
      "needs_background": "light"
     },
     "output_type": "display_data"
    }
   ],
   "source": [
    "distance_occurrence.sort_values(by='distance').plot.bar( x='distance', y='occurrence', legend=False, figsize = (10,5))\n",
    "plt.title('Распределение поездок по дальности')\n",
    "plt.xlabel('Дальность')\n",
    "plt.ylabel('Количество поездок')\n",
    "plt.show()"
   ]
  },
  {
   "cell_type": "markdown",
   "id": "da51093f",
   "metadata": {},
   "source": [
    "... или гистограммой"
   ]
  },
  {
   "cell_type": "code",
   "execution_count": 36,
   "id": "b5ef308d",
   "metadata": {},
   "outputs": [
    {
     "data": {
      "image/png": "[encoded data removed]",
      "text/plain": [
       "<Figure size 720x360 with 1 Axes>"
      ]
     },
     "metadata": {
      "needs_background": "light"
     },
     "output_type": "display_data"
    }
   ],
   "source": [
    "go_rides.hist('distance', bins=72, grid=False, figsize=(10,5))\n",
    "plt.title('Распределение поездок по дальности')\n",
    "plt.xlabel('Дальность')\n",
    "plt.ylabel('Количество поездок')\n",
    "plt.show()"
   ]
  },
  {
   "cell_type": "code",
   "execution_count": 138,
   "id": "3f34ae7f",
   "metadata": {},
   "outputs": [
    {
     "data": {
      "image/png": "[encoded data removed]",
      "text/plain": [
       "<Figure size 1152x360 with 1 Axes>"
      ]
     },
     "metadata": {
      "needs_background": "light"
     },
     "output_type": "display_data"
    }
   ],
   "source": [
    "# Код ревьюера\n",
    "distance_occurrence.sort_values(by='distance').plot.bar( x='distance', y='occurrence', legend=False, figsize = (16,5),\n",
    "                                                       rot = 45) # Поворот на 45 градусов разметки\n",
    "plt.title('Распределение поездок по дальности')\n",
    "plt.xlabel('Дальность')\n",
    "plt.xticks(fontsize = 8) # Размер шрифта разметки оси Х\n",
    "plt.ylabel('Количество поездок')\n",
    "plt.show()"
   ]
  },
  {
   "cell_type": "markdown",
   "id": "7f8114c6",
   "metadata": {},
   "source": [
    "Прежде всего отметим, что вид распределения поездок по дистанциям на диаграмме производит впечатление двух диаграмм - всплесков, наложенных одна на другую:   большую с центром где-то около 3000-3100 метров и малую с центром около 600-700 метров  \n",
    "    \n",
    "Перед тем, как продолжать делать выводы, посмотрим на каждый из двух диапазонов, в которых \"локализованы\" центры этих двух гипотетических распределений - всплесков."
   ]
  },
  {
   "cell_type": "code",
   "execution_count": 37,
   "id": "ba41dc15",
   "metadata": {},
   "outputs": [
    {
     "data": {
      "text/plain": [
       "1776"
      ]
     },
     "execution_count": 37,
     "metadata": {},
     "output_type": "execute_result"
    }
   ],
   "source": [
    "distance_occ_low = distance_occurrence[(distance_occurrence['distance'] < 1500)]\n",
    "\n",
    "distance_occ_low['occurrence'].sum()"
   ]
  },
  {
   "cell_type": "code",
   "execution_count": 38,
   "id": "d987af3d",
   "metadata": {},
   "outputs": [
    {
     "data": {
      "text/plain": [
       "count      15.000000\n",
       "mean      700.000000\n",
       "std       447.213595\n",
       "min         0.000000\n",
       "25%       350.000000\n",
       "50%       700.000000\n",
       "75%      1050.000000\n",
       "max      1400.000000\n",
       "Name: distance, dtype: float64"
      ]
     },
     "execution_count": 38,
     "metadata": {},
     "output_type": "execute_result"
    }
   ],
   "source": [
    "distance_occ_low['distance'].describe()"
   ]
  },
  {
   "cell_type": "markdown",
   "id": "9d4c3154",
   "metadata": {},
   "source": [
    "Визуализируем \n",
    "\n",
    "столбчатой диаграммой..."
   ]
  },
  {
   "cell_type": "code",
   "execution_count": 39,
   "id": "5f5386f7",
   "metadata": {},
   "outputs": [
    {
     "data": {
      "image/png": "[encoded data removed]",
      "text/plain": [
       "<Figure size 720x360 with 1 Axes>"
      ]
     },
     "metadata": {
      "needs_background": "light"
     },
     "output_type": "display_data"
    }
   ],
   "source": [
    "distance_occ_low.sort_values(by='distance').plot.bar( x='distance', y='occurrence', figsize = (10,5))\n",
    "plt.title('Распределение коротких поездок по дальности')\n",
    "plt.xlabel('Дальность')\n",
    "plt.ylabel('Количество поездок')\n",
    "plt.show()"
   ]
  },
  {
   "cell_type": "markdown",
   "id": "fc79fddd",
   "metadata": {},
   "source": [
    "... или гистограммой"
   ]
  },
  {
   "cell_type": "code",
   "execution_count": 40,
   "id": "421b6af4",
   "metadata": {},
   "outputs": [
    {
     "data": {
      "image/png": "[encoded data removed]",
      "text/plain": [
       "<Figure size 720x360 with 1 Axes>"
      ]
     },
     "metadata": {
      "needs_background": "light"
     },
     "output_type": "display_data"
    }
   ],
   "source": [
    "go_rides[go_rides['distance'] < 1500].hist('distance', bins=70, grid=False, figsize=(10,5))\n",
    "plt.title('Распределение коротких поездок по дальности')\n",
    "plt.xlabel('Дальность')\n",
    "plt.ylabel('Количество поездок')\n",
    "plt.show()"
   ]
  },
  {
   "cell_type": "code",
   "execution_count": 41,
   "id": "a73dd863",
   "metadata": {},
   "outputs": [
    {
     "data": {
      "text/plain": [
       "15699"
      ]
     },
     "execution_count": 41,
     "metadata": {},
     "output_type": "execute_result"
    }
   ],
   "source": [
    "distance_occ_high = distance_occurrence[ (distance_occurrence['distance'] >= 1500) & (distance_occurrence['distance'] < 5000)]\n",
    "\n",
    "distance_occ_high['occurrence'].sum()"
   ]
  },
  {
   "cell_type": "code",
   "execution_count": 42,
   "id": "da162234",
   "metadata": {},
   "outputs": [
    {
     "data": {
      "text/plain": [
       "count      35.000000\n",
       "mean     3200.000000\n",
       "std      1024.695077\n",
       "min      1500.000000\n",
       "25%      2350.000000\n",
       "50%      3200.000000\n",
       "75%      4050.000000\n",
       "max      4900.000000\n",
       "Name: distance, dtype: float64"
      ]
     },
     "execution_count": 42,
     "metadata": {},
     "output_type": "execute_result"
    }
   ],
   "source": [
    "distance_occ_high['distance'].describe()"
   ]
  },
  {
   "cell_type": "markdown",
   "id": "fe870eef",
   "metadata": {},
   "source": [
    "Визуализируем \n",
    "\n",
    "столбчатой диаграммой..."
   ]
  },
  {
   "cell_type": "code",
   "execution_count": 43,
   "id": "f4963255",
   "metadata": {},
   "outputs": [
    {
     "data": {
      "image/png": "[encoded data removed]",
      "text/plain": [
       "<Figure size 720x360 with 1 Axes>"
      ]
     },
     "metadata": {
      "needs_background": "light"
     },
     "output_type": "display_data"
    }
   ],
   "source": [
    "distance_occ_high.sort_values(by='distance').plot.bar( x='distance', y='occurrence', legend=False, figsize = (10,5))\n",
    "plt.title('Распределение длинных поездок по дальности')\n",
    "plt.xlabel('Дальность')\n",
    "plt.ylabel('Количество поездок')\n",
    "plt.show()"
   ]
  },
  {
   "cell_type": "markdown",
   "id": "32b0987a",
   "metadata": {},
   "source": [
    "... или гистограммой"
   ]
  },
  {
   "cell_type": "code",
   "execution_count": 44,
   "id": "c10f265a",
   "metadata": {
    "scrolled": false
   },
   "outputs": [
    {
     "data": {
      "image/png": "[encoded data removed]",
      "text/plain": [
       "<Figure size 720x360 with 1 Axes>"
      ]
     },
     "metadata": {
      "needs_background": "light"
     },
     "output_type": "display_data"
    }
   ],
   "source": [
    "go_rides[(go_rides['distance'] >= 1500) & (go_rides['distance'] < 5000)].hist('distance', bins=70, grid=False, figsize=(10,5))\n",
    "plt.title('Распределение длинных поездок по дальности')\n",
    "plt.xlabel('Дальность')\n",
    "plt.ylabel('Количество поездок')\n",
    "plt.show()"
   ]
  },
  {
   "cell_type": "code",
   "execution_count": 45,
   "id": "9d833621",
   "metadata": {},
   "outputs": [
    {
     "data": {
      "text/plain": [
       "22"
      ]
     },
     "execution_count": 45,
     "metadata": {},
     "output_type": "execute_result"
    }
   ],
   "source": [
    "distance_occurrence[distance_occurrence['distance'] >= 5000]['distance'].value_counts().sort_values().sum()"
   ]
  },
  {
   "cell_type": "markdown",
   "id": "3c556f25",
   "metadata": {},
   "source": [
    "Итак, видим:\n",
    "\n",
    "1. Ранее, при изучении общей информации по этому датафрейму мы отмечали, что данные по поездкам полны - 18068 записей, средняя дальность поездки составляет 3070 метров, что очень близко к оптимальной дистанции одной поездки с точки зрения износа самоката.      \n",
    "2. Вид распределения дальности поездок действительно очень напоминает наложение двух \"околонормальных распределений\"\n",
    "    - одно - по виду немного скошенное нормальное распределение с \"центром\" около 3200 метров и стандартным отклонением 1024 м. (что как кажется - довольно много.      \n",
    "    - и второе тоже по виду маленькое нормальное распределение с центром около 700 метров и стандартным отклонением 447 метров. \n",
    "3. Наличие такого рода \"наложения\" обуславливает факт, который мы отметили ранее: что медианное знаяение выше среднего. Скошенность самих распределений обусловлена тем, что мы просто разделили их по диапазонам значений, а наложенность одного на другое имеет более сложную структуру.\n",
    "Если это наличие нижнего выброса хотя бы приблизительно проявится и на диаграмме длительностей,  по всей видимости это может означать, что поездки делятся на две отличные друг от друга категории: короткие (до километра) и дальние (от полутора до пяти км.) и возможно есть смысл каким-то образом их разделять.      \n",
    "4. Минимальное значение расстояния в 0.85 метра (и пол-минуты длительности) вполне соответствует кейсу \"взял неисправный, он не едет - бросил\" или \"попробовал поехать, не получилось - бросил\". Минимальные расстояния - до 100 метров встречаются в общей сложности всего 31 раз, что тоже укладывается в схему \"попробовал поехать, не понравилось - бросил\".    \n",
    "5. Максимальное пройденное за поездку расстояние равно 7,2 км., что в принципе лежит в пределах возможного для города. Однако следует отметить, что дистанции поездок свыше 5 км. встречаются редко, в единичных количествах, суммарное количество таких поездок (свыше 5 км. каждая) - всего 22. При необходимости, в дальнейшем анализе все поездки длиннее 5 км. можно считать если не выбросами, то \"хвостами\" и исключить из рассмотрения.  \n"
   ]
  },
  {
   "cell_type": "markdown",
   "id": "66b63a35",
   "metadata": {},
   "source": [
    "### 3.5 продолжительность поездок."
   ]
  },
  {
   "cell_type": "markdown",
   "id": "b16d6916",
   "metadata": {},
   "source": [
    " "
   ]
  },
  {
   "cell_type": "markdown",
   "id": "929b32f3",
   "metadata": {},
   "source": [
    "Данные о поездках находятся в датафрейме 'rides'; продолжительность конкретной поездку отражена в столбце \"duration\" в минутах.       \n",
    "\n",
    "Посмотрим на статистические параметры продолжительности поездки..."
   ]
  },
  {
   "cell_type": "code",
   "execution_count": 46,
   "id": "899ba463",
   "metadata": {},
   "outputs": [
    {
     "data": {
      "text/plain": [
       "count    18068.000000\n",
       "mean        17.805011\n",
       "std          6.091051\n",
       "min          0.500000\n",
       "25%         13.597563\n",
       "50%         17.678395\n",
       "75%         21.724800\n",
       "max         40.823963\n",
       "Name: duration, dtype: float64"
      ]
     },
     "execution_count": 46,
     "metadata": {},
     "output_type": "execute_result"
    }
   ],
   "source": [
    "go_rides['duration'].describe()"
   ]
  },
  {
   "cell_type": "markdown",
   "id": "52495e8a",
   "metadata": {},
   "source": [
    "... и встречаемости разных длительностей (то есть количество поездок конкретной длительности).           \n",
    "В принципе в случае с длительностью поездки ситуация такая-же как и с дальностью: она представлена в датафрейме типом float64, однако если смтреть длительность с точностью до минуты, то значений получается всего 40, что вполне удобно для анализа."
   ]
  },
  {
   "cell_type": "code",
   "execution_count": 47,
   "id": "f3570e54",
   "metadata": {},
   "outputs": [
    {
     "data": {
      "text/plain": [
       "18068"
      ]
     },
     "execution_count": 47,
     "metadata": {},
     "output_type": "execute_result"
    }
   ],
   "source": [
    "duration_occurrence = round(go_rides['duration'].astype(int), 0).value_counts()\n",
    "\n",
    "duration_occurrence = duration_occurrence.reset_index()\n",
    "duration_occurrence.columns = ['duration','occurrence']\n",
    "\n",
    "duration_occurrence['occurrence'].sum()"
   ]
  },
  {
   "cell_type": "code",
   "execution_count": 48,
   "id": "4e8dbb55",
   "metadata": {},
   "outputs": [
    {
     "data": {
      "text/plain": [
       "count    40.000000\n",
       "mean     20.475000\n",
       "std      11.734209\n",
       "min       0.000000\n",
       "25%      10.750000\n",
       "50%      20.500000\n",
       "75%      30.250000\n",
       "max      40.000000\n",
       "Name: duration, dtype: float64"
      ]
     },
     "execution_count": 48,
     "metadata": {},
     "output_type": "execute_result"
    }
   ],
   "source": [
    "duration_occurrence['duration'].describe()"
   ]
  },
  {
   "cell_type": "code",
   "execution_count": 49,
   "id": "7dbcc6eb",
   "metadata": {},
   "outputs": [
    {
     "data": {
      "text/html": [
       "<div>\n",
       "<style scoped>\n",
       "    .dataframe tbody tr th:only-of-type {\n",
       "        vertical-align: middle;\n",
       "    }\n",
       "\n",
       "    .dataframe tbody tr th {\n",
       "        vertical-align: top;\n",
       "    }\n",
       "\n",
       "    .dataframe thead th {\n",
       "        text-align: right;\n",
       "    }\n",
       "</style>\n",
       "<table border=\"1\" class=\"dataframe\">\n",
       "  <thead>\n",
       "    <tr style=\"text-align: right;\">\n",
       "      <th></th>\n",
       "      <th>duration</th>\n",
       "      <th>occurrence</th>\n",
       "    </tr>\n",
       "  </thead>\n",
       "  <tbody>\n",
       "    <tr>\n",
       "      <th>0</th>\n",
       "      <td>18</td>\n",
       "      <td>1198</td>\n",
       "    </tr>\n",
       "    <tr>\n",
       "      <th>1</th>\n",
       "      <td>17</td>\n",
       "      <td>1190</td>\n",
       "    </tr>\n",
       "    <tr>\n",
       "      <th>2</th>\n",
       "      <td>20</td>\n",
       "      <td>1122</td>\n",
       "    </tr>\n",
       "    <tr>\n",
       "      <th>3</th>\n",
       "      <td>19</td>\n",
       "      <td>1119</td>\n",
       "    </tr>\n",
       "    <tr>\n",
       "      <th>4</th>\n",
       "      <td>15</td>\n",
       "      <td>1119</td>\n",
       "    </tr>\n",
       "    <tr>\n",
       "      <th>5</th>\n",
       "      <td>16</td>\n",
       "      <td>1095</td>\n",
       "    </tr>\n",
       "    <tr>\n",
       "      <th>6</th>\n",
       "      <td>14</td>\n",
       "      <td>1080</td>\n",
       "    </tr>\n",
       "    <tr>\n",
       "      <th>7</th>\n",
       "      <td>13</td>\n",
       "      <td>991</td>\n",
       "    </tr>\n",
       "    <tr>\n",
       "      <th>8</th>\n",
       "      <td>21</td>\n",
       "      <td>958</td>\n",
       "    </tr>\n",
       "    <tr>\n",
       "      <th>9</th>\n",
       "      <td>12</td>\n",
       "      <td>923</td>\n",
       "    </tr>\n",
       "    <tr>\n",
       "      <th>10</th>\n",
       "      <td>22</td>\n",
       "      <td>815</td>\n",
       "    </tr>\n",
       "    <tr>\n",
       "      <th>11</th>\n",
       "      <td>11</td>\n",
       "      <td>742</td>\n",
       "    </tr>\n",
       "    <tr>\n",
       "      <th>12</th>\n",
       "      <td>23</td>\n",
       "      <td>684</td>\n",
       "    </tr>\n",
       "    <tr>\n",
       "      <th>13</th>\n",
       "      <td>10</td>\n",
       "      <td>638</td>\n",
       "    </tr>\n",
       "    <tr>\n",
       "      <th>14</th>\n",
       "      <td>24</td>\n",
       "      <td>561</td>\n",
       "    </tr>\n",
       "    <tr>\n",
       "      <th>15</th>\n",
       "      <td>25</td>\n",
       "      <td>498</td>\n",
       "    </tr>\n",
       "    <tr>\n",
       "      <th>16</th>\n",
       "      <td>9</td>\n",
       "      <td>469</td>\n",
       "    </tr>\n",
       "    <tr>\n",
       "      <th>17</th>\n",
       "      <td>26</td>\n",
       "      <td>397</td>\n",
       "    </tr>\n",
       "    <tr>\n",
       "      <th>18</th>\n",
       "      <td>8</td>\n",
       "      <td>330</td>\n",
       "    </tr>\n",
       "    <tr>\n",
       "      <th>19</th>\n",
       "      <td>27</td>\n",
       "      <td>288</td>\n",
       "    </tr>\n",
       "    <tr>\n",
       "      <th>20</th>\n",
       "      <td>28</td>\n",
       "      <td>271</td>\n",
       "    </tr>\n",
       "    <tr>\n",
       "      <th>21</th>\n",
       "      <td>7</td>\n",
       "      <td>234</td>\n",
       "    </tr>\n",
       "    <tr>\n",
       "      <th>22</th>\n",
       "      <td>29</td>\n",
       "      <td>197</td>\n",
       "    </tr>\n",
       "    <tr>\n",
       "      <th>23</th>\n",
       "      <td>6</td>\n",
       "      <td>185</td>\n",
       "    </tr>\n",
       "    <tr>\n",
       "      <th>24</th>\n",
       "      <td>30</td>\n",
       "      <td>164</td>\n",
       "    </tr>\n",
       "    <tr>\n",
       "      <th>25</th>\n",
       "      <td>5</td>\n",
       "      <td>143</td>\n",
       "    </tr>\n",
       "    <tr>\n",
       "      <th>26</th>\n",
       "      <td>31</td>\n",
       "      <td>137</td>\n",
       "    </tr>\n",
       "    <tr>\n",
       "      <th>27</th>\n",
       "      <td>32</td>\n",
       "      <td>96</td>\n",
       "    </tr>\n",
       "    <tr>\n",
       "      <th>28</th>\n",
       "      <td>4</td>\n",
       "      <td>95</td>\n",
       "    </tr>\n",
       "    <tr>\n",
       "      <th>29</th>\n",
       "      <td>0</td>\n",
       "      <td>95</td>\n",
       "    </tr>\n",
       "    <tr>\n",
       "      <th>30</th>\n",
       "      <td>33</td>\n",
       "      <td>71</td>\n",
       "    </tr>\n",
       "    <tr>\n",
       "      <th>31</th>\n",
       "      <td>3</td>\n",
       "      <td>55</td>\n",
       "    </tr>\n",
       "    <tr>\n",
       "      <th>32</th>\n",
       "      <td>34</td>\n",
       "      <td>47</td>\n",
       "    </tr>\n",
       "    <tr>\n",
       "      <th>33</th>\n",
       "      <td>2</td>\n",
       "      <td>33</td>\n",
       "    </tr>\n",
       "    <tr>\n",
       "      <th>34</th>\n",
       "      <td>35</td>\n",
       "      <td>14</td>\n",
       "    </tr>\n",
       "    <tr>\n",
       "      <th>35</th>\n",
       "      <td>36</td>\n",
       "      <td>7</td>\n",
       "    </tr>\n",
       "    <tr>\n",
       "      <th>36</th>\n",
       "      <td>38</td>\n",
       "      <td>3</td>\n",
       "    </tr>\n",
       "    <tr>\n",
       "      <th>37</th>\n",
       "      <td>39</td>\n",
       "      <td>2</td>\n",
       "    </tr>\n",
       "    <tr>\n",
       "      <th>38</th>\n",
       "      <td>40</td>\n",
       "      <td>1</td>\n",
       "    </tr>\n",
       "    <tr>\n",
       "      <th>39</th>\n",
       "      <td>37</td>\n",
       "      <td>1</td>\n",
       "    </tr>\n",
       "  </tbody>\n",
       "</table>\n",
       "</div>"
      ],
      "text/plain": [
       "    duration  occurrence\n",
       "0         18        1198\n",
       "1         17        1190\n",
       "2         20        1122\n",
       "3         19        1119\n",
       "4         15        1119\n",
       "5         16        1095\n",
       "6         14        1080\n",
       "7         13         991\n",
       "8         21         958\n",
       "9         12         923\n",
       "10        22         815\n",
       "11        11         742\n",
       "12        23         684\n",
       "13        10         638\n",
       "14        24         561\n",
       "15        25         498\n",
       "16         9         469\n",
       "17        26         397\n",
       "18         8         330\n",
       "19        27         288\n",
       "20        28         271\n",
       "21         7         234\n",
       "22        29         197\n",
       "23         6         185\n",
       "24        30         164\n",
       "25         5         143\n",
       "26        31         137\n",
       "27        32          96\n",
       "28         4          95\n",
       "29         0          95\n",
       "30        33          71\n",
       "31         3          55\n",
       "32        34          47\n",
       "33         2          33\n",
       "34        35          14\n",
       "35        36           7\n",
       "36        38           3\n",
       "37        39           2\n",
       "38        40           1\n",
       "39        37           1"
      ]
     },
     "execution_count": 49,
     "metadata": {},
     "output_type": "execute_result"
    }
   ],
   "source": [
    "duration_occurrence"
   ]
  },
  {
   "cell_type": "markdown",
   "id": "cc21a513",
   "metadata": {},
   "source": [
    "И визуализируем \n",
    "\n",
    "столбчатой диаграммой..."
   ]
  },
  {
   "cell_type": "code",
   "execution_count": 50,
   "id": "65ceb789",
   "metadata": {},
   "outputs": [
    {
     "data": {
      "image/png": "[encoded data removed]",
      "text/plain": [
       "<Figure size 720x360 with 1 Axes>"
      ]
     },
     "metadata": {
      "needs_background": "light"
     },
     "output_type": "display_data"
    }
   ],
   "source": [
    "duration_occurrence.sort_values(by='duration').plot.bar( x='duration', y='occurrence', legend=False, figsize = (10,5))\n",
    "plt.title('Распределение поездок по длительности')\n",
    "plt.xlabel('Длительность')\n",
    "plt.ylabel('Количество поездок')\n",
    "plt.show()"
   ]
  },
  {
   "cell_type": "markdown",
   "id": "58af3bb7",
   "metadata": {},
   "source": [
    "Вид неожиданный.    \n",
    "Ожидался равпределенный всплеск в нижней части. Видим просто одиночный всплеск в районе нуля.\n",
    "\n",
    "Посмотрим - может закралась ошибка и гистограмма на основе начального датафрейма покажет что-то другое"
   ]
  },
  {
   "cell_type": "code",
   "execution_count": 51,
   "id": "26637ce7",
   "metadata": {},
   "outputs": [
    {
     "data": {
      "image/png": "[encoded data removed]",
      "text/plain": [
       "<Figure size 720x360 with 1 Axes>"
      ]
     },
     "metadata": {
      "needs_background": "light"
     },
     "output_type": "display_data"
    }
   ],
   "source": [
    "go_rides.hist('duration', bins=100, figsize=(10,5))\n",
    "plt.title('Распределение поездок по длительности')\n",
    "plt.xlabel('Длительность')\n",
    "plt.ylabel('Количество поездок')\n",
    "plt.show()"
   ]
  },
  {
   "cell_type": "markdown",
   "id": "131069ec",
   "metadata": {},
   "source": [
    "Вид примерно такой же: чуть заметнее всплеск около нуля, но не более того."
   ]
  },
  {
   "cell_type": "markdown",
   "id": "8075b688",
   "metadata": {},
   "source": [
    "Посмотрим чуть подробнее самую нижнюю часть и попробуем сообразить является ли этот небольшой выброс тем самым, который может соответствовать нижнему всплеску (или наложению), которое мы отметили на диаграмме распределения дальности поездок.      \n",
    "Разбирая дальность поездок мы определили, что нижний всплеск имел примерно следующие параметры: дальность от 0 до 1400 метров, средняя дальность 700 метров и количество попавших в него поездок 1779.    \n",
    "Помня о том, что средняя скорость поездки равна примерно 10 км.ч, мы можем рассмотреть нижнюю часть распределения по длительности поездки от 0 до 8 минут. При этом если  в этот интервал попадут ок. 1800 поездок и их среднее будет ок. 4 минут, то выводы, которые мы сделали по распределению дальностей поездок можно будет расширить и на длительности поездок, а значит и на вообще поездки."
   ]
  },
  {
   "cell_type": "code",
   "execution_count": 52,
   "id": "fce0143a",
   "metadata": {},
   "outputs": [
    {
     "data": {
      "text/plain": [
       "1170"
      ]
     },
     "execution_count": 52,
     "metadata": {},
     "output_type": "execute_result"
    }
   ],
   "source": [
    "duration_occ_low = duration_occurrence[(duration_occurrence['duration'] < 9)]\n",
    "\n",
    "duration_occ_low['occurrence'].sum()"
   ]
  },
  {
   "cell_type": "code",
   "execution_count": 53,
   "id": "5e0ebe60",
   "metadata": {},
   "outputs": [
    {
     "data": {
      "text/plain": [
       "count    8.00000\n",
       "mean     4.37500\n",
       "std      2.66927\n",
       "min      0.00000\n",
       "25%      2.75000\n",
       "50%      4.50000\n",
       "75%      6.25000\n",
       "max      8.00000\n",
       "Name: duration, dtype: float64"
      ]
     },
     "execution_count": 53,
     "metadata": {},
     "output_type": "execute_result"
    }
   ],
   "source": [
    "duration_occ_low['duration'].describe()"
   ]
  },
  {
   "cell_type": "markdown",
   "id": "6e40cd70",
   "metadata": {},
   "source": [
    "Количество поездок в нижнем выбросе хоть и в полтора раза меньше, чем в аналогичном выбросе, посчитанном по расстояниям, однако их больше тысячи. Будем считать что это все-таки действительно отражение нижнего всплеска, который мы отметили на диаграмме дальности поездок. Тот факт, что количество поездок здесь меньше аналогичного показателя в распределении по дальности можно объяснить тем, что на короткие дистанции пользователи ездили существенно быстрее эти ок. 600 поездок здесь попали в основной \"колокол\". Чтобы это произошло скорость в таких поездках должна была бы быть ок. 20 км/ч и выше, что вполне возможно для самоката.      \n",
    "А средняя время поездки полностью соответствует предположенному значению в 4 минуты."
   ]
  },
  {
   "cell_type": "markdown",
   "id": "4caa66e4",
   "metadata": {},
   "source": [
    "Итак, видим:\n",
    "\n",
    "1. Так же как и в случае с дальностью поездок данные в столбце 'duration' полны - 18068 поездок.       \n",
    "2. Ранее, при изучении общей информации по этому датафрейму мы отмечали, что длительности поездок хорошо соответствуют дальности поездки - при средней скорости 10.4 км/ч, скорости по всей линейке от нижнего квартиля и до максимума отличаются всего максимум на 0.2 км/ч.       \n",
    "3. Вид распределения длительности поездок очень напоминает классическое \"нормальное\" распределение. Тем не менее в нижней части распределения присутствует выброс, который соответствует аналогичному выбросу, обнаруженному нами на диаграмме расстояний.    Это подтверждает нашу гипотезу о том, что что поездки делятся на две отличные друг от друга категории: короткие (до километра) и дальние (от полутора до пяти км.). Продуктовикам на заметку.         \n",
    "4. Минимальное значение длительности в пол-минуты соответствует неудачной попытке поехать.       \n",
    "5. Максимальная длительность поездки в 40 минут хорошо соответствует максимальной дальности в 7 км., на диаграмме длительностей так же, как и на диграмме расстояний видно (хоть и чуть менее явно), что долгих дальних поездок единицы."
   ]
  },
  {
   "cell_type": "markdown",
   "id": "4c3437ce",
   "metadata": {},
   "source": [
    "\n"
   ]
  },
  {
   "cell_type": "markdown",
   "id": "00ad0f5e",
   "metadata": {},
   "source": [
    "## Шаг 4. Объединение данных"
   ]
  },
  {
   "cell_type": "markdown",
   "id": "bc2bac96",
   "metadata": {},
   "source": [
    "### 4.1 Объединить данные о пользователях, поездках и подписках в один датафрейм."
   ]
  },
  {
   "cell_type": "markdown",
   "id": "27d8768c",
   "metadata": {},
   "source": [
    "\n"
   ]
  },
  {
   "cell_type": "markdown",
   "id": "f27aed29",
   "metadata": {},
   "source": [
    "Объединим датафреймы 'go_users', 'go_subscriptions' и 'go_rides' методом merge() и создадим объединенный датафрейм 'go_all'. \n",
    "\n",
    "Сначала объединим датафреймы 'go_users' и 'go_subscriptions' по столбцу 'subscription_type',      \t\n",
    "а затем объединим получившийся датафрейм с фреймом 'go_rides' по столбцу 'user_id'."
   ]
  },
  {
   "cell_type": "code",
   "execution_count": 54,
   "id": "f9ebbd7e",
   "metadata": {},
   "outputs": [
    {
     "data": {
      "text/html": [
       "<div>\n",
       "<style scoped>\n",
       "    .dataframe tbody tr th:only-of-type {\n",
       "        vertical-align: middle;\n",
       "    }\n",
       "\n",
       "    .dataframe tbody tr th {\n",
       "        vertical-align: top;\n",
       "    }\n",
       "\n",
       "    .dataframe thead th {\n",
       "        text-align: right;\n",
       "    }\n",
       "</style>\n",
       "<table border=\"1\" class=\"dataframe\">\n",
       "  <thead>\n",
       "    <tr style=\"text-align: right;\">\n",
       "      <th></th>\n",
       "      <th>user_id</th>\n",
       "      <th>name</th>\n",
       "      <th>age</th>\n",
       "      <th>city</th>\n",
       "      <th>subscription_type</th>\n",
       "      <th>minute_price</th>\n",
       "      <th>start_ride_price</th>\n",
       "      <th>subscription_fee</th>\n",
       "      <th>distance</th>\n",
       "      <th>duration</th>\n",
       "      <th>date</th>\n",
       "      <th>month</th>\n",
       "    </tr>\n",
       "  </thead>\n",
       "  <tbody>\n",
       "    <tr>\n",
       "      <th>0</th>\n",
       "      <td>1</td>\n",
       "      <td>Кира</td>\n",
       "      <td>22</td>\n",
       "      <td>Тюмень</td>\n",
       "      <td>ultra</td>\n",
       "      <td>6</td>\n",
       "      <td>0</td>\n",
       "      <td>199</td>\n",
       "      <td>4409.919140</td>\n",
       "      <td>25.599769</td>\n",
       "      <td>2021-01-01</td>\n",
       "      <td>1</td>\n",
       "    </tr>\n",
       "    <tr>\n",
       "      <th>1</th>\n",
       "      <td>1</td>\n",
       "      <td>Кира</td>\n",
       "      <td>22</td>\n",
       "      <td>Тюмень</td>\n",
       "      <td>ultra</td>\n",
       "      <td>6</td>\n",
       "      <td>0</td>\n",
       "      <td>199</td>\n",
       "      <td>2617.592153</td>\n",
       "      <td>15.816871</td>\n",
       "      <td>2021-01-18</td>\n",
       "      <td>1</td>\n",
       "    </tr>\n",
       "    <tr>\n",
       "      <th>2</th>\n",
       "      <td>1</td>\n",
       "      <td>Кира</td>\n",
       "      <td>22</td>\n",
       "      <td>Тюмень</td>\n",
       "      <td>ultra</td>\n",
       "      <td>6</td>\n",
       "      <td>0</td>\n",
       "      <td>199</td>\n",
       "      <td>754.159807</td>\n",
       "      <td>6.232113</td>\n",
       "      <td>2021-04-20</td>\n",
       "      <td>4</td>\n",
       "    </tr>\n",
       "    <tr>\n",
       "      <th>3</th>\n",
       "      <td>1</td>\n",
       "      <td>Кира</td>\n",
       "      <td>22</td>\n",
       "      <td>Тюмень</td>\n",
       "      <td>ultra</td>\n",
       "      <td>6</td>\n",
       "      <td>0</td>\n",
       "      <td>199</td>\n",
       "      <td>2694.783254</td>\n",
       "      <td>18.511000</td>\n",
       "      <td>2021-08-11</td>\n",
       "      <td>8</td>\n",
       "    </tr>\n",
       "    <tr>\n",
       "      <th>4</th>\n",
       "      <td>1</td>\n",
       "      <td>Кира</td>\n",
       "      <td>22</td>\n",
       "      <td>Тюмень</td>\n",
       "      <td>ultra</td>\n",
       "      <td>6</td>\n",
       "      <td>0</td>\n",
       "      <td>199</td>\n",
       "      <td>4028.687306</td>\n",
       "      <td>26.265803</td>\n",
       "      <td>2021-08-28</td>\n",
       "      <td>8</td>\n",
       "    </tr>\n",
       "    <tr>\n",
       "      <th>5</th>\n",
       "      <td>1</td>\n",
       "      <td>Кира</td>\n",
       "      <td>22</td>\n",
       "      <td>Тюмень</td>\n",
       "      <td>ultra</td>\n",
       "      <td>6</td>\n",
       "      <td>0</td>\n",
       "      <td>199</td>\n",
       "      <td>2770.890808</td>\n",
       "      <td>16.650138</td>\n",
       "      <td>2021-10-09</td>\n",
       "      <td>10</td>\n",
       "    </tr>\n",
       "    <tr>\n",
       "      <th>6</th>\n",
       "      <td>1</td>\n",
       "      <td>Кира</td>\n",
       "      <td>22</td>\n",
       "      <td>Тюмень</td>\n",
       "      <td>ultra</td>\n",
       "      <td>6</td>\n",
       "      <td>0</td>\n",
       "      <td>199</td>\n",
       "      <td>3039.020292</td>\n",
       "      <td>14.927879</td>\n",
       "      <td>2021-10-19</td>\n",
       "      <td>10</td>\n",
       "    </tr>\n",
       "    <tr>\n",
       "      <th>7</th>\n",
       "      <td>1</td>\n",
       "      <td>Кира</td>\n",
       "      <td>22</td>\n",
       "      <td>Тюмень</td>\n",
       "      <td>ultra</td>\n",
       "      <td>6</td>\n",
       "      <td>0</td>\n",
       "      <td>199</td>\n",
       "      <td>2842.118050</td>\n",
       "      <td>23.117468</td>\n",
       "      <td>2021-11-06</td>\n",
       "      <td>11</td>\n",
       "    </tr>\n",
       "    <tr>\n",
       "      <th>8</th>\n",
       "      <td>1</td>\n",
       "      <td>Кира</td>\n",
       "      <td>22</td>\n",
       "      <td>Тюмень</td>\n",
       "      <td>ultra</td>\n",
       "      <td>6</td>\n",
       "      <td>0</td>\n",
       "      <td>199</td>\n",
       "      <td>3412.690668</td>\n",
       "      <td>15.238072</td>\n",
       "      <td>2021-11-14</td>\n",
       "      <td>11</td>\n",
       "    </tr>\n",
       "    <tr>\n",
       "      <th>9</th>\n",
       "      <td>1</td>\n",
       "      <td>Кира</td>\n",
       "      <td>22</td>\n",
       "      <td>Тюмень</td>\n",
       "      <td>ultra</td>\n",
       "      <td>6</td>\n",
       "      <td>0</td>\n",
       "      <td>199</td>\n",
       "      <td>748.690645</td>\n",
       "      <td>15.041884</td>\n",
       "      <td>2021-11-22</td>\n",
       "      <td>11</td>\n",
       "    </tr>\n",
       "  </tbody>\n",
       "</table>\n",
       "</div>"
      ],
      "text/plain": [
       "   user_id  name  age    city subscription_type  minute_price  \\\n",
       "0        1  Кира   22  Тюмень             ultra             6   \n",
       "1        1  Кира   22  Тюмень             ultra             6   \n",
       "2        1  Кира   22  Тюмень             ultra             6   \n",
       "3        1  Кира   22  Тюмень             ultra             6   \n",
       "4        1  Кира   22  Тюмень             ultra             6   \n",
       "5        1  Кира   22  Тюмень             ultra             6   \n",
       "6        1  Кира   22  Тюмень             ultra             6   \n",
       "7        1  Кира   22  Тюмень             ultra             6   \n",
       "8        1  Кира   22  Тюмень             ultra             6   \n",
       "9        1  Кира   22  Тюмень             ultra             6   \n",
       "\n",
       "   start_ride_price  subscription_fee     distance   duration       date  \\\n",
       "0                 0               199  4409.919140  25.599769 2021-01-01   \n",
       "1                 0               199  2617.592153  15.816871 2021-01-18   \n",
       "2                 0               199   754.159807   6.232113 2021-04-20   \n",
       "3                 0               199  2694.783254  18.511000 2021-08-11   \n",
       "4                 0               199  4028.687306  26.265803 2021-08-28   \n",
       "5                 0               199  2770.890808  16.650138 2021-10-09   \n",
       "6                 0               199  3039.020292  14.927879 2021-10-19   \n",
       "7                 0               199  2842.118050  23.117468 2021-11-06   \n",
       "8                 0               199  3412.690668  15.238072 2021-11-14   \n",
       "9                 0               199   748.690645  15.041884 2021-11-22   \n",
       "\n",
       "   month  \n",
       "0      1  \n",
       "1      1  \n",
       "2      4  \n",
       "3      8  \n",
       "4      8  \n",
       "5     10  \n",
       "6     10  \n",
       "7     11  \n",
       "8     11  \n",
       "9     11  "
      ]
     },
     "metadata": {},
     "output_type": "display_data"
    },
    {
     "name": "stdout",
     "output_type": "stream",
     "text": [
      "<class 'pandas.core.frame.DataFrame'>\n",
      "Int64Index: 18068 entries, 0 to 18067\n",
      "Data columns (total 12 columns):\n",
      " #   Column             Non-Null Count  Dtype         \n",
      "---  ------             --------------  -----         \n",
      " 0   user_id            18068 non-null  int64         \n",
      " 1   name               18068 non-null  object        \n",
      " 2   age                18068 non-null  int64         \n",
      " 3   city               18068 non-null  object        \n",
      " 4   subscription_type  18068 non-null  object        \n",
      " 5   minute_price       18068 non-null  int64         \n",
      " 6   start_ride_price   18068 non-null  int64         \n",
      " 7   subscription_fee   18068 non-null  int64         \n",
      " 8   distance           18068 non-null  float64       \n",
      " 9   duration           18068 non-null  float64       \n",
      " 10  date               18068 non-null  datetime64[ns]\n",
      " 11  month              18068 non-null  int64         \n",
      "dtypes: datetime64[ns](1), float64(2), int64(6), object(3)\n",
      "memory usage: 1.8+ MB\n"
     ]
    }
   ],
   "source": [
    "go_all = go_users.merge(go_subscriptions, on= 'subscription_type')\n",
    "go_all = go_all.merge(go_rides, on= 'user_id')\n",
    "\n",
    "display(go_all.head(10))  # Проверка: посмотреть глазами что получается\n",
    "go_all.info()"
   ]
  },
  {
   "cell_type": "markdown",
   "id": "8bc156ab",
   "metadata": {},
   "source": [
    "Строк 18068 во всех столбцах, ничего никуда не пропало; в строках вся информация на взгляд разместилась корректно, типы данных прежние.    \n",
    "Считаем, что данные объединены корректно."
   ]
  },
  {
   "cell_type": "markdown",
   "id": "556cc63b",
   "metadata": {},
   "source": [
    "### 4.2 Создать ещё два датафрейма из датафрейма, созданного на этапе 4.1:\n",
    "#### •\tc данными о пользователях без подписки;\n",
    "#### •\tс данными о пользователях с подпиской."
   ]
  },
  {
   "cell_type": "markdown",
   "id": "1024cf7c",
   "metadata": {},
   "source": [
    "\n"
   ]
  },
  {
   "cell_type": "markdown",
   "id": "a045ba05",
   "metadata": {},
   "source": [
    "Сначала создадим из датафрейма 'go_all' датафрейм 'go_free', в которм будут данные пользователей без подписки, то есть со значением \"free\" в столбце  'subscription_type'."
   ]
  },
  {
   "cell_type": "code",
   "execution_count": 55,
   "id": "109da656",
   "metadata": {},
   "outputs": [
    {
     "data": {
      "text/html": [
       "<div>\n",
       "<style scoped>\n",
       "    .dataframe tbody tr th:only-of-type {\n",
       "        vertical-align: middle;\n",
       "    }\n",
       "\n",
       "    .dataframe tbody tr th {\n",
       "        vertical-align: top;\n",
       "    }\n",
       "\n",
       "    .dataframe thead th {\n",
       "        text-align: right;\n",
       "    }\n",
       "</style>\n",
       "<table border=\"1\" class=\"dataframe\">\n",
       "  <thead>\n",
       "    <tr style=\"text-align: right;\">\n",
       "      <th></th>\n",
       "      <th>user_id</th>\n",
       "      <th>name</th>\n",
       "      <th>age</th>\n",
       "      <th>city</th>\n",
       "      <th>subscription_type</th>\n",
       "      <th>minute_price</th>\n",
       "      <th>start_ride_price</th>\n",
       "      <th>subscription_fee</th>\n",
       "      <th>distance</th>\n",
       "      <th>duration</th>\n",
       "      <th>date</th>\n",
       "      <th>month</th>\n",
       "    </tr>\n",
       "  </thead>\n",
       "  <tbody>\n",
       "    <tr>\n",
       "      <th>6500</th>\n",
       "      <td>700</td>\n",
       "      <td>Айдар</td>\n",
       "      <td>22</td>\n",
       "      <td>Омск</td>\n",
       "      <td>free</td>\n",
       "      <td>8</td>\n",
       "      <td>50</td>\n",
       "      <td>0</td>\n",
       "      <td>2515.690719</td>\n",
       "      <td>14.944286</td>\n",
       "      <td>2021-01-02</td>\n",
       "      <td>1</td>\n",
       "    </tr>\n",
       "    <tr>\n",
       "      <th>6501</th>\n",
       "      <td>700</td>\n",
       "      <td>Айдар</td>\n",
       "      <td>22</td>\n",
       "      <td>Омск</td>\n",
       "      <td>free</td>\n",
       "      <td>8</td>\n",
       "      <td>50</td>\n",
       "      <td>0</td>\n",
       "      <td>846.932642</td>\n",
       "      <td>16.234663</td>\n",
       "      <td>2021-02-01</td>\n",
       "      <td>2</td>\n",
       "    </tr>\n",
       "    <tr>\n",
       "      <th>6502</th>\n",
       "      <td>700</td>\n",
       "      <td>Айдар</td>\n",
       "      <td>22</td>\n",
       "      <td>Омск</td>\n",
       "      <td>free</td>\n",
       "      <td>8</td>\n",
       "      <td>50</td>\n",
       "      <td>0</td>\n",
       "      <td>4004.434142</td>\n",
       "      <td>20.016628</td>\n",
       "      <td>2021-02-04</td>\n",
       "      <td>2</td>\n",
       "    </tr>\n",
       "    <tr>\n",
       "      <th>6503</th>\n",
       "      <td>700</td>\n",
       "      <td>Айдар</td>\n",
       "      <td>22</td>\n",
       "      <td>Омск</td>\n",
       "      <td>free</td>\n",
       "      <td>8</td>\n",
       "      <td>50</td>\n",
       "      <td>0</td>\n",
       "      <td>1205.911290</td>\n",
       "      <td>9.782872</td>\n",
       "      <td>2021-02-10</td>\n",
       "      <td>2</td>\n",
       "    </tr>\n",
       "    <tr>\n",
       "      <th>6504</th>\n",
       "      <td>700</td>\n",
       "      <td>Айдар</td>\n",
       "      <td>22</td>\n",
       "      <td>Омск</td>\n",
       "      <td>free</td>\n",
       "      <td>8</td>\n",
       "      <td>50</td>\n",
       "      <td>0</td>\n",
       "      <td>3047.379435</td>\n",
       "      <td>17.427673</td>\n",
       "      <td>2021-02-14</td>\n",
       "      <td>2</td>\n",
       "    </tr>\n",
       "    <tr>\n",
       "      <th>6505</th>\n",
       "      <td>700</td>\n",
       "      <td>Айдар</td>\n",
       "      <td>22</td>\n",
       "      <td>Омск</td>\n",
       "      <td>free</td>\n",
       "      <td>8</td>\n",
       "      <td>50</td>\n",
       "      <td>0</td>\n",
       "      <td>4342.002254</td>\n",
       "      <td>22.368009</td>\n",
       "      <td>2021-02-23</td>\n",
       "      <td>2</td>\n",
       "    </tr>\n",
       "    <tr>\n",
       "      <th>6506</th>\n",
       "      <td>700</td>\n",
       "      <td>Айдар</td>\n",
       "      <td>22</td>\n",
       "      <td>Омск</td>\n",
       "      <td>free</td>\n",
       "      <td>8</td>\n",
       "      <td>50</td>\n",
       "      <td>0</td>\n",
       "      <td>3798.334905</td>\n",
       "      <td>18.243756</td>\n",
       "      <td>2021-03-03</td>\n",
       "      <td>3</td>\n",
       "    </tr>\n",
       "    <tr>\n",
       "      <th>6507</th>\n",
       "      <td>700</td>\n",
       "      <td>Айдар</td>\n",
       "      <td>22</td>\n",
       "      <td>Омск</td>\n",
       "      <td>free</td>\n",
       "      <td>8</td>\n",
       "      <td>50</td>\n",
       "      <td>0</td>\n",
       "      <td>2984.551206</td>\n",
       "      <td>15.424899</td>\n",
       "      <td>2021-04-09</td>\n",
       "      <td>4</td>\n",
       "    </tr>\n",
       "    <tr>\n",
       "      <th>6508</th>\n",
       "      <td>700</td>\n",
       "      <td>Айдар</td>\n",
       "      <td>22</td>\n",
       "      <td>Омск</td>\n",
       "      <td>free</td>\n",
       "      <td>8</td>\n",
       "      <td>50</td>\n",
       "      <td>0</td>\n",
       "      <td>3360.107141</td>\n",
       "      <td>16.765497</td>\n",
       "      <td>2021-06-12</td>\n",
       "      <td>6</td>\n",
       "    </tr>\n",
       "    <tr>\n",
       "      <th>6509</th>\n",
       "      <td>700</td>\n",
       "      <td>Айдар</td>\n",
       "      <td>22</td>\n",
       "      <td>Омск</td>\n",
       "      <td>free</td>\n",
       "      <td>8</td>\n",
       "      <td>50</td>\n",
       "      <td>0</td>\n",
       "      <td>2567.543847</td>\n",
       "      <td>11.312160</td>\n",
       "      <td>2021-06-23</td>\n",
       "      <td>6</td>\n",
       "    </tr>\n",
       "  </tbody>\n",
       "</table>\n",
       "</div>"
      ],
      "text/plain": [
       "      user_id   name  age  city subscription_type  minute_price  \\\n",
       "6500      700  Айдар   22  Омск              free             8   \n",
       "6501      700  Айдар   22  Омск              free             8   \n",
       "6502      700  Айдар   22  Омск              free             8   \n",
       "6503      700  Айдар   22  Омск              free             8   \n",
       "6504      700  Айдар   22  Омск              free             8   \n",
       "6505      700  Айдар   22  Омск              free             8   \n",
       "6506      700  Айдар   22  Омск              free             8   \n",
       "6507      700  Айдар   22  Омск              free             8   \n",
       "6508      700  Айдар   22  Омск              free             8   \n",
       "6509      700  Айдар   22  Омск              free             8   \n",
       "\n",
       "      start_ride_price  subscription_fee     distance   duration       date  \\\n",
       "6500                50                 0  2515.690719  14.944286 2021-01-02   \n",
       "6501                50                 0   846.932642  16.234663 2021-02-01   \n",
       "6502                50                 0  4004.434142  20.016628 2021-02-04   \n",
       "6503                50                 0  1205.911290   9.782872 2021-02-10   \n",
       "6504                50                 0  3047.379435  17.427673 2021-02-14   \n",
       "6505                50                 0  4342.002254  22.368009 2021-02-23   \n",
       "6506                50                 0  3798.334905  18.243756 2021-03-03   \n",
       "6507                50                 0  2984.551206  15.424899 2021-04-09   \n",
       "6508                50                 0  3360.107141  16.765497 2021-06-12   \n",
       "6509                50                 0  2567.543847  11.312160 2021-06-23   \n",
       "\n",
       "      month  \n",
       "6500      1  \n",
       "6501      2  \n",
       "6502      2  \n",
       "6503      2  \n",
       "6504      2  \n",
       "6505      2  \n",
       "6506      3  \n",
       "6507      4  \n",
       "6508      6  \n",
       "6509      6  "
      ]
     },
     "metadata": {},
     "output_type": "display_data"
    },
    {
     "name": "stdout",
     "output_type": "stream",
     "text": [
      "<class 'pandas.core.frame.DataFrame'>\n",
      "Int64Index: 11568 entries, 6500 to 18067\n",
      "Data columns (total 12 columns):\n",
      " #   Column             Non-Null Count  Dtype         \n",
      "---  ------             --------------  -----         \n",
      " 0   user_id            11568 non-null  int64         \n",
      " 1   name               11568 non-null  object        \n",
      " 2   age                11568 non-null  int64         \n",
      " 3   city               11568 non-null  object        \n",
      " 4   subscription_type  11568 non-null  object        \n",
      " 5   minute_price       11568 non-null  int64         \n",
      " 6   start_ride_price   11568 non-null  int64         \n",
      " 7   subscription_fee   11568 non-null  int64         \n",
      " 8   distance           11568 non-null  float64       \n",
      " 9   duration           11568 non-null  float64       \n",
      " 10  date               11568 non-null  datetime64[ns]\n",
      " 11  month              11568 non-null  int64         \n",
      "dtypes: datetime64[ns](1), float64(2), int64(6), object(3)\n",
      "memory usage: 1.1+ MB\n"
     ]
    }
   ],
   "source": [
    "go_free = go_all[go_all['subscription_type'] == 'free']\n",
    "\n",
    "display(go_free.head(10))  # Проверка: посмотреть глазами что получается\n",
    "go_free.info()"
   ]
  },
  {
   "cell_type": "markdown",
   "id": "c988f921",
   "metadata": {},
   "source": [
    "Строк 11568 из 18068 - нет противоречий, все столбцы на месте, данные не пострадали ни по типу ни по значениям, в столбце 'subscription_type' значение \"free\".      \n",
    "Считаем что датафрейм создан корректно."
   ]
  },
  {
   "cell_type": "markdown",
   "id": "eec0d140",
   "metadata": {},
   "source": [
    "Аналогично создадим из датафрейма 'go_all' датафрейм 'go_ultra', в которм будут данные пользователей с подпиской ультра, то есть со значением \"ultra\" в столбце  'subscription_type'."
   ]
  },
  {
   "cell_type": "code",
   "execution_count": 56,
   "id": "72624ec1",
   "metadata": {},
   "outputs": [
    {
     "data": {
      "text/html": [
       "<div>\n",
       "<style scoped>\n",
       "    .dataframe tbody tr th:only-of-type {\n",
       "        vertical-align: middle;\n",
       "    }\n",
       "\n",
       "    .dataframe tbody tr th {\n",
       "        vertical-align: top;\n",
       "    }\n",
       "\n",
       "    .dataframe thead th {\n",
       "        text-align: right;\n",
       "    }\n",
       "</style>\n",
       "<table border=\"1\" class=\"dataframe\">\n",
       "  <thead>\n",
       "    <tr style=\"text-align: right;\">\n",
       "      <th></th>\n",
       "      <th>user_id</th>\n",
       "      <th>name</th>\n",
       "      <th>age</th>\n",
       "      <th>city</th>\n",
       "      <th>subscription_type</th>\n",
       "      <th>minute_price</th>\n",
       "      <th>start_ride_price</th>\n",
       "      <th>subscription_fee</th>\n",
       "      <th>distance</th>\n",
       "      <th>duration</th>\n",
       "      <th>date</th>\n",
       "      <th>month</th>\n",
       "    </tr>\n",
       "  </thead>\n",
       "  <tbody>\n",
       "    <tr>\n",
       "      <th>0</th>\n",
       "      <td>1</td>\n",
       "      <td>Кира</td>\n",
       "      <td>22</td>\n",
       "      <td>Тюмень</td>\n",
       "      <td>ultra</td>\n",
       "      <td>6</td>\n",
       "      <td>0</td>\n",
       "      <td>199</td>\n",
       "      <td>4409.919140</td>\n",
       "      <td>25.599769</td>\n",
       "      <td>2021-01-01</td>\n",
       "      <td>1</td>\n",
       "    </tr>\n",
       "    <tr>\n",
       "      <th>1</th>\n",
       "      <td>1</td>\n",
       "      <td>Кира</td>\n",
       "      <td>22</td>\n",
       "      <td>Тюмень</td>\n",
       "      <td>ultra</td>\n",
       "      <td>6</td>\n",
       "      <td>0</td>\n",
       "      <td>199</td>\n",
       "      <td>2617.592153</td>\n",
       "      <td>15.816871</td>\n",
       "      <td>2021-01-18</td>\n",
       "      <td>1</td>\n",
       "    </tr>\n",
       "    <tr>\n",
       "      <th>2</th>\n",
       "      <td>1</td>\n",
       "      <td>Кира</td>\n",
       "      <td>22</td>\n",
       "      <td>Тюмень</td>\n",
       "      <td>ultra</td>\n",
       "      <td>6</td>\n",
       "      <td>0</td>\n",
       "      <td>199</td>\n",
       "      <td>754.159807</td>\n",
       "      <td>6.232113</td>\n",
       "      <td>2021-04-20</td>\n",
       "      <td>4</td>\n",
       "    </tr>\n",
       "    <tr>\n",
       "      <th>3</th>\n",
       "      <td>1</td>\n",
       "      <td>Кира</td>\n",
       "      <td>22</td>\n",
       "      <td>Тюмень</td>\n",
       "      <td>ultra</td>\n",
       "      <td>6</td>\n",
       "      <td>0</td>\n",
       "      <td>199</td>\n",
       "      <td>2694.783254</td>\n",
       "      <td>18.511000</td>\n",
       "      <td>2021-08-11</td>\n",
       "      <td>8</td>\n",
       "    </tr>\n",
       "    <tr>\n",
       "      <th>4</th>\n",
       "      <td>1</td>\n",
       "      <td>Кира</td>\n",
       "      <td>22</td>\n",
       "      <td>Тюмень</td>\n",
       "      <td>ultra</td>\n",
       "      <td>6</td>\n",
       "      <td>0</td>\n",
       "      <td>199</td>\n",
       "      <td>4028.687306</td>\n",
       "      <td>26.265803</td>\n",
       "      <td>2021-08-28</td>\n",
       "      <td>8</td>\n",
       "    </tr>\n",
       "    <tr>\n",
       "      <th>5</th>\n",
       "      <td>1</td>\n",
       "      <td>Кира</td>\n",
       "      <td>22</td>\n",
       "      <td>Тюмень</td>\n",
       "      <td>ultra</td>\n",
       "      <td>6</td>\n",
       "      <td>0</td>\n",
       "      <td>199</td>\n",
       "      <td>2770.890808</td>\n",
       "      <td>16.650138</td>\n",
       "      <td>2021-10-09</td>\n",
       "      <td>10</td>\n",
       "    </tr>\n",
       "    <tr>\n",
       "      <th>6</th>\n",
       "      <td>1</td>\n",
       "      <td>Кира</td>\n",
       "      <td>22</td>\n",
       "      <td>Тюмень</td>\n",
       "      <td>ultra</td>\n",
       "      <td>6</td>\n",
       "      <td>0</td>\n",
       "      <td>199</td>\n",
       "      <td>3039.020292</td>\n",
       "      <td>14.927879</td>\n",
       "      <td>2021-10-19</td>\n",
       "      <td>10</td>\n",
       "    </tr>\n",
       "    <tr>\n",
       "      <th>7</th>\n",
       "      <td>1</td>\n",
       "      <td>Кира</td>\n",
       "      <td>22</td>\n",
       "      <td>Тюмень</td>\n",
       "      <td>ultra</td>\n",
       "      <td>6</td>\n",
       "      <td>0</td>\n",
       "      <td>199</td>\n",
       "      <td>2842.118050</td>\n",
       "      <td>23.117468</td>\n",
       "      <td>2021-11-06</td>\n",
       "      <td>11</td>\n",
       "    </tr>\n",
       "    <tr>\n",
       "      <th>8</th>\n",
       "      <td>1</td>\n",
       "      <td>Кира</td>\n",
       "      <td>22</td>\n",
       "      <td>Тюмень</td>\n",
       "      <td>ultra</td>\n",
       "      <td>6</td>\n",
       "      <td>0</td>\n",
       "      <td>199</td>\n",
       "      <td>3412.690668</td>\n",
       "      <td>15.238072</td>\n",
       "      <td>2021-11-14</td>\n",
       "      <td>11</td>\n",
       "    </tr>\n",
       "    <tr>\n",
       "      <th>9</th>\n",
       "      <td>1</td>\n",
       "      <td>Кира</td>\n",
       "      <td>22</td>\n",
       "      <td>Тюмень</td>\n",
       "      <td>ultra</td>\n",
       "      <td>6</td>\n",
       "      <td>0</td>\n",
       "      <td>199</td>\n",
       "      <td>748.690645</td>\n",
       "      <td>15.041884</td>\n",
       "      <td>2021-11-22</td>\n",
       "      <td>11</td>\n",
       "    </tr>\n",
       "  </tbody>\n",
       "</table>\n",
       "</div>"
      ],
      "text/plain": [
       "   user_id  name  age    city subscription_type  minute_price  \\\n",
       "0        1  Кира   22  Тюмень             ultra             6   \n",
       "1        1  Кира   22  Тюмень             ultra             6   \n",
       "2        1  Кира   22  Тюмень             ultra             6   \n",
       "3        1  Кира   22  Тюмень             ultra             6   \n",
       "4        1  Кира   22  Тюмень             ultra             6   \n",
       "5        1  Кира   22  Тюмень             ultra             6   \n",
       "6        1  Кира   22  Тюмень             ultra             6   \n",
       "7        1  Кира   22  Тюмень             ultra             6   \n",
       "8        1  Кира   22  Тюмень             ultra             6   \n",
       "9        1  Кира   22  Тюмень             ultra             6   \n",
       "\n",
       "   start_ride_price  subscription_fee     distance   duration       date  \\\n",
       "0                 0               199  4409.919140  25.599769 2021-01-01   \n",
       "1                 0               199  2617.592153  15.816871 2021-01-18   \n",
       "2                 0               199   754.159807   6.232113 2021-04-20   \n",
       "3                 0               199  2694.783254  18.511000 2021-08-11   \n",
       "4                 0               199  4028.687306  26.265803 2021-08-28   \n",
       "5                 0               199  2770.890808  16.650138 2021-10-09   \n",
       "6                 0               199  3039.020292  14.927879 2021-10-19   \n",
       "7                 0               199  2842.118050  23.117468 2021-11-06   \n",
       "8                 0               199  3412.690668  15.238072 2021-11-14   \n",
       "9                 0               199   748.690645  15.041884 2021-11-22   \n",
       "\n",
       "   month  \n",
       "0      1  \n",
       "1      1  \n",
       "2      4  \n",
       "3      8  \n",
       "4      8  \n",
       "5     10  \n",
       "6     10  \n",
       "7     11  \n",
       "8     11  \n",
       "9     11  "
      ]
     },
     "metadata": {},
     "output_type": "display_data"
    },
    {
     "name": "stdout",
     "output_type": "stream",
     "text": [
      "<class 'pandas.core.frame.DataFrame'>\n",
      "Int64Index: 6500 entries, 0 to 6499\n",
      "Data columns (total 12 columns):\n",
      " #   Column             Non-Null Count  Dtype         \n",
      "---  ------             --------------  -----         \n",
      " 0   user_id            6500 non-null   int64         \n",
      " 1   name               6500 non-null   object        \n",
      " 2   age                6500 non-null   int64         \n",
      " 3   city               6500 non-null   object        \n",
      " 4   subscription_type  6500 non-null   object        \n",
      " 5   minute_price       6500 non-null   int64         \n",
      " 6   start_ride_price   6500 non-null   int64         \n",
      " 7   subscription_fee   6500 non-null   int64         \n",
      " 8   distance           6500 non-null   float64       \n",
      " 9   duration           6500 non-null   float64       \n",
      " 10  date               6500 non-null   datetime64[ns]\n",
      " 11  month              6500 non-null   int64         \n",
      "dtypes: datetime64[ns](1), float64(2), int64(6), object(3)\n",
      "memory usage: 660.2+ KB\n"
     ]
    }
   ],
   "source": [
    "go_ultra = go_all[go_all['subscription_type'] == 'ultra']\n",
    "\n",
    "display(go_ultra.head(10))  # Проверка: посмотреть глазами что получается\n",
    "go_ultra.info()"
   ]
  },
  {
   "cell_type": "markdown",
   "id": "8a4df867",
   "metadata": {},
   "source": [
    "Строк ровно 6500, то есть 18068 минус 11568 - все на месте, столбцы все, значения в порядке, в столбце 'subscription_type' значение \"ultra\".         \n",
    "Считаем что датафрейм создан корректно."
   ]
  },
  {
   "cell_type": "markdown",
   "id": "4ae2b2e8",
   "metadata": {},
   "source": [
    "### 4.3 Визуализировать информацию о расстоянии и времени поездок для пользователей обеих категорий."
   ]
  },
  {
   "cell_type": "markdown",
   "id": "3b8c4706",
   "metadata": {},
   "source": [
    "\n"
   ]
  },
  {
   "cell_type": "markdown",
   "id": "2ccfddd9",
   "metadata": {},
   "source": [
    "Для того, чтобы было удобнее заметить различия в параметрах диаграмм между группами пользователей (если такие различия есть) - есть смысл создать диаграмму дальности поездок для и обеих групп и так-же диаграмму длительности поездок тоже для обеих групп.   \n",
    "Раз уж мы решили, что в этом проекте для визуализации нагляднее всего использовать столбчатые диаграммы, используем этот метод и сейчас.      \n",
    "Создавать диаграммы будем так же, как мы это делали для всех пользователей, без разбивки на группы.    "
   ]
  },
  {
   "cell_type": "markdown",
   "id": "f9faa556",
   "metadata": {},
   "source": [
    "Начнем с построения диаграммы дальности поездки для обеих групп.      "
   ]
  },
  {
   "cell_type": "markdown",
   "id": "dffb0847",
   "metadata": {},
   "source": [
    "Сначала создадим датафрейм - заготовку.      "
   ]
  },
  {
   "cell_type": "code",
   "execution_count": 57,
   "id": "01e7c3a2",
   "metadata": {},
   "outputs": [
    {
     "data": {
      "text/html": [
       "<div>\n",
       "<style scoped>\n",
       "    .dataframe tbody tr th:only-of-type {\n",
       "        vertical-align: middle;\n",
       "    }\n",
       "\n",
       "    .dataframe tbody tr th {\n",
       "        vertical-align: top;\n",
       "    }\n",
       "\n",
       "    .dataframe thead th {\n",
       "        text-align: right;\n",
       "    }\n",
       "</style>\n",
       "<table border=\"1\" class=\"dataframe\">\n",
       "  <thead>\n",
       "    <tr style=\"text-align: right;\">\n",
       "      <th></th>\n",
       "      <th>distance</th>\n",
       "    </tr>\n",
       "  </thead>\n",
       "  <tbody>\n",
       "    <tr>\n",
       "      <th>count</th>\n",
       "      <td>72.000000</td>\n",
       "    </tr>\n",
       "    <tr>\n",
       "      <th>mean</th>\n",
       "      <td>3552.777778</td>\n",
       "    </tr>\n",
       "    <tr>\n",
       "      <th>std</th>\n",
       "      <td>2097.615831</td>\n",
       "    </tr>\n",
       "    <tr>\n",
       "      <th>min</th>\n",
       "      <td>0.000000</td>\n",
       "    </tr>\n",
       "    <tr>\n",
       "      <th>25%</th>\n",
       "      <td>1775.000000</td>\n",
       "    </tr>\n",
       "    <tr>\n",
       "      <th>50%</th>\n",
       "      <td>3550.000000</td>\n",
       "    </tr>\n",
       "    <tr>\n",
       "      <th>75%</th>\n",
       "      <td>5325.000000</td>\n",
       "    </tr>\n",
       "    <tr>\n",
       "      <th>max</th>\n",
       "      <td>7200.000000</td>\n",
       "    </tr>\n",
       "  </tbody>\n",
       "</table>\n",
       "</div>"
      ],
      "text/plain": [
       "          distance\n",
       "count    72.000000\n",
       "mean   3552.777778\n",
       "std    2097.615831\n",
       "min       0.000000\n",
       "25%    1775.000000\n",
       "50%    3550.000000\n",
       "75%    5325.000000\n",
       "max    7200.000000"
      ]
     },
     "execution_count": 57,
     "metadata": {},
     "output_type": "execute_result"
    }
   ],
   "source": [
    "# Создадим пустой датафрейм - заготовку      \n",
    "distance_group = pd.DataFrame()\n",
    "\n",
    "# Зададим в нем диапазон расстояний от 0 до максимума с шагом 100 метров, как мы делали ранее для всех клиентов\n",
    "distance_group['distance'] = round(go_all['distance'].astype(int), -2).unique()\n",
    "distance_group = distance_group.sort_values('distance')\n",
    "\n",
    "distance_group.describe()  # Проверка: посмотреть глазами что получается"
   ]
  },
  {
   "cell_type": "markdown",
   "id": "c0378cc2",
   "metadata": {},
   "source": [
    "Значения от 0 до максимума с правильным шагом без пропусков (строк 72). Датафрейм создан.     \n",
    "\n",
    "Теперь отдельно для каждой группы посчитаем встречаемость разных дальностей (то есть количество поездок конкретной длительности) - ровно так же, как мы делали это для всех клиентов без разбивки на группы.      "
   ]
  },
  {
   "cell_type": "code",
   "execution_count": 58,
   "id": "5823da79",
   "metadata": {},
   "outputs": [
    {
     "data": {
      "text/html": [
       "<div>\n",
       "<style scoped>\n",
       "    .dataframe tbody tr th:only-of-type {\n",
       "        vertical-align: middle;\n",
       "    }\n",
       "\n",
       "    .dataframe tbody tr th {\n",
       "        vertical-align: top;\n",
       "    }\n",
       "\n",
       "    .dataframe thead th {\n",
       "        text-align: right;\n",
       "    }\n",
       "</style>\n",
       "<table border=\"1\" class=\"dataframe\">\n",
       "  <thead>\n",
       "    <tr style=\"text-align: right;\">\n",
       "      <th></th>\n",
       "      <th>distance</th>\n",
       "      <th>dist_occur_free</th>\n",
       "    </tr>\n",
       "  </thead>\n",
       "  <tbody>\n",
       "    <tr>\n",
       "      <th>count</th>\n",
       "      <td>72.000000</td>\n",
       "      <td>72.000000</td>\n",
       "    </tr>\n",
       "    <tr>\n",
       "      <th>mean</th>\n",
       "      <td>3552.777778</td>\n",
       "      <td>160.666667</td>\n",
       "    </tr>\n",
       "    <tr>\n",
       "      <th>std</th>\n",
       "      <td>2097.615831</td>\n",
       "      <td>142.424183</td>\n",
       "    </tr>\n",
       "    <tr>\n",
       "      <th>min</th>\n",
       "      <td>0.000000</td>\n",
       "      <td>1.000000</td>\n",
       "    </tr>\n",
       "    <tr>\n",
       "      <th>25%</th>\n",
       "      <td>1775.000000</td>\n",
       "      <td>31.000000</td>\n",
       "    </tr>\n",
       "    <tr>\n",
       "      <th>50%</th>\n",
       "      <td>3550.000000</td>\n",
       "      <td>114.000000</td>\n",
       "    </tr>\n",
       "    <tr>\n",
       "      <th>75%</th>\n",
       "      <td>5325.000000</td>\n",
       "      <td>302.000000</td>\n",
       "    </tr>\n",
       "    <tr>\n",
       "      <th>max</th>\n",
       "      <td>7200.000000</td>\n",
       "      <td>429.000000</td>\n",
       "    </tr>\n",
       "  </tbody>\n",
       "</table>\n",
       "</div>"
      ],
      "text/plain": [
       "          distance  dist_occur_free\n",
       "count    72.000000        72.000000\n",
       "mean   3552.777778       160.666667\n",
       "std    2097.615831       142.424183\n",
       "min       0.000000         1.000000\n",
       "25%    1775.000000        31.000000\n",
       "50%    3550.000000       114.000000\n",
       "75%    5325.000000       302.000000\n",
       "max    7200.000000       429.000000"
      ]
     },
     "execution_count": 58,
     "metadata": {},
     "output_type": "execute_result"
    }
   ],
   "source": [
    "distance_free = round(go_free['distance'].astype(int), -2).value_counts()\n",
    "\n",
    "distance_free = distance_free.reset_index()\n",
    "distance_free.columns = ['distance','dist_occur_free']\n",
    "distance_free = distance_free.sort_values('distance')\n",
    "\n",
    "distance_free.describe()  # Проверка: посмотреть глазами что получается"
   ]
  },
  {
   "cell_type": "code",
   "execution_count": 59,
   "id": "475faaa2",
   "metadata": {},
   "outputs": [
    {
     "data": {
      "text/html": [
       "<div>\n",
       "<style scoped>\n",
       "    .dataframe tbody tr th:only-of-type {\n",
       "        vertical-align: middle;\n",
       "    }\n",
       "\n",
       "    .dataframe tbody tr th {\n",
       "        vertical-align: top;\n",
       "    }\n",
       "\n",
       "    .dataframe thead th {\n",
       "        text-align: right;\n",
       "    }\n",
       "</style>\n",
       "<table border=\"1\" class=\"dataframe\">\n",
       "  <thead>\n",
       "    <tr style=\"text-align: right;\">\n",
       "      <th></th>\n",
       "      <th>distance</th>\n",
       "      <th>dist_occur_free</th>\n",
       "    </tr>\n",
       "  </thead>\n",
       "  <tbody>\n",
       "    <tr>\n",
       "      <th>count</th>\n",
       "      <td>72.000000</td>\n",
       "      <td>72.000000</td>\n",
       "    </tr>\n",
       "    <tr>\n",
       "      <th>mean</th>\n",
       "      <td>3552.777778</td>\n",
       "      <td>160.666667</td>\n",
       "    </tr>\n",
       "    <tr>\n",
       "      <th>std</th>\n",
       "      <td>2097.615831</td>\n",
       "      <td>142.424183</td>\n",
       "    </tr>\n",
       "    <tr>\n",
       "      <th>min</th>\n",
       "      <td>0.000000</td>\n",
       "      <td>1.000000</td>\n",
       "    </tr>\n",
       "    <tr>\n",
       "      <th>25%</th>\n",
       "      <td>1775.000000</td>\n",
       "      <td>31.000000</td>\n",
       "    </tr>\n",
       "    <tr>\n",
       "      <th>50%</th>\n",
       "      <td>3550.000000</td>\n",
       "      <td>114.000000</td>\n",
       "    </tr>\n",
       "    <tr>\n",
       "      <th>75%</th>\n",
       "      <td>5325.000000</td>\n",
       "      <td>302.000000</td>\n",
       "    </tr>\n",
       "    <tr>\n",
       "      <th>max</th>\n",
       "      <td>7200.000000</td>\n",
       "      <td>429.000000</td>\n",
       "    </tr>\n",
       "  </tbody>\n",
       "</table>\n",
       "</div>"
      ],
      "text/plain": [
       "          distance  dist_occur_free\n",
       "count    72.000000        72.000000\n",
       "mean   3552.777778       160.666667\n",
       "std    2097.615831       142.424183\n",
       "min       0.000000         1.000000\n",
       "25%    1775.000000        31.000000\n",
       "50%    3550.000000       114.000000\n",
       "75%    5325.000000       302.000000\n",
       "max    7200.000000       429.000000"
      ]
     },
     "execution_count": 59,
     "metadata": {},
     "output_type": "execute_result"
    }
   ],
   "source": [
    "distance_free = round(go_free['distance'].astype(int), -2).value_counts()\n",
    "\n",
    "distance_free = distance_free.reset_index()\n",
    "distance_free.columns = ['distance','dist_occur_free']\n",
    "distance_free = distance_free.sort_values('distance')\n",
    "\n",
    "distance_free.describe()  # Проверка: посмотреть глазами что получается"
   ]
  },
  {
   "cell_type": "code",
   "execution_count": 60,
   "id": "0e75a8e2",
   "metadata": {},
   "outputs": [
    {
     "data": {
      "text/html": [
       "<div>\n",
       "<style scoped>\n",
       "    .dataframe tbody tr th:only-of-type {\n",
       "        vertical-align: middle;\n",
       "    }\n",
       "\n",
       "    .dataframe tbody tr th {\n",
       "        vertical-align: top;\n",
       "    }\n",
       "\n",
       "    .dataframe thead th {\n",
       "        text-align: right;\n",
       "    }\n",
       "</style>\n",
       "<table border=\"1\" class=\"dataframe\">\n",
       "  <thead>\n",
       "    <tr style=\"text-align: right;\">\n",
       "      <th></th>\n",
       "      <th>distance</th>\n",
       "      <th>dist_occur_ultra</th>\n",
       "    </tr>\n",
       "  </thead>\n",
       "  <tbody>\n",
       "    <tr>\n",
       "      <th>count</th>\n",
       "      <td>54.000000</td>\n",
       "      <td>54.000000</td>\n",
       "    </tr>\n",
       "    <tr>\n",
       "      <th>mean</th>\n",
       "      <td>2853.703704</td>\n",
       "      <td>120.370370</td>\n",
       "    </tr>\n",
       "    <tr>\n",
       "      <th>std</th>\n",
       "      <td>1579.791360</td>\n",
       "      <td>145.120158</td>\n",
       "    </tr>\n",
       "    <tr>\n",
       "      <th>min</th>\n",
       "      <td>200.000000</td>\n",
       "      <td>1.000000</td>\n",
       "    </tr>\n",
       "    <tr>\n",
       "      <th>25%</th>\n",
       "      <td>1525.000000</td>\n",
       "      <td>14.250000</td>\n",
       "    </tr>\n",
       "    <tr>\n",
       "      <th>50%</th>\n",
       "      <td>2850.000000</td>\n",
       "      <td>53.000000</td>\n",
       "    </tr>\n",
       "    <tr>\n",
       "      <th>75%</th>\n",
       "      <td>4175.000000</td>\n",
       "      <td>172.750000</td>\n",
       "    </tr>\n",
       "    <tr>\n",
       "      <th>max</th>\n",
       "      <td>5700.000000</td>\n",
       "      <td>490.000000</td>\n",
       "    </tr>\n",
       "  </tbody>\n",
       "</table>\n",
       "</div>"
      ],
      "text/plain": [
       "          distance  dist_occur_ultra\n",
       "count    54.000000         54.000000\n",
       "mean   2853.703704        120.370370\n",
       "std    1579.791360        145.120158\n",
       "min     200.000000          1.000000\n",
       "25%    1525.000000         14.250000\n",
       "50%    2850.000000         53.000000\n",
       "75%    4175.000000        172.750000\n",
       "max    5700.000000        490.000000"
      ]
     },
     "execution_count": 60,
     "metadata": {},
     "output_type": "execute_result"
    }
   ],
   "source": [
    "distance_ultra = round(go_ultra['distance'].astype(int), -2).value_counts()\n",
    "\n",
    "distance_ultra = distance_ultra.reset_index()\n",
    "distance_ultra.columns = ['distance','dist_occur_ultra']\n",
    "distance_ultra = distance_ultra.sort_values('distance')\n",
    "\n",
    "distance_ultra.describe()  # Проверка: посмотреть глазами что получается"
   ]
  },
  {
   "cell_type": "markdown",
   "id": "31338d83",
   "metadata": {},
   "source": [
    "Значения встречаемости для каждой группы посчитаны и сохнарены в соответствующих датафреймах.     \n",
    "\n",
    "Теперь создадим единый датафрейм, объединив все три на основе столбца 'distance'.      "
   ]
  },
  {
   "cell_type": "code",
   "execution_count": 61,
   "id": "9681f17c",
   "metadata": {},
   "outputs": [
    {
     "data": {
      "text/html": [
       "<div>\n",
       "<style scoped>\n",
       "    .dataframe tbody tr th:only-of-type {\n",
       "        vertical-align: middle;\n",
       "    }\n",
       "\n",
       "    .dataframe tbody tr th {\n",
       "        vertical-align: top;\n",
       "    }\n",
       "\n",
       "    .dataframe thead th {\n",
       "        text-align: right;\n",
       "    }\n",
       "</style>\n",
       "<table border=\"1\" class=\"dataframe\">\n",
       "  <thead>\n",
       "    <tr style=\"text-align: right;\">\n",
       "      <th></th>\n",
       "      <th>distance</th>\n",
       "      <th>dist_occur_ultra</th>\n",
       "    </tr>\n",
       "  </thead>\n",
       "  <tbody>\n",
       "    <tr>\n",
       "      <th>count</th>\n",
       "      <td>54.000000</td>\n",
       "      <td>54.000000</td>\n",
       "    </tr>\n",
       "    <tr>\n",
       "      <th>mean</th>\n",
       "      <td>2853.703704</td>\n",
       "      <td>120.370370</td>\n",
       "    </tr>\n",
       "    <tr>\n",
       "      <th>std</th>\n",
       "      <td>1579.791360</td>\n",
       "      <td>145.120158</td>\n",
       "    </tr>\n",
       "    <tr>\n",
       "      <th>min</th>\n",
       "      <td>200.000000</td>\n",
       "      <td>1.000000</td>\n",
       "    </tr>\n",
       "    <tr>\n",
       "      <th>25%</th>\n",
       "      <td>1525.000000</td>\n",
       "      <td>14.250000</td>\n",
       "    </tr>\n",
       "    <tr>\n",
       "      <th>50%</th>\n",
       "      <td>2850.000000</td>\n",
       "      <td>53.000000</td>\n",
       "    </tr>\n",
       "    <tr>\n",
       "      <th>75%</th>\n",
       "      <td>4175.000000</td>\n",
       "      <td>172.750000</td>\n",
       "    </tr>\n",
       "    <tr>\n",
       "      <th>max</th>\n",
       "      <td>5700.000000</td>\n",
       "      <td>490.000000</td>\n",
       "    </tr>\n",
       "  </tbody>\n",
       "</table>\n",
       "</div>"
      ],
      "text/plain": [
       "          distance  dist_occur_ultra\n",
       "count    54.000000         54.000000\n",
       "mean   2853.703704        120.370370\n",
       "std    1579.791360        145.120158\n",
       "min     200.000000          1.000000\n",
       "25%    1525.000000         14.250000\n",
       "50%    2850.000000         53.000000\n",
       "75%    4175.000000        172.750000\n",
       "max    5700.000000        490.000000"
      ]
     },
     "execution_count": 61,
     "metadata": {},
     "output_type": "execute_result"
    }
   ],
   "source": [
    "distance_ultra = round(go_ultra['distance'].astype(int), -2).value_counts()\n",
    "\n",
    "distance_ultra = distance_ultra.reset_index()\n",
    "distance_ultra.columns = ['distance','dist_occur_ultra']\n",
    "distance_ultra = distance_ultra.sort_values('distance')\n",
    "\n",
    "distance_ultra.describe()  # Проверка: посмотреть глазами что получается"
   ]
  },
  {
   "cell_type": "code",
   "execution_count": 62,
   "id": "378e96cd",
   "metadata": {},
   "outputs": [
    {
     "data": {
      "text/html": [
       "<div>\n",
       "<style scoped>\n",
       "    .dataframe tbody tr th:only-of-type {\n",
       "        vertical-align: middle;\n",
       "    }\n",
       "\n",
       "    .dataframe tbody tr th {\n",
       "        vertical-align: top;\n",
       "    }\n",
       "\n",
       "    .dataframe thead th {\n",
       "        text-align: right;\n",
       "    }\n",
       "</style>\n",
       "<table border=\"1\" class=\"dataframe\">\n",
       "  <thead>\n",
       "    <tr style=\"text-align: right;\">\n",
       "      <th></th>\n",
       "      <th>dist_occur_free</th>\n",
       "      <th>dist_occur_ultra</th>\n",
       "    </tr>\n",
       "    <tr>\n",
       "      <th>distance</th>\n",
       "      <th></th>\n",
       "      <th></th>\n",
       "    </tr>\n",
       "  </thead>\n",
       "  <tbody>\n",
       "    <tr>\n",
       "      <th>0</th>\n",
       "      <td>31</td>\n",
       "      <td>NaN</td>\n",
       "    </tr>\n",
       "    <tr>\n",
       "      <th>100</th>\n",
       "      <td>93</td>\n",
       "      <td>NaN</td>\n",
       "    </tr>\n",
       "    <tr>\n",
       "      <th>200</th>\n",
       "      <td>106</td>\n",
       "      <td>1.0</td>\n",
       "    </tr>\n",
       "    <tr>\n",
       "      <th>300</th>\n",
       "      <td>125</td>\n",
       "      <td>5.0</td>\n",
       "    </tr>\n",
       "    <tr>\n",
       "      <th>400</th>\n",
       "      <td>134</td>\n",
       "      <td>7.0</td>\n",
       "    </tr>\n",
       "    <tr>\n",
       "      <th>...</th>\n",
       "      <td>...</td>\n",
       "      <td>...</td>\n",
       "    </tr>\n",
       "    <tr>\n",
       "      <th>6700</th>\n",
       "      <td>2</td>\n",
       "      <td>NaN</td>\n",
       "    </tr>\n",
       "    <tr>\n",
       "      <th>6800</th>\n",
       "      <td>1</td>\n",
       "      <td>NaN</td>\n",
       "    </tr>\n",
       "    <tr>\n",
       "      <th>6900</th>\n",
       "      <td>1</td>\n",
       "      <td>NaN</td>\n",
       "    </tr>\n",
       "    <tr>\n",
       "      <th>7100</th>\n",
       "      <td>1</td>\n",
       "      <td>NaN</td>\n",
       "    </tr>\n",
       "    <tr>\n",
       "      <th>7200</th>\n",
       "      <td>1</td>\n",
       "      <td>NaN</td>\n",
       "    </tr>\n",
       "  </tbody>\n",
       "</table>\n",
       "<p>72 rows × 2 columns</p>\n",
       "</div>"
      ],
      "text/plain": [
       "          dist_occur_free  dist_occur_ultra\n",
       "distance                                   \n",
       "0                      31               NaN\n",
       "100                    93               NaN\n",
       "200                   106               1.0\n",
       "300                   125               5.0\n",
       "400                   134               7.0\n",
       "...                   ...               ...\n",
       "6700                    2               NaN\n",
       "6800                    1               NaN\n",
       "6900                    1               NaN\n",
       "7100                    1               NaN\n",
       "7200                    1               NaN\n",
       "\n",
       "[72 rows x 2 columns]"
      ]
     },
     "metadata": {},
     "output_type": "display_data"
    },
    {
     "name": "stdout",
     "output_type": "stream",
     "text": [
      "<class 'pandas.core.frame.DataFrame'>\n",
      "Int64Index: 72 entries, 0 to 7200\n",
      "Data columns (total 2 columns):\n",
      " #   Column            Non-Null Count  Dtype  \n",
      "---  ------            --------------  -----  \n",
      " 0   dist_occur_free   72 non-null     int64  \n",
      " 1   dist_occur_ultra  54 non-null     float64\n",
      "dtypes: float64(1), int64(1)\n",
      "memory usage: 1.7 KB\n"
     ]
    }
   ],
   "source": [
    "distance_group = distance_group.merge(distance_free, on= 'distance', how='outer')\n",
    "distance_group = distance_group.merge(distance_ultra, on= 'distance', how='outer')\n",
    "\n",
    "distance_group = distance_group.set_index('distance')\n",
    "\n",
    "\n",
    "display(distance_group)  # Проверка: посмотреть глазами что получается\n",
    "distance_group.info()"
   ]
  },
  {
   "cell_type": "markdown",
   "id": "df8500b4",
   "metadata": {},
   "source": [
    "Датафреймы с частотами встречаемости разных дальностей поездок объединили в один.     \n",
    "\n",
    "Теперь заменим пропуски в данных на нули (поскольку если данных нет, то это значит поездок нет то есть 0) ...      "
   ]
  },
  {
   "cell_type": "code",
   "execution_count": 63,
   "id": "accb9169",
   "metadata": {},
   "outputs": [
    {
     "data": {
      "text/html": [
       "<div>\n",
       "<style scoped>\n",
       "    .dataframe tbody tr th:only-of-type {\n",
       "        vertical-align: middle;\n",
       "    }\n",
       "\n",
       "    .dataframe tbody tr th {\n",
       "        vertical-align: top;\n",
       "    }\n",
       "\n",
       "    .dataframe thead th {\n",
       "        text-align: right;\n",
       "    }\n",
       "</style>\n",
       "<table border=\"1\" class=\"dataframe\">\n",
       "  <thead>\n",
       "    <tr style=\"text-align: right;\">\n",
       "      <th></th>\n",
       "      <th>dist_occur_free</th>\n",
       "      <th>dist_occur_ultra</th>\n",
       "    </tr>\n",
       "    <tr>\n",
       "      <th>distance</th>\n",
       "      <th></th>\n",
       "      <th></th>\n",
       "    </tr>\n",
       "  </thead>\n",
       "  <tbody>\n",
       "    <tr>\n",
       "      <th>0</th>\n",
       "      <td>31</td>\n",
       "      <td>0</td>\n",
       "    </tr>\n",
       "    <tr>\n",
       "      <th>100</th>\n",
       "      <td>93</td>\n",
       "      <td>0</td>\n",
       "    </tr>\n",
       "    <tr>\n",
       "      <th>200</th>\n",
       "      <td>106</td>\n",
       "      <td>1</td>\n",
       "    </tr>\n",
       "    <tr>\n",
       "      <th>300</th>\n",
       "      <td>125</td>\n",
       "      <td>5</td>\n",
       "    </tr>\n",
       "    <tr>\n",
       "      <th>400</th>\n",
       "      <td>134</td>\n",
       "      <td>7</td>\n",
       "    </tr>\n",
       "  </tbody>\n",
       "</table>\n",
       "</div>"
      ],
      "text/plain": [
       "          dist_occur_free  dist_occur_ultra\n",
       "distance                                   \n",
       "0                      31                 0\n",
       "100                    93                 0\n",
       "200                   106                 1\n",
       "300                   125                 5\n",
       "400                   134                 7"
      ]
     },
     "metadata": {},
     "output_type": "display_data"
    },
    {
     "name": "stdout",
     "output_type": "stream",
     "text": [
      "<class 'pandas.core.frame.DataFrame'>\n",
      "Int64Index: 72 entries, 0 to 7200\n",
      "Data columns (total 2 columns):\n",
      " #   Column            Non-Null Count  Dtype\n",
      "---  ------            --------------  -----\n",
      " 0   dist_occur_free   72 non-null     int64\n",
      " 1   dist_occur_ultra  72 non-null     int64\n",
      "dtypes: int64(2)\n",
      "memory usage: 1.7 KB\n"
     ]
    }
   ],
   "source": [
    "distance_group = distance_group.fillna(0)\n",
    "distance_group['dist_occur_ultra'] = distance_group['dist_occur_ultra'].astype(int)\n",
    "\n",
    "display(distance_group.head(5))  # Проверка: посмотреть глазами что получается\n",
    "distance_group.info()"
   ]
  },
  {
   "cell_type": "markdown",
   "id": "fdb04ef7",
   "metadata": {},
   "source": [
    "... и выведем как и хотели диаграмму встречаемости различных дальностей поездок для обеих групп...    "
   ]
  },
  {
   "cell_type": "code",
   "execution_count": 64,
   "id": "95feeaef",
   "metadata": {},
   "outputs": [
    {
     "data": {
      "image/png": "[encoded data removed]",
      "text/plain": [
       "<Figure size 864x360 with 1 Axes>"
      ]
     },
     "metadata": {
      "needs_background": "light"
     },
     "output_type": "display_data"
    }
   ],
   "source": [
    "# Код ревьюера\n",
    "plt.figure(figsize = (12, 5))\n",
    "go_free['distance'].hist(bins = 50, label = 'Free')\n",
    "go_ultra['distance'].hist(bins = 50, label = 'Ultra')\n",
    "plt.legend()\n",
    "plt.xlabel('Расстояние, м')\n",
    "plt.xlabel('Количество')\n",
    "plt.title('Гистограмма распределения растояний поездок')\n",
    "plt.show()"
   ]
  },
  {
   "cell_type": "code",
   "execution_count": 65,
   "id": "e20c2508",
   "metadata": {},
   "outputs": [
    {
     "data": {
      "image/png": "[encoded data removed]",
      "text/plain": [
       "<Figure size 720x360 with 1 Axes>"
      ]
     },
     "metadata": {
      "needs_background": "light"
     },
     "output_type": "display_data"
    }
   ],
   "source": [
    "distance_group.plot.bar(figsize=(10,5))\n",
    "plt.show()"
   ]
  },
  {
   "cell_type": "markdown",
   "id": "1c0079a7",
   "metadata": {},
   "source": [
    "... или лучше даже так."
   ]
  },
  {
   "cell_type": "code",
   "execution_count": 66,
   "id": "9a953c68",
   "metadata": {},
   "outputs": [
    {
     "data": {
      "image/png": "[encoded data removed]",
      "text/plain": [
       "<Figure size 720x360 with 1 Axes>"
      ]
     },
     "metadata": {
      "needs_background": "light"
     },
     "output_type": "display_data"
    }
   ],
   "source": [
    "distance_group.plot.line(figsize=(10,5))\n",
    "plt.show()"
   ]
  },
  {
   "cell_type": "markdown",
   "id": "d8f7f2f1",
   "metadata": {},
   "source": [
    "Видим:\n",
    "\n",
    "1. По виду распределения принципиально друг от друга и от общего распределения не отличаются: вид распределения очень напоминает \"околонормальное распределение\" с центром около 3100 метров с наложением на него в диапазоне малых расстояний еще одного похожего по форме, но меньшего распределения с центром около 700 метров.        \n",
    "2. Основное отличие между группами - это то, что распределение дальности поездок для клиентов с подпиской \"ультра\" имеет более выраженный пик и около полутора раз меньшее стандартное отклонение.     \n",
    "Это скорее всего объясняется тем, что клиенты оформляющие подписку представляют куда (и соответственно на какое расстояние) они будут есздить на самокате, а распределение расстояний для клиентов без подписки \"более случайное\", то есть имеет большую дисперсию.         \n",
    "3. Максимальная дальность для клиентов с подпиской \"ультра\" существенно меньше, чем для клиентов без подписки (5700 против 7200). Это подтверждает наш вывод, сделанный ранее, что поездки на дальность более 5 км. скорее случайность, нежели практика.\n",
    "4. Кроме того минимальная дистанция для клиентов с подпиской равна 200 метров, а не равна нулю. Это по всей видимости занчит, что подписку оформляют люди, которые уже попробовали ездить на самокате (вполне возможно компании GoFast) и варианта \"попробовал поехать, не получилось - бросил\" у них не бывает."
   ]
  },
  {
   "cell_type": "markdown",
   "id": "bdf75adb",
   "metadata": {},
   "source": [
    "Сделаем аналогичное построение для длительности поездок."
   ]
  },
  {
   "cell_type": "markdown",
   "id": "ca47a811",
   "metadata": {},
   "source": [
    "Сначала создадим датафрейм - заготовку.      "
   ]
  },
  {
   "cell_type": "code",
   "execution_count": 67,
   "id": "55f78b92",
   "metadata": {},
   "outputs": [
    {
     "data": {
      "text/html": [
       "<div>\n",
       "<style scoped>\n",
       "    .dataframe tbody tr th:only-of-type {\n",
       "        vertical-align: middle;\n",
       "    }\n",
       "\n",
       "    .dataframe tbody tr th {\n",
       "        vertical-align: top;\n",
       "    }\n",
       "\n",
       "    .dataframe thead th {\n",
       "        text-align: right;\n",
       "    }\n",
       "</style>\n",
       "<table border=\"1\" class=\"dataframe\">\n",
       "  <thead>\n",
       "    <tr style=\"text-align: right;\">\n",
       "      <th></th>\n",
       "      <th>duration</th>\n",
       "    </tr>\n",
       "  </thead>\n",
       "  <tbody>\n",
       "    <tr>\n",
       "      <th>count</th>\n",
       "      <td>40.000000</td>\n",
       "    </tr>\n",
       "    <tr>\n",
       "      <th>mean</th>\n",
       "      <td>20.475000</td>\n",
       "    </tr>\n",
       "    <tr>\n",
       "      <th>std</th>\n",
       "      <td>11.734209</td>\n",
       "    </tr>\n",
       "    <tr>\n",
       "      <th>min</th>\n",
       "      <td>0.000000</td>\n",
       "    </tr>\n",
       "    <tr>\n",
       "      <th>25%</th>\n",
       "      <td>10.750000</td>\n",
       "    </tr>\n",
       "    <tr>\n",
       "      <th>50%</th>\n",
       "      <td>20.500000</td>\n",
       "    </tr>\n",
       "    <tr>\n",
       "      <th>75%</th>\n",
       "      <td>30.250000</td>\n",
       "    </tr>\n",
       "    <tr>\n",
       "      <th>max</th>\n",
       "      <td>40.000000</td>\n",
       "    </tr>\n",
       "  </tbody>\n",
       "</table>\n",
       "</div>"
      ],
      "text/plain": [
       "        duration\n",
       "count  40.000000\n",
       "mean   20.475000\n",
       "std    11.734209\n",
       "min     0.000000\n",
       "25%    10.750000\n",
       "50%    20.500000\n",
       "75%    30.250000\n",
       "max    40.000000"
      ]
     },
     "execution_count": 67,
     "metadata": {},
     "output_type": "execute_result"
    }
   ],
   "source": [
    "# Создадим пустой датафрейм - заготовку      \n",
    "duration_group = pd.DataFrame()\n",
    "\n",
    "# Зададим в нем диапазон длительностей от 0 до максимума с шагом 1 минуту\n",
    "duration_group['duration'] = round(go_all['duration'].astype(int), 0).unique()\n",
    "duration_group = duration_group.sort_values('duration')\n",
    "\n",
    "duration_group.describe()  # Проверка: посмотреть глазами что получается"
   ]
  },
  {
   "cell_type": "markdown",
   "id": "2420a3ea",
   "metadata": {},
   "source": [
    "Значения от 0 до максимума поминутно без пропусков (строк 40 и максимум 40 минут). Датафрейм создан.     \n",
    "\n",
    "Теперь отдельно для каждой группы посчитаем встречаемость разных длительностей.      "
   ]
  },
  {
   "cell_type": "code",
   "execution_count": 68,
   "id": "ccefdd42",
   "metadata": {},
   "outputs": [
    {
     "data": {
      "text/html": [
       "<div>\n",
       "<style scoped>\n",
       "    .dataframe tbody tr th:only-of-type {\n",
       "        vertical-align: middle;\n",
       "    }\n",
       "\n",
       "    .dataframe tbody tr th {\n",
       "        vertical-align: top;\n",
       "    }\n",
       "\n",
       "    .dataframe thead th {\n",
       "        text-align: right;\n",
       "    }\n",
       "</style>\n",
       "<table border=\"1\" class=\"dataframe\">\n",
       "  <thead>\n",
       "    <tr style=\"text-align: right;\">\n",
       "      <th></th>\n",
       "      <th>duration</th>\n",
       "      <th>dur_occur_free</th>\n",
       "    </tr>\n",
       "  </thead>\n",
       "  <tbody>\n",
       "    <tr>\n",
       "      <th>count</th>\n",
       "      <td>34.000000</td>\n",
       "      <td>34.000000</td>\n",
       "    </tr>\n",
       "    <tr>\n",
       "      <th>mean</th>\n",
       "      <td>17.470588</td>\n",
       "      <td>340.235294</td>\n",
       "    </tr>\n",
       "    <tr>\n",
       "      <th>std</th>\n",
       "      <td>10.009799</td>\n",
       "      <td>247.667551</td>\n",
       "    </tr>\n",
       "    <tr>\n",
       "      <th>min</th>\n",
       "      <td>0.000000</td>\n",
       "      <td>33.000000</td>\n",
       "    </tr>\n",
       "    <tr>\n",
       "      <th>25%</th>\n",
       "      <td>9.250000</td>\n",
       "      <td>104.000000</td>\n",
       "    </tr>\n",
       "    <tr>\n",
       "      <th>50%</th>\n",
       "      <td>17.500000</td>\n",
       "      <td>294.500000</td>\n",
       "    </tr>\n",
       "    <tr>\n",
       "      <th>75%</th>\n",
       "      <td>25.750000</td>\n",
       "      <td>599.750000</td>\n",
       "    </tr>\n",
       "    <tr>\n",
       "      <th>max</th>\n",
       "      <td>34.000000</td>\n",
       "      <td>721.000000</td>\n",
       "    </tr>\n",
       "  </tbody>\n",
       "</table>\n",
       "</div>"
      ],
      "text/plain": [
       "        duration  dur_occur_free\n",
       "count  34.000000       34.000000\n",
       "mean   17.470588      340.235294\n",
       "std    10.009799      247.667551\n",
       "min     0.000000       33.000000\n",
       "25%     9.250000      104.000000\n",
       "50%    17.500000      294.500000\n",
       "75%    25.750000      599.750000\n",
       "max    34.000000      721.000000"
      ]
     },
     "execution_count": 68,
     "metadata": {},
     "output_type": "execute_result"
    }
   ],
   "source": [
    "duration_free = round(go_free['duration'].astype(int), 0).value_counts()\n",
    "\n",
    "duration_free = duration_free.reset_index()\n",
    "duration_free.columns = ['duration','dur_occur_free']\n",
    "duration_free = duration_free.sort_values('duration')\n",
    "\n",
    "duration_free.describe()  # Проверка: посмотреть глазами что получается"
   ]
  },
  {
   "cell_type": "code",
   "execution_count": 69,
   "id": "ac53211c",
   "metadata": {},
   "outputs": [
    {
     "data": {
      "text/html": [
       "<div>\n",
       "<style scoped>\n",
       "    .dataframe tbody tr th:only-of-type {\n",
       "        vertical-align: middle;\n",
       "    }\n",
       "\n",
       "    .dataframe tbody tr th {\n",
       "        vertical-align: top;\n",
       "    }\n",
       "\n",
       "    .dataframe thead th {\n",
       "        text-align: right;\n",
       "    }\n",
       "</style>\n",
       "<table border=\"1\" class=\"dataframe\">\n",
       "  <thead>\n",
       "    <tr style=\"text-align: right;\">\n",
       "      <th></th>\n",
       "      <th>duration</th>\n",
       "      <th>dur_occur_ultra</th>\n",
       "    </tr>\n",
       "  </thead>\n",
       "  <tbody>\n",
       "    <tr>\n",
       "      <th>count</th>\n",
       "      <td>38.000000</td>\n",
       "      <td>38.000000</td>\n",
       "    </tr>\n",
       "    <tr>\n",
       "      <th>mean</th>\n",
       "      <td>21.500000</td>\n",
       "      <td>171.052632</td>\n",
       "    </tr>\n",
       "    <tr>\n",
       "      <th>std</th>\n",
       "      <td>11.113055</td>\n",
       "      <td>170.780553</td>\n",
       "    </tr>\n",
       "    <tr>\n",
       "      <th>min</th>\n",
       "      <td>3.000000</td>\n",
       "      <td>1.000000</td>\n",
       "    </tr>\n",
       "    <tr>\n",
       "      <th>25%</th>\n",
       "      <td>12.250000</td>\n",
       "      <td>25.000000</td>\n",
       "    </tr>\n",
       "    <tr>\n",
       "      <th>50%</th>\n",
       "      <td>21.500000</td>\n",
       "      <td>99.500000</td>\n",
       "    </tr>\n",
       "    <tr>\n",
       "      <th>75%</th>\n",
       "      <td>30.750000</td>\n",
       "      <td>300.500000</td>\n",
       "    </tr>\n",
       "    <tr>\n",
       "      <th>max</th>\n",
       "      <td>40.000000</td>\n",
       "      <td>488.000000</td>\n",
       "    </tr>\n",
       "  </tbody>\n",
       "</table>\n",
       "</div>"
      ],
      "text/plain": [
       "        duration  dur_occur_ultra\n",
       "count  38.000000        38.000000\n",
       "mean   21.500000       171.052632\n",
       "std    11.113055       170.780553\n",
       "min     3.000000         1.000000\n",
       "25%    12.250000        25.000000\n",
       "50%    21.500000        99.500000\n",
       "75%    30.750000       300.500000\n",
       "max    40.000000       488.000000"
      ]
     },
     "execution_count": 69,
     "metadata": {},
     "output_type": "execute_result"
    }
   ],
   "source": [
    "duration_ultra = round(go_ultra['duration'].astype(int), 0).value_counts()\n",
    "\n",
    "duration_ultra = duration_ultra.reset_index()\n",
    "duration_ultra.columns = ['duration','dur_occur_ultra']\n",
    "duration_ultra = duration_ultra.sort_values('duration')\n",
    "\n",
    "duration_ultra.describe()  # Проверка: посмотреть глазами что получается"
   ]
  },
  {
   "cell_type": "markdown",
   "id": "c3e87bc7",
   "metadata": {},
   "source": [
    "Значения встречаемости для каждой группы посчитаны и сохнарены в соответствующих датафреймах.     \n",
    "\n",
    "Теперь создадим единый датафрейм, объединив все три на основе столбца 'duration'.      "
   ]
  },
  {
   "cell_type": "code",
   "execution_count": 70,
   "id": "e79fad2e",
   "metadata": {},
   "outputs": [
    {
     "data": {
      "text/html": [
       "<div>\n",
       "<style scoped>\n",
       "    .dataframe tbody tr th:only-of-type {\n",
       "        vertical-align: middle;\n",
       "    }\n",
       "\n",
       "    .dataframe tbody tr th {\n",
       "        vertical-align: top;\n",
       "    }\n",
       "\n",
       "    .dataframe thead th {\n",
       "        text-align: right;\n",
       "    }\n",
       "</style>\n",
       "<table border=\"1\" class=\"dataframe\">\n",
       "  <thead>\n",
       "    <tr style=\"text-align: right;\">\n",
       "      <th></th>\n",
       "      <th>dur_occur_free</th>\n",
       "      <th>dur_occur_ultra</th>\n",
       "    </tr>\n",
       "    <tr>\n",
       "      <th>duration</th>\n",
       "      <th></th>\n",
       "      <th></th>\n",
       "    </tr>\n",
       "  </thead>\n",
       "  <tbody>\n",
       "    <tr>\n",
       "      <th>0</th>\n",
       "      <td>95.0</td>\n",
       "      <td>NaN</td>\n",
       "    </tr>\n",
       "    <tr>\n",
       "      <th>2</th>\n",
       "      <td>33.0</td>\n",
       "      <td>NaN</td>\n",
       "    </tr>\n",
       "    <tr>\n",
       "      <th>3</th>\n",
       "      <td>54.0</td>\n",
       "      <td>1.0</td>\n",
       "    </tr>\n",
       "    <tr>\n",
       "      <th>4</th>\n",
       "      <td>86.0</td>\n",
       "      <td>9.0</td>\n",
       "    </tr>\n",
       "    <tr>\n",
       "      <th>5</th>\n",
       "      <td>115.0</td>\n",
       "      <td>28.0</td>\n",
       "    </tr>\n",
       "  </tbody>\n",
       "</table>\n",
       "</div>"
      ],
      "text/plain": [
       "          dur_occur_free  dur_occur_ultra\n",
       "duration                                 \n",
       "0                   95.0              NaN\n",
       "2                   33.0              NaN\n",
       "3                   54.0              1.0\n",
       "4                   86.0              9.0\n",
       "5                  115.0             28.0"
      ]
     },
     "metadata": {},
     "output_type": "display_data"
    },
    {
     "name": "stdout",
     "output_type": "stream",
     "text": [
      "<class 'pandas.core.frame.DataFrame'>\n",
      "Int64Index: 40 entries, 0 to 40\n",
      "Data columns (total 2 columns):\n",
      " #   Column           Non-Null Count  Dtype  \n",
      "---  ------           --------------  -----  \n",
      " 0   dur_occur_free   34 non-null     float64\n",
      " 1   dur_occur_ultra  38 non-null     float64\n",
      "dtypes: float64(2)\n",
      "memory usage: 960.0 bytes\n"
     ]
    }
   ],
   "source": [
    "duration_group = duration_group.merge(duration_free, on= 'duration', how='outer')\n",
    "duration_group = duration_group.merge(duration_ultra, on= 'duration', how='outer')\n",
    "\n",
    "duration_group = duration_group.set_index('duration')\n",
    "\n",
    "\n",
    "display(duration_group.head(5))  # Проверка: посмотреть глазами что получается\n",
    "duration_group.info()"
   ]
  },
  {
   "cell_type": "markdown",
   "id": "6663c8c8",
   "metadata": {},
   "source": [
    "Датафреймы объединили в один.     \n",
    "\n",
    "Теперь заменим пропуски в данных на нули (поскольку если данных нет, то это значит поездок нет то есть 0) ...      "
   ]
  },
  {
   "cell_type": "code",
   "execution_count": 71,
   "id": "22cffe60",
   "metadata": {},
   "outputs": [
    {
     "data": {
      "text/html": [
       "<div>\n",
       "<style scoped>\n",
       "    .dataframe tbody tr th:only-of-type {\n",
       "        vertical-align: middle;\n",
       "    }\n",
       "\n",
       "    .dataframe tbody tr th {\n",
       "        vertical-align: top;\n",
       "    }\n",
       "\n",
       "    .dataframe thead th {\n",
       "        text-align: right;\n",
       "    }\n",
       "</style>\n",
       "<table border=\"1\" class=\"dataframe\">\n",
       "  <thead>\n",
       "    <tr style=\"text-align: right;\">\n",
       "      <th></th>\n",
       "      <th>dur_occur_free</th>\n",
       "      <th>dur_occur_ultra</th>\n",
       "    </tr>\n",
       "    <tr>\n",
       "      <th>duration</th>\n",
       "      <th></th>\n",
       "      <th></th>\n",
       "    </tr>\n",
       "  </thead>\n",
       "  <tbody>\n",
       "    <tr>\n",
       "      <th>0</th>\n",
       "      <td>95.0</td>\n",
       "      <td>0</td>\n",
       "    </tr>\n",
       "    <tr>\n",
       "      <th>2</th>\n",
       "      <td>33.0</td>\n",
       "      <td>0</td>\n",
       "    </tr>\n",
       "    <tr>\n",
       "      <th>3</th>\n",
       "      <td>54.0</td>\n",
       "      <td>1</td>\n",
       "    </tr>\n",
       "    <tr>\n",
       "      <th>4</th>\n",
       "      <td>86.0</td>\n",
       "      <td>9</td>\n",
       "    </tr>\n",
       "    <tr>\n",
       "      <th>5</th>\n",
       "      <td>115.0</td>\n",
       "      <td>28</td>\n",
       "    </tr>\n",
       "  </tbody>\n",
       "</table>\n",
       "</div>"
      ],
      "text/plain": [
       "          dur_occur_free  dur_occur_ultra\n",
       "duration                                 \n",
       "0                   95.0                0\n",
       "2                   33.0                0\n",
       "3                   54.0                1\n",
       "4                   86.0                9\n",
       "5                  115.0               28"
      ]
     },
     "metadata": {},
     "output_type": "display_data"
    },
    {
     "name": "stdout",
     "output_type": "stream",
     "text": [
      "<class 'pandas.core.frame.DataFrame'>\n",
      "Int64Index: 40 entries, 0 to 40\n",
      "Data columns (total 2 columns):\n",
      " #   Column           Non-Null Count  Dtype  \n",
      "---  ------           --------------  -----  \n",
      " 0   dur_occur_free   40 non-null     float64\n",
      " 1   dur_occur_ultra  40 non-null     int64  \n",
      "dtypes: float64(1), int64(1)\n",
      "memory usage: 960.0 bytes\n"
     ]
    }
   ],
   "source": [
    "duration_group = duration_group.fillna(0)\n",
    "duration_group['dur_occur_ultra'] = duration_group['dur_occur_ultra'].astype(int)\n",
    "\n",
    "display(duration_group.head(5))  # Проверка: посмотреть глазами что получается\n",
    "duration_group.info()"
   ]
  },
  {
   "cell_type": "markdown",
   "id": "e517b320",
   "metadata": {},
   "source": [
    "... и выведем как и хотели диаграмму встречаемости различных дальностей поездок для обеих групп (линиями).    "
   ]
  },
  {
   "cell_type": "code",
   "execution_count": 72,
   "id": "93bf0b9e",
   "metadata": {},
   "outputs": [
    {
     "data": {
      "image/png": "[encoded data removed]",
      "text/plain": [
       "<Figure size 720x360 with 1 Axes>"
      ]
     },
     "metadata": {
      "needs_background": "light"
     },
     "output_type": "display_data"
    }
   ],
   "source": [
    "duration_group.plot.line(figsize=(10,5))\n",
    "plt.show()"
   ]
  },
  {
   "cell_type": "markdown",
   "id": "3b6ff382",
   "metadata": {},
   "source": [
    "Видим:\n",
    "\n",
    "1. Так же как и с растояниями - по виду распределения принципиально друг от друга и от общего распределения не отличаются и похожи на \"нормальные\".       \n",
    "2. Распределение по группе клиентов с подпиской \"ультра\" ниже по пику и примерно пропорционально ниже по стандартному отклонению. С несколько более высоким средним и медианой (21.5 минуты против 17.5): похоже подписчики ездят немного более спокойно, нежели \"разовые\" пользователи.      \n",
    "3. Максимальная длительность для клиентов с подпиской \"ультра\" даже несколько больше (но не значительно), чем для клиентов без подписки (40 минут против 34-х). \n",
    "4. Кроме того минимальная длительность для клиентов с подпиской равна 3 минутам (против нуля у разовых пользователей), что подтверждает наше предположение, сделанное на основе данных по расстояниям: всей видимости значит, что подписку оформляют люди, которые уже попробовали ездить на самокате."
   ]
  },
  {
   "cell_type": "markdown",
   "id": "cc121e58",
   "metadata": {},
   "source": [
    "\n"
   ]
  },
  {
   "cell_type": "markdown",
   "id": "eb758946",
   "metadata": {},
   "source": [
    "## Шаг 5. Подсчёт выручки"
   ]
  },
  {
   "cell_type": "markdown",
   "id": "b3bafdf9",
   "metadata": {},
   "source": [
    "### 5.1 Создать датафрейм с агрегированными данными о поездках на основе датафрейма с объединёнными данными из шага 4: найти суммарное расстояние, количество поездок и суммарное время для каждого пользователя за каждый месяц."
   ]
  },
  {
   "cell_type": "markdown",
   "id": "db45bc12",
   "metadata": {},
   "source": [
    "\n"
   ]
  },
  {
   "cell_type": "markdown",
   "id": "7c12c731",
   "metadata": {},
   "source": [
    "Все данные для проведения расчетов должны быть в датафрейме 'go_all'.      \n",
    "\n",
    "Посмотрим"
   ]
  },
  {
   "cell_type": "code",
   "execution_count": 73,
   "id": "e3e48853",
   "metadata": {},
   "outputs": [
    {
     "data": {
      "text/html": [
       "<div>\n",
       "<style scoped>\n",
       "    .dataframe tbody tr th:only-of-type {\n",
       "        vertical-align: middle;\n",
       "    }\n",
       "\n",
       "    .dataframe tbody tr th {\n",
       "        vertical-align: top;\n",
       "    }\n",
       "\n",
       "    .dataframe thead th {\n",
       "        text-align: right;\n",
       "    }\n",
       "</style>\n",
       "<table border=\"1\" class=\"dataframe\">\n",
       "  <thead>\n",
       "    <tr style=\"text-align: right;\">\n",
       "      <th></th>\n",
       "      <th>user_id</th>\n",
       "      <th>name</th>\n",
       "      <th>age</th>\n",
       "      <th>city</th>\n",
       "      <th>subscription_type</th>\n",
       "      <th>minute_price</th>\n",
       "      <th>start_ride_price</th>\n",
       "      <th>subscription_fee</th>\n",
       "      <th>distance</th>\n",
       "      <th>duration</th>\n",
       "      <th>date</th>\n",
       "      <th>month</th>\n",
       "    </tr>\n",
       "  </thead>\n",
       "  <tbody>\n",
       "    <tr>\n",
       "      <th>0</th>\n",
       "      <td>1</td>\n",
       "      <td>Кира</td>\n",
       "      <td>22</td>\n",
       "      <td>Тюмень</td>\n",
       "      <td>ultra</td>\n",
       "      <td>6</td>\n",
       "      <td>0</td>\n",
       "      <td>199</td>\n",
       "      <td>4409.919140</td>\n",
       "      <td>25.599769</td>\n",
       "      <td>2021-01-01</td>\n",
       "      <td>1</td>\n",
       "    </tr>\n",
       "    <tr>\n",
       "      <th>1</th>\n",
       "      <td>1</td>\n",
       "      <td>Кира</td>\n",
       "      <td>22</td>\n",
       "      <td>Тюмень</td>\n",
       "      <td>ultra</td>\n",
       "      <td>6</td>\n",
       "      <td>0</td>\n",
       "      <td>199</td>\n",
       "      <td>2617.592153</td>\n",
       "      <td>15.816871</td>\n",
       "      <td>2021-01-18</td>\n",
       "      <td>1</td>\n",
       "    </tr>\n",
       "    <tr>\n",
       "      <th>2</th>\n",
       "      <td>1</td>\n",
       "      <td>Кира</td>\n",
       "      <td>22</td>\n",
       "      <td>Тюмень</td>\n",
       "      <td>ultra</td>\n",
       "      <td>6</td>\n",
       "      <td>0</td>\n",
       "      <td>199</td>\n",
       "      <td>754.159807</td>\n",
       "      <td>6.232113</td>\n",
       "      <td>2021-04-20</td>\n",
       "      <td>4</td>\n",
       "    </tr>\n",
       "    <tr>\n",
       "      <th>3</th>\n",
       "      <td>1</td>\n",
       "      <td>Кира</td>\n",
       "      <td>22</td>\n",
       "      <td>Тюмень</td>\n",
       "      <td>ultra</td>\n",
       "      <td>6</td>\n",
       "      <td>0</td>\n",
       "      <td>199</td>\n",
       "      <td>2694.783254</td>\n",
       "      <td>18.511000</td>\n",
       "      <td>2021-08-11</td>\n",
       "      <td>8</td>\n",
       "    </tr>\n",
       "    <tr>\n",
       "      <th>4</th>\n",
       "      <td>1</td>\n",
       "      <td>Кира</td>\n",
       "      <td>22</td>\n",
       "      <td>Тюмень</td>\n",
       "      <td>ultra</td>\n",
       "      <td>6</td>\n",
       "      <td>0</td>\n",
       "      <td>199</td>\n",
       "      <td>4028.687306</td>\n",
       "      <td>26.265803</td>\n",
       "      <td>2021-08-28</td>\n",
       "      <td>8</td>\n",
       "    </tr>\n",
       "  </tbody>\n",
       "</table>\n",
       "</div>"
      ],
      "text/plain": [
       "   user_id  name  age    city subscription_type  minute_price  \\\n",
       "0        1  Кира   22  Тюмень             ultra             6   \n",
       "1        1  Кира   22  Тюмень             ultra             6   \n",
       "2        1  Кира   22  Тюмень             ultra             6   \n",
       "3        1  Кира   22  Тюмень             ultra             6   \n",
       "4        1  Кира   22  Тюмень             ultra             6   \n",
       "\n",
       "   start_ride_price  subscription_fee     distance   duration       date  \\\n",
       "0                 0               199  4409.919140  25.599769 2021-01-01   \n",
       "1                 0               199  2617.592153  15.816871 2021-01-18   \n",
       "2                 0               199   754.159807   6.232113 2021-04-20   \n",
       "3                 0               199  2694.783254  18.511000 2021-08-11   \n",
       "4                 0               199  4028.687306  26.265803 2021-08-28   \n",
       "\n",
       "   month  \n",
       "0      1  \n",
       "1      1  \n",
       "2      4  \n",
       "3      8  \n",
       "4      8  "
      ]
     },
     "execution_count": 73,
     "metadata": {},
     "output_type": "execute_result"
    }
   ],
   "source": [
    "go_all.head(5)"
   ]
  },
  {
   "cell_type": "markdown",
   "id": "19d635b3",
   "metadata": {},
   "source": [
    "Чтобы рассчитывать что-то для каждого клиента нам понадобится рассчитывать параметры с адресацией на конкретного клиента  - для этого есть столбец 'user_id';    \n",
    "чтобы рассчитывать помесячно нам нужно указание на месяц - есть столбец 'month';         \n",
    "чтобы найти суммарное расстояние нужны данные о количестве поездок и дальности каждой поездки - для этого подойдет столбец 'distance';\n",
    "аналогичная ситуация с рассчетом суммарного времени - нам нужен будет столбец 'duration'.\n",
    "Возможно есть смысл остальные столбцы из датафрейма  'go_all' тоже взять \"в нагрузку\" - они могут понадобится в дальнейших рассчетах.     \n",
    "Однако столбец 'date' с конкретными датами поездок нам вряд ли понадобится (поскольку агрегация будет помесячная, а столбец \"месяц\" у нас есть. Мы не будем переносить этот столбец в новый датафрейм.      \n",
    "Зато нам зато нужы будут данные с количеством поездок. Поэтому наверное есть смысл сразу создать столбец 'rides' отражающий количество поездок. Пока нет агрегации он бедет везеде равен единице (одна строка - одна поездка)\n",
    "\n",
    "Создадим столбец 'rides'"
   ]
  },
  {
   "cell_type": "code",
   "execution_count": 74,
   "id": "82e325af",
   "metadata": {},
   "outputs": [
    {
     "data": {
      "text/html": [
       "<div>\n",
       "<style scoped>\n",
       "    .dataframe tbody tr th:only-of-type {\n",
       "        vertical-align: middle;\n",
       "    }\n",
       "\n",
       "    .dataframe tbody tr th {\n",
       "        vertical-align: top;\n",
       "    }\n",
       "\n",
       "    .dataframe thead th {\n",
       "        text-align: right;\n",
       "    }\n",
       "</style>\n",
       "<table border=\"1\" class=\"dataframe\">\n",
       "  <thead>\n",
       "    <tr style=\"text-align: right;\">\n",
       "      <th></th>\n",
       "      <th>user_id</th>\n",
       "      <th>name</th>\n",
       "      <th>age</th>\n",
       "      <th>city</th>\n",
       "      <th>subscription_type</th>\n",
       "      <th>minute_price</th>\n",
       "      <th>start_ride_price</th>\n",
       "      <th>subscription_fee</th>\n",
       "      <th>distance</th>\n",
       "      <th>duration</th>\n",
       "      <th>date</th>\n",
       "      <th>month</th>\n",
       "      <th>rides</th>\n",
       "    </tr>\n",
       "  </thead>\n",
       "  <tbody>\n",
       "    <tr>\n",
       "      <th>0</th>\n",
       "      <td>1</td>\n",
       "      <td>Кира</td>\n",
       "      <td>22</td>\n",
       "      <td>Тюмень</td>\n",
       "      <td>ultra</td>\n",
       "      <td>6</td>\n",
       "      <td>0</td>\n",
       "      <td>199</td>\n",
       "      <td>4409.919140</td>\n",
       "      <td>25.599769</td>\n",
       "      <td>2021-01-01</td>\n",
       "      <td>1</td>\n",
       "      <td>1</td>\n",
       "    </tr>\n",
       "    <tr>\n",
       "      <th>1</th>\n",
       "      <td>1</td>\n",
       "      <td>Кира</td>\n",
       "      <td>22</td>\n",
       "      <td>Тюмень</td>\n",
       "      <td>ultra</td>\n",
       "      <td>6</td>\n",
       "      <td>0</td>\n",
       "      <td>199</td>\n",
       "      <td>2617.592153</td>\n",
       "      <td>15.816871</td>\n",
       "      <td>2021-01-18</td>\n",
       "      <td>1</td>\n",
       "      <td>1</td>\n",
       "    </tr>\n",
       "    <tr>\n",
       "      <th>2</th>\n",
       "      <td>1</td>\n",
       "      <td>Кира</td>\n",
       "      <td>22</td>\n",
       "      <td>Тюмень</td>\n",
       "      <td>ultra</td>\n",
       "      <td>6</td>\n",
       "      <td>0</td>\n",
       "      <td>199</td>\n",
       "      <td>754.159807</td>\n",
       "      <td>6.232113</td>\n",
       "      <td>2021-04-20</td>\n",
       "      <td>4</td>\n",
       "      <td>1</td>\n",
       "    </tr>\n",
       "    <tr>\n",
       "      <th>3</th>\n",
       "      <td>1</td>\n",
       "      <td>Кира</td>\n",
       "      <td>22</td>\n",
       "      <td>Тюмень</td>\n",
       "      <td>ultra</td>\n",
       "      <td>6</td>\n",
       "      <td>0</td>\n",
       "      <td>199</td>\n",
       "      <td>2694.783254</td>\n",
       "      <td>18.511000</td>\n",
       "      <td>2021-08-11</td>\n",
       "      <td>8</td>\n",
       "      <td>1</td>\n",
       "    </tr>\n",
       "    <tr>\n",
       "      <th>4</th>\n",
       "      <td>1</td>\n",
       "      <td>Кира</td>\n",
       "      <td>22</td>\n",
       "      <td>Тюмень</td>\n",
       "      <td>ultra</td>\n",
       "      <td>6</td>\n",
       "      <td>0</td>\n",
       "      <td>199</td>\n",
       "      <td>4028.687306</td>\n",
       "      <td>26.265803</td>\n",
       "      <td>2021-08-28</td>\n",
       "      <td>8</td>\n",
       "      <td>1</td>\n",
       "    </tr>\n",
       "    <tr>\n",
       "      <th>5</th>\n",
       "      <td>1</td>\n",
       "      <td>Кира</td>\n",
       "      <td>22</td>\n",
       "      <td>Тюмень</td>\n",
       "      <td>ultra</td>\n",
       "      <td>6</td>\n",
       "      <td>0</td>\n",
       "      <td>199</td>\n",
       "      <td>2770.890808</td>\n",
       "      <td>16.650138</td>\n",
       "      <td>2021-10-09</td>\n",
       "      <td>10</td>\n",
       "      <td>1</td>\n",
       "    </tr>\n",
       "    <tr>\n",
       "      <th>6</th>\n",
       "      <td>1</td>\n",
       "      <td>Кира</td>\n",
       "      <td>22</td>\n",
       "      <td>Тюмень</td>\n",
       "      <td>ultra</td>\n",
       "      <td>6</td>\n",
       "      <td>0</td>\n",
       "      <td>199</td>\n",
       "      <td>3039.020292</td>\n",
       "      <td>14.927879</td>\n",
       "      <td>2021-10-19</td>\n",
       "      <td>10</td>\n",
       "      <td>1</td>\n",
       "    </tr>\n",
       "    <tr>\n",
       "      <th>7</th>\n",
       "      <td>1</td>\n",
       "      <td>Кира</td>\n",
       "      <td>22</td>\n",
       "      <td>Тюмень</td>\n",
       "      <td>ultra</td>\n",
       "      <td>6</td>\n",
       "      <td>0</td>\n",
       "      <td>199</td>\n",
       "      <td>2842.118050</td>\n",
       "      <td>23.117468</td>\n",
       "      <td>2021-11-06</td>\n",
       "      <td>11</td>\n",
       "      <td>1</td>\n",
       "    </tr>\n",
       "    <tr>\n",
       "      <th>8</th>\n",
       "      <td>1</td>\n",
       "      <td>Кира</td>\n",
       "      <td>22</td>\n",
       "      <td>Тюмень</td>\n",
       "      <td>ultra</td>\n",
       "      <td>6</td>\n",
       "      <td>0</td>\n",
       "      <td>199</td>\n",
       "      <td>3412.690668</td>\n",
       "      <td>15.238072</td>\n",
       "      <td>2021-11-14</td>\n",
       "      <td>11</td>\n",
       "      <td>1</td>\n",
       "    </tr>\n",
       "    <tr>\n",
       "      <th>9</th>\n",
       "      <td>1</td>\n",
       "      <td>Кира</td>\n",
       "      <td>22</td>\n",
       "      <td>Тюмень</td>\n",
       "      <td>ultra</td>\n",
       "      <td>6</td>\n",
       "      <td>0</td>\n",
       "      <td>199</td>\n",
       "      <td>748.690645</td>\n",
       "      <td>15.041884</td>\n",
       "      <td>2021-11-22</td>\n",
       "      <td>11</td>\n",
       "      <td>1</td>\n",
       "    </tr>\n",
       "  </tbody>\n",
       "</table>\n",
       "</div>"
      ],
      "text/plain": [
       "   user_id  name  age    city subscription_type  minute_price  \\\n",
       "0        1  Кира   22  Тюмень             ultra             6   \n",
       "1        1  Кира   22  Тюмень             ultra             6   \n",
       "2        1  Кира   22  Тюмень             ultra             6   \n",
       "3        1  Кира   22  Тюмень             ultra             6   \n",
       "4        1  Кира   22  Тюмень             ultra             6   \n",
       "5        1  Кира   22  Тюмень             ultra             6   \n",
       "6        1  Кира   22  Тюмень             ultra             6   \n",
       "7        1  Кира   22  Тюмень             ultra             6   \n",
       "8        1  Кира   22  Тюмень             ultra             6   \n",
       "9        1  Кира   22  Тюмень             ultra             6   \n",
       "\n",
       "   start_ride_price  subscription_fee     distance   duration       date  \\\n",
       "0                 0               199  4409.919140  25.599769 2021-01-01   \n",
       "1                 0               199  2617.592153  15.816871 2021-01-18   \n",
       "2                 0               199   754.159807   6.232113 2021-04-20   \n",
       "3                 0               199  2694.783254  18.511000 2021-08-11   \n",
       "4                 0               199  4028.687306  26.265803 2021-08-28   \n",
       "5                 0               199  2770.890808  16.650138 2021-10-09   \n",
       "6                 0               199  3039.020292  14.927879 2021-10-19   \n",
       "7                 0               199  2842.118050  23.117468 2021-11-06   \n",
       "8                 0               199  3412.690668  15.238072 2021-11-14   \n",
       "9                 0               199   748.690645  15.041884 2021-11-22   \n",
       "\n",
       "   month  rides  \n",
       "0      1      1  \n",
       "1      1      1  \n",
       "2      4      1  \n",
       "3      8      1  \n",
       "4      8      1  \n",
       "5     10      1  \n",
       "6     10      1  \n",
       "7     11      1  \n",
       "8     11      1  \n",
       "9     11      1  "
      ]
     },
     "execution_count": 74,
     "metadata": {},
     "output_type": "execute_result"
    }
   ],
   "source": [
    "go_all['rides'] = 1\n",
    "\n",
    "go_all.head(10)  # Проверка: посмотреть глазами что получается "
   ]
  },
  {
   "cell_type": "markdown",
   "id": "bc6fc3c4",
   "metadata": {},
   "source": [
    "Теперь попробуем сделать аггрегирование сначала по параметру месяца, а затем по user_id и затем       \n",
    "заполним столбцы датафрейма 'go_all_aggr' значениями из 'go_all' с использованием метода .agg():        \n",
    "создадим столбец  и заполним его значениями из столбца 'distance' методом .agg('count'),        \n",
    "для столбцов 'rides', 'distance' и 'duration' методом .agg('sum'),      \n",
    "а для столбцов со \"стационарными\" данными  - 'user_id', 'name', 'age', 'city', 'minute_price', 'start_ride_price', 'subscription_fee' и 'month' примерим метод .agg('first')"
   ]
  },
  {
   "cell_type": "markdown",
   "id": "92bd7a1f",
   "metadata": {},
   "source": [
    "Округлим длительность каждой поездки в большую сторону до минуты."
   ]
  },
  {
   "cell_type": "code",
   "execution_count": 75,
   "id": "68bd74f0",
   "metadata": {},
   "outputs": [
    {
     "data": {
      "text/plain": [
       "0        26.0\n",
       "1        16.0\n",
       "2         7.0\n",
       "3        19.0\n",
       "4        27.0\n",
       "         ... \n",
       "18063    20.0\n",
       "18064    22.0\n",
       "18065    19.0\n",
       "18066    17.0\n",
       "18067    16.0\n",
       "Name: duration, Length: 18068, dtype: float64"
      ]
     },
     "execution_count": 75,
     "metadata": {},
     "output_type": "execute_result"
    }
   ],
   "source": [
    "go_all['duration'] = go_all['duration'].apply(np.ceil)\n",
    "\n",
    "go_all['duration']  # Проверка: посмотреть глазами что получается"
   ]
  },
  {
   "cell_type": "markdown",
   "id": "d7d0b2cb",
   "metadata": {},
   "source": [
    "Длительности каждой поездки округлены в большую сторону до минуты."
   ]
  },
  {
   "cell_type": "markdown",
   "id": "0e5b6291",
   "metadata": {},
   "source": [
    "Теперь создадим словарь для метода агрегирования .agg() оставив те столбцы, которые нам нужны и сопоставив им функции, которыми мы собираемся аггрегировать данные (что где - описано выше)"
   ]
  },
  {
   "cell_type": "code",
   "execution_count": 76,
   "id": "07b6f87b",
   "metadata": {},
   "outputs": [
    {
     "data": {
      "text/plain": [
       "{'name': 'first',\n",
       " 'age': 'first',\n",
       " 'city': 'first',\n",
       " 'subscription_type': 'first',\n",
       " 'minute_price': 'first',\n",
       " 'start_ride_price': 'first',\n",
       " 'subscription_fee': 'first',\n",
       " 'distance': 'sum',\n",
       " 'duration': 'sum',\n",
       " 'rides': 'sum'}"
      ]
     },
     "execution_count": 76,
     "metadata": {},
     "output_type": "execute_result"
    }
   ],
   "source": [
    "dict_for_agg_keys = list(go_all.columns)\n",
    "dict_for_agg_keys.remove('date')\n",
    "dict_for_agg_keys.remove('user_id')\n",
    "dict_for_agg_keys.remove('month')\n",
    "\n",
    "dict_for_agg_values = ['first', 'first', 'first', 'first', 'first', 'first', 'first', 'sum', 'sum', 'sum']\n",
    "\n",
    "dict_for_agg = dict(zip(dict_for_agg_keys, dict_for_agg_values))\n",
    "\n",
    "dict_for_agg  # Проверка: посмотреть глазами что получается"
   ]
  },
  {
   "cell_type": "markdown",
   "id": "2961c91e",
   "metadata": {},
   "source": [
    "Создадим датафрейм 'go_all_aggr' с агрегированными данными"
   ]
  },
  {
   "cell_type": "code",
   "execution_count": 77,
   "id": "96409297",
   "metadata": {},
   "outputs": [
    {
     "data": {
      "text/html": [
       "<div>\n",
       "<style scoped>\n",
       "    .dataframe tbody tr th:only-of-type {\n",
       "        vertical-align: middle;\n",
       "    }\n",
       "\n",
       "    .dataframe tbody tr th {\n",
       "        vertical-align: top;\n",
       "    }\n",
       "\n",
       "    .dataframe thead th {\n",
       "        text-align: right;\n",
       "    }\n",
       "</style>\n",
       "<table border=\"1\" class=\"dataframe\">\n",
       "  <thead>\n",
       "    <tr style=\"text-align: right;\">\n",
       "      <th></th>\n",
       "      <th>month</th>\n",
       "      <th>user_id</th>\n",
       "      <th>name</th>\n",
       "      <th>age</th>\n",
       "      <th>city</th>\n",
       "      <th>subscription_type</th>\n",
       "      <th>minute_price</th>\n",
       "      <th>start_ride_price</th>\n",
       "      <th>subscription_fee</th>\n",
       "      <th>distance</th>\n",
       "      <th>duration</th>\n",
       "      <th>rides</th>\n",
       "    </tr>\n",
       "  </thead>\n",
       "  <tbody>\n",
       "    <tr>\n",
       "      <th>0</th>\n",
       "      <td>1</td>\n",
       "      <td>1</td>\n",
       "      <td>Кира</td>\n",
       "      <td>22</td>\n",
       "      <td>Тюмень</td>\n",
       "      <td>ultra</td>\n",
       "      <td>6</td>\n",
       "      <td>0</td>\n",
       "      <td>199</td>\n",
       "      <td>7027.511294</td>\n",
       "      <td>42.0</td>\n",
       "      <td>2</td>\n",
       "    </tr>\n",
       "    <tr>\n",
       "      <th>1</th>\n",
       "      <td>1</td>\n",
       "      <td>3</td>\n",
       "      <td>Алексей</td>\n",
       "      <td>20</td>\n",
       "      <td>Москва</td>\n",
       "      <td>ultra</td>\n",
       "      <td>6</td>\n",
       "      <td>0</td>\n",
       "      <td>199</td>\n",
       "      <td>3061.777147</td>\n",
       "      <td>13.0</td>\n",
       "      <td>1</td>\n",
       "    </tr>\n",
       "    <tr>\n",
       "      <th>2</th>\n",
       "      <td>1</td>\n",
       "      <td>5</td>\n",
       "      <td>Адель</td>\n",
       "      <td>28</td>\n",
       "      <td>Омск</td>\n",
       "      <td>ultra</td>\n",
       "      <td>6</td>\n",
       "      <td>0</td>\n",
       "      <td>199</td>\n",
       "      <td>3914.646990</td>\n",
       "      <td>13.0</td>\n",
       "      <td>1</td>\n",
       "    </tr>\n",
       "    <tr>\n",
       "      <th>3</th>\n",
       "      <td>1</td>\n",
       "      <td>7</td>\n",
       "      <td>Игорь</td>\n",
       "      <td>23</td>\n",
       "      <td>Омск</td>\n",
       "      <td>ultra</td>\n",
       "      <td>6</td>\n",
       "      <td>0</td>\n",
       "      <td>199</td>\n",
       "      <td>6478.080979</td>\n",
       "      <td>28.0</td>\n",
       "      <td>2</td>\n",
       "    </tr>\n",
       "    <tr>\n",
       "      <th>4</th>\n",
       "      <td>1</td>\n",
       "      <td>12</td>\n",
       "      <td>Марк</td>\n",
       "      <td>27</td>\n",
       "      <td>Тюмень</td>\n",
       "      <td>ultra</td>\n",
       "      <td>6</td>\n",
       "      <td>0</td>\n",
       "      <td>199</td>\n",
       "      <td>3577.151148</td>\n",
       "      <td>33.0</td>\n",
       "      <td>1</td>\n",
       "    </tr>\n",
       "    <tr>\n",
       "      <th>...</th>\n",
       "      <td>...</td>\n",
       "      <td>...</td>\n",
       "      <td>...</td>\n",
       "      <td>...</td>\n",
       "      <td>...</td>\n",
       "      <td>...</td>\n",
       "      <td>...</td>\n",
       "      <td>...</td>\n",
       "      <td>...</td>\n",
       "      <td>...</td>\n",
       "      <td>...</td>\n",
       "      <td>...</td>\n",
       "    </tr>\n",
       "    <tr>\n",
       "      <th>11326</th>\n",
       "      <td>12</td>\n",
       "      <td>1525</td>\n",
       "      <td>Ирина</td>\n",
       "      <td>21</td>\n",
       "      <td>Омск</td>\n",
       "      <td>free</td>\n",
       "      <td>8</td>\n",
       "      <td>50</td>\n",
       "      <td>0</td>\n",
       "      <td>4597.854350</td>\n",
       "      <td>34.0</td>\n",
       "      <td>1</td>\n",
       "    </tr>\n",
       "    <tr>\n",
       "      <th>11327</th>\n",
       "      <td>12</td>\n",
       "      <td>1526</td>\n",
       "      <td>Александра</td>\n",
       "      <td>23</td>\n",
       "      <td>Омск</td>\n",
       "      <td>free</td>\n",
       "      <td>8</td>\n",
       "      <td>50</td>\n",
       "      <td>0</td>\n",
       "      <td>3644.121544</td>\n",
       "      <td>23.0</td>\n",
       "      <td>1</td>\n",
       "    </tr>\n",
       "    <tr>\n",
       "      <th>11328</th>\n",
       "      <td>12</td>\n",
       "      <td>1528</td>\n",
       "      <td>Анна</td>\n",
       "      <td>25</td>\n",
       "      <td>Пятигорск</td>\n",
       "      <td>free</td>\n",
       "      <td>8</td>\n",
       "      <td>50</td>\n",
       "      <td>0</td>\n",
       "      <td>3998.569324</td>\n",
       "      <td>11.0</td>\n",
       "      <td>1</td>\n",
       "    </tr>\n",
       "    <tr>\n",
       "      <th>11329</th>\n",
       "      <td>12</td>\n",
       "      <td>1532</td>\n",
       "      <td>Алексей</td>\n",
       "      <td>26</td>\n",
       "      <td>Тюмень</td>\n",
       "      <td>free</td>\n",
       "      <td>8</td>\n",
       "      <td>50</td>\n",
       "      <td>0</td>\n",
       "      <td>6111.889853</td>\n",
       "      <td>42.0</td>\n",
       "      <td>2</td>\n",
       "    </tr>\n",
       "    <tr>\n",
       "      <th>11330</th>\n",
       "      <td>12</td>\n",
       "      <td>1534</td>\n",
       "      <td>Альберт</td>\n",
       "      <td>25</td>\n",
       "      <td>Краснодар</td>\n",
       "      <td>free</td>\n",
       "      <td>8</td>\n",
       "      <td>50</td>\n",
       "      <td>0</td>\n",
       "      <td>2371.711192</td>\n",
       "      <td>16.0</td>\n",
       "      <td>1</td>\n",
       "    </tr>\n",
       "  </tbody>\n",
       "</table>\n",
       "<p>11331 rows × 12 columns</p>\n",
       "</div>"
      ],
      "text/plain": [
       "       month  user_id        name  age       city subscription_type  \\\n",
       "0          1        1        Кира   22     Тюмень             ultra   \n",
       "1          1        3     Алексей   20     Москва             ultra   \n",
       "2          1        5       Адель   28       Омск             ultra   \n",
       "3          1        7       Игорь   23       Омск             ultra   \n",
       "4          1       12        Марк   27     Тюмень             ultra   \n",
       "...      ...      ...         ...  ...        ...               ...   \n",
       "11326     12     1525       Ирина   21       Омск              free   \n",
       "11327     12     1526  Александра   23       Омск              free   \n",
       "11328     12     1528        Анна   25  Пятигорск              free   \n",
       "11329     12     1532     Алексей   26     Тюмень              free   \n",
       "11330     12     1534     Альберт   25  Краснодар              free   \n",
       "\n",
       "       minute_price  start_ride_price  subscription_fee     distance  \\\n",
       "0                 6                 0               199  7027.511294   \n",
       "1                 6                 0               199  3061.777147   \n",
       "2                 6                 0               199  3914.646990   \n",
       "3                 6                 0               199  6478.080979   \n",
       "4                 6                 0               199  3577.151148   \n",
       "...             ...               ...               ...          ...   \n",
       "11326             8                50                 0  4597.854350   \n",
       "11327             8                50                 0  3644.121544   \n",
       "11328             8                50                 0  3998.569324   \n",
       "11329             8                50                 0  6111.889853   \n",
       "11330             8                50                 0  2371.711192   \n",
       "\n",
       "       duration  rides  \n",
       "0          42.0      2  \n",
       "1          13.0      1  \n",
       "2          13.0      1  \n",
       "3          28.0      2  \n",
       "4          33.0      1  \n",
       "...         ...    ...  \n",
       "11326      34.0      1  \n",
       "11327      23.0      1  \n",
       "11328      11.0      1  \n",
       "11329      42.0      2  \n",
       "11330      16.0      1  \n",
       "\n",
       "[11331 rows x 12 columns]"
      ]
     },
     "execution_count": 77,
     "metadata": {},
     "output_type": "execute_result"
    }
   ],
   "source": [
    "go_all_aggr = go_all.groupby(['month', 'user_id']).agg(dict_for_agg).reset_index()\n",
    "\n",
    "go_all_aggr  # Проверка: посмотреть глазами что получается"
   ]
  },
  {
   "cell_type": "markdown",
   "id": "db42c6f3",
   "metadata": {},
   "source": [
    "Датафрейм с аггрегированными данными создан, данные (выборочно проверенные по Кире) выглядят корректно."
   ]
  },
  {
   "cell_type": "markdown",
   "id": "39642b68",
   "metadata": {},
   "source": [
    "### 5.2 В этот же датафрейм добавить столбец с помесячной выручкой, которую принёс каждый пользователь. "
   ]
  },
  {
   "cell_type": "markdown",
   "id": "29f4616c",
   "metadata": {},
   "source": [
    "\n"
   ]
  },
  {
   "cell_type": "markdown",
   "id": "27e5e06f",
   "metadata": {},
   "source": [
    "Судя по описанию выручка должна считаться следующим образом:      \n",
    "для клиентов без подписки ('free') - 50 рублей ( столбец 'start_ride_price') * на количество поездок в месяц ( т.е. на 'rides') + 8 рублей  ( столбец 'minute_price') * на суммарную длительность поездок в месяц ( т.е. на 'duration');       \n",
    "для клиентов с подпиской ('ultra') - 199 рублей в месяц ( столбец 'subscription_fee') + 6 рублей ( столбец 'minute_price') * на суммарную длительность поездок в месяц ( т.е. на 'duration').    \n",
    "Поскольку в соответствующих столбцах с тарифами в правильных местах стоят правильные цифры (включая нули) - то формула универсальная: 'start_ride_price' * 'rides' + 'minute_price' * 'duration' + 'subscription_fee'.      \n",
    "Отдельный вопрос, не озвученный в описании - вопрос по округлению (точнее два вопроса):        \n",
    "нужно ли округлять время до целого значения минут в большую сторону ( что насколько нам известно соответствует общепринятой практике) или не нужно. Поскольку в тех. задании этого требования нет - время округлять не будем;    \n",
    "а вот полученную сумму на наш взгляд есть смысл округлить до целых копеек.\n",
    "\n",
    "Создадим новый столбец 'revenue' и заполним его данными, рассчитывая стоимоть по формуле, изложенной выше."
   ]
  },
  {
   "cell_type": "code",
   "execution_count": 78,
   "id": "cdcfb646",
   "metadata": {},
   "outputs": [
    {
     "data": {
      "text/html": [
       "<div>\n",
       "<style scoped>\n",
       "    .dataframe tbody tr th:only-of-type {\n",
       "        vertical-align: middle;\n",
       "    }\n",
       "\n",
       "    .dataframe tbody tr th {\n",
       "        vertical-align: top;\n",
       "    }\n",
       "\n",
       "    .dataframe thead th {\n",
       "        text-align: right;\n",
       "    }\n",
       "</style>\n",
       "<table border=\"1\" class=\"dataframe\">\n",
       "  <thead>\n",
       "    <tr style=\"text-align: right;\">\n",
       "      <th></th>\n",
       "      <th>month</th>\n",
       "      <th>user_id</th>\n",
       "      <th>name</th>\n",
       "      <th>age</th>\n",
       "      <th>city</th>\n",
       "      <th>subscription_type</th>\n",
       "      <th>minute_price</th>\n",
       "      <th>start_ride_price</th>\n",
       "      <th>subscription_fee</th>\n",
       "      <th>distance</th>\n",
       "      <th>duration</th>\n",
       "      <th>rides</th>\n",
       "      <th>revenue</th>\n",
       "    </tr>\n",
       "  </thead>\n",
       "  <tbody>\n",
       "    <tr>\n",
       "      <th>0</th>\n",
       "      <td>1</td>\n",
       "      <td>1</td>\n",
       "      <td>Кира</td>\n",
       "      <td>22</td>\n",
       "      <td>Тюмень</td>\n",
       "      <td>ultra</td>\n",
       "      <td>6</td>\n",
       "      <td>0</td>\n",
       "      <td>199</td>\n",
       "      <td>7027.511294</td>\n",
       "      <td>42.0</td>\n",
       "      <td>2</td>\n",
       "      <td>0.0</td>\n",
       "    </tr>\n",
       "    <tr>\n",
       "      <th>1</th>\n",
       "      <td>1</td>\n",
       "      <td>3</td>\n",
       "      <td>Алексей</td>\n",
       "      <td>20</td>\n",
       "      <td>Москва</td>\n",
       "      <td>ultra</td>\n",
       "      <td>6</td>\n",
       "      <td>0</td>\n",
       "      <td>199</td>\n",
       "      <td>3061.777147</td>\n",
       "      <td>13.0</td>\n",
       "      <td>1</td>\n",
       "      <td>0.0</td>\n",
       "    </tr>\n",
       "    <tr>\n",
       "      <th>2</th>\n",
       "      <td>1</td>\n",
       "      <td>5</td>\n",
       "      <td>Адель</td>\n",
       "      <td>28</td>\n",
       "      <td>Омск</td>\n",
       "      <td>ultra</td>\n",
       "      <td>6</td>\n",
       "      <td>0</td>\n",
       "      <td>199</td>\n",
       "      <td>3914.646990</td>\n",
       "      <td>13.0</td>\n",
       "      <td>1</td>\n",
       "      <td>0.0</td>\n",
       "    </tr>\n",
       "    <tr>\n",
       "      <th>3</th>\n",
       "      <td>1</td>\n",
       "      <td>7</td>\n",
       "      <td>Игорь</td>\n",
       "      <td>23</td>\n",
       "      <td>Омск</td>\n",
       "      <td>ultra</td>\n",
       "      <td>6</td>\n",
       "      <td>0</td>\n",
       "      <td>199</td>\n",
       "      <td>6478.080979</td>\n",
       "      <td>28.0</td>\n",
       "      <td>2</td>\n",
       "      <td>0.0</td>\n",
       "    </tr>\n",
       "    <tr>\n",
       "      <th>4</th>\n",
       "      <td>1</td>\n",
       "      <td>12</td>\n",
       "      <td>Марк</td>\n",
       "      <td>27</td>\n",
       "      <td>Тюмень</td>\n",
       "      <td>ultra</td>\n",
       "      <td>6</td>\n",
       "      <td>0</td>\n",
       "      <td>199</td>\n",
       "      <td>3577.151148</td>\n",
       "      <td>33.0</td>\n",
       "      <td>1</td>\n",
       "      <td>0.0</td>\n",
       "    </tr>\n",
       "  </tbody>\n",
       "</table>\n",
       "</div>"
      ],
      "text/plain": [
       "   month  user_id     name  age    city subscription_type  minute_price  \\\n",
       "0      1        1     Кира   22  Тюмень             ultra             6   \n",
       "1      1        3  Алексей   20  Москва             ultra             6   \n",
       "2      1        5    Адель   28    Омск             ultra             6   \n",
       "3      1        7    Игорь   23    Омск             ultra             6   \n",
       "4      1       12     Марк   27  Тюмень             ultra             6   \n",
       "\n",
       "   start_ride_price  subscription_fee     distance  duration  rides  revenue  \n",
       "0                 0               199  7027.511294      42.0      2      0.0  \n",
       "1                 0               199  3061.777147      13.0      1      0.0  \n",
       "2                 0               199  3914.646990      13.0      1      0.0  \n",
       "3                 0               199  6478.080979      28.0      2      0.0  \n",
       "4                 0               199  3577.151148      33.0      1      0.0  "
      ]
     },
     "execution_count": 78,
     "metadata": {},
     "output_type": "execute_result"
    }
   ],
   "source": [
    "go_all_aggr['revenue'] = 0.0\n",
    "\n",
    "go_all_aggr.head(5) # Проверка: посмотреть глазами что получается "
   ]
  },
  {
   "cell_type": "code",
   "execution_count": 79,
   "id": "c22965ad",
   "metadata": {},
   "outputs": [
    {
     "data": {
      "text/html": [
       "<div>\n",
       "<style scoped>\n",
       "    .dataframe tbody tr th:only-of-type {\n",
       "        vertical-align: middle;\n",
       "    }\n",
       "\n",
       "    .dataframe tbody tr th {\n",
       "        vertical-align: top;\n",
       "    }\n",
       "\n",
       "    .dataframe thead th {\n",
       "        text-align: right;\n",
       "    }\n",
       "</style>\n",
       "<table border=\"1\" class=\"dataframe\">\n",
       "  <thead>\n",
       "    <tr style=\"text-align: right;\">\n",
       "      <th></th>\n",
       "      <th>month</th>\n",
       "      <th>user_id</th>\n",
       "      <th>name</th>\n",
       "      <th>age</th>\n",
       "      <th>city</th>\n",
       "      <th>subscription_type</th>\n",
       "      <th>minute_price</th>\n",
       "      <th>start_ride_price</th>\n",
       "      <th>subscription_fee</th>\n",
       "      <th>distance</th>\n",
       "      <th>duration</th>\n",
       "      <th>rides</th>\n",
       "      <th>revenue</th>\n",
       "    </tr>\n",
       "  </thead>\n",
       "  <tbody>\n",
       "    <tr>\n",
       "      <th>0</th>\n",
       "      <td>1</td>\n",
       "      <td>1</td>\n",
       "      <td>Кира</td>\n",
       "      <td>22</td>\n",
       "      <td>Тюмень</td>\n",
       "      <td>ultra</td>\n",
       "      <td>6</td>\n",
       "      <td>0</td>\n",
       "      <td>199</td>\n",
       "      <td>7027.511294</td>\n",
       "      <td>42.0</td>\n",
       "      <td>2</td>\n",
       "      <td>451.0</td>\n",
       "    </tr>\n",
       "    <tr>\n",
       "      <th>1</th>\n",
       "      <td>1</td>\n",
       "      <td>3</td>\n",
       "      <td>Алексей</td>\n",
       "      <td>20</td>\n",
       "      <td>Москва</td>\n",
       "      <td>ultra</td>\n",
       "      <td>6</td>\n",
       "      <td>0</td>\n",
       "      <td>199</td>\n",
       "      <td>3061.777147</td>\n",
       "      <td>13.0</td>\n",
       "      <td>1</td>\n",
       "      <td>277.0</td>\n",
       "    </tr>\n",
       "    <tr>\n",
       "      <th>2</th>\n",
       "      <td>1</td>\n",
       "      <td>5</td>\n",
       "      <td>Адель</td>\n",
       "      <td>28</td>\n",
       "      <td>Омск</td>\n",
       "      <td>ultra</td>\n",
       "      <td>6</td>\n",
       "      <td>0</td>\n",
       "      <td>199</td>\n",
       "      <td>3914.646990</td>\n",
       "      <td>13.0</td>\n",
       "      <td>1</td>\n",
       "      <td>277.0</td>\n",
       "    </tr>\n",
       "    <tr>\n",
       "      <th>3</th>\n",
       "      <td>1</td>\n",
       "      <td>7</td>\n",
       "      <td>Игорь</td>\n",
       "      <td>23</td>\n",
       "      <td>Омск</td>\n",
       "      <td>ultra</td>\n",
       "      <td>6</td>\n",
       "      <td>0</td>\n",
       "      <td>199</td>\n",
       "      <td>6478.080979</td>\n",
       "      <td>28.0</td>\n",
       "      <td>2</td>\n",
       "      <td>367.0</td>\n",
       "    </tr>\n",
       "    <tr>\n",
       "      <th>4</th>\n",
       "      <td>1</td>\n",
       "      <td>12</td>\n",
       "      <td>Марк</td>\n",
       "      <td>27</td>\n",
       "      <td>Тюмень</td>\n",
       "      <td>ultra</td>\n",
       "      <td>6</td>\n",
       "      <td>0</td>\n",
       "      <td>199</td>\n",
       "      <td>3577.151148</td>\n",
       "      <td>33.0</td>\n",
       "      <td>1</td>\n",
       "      <td>397.0</td>\n",
       "    </tr>\n",
       "  </tbody>\n",
       "</table>\n",
       "</div>"
      ],
      "text/plain": [
       "   month  user_id     name  age    city subscription_type  minute_price  \\\n",
       "0      1        1     Кира   22  Тюмень             ultra             6   \n",
       "1      1        3  Алексей   20  Москва             ultra             6   \n",
       "2      1        5    Адель   28    Омск             ultra             6   \n",
       "3      1        7    Игорь   23    Омск             ultra             6   \n",
       "4      1       12     Марк   27  Тюмень             ultra             6   \n",
       "\n",
       "   start_ride_price  subscription_fee     distance  duration  rides  revenue  \n",
       "0                 0               199  7027.511294      42.0      2    451.0  \n",
       "1                 0               199  3061.777147      13.0      1    277.0  \n",
       "2                 0               199  3914.646990      13.0      1    277.0  \n",
       "3                 0               199  6478.080979      28.0      2    367.0  \n",
       "4                 0               199  3577.151148      33.0      1    397.0  "
      ]
     },
     "execution_count": 79,
     "metadata": {},
     "output_type": "execute_result"
    }
   ],
   "source": [
    "go_all_aggr['revenue'] = go_all_aggr['minute_price'] * go_all_aggr['duration'] + \\\n",
    "                         go_all_aggr['start_ride_price'] * go_all_aggr['rides'] + \\\n",
    "                         go_all_aggr['subscription_fee']\n",
    "\n",
    "go_all_aggr['revenue'] = round(go_all_aggr['revenue'], 2 )                                             \n",
    " \n",
    "go_all_aggr.head(5) # Проверка: посмотреть глазами что получается "
   ]
  },
  {
   "cell_type": "code",
   "execution_count": 80,
   "id": "0190935d",
   "metadata": {},
   "outputs": [
    {
     "data": {
      "text/plain": [
       "subscription_type\n",
       "free     328.641365\n",
       "ultra    362.792191\n",
       "Name: revenue, dtype: float64"
      ]
     },
     "execution_count": 80,
     "metadata": {},
     "output_type": "execute_result"
    }
   ],
   "source": [
    "# Код ревьюера\n",
    "go_all_aggr.groupby('subscription_type')['revenue'].mean()"
   ]
  },
  {
   "cell_type": "markdown",
   "id": "7a8dc072",
   "metadata": {},
   "source": [
    "Помесячная выручка посчитана в разрезе клиентов, цифры похожи на правду.\n",
    "\n",
    "Посчитаем еще общую выручку компании по всем клиентам в месяц."
   ]
  },
  {
   "cell_type": "code",
   "execution_count": 81,
   "id": "af363d4d",
   "metadata": {},
   "outputs": [
    {
     "data": {
      "text/plain": [
       "month\n",
       "1     341.371717\n",
       "2     328.910532\n",
       "3     346.451681\n",
       "4     348.345200\n",
       "5     344.851738\n",
       "6     340.403242\n",
       "7     345.067227\n",
       "8     343.150685\n",
       "9     346.606223\n",
       "10    342.410423\n",
       "11    336.217822\n",
       "12    342.903260\n",
       "Name: revenue, dtype: float64"
      ]
     },
     "execution_count": 81,
     "metadata": {},
     "output_type": "execute_result"
    }
   ],
   "source": [
    "revenue_month_user = pd.DataFrame()\n",
    "revenue_month_user[['month','user_id','revenue']] = go_all_aggr[['month','user_id','revenue']]\n",
    "revenue_month_user_mean= revenue_month_user.groupby(['month'])['revenue'].agg('mean')\n",
    "\n",
    "revenue_month_user_mean  # Проверка: посмотреть глазами что получается"
   ]
  },
  {
   "cell_type": "code",
   "execution_count": 82,
   "id": "c4497e04",
   "metadata": {},
   "outputs": [
    {
     "name": "stdout",
     "output_type": "stream",
     "text": [
      "342.0\n",
      "329.0\n",
      "348.0\n"
     ]
    }
   ],
   "source": [
    "print(round(revenue_month_user_mean.mean(),0))\n",
    "print(round(revenue_month_user_mean.min(),0))\n",
    "print(round(revenue_month_user_mean.max(),0))"
   ]
  },
  {
   "cell_type": "markdown",
   "id": "9851f623",
   "metadata": {},
   "source": [
    "Средняя выручка на клиента в месяц равна 342 рублей.       \n",
    "Разброс значений - от 329 до 348 рублей.\n",
    "\n",
    "Посчитаем еще общую выручку компании по всем клиентам в месяц."
   ]
  },
  {
   "cell_type": "code",
   "execution_count": 83,
   "id": "eb320b7b",
   "metadata": {},
   "outputs": [
    {
     "data": {
      "text/html": [
       "<div>\n",
       "<style scoped>\n",
       "    .dataframe tbody tr th:only-of-type {\n",
       "        vertical-align: middle;\n",
       "    }\n",
       "\n",
       "    .dataframe tbody tr th {\n",
       "        vertical-align: top;\n",
       "    }\n",
       "\n",
       "    .dataframe thead th {\n",
       "        text-align: right;\n",
       "    }\n",
       "</style>\n",
       "<table border=\"1\" class=\"dataframe\">\n",
       "  <thead>\n",
       "    <tr style=\"text-align: right;\">\n",
       "      <th></th>\n",
       "      <th>revenue</th>\n",
       "    </tr>\n",
       "    <tr>\n",
       "      <th>month</th>\n",
       "      <th></th>\n",
       "    </tr>\n",
       "  </thead>\n",
       "  <tbody>\n",
       "    <tr>\n",
       "      <th>1</th>\n",
       "      <td>337958.0</td>\n",
       "    </tr>\n",
       "    <tr>\n",
       "      <th>2</th>\n",
       "      <td>290428.0</td>\n",
       "    </tr>\n",
       "    <tr>\n",
       "      <th>3</th>\n",
       "      <td>329822.0</td>\n",
       "    </tr>\n",
       "    <tr>\n",
       "      <th>4</th>\n",
       "      <td>322916.0</td>\n",
       "    </tr>\n",
       "    <tr>\n",
       "      <th>5</th>\n",
       "      <td>337265.0</td>\n",
       "    </tr>\n",
       "    <tr>\n",
       "      <th>6</th>\n",
       "      <td>335978.0</td>\n",
       "    </tr>\n",
       "    <tr>\n",
       "      <th>7</th>\n",
       "      <td>328504.0</td>\n",
       "    </tr>\n",
       "    <tr>\n",
       "      <th>8</th>\n",
       "      <td>325650.0</td>\n",
       "    </tr>\n",
       "    <tr>\n",
       "      <th>9</th>\n",
       "      <td>323037.0</td>\n",
       "    </tr>\n",
       "    <tr>\n",
       "      <th>10</th>\n",
       "      <td>315360.0</td>\n",
       "    </tr>\n",
       "    <tr>\n",
       "      <th>11</th>\n",
       "      <td>305622.0</td>\n",
       "    </tr>\n",
       "    <tr>\n",
       "      <th>12</th>\n",
       "      <td>326101.0</td>\n",
       "    </tr>\n",
       "  </tbody>\n",
       "</table>\n",
       "</div>"
      ],
      "text/plain": [
       "        revenue\n",
       "month          \n",
       "1      337958.0\n",
       "2      290428.0\n",
       "3      329822.0\n",
       "4      322916.0\n",
       "5      337265.0\n",
       "6      335978.0\n",
       "7      328504.0\n",
       "8      325650.0\n",
       "9      323037.0\n",
       "10     315360.0\n",
       "11     305622.0\n",
       "12     326101.0"
      ]
     },
     "execution_count": 83,
     "metadata": {},
     "output_type": "execute_result"
    }
   ],
   "source": [
    "revenue_month_tot = pd.DataFrame()\n",
    "revenue_month_tot[['month','revenue']] = go_all_aggr[['month','revenue']]\n",
    "revenue_month_total= revenue_month_tot.groupby('month').agg('sum')\n",
    "\n",
    "revenue_month_total  # Проверка: посмотреть глазами что получается"
   ]
  },
  {
   "cell_type": "markdown",
   "id": "d0151f43",
   "metadata": {},
   "source": [
    "Ну и средняя суммарная выручка в месяц."
   ]
  },
  {
   "cell_type": "code",
   "execution_count": 84,
   "id": "f3a5da66",
   "metadata": {},
   "outputs": [
    {
     "name": "stdout",
     "output_type": "stream",
     "text": [
      "323220.0\n",
      "290428.0\n",
      "337958.0\n"
     ]
    }
   ],
   "source": [
    "print( round(revenue_month_total['revenue'].mean(), 0) )\n",
    "print( round(revenue_month_total['revenue'].min(), 0) )\n",
    "print( round(revenue_month_total['revenue'].max(), 0) )"
   ]
  },
  {
   "cell_type": "markdown",
   "id": "4fd85153",
   "metadata": {},
   "source": [
    "Средняя в месяц выручка сервиса составляет 323220 рубля. Разброс значений - от 290428 (в феврале) до 337958 рублей (в январе)."
   ]
  },
  {
   "cell_type": "markdown",
   "id": "aa6858fc",
   "metadata": {},
   "source": [
    "\n"
   ]
  },
  {
   "cell_type": "markdown",
   "id": "2972e1ba",
   "metadata": {},
   "source": [
    "## Шаг 6. Проверка гипотез\n",
    "### Продакт-менеджеры сервиса хотят увеличить количество пользователей с подпиской. Для этого они будут проводить различные акции, но сначала нужно выяснить несколько важных моментов."
   ]
  },
  {
   "cell_type": "markdown",
   "id": "e8e5c709",
   "metadata": {},
   "source": [
    "### 6.1 Проверить, тратят ли пользователи с подпиской больше времени на поездки?"
   ]
  },
  {
   "cell_type": "markdown",
   "id": "d3cffd3c",
   "metadata": {},
   "source": [
    "\n"
   ]
  },
  {
   "cell_type": "markdown",
   "id": "f96b7a3f",
   "metadata": {},
   "source": [
    "Из постановки вопроса нет однозначного понимания что в точности нужно  проверить.    \n",
    "Возможны минимум два варианта постановки задачи:      \n",
    "1. Проверить тратят ли пользователи с подпиской в среднем больше времени на одну поездку;       \n",
    "либо                \n",
    "2. Проверить находятся ли пользователи с подпиской в среднем больше времени за рулем самоката в месяц (с учетом возможно большего количества поездок)\n",
    "\n",
    "Поскольку по прочтении непонятно какой именно вариант имеется ввиду - разберем и проверим оба варианта. "
   ]
  },
  {
   "cell_type": "markdown",
   "id": "572a8fff",
   "metadata": {},
   "source": [
    "Начнем с первого варианта вопроса: действительно ли длительность поездки для категории подписчиков \"ultra\" в среднем больше, чем для разовых пользователей \"free\"\n",
    "\n",
    "Мы ранее уже разделяли данные о поездках из датафрейма 'go_all' на два датафрейма в зависимости от подписки - 'go_free' (поездки пользователей без подписки) и 'go_ultra' (поездки клиентов с подпиской \"ультра\").      \n",
    "На основе этих данных легко получить основные статистические данные по длительности поездок в каждой группе и посмотреть.\n",
    "\n",
    "Посмотрим"
   ]
  },
  {
   "cell_type": "code",
   "execution_count": 85,
   "id": "42949e4c",
   "metadata": {},
   "outputs": [
    {
     "data": {
      "text/plain": [
       "count    18068.000000\n",
       "mean        18.303520\n",
       "std          6.094928\n",
       "min          1.000000\n",
       "25%         14.000000\n",
       "50%         18.000000\n",
       "75%         22.000000\n",
       "max         41.000000\n",
       "Name: duration, dtype: float64"
      ]
     },
     "execution_count": 85,
     "metadata": {},
     "output_type": "execute_result"
    }
   ],
   "source": [
    "go_all['duration'].describe()"
   ]
  },
  {
   "cell_type": "code",
   "execution_count": 86,
   "id": "fd39e895",
   "metadata": {},
   "outputs": [
    {
     "data": {
      "text/plain": [
       "count    11568.000000\n",
       "mean        17.390909\n",
       "std          6.326803\n",
       "min          0.500000\n",
       "25%         12.958437\n",
       "50%         17.326890\n",
       "75%         21.594071\n",
       "max         34.948498\n",
       "Name: duration, dtype: float64"
      ]
     },
     "execution_count": 86,
     "metadata": {},
     "output_type": "execute_result"
    }
   ],
   "source": [
    "go_free['duration'].describe()"
   ]
  },
  {
   "cell_type": "code",
   "execution_count": 87,
   "id": "38527fa6",
   "metadata": {},
   "outputs": [
    {
     "data": {
      "text/plain": [
       "count    6500.000000\n",
       "mean       18.541985\n",
       "std         5.572048\n",
       "min         3.760353\n",
       "25%        14.524654\n",
       "50%        18.178153\n",
       "75%        21.884129\n",
       "max        40.823963\n",
       "Name: duration, dtype: float64"
      ]
     },
     "execution_count": 87,
     "metadata": {},
     "output_type": "execute_result"
    }
   ],
   "source": [
    "go_ultra['duration'].describe()"
   ]
  },
  {
   "cell_type": "markdown",
   "id": "f876df6e",
   "metadata": {},
   "source": [
    "Отчасти мы уже смотрели эти параметры, когда анализировали распределения встречаемости дазличных длительностей для этих групп пользователей. Так что возможно часть выводов будет повторяться и подтверждаться.\n",
    "\n",
    "Итак, видим:\n",
    "\n",
    "1. Поездки клиентов с подпиской \"ультра\" составляют 36% от всех поездок пользователей сервиса ( 6500 из 18068). Соответственно 64% поездок пользователей, которые уже пользуются сервисом, но не имеют подписки ( 11568 ) - хороший резерв для расширения числа подписчиков.      \n",
    "2. Распределение по группе клиентов с подпиской \"ультра\" имеет несколько более высокую среднюю и медианую длительность поездки нежели пользователи без подписки - 18.5 минуты против 17.4 для среднего и 18.5 минуты против 17.4 для медианы. \n",
    "3. Стандартное отклонение в группе подписчиков \"ультра\" на 12% ниже, чем у \"разовых\" пользователей (5.57 минут против 6.32)."
   ]
  },
  {
   "cell_type": "markdown",
   "id": "24cf94b6",
   "metadata": {},
   "source": [
    "Исходя из выводов выше, (как мы отмечали ранее) - похоже, что подписчики ездят немного более спокойно, нежели \"разовые\" пользователи. То есть тратят больше времени на поездки.         \n",
    "Однако разница невелика и возникает вопрос насколько она статистически значима.    \n",
    "Нужно так-же иметь ввиду, что выборки для подписчиков и разовых пользователей разные по размеру и дисперсии у них никак не могут считаться равными.\n",
    "\n",
    "Поэтому попробуем проверить гипотезу о том, что средние длительности поездки для совокупностей данных подписчиков и разовах пользователей одинаковы с односторонней альтернативной гипотезой, что длительность поездки для подписчиков значимо меньше, чем для разовых пользователей.     \n",
    "Будем считать, что совокупности независимы друг от друга (строго говоря это не совсем так, поскольку и одни и другие пользуются услугами одной и той же компании, одними и теми же самокатами с одними и теми же характеристиками и проблемами и т.д.; но в поездке каждый ездок свободен и поэтому допущение считаем валидным).       \n",
    "Применим функцию st.ttest_ind() для столбцов  'duration' датафреймов array_1 = go_ultra (подписчики) и array_1 = go_free (разовые пользователи).   \n",
    "При этом, поскольку go_ultra идет первым массивом, а альтернативная гипотеза у нас, что среднее у go_ultra больше - параметр alternative выставим в положение 'greater'.       \n",
    "Кроме того, поскольку, как мы отметили выше, параметры выборок заметно отличаются и по размеру и по стандартному отклонению - параметр equal_var поставим равным False.         \n",
    "Уровень статистической значимости alpha возьмем равным 5%. Если р-значение на выходе теста будет меньше нее, то гипотеза о равенстве средних будет отвергнута."
   ]
  },
  {
   "cell_type": "markdown",
   "id": "dc1dc17e",
   "metadata": {},
   "source": [
    "Итак, проверяем следующее:      \n",
    "\n",
    "- Нулевая гипотеза: средние длительности поездок для обеих категорий равны;     \n",
    "- Альтернативная односторонняя гипотеза: средняя дяльность поездки для категории подписчиков статистически значимо больше средней длительности поездки для категории разовых пользователей."
   ]
  },
  {
   "cell_type": "code",
   "execution_count": 88,
   "id": "729d0b54",
   "metadata": {},
   "outputs": [
    {
     "name": "stdout",
     "output_type": "stream",
     "text": [
      "p-значение: 5.6757813771289775e-37\n",
      "Отвергаем нулевую гипотезу\n"
     ]
    }
   ],
   "source": [
    "alpha = 0.05\n",
    "\n",
    "results = st.ttest_ind( go_ultra['duration'], go_free['duration'], equal_var = False, alternative = 'greater')\n",
    "\n",
    "print('p-значение:', results.pvalue)\n",
    "\n",
    "if results.pvalue < alpha:\n",
    "    print('Отвергаем нулевую гипотезу')\n",
    "else:\n",
    "    print('Не получилось отвергнуть нулевую гипотезу')"
   ]
  },
  {
   "cell_type": "markdown",
   "id": "4fbe19e0",
   "metadata": {
    "scrolled": true
   },
   "source": [
    "Вывод:\n",
    "\n",
    "Пока наши предположения подтверждаются ( в смысле не опровергаются):       \n",
    "Гипотеза о том, что средние длительности поездок для обеих категорий равны была отвергнута в пользу гипотезы о том, что средняя длительность поездки для категории подписчиков статистически значимо больше средней длительности поездки для категории разовых пользователей. "
   ]
  },
  {
   "cell_type": "markdown",
   "id": "8accaaf3",
   "metadata": {},
   "source": [
    "Теперь попробуем ответить на вторую возможную формулировку этого же вопроса (и протестировать гипотезу об этом): проводят ли пользователи с подпиской в среднем больше времени за рулем самоката в месяц.\n",
    "\n",
    "Данные о длительности всех поездок каждого клиента за месяц хранятся в датафрейме go_all_aggr.       \n",
    "Разделим его на два датафрейма в зависимости от подписки так же, как мы ранее уже разделяли данные о поездках из датафрейма 'go_all':  'go_free_aggr' - поездки пользователей без подписки и 'go_ultra_aggr' - поездки клиентов с подпиской \"ультра\".      \n",
    "На основе этих данных легко получить основные статистические данные по суммарному времени, проведенному каждым клиентом в поездках по каждой группе.     \n",
    "Нас будет интересовать столбец 'duration'.\n",
    "\n",
    "Создадим датафреймы и посмотрим"
   ]
  },
  {
   "cell_type": "code",
   "execution_count": 89,
   "id": "8506a7eb",
   "metadata": {},
   "outputs": [
    {
     "data": {
      "text/plain": [
       "count    11331.000000\n",
       "mean        29.186127\n",
       "std         16.752464\n",
       "min          1.000000\n",
       "25%         17.000000\n",
       "50%         24.000000\n",
       "75%         38.000000\n",
       "max        143.000000\n",
       "Name: duration, dtype: float64"
      ]
     },
     "execution_count": 89,
     "metadata": {},
     "output_type": "execute_result"
    }
   ],
   "source": [
    "go_all_aggr['duration'].describe()"
   ]
  },
  {
   "cell_type": "code",
   "execution_count": 90,
   "id": "93c3bf74",
   "metadata": {},
   "outputs": [
    {
     "data": {
      "text/plain": [
       "count    4533.000000\n",
       "mean       27.298698\n",
       "std        14.710456\n",
       "min         4.000000\n",
       "25%        17.000000\n",
       "50%        23.000000\n",
       "75%        35.000000\n",
       "max       126.000000\n",
       "Name: duration, dtype: float64"
      ]
     },
     "execution_count": 90,
     "metadata": {},
     "output_type": "execute_result"
    }
   ],
   "source": [
    "go_ultra_aggr = go_all_aggr[go_all_aggr['subscription_type'] == 'ultra']\n",
    "\n",
    "go_ultra_aggr['duration'].describe()"
   ]
  },
  {
   "cell_type": "code",
   "execution_count": 91,
   "id": "637ac3d5",
   "metadata": {},
   "outputs": [
    {
     "data": {
      "text/plain": [
       "count    6798.000000\n",
       "mean       30.444690\n",
       "std        17.876362\n",
       "min         1.000000\n",
       "25%        18.000000\n",
       "50%        26.000000\n",
       "75%        40.000000\n",
       "max       143.000000\n",
       "Name: duration, dtype: float64"
      ]
     },
     "execution_count": 91,
     "metadata": {},
     "output_type": "execute_result"
    }
   ],
   "source": [
    "go_free_aggr = go_all_aggr[go_all_aggr['subscription_type'] == 'free']\n",
    "\n",
    "go_free_aggr['duration'].describe()"
   ]
  },
  {
   "cell_type": "markdown",
   "id": "05dbe918",
   "metadata": {},
   "source": [
    "Датафреймы созданы. \n",
    "\n",
    "По основным статпараметрам видим:     \n",
    "1. Распределение по группе клиентов с подпиской \"ультра\" имеет  меньшее среднее время всех поездок нежели для пользователей без подписки - 26.6 поездки против 29.6.        \n",
    "2. Стандартное отклонение в группе подписчиков на 18% ниже, чем у \"разовых\" пользователей (14.4 против 17.5 минут).   "
   ]
  },
  {
   "cell_type": "markdown",
   "id": "baab4ccd",
   "metadata": {},
   "source": [
    "Поскольку в статистических параметрах среднее суммарное время поездок каждого клиента в месяц по группе подписчиков не только не больше, но даже меньше среднего суммарного времени для группы разовых пользователей, по всей видимости проводить тестирование нет смысла.\n",
    "Проведем его с единственной целью убедится в этом.\n",
    "\n",
    "Так же как мы делали с длительностью одной поездки, применим функцию st.ttest_ind() для столбцов 'duration' датафреймов array_1 = go_ultra_aggr (подписчики) и array_1 = go_free_aggr (пользователи без подписки).\n",
    "При этом, параметр alternative выставим в положение 'greater', параметр equal_var поставим равным False.\n",
    "Уровень статистической значимости возьмем равным 5%.      \n",
    "По прежнему если р-значение на выходе теста будет меньше нее, то гипотеза о равенстве средних будет отвергнута в пользу гипотезы о том, что среднее суммарное время поездок каждого клиента в месяц по группе подписчиков больше, чем по группе без подписки."
   ]
  },
  {
   "cell_type": "code",
   "execution_count": 92,
   "id": "410dc880",
   "metadata": {},
   "outputs": [
    {
     "name": "stdout",
     "output_type": "stream",
     "text": [
      "p-значение: 1.0\n",
      "Не получилось отвергнуть нулевую гипотезу\n"
     ]
    }
   ],
   "source": [
    "alpha = 0.05\n",
    "\n",
    "results = st.ttest_ind( go_ultra_aggr['duration'], go_free_aggr['duration'], equal_var = False, alternative = 'greater')\n",
    "\n",
    "print('p-значение:', results.pvalue)\n",
    "\n",
    "if results.pvalue < alpha:\n",
    "    print('Отвергаем нулевую гипотезу')\n",
    "else:\n",
    "    print('Не получилось отвергнуть нулевую гипотезу')"
   ]
  },
  {
   "cell_type": "markdown",
   "id": "c384cbc3",
   "metadata": {
    "scrolled": true
   },
   "source": [
    "Вывод:\n",
    "\n",
    "Как мы и предположили, гипотеза о том, что среднее суммарное время поездок каждого клиента в месяц по группам подписчиков и не-подписчиков не опровергнута.\n",
    "Это означает, что альтернативная гипотеза о том, что среднее суммарное время поездок каждого клиента в месяц по группе подписчиков больше, чем по группе без подписки - не нашла подтверждения."
   ]
  },
  {
   "cell_type": "markdown",
   "id": "1405d040",
   "metadata": {},
   "source": [
    "Таким образом:\n",
    "\n",
    "Хотя средняя продолжительность каждой поездки для клиентов с подпиской \"ультра\" больше, чем для пользователей без подписки, однако средняя суммарная продолжительность всех поездок клиента в месяц для группы клиентов с подпиской \"ультра\" не больше (а на самом деле - меньше), чем чем для группы пользователей без подписки - за счет меньшего количества поездок в месяц.\n",
    "\n",
    "По всей видимости клиенты выбирают подписку не из желания увеличить интенсивность поездок или соображений экономии, а из желания получить больший уровень комфорта.\n"
   ]
  },
  {
   "cell_type": "markdown",
   "id": "c356475e",
   "metadata": {},
   "source": [
    "### 6.2 Проверить гипотезу, что расстояние, которое проезжают пользователи с подпиской за одну поездку, не превышает 3130 метров — оптимальное с точки зрения износа самоката."
   ]
  },
  {
   "cell_type": "markdown",
   "id": "7c19a1b9",
   "metadata": {},
   "source": [
    "\n"
   ]
  },
  {
   "cell_type": "markdown",
   "id": "a21d724d",
   "metadata": {},
   "source": [
    "Данные о каждой поездке для клиентов категории обладателей подписки \"ultra\" мы уже выделяли в отдельный датафрейм go_ultra.    \n",
    "\n",
    "Посмотрим на основные статистические параметры столбца 'distance' этого датафрейма. "
   ]
  },
  {
   "cell_type": "code",
   "execution_count": 93,
   "id": "ad239997",
   "metadata": {},
   "outputs": [
    {
     "data": {
      "text/plain": [
       "count    6500.000000\n",
       "mean     3115.445388\n",
       "std       836.895330\n",
       "min       244.210438\n",
       "25%      2785.444017\n",
       "50%      3148.637229\n",
       "75%      3560.574425\n",
       "max      5699.769662\n",
       "Name: distance, dtype: float64"
      ]
     },
     "execution_count": 93,
     "metadata": {},
     "output_type": "execute_result"
    }
   ],
   "source": [
    "go_ultra['distance'].describe()"
   ]
  },
  {
   "cell_type": "markdown",
   "id": "6f8dcd35",
   "metadata": {},
   "source": [
    "По данным видно, что среднее расстояние, пройденное в каждой поездке для клиентов категории обладателей подписки \"ultra\" равно 3115,5 метров.    \n",
    "Это меньше оптимальных с точки зрения износа 3130 метров, однако разница невелика (пол-процента) и вопрос насколько она статистически значима актуален.\n",
    "\n",
    "Попробуем проверить (нулевую) гипотезу о том, что средняя дальность одной поездки клиента категории обладателей подписки \"ultra\" равна 3130 метров с (односторонней) альтернативной гипотезой, что эта дальность больше оптимальной.\n",
    "Соответственно если нулевая гипотеза подтвердится это и будет означать, что средняя дальность не больше оптимальной ( то есть может равна, а может и меньше).\n",
    "\n",
    "Проверять гипотезу будем применяя функцию st.ttest_1samp для столбца 'distance' датафрейма go_ultra.    \n",
    "При этом параметр alternative выставим в положение 'greater'.    \n",
    "Уровень статистической значимости alpha возьмем равным 5%. Если р-значение на выходе теста будет меньше нее, то гипотеза о равенстве (на самам деле - о непревышении) средней дальности поездки оптимальной будет отвергнута."
   ]
  },
  {
   "cell_type": "code",
   "execution_count": 94,
   "id": "6dc1d55c",
   "metadata": {},
   "outputs": [
    {
     "name": "stdout",
     "output_type": "stream",
     "text": [
      "p-значение: 0.9195368847849785\n",
      "Не получилось отвергнуть нулевую гипотезу: среднее расстояние НЕ больше оптимального\n"
     ]
    }
   ],
   "source": [
    "optimal_distance = 3130  # Оптимальное расстояние с точки зрения износа самоката\n",
    "\n",
    "alpha = 0.05 # уровень статистической значимости\n",
    "\n",
    "results = st.ttest_1samp(go_ultra['distance'], optimal_distance, alternative='greater')\n",
    "\n",
    "print('p-значение:', results.pvalue)\n",
    "\n",
    "if results.pvalue < alpha: \n",
    "    print('Отвергаем нулевую гипотезу: среднее расстояние значимо больше оптимального')\n",
    "else:\n",
    "    print('Не получилось отвергнуть нулевую гипотезу: среднее расстояние НЕ больше оптимального')"
   ]
  },
  {
   "cell_type": "markdown",
   "id": "30874f97",
   "metadata": {},
   "source": [
    "В постановке вопроса значится проверка \"что среднее расстояние не превышает 3130 метров\".      \n",
    "Однако для чистоты эксперимента сразу же проверим альтернативную гипотезу \"в другую сторону\" - о том, что среднее значимо меньше оптимального."
   ]
  },
  {
   "cell_type": "code",
   "execution_count": 95,
   "id": "3951f593",
   "metadata": {},
   "outputs": [
    {
     "name": "stdout",
     "output_type": "stream",
     "text": [
      "p-значение: 0.08046311521502146\n",
      "Не получилось отвергнуть нулевую гипотезу: среднее расстояние НЕ меньше оптимального\n"
     ]
    }
   ],
   "source": [
    "optimal_distance = 3130  # Оптимальное расстояние с точки зрения износа самоката\n",
    "\n",
    "alpha = 0.05 # уровень статистической значимости\n",
    "\n",
    "results = st.ttest_1samp(go_ultra['distance'], optimal_distance, alternative='less')\n",
    "\n",
    "print('p-значение:', results.pvalue)\n",
    "\n",
    "if results.pvalue < alpha: \n",
    "    print('Отвергаем нулевую гипотезу: среднее расстояние значимо меньше оптимального')\n",
    "else:\n",
    "    print('Не получилось отвергнуть нулевую гипотезу: среднее расстояние НЕ меньше оптимального')"
   ]
  },
  {
   "cell_type": "markdown",
   "id": "8b59e40b",
   "metadata": {
    "scrolled": true
   },
   "source": [
    "Вывод:\n",
    "\n",
    "В ответ на поставленный вопрос о проверке гипотезы,       \n",
    "что расстояние, которое проезжают пользователи с подпиской за одну поездку, не превышает 3130 метров — оптимальное с точки зрения износа самоката        \n",
    "можно утверждать:     \n",
    "Эта гипотеза статистически значимо подтверждается ( в смысле не опровергается).       \n",
    "Более того, можно утверждать, что среднее расстояние, которое проезжают пользователи с подпиской за одну поездку, не только не превышает оптимальное, но и очень близко к нему. "
   ]
  },
  {
   "cell_type": "markdown",
   "id": "bd73c5c4",
   "metadata": {},
   "source": [
    "### 6.3. Проверить гипотезу о том, будет ли помесячная выручка от пользователей с подпиской по месяцам выше, чем выручка от пользователей без подписки."
   ]
  },
  {
   "cell_type": "markdown",
   "id": "0a82d5bc",
   "metadata": {},
   "source": [
    "\n"
   ]
  },
  {
   "cell_type": "markdown",
   "id": "e0a0c550",
   "metadata": {},
   "source": [
    "Аггрегированн данные ( включая месячную выручку ) для клиентов обеих категорий ( обладателей подписки \"ultra\" и разовых пользователей без подписки ) мы выделяли в отдельные датафреймы go_ultra_aggr и go_free_aggr.      \n",
    "Для работы с данными о месячной выручке нас интересует столюец 'revenue' в этих датафреймах.      \n",
    "\n",
    "Попробуем проверить гипотезу о том, что средняя выручка для категории подписчиков равна средней выручке для категории разовах пользователей с односторонней альтернативной гипотезой, что выручка для категории подписчиков больше средней выручке для категории разовах пользователей.      \n",
    "Так же, как и с длительностью поездки будем считать, что клиенты обеих категорий абсолютно независимы друг от друга. \n",
    "\n",
    "Сначала посмотрим насколько данные столбца 'revenue' в выборках go_ultra_aggr go_free_aggr отличаются по статитическим параметрам"
   ]
  },
  {
   "cell_type": "code",
   "execution_count": 96,
   "id": "dda0e18c",
   "metadata": {},
   "outputs": [
    {
     "data": {
      "text/plain": [
       "count    4533.000000\n",
       "mean      362.792191\n",
       "std        88.262737\n",
       "min       223.000000\n",
       "25%       301.000000\n",
       "50%       337.000000\n",
       "75%       409.000000\n",
       "max       955.000000\n",
       "Name: revenue, dtype: float64"
      ]
     },
     "execution_count": 96,
     "metadata": {},
     "output_type": "execute_result"
    }
   ],
   "source": [
    "go_ultra_aggr['revenue'].describe()"
   ]
  },
  {
   "cell_type": "code",
   "execution_count": 97,
   "id": "2a45b5b4",
   "metadata": {},
   "outputs": [
    {
     "data": {
      "text/plain": [
       "count    6798.000000\n",
       "mean      328.641365\n",
       "std       183.868330\n",
       "min        58.000000\n",
       "25%       194.000000\n",
       "50%       274.000000\n",
       "75%       428.000000\n",
       "max      1444.000000\n",
       "Name: revenue, dtype: float64"
      ]
     },
     "execution_count": 97,
     "metadata": {},
     "output_type": "execute_result"
    }
   ],
   "source": [
    "go_free_aggr['revenue'].describe()"
   ]
  },
  {
   "cell_type": "markdown",
   "id": "4d5243c1",
   "metadata": {},
   "source": [
    "Выборки значительно отличаются и по размеру и по величине стандартного отклонения. Это нужно иметь ввиду."
   ]
  },
  {
   "cell_type": "markdown",
   "id": "cfeeeade",
   "metadata": {},
   "source": [
    "Применим функцию st.ttest_ind() для столбцов 'revenue' датафреймов array_1 = go_ultra_aggr (подписчики) и array_1 = go_free_aggr (пользователи без подписки).\n",
    "При этом, поскольку go_ultra_aggr идет первым массивом, а альтернативная гипотеза у нас, что среднее у go_ultra_aggr больше - параметр alternative выставим в положение 'greater'.       \n",
    "Поскольку, как мы только что проверили, параметры выборок заметно отличаются и по размеру и по стандартному отклонению - параметр equal_var поставим равным False.      \n",
    "Уровень статистической значимости alpha возьмем равным 5%. Если р-значение на выходе теста будет меньше нее, то гипотеза о равенстве средних будет отвергнута в пользу гипотезы о том, что средняя выручка для категории подписчиков больше средней выручки для категории разовах пользователей."
   ]
  },
  {
   "cell_type": "code",
   "execution_count": 98,
   "id": "d8ac20ab",
   "metadata": {},
   "outputs": [
    {
     "name": "stdout",
     "output_type": "stream",
     "text": [
      "p-значение: 8.874140893976874e-40\n",
      "Отвергаем нулевую гипотезу: выручка от подписчиков больше выручки от разовах пользователей\n"
     ]
    }
   ],
   "source": [
    "alpha = 0.05\n",
    "\n",
    "results = st.ttest_ind( go_ultra_aggr['revenue'], go_free_aggr['revenue'], equal_var = False, alternative = 'greater')\n",
    "\n",
    "print('p-значение:', results.pvalue)\n",
    "\n",
    "if results.pvalue < alpha:\n",
    "    print('Отвергаем нулевую гипотезу: выручка от подписчиков больше выручки от разовах пользователей')\n",
    "else:\n",
    "    print('Не получилось отвергнуть нулевую гипотезу: выручка от подписчиков НЕ больше чем от разовах пользователей')"
   ]
  },
  {
   "cell_type": "markdown",
   "id": "a66f7ecf",
   "metadata": {
    "scrolled": true
   },
   "source": [
    "Вывод:\n",
    "\n",
    "В ответ на поставленный вопрос о том,      \n",
    "будет ли помесячная выручка от пользователей с подпиской по месяцам выше, чем выручка от пользователей без подписки      \n",
    "можно утверждать:     \n",
    "Эта гипотеза статистически значимо подтверждается ( в смысле не опровергается ): выручка от подписчиков действительно больше выручки от разовах пользователей. "
   ]
  },
  {
   "cell_type": "markdown",
   "id": "f187b153",
   "metadata": {},
   "source": [
    "  "
   ]
  },
  {
   "cell_type": "markdown",
   "id": "22e7e598",
   "metadata": {},
   "source": [
    "### 6.4. Представьте такую ситуацию: техническая команда сервиса обновила сервера, с которыми взаимодействует мобильное приложение. Она надеется, что из-за этого количество обращений в техподдержку значимо снизилось. Некоторый файл содержит для каждого пользователя данные о количестве обращений до обновления и после него. Какой тест понадобился бы для проверки этой гипотезы?"
   ]
  },
  {
   "cell_type": "markdown",
   "id": "978ebfb1",
   "metadata": {},
   "source": [
    "По моему мнению в данном случае  генеральная совокупность остается одной и той же: клиенты одни и те же, процесс один и тот же, суть обращений тоже практически одна и та же, меняется только ряд технических условий. Получается, что выборки могут считаться зависимыми.     \n",
    "Поскольку это так - то нужно применять st.ttest_rel() с именами выборок (столбцов по всей видимости) обращений \"до\" и \"после\" в качестве аргументов."
   ]
  },
  {
   "cell_type": "markdown",
   "id": "addcaa56",
   "metadata": {},
   "source": [
    "\n"
   ]
  },
  {
   "cell_type": "markdown",
   "id": "1c8602e7",
   "metadata": {},
   "source": [
    "### Общие выводы:\n",
    "\n",
    "##### Были проанализированы данные сервиса аренды самокатов GoFast:     \n",
    "набор данных о 1534 пользователях из 8 городов включая данные о возрасте клиента и наличии у него подписки;       \n",
    "данные о используемых ими подписках и тарифах: подписка \"ультра\" и разовые поездки с конкретными параметрами тарифов на поездки для этих категоррий;    \n",
    "а также      \n",
    "данные о 18068 конкретных поездках пользователей: данные о количестве поездок, показатели дальности и длительности каждой поездки с указанием даты. \n",
    "\n",
    "Данные были предствлены в трех датасетах. В целом представленная выборка была полна и репрезентетивна. Пропусков нестыковок и возможных ошибок не выявлено. Было выявлено 31 дубликат данных о клиентах, эти дубликаты были устранены. \n",
    "\n",
    "Для удобства анализа датафреймы были объединены в один и в этом объединенном датафрейме были созданы столбцы с месяцем поездки и с количеством поездок и данные в нем были отсортированы по месяцам и клинетам.\n",
    "\n",
    "##### Были проанализированы параметры распределения клиентов в выборке по городам. Было выявлено следующее:    \n",
    "1. Киенты распределены по восьми городам довольно ровно: в среднем по 191-192 человека в каждом.      \n",
    "2. Максимальное количество клиентов в Пятигорске - 219, минимальное как ни удивительно - в Москве - 168 человек. Стандартный разброс количества клиентов по городам в пределах 10%.\n",
    "\n",
    "##### Было проанализировано количество клиентов в выборке с подпиской и без. Было выявлено, что \n",
    "Из 1534 клиентов компании в восьми городах 699 имеют подписку \"ультра\" и 835 - не имеют подписки.     \n",
    "Поездки клиентов с подпиской \"ультра\" составляют 36% от всех поездок пользователей сервиса ( 6500 из 18068).\n",
    "\n",
    "##### Были проанализированы параметры распределения клиентов в выборке по возростам. Выявлено следующее:       \n",
    "1. Возраст клиентов колеблется от 12 до 43 лет. Средний возраст практически совпадает с медианным и составляет 26 лет.      \n",
    "2. Распределение клиентов по возрастам очень напоминает нормальное распределение. Подавляющаяя масса клиентов сосредоточены в возрастных пределах от 19 (Q1) до 33 (Q3) лет.        \n",
    "3. Максимальное количество клиентов представляют 25-летние - их 145 человек. Минимальное количество - по одному человеку 39-ти и 43-х лет.\n",
    "\n",
    "##### Были проанализированы параметры распределения клиентов в выборке по дальности поездок. Выявлено следующее:        \n",
    "1. Средняя дальность поездки составляет 3070 метров, что очень близко к оптимальной дистанции одной поездки с точки зрения износа самоката (3130 метров). При этом медианное значение равно 3133 метра.       \n",
    "2. Вид распределения дальности поездок действительно очень напоминает наложение двух \"околонормальных распределений\"\n",
    "    - одно - по виду немного скошенное нормальное распределение с \"центром\" около 3200 метров и стандартным отклонением 1024 м.     - и второе тоже по виду маленькое нормальное распределение с центром около 700 метров и стандартным отклонением 447 метров. \n",
    "    Наличие такого рода \"наложения\" может быть объяснением того факта, что медианное знаяение, равное  выше среднего.       \n",
    "3. Минимальное значение расстояния в 0.85 метра (и пол-минуты длительности) соответствует неудачной попытке поехать. Максимальное пройденное за поездку расстояние равно 7,2 км., что в принципе лежит в пределах возможного для города. Однако следует отметить, что дистанции поездок свыше 5 км. встречаются редко, в единичных количествах, суммарное количество таких поездок (свыше 5 км. каждая) - всего 22.       \n",
    "4. Основное отличие между группами клиентов с подпиской и без в том, что распределение дальности поездок для клиентов с подпиской \"ультра\" имеет более выраженный пик и около полутора раз меньшее стандартное отклонение.\n",
    "Это скорее всего объясняется тем, что клиенты оформляющие подписку представляют куда (и соответственно на какое расстояние) они будут есздить на самокате, а распределение расстояний для клиентов без подписки \"более случайное\", то есть имеет большую дисперсию.       \n",
    "5. Максимальная дальность для клиентов с подпиской \"ультра\" существенно меньше, чем для клиентов без подписки (5700 против 7200). Минимальная дистанция для клиентов с подпиской равна 200 метров, а не равна нулю. Это по всей видимости занчит, что подписку оформляют люди, которые уже попробовали ездить на самокате (вполне возможно компании GoFast) и варианта \"попробовал поехать, не получилось - бросил\" у них не бывает.\n",
    "\n",
    "##### Были проанализированы параметры распределения клиентов в выборке по длительности поездок. Выявлено следующее:       \n",
    "1. Длительности поездок хорошо соответствуют дальности поездки - при средней скорости 10.4 км/ч, скорости по всей линейке от нижнего квартиля и до максимума отличаются всего максимум на 0.2 км/ч.       \n",
    "2. Вид распределения длительности поездок очень напоминает классическое \"нормальное\" распределение. Тем не менее в нижней части распределения присутствует выброс, который соответствует аналогичному выбросу, обнаруженному нами на диаграмме расстояний. Это подтверждает нашу гипотезу о том, что что поездки делятся на две отличные друг от друга категории: короткие (до километра) и дальние (от полутора до пяти км.).            \n",
    "3. Минимальное значение длительности в пол-минуты (и расстоянием в 0.85 метра) соответствует неудачной попытке поехать.  Максимальная длительность поездки в 40 минут хорошо соответствует максимальной дальности в 7 км., так же, как и с дляительностями долгих поездок единицы.         \n",
    "4. Распределения для клиентов с подпиской и без принципиально друг от друга и от общего распределения не отличаются и похожи на \"нормальные\". При этом распределение по группе клиентов с подпиской \"ультра\" ниже по пику и примерно пропорционально ниже по стандартному отклонению. С несколько более высоким средним и медианой (21.5 минуты против 17.5): похоже подписчики ездят немного более спокойно, нежели \"разовые\" пользователи.        \n",
    "5. Максимальная длительность для клиентов с подпиской даже несколько больше (но не значительно), чем для клиентов без подписки (40 минут против 34-х). Минимальная же длительность для клиентов с подпиской равна 3 минутам (против нуля у разовых пользователей), что подтверждает наше предположение, сделанное на основе данных по расстояниям: всей видимости значит, что подписку оформляют люди, которые уже попробовали ездить на самокате.\n",
    "\n",
    "##### Была посчитана ежемесячная выручка сервиса. Выявлено следующее:       \n",
    "1. Средняя выручка на одного клиента в месяц равна 336 рублей; зазброс значений - от 323 до 342 рублей.        \n",
    "2. Средняя общая выручка со всех клиентов в месяц составляет 317752 рубля. Разброс значений - от 285610 до 332290 рублей. \n",
    "\n",
    "##### Было проверено, тратят ли пользователи с подпиской больше времени на поездки. Выявлено следующее:      \n",
    "1. Средняя продолжительность каждой поездки для клиентов с подпиской \"ультра\" больше, чем для пользователей без подписки,    \n",
    "2. Однако средняя суммарная продолжительность всех поездок клиента в месяц для группы клиентов с подпиской \"ультра\" не больше (а на самом деле - меньше), чем чем для группы пользователей без подписки - за счет меньшего количества поездок в месяц.\n",
    "\n",
    "##### Была статистически значимо подтверждена гипотеза      \n",
    "о том, что расстояние, которое проезжают пользователи с подпиской за одну поездку, не превышает 3130 метров - оптимального с точки зрения износа самоката. Более того, можно утверждать, что среднее расстояние, которое проезжают пользователи с подпиской за одну поездку, не только не превышает оптимальное, но и очень близко к нему.\n",
    "\n",
    "##### Так-же была статистически значимо подтверждена гипотеза       \n",
    "о том, что помесячная выручка от пользователей с подпиской по месяцам выше, чем выручка от пользователей без подписки.\n",
    "\n",
    "\n",
    "\n",
    "#### Анализ провел Александр Кийко."
   ]
  },
  {
   "cell_type": "markdown",
   "id": "e5f577ad",
   "metadata": {},
   "source": [
    "<div class=\"alert-success\" style=\"border-radius: 10px; padding: 20px\">\n",
    "<b>Комментарий ревьюера ✔️</b>\n",
    "\n",
    "Хороший вывод, отражающий все основные результаты исследования. 👌\n",
    "\n",
    "</div>"
   ]
  },
  {
   "cell_type": "markdown",
   "id": "fa4b2501",
   "metadata": {},
   "source": [
    "  "
   ]
  },
  {
   "cell_type": "markdown",
   "id": "7e067884",
   "metadata": {},
   "source": [
    "## Шаг 7 (необязательное задание). Распределения"
   ]
  },
  {
   "cell_type": "markdown",
   "id": "fa94095e",
   "metadata": {},
   "source": [
    "### 7.1 Отделу маркетинга GoFast поставили задачу: \n",
    "#### Нужно провести акцию с раздачей промокодов на один бесплатный месяц подписки, в рамках которой как минимум 100 существующих клиентов должны продлить эту подписку. То есть по завершении периода действия подписки пользователь может либо отказаться от неё, либо продлить, совершив соответствующий платёж. \n",
    "#### Эта акция уже проводилась ранее и по итогу выяснилось, что после бесплатного пробного периода подписку продлевают 10 % пользователей. \n",
    "#### Выясните, какое минимальное количество промокодов нужно разослать, чтобы вероятность не выполнить план была примерно 5%. \n",
    "#### Подберите параметры распределения, описывающего эту ситуацию, постройте график распределения и сформулируйте ответ на вопрос о количестве промокодов\n",
    "."
   ]
  },
  {
   "cell_type": "markdown",
   "id": "482a0431",
   "metadata": {},
   "source": [
    "\n"
   ]
  },
  {
   "cell_type": "markdown",
   "id": "96684bae",
   "metadata": {},
   "source": [
    "Прежде всего - относительно того, каким распределением может описываться этот процесс: \n",
    "\n",
    "В поставновке задачи       \n",
    "речь идет о принципиально дискретной случайной величине (количество подписок),      \n",
    "условия и процедура проведения акции одинаковы для всех клиентов (раздаются одинаковые промокоды с одинаковыми условиями продления) и  \n",
    "каждый клиент принимает решение о продлении или непродлении независимо от других клиентов (хотя кто-то из них может общаться между собой и согласовывать свое решение, но мы здесь пренебрежем этими возможностями)       \n",
    "Таким образом получается, что мы имеем дело со счетным количеством одинаковых и независимых друг от друга испытаний Бернулли (продлил/не продлил), а такой прочесс описывается биномиальным распределением, вид которого теоретически задается двумя параметрами - количеством экспериментов и вероятностью одного эксперимента.      \n",
    "В нашем случае вероятность каждого отдельного эксперимента задана извесным из прошлой практики процентом продливших подписку (10%). То есть вероятность \"положительного исхода\" одного эксперимента в нашем случае равна 0,1.   \n",
    "На самом деле нам необходимый вид распределения задается параметрами его \"хвоста\": вероятность, что количество \"положительных исходов\" в серии будет меньше 100 должна быть равно ~ 5%. При этом эта вероятность будет плавно снижаться от 1 до заданных 5% по мере роста количеством экспериментов и \"перевалит\" через 5% в сторону понижения.   \n",
    "Количество же экспериментов (т.е. длину серии ) необходимое для выполнения условия, задающего вид распределения - нам необходимо найти.     \n",
    "\n",
    "Таким образом задачу можно сформулировать так: для биномиального распределения найти минимальное n = Nmin ( по всей видимости перебирая n от 1 и выше  и взяв первое удовлетворяющее условию) такое, при котором вероятность того, что в этой серии из n экспериментов произойдет не более 100 успехов будет <= 0.05, при том, что для серии n-1 эта вероятность будет > 0.05. То есть       \n",
    "\n",
    "P =  st.binom.cdf(100,n=Nmin,0.1) <= 0.05 &  st.binom.cdf(100,n=Nmin-1,0.1) > 0.05   \n",
    "\n",
    "Исходя из этого и учитывая, что формулы для \"прямого\" вычисления n очень сложны,  можно предположить, что по всей видимости лучше всего здесь подойдет цикл for, но для него нужен каокй-то ограничитель (верхняя граница перебора). Для  этого ограничим возможное n сверху каким-нибудь разумным ограничением. На наш взгляд разумно предположить, что длина серии в нашем случае должна бы быть по порядку величины - несколько тысяч. По идее длина серии не должна бы превысить 10 тысяч ни при каких разумных обстоятельствах. Возьмем значение количества n=Nmax=10000 за ограничитель количества циклов перебора.  \n",
    "\n",
    "Попробуем"
   ]
  },
  {
   "cell_type": "markdown",
   "id": "9d61a93b",
   "metadata": {},
   "source": [
    "проверим ограничитель"
   ]
  },
  {
   "cell_type": "code",
   "execution_count": 99,
   "id": "fc315e82",
   "metadata": {},
   "outputs": [
    {
     "data": {
      "text/plain": [
       "7.18607920577e-312"
      ]
     },
     "execution_count": 99,
     "metadata": {},
     "output_type": "execute_result"
    }
   ],
   "source": [
    "prob_lim = st.binom.cdf(100,10000,0.1)  # вероятность иметь меньше 100 успехов при количестве экспериментов 10000 \n",
    "                                        # и вероятности успеха одного эксперимента 0.1\n",
    "\n",
    "prob_lim"
   ]
  },
  {
   "cell_type": "markdown",
   "id": "70b0713e",
   "metadata": {},
   "source": [
    "Векроятность крайне мала, значит ограничитель работает.\n",
    "\n",
    "Создадим цикл."
   ]
  },
  {
   "cell_type": "code",
   "execution_count": 100,
   "id": "4de67e24",
   "metadata": {},
   "outputs": [
    {
     "name": "stdout",
     "output_type": "stream",
     "text": [
      "количество необходимых промокодов равно 1172\n"
     ]
    }
   ],
   "source": [
    "prob_each = 0.1 # вероятность успеха каждого эксперимента\n",
    "\n",
    "prob_threshold = 0.05 # заданный порог вероятности\n",
    "\n",
    "num_success = 100 # порог количества успехов\n",
    "\n",
    "num_threshold = 10000 # порог количества экспериментов\n",
    "\n",
    "for n in range(0, num_threshold):\n",
    "    prob_n = st.binom.cdf(100,n,prob_each)\n",
    "    if n == num_threshold:\n",
    "        print( 'количество необходимых промокодов не меньше', n)\n",
    "        break\n",
    "    elif prob_n <= 0.05:\n",
    "        print( 'количество необходимых промокодов равно', n)\n",
    "        break\n",
    "    else:\n",
    "        continue\n"
   ]
  },
  {
   "cell_type": "markdown",
   "id": "30cf13e6",
   "metadata": {},
   "source": [
    "Итак по нашим предположениям необходимо разосталть не менее 1172 промокодов.     \n",
    "Это значение должно быть минимальным, то есть для 1172 промокодов вероятность того, что подписку продлят меньше 100 клиентов будет равна или чуть меньше 5%, а эта же вероятность для 1171 промокода будет чуть выше 5%.\n",
    "\n",
    "На всякий случай проверим."
   ]
  },
  {
   "cell_type": "code",
   "execution_count": 101,
   "id": "436b7bb9",
   "metadata": {},
   "outputs": [
    {
     "name": "stdout",
     "output_type": "stream",
     "text": [
      "0.04954795210203071\n",
      "0.0505235199072141\n"
     ]
    }
   ],
   "source": [
    "print(st.binom.cdf(100,1172,0.1))\n",
    "print(st.binom.cdf(100,1171,0.1))"
   ]
  },
  {
   "cell_type": "markdown",
   "id": "457e7551",
   "metadata": {},
   "source": [
    "Проверка пройдена.  \n",
    "\n",
    "Таким образом минимальное количество промокодов,     \n",
    "которое необходимо разостать, чтобы количество клиентов, продливших подписку после месяца использования промокода в результате не было меньше 100 с вероятностью больше 5%       \n",
    "равно 1172 промокода."
   ]
  },
  {
   "cell_type": "markdown",
   "id": "81b3a3b7",
   "metadata": {},
   "source": [
    "Построим график биномиального распределения для серии из 1172 экспериментов, в которых вероятность успеха каждого равна 10%."
   ]
  },
  {
   "cell_type": "code",
   "execution_count": 102,
   "id": "3d5afbb2",
   "metadata": {},
   "outputs": [
    {
     "name": "stderr",
     "output_type": "stream",
     "text": [
      "/opt/conda/lib/python3.9/site-packages/scipy/stats/_discrete_distns.py:78: RuntimeWarning: divide by zero encountered in _binom_pdf\n",
      "  return _boost._binom_pdf(x, n, p)\n"
     ]
    },
    {
     "data": {
      "image/png": "[encoded data removed]",
      "text/plain": [
       "<Figure size 432x288 with 1 Axes>"
      ]
     },
     "metadata": {
      "needs_background": "light"
     },
     "output_type": "display_data"
    }
   ],
   "source": [
    "n = 1172 # количество попыток\n",
    "p = 0.1 # вероятность успеха\n",
    "\n",
    "distr = []\n",
    "\n",
    "for k in range(0, n+1):\n",
    "    current_value = st.binom.pmf(k, n, p)\n",
    "    distr.append(current_value)\n",
    "    \n",
    "plt.bar(range(0, n+1), distr)\n",
    "plt.xlabel('Количество промокодов')\n",
    "plt.show()"
   ]
  },
  {
   "cell_type": "markdown",
   "id": "46dfa11b",
   "metadata": {},
   "source": [
    "Найдем \"центр\" этого распределения..."
   ]
  },
  {
   "cell_type": "code",
   "execution_count": 103,
   "id": "35dd1142",
   "metadata": {},
   "outputs": [
    {
     "data": {
      "text/plain": [
       "117.2"
      ]
     },
     "execution_count": 103,
     "metadata": {},
     "output_type": "execute_result"
    }
   ],
   "source": [
    "st.binom.mean(1172, 0.1)"
   ]
  },
  {
   "cell_type": "markdown",
   "id": "7b6a9462",
   "metadata": {},
   "source": [
    "... и его стандартное отклонение."
   ]
  },
  {
   "cell_type": "code",
   "execution_count": 104,
   "id": "4773cd39",
   "metadata": {},
   "outputs": [
    {
     "data": {
      "text/plain": [
       "10.270345661174215"
      ]
     },
     "execution_count": 104,
     "metadata": {},
     "output_type": "execute_result"
    }
   ],
   "source": [
    "st.binom.std(1172, 0.1)"
   ]
  },
  {
   "cell_type": "markdown",
   "id": "e22b365d",
   "metadata": {},
   "source": [
    "Видим очень узкое распределение с центром 117.2 и стандартным отклонением в 10.3 "
   ]
  },
  {
   "cell_type": "markdown",
   "id": "f200d4cd",
   "metadata": {},
   "source": [
    "### 7.2 Отдел маркетинга рассылает клиентам push-уведомления в мобильном приложении. Клиенты могут открыть его или не открывать. Известно, что уведомления открывают около 40 % получивших клиентов. Отдел планирует разослать 1 млн уведомлений. С помощью аппроксимации постройте примерный график распределения и оцените вероятность того, что уведомление откроют не более 399,5 тыс. пользователей."
   ]
  },
  {
   "cell_type": "markdown",
   "id": "ee73a681",
   "metadata": {},
   "source": [
    "\n"
   ]
  },
  {
   "cell_type": "markdown",
   "id": "51874cef",
   "metadata": {},
   "source": [
    "В данном случае мы так-же имеем дело с биномиальным распределением,      \n",
    "однако количество экспериментов в нем очень большое и по всей видимости в этом случае лучше сделать аппроксимацию этого биномиального распределения нормальным непрерывным распределением.    \n",
    "Чтобы мы могли смело это делать должно выполняться условие: диапазон мат ожидание плюс/минус три сигмы должен лежать внутри промежутка от нуля до n ( в данном случае - миллиона).   \n",
    "\n",
    "Проверим"
   ]
  },
  {
   "cell_type": "code",
   "execution_count": 105,
   "id": "f9ea574d",
   "metadata": {},
   "outputs": [
    {
     "name": "stdout",
     "output_type": "stream",
     "text": [
      "400000.0\n",
      "489.89794855663564\n",
      "398530.0\n",
      "401470.0\n"
     ]
    }
   ],
   "source": [
    "# Запишем параметры нашего распределения\n",
    "n = 1000000\n",
    "p = 0.4\n",
    "\n",
    "mu = n*p\n",
    "sigma = sqrt(n * p * (1 - p))\n",
    "\n",
    "# выведем значения мю плюс минус три сигмы и посмотрим \n",
    "print(mu)\n",
    "print(sigma)\n",
    "print(round( mu - 3*sigma, 0))\n",
    "print(round( mu + 3*sigma, 0))"
   ]
  },
  {
   "cell_type": "markdown",
   "id": "ea7f1e83",
   "metadata": {},
   "source": [
    "Видим, что условие выполняется.      \n",
    "Значит можем делать аппроксимацию нормальным распределением.\n",
    "\n",
    "Построим график этого роспределения."
   ]
  },
  {
   "cell_type": "code",
   "execution_count": 106,
   "id": "5cb684ee",
   "metadata": {},
   "outputs": [
    {
     "data": {
      "image/png": "[encoded data removed]",
      "text/plain": [
       "<Figure size 432x288 with 1 Axes>"
      ]
     },
     "metadata": {
      "needs_background": "light"
     },
     "output_type": "display_data"
    }
   ],
   "source": [
    "# Запишем параметры нашего распределения\n",
    "n = 1000000\n",
    "p = 0.4\n",
    "\n",
    "mu = n*p\n",
    "sigma = sqrt(n * p * (1 - p))\n",
    "\n",
    "# Зададим диапазон значений оси абсцисс для нашего распределения\n",
    "x = np.arange(mu-4*sigma, mu+4*sigma, 1)\n",
    "\n",
    "# Построим график\n",
    "plt.plot(x, st.norm.pdf(x, mu, sigma))\n",
    "plt.show()"
   ]
  },
  {
   "cell_type": "markdown",
   "id": "c117240b",
   "metadata": {},
   "source": [
    "Оценим вероятность того, что уведомление откроют не более 399,5 тыс. пользователей.     \n",
    "Эта вероятность можно оценить как вероятность левого \"хвоста\" аппроксимирующего нормального распределения st.norm(mu, sigma),    а эта вероятность в свою очередь рассчитывается функцией cdf().\n",
    "\n",
    "Проделаем этот расчет."
   ]
  },
  {
   "cell_type": "code",
   "execution_count": 107,
   "id": "9bb04c76",
   "metadata": {},
   "outputs": [
    {
     "data": {
      "text/plain": [
       "0.15371708296369768"
      ]
     },
     "execution_count": 107,
     "metadata": {},
     "output_type": "execute_result"
    }
   ],
   "source": [
    "# Запишем параметры нашего распределения\n",
    "n = 1000000\n",
    "p = 0.4\n",
    "\n",
    "mu = n*p\n",
    "sigma = sqrt(n * p * (1 - p))\n",
    "\n",
    "threshold = 399500\n",
    "\n",
    "# Зададим аппроксимирующее распределени\n",
    "distr = st.norm(mu, sigma)\n",
    "\n",
    "# Вычислим вероятность левого от порога \"хвоста\" этого распределения, это и будет искомая нами вероятность\n",
    "res = distr.cdf(threshold)\n",
    "\n",
    "# Выведем результат\n",
    "res"
   ]
  },
  {
   "cell_type": "markdown",
   "id": "47f6e8bd",
   "metadata": {},
   "source": [
    "Таким образом наша оценка вероятности того, что уведомление откроют не более 399,5 тыс. пользователей равна 15,4%.           "
   ]
  },
  {
   "cell_type": "markdown",
   "id": "9e8f6bd1",
   "metadata": {},
   "source": [
    "  "
   ]
  },
  {
   "cell_type": "markdown",
   "id": "53ac1435",
   "metadata": {},
   "source": [
    " \n",
    "  \n",
    "  "
   ]
  },
  {
   "cell_type": "markdown",
   "id": "2b23580d",
   "metadata": {},
   "source": [
    " "
   ]
  },
  {
   "cell_type": "markdown",
   "id": "afbac62a",
   "metadata": {},
   "source": [
    "#### Проект выполнил Александр Кийко.\n",
    "##### a.m.kiyko@yandex.ru"
   ]
  },
  {
   "cell_type": "markdown",
   "id": "4ef242a0",
   "metadata": {},
   "source": [
    "   "
   ]
  },
  {
   "cell_type": "markdown",
   "id": "6287b83d",
   "metadata": {},
   "source": [
    "<div style=\"border:solid steelblue 3px; padding: 20px; border-radius: 10px\">\n",
    "\n",
    "<h5><b>🏁 Общий комментарий ревьюера:</b></h5>\n",
    "\n",
    "Александр, у тебя получился очень сильный проект, ты очень подробно и правильно выполнил все задания. \n",
    "\n",
    "Отличная работа!👏👏👏 \n",
    "\n",
    "Успехов в дальнейшем обучении! 🏆</div>"
   ]
  }
 ],
 "metadata": {
  "ExecuteTimeLog": [
   {
    "duration": 600,
    "start_time": "2023-10-19T14:05:12.737Z"
   },
   {
    "duration": 16,
    "start_time": "2023-10-19T14:05:13.339Z"
   },
   {
    "duration": 36,
    "start_time": "2023-10-19T14:05:13.357Z"
   },
   {
    "duration": 27,
    "start_time": "2023-10-19T14:05:13.395Z"
   },
   {
    "duration": 50,
    "start_time": "2023-10-19T14:05:13.424Z"
   },
   {
    "duration": 37,
    "start_time": "2023-10-19T14:05:13.476Z"
   },
   {
    "duration": 28,
    "start_time": "2023-10-19T14:05:13.515Z"
   },
   {
    "duration": 37,
    "start_time": "2023-10-19T14:05:13.545Z"
   },
   {
    "duration": 45,
    "start_time": "2023-10-19T14:05:13.584Z"
   },
   {
    "duration": 28,
    "start_time": "2023-10-19T14:05:13.633Z"
   },
   {
    "duration": 38,
    "start_time": "2023-10-19T14:05:13.663Z"
   },
   {
    "duration": 41,
    "start_time": "2023-10-19T14:05:13.702Z"
   },
   {
    "duration": 22,
    "start_time": "2023-10-19T14:05:13.745Z"
   },
   {
    "duration": 525,
    "start_time": "2023-10-19T14:05:13.769Z"
   },
   {
    "duration": 47,
    "start_time": "2023-10-19T14:05:14.296Z"
   },
   {
    "duration": 6,
    "start_time": "2023-10-19T14:05:14.344Z"
   },
   {
    "duration": 45,
    "start_time": "2023-10-19T14:05:14.352Z"
   },
   {
    "duration": 33,
    "start_time": "2023-10-19T14:05:14.399Z"
   },
   {
    "duration": 147,
    "start_time": "2023-10-19T14:05:14.434Z"
   },
   {
    "duration": 42,
    "start_time": "2023-10-19T14:05:14.583Z"
   },
   {
    "duration": 39,
    "start_time": "2023-10-19T14:05:14.626Z"
   },
   {
    "duration": 5,
    "start_time": "2023-10-19T14:05:14.667Z"
   },
   {
    "duration": 50,
    "start_time": "2023-10-19T14:05:14.674Z"
   },
   {
    "duration": 40,
    "start_time": "2023-10-19T14:05:14.725Z"
   },
   {
    "duration": 28,
    "start_time": "2023-10-19T14:05:14.766Z"
   },
   {
    "duration": 37,
    "start_time": "2023-10-19T14:05:14.796Z"
   },
   {
    "duration": 29,
    "start_time": "2023-10-19T14:05:14.835Z"
   },
   {
    "duration": 170,
    "start_time": "2023-10-19T14:05:14.867Z"
   },
   {
    "duration": 56,
    "start_time": "2023-10-19T14:05:15.039Z"
   },
   {
    "duration": 36,
    "start_time": "2023-10-19T14:05:15.097Z"
   },
   {
    "duration": 34,
    "start_time": "2023-10-19T14:05:15.135Z"
   },
   {
    "duration": 161,
    "start_time": "2023-10-19T14:05:15.171Z"
   },
   {
    "duration": 41,
    "start_time": "2023-10-19T14:05:15.334Z"
   },
   {
    "duration": 13,
    "start_time": "2023-10-19T14:05:15.378Z"
   },
   {
    "duration": 81,
    "start_time": "2023-10-19T14:05:15.392Z"
   }
  ],
  "kernelspec": {
   "display_name": "Python 3 (ipykernel)",
   "language": "python",
   "name": "python3"
  },
  "language_info": {
   "codemirror_mode": {
    "name": "ipython",
    "version": 3
   },
   "file_extension": ".py",
   "mimetype": "text/x-python",
   "name": "python",
   "nbconvert_exporter": "python",
   "pygments_lexer": "ipython3",
   "version": "3.11.5"
  },
  "toc": {
   "base_numbering": 1,
   "nav_menu": {},
   "number_sections": true,
   "sideBar": true,
   "skip_h1_title": true,
   "title_cell": "Table of Contents",
   "title_sidebar": "Contents",
   "toc_cell": false,
   "toc_position": {},
   "toc_section_display": true,
   "toc_window_display": true
  }
 },
 "nbformat": 4,
 "nbformat_minor": 5
}
